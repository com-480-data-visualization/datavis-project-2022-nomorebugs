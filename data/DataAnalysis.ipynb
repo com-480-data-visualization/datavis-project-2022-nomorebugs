{
 "cells": [
  {
   "cell_type": "markdown",
   "id": "461f3c96",
   "metadata": {},
   "source": [
    "# Overview\n",
    "We found 4 datasets on kaggle about different aspects related to the MBTI test:\n",
    "1. How the MBTI types are distributed around the world: [MBTI-TYPES Data](https://www.kaggle.com/datasets/yamaerenay/mbtitypes-full)\n",
    "2. Posts by people of different MBTI types: [(MBTI) Myers-Briggs Personality Type Dataset](https://www.kaggle.com/datasets/datasnaek/mbti-type)\n",
    "3. MBTI types of movie charaters: [Movie Character MBTI Dataset](https://www.kaggle.com/datasets/subinium/movie-character-mbti-dataset)\n",
    "4. MBTI types and birthdays: [MBTI and Birthdays](https://www.kaggle.com/datasets/dakotagravitt/mbti-and-birthdays)\n",
    "\n",
    "First, we plan to perform an analysis on these datasets to see if they can be used for visualization."
   ]
  },
  {
   "cell_type": "code",
   "execution_count": 1,
   "id": "63f023f7",
   "metadata": {},
   "outputs": [],
   "source": [
    "import pandas as pd\n",
    "import plotly.express as px"
   ]
  },
  {
   "cell_type": "markdown",
   "id": "ff914861",
   "metadata": {},
   "source": [
    "# Distribution dataset\n",
    "This dataset contains 2 files:\n",
    "\n",
    "1. countries.csv: compares distribution of MBTI-Types in 158 countries\n",
    "2. types.csv: contains following information:\n",
    "    - Type: type (as index)\n",
    "    - Description: a to-the-point description of type\n",
    "    - Nickname: nickname associated with personality\n",
    "    - Definition: a formal definition of type\n",
    "    - Celebrities: celebrities of that type\n",
    "    - E/I/T/F/S/N/J/P: abbreviation of features like \"extroverted\", \"sensing\", \"judgmental\" etc.\n",
    "    - and other features like strengths and weaknesses, romantic relationships…\n",
    "    \n",
    "We are only interested in the first one."
   ]
  },
  {
   "cell_type": "code",
   "execution_count": 2,
   "id": "d9a52468",
   "metadata": {},
   "outputs": [
    {
     "name": "stdout",
     "output_type": "stream",
     "text": [
      "<class 'pandas.core.frame.DataFrame'>\n",
      "RangeIndex: 158 entries, 0 to 157\n",
      "Data columns (total 33 columns):\n",
      " #   Column   Non-Null Count  Dtype  \n",
      "---  ------   --------------  -----  \n",
      " 0   Country  158 non-null    object \n",
      " 1   ESTJ-A   158 non-null    float64\n",
      " 2   ESFJ-A   158 non-null    float64\n",
      " 3   INFP-T   158 non-null    float64\n",
      " 4   ESFJ-T   158 non-null    float64\n",
      " 5   ENFP-T   158 non-null    float64\n",
      " 6   ENFP-A   158 non-null    float64\n",
      " 7   ESTJ-T   158 non-null    float64\n",
      " 8   ISFJ-T   158 non-null    float64\n",
      " 9   ENFJ-A   158 non-null    float64\n",
      " 10  ESTP-A   158 non-null    float64\n",
      " 11  ISTJ-A   158 non-null    float64\n",
      " 12  INTP-T   158 non-null    float64\n",
      " 13  INFJ-T   158 non-null    float64\n",
      " 14  ISFP-T   158 non-null    float64\n",
      " 15  ENTJ-A   158 non-null    float64\n",
      " 16  ESTP-T   158 non-null    float64\n",
      " 17  ISTJ-T   158 non-null    float64\n",
      " 18  ESFP-T   158 non-null    float64\n",
      " 19  ENTP-A   158 non-null    float64\n",
      " 20  ESFP-A   158 non-null    float64\n",
      " 21  INTJ-T   158 non-null    float64\n",
      " 22  ISFJ-A   158 non-null    float64\n",
      " 23  INTP-A   158 non-null    float64\n",
      " 24  ENTP-T   158 non-null    float64\n",
      " 25  ISTP-T   158 non-null    float64\n",
      " 26  ENTJ-T   158 non-null    float64\n",
      " 27  ISTP-A   158 non-null    float64\n",
      " 28  INFP-A   158 non-null    float64\n",
      " 29  ENFJ-T   158 non-null    float64\n",
      " 30  INTJ-A   158 non-null    float64\n",
      " 31  ISFP-A   158 non-null    float64\n",
      " 32  INFJ-A   158 non-null    float64\n",
      "dtypes: float64(32), object(1)\n",
      "memory usage: 40.9+ KB\n"
     ]
    }
   ],
   "source": [
    "distribution_df = pd.read_csv('distribution/countries.csv')\n",
    "distribution_df.info()"
   ]
  },
  {
   "cell_type": "code",
   "execution_count": 8,
   "id": "2091fbbc",
   "metadata": {},
   "outputs": [
    {
     "data": {
      "application/vnd.plotly.v1+json": {
       "config": {
        "plotlyServerURL": "https://plot.ly"
       },
       "data": [
        {
         "colorscale": [
          [
           0,
           "#636efa"
          ],
          [
           1,
           "#636efa"
          ]
         ],
         "geo": "geo",
         "hovertemplate": "common=ESTJ-A<br>Country=%{location}<extra></extra>",
         "locationmode": "country names",
         "locations": [
          "Afghanistan",
          "Congo",
          "Congo (Kinshasa)",
          "Uzbekistan"
         ],
         "name": "ESTJ-A",
         "showlegend": true,
         "showscale": false,
         "type": "choropleth",
         "z": [
          1,
          1,
          1,
          1
         ]
        },
        {
         "colorscale": [
          [
           0,
           "#EF553B"
          ],
          [
           1,
           "#EF553B"
          ]
         ],
         "geo": "geo",
         "hovertemplate": "common=INFP-T<br>Country=%{location}<extra></extra>",
         "locationmode": "country names",
         "locations": [
          "Albania",
          "Algeria",
          "Andorra",
          "Antigua and Barbuda",
          "Argentina",
          "Armenia",
          "Australia",
          "Austria",
          "Azerbaijan",
          "Bahamas",
          "Bahrain",
          "Bangladesh",
          "Barbados",
          "Belarus",
          "Belgium",
          "Belize",
          "Bhutan",
          "Bosnia and Herzegovina",
          "Botswana",
          "Brazil",
          "Brunei",
          "Bulgaria",
          "Cambodia",
          "Canada",
          "Chile",
          "China",
          "Colombia",
          "Costa Rica",
          "Croatia",
          "Cyprus",
          "Czech Republic",
          "Denmark",
          "Dominica",
          "Dominican Republic",
          "Ecuador",
          "Egypt",
          "El Salvador",
          "Estonia",
          "Ethiopia",
          "Faroe Islands",
          "Fiji",
          "Finland",
          "France",
          "Georgia",
          "Germany",
          "Greece",
          "Grenada",
          "Guatemala",
          "Guinea",
          "Guyana",
          "Honduras",
          "Hungary",
          "Iceland",
          "India",
          "Indonesia",
          "Iraq",
          "Ireland",
          "Israel",
          "Italy",
          "Jamaica",
          "Japan",
          "Jordan",
          "Kazakhstan",
          "Kenya",
          "Kuwait",
          "Kyrgyzstan",
          "Laos",
          "Latvia",
          "Lesotho",
          "Libya",
          "Lithuania",
          "Luxembourg",
          "Madagascar",
          "Malawi",
          "Malaysia",
          "Maldives",
          "Malta",
          "Mauritius",
          "Mexico",
          "Mongolia",
          "Montenegro",
          "Morocco",
          "Myanmar",
          "Namibia",
          "Nepal",
          "Netherlands",
          "New Zealand",
          "Macedonia",
          "Norway",
          "Oman",
          "Pakistan",
          "Panama",
          "Papua New Guinea",
          "Paraguay",
          "Peru",
          "Philippines",
          "Poland",
          "Portugal",
          "Qatar",
          "South Korea",
          "Moldova",
          "Romania",
          "Russia",
          "Saint Kitts and Nevis",
          "Saint Lucia",
          "Saint Vincent and the Grenadines",
          "Saudi Arabia",
          "Senegal",
          "Serbia",
          "Seychelles",
          "Singapore",
          "Slovakia",
          "Slovenia",
          "South Africa",
          "Spain",
          "Sri Lanka",
          "Sudan",
          "Suriname",
          "Sweden",
          "Switzerland",
          "Syria",
          "Tajikistan",
          "Thailand",
          "Trinidad and Tobago",
          "Tunisia",
          "Turkey",
          "Ukraine",
          "United Arab Emirates",
          "United Kingdom",
          "Tanzania",
          "United States",
          "Uruguay",
          "Vanuatu",
          "Vietnam",
          "Yemen",
          "Zimbabwe"
         ],
         "name": "INFP-T",
         "showlegend": true,
         "showscale": false,
         "type": "choropleth",
         "z": [
          1,
          1,
          1,
          1,
          1,
          1,
          1,
          1,
          1,
          1,
          1,
          1,
          1,
          1,
          1,
          1,
          1,
          1,
          1,
          1,
          1,
          1,
          1,
          1,
          1,
          1,
          1,
          1,
          1,
          1,
          1,
          1,
          1,
          1,
          1,
          1,
          1,
          1,
          1,
          1,
          1,
          1,
          1,
          1,
          1,
          1,
          1,
          1,
          1,
          1,
          1,
          1,
          1,
          1,
          1,
          1,
          1,
          1,
          1,
          1,
          1,
          1,
          1,
          1,
          1,
          1,
          1,
          1,
          1,
          1,
          1,
          1,
          1,
          1,
          1,
          1,
          1,
          1,
          1,
          1,
          1,
          1,
          1,
          1,
          1,
          1,
          1,
          1,
          1,
          1,
          1,
          1,
          1,
          1,
          1,
          1,
          1,
          1,
          1,
          1,
          1,
          1,
          1,
          1,
          1,
          1,
          1,
          1,
          1,
          1,
          1,
          1,
          1,
          1,
          1,
          1,
          1,
          1,
          1,
          1,
          1,
          1,
          1,
          1,
          1,
          1,
          1,
          1,
          1,
          1,
          1,
          1,
          1,
          1,
          1,
          1
         ]
        },
        {
         "colorscale": [
          [
           0,
           "#00cc96"
          ],
          [
           1,
           "#00cc96"
          ]
         ],
         "geo": "geo",
         "hovertemplate": "common=ESFJ-A<br>Country=%{location}<extra></extra>",
         "locationmode": "country names",
         "locations": [
          "Angola",
          "Cameroon",
          "Djibouti",
          "Ghana",
          "Mali",
          "Nicaragua",
          "Niger",
          "Nigeria",
          "Rwanda",
          "Somalia",
          "Uganda",
          "Zambia"
         ],
         "name": "ESFJ-A",
         "showlegend": true,
         "showscale": false,
         "type": "choropleth",
         "z": [
          1,
          1,
          1,
          1,
          1,
          1,
          1,
          1,
          1,
          1,
          1,
          1
         ]
        },
        {
         "colorscale": [
          [
           0,
           "#ab63fa"
          ],
          [
           1,
           "#ab63fa"
          ]
         ],
         "geo": "geo",
         "hovertemplate": "common=ENFP-T<br>Country=%{location}<extra></extra>",
         "locationmode": "country names",
         "locations": [
          "Burkina Faso",
          "Cuba",
          "Haiti",
          "Lebanon",
          "Monaco",
          "Mozambique"
         ],
         "name": "ENFP-T",
         "showlegend": true,
         "showscale": false,
         "type": "choropleth",
         "z": [
          1,
          1,
          1,
          1,
          1,
          1
         ]
        }
       ],
       "layout": {
        "geo": {
         "center": {},
         "domain": {
          "x": [
           0,
           1
          ],
          "y": [
           0,
           1
          ]
         },
         "projection": {
          "type": "natural earth"
         }
        },
        "legend": {
         "title": {
          "text": "common"
         },
         "tracegroupgap": 0
        },
        "margin": {
         "t": 60
        },
        "template": {
         "data": {
          "bar": [
           {
            "error_x": {
             "color": "#2a3f5f"
            },
            "error_y": {
             "color": "#2a3f5f"
            },
            "marker": {
             "line": {
              "color": "#E5ECF6",
              "width": 0.5
             },
             "pattern": {
              "fillmode": "overlay",
              "size": 10,
              "solidity": 0.2
             }
            },
            "type": "bar"
           }
          ],
          "barpolar": [
           {
            "marker": {
             "line": {
              "color": "#E5ECF6",
              "width": 0.5
             },
             "pattern": {
              "fillmode": "overlay",
              "size": 10,
              "solidity": 0.2
             }
            },
            "type": "barpolar"
           }
          ],
          "carpet": [
           {
            "aaxis": {
             "endlinecolor": "#2a3f5f",
             "gridcolor": "white",
             "linecolor": "white",
             "minorgridcolor": "white",
             "startlinecolor": "#2a3f5f"
            },
            "baxis": {
             "endlinecolor": "#2a3f5f",
             "gridcolor": "white",
             "linecolor": "white",
             "minorgridcolor": "white",
             "startlinecolor": "#2a3f5f"
            },
            "type": "carpet"
           }
          ],
          "choropleth": [
           {
            "colorbar": {
             "outlinewidth": 0,
             "ticks": ""
            },
            "type": "choropleth"
           }
          ],
          "contour": [
           {
            "colorbar": {
             "outlinewidth": 0,
             "ticks": ""
            },
            "colorscale": [
             [
              0,
              "#0d0887"
             ],
             [
              0.1111111111111111,
              "#46039f"
             ],
             [
              0.2222222222222222,
              "#7201a8"
             ],
             [
              0.3333333333333333,
              "#9c179e"
             ],
             [
              0.4444444444444444,
              "#bd3786"
             ],
             [
              0.5555555555555556,
              "#d8576b"
             ],
             [
              0.6666666666666666,
              "#ed7953"
             ],
             [
              0.7777777777777778,
              "#fb9f3a"
             ],
             [
              0.8888888888888888,
              "#fdca26"
             ],
             [
              1,
              "#f0f921"
             ]
            ],
            "type": "contour"
           }
          ],
          "contourcarpet": [
           {
            "colorbar": {
             "outlinewidth": 0,
             "ticks": ""
            },
            "type": "contourcarpet"
           }
          ],
          "heatmap": [
           {
            "colorbar": {
             "outlinewidth": 0,
             "ticks": ""
            },
            "colorscale": [
             [
              0,
              "#0d0887"
             ],
             [
              0.1111111111111111,
              "#46039f"
             ],
             [
              0.2222222222222222,
              "#7201a8"
             ],
             [
              0.3333333333333333,
              "#9c179e"
             ],
             [
              0.4444444444444444,
              "#bd3786"
             ],
             [
              0.5555555555555556,
              "#d8576b"
             ],
             [
              0.6666666666666666,
              "#ed7953"
             ],
             [
              0.7777777777777778,
              "#fb9f3a"
             ],
             [
              0.8888888888888888,
              "#fdca26"
             ],
             [
              1,
              "#f0f921"
             ]
            ],
            "type": "heatmap"
           }
          ],
          "heatmapgl": [
           {
            "colorbar": {
             "outlinewidth": 0,
             "ticks": ""
            },
            "colorscale": [
             [
              0,
              "#0d0887"
             ],
             [
              0.1111111111111111,
              "#46039f"
             ],
             [
              0.2222222222222222,
              "#7201a8"
             ],
             [
              0.3333333333333333,
              "#9c179e"
             ],
             [
              0.4444444444444444,
              "#bd3786"
             ],
             [
              0.5555555555555556,
              "#d8576b"
             ],
             [
              0.6666666666666666,
              "#ed7953"
             ],
             [
              0.7777777777777778,
              "#fb9f3a"
             ],
             [
              0.8888888888888888,
              "#fdca26"
             ],
             [
              1,
              "#f0f921"
             ]
            ],
            "type": "heatmapgl"
           }
          ],
          "histogram": [
           {
            "marker": {
             "pattern": {
              "fillmode": "overlay",
              "size": 10,
              "solidity": 0.2
             }
            },
            "type": "histogram"
           }
          ],
          "histogram2d": [
           {
            "colorbar": {
             "outlinewidth": 0,
             "ticks": ""
            },
            "colorscale": [
             [
              0,
              "#0d0887"
             ],
             [
              0.1111111111111111,
              "#46039f"
             ],
             [
              0.2222222222222222,
              "#7201a8"
             ],
             [
              0.3333333333333333,
              "#9c179e"
             ],
             [
              0.4444444444444444,
              "#bd3786"
             ],
             [
              0.5555555555555556,
              "#d8576b"
             ],
             [
              0.6666666666666666,
              "#ed7953"
             ],
             [
              0.7777777777777778,
              "#fb9f3a"
             ],
             [
              0.8888888888888888,
              "#fdca26"
             ],
             [
              1,
              "#f0f921"
             ]
            ],
            "type": "histogram2d"
           }
          ],
          "histogram2dcontour": [
           {
            "colorbar": {
             "outlinewidth": 0,
             "ticks": ""
            },
            "colorscale": [
             [
              0,
              "#0d0887"
             ],
             [
              0.1111111111111111,
              "#46039f"
             ],
             [
              0.2222222222222222,
              "#7201a8"
             ],
             [
              0.3333333333333333,
              "#9c179e"
             ],
             [
              0.4444444444444444,
              "#bd3786"
             ],
             [
              0.5555555555555556,
              "#d8576b"
             ],
             [
              0.6666666666666666,
              "#ed7953"
             ],
             [
              0.7777777777777778,
              "#fb9f3a"
             ],
             [
              0.8888888888888888,
              "#fdca26"
             ],
             [
              1,
              "#f0f921"
             ]
            ],
            "type": "histogram2dcontour"
           }
          ],
          "mesh3d": [
           {
            "colorbar": {
             "outlinewidth": 0,
             "ticks": ""
            },
            "type": "mesh3d"
           }
          ],
          "parcoords": [
           {
            "line": {
             "colorbar": {
              "outlinewidth": 0,
              "ticks": ""
             }
            },
            "type": "parcoords"
           }
          ],
          "pie": [
           {
            "automargin": true,
            "type": "pie"
           }
          ],
          "scatter": [
           {
            "marker": {
             "colorbar": {
              "outlinewidth": 0,
              "ticks": ""
             }
            },
            "type": "scatter"
           }
          ],
          "scatter3d": [
           {
            "line": {
             "colorbar": {
              "outlinewidth": 0,
              "ticks": ""
             }
            },
            "marker": {
             "colorbar": {
              "outlinewidth": 0,
              "ticks": ""
             }
            },
            "type": "scatter3d"
           }
          ],
          "scattercarpet": [
           {
            "marker": {
             "colorbar": {
              "outlinewidth": 0,
              "ticks": ""
             }
            },
            "type": "scattercarpet"
           }
          ],
          "scattergeo": [
           {
            "marker": {
             "colorbar": {
              "outlinewidth": 0,
              "ticks": ""
             }
            },
            "type": "scattergeo"
           }
          ],
          "scattergl": [
           {
            "marker": {
             "colorbar": {
              "outlinewidth": 0,
              "ticks": ""
             }
            },
            "type": "scattergl"
           }
          ],
          "scattermapbox": [
           {
            "marker": {
             "colorbar": {
              "outlinewidth": 0,
              "ticks": ""
             }
            },
            "type": "scattermapbox"
           }
          ],
          "scatterpolar": [
           {
            "marker": {
             "colorbar": {
              "outlinewidth": 0,
              "ticks": ""
             }
            },
            "type": "scatterpolar"
           }
          ],
          "scatterpolargl": [
           {
            "marker": {
             "colorbar": {
              "outlinewidth": 0,
              "ticks": ""
             }
            },
            "type": "scatterpolargl"
           }
          ],
          "scatterternary": [
           {
            "marker": {
             "colorbar": {
              "outlinewidth": 0,
              "ticks": ""
             }
            },
            "type": "scatterternary"
           }
          ],
          "surface": [
           {
            "colorbar": {
             "outlinewidth": 0,
             "ticks": ""
            },
            "colorscale": [
             [
              0,
              "#0d0887"
             ],
             [
              0.1111111111111111,
              "#46039f"
             ],
             [
              0.2222222222222222,
              "#7201a8"
             ],
             [
              0.3333333333333333,
              "#9c179e"
             ],
             [
              0.4444444444444444,
              "#bd3786"
             ],
             [
              0.5555555555555556,
              "#d8576b"
             ],
             [
              0.6666666666666666,
              "#ed7953"
             ],
             [
              0.7777777777777778,
              "#fb9f3a"
             ],
             [
              0.8888888888888888,
              "#fdca26"
             ],
             [
              1,
              "#f0f921"
             ]
            ],
            "type": "surface"
           }
          ],
          "table": [
           {
            "cells": {
             "fill": {
              "color": "#EBF0F8"
             },
             "line": {
              "color": "white"
             }
            },
            "header": {
             "fill": {
              "color": "#C8D4E3"
             },
             "line": {
              "color": "white"
             }
            },
            "type": "table"
           }
          ]
         },
         "layout": {
          "annotationdefaults": {
           "arrowcolor": "#2a3f5f",
           "arrowhead": 0,
           "arrowwidth": 1
          },
          "autotypenumbers": "strict",
          "coloraxis": {
           "colorbar": {
            "outlinewidth": 0,
            "ticks": ""
           }
          },
          "colorscale": {
           "diverging": [
            [
             0,
             "#8e0152"
            ],
            [
             0.1,
             "#c51b7d"
            ],
            [
             0.2,
             "#de77ae"
            ],
            [
             0.3,
             "#f1b6da"
            ],
            [
             0.4,
             "#fde0ef"
            ],
            [
             0.5,
             "#f7f7f7"
            ],
            [
             0.6,
             "#e6f5d0"
            ],
            [
             0.7,
             "#b8e186"
            ],
            [
             0.8,
             "#7fbc41"
            ],
            [
             0.9,
             "#4d9221"
            ],
            [
             1,
             "#276419"
            ]
           ],
           "sequential": [
            [
             0,
             "#0d0887"
            ],
            [
             0.1111111111111111,
             "#46039f"
            ],
            [
             0.2222222222222222,
             "#7201a8"
            ],
            [
             0.3333333333333333,
             "#9c179e"
            ],
            [
             0.4444444444444444,
             "#bd3786"
            ],
            [
             0.5555555555555556,
             "#d8576b"
            ],
            [
             0.6666666666666666,
             "#ed7953"
            ],
            [
             0.7777777777777778,
             "#fb9f3a"
            ],
            [
             0.8888888888888888,
             "#fdca26"
            ],
            [
             1,
             "#f0f921"
            ]
           ],
           "sequentialminus": [
            [
             0,
             "#0d0887"
            ],
            [
             0.1111111111111111,
             "#46039f"
            ],
            [
             0.2222222222222222,
             "#7201a8"
            ],
            [
             0.3333333333333333,
             "#9c179e"
            ],
            [
             0.4444444444444444,
             "#bd3786"
            ],
            [
             0.5555555555555556,
             "#d8576b"
            ],
            [
             0.6666666666666666,
             "#ed7953"
            ],
            [
             0.7777777777777778,
             "#fb9f3a"
            ],
            [
             0.8888888888888888,
             "#fdca26"
            ],
            [
             1,
             "#f0f921"
            ]
           ]
          },
          "colorway": [
           "#636efa",
           "#EF553B",
           "#00cc96",
           "#ab63fa",
           "#FFA15A",
           "#19d3f3",
           "#FF6692",
           "#B6E880",
           "#FF97FF",
           "#FECB52"
          ],
          "font": {
           "color": "#2a3f5f"
          },
          "geo": {
           "bgcolor": "white",
           "lakecolor": "white",
           "landcolor": "#E5ECF6",
           "showlakes": true,
           "showland": true,
           "subunitcolor": "white"
          },
          "hoverlabel": {
           "align": "left"
          },
          "hovermode": "closest",
          "mapbox": {
           "style": "light"
          },
          "paper_bgcolor": "white",
          "plot_bgcolor": "#E5ECF6",
          "polar": {
           "angularaxis": {
            "gridcolor": "white",
            "linecolor": "white",
            "ticks": ""
           },
           "bgcolor": "#E5ECF6",
           "radialaxis": {
            "gridcolor": "white",
            "linecolor": "white",
            "ticks": ""
           }
          },
          "scene": {
           "xaxis": {
            "backgroundcolor": "#E5ECF6",
            "gridcolor": "white",
            "gridwidth": 2,
            "linecolor": "white",
            "showbackground": true,
            "ticks": "",
            "zerolinecolor": "white"
           },
           "yaxis": {
            "backgroundcolor": "#E5ECF6",
            "gridcolor": "white",
            "gridwidth": 2,
            "linecolor": "white",
            "showbackground": true,
            "ticks": "",
            "zerolinecolor": "white"
           },
           "zaxis": {
            "backgroundcolor": "#E5ECF6",
            "gridcolor": "white",
            "gridwidth": 2,
            "linecolor": "white",
            "showbackground": true,
            "ticks": "",
            "zerolinecolor": "white"
           }
          },
          "shapedefaults": {
           "line": {
            "color": "#2a3f5f"
           }
          },
          "ternary": {
           "aaxis": {
            "gridcolor": "white",
            "linecolor": "white",
            "ticks": ""
           },
           "baxis": {
            "gridcolor": "white",
            "linecolor": "white",
            "ticks": ""
           },
           "bgcolor": "#E5ECF6",
           "caxis": {
            "gridcolor": "white",
            "linecolor": "white",
            "ticks": ""
           }
          },
          "title": {
           "x": 0.05
          },
          "xaxis": {
           "automargin": true,
           "gridcolor": "white",
           "linecolor": "white",
           "ticks": "",
           "title": {
            "standoff": 15
           },
           "zerolinecolor": "white",
           "zerolinewidth": 2
          },
          "yaxis": {
           "automargin": true,
           "gridcolor": "white",
           "linecolor": "white",
           "ticks": "",
           "title": {
            "standoff": 15
           },
           "zerolinecolor": "white",
           "zerolinewidth": 2
          }
         }
        }
       }
      },
      "text/html": [
       "<div>                            <div id=\"4d949c72-47c8-413f-bdf2-5b8b99523686\" class=\"plotly-graph-div\" style=\"height:525px; width:100%;\"></div>            <script type=\"text/javascript\">                require([\"plotly\"], function(Plotly) {                    window.PLOTLYENV=window.PLOTLYENV || {};                                    if (document.getElementById(\"4d949c72-47c8-413f-bdf2-5b8b99523686\")) {                    Plotly.newPlot(                        \"4d949c72-47c8-413f-bdf2-5b8b99523686\",                        [{\"colorscale\":[[0.0,\"#636efa\"],[1.0,\"#636efa\"]],\"geo\":\"geo\",\"hovertemplate\":\"common=ESTJ-A<br>Country=%{location}<extra></extra>\",\"locationmode\":\"country names\",\"locations\":[\"Afghanistan\",\"Congo\",\"Congo (Kinshasa)\",\"Uzbekistan\"],\"name\":\"ESTJ-A\",\"showlegend\":true,\"showscale\":false,\"z\":[1,1,1,1],\"type\":\"choropleth\"},{\"colorscale\":[[0.0,\"#EF553B\"],[1.0,\"#EF553B\"]],\"geo\":\"geo\",\"hovertemplate\":\"common=INFP-T<br>Country=%{location}<extra></extra>\",\"locationmode\":\"country names\",\"locations\":[\"Albania\",\"Algeria\",\"Andorra\",\"Antigua and Barbuda\",\"Argentina\",\"Armenia\",\"Australia\",\"Austria\",\"Azerbaijan\",\"Bahamas\",\"Bahrain\",\"Bangladesh\",\"Barbados\",\"Belarus\",\"Belgium\",\"Belize\",\"Bhutan\",\"Bosnia and Herzegovina\",\"Botswana\",\"Brazil\",\"Brunei\",\"Bulgaria\",\"Cambodia\",\"Canada\",\"Chile\",\"China\",\"Colombia\",\"Costa Rica\",\"Croatia\",\"Cyprus\",\"Czech Republic\",\"Denmark\",\"Dominica\",\"Dominican Republic\",\"Ecuador\",\"Egypt\",\"El Salvador\",\"Estonia\",\"Ethiopia\",\"Faroe Islands\",\"Fiji\",\"Finland\",\"France\",\"Georgia\",\"Germany\",\"Greece\",\"Grenada\",\"Guatemala\",\"Guinea\",\"Guyana\",\"Honduras\",\"Hungary\",\"Iceland\",\"India\",\"Indonesia\",\"Iraq\",\"Ireland\",\"Israel\",\"Italy\",\"Jamaica\",\"Japan\",\"Jordan\",\"Kazakhstan\",\"Kenya\",\"Kuwait\",\"Kyrgyzstan\",\"Laos\",\"Latvia\",\"Lesotho\",\"Libya\",\"Lithuania\",\"Luxembourg\",\"Madagascar\",\"Malawi\",\"Malaysia\",\"Maldives\",\"Malta\",\"Mauritius\",\"Mexico\",\"Mongolia\",\"Montenegro\",\"Morocco\",\"Myanmar\",\"Namibia\",\"Nepal\",\"Netherlands\",\"New Zealand\",\"Macedonia\",\"Norway\",\"Oman\",\"Pakistan\",\"Panama\",\"Papua New Guinea\",\"Paraguay\",\"Peru\",\"Philippines\",\"Poland\",\"Portugal\",\"Qatar\",\"South Korea\",\"Moldova\",\"Romania\",\"Russia\",\"Saint Kitts and Nevis\",\"Saint Lucia\",\"Saint Vincent and the Grenadines\",\"Saudi Arabia\",\"Senegal\",\"Serbia\",\"Seychelles\",\"Singapore\",\"Slovakia\",\"Slovenia\",\"South Africa\",\"Spain\",\"Sri Lanka\",\"Sudan\",\"Suriname\",\"Sweden\",\"Switzerland\",\"Syria\",\"Tajikistan\",\"Thailand\",\"Trinidad and Tobago\",\"Tunisia\",\"Turkey\",\"Ukraine\",\"United Arab Emirates\",\"United Kingdom\",\"Tanzania\",\"United States\",\"Uruguay\",\"Vanuatu\",\"Vietnam\",\"Yemen\",\"Zimbabwe\"],\"name\":\"INFP-T\",\"showlegend\":true,\"showscale\":false,\"z\":[1,1,1,1,1,1,1,1,1,1,1,1,1,1,1,1,1,1,1,1,1,1,1,1,1,1,1,1,1,1,1,1,1,1,1,1,1,1,1,1,1,1,1,1,1,1,1,1,1,1,1,1,1,1,1,1,1,1,1,1,1,1,1,1,1,1,1,1,1,1,1,1,1,1,1,1,1,1,1,1,1,1,1,1,1,1,1,1,1,1,1,1,1,1,1,1,1,1,1,1,1,1,1,1,1,1,1,1,1,1,1,1,1,1,1,1,1,1,1,1,1,1,1,1,1,1,1,1,1,1,1,1,1,1,1,1],\"type\":\"choropleth\"},{\"colorscale\":[[0.0,\"#00cc96\"],[1.0,\"#00cc96\"]],\"geo\":\"geo\",\"hovertemplate\":\"common=ESFJ-A<br>Country=%{location}<extra></extra>\",\"locationmode\":\"country names\",\"locations\":[\"Angola\",\"Cameroon\",\"Djibouti\",\"Ghana\",\"Mali\",\"Nicaragua\",\"Niger\",\"Nigeria\",\"Rwanda\",\"Somalia\",\"Uganda\",\"Zambia\"],\"name\":\"ESFJ-A\",\"showlegend\":true,\"showscale\":false,\"z\":[1,1,1,1,1,1,1,1,1,1,1,1],\"type\":\"choropleth\"},{\"colorscale\":[[0.0,\"#ab63fa\"],[1.0,\"#ab63fa\"]],\"geo\":\"geo\",\"hovertemplate\":\"common=ENFP-T<br>Country=%{location}<extra></extra>\",\"locationmode\":\"country names\",\"locations\":[\"Burkina Faso\",\"Cuba\",\"Haiti\",\"Lebanon\",\"Monaco\",\"Mozambique\"],\"name\":\"ENFP-T\",\"showlegend\":true,\"showscale\":false,\"z\":[1,1,1,1,1,1],\"type\":\"choropleth\"}],                        {\"template\":{\"data\":{\"bar\":[{\"error_x\":{\"color\":\"#2a3f5f\"},\"error_y\":{\"color\":\"#2a3f5f\"},\"marker\":{\"line\":{\"color\":\"#E5ECF6\",\"width\":0.5},\"pattern\":{\"fillmode\":\"overlay\",\"size\":10,\"solidity\":0.2}},\"type\":\"bar\"}],\"barpolar\":[{\"marker\":{\"line\":{\"color\":\"#E5ECF6\",\"width\":0.5},\"pattern\":{\"fillmode\":\"overlay\",\"size\":10,\"solidity\":0.2}},\"type\":\"barpolar\"}],\"carpet\":[{\"aaxis\":{\"endlinecolor\":\"#2a3f5f\",\"gridcolor\":\"white\",\"linecolor\":\"white\",\"minorgridcolor\":\"white\",\"startlinecolor\":\"#2a3f5f\"},\"baxis\":{\"endlinecolor\":\"#2a3f5f\",\"gridcolor\":\"white\",\"linecolor\":\"white\",\"minorgridcolor\":\"white\",\"startlinecolor\":\"#2a3f5f\"},\"type\":\"carpet\"}],\"choropleth\":[{\"colorbar\":{\"outlinewidth\":0,\"ticks\":\"\"},\"type\":\"choropleth\"}],\"contour\":[{\"colorbar\":{\"outlinewidth\":0,\"ticks\":\"\"},\"colorscale\":[[0.0,\"#0d0887\"],[0.1111111111111111,\"#46039f\"],[0.2222222222222222,\"#7201a8\"],[0.3333333333333333,\"#9c179e\"],[0.4444444444444444,\"#bd3786\"],[0.5555555555555556,\"#d8576b\"],[0.6666666666666666,\"#ed7953\"],[0.7777777777777778,\"#fb9f3a\"],[0.8888888888888888,\"#fdca26\"],[1.0,\"#f0f921\"]],\"type\":\"contour\"}],\"contourcarpet\":[{\"colorbar\":{\"outlinewidth\":0,\"ticks\":\"\"},\"type\":\"contourcarpet\"}],\"heatmap\":[{\"colorbar\":{\"outlinewidth\":0,\"ticks\":\"\"},\"colorscale\":[[0.0,\"#0d0887\"],[0.1111111111111111,\"#46039f\"],[0.2222222222222222,\"#7201a8\"],[0.3333333333333333,\"#9c179e\"],[0.4444444444444444,\"#bd3786\"],[0.5555555555555556,\"#d8576b\"],[0.6666666666666666,\"#ed7953\"],[0.7777777777777778,\"#fb9f3a\"],[0.8888888888888888,\"#fdca26\"],[1.0,\"#f0f921\"]],\"type\":\"heatmap\"}],\"heatmapgl\":[{\"colorbar\":{\"outlinewidth\":0,\"ticks\":\"\"},\"colorscale\":[[0.0,\"#0d0887\"],[0.1111111111111111,\"#46039f\"],[0.2222222222222222,\"#7201a8\"],[0.3333333333333333,\"#9c179e\"],[0.4444444444444444,\"#bd3786\"],[0.5555555555555556,\"#d8576b\"],[0.6666666666666666,\"#ed7953\"],[0.7777777777777778,\"#fb9f3a\"],[0.8888888888888888,\"#fdca26\"],[1.0,\"#f0f921\"]],\"type\":\"heatmapgl\"}],\"histogram\":[{\"marker\":{\"pattern\":{\"fillmode\":\"overlay\",\"size\":10,\"solidity\":0.2}},\"type\":\"histogram\"}],\"histogram2d\":[{\"colorbar\":{\"outlinewidth\":0,\"ticks\":\"\"},\"colorscale\":[[0.0,\"#0d0887\"],[0.1111111111111111,\"#46039f\"],[0.2222222222222222,\"#7201a8\"],[0.3333333333333333,\"#9c179e\"],[0.4444444444444444,\"#bd3786\"],[0.5555555555555556,\"#d8576b\"],[0.6666666666666666,\"#ed7953\"],[0.7777777777777778,\"#fb9f3a\"],[0.8888888888888888,\"#fdca26\"],[1.0,\"#f0f921\"]],\"type\":\"histogram2d\"}],\"histogram2dcontour\":[{\"colorbar\":{\"outlinewidth\":0,\"ticks\":\"\"},\"colorscale\":[[0.0,\"#0d0887\"],[0.1111111111111111,\"#46039f\"],[0.2222222222222222,\"#7201a8\"],[0.3333333333333333,\"#9c179e\"],[0.4444444444444444,\"#bd3786\"],[0.5555555555555556,\"#d8576b\"],[0.6666666666666666,\"#ed7953\"],[0.7777777777777778,\"#fb9f3a\"],[0.8888888888888888,\"#fdca26\"],[1.0,\"#f0f921\"]],\"type\":\"histogram2dcontour\"}],\"mesh3d\":[{\"colorbar\":{\"outlinewidth\":0,\"ticks\":\"\"},\"type\":\"mesh3d\"}],\"parcoords\":[{\"line\":{\"colorbar\":{\"outlinewidth\":0,\"ticks\":\"\"}},\"type\":\"parcoords\"}],\"pie\":[{\"automargin\":true,\"type\":\"pie\"}],\"scatter\":[{\"marker\":{\"colorbar\":{\"outlinewidth\":0,\"ticks\":\"\"}},\"type\":\"scatter\"}],\"scatter3d\":[{\"line\":{\"colorbar\":{\"outlinewidth\":0,\"ticks\":\"\"}},\"marker\":{\"colorbar\":{\"outlinewidth\":0,\"ticks\":\"\"}},\"type\":\"scatter3d\"}],\"scattercarpet\":[{\"marker\":{\"colorbar\":{\"outlinewidth\":0,\"ticks\":\"\"}},\"type\":\"scattercarpet\"}],\"scattergeo\":[{\"marker\":{\"colorbar\":{\"outlinewidth\":0,\"ticks\":\"\"}},\"type\":\"scattergeo\"}],\"scattergl\":[{\"marker\":{\"colorbar\":{\"outlinewidth\":0,\"ticks\":\"\"}},\"type\":\"scattergl\"}],\"scattermapbox\":[{\"marker\":{\"colorbar\":{\"outlinewidth\":0,\"ticks\":\"\"}},\"type\":\"scattermapbox\"}],\"scatterpolar\":[{\"marker\":{\"colorbar\":{\"outlinewidth\":0,\"ticks\":\"\"}},\"type\":\"scatterpolar\"}],\"scatterpolargl\":[{\"marker\":{\"colorbar\":{\"outlinewidth\":0,\"ticks\":\"\"}},\"type\":\"scatterpolargl\"}],\"scatterternary\":[{\"marker\":{\"colorbar\":{\"outlinewidth\":0,\"ticks\":\"\"}},\"type\":\"scatterternary\"}],\"surface\":[{\"colorbar\":{\"outlinewidth\":0,\"ticks\":\"\"},\"colorscale\":[[0.0,\"#0d0887\"],[0.1111111111111111,\"#46039f\"],[0.2222222222222222,\"#7201a8\"],[0.3333333333333333,\"#9c179e\"],[0.4444444444444444,\"#bd3786\"],[0.5555555555555556,\"#d8576b\"],[0.6666666666666666,\"#ed7953\"],[0.7777777777777778,\"#fb9f3a\"],[0.8888888888888888,\"#fdca26\"],[1.0,\"#f0f921\"]],\"type\":\"surface\"}],\"table\":[{\"cells\":{\"fill\":{\"color\":\"#EBF0F8\"},\"line\":{\"color\":\"white\"}},\"header\":{\"fill\":{\"color\":\"#C8D4E3\"},\"line\":{\"color\":\"white\"}},\"type\":\"table\"}]},\"layout\":{\"annotationdefaults\":{\"arrowcolor\":\"#2a3f5f\",\"arrowhead\":0,\"arrowwidth\":1},\"autotypenumbers\":\"strict\",\"coloraxis\":{\"colorbar\":{\"outlinewidth\":0,\"ticks\":\"\"}},\"colorscale\":{\"diverging\":[[0,\"#8e0152\"],[0.1,\"#c51b7d\"],[0.2,\"#de77ae\"],[0.3,\"#f1b6da\"],[0.4,\"#fde0ef\"],[0.5,\"#f7f7f7\"],[0.6,\"#e6f5d0\"],[0.7,\"#b8e186\"],[0.8,\"#7fbc41\"],[0.9,\"#4d9221\"],[1,\"#276419\"]],\"sequential\":[[0.0,\"#0d0887\"],[0.1111111111111111,\"#46039f\"],[0.2222222222222222,\"#7201a8\"],[0.3333333333333333,\"#9c179e\"],[0.4444444444444444,\"#bd3786\"],[0.5555555555555556,\"#d8576b\"],[0.6666666666666666,\"#ed7953\"],[0.7777777777777778,\"#fb9f3a\"],[0.8888888888888888,\"#fdca26\"],[1.0,\"#f0f921\"]],\"sequentialminus\":[[0.0,\"#0d0887\"],[0.1111111111111111,\"#46039f\"],[0.2222222222222222,\"#7201a8\"],[0.3333333333333333,\"#9c179e\"],[0.4444444444444444,\"#bd3786\"],[0.5555555555555556,\"#d8576b\"],[0.6666666666666666,\"#ed7953\"],[0.7777777777777778,\"#fb9f3a\"],[0.8888888888888888,\"#fdca26\"],[1.0,\"#f0f921\"]]},\"colorway\":[\"#636efa\",\"#EF553B\",\"#00cc96\",\"#ab63fa\",\"#FFA15A\",\"#19d3f3\",\"#FF6692\",\"#B6E880\",\"#FF97FF\",\"#FECB52\"],\"font\":{\"color\":\"#2a3f5f\"},\"geo\":{\"bgcolor\":\"white\",\"lakecolor\":\"white\",\"landcolor\":\"#E5ECF6\",\"showlakes\":true,\"showland\":true,\"subunitcolor\":\"white\"},\"hoverlabel\":{\"align\":\"left\"},\"hovermode\":\"closest\",\"mapbox\":{\"style\":\"light\"},\"paper_bgcolor\":\"white\",\"plot_bgcolor\":\"#E5ECF6\",\"polar\":{\"angularaxis\":{\"gridcolor\":\"white\",\"linecolor\":\"white\",\"ticks\":\"\"},\"bgcolor\":\"#E5ECF6\",\"radialaxis\":{\"gridcolor\":\"white\",\"linecolor\":\"white\",\"ticks\":\"\"}},\"scene\":{\"xaxis\":{\"backgroundcolor\":\"#E5ECF6\",\"gridcolor\":\"white\",\"gridwidth\":2,\"linecolor\":\"white\",\"showbackground\":true,\"ticks\":\"\",\"zerolinecolor\":\"white\"},\"yaxis\":{\"backgroundcolor\":\"#E5ECF6\",\"gridcolor\":\"white\",\"gridwidth\":2,\"linecolor\":\"white\",\"showbackground\":true,\"ticks\":\"\",\"zerolinecolor\":\"white\"},\"zaxis\":{\"backgroundcolor\":\"#E5ECF6\",\"gridcolor\":\"white\",\"gridwidth\":2,\"linecolor\":\"white\",\"showbackground\":true,\"ticks\":\"\",\"zerolinecolor\":\"white\"}},\"shapedefaults\":{\"line\":{\"color\":\"#2a3f5f\"}},\"ternary\":{\"aaxis\":{\"gridcolor\":\"white\",\"linecolor\":\"white\",\"ticks\":\"\"},\"baxis\":{\"gridcolor\":\"white\",\"linecolor\":\"white\",\"ticks\":\"\"},\"bgcolor\":\"#E5ECF6\",\"caxis\":{\"gridcolor\":\"white\",\"linecolor\":\"white\",\"ticks\":\"\"}},\"title\":{\"x\":0.05},\"xaxis\":{\"automargin\":true,\"gridcolor\":\"white\",\"linecolor\":\"white\",\"ticks\":\"\",\"title\":{\"standoff\":15},\"zerolinecolor\":\"white\",\"zerolinewidth\":2},\"yaxis\":{\"automargin\":true,\"gridcolor\":\"white\",\"linecolor\":\"white\",\"ticks\":\"\",\"title\":{\"standoff\":15},\"zerolinecolor\":\"white\",\"zerolinewidth\":2}}},\"geo\":{\"domain\":{\"x\":[0.0,1.0],\"y\":[0.0,1.0]},\"projection\":{\"type\":\"natural earth\"},\"center\":{}},\"legend\":{\"title\":{\"text\":\"common\"},\"tracegroupgap\":0},\"margin\":{\"t\":60}},                        {\"responsive\": true}                    ).then(function(){\n",
       "                            \n",
       "var gd = document.getElementById('4d949c72-47c8-413f-bdf2-5b8b99523686');\n",
       "var x = new MutationObserver(function (mutations, observer) {{\n",
       "        var display = window.getComputedStyle(gd).display;\n",
       "        if (!display || display === 'none') {{\n",
       "            console.log([gd, 'removed!']);\n",
       "            Plotly.purge(gd);\n",
       "            observer.disconnect();\n",
       "        }}\n",
       "}});\n",
       "\n",
       "// Listen for the removal of the full notebook cells\n",
       "var notebookContainer = gd.closest('#notebook-container');\n",
       "if (notebookContainer) {{\n",
       "    x.observe(notebookContainer, {childList: true});\n",
       "}}\n",
       "\n",
       "// Listen for the clearing of the current output cell\n",
       "var outputEl = gd.closest('.output');\n",
       "if (outputEl) {{\n",
       "    x.observe(outputEl, {childList: true});\n",
       "}}\n",
       "\n",
       "                        })                };                });            </script>        </div>"
      ]
     },
     "metadata": {},
     "output_type": "display_data"
    }
   ],
   "source": [
    "# Find the most common type in each country\n",
    "distribution_df_common = distribution_df.set_index('Country')\n",
    "distribution_df_common['common'] = distribution_df_common.idxmax(axis=\"columns\")\n",
    "distribution_df_common = distribution_df_common.reset_index(level=0)\n",
    "\n",
    "fig = px.choropleth(distribution_df_common, locations=\"Country\", color=\"common\", locationmode=\"country names\", projection='natural earth')\n",
    "fig.show()"
   ]
  },
  {
   "cell_type": "code",
   "execution_count": 6,
   "id": "28318384",
   "metadata": {},
   "outputs": [
    {
     "data": {
      "application/vnd.plotly.v1+json": {
       "config": {
        "plotlyServerURL": "https://plot.ly"
       },
       "data": [
        {
         "hovertemplate": "Country=Afghanistan<br>value=%{r}<br>variable=%{theta}<extra></extra>",
         "legendgroup": "",
         "line": {
          "color": "#636efa",
          "dash": "solid"
         },
         "marker": {
          "symbol": "circle"
         },
         "mode": "lines",
         "name": "",
         "r": [
          0.0798,
          0.0594,
          0.0482,
          0.0412,
          0.0406,
          0.039,
          0.039,
          0.0377,
          0.0364,
          0.0361,
          0.0348,
          0.0316,
          0.0313,
          0.0291,
          0.0291,
          0.0291,
          0.0281,
          0.0275,
          0.0268,
          0.0252,
          0.0249,
          0.0233,
          0.0233,
          0.0227,
          0.022,
          0.022,
          0.0214,
          0.0204,
          0.0197999999999999,
          0.0182,
          0.0169,
          0.015,
          0.0798
         ],
         "showlegend": false,
         "subplot": "polar",
         "theta": [
          "ESTJ-A",
          "ESFJ-A",
          "INFP-T",
          "ESFJ-T",
          "ENFP-T",
          "ENFP-A",
          "ESTJ-T",
          "ISFJ-T",
          "ENFJ-A",
          "ESTP-A",
          "ISTJ-A",
          "INTP-T",
          "INFJ-T",
          "ISFP-T",
          "ENTJ-A",
          "ESTP-T",
          "ISTJ-T",
          "ESFP-T",
          "ENTP-A",
          "ESFP-A",
          "INTJ-T",
          "ISFJ-A",
          "INTP-A",
          "ENTP-T",
          "ISTP-T",
          "ENTJ-T",
          "ISTP-A",
          "INFP-A",
          "ENFJ-T",
          "INTJ-A",
          "ISFP-A",
          "INFJ-A",
          "ESTJ-A"
         ],
         "type": "scatterpolar"
        }
       ],
       "frames": [
        {
         "data": [
          {
           "hovertemplate": "Country=Afghanistan<br>value=%{r}<br>variable=%{theta}<extra></extra>",
           "legendgroup": "",
           "line": {
            "color": "#636efa",
            "dash": "solid"
           },
           "marker": {
            "symbol": "circle"
           },
           "mode": "lines",
           "name": "",
           "r": [
            0.0798,
            0.0594,
            0.0482,
            0.0412,
            0.0406,
            0.039,
            0.039,
            0.0377,
            0.0364,
            0.0361,
            0.0348,
            0.0316,
            0.0313,
            0.0291,
            0.0291,
            0.0291,
            0.0281,
            0.0275,
            0.0268,
            0.0252,
            0.0249,
            0.0233,
            0.0233,
            0.0227,
            0.022,
            0.022,
            0.0214,
            0.0204,
            0.0197999999999999,
            0.0182,
            0.0169,
            0.015,
            0.0798
           ],
           "showlegend": false,
           "subplot": "polar",
           "theta": [
            "ESTJ-A",
            "ESFJ-A",
            "INFP-T",
            "ESFJ-T",
            "ENFP-T",
            "ENFP-A",
            "ESTJ-T",
            "ISFJ-T",
            "ENFJ-A",
            "ESTP-A",
            "ISTJ-A",
            "INTP-T",
            "INFJ-T",
            "ISFP-T",
            "ENTJ-A",
            "ESTP-T",
            "ISTJ-T",
            "ESFP-T",
            "ENTP-A",
            "ESFP-A",
            "INTJ-T",
            "ISFJ-A",
            "INTP-A",
            "ENTP-T",
            "ISTP-T",
            "ENTJ-T",
            "ISTP-A",
            "INFP-A",
            "ENFJ-T",
            "INTJ-A",
            "ISFP-A",
            "INFJ-A",
            "ESTJ-A"
           ],
           "type": "scatterpolar"
          }
         ],
         "name": "Afghanistan"
        },
        {
         "data": [
          {
           "hovertemplate": "Country=Albania<br>value=%{r}<br>variable=%{theta}<extra></extra>",
           "legendgroup": "",
           "line": {
            "color": "#636efa",
            "dash": "solid"
           },
           "marker": {
            "symbol": "circle"
           },
           "mode": "lines",
           "name": "",
           "r": [
            0.0469,
            0.0399,
            0.0836,
            0.0266,
            0.0647,
            0.0398,
            0.0197999999999999,
            0.0286,
            0.0363,
            0.0239,
            0.0223,
            0.0481,
            0.0584,
            0.0226,
            0.0397,
            0.0141999999999999,
            0.0195,
            0.0207,
            0.0397,
            0.0197999999999999,
            0.0352,
            0.0163,
            0.0273,
            0.0395,
            0.0128,
            0.0289,
            0.0105,
            0.0209,
            0.0412,
            0.0252,
            0.0108,
            0.0163999999999999,
            0.0469
           ],
           "showlegend": false,
           "subplot": "polar",
           "theta": [
            "ESTJ-A",
            "ESFJ-A",
            "INFP-T",
            "ESFJ-T",
            "ENFP-T",
            "ENFP-A",
            "ESTJ-T",
            "ISFJ-T",
            "ENFJ-A",
            "ESTP-A",
            "ISTJ-A",
            "INTP-T",
            "INFJ-T",
            "ISFP-T",
            "ENTJ-A",
            "ESTP-T",
            "ISTJ-T",
            "ESFP-T",
            "ENTP-A",
            "ESFP-A",
            "INTJ-T",
            "ISFJ-A",
            "INTP-A",
            "ENTP-T",
            "ISTP-T",
            "ENTJ-T",
            "ISTP-A",
            "INFP-A",
            "ENFJ-T",
            "INTJ-A",
            "ISFP-A",
            "INFJ-A",
            "ESTJ-A"
           ],
           "type": "scatterpolar"
          }
         ],
         "name": "Albania"
        },
        {
         "data": [
          {
           "hovertemplate": "Country=Algeria<br>value=%{r}<br>variable=%{theta}<extra></extra>",
           "legendgroup": "",
           "line": {
            "color": "#636efa",
            "dash": "solid"
           },
           "marker": {
            "symbol": "circle"
           },
           "mode": "lines",
           "name": "",
           "r": [
            0.023,
            0.0275,
            0.1217999999999999,
            0.0165,
            0.0523,
            0.0334,
            0.0097,
            0.0222,
            0.0262,
            0.0154,
            0.0162,
            0.0851,
            0.0583,
            0.0264,
            0.0343,
            0.0087,
            0.0158,
            0.0148,
            0.0433,
            0.0131,
            0.0492,
            0.0115,
            0.0559,
            0.0306,
            0.0157,
            0.0192,
            0.0173,
            0.0338,
            0.0294,
            0.0404,
            0.0113,
            0.0217,
            0.023
           ],
           "showlegend": false,
           "subplot": "polar",
           "theta": [
            "ESTJ-A",
            "ESFJ-A",
            "INFP-T",
            "ESFJ-T",
            "ENFP-T",
            "ENFP-A",
            "ESTJ-T",
            "ISFJ-T",
            "ENFJ-A",
            "ESTP-A",
            "ISTJ-A",
            "INTP-T",
            "INFJ-T",
            "ISFP-T",
            "ENTJ-A",
            "ESTP-T",
            "ISTJ-T",
            "ESFP-T",
            "ENTP-A",
            "ESFP-A",
            "INTJ-T",
            "ISFJ-A",
            "INTP-A",
            "ENTP-T",
            "ISTP-T",
            "ENTJ-T",
            "ISTP-A",
            "INFP-A",
            "ENFJ-T",
            "INTJ-A",
            "ISFP-A",
            "INFJ-A",
            "ESTJ-A"
           ],
           "type": "scatterpolar"
          }
         ],
         "name": "Algeria"
        },
        {
         "data": [
          {
           "hovertemplate": "Country=Andorra<br>value=%{r}<br>variable=%{theta}<extra></extra>",
           "legendgroup": "",
           "line": {
            "color": "#636efa",
            "dash": "solid"
           },
           "marker": {
            "symbol": "circle"
           },
           "mode": "lines",
           "name": "",
           "r": [
            0.0512,
            0.0372,
            0.1023,
            0.0279,
            0.093,
            0.0837,
            0.0093,
            0.0279,
            0.0605,
            0.0139999999999999,
            0.0186,
            0.0279,
            0.0372,
            0.0093,
            0.0279,
            0.0046999999999999,
            0.0093,
            0.0186,
            0.0093,
            0.0186,
            0.0186,
            0.0186,
            0.0233,
            0.0279,
            0.0093,
            0.0186,
            0.0093,
            0.0650999999999999,
            0.0558,
            0.0139999999999999,
            0.0326,
            0.0419,
            0.0512
           ],
           "showlegend": false,
           "subplot": "polar",
           "theta": [
            "ESTJ-A",
            "ESFJ-A",
            "INFP-T",
            "ESFJ-T",
            "ENFP-T",
            "ENFP-A",
            "ESTJ-T",
            "ISFJ-T",
            "ENFJ-A",
            "ESTP-A",
            "ISTJ-A",
            "INTP-T",
            "INFJ-T",
            "ISFP-T",
            "ENTJ-A",
            "ESTP-T",
            "ISTJ-T",
            "ESFP-T",
            "ENTP-A",
            "ESFP-A",
            "INTJ-T",
            "ISFJ-A",
            "INTP-A",
            "ENTP-T",
            "ISTP-T",
            "ENTJ-T",
            "ISTP-A",
            "INFP-A",
            "ENFJ-T",
            "INTJ-A",
            "ISFP-A",
            "INFJ-A",
            "ESTJ-A"
           ],
           "type": "scatterpolar"
          }
         ],
         "name": "Andorra"
        },
        {
         "data": [
          {
           "hovertemplate": "Country=Angola<br>value=%{r}<br>variable=%{theta}<extra></extra>",
           "legendgroup": "",
           "line": {
            "color": "#636efa",
            "dash": "solid"
           },
           "marker": {
            "symbol": "circle"
           },
           "mode": "lines",
           "name": "",
           "r": [
            0.0484,
            0.0905,
            0.0771,
            0.0287,
            0.0475,
            0.0323,
            0.0108,
            0.0394,
            0.0475,
            0.026,
            0.0323,
            0.0349,
            0.0457,
            0.0224,
            0.0358,
            0.0108,
            0.0081,
            0.0224,
            0.0233,
            0.0323,
            0.0197,
            0.0323,
            0.0215,
            0.0215,
            0.0116,
            0.0134,
            0.0206,
            0.0341,
            0.0332,
            0.0269,
            0.0179,
            0.0314,
            0.0484
           ],
           "showlegend": false,
           "subplot": "polar",
           "theta": [
            "ESTJ-A",
            "ESFJ-A",
            "INFP-T",
            "ESFJ-T",
            "ENFP-T",
            "ENFP-A",
            "ESTJ-T",
            "ISFJ-T",
            "ENFJ-A",
            "ESTP-A",
            "ISTJ-A",
            "INTP-T",
            "INFJ-T",
            "ISFP-T",
            "ENTJ-A",
            "ESTP-T",
            "ISTJ-T",
            "ESFP-T",
            "ENTP-A",
            "ESFP-A",
            "INTJ-T",
            "ISFJ-A",
            "INTP-A",
            "ENTP-T",
            "ISTP-T",
            "ENTJ-T",
            "ISTP-A",
            "INFP-A",
            "ENFJ-T",
            "INTJ-A",
            "ISFP-A",
            "INFJ-A",
            "ESTJ-A"
           ],
           "type": "scatterpolar"
          }
         ],
         "name": "Angola"
        },
        {
         "data": [
          {
           "hovertemplate": "Country=Antigua and Barbuda<br>value=%{r}<br>variable=%{theta}<extra></extra>",
           "legendgroup": "",
           "line": {
            "color": "#636efa",
            "dash": "solid"
           },
           "marker": {
            "symbol": "circle"
           },
           "mode": "lines",
           "name": "",
           "r": [
            0.0323,
            0.0661,
            0.1067999999999999,
            0.0279,
            0.0650999999999999,
            0.0441,
            0.0098,
            0.0451,
            0.0377,
            0.0162,
            0.0283999999999999,
            0.0382,
            0.0538999999999999,
            0.0356999999999999,
            0.0176,
            0.0083,
            0.0147,
            0.023,
            0.0225,
            0.0318,
            0.0200999999999999,
            0.0401999999999999,
            0.025,
            0.0245,
            0.0127,
            0.0103,
            0.0181,
            0.0313,
            0.0255,
            0.0127,
            0.0235,
            0.0308999999999999,
            0.0323
           ],
           "showlegend": false,
           "subplot": "polar",
           "theta": [
            "ESTJ-A",
            "ESFJ-A",
            "INFP-T",
            "ESFJ-T",
            "ENFP-T",
            "ENFP-A",
            "ESTJ-T",
            "ISFJ-T",
            "ENFJ-A",
            "ESTP-A",
            "ISTJ-A",
            "INTP-T",
            "INFJ-T",
            "ISFP-T",
            "ENTJ-A",
            "ESTP-T",
            "ISTJ-T",
            "ESFP-T",
            "ENTP-A",
            "ESFP-A",
            "INTJ-T",
            "ISFJ-A",
            "INTP-A",
            "ENTP-T",
            "ISTP-T",
            "ENTJ-T",
            "ISTP-A",
            "INFP-A",
            "ENFJ-T",
            "INTJ-A",
            "ISFP-A",
            "INFJ-A",
            "ESTJ-A"
           ],
           "type": "scatterpolar"
          }
         ],
         "name": "Antigua and Barbuda"
        },
        {
         "data": [
          {
           "hovertemplate": "Country=Argentina<br>value=%{r}<br>variable=%{theta}<extra></extra>",
           "legendgroup": "",
           "line": {
            "color": "#636efa",
            "dash": "solid"
           },
           "marker": {
            "symbol": "circle"
           },
           "mode": "lines",
           "name": "",
           "r": [
            0.0159,
            0.027,
            0.151,
            0.0206,
            0.0822,
            0.0516,
            0.0086,
            0.0282,
            0.0275,
            0.0113,
            0.0177,
            0.0703,
            0.0689,
            0.0278,
            0.0161,
            0.0060999999999999,
            0.0165,
            0.0183,
            0.0256999999999999,
            0.0183,
            0.0387,
            0.0158,
            0.0356999999999999,
            0.0287,
            0.0148,
            0.0148,
            0.0107,
            0.0365,
            0.035,
            0.0265,
            0.0138,
            0.0195,
            0.0159
           ],
           "showlegend": false,
           "subplot": "polar",
           "theta": [
            "ESTJ-A",
            "ESFJ-A",
            "INFP-T",
            "ESFJ-T",
            "ENFP-T",
            "ENFP-A",
            "ESTJ-T",
            "ISFJ-T",
            "ENFJ-A",
            "ESTP-A",
            "ISTJ-A",
            "INTP-T",
            "INFJ-T",
            "ISFP-T",
            "ENTJ-A",
            "ESTP-T",
            "ISTJ-T",
            "ESFP-T",
            "ENTP-A",
            "ESFP-A",
            "INTJ-T",
            "ISFJ-A",
            "INTP-A",
            "ENTP-T",
            "ISTP-T",
            "ENTJ-T",
            "ISTP-A",
            "INFP-A",
            "ENFJ-T",
            "INTJ-A",
            "ISFP-A",
            "INFJ-A",
            "ESTJ-A"
           ],
           "type": "scatterpolar"
          }
         ],
         "name": "Argentina"
        },
        {
         "data": [
          {
           "hovertemplate": "Country=Armenia<br>value=%{r}<br>variable=%{theta}<extra></extra>",
           "legendgroup": "",
           "line": {
            "color": "#636efa",
            "dash": "solid"
           },
           "marker": {
            "symbol": "circle"
           },
           "mode": "lines",
           "name": "",
           "r": [
            0.0542999999999999,
            0.0401,
            0.0839,
            0.0227999999999999,
            0.0611,
            0.0446,
            0.0197,
            0.0254,
            0.0362,
            0.0176,
            0.0202,
            0.0506,
            0.0487999999999999,
            0.0163,
            0.0414,
            0.0093999999999999,
            0.0197,
            0.0131,
            0.0401,
            0.0131,
            0.0383,
            0.0218,
            0.0333,
            0.042,
            0.0076,
            0.0275,
            0.0121,
            0.0299,
            0.043,
            0.0306999999999999,
            0.0105,
            0.0247,
            0.0542999999999999
           ],
           "showlegend": false,
           "subplot": "polar",
           "theta": [
            "ESTJ-A",
            "ESFJ-A",
            "INFP-T",
            "ESFJ-T",
            "ENFP-T",
            "ENFP-A",
            "ESTJ-T",
            "ISFJ-T",
            "ENFJ-A",
            "ESTP-A",
            "ISTJ-A",
            "INTP-T",
            "INFJ-T",
            "ISFP-T",
            "ENTJ-A",
            "ESTP-T",
            "ISTJ-T",
            "ESFP-T",
            "ENTP-A",
            "ESFP-A",
            "INTJ-T",
            "ISFJ-A",
            "INTP-A",
            "ENTP-T",
            "ISTP-T",
            "ENTJ-T",
            "ISTP-A",
            "INFP-A",
            "ENFJ-T",
            "INTJ-A",
            "ISFP-A",
            "INFJ-A",
            "ESTJ-A"
           ],
           "type": "scatterpolar"
          }
         ],
         "name": "Armenia"
        },
        {
         "data": [
          {
           "hovertemplate": "Country=Australia<br>value=%{r}<br>variable=%{theta}<extra></extra>",
           "legendgroup": "",
           "line": {
            "color": "#636efa",
            "dash": "solid"
           },
           "marker": {
            "symbol": "circle"
           },
           "mode": "lines",
           "name": "",
           "r": [
            0.0256,
            0.0643,
            0.1222,
            0.0395,
            0.092,
            0.0562999999999999,
            0.0098999999999999,
            0.0533999999999999,
            0.0364,
            0.0139,
            0.0163999999999999,
            0.0304,
            0.0599,
            0.0401,
            0.0129,
            0.0073,
            0.0139999999999999,
            0.0283,
            0.0207,
            0.0304,
            0.0151,
            0.0292,
            0.0174,
            0.0184,
            0.0104,
            0.0086,
            0.0098,
            0.0278,
            0.0414,
            0.0121999999999999,
            0.0182,
            0.0173,
            0.0256
           ],
           "showlegend": false,
           "subplot": "polar",
           "theta": [
            "ESTJ-A",
            "ESFJ-A",
            "INFP-T",
            "ESFJ-T",
            "ENFP-T",
            "ENFP-A",
            "ESTJ-T",
            "ISFJ-T",
            "ENFJ-A",
            "ESTP-A",
            "ISTJ-A",
            "INTP-T",
            "INFJ-T",
            "ISFP-T",
            "ENTJ-A",
            "ESTP-T",
            "ISTJ-T",
            "ESFP-T",
            "ENTP-A",
            "ESFP-A",
            "INTJ-T",
            "ISFJ-A",
            "INTP-A",
            "ENTP-T",
            "ISTP-T",
            "ENTJ-T",
            "ISTP-A",
            "INFP-A",
            "ENFJ-T",
            "INTJ-A",
            "ISFP-A",
            "INFJ-A",
            "ESTJ-A"
           ],
           "type": "scatterpolar"
          }
         ],
         "name": "Australia"
        },
        {
         "data": [
          {
           "hovertemplate": "Country=Austria<br>value=%{r}<br>variable=%{theta}<extra></extra>",
           "legendgroup": "",
           "line": {
            "color": "#636efa",
            "dash": "solid"
           },
           "marker": {
            "symbol": "circle"
           },
           "mode": "lines",
           "name": "",
           "r": [
            0.0286,
            0.0333,
            0.1414,
            0.022,
            0.0843999999999999,
            0.0593,
            0.0098,
            0.0289,
            0.0305,
            0.0158,
            0.0192999999999999,
            0.0579,
            0.0632,
            0.0243999999999999,
            0.0219,
            0.0068,
            0.0141,
            0.0168,
            0.0373,
            0.0199,
            0.0288,
            0.0171,
            0.0327,
            0.0283999999999999,
            0.0108,
            0.0128,
            0.0113,
            0.0318,
            0.0359,
            0.0237,
            0.0134,
            0.0177,
            0.0286
           ],
           "showlegend": false,
           "subplot": "polar",
           "theta": [
            "ESTJ-A",
            "ESFJ-A",
            "INFP-T",
            "ESFJ-T",
            "ENFP-T",
            "ENFP-A",
            "ESTJ-T",
            "ISFJ-T",
            "ENFJ-A",
            "ESTP-A",
            "ISTJ-A",
            "INTP-T",
            "INFJ-T",
            "ISFP-T",
            "ENTJ-A",
            "ESTP-T",
            "ISTJ-T",
            "ESFP-T",
            "ENTP-A",
            "ESFP-A",
            "INTJ-T",
            "ISFJ-A",
            "INTP-A",
            "ENTP-T",
            "ISTP-T",
            "ENTJ-T",
            "ISTP-A",
            "INFP-A",
            "ENFJ-T",
            "INTJ-A",
            "ISFP-A",
            "INFJ-A",
            "ESTJ-A"
           ],
           "type": "scatterpolar"
          }
         ],
         "name": "Austria"
        },
        {
         "data": [
          {
           "hovertemplate": "Country=Azerbaijan<br>value=%{r}<br>variable=%{theta}<extra></extra>",
           "legendgroup": "",
           "line": {
            "color": "#636efa",
            "dash": "solid"
           },
           "marker": {
            "symbol": "circle"
           },
           "mode": "lines",
           "name": "",
           "r": [
            0.0581,
            0.0412,
            0.0803999999999999,
            0.0323,
            0.0550999999999999,
            0.0305,
            0.0276,
            0.0372,
            0.0325,
            0.0174,
            0.0295,
            0.0506,
            0.0437,
            0.0263,
            0.033,
            0.0134,
            0.0283,
            0.0237999999999999,
            0.0333,
            0.0233,
            0.0295,
            0.0189,
            0.0298,
            0.033,
            0.0146,
            0.0241,
            0.0139,
            0.0258,
            0.0417,
            0.0233,
            0.0109,
            0.0166,
            0.0581
           ],
           "showlegend": false,
           "subplot": "polar",
           "theta": [
            "ESTJ-A",
            "ESFJ-A",
            "INFP-T",
            "ESFJ-T",
            "ENFP-T",
            "ENFP-A",
            "ESTJ-T",
            "ISFJ-T",
            "ENFJ-A",
            "ESTP-A",
            "ISTJ-A",
            "INTP-T",
            "INFJ-T",
            "ISFP-T",
            "ENTJ-A",
            "ESTP-T",
            "ISTJ-T",
            "ESFP-T",
            "ENTP-A",
            "ESFP-A",
            "INTJ-T",
            "ISFJ-A",
            "INTP-A",
            "ENTP-T",
            "ISTP-T",
            "ENTJ-T",
            "ISTP-A",
            "INFP-A",
            "ENFJ-T",
            "INTJ-A",
            "ISFP-A",
            "INFJ-A",
            "ESTJ-A"
           ],
           "type": "scatterpolar"
          }
         ],
         "name": "Azerbaijan"
        },
        {
         "data": [
          {
           "hovertemplate": "Country=Bahamas<br>value=%{r}<br>variable=%{theta}<extra></extra>",
           "legendgroup": "",
           "line": {
            "color": "#636efa",
            "dash": "solid"
           },
           "marker": {
            "symbol": "circle"
           },
           "mode": "lines",
           "name": "",
           "r": [
            0.0371,
            0.0649,
            0.0981,
            0.0256999999999999,
            0.0574,
            0.0503,
            0.0098,
            0.0387,
            0.0433,
            0.0141999999999999,
            0.0364,
            0.0361,
            0.0533,
            0.0323,
            0.0209,
            0.0096,
            0.0171,
            0.0139,
            0.0255,
            0.0202,
            0.0204999999999999,
            0.0455999999999999,
            0.0272,
            0.0227999999999999,
            0.015,
            0.0103,
            0.0168,
            0.0339,
            0.0269,
            0.0210999999999999,
            0.0236,
            0.0314,
            0.0371
           ],
           "showlegend": false,
           "subplot": "polar",
           "theta": [
            "ESTJ-A",
            "ESFJ-A",
            "INFP-T",
            "ESFJ-T",
            "ENFP-T",
            "ENFP-A",
            "ESTJ-T",
            "ISFJ-T",
            "ENFJ-A",
            "ESTP-A",
            "ISTJ-A",
            "INTP-T",
            "INFJ-T",
            "ISFP-T",
            "ENTJ-A",
            "ESTP-T",
            "ISTJ-T",
            "ESFP-T",
            "ENTP-A",
            "ESFP-A",
            "INTJ-T",
            "ISFJ-A",
            "INTP-A",
            "ENTP-T",
            "ISTP-T",
            "ENTJ-T",
            "ISTP-A",
            "INFP-A",
            "ENFJ-T",
            "INTJ-A",
            "ISFP-A",
            "INFJ-A",
            "ESTJ-A"
           ],
           "type": "scatterpolar"
          }
         ],
         "name": "Bahamas"
        },
        {
         "data": [
          {
           "hovertemplate": "Country=Bahrain<br>value=%{r}<br>variable=%{theta}<extra></extra>",
           "legendgroup": "",
           "line": {
            "color": "#636efa",
            "dash": "solid"
           },
           "marker": {
            "symbol": "circle"
           },
           "mode": "lines",
           "name": "",
           "r": [
            0.0347,
            0.0549,
            0.1086999999999999,
            0.0349,
            0.0838,
            0.0501,
            0.0166,
            0.0385,
            0.0375999999999999,
            0.0186,
            0.0153,
            0.0358,
            0.0575,
            0.0311,
            0.026,
            0.0113999999999999,
            0.0147,
            0.0279999999999999,
            0.0266999999999999,
            0.023,
            0.0231,
            0.0212,
            0.0206,
            0.0243,
            0.0131,
            0.0159,
            0.0103,
            0.0279999999999999,
            0.045,
            0.0163,
            0.0159,
            0.0185,
            0.0347
           ],
           "showlegend": false,
           "subplot": "polar",
           "theta": [
            "ESTJ-A",
            "ESFJ-A",
            "INFP-T",
            "ESFJ-T",
            "ENFP-T",
            "ENFP-A",
            "ESTJ-T",
            "ISFJ-T",
            "ENFJ-A",
            "ESTP-A",
            "ISTJ-A",
            "INTP-T",
            "INFJ-T",
            "ISFP-T",
            "ENTJ-A",
            "ESTP-T",
            "ISTJ-T",
            "ESFP-T",
            "ENTP-A",
            "ESFP-A",
            "INTJ-T",
            "ISFJ-A",
            "INTP-A",
            "ENTP-T",
            "ISTP-T",
            "ENTJ-T",
            "ISTP-A",
            "INFP-A",
            "ENFJ-T",
            "INTJ-A",
            "ISFP-A",
            "INFJ-A",
            "ESTJ-A"
           ],
           "type": "scatterpolar"
          }
         ],
         "name": "Bahrain"
        },
        {
         "data": [
          {
           "hovertemplate": "Country=Bangladesh<br>value=%{r}<br>variable=%{theta}<extra></extra>",
           "legendgroup": "",
           "line": {
            "color": "#636efa",
            "dash": "solid"
           },
           "marker": {
            "symbol": "circle"
           },
           "mode": "lines",
           "name": "",
           "r": [
            0.0250999999999999,
            0.0473,
            0.1189,
            0.0366,
            0.0713,
            0.0327999999999999,
            0.0191,
            0.0366999999999999,
            0.0281,
            0.0148,
            0.0172,
            0.0503,
            0.05,
            0.0486,
            0.0149,
            0.0166,
            0.0194,
            0.0352,
            0.019,
            0.0233,
            0.0226,
            0.0233,
            0.0268,
            0.0259,
            0.0215,
            0.0146,
            0.0143,
            0.0308999999999999,
            0.0358,
            0.0192,
            0.0204,
            0.0197,
            0.0250999999999999
           ],
           "showlegend": false,
           "subplot": "polar",
           "theta": [
            "ESTJ-A",
            "ESFJ-A",
            "INFP-T",
            "ESFJ-T",
            "ENFP-T",
            "ENFP-A",
            "ESTJ-T",
            "ISFJ-T",
            "ENFJ-A",
            "ESTP-A",
            "ISTJ-A",
            "INTP-T",
            "INFJ-T",
            "ISFP-T",
            "ENTJ-A",
            "ESTP-T",
            "ISTJ-T",
            "ESFP-T",
            "ENTP-A",
            "ESFP-A",
            "INTJ-T",
            "ISFJ-A",
            "INTP-A",
            "ENTP-T",
            "ISTP-T",
            "ENTJ-T",
            "ISTP-A",
            "INFP-A",
            "ENFJ-T",
            "INTJ-A",
            "ISFP-A",
            "INFJ-A",
            "ESTJ-A"
           ],
           "type": "scatterpolar"
          }
         ],
         "name": "Bangladesh"
        },
        {
         "data": [
          {
           "hovertemplate": "Country=Barbados<br>value=%{r}<br>variable=%{theta}<extra></extra>",
           "legendgroup": "",
           "line": {
            "color": "#636efa",
            "dash": "solid"
           },
           "marker": {
            "symbol": "circle"
           },
           "mode": "lines",
           "name": "",
           "r": [
            0.0308,
            0.06,
            0.1127,
            0.0236,
            0.048,
            0.0474,
            0.0074,
            0.0449,
            0.0405,
            0.0146,
            0.0305,
            0.0356,
            0.0602,
            0.0289999999999999,
            0.02,
            0.0098,
            0.0181,
            0.0172,
            0.0264,
            0.0226,
            0.0233,
            0.0561,
            0.0286,
            0.0144,
            0.0106,
            0.0077,
            0.0166,
            0.037,
            0.0264,
            0.0265,
            0.0227,
            0.0308999999999999,
            0.0308
           ],
           "showlegend": false,
           "subplot": "polar",
           "theta": [
            "ESTJ-A",
            "ESFJ-A",
            "INFP-T",
            "ESFJ-T",
            "ENFP-T",
            "ENFP-A",
            "ESTJ-T",
            "ISFJ-T",
            "ENFJ-A",
            "ESTP-A",
            "ISTJ-A",
            "INTP-T",
            "INFJ-T",
            "ISFP-T",
            "ENTJ-A",
            "ESTP-T",
            "ISTJ-T",
            "ESFP-T",
            "ENTP-A",
            "ESFP-A",
            "INTJ-T",
            "ISFJ-A",
            "INTP-A",
            "ENTP-T",
            "ISTP-T",
            "ENTJ-T",
            "ISTP-A",
            "INFP-A",
            "ENFJ-T",
            "INTJ-A",
            "ISFP-A",
            "INFJ-A",
            "ESTJ-A"
           ],
           "type": "scatterpolar"
          }
         ],
         "name": "Barbados"
        },
        {
         "data": [
          {
           "hovertemplate": "Country=Belarus<br>value=%{r}<br>variable=%{theta}<extra></extra>",
           "legendgroup": "",
           "line": {
            "color": "#636efa",
            "dash": "solid"
           },
           "marker": {
            "symbol": "circle"
           },
           "mode": "lines",
           "name": "",
           "r": [
            0.0417,
            0.0306,
            0.1007,
            0.0274,
            0.0662,
            0.0279,
            0.0213,
            0.0319,
            0.0220999999999999,
            0.0229,
            0.0345,
            0.072,
            0.0473,
            0.0282,
            0.0231,
            0.0116999999999999,
            0.0319,
            0.0146,
            0.0345,
            0.0144,
            0.0412,
            0.0204999999999999,
            0.0332,
            0.0359,
            0.0239,
            0.0220999999999999,
            0.0229,
            0.0128,
            0.0298,
            0.0266,
            0.013,
            0.0136,
            0.0417
           ],
           "showlegend": false,
           "subplot": "polar",
           "theta": [
            "ESTJ-A",
            "ESFJ-A",
            "INFP-T",
            "ESFJ-T",
            "ENFP-T",
            "ENFP-A",
            "ESTJ-T",
            "ISFJ-T",
            "ENFJ-A",
            "ESTP-A",
            "ISTJ-A",
            "INTP-T",
            "INFJ-T",
            "ISFP-T",
            "ENTJ-A",
            "ESTP-T",
            "ISTJ-T",
            "ESFP-T",
            "ENTP-A",
            "ESFP-A",
            "INTJ-T",
            "ISFJ-A",
            "INTP-A",
            "ENTP-T",
            "ISTP-T",
            "ENTJ-T",
            "ISTP-A",
            "INFP-A",
            "ENFJ-T",
            "INTJ-A",
            "ISFP-A",
            "INFJ-A",
            "ESTJ-A"
           ],
           "type": "scatterpolar"
          }
         ],
         "name": "Belarus"
        },
        {
         "data": [
          {
           "hovertemplate": "Country=Belgium<br>value=%{r}<br>variable=%{theta}<extra></extra>",
           "legendgroup": "",
           "line": {
            "color": "#636efa",
            "dash": "solid"
           },
           "marker": {
            "symbol": "circle"
           },
           "mode": "lines",
           "name": "",
           "r": [
            0.0265,
            0.0383,
            0.138,
            0.0308,
            0.0965,
            0.0635,
            0.0095,
            0.0383,
            0.0278,
            0.0169,
            0.0159,
            0.0449,
            0.0605999999999999,
            0.0279999999999999,
            0.018,
            0.0068,
            0.0129,
            0.0203,
            0.0352,
            0.0241,
            0.0204999999999999,
            0.018,
            0.0322,
            0.0258,
            0.0098,
            0.0116999999999999,
            0.0111,
            0.0327999999999999,
            0.0385999999999999,
            0.0178,
            0.0134,
            0.0155,
            0.0265
           ],
           "showlegend": false,
           "subplot": "polar",
           "theta": [
            "ESTJ-A",
            "ESFJ-A",
            "INFP-T",
            "ESFJ-T",
            "ENFP-T",
            "ENFP-A",
            "ESTJ-T",
            "ISFJ-T",
            "ENFJ-A",
            "ESTP-A",
            "ISTJ-A",
            "INTP-T",
            "INFJ-T",
            "ISFP-T",
            "ENTJ-A",
            "ESTP-T",
            "ISTJ-T",
            "ESFP-T",
            "ENTP-A",
            "ESFP-A",
            "INTJ-T",
            "ISFJ-A",
            "INTP-A",
            "ENTP-T",
            "ISTP-T",
            "ENTJ-T",
            "ISTP-A",
            "INFP-A",
            "ENFJ-T",
            "INTJ-A",
            "ISFP-A",
            "INFJ-A",
            "ESTJ-A"
           ],
           "type": "scatterpolar"
          }
         ],
         "name": "Belgium"
        },
        {
         "data": [
          {
           "hovertemplate": "Country=Belize<br>value=%{r}<br>variable=%{theta}<extra></extra>",
           "legendgroup": "",
           "line": {
            "color": "#636efa",
            "dash": "solid"
           },
           "marker": {
            "symbol": "circle"
           },
           "mode": "lines",
           "name": "",
           "r": [
            0.0288,
            0.0576999999999999,
            0.1085,
            0.0348,
            0.0661,
            0.0523,
            0.0081999999999999,
            0.0382,
            0.0387,
            0.0192,
            0.0237,
            0.0373,
            0.0542999999999999,
            0.03,
            0.0141,
            0.0107,
            0.0153,
            0.0266,
            0.0226,
            0.0317,
            0.0206,
            0.0404,
            0.0226,
            0.0246,
            0.011,
            0.0076,
            0.011,
            0.0331,
            0.0345,
            0.024,
            0.0229,
            0.0288,
            0.0288
           ],
           "showlegend": false,
           "subplot": "polar",
           "theta": [
            "ESTJ-A",
            "ESFJ-A",
            "INFP-T",
            "ESFJ-T",
            "ENFP-T",
            "ENFP-A",
            "ESTJ-T",
            "ISFJ-T",
            "ENFJ-A",
            "ESTP-A",
            "ISTJ-A",
            "INTP-T",
            "INFJ-T",
            "ISFP-T",
            "ENTJ-A",
            "ESTP-T",
            "ISTJ-T",
            "ESFP-T",
            "ENTP-A",
            "ESFP-A",
            "INTJ-T",
            "ISFJ-A",
            "INTP-A",
            "ENTP-T",
            "ISTP-T",
            "ENTJ-T",
            "ISTP-A",
            "INFP-A",
            "ENFJ-T",
            "INTJ-A",
            "ISFP-A",
            "INFJ-A",
            "ESTJ-A"
           ],
           "type": "scatterpolar"
          }
         ],
         "name": "Belize"
        },
        {
         "data": [
          {
           "hovertemplate": "Country=Bhutan<br>value=%{r}<br>variable=%{theta}<extra></extra>",
           "legendgroup": "",
           "line": {
            "color": "#636efa",
            "dash": "solid"
           },
           "marker": {
            "symbol": "circle"
           },
           "mode": "lines",
           "name": "",
           "r": [
            0.0435,
            0.0913,
            0.1292,
            0.0455999999999999,
            0.0969,
            0.0421,
            0.0162,
            0.0441999999999999,
            0.0308999999999999,
            0.0042,
            0.0118999999999999,
            0.0372,
            0.0492,
            0.0441999999999999,
            0.019,
            0.0077,
            0.0118999999999999,
            0.0407,
            0.0056,
            0.0281,
            0.0105,
            0.0316,
            0.0154,
            0.0176,
            0.0084,
            0.0069999999999999,
            0.0056,
            0.0274,
            0.0344,
            0.0084,
            0.0183,
            0.0154,
            0.0435
           ],
           "showlegend": false,
           "subplot": "polar",
           "theta": [
            "ESTJ-A",
            "ESFJ-A",
            "INFP-T",
            "ESFJ-T",
            "ENFP-T",
            "ENFP-A",
            "ESTJ-T",
            "ISFJ-T",
            "ENFJ-A",
            "ESTP-A",
            "ISTJ-A",
            "INTP-T",
            "INFJ-T",
            "ISFP-T",
            "ENTJ-A",
            "ESTP-T",
            "ISTJ-T",
            "ESFP-T",
            "ENTP-A",
            "ESFP-A",
            "INTJ-T",
            "ISFJ-A",
            "INTP-A",
            "ENTP-T",
            "ISTP-T",
            "ENTJ-T",
            "ISTP-A",
            "INFP-A",
            "ENFJ-T",
            "INTJ-A",
            "ISFP-A",
            "INFJ-A",
            "ESTJ-A"
           ],
           "type": "scatterpolar"
          }
         ],
         "name": "Bhutan"
        },
        {
         "data": [
          {
           "hovertemplate": "Country=Bosnia and Herzegovina<br>value=%{r}<br>variable=%{theta}<extra></extra>",
           "legendgroup": "",
           "line": {
            "color": "#636efa",
            "dash": "solid"
           },
           "marker": {
            "symbol": "circle"
           },
           "mode": "lines",
           "name": "",
           "r": [
            0.0359,
            0.0323,
            0.1099,
            0.016,
            0.0665,
            0.0478,
            0.012,
            0.0216,
            0.035,
            0.0199,
            0.0182,
            0.0665,
            0.0605999999999999,
            0.0197,
            0.0392,
            0.0095,
            0.0165,
            0.0139999999999999,
            0.0516999999999999,
            0.017,
            0.037,
            0.013,
            0.0414,
            0.0391,
            0.0102,
            0.0191,
            0.0107,
            0.0276,
            0.0336,
            0.0326,
            0.0089,
            0.0172,
            0.0359
           ],
           "showlegend": false,
           "subplot": "polar",
           "theta": [
            "ESTJ-A",
            "ESFJ-A",
            "INFP-T",
            "ESFJ-T",
            "ENFP-T",
            "ENFP-A",
            "ESTJ-T",
            "ISFJ-T",
            "ENFJ-A",
            "ESTP-A",
            "ISTJ-A",
            "INTP-T",
            "INFJ-T",
            "ISFP-T",
            "ENTJ-A",
            "ESTP-T",
            "ISTJ-T",
            "ESFP-T",
            "ENTP-A",
            "ESFP-A",
            "INTJ-T",
            "ISFJ-A",
            "INTP-A",
            "ENTP-T",
            "ISTP-T",
            "ENTJ-T",
            "ISTP-A",
            "INFP-A",
            "ENFJ-T",
            "INTJ-A",
            "ISFP-A",
            "INFJ-A",
            "ESTJ-A"
           ],
           "type": "scatterpolar"
          }
         ],
         "name": "Bosnia and Herzegovina"
        },
        {
         "data": [
          {
           "hovertemplate": "Country=Botswana<br>value=%{r}<br>variable=%{theta}<extra></extra>",
           "legendgroup": "",
           "line": {
            "color": "#636efa",
            "dash": "solid"
           },
           "marker": {
            "symbol": "circle"
           },
           "mode": "lines",
           "name": "",
           "r": [
            0.0313,
            0.0587,
            0.1168,
            0.0250999999999999,
            0.072,
            0.0479,
            0.0118,
            0.0361,
            0.0418,
            0.0127,
            0.0184,
            0.0462,
            0.0591,
            0.0429,
            0.023,
            0.0101,
            0.0154,
            0.019,
            0.0233999999999999,
            0.0204999999999999,
            0.0177,
            0.0327,
            0.0250999999999999,
            0.0285,
            0.0165,
            0.0112,
            0.0089,
            0.0323,
            0.0327,
            0.0224,
            0.0179,
            0.0217,
            0.0313
           ],
           "showlegend": false,
           "subplot": "polar",
           "theta": [
            "ESTJ-A",
            "ESFJ-A",
            "INFP-T",
            "ESFJ-T",
            "ENFP-T",
            "ENFP-A",
            "ESTJ-T",
            "ISFJ-T",
            "ENFJ-A",
            "ESTP-A",
            "ISTJ-A",
            "INTP-T",
            "INFJ-T",
            "ISFP-T",
            "ENTJ-A",
            "ESTP-T",
            "ISTJ-T",
            "ESFP-T",
            "ENTP-A",
            "ESFP-A",
            "INTJ-T",
            "ISFJ-A",
            "INTP-A",
            "ENTP-T",
            "ISTP-T",
            "ENTJ-T",
            "ISTP-A",
            "INFP-A",
            "ENFJ-T",
            "INTJ-A",
            "ISFP-A",
            "INFJ-A",
            "ESTJ-A"
           ],
           "type": "scatterpolar"
          }
         ],
         "name": "Botswana"
        },
        {
         "data": [
          {
           "hovertemplate": "Country=Brazil<br>value=%{r}<br>variable=%{theta}<extra></extra>",
           "legendgroup": "",
           "line": {
            "color": "#636efa",
            "dash": "solid"
           },
           "marker": {
            "symbol": "circle"
           },
           "mode": "lines",
           "name": "",
           "r": [
            0.0183,
            0.0275,
            0.1598,
            0.0223,
            0.0932,
            0.0404,
            0.0095,
            0.032,
            0.025,
            0.011,
            0.0203,
            0.0664,
            0.0742,
            0.0269,
            0.0151,
            0.0076,
            0.0191,
            0.0172,
            0.0232,
            0.0151,
            0.0374,
            0.017,
            0.0313,
            0.027,
            0.0139,
            0.0124,
            0.0113999999999999,
            0.0292,
            0.0381,
            0.0271,
            0.0113999999999999,
            0.0196,
            0.0183
           ],
           "showlegend": false,
           "subplot": "polar",
           "theta": [
            "ESTJ-A",
            "ESFJ-A",
            "INFP-T",
            "ESFJ-T",
            "ENFP-T",
            "ENFP-A",
            "ESTJ-T",
            "ISFJ-T",
            "ENFJ-A",
            "ESTP-A",
            "ISTJ-A",
            "INTP-T",
            "INFJ-T",
            "ISFP-T",
            "ENTJ-A",
            "ESTP-T",
            "ISTJ-T",
            "ESFP-T",
            "ENTP-A",
            "ESFP-A",
            "INTJ-T",
            "ISFJ-A",
            "INTP-A",
            "ENTP-T",
            "ISTP-T",
            "ENTJ-T",
            "ISTP-A",
            "INFP-A",
            "ENFJ-T",
            "INTJ-A",
            "ISFP-A",
            "INFJ-A",
            "ESTJ-A"
           ],
           "type": "scatterpolar"
          }
         ],
         "name": "Brazil"
        },
        {
         "data": [
          {
           "hovertemplate": "Country=Brunei<br>value=%{r}<br>variable=%{theta}<extra></extra>",
           "legendgroup": "",
           "line": {
            "color": "#636efa",
            "dash": "solid"
           },
           "marker": {
            "symbol": "circle"
           },
           "mode": "lines",
           "name": "",
           "r": [
            0.0143,
            0.0506,
            0.1677,
            0.0394,
            0.0843,
            0.0377,
            0.0102,
            0.0596,
            0.0219,
            0.0088,
            0.0095,
            0.0272,
            0.0694,
            0.0797,
            0.0059,
            0.0101,
            0.0128,
            0.0464,
            0.0095,
            0.0308,
            0.0136,
            0.0264,
            0.0124,
            0.0148,
            0.0147,
            0.006,
            0.0098999999999999,
            0.0275,
            0.0339,
            0.0066,
            0.0243999999999999,
            0.0141,
            0.0143
           ],
           "showlegend": false,
           "subplot": "polar",
           "theta": [
            "ESTJ-A",
            "ESFJ-A",
            "INFP-T",
            "ESFJ-T",
            "ENFP-T",
            "ENFP-A",
            "ESTJ-T",
            "ISFJ-T",
            "ENFJ-A",
            "ESTP-A",
            "ISTJ-A",
            "INTP-T",
            "INFJ-T",
            "ISFP-T",
            "ENTJ-A",
            "ESTP-T",
            "ISTJ-T",
            "ESFP-T",
            "ENTP-A",
            "ESFP-A",
            "INTJ-T",
            "ISFJ-A",
            "INTP-A",
            "ENTP-T",
            "ISTP-T",
            "ENTJ-T",
            "ISTP-A",
            "INFP-A",
            "ENFJ-T",
            "INTJ-A",
            "ISFP-A",
            "INFJ-A",
            "ESTJ-A"
           ],
           "type": "scatterpolar"
          }
         ],
         "name": "Brunei"
        },
        {
         "data": [
          {
           "hovertemplate": "Country=Bulgaria<br>value=%{r}<br>variable=%{theta}<extra></extra>",
           "legendgroup": "",
           "line": {
            "color": "#636efa",
            "dash": "solid"
           },
           "marker": {
            "symbol": "circle"
           },
           "mode": "lines",
           "name": "",
           "r": [
            0.0353,
            0.0279,
            0.1208,
            0.0181,
            0.0794,
            0.0487999999999999,
            0.0141999999999999,
            0.0247,
            0.0306999999999999,
            0.021,
            0.0206,
            0.0621,
            0.0535,
            0.0214,
            0.0342,
            0.009,
            0.0159,
            0.0134,
            0.0498,
            0.0147,
            0.0293,
            0.0144,
            0.0392,
            0.0401999999999999,
            0.0125,
            0.0194,
            0.0138,
            0.0304,
            0.0325,
            0.026,
            0.0107,
            0.0162,
            0.0353
           ],
           "showlegend": false,
           "subplot": "polar",
           "theta": [
            "ESTJ-A",
            "ESFJ-A",
            "INFP-T",
            "ESFJ-T",
            "ENFP-T",
            "ENFP-A",
            "ESTJ-T",
            "ISFJ-T",
            "ENFJ-A",
            "ESTP-A",
            "ISTJ-A",
            "INTP-T",
            "INFJ-T",
            "ISFP-T",
            "ENTJ-A",
            "ESTP-T",
            "ISTJ-T",
            "ESFP-T",
            "ENTP-A",
            "ESFP-A",
            "INTJ-T",
            "ISFJ-A",
            "INTP-A",
            "ENTP-T",
            "ISTP-T",
            "ENTJ-T",
            "ISTP-A",
            "INFP-A",
            "ENFJ-T",
            "INTJ-A",
            "ISFP-A",
            "INFJ-A",
            "ESTJ-A"
           ],
           "type": "scatterpolar"
          }
         ],
         "name": "Bulgaria"
        },
        {
         "data": [
          {
           "hovertemplate": "Country=Burkina Faso<br>value=%{r}<br>variable=%{theta}<extra></extra>",
           "legendgroup": "",
           "line": {
            "color": "#636efa",
            "dash": "solid"
           },
           "marker": {
            "symbol": "circle"
           },
           "mode": "lines",
           "name": "",
           "r": [
            0.0235,
            0.0670999999999999,
            0.0771999999999999,
            0.0268,
            0.1174,
            0.057,
            0.0067,
            0.0369,
            0.0670999999999999,
            0.0268,
            0.0168,
            0.0302,
            0.0503,
            0.0369,
            0.0134,
            0.0101,
            0.0034,
            0.047,
            0.0268,
            0.0436,
            0.0101,
            0.0134,
            0.0235,
            0.0168,
            0.0067,
            0.0101,
            0.0235,
            0.0235,
            0.0403,
            0.0101,
            0.0134,
            0.0302,
            0.0235
           ],
           "showlegend": false,
           "subplot": "polar",
           "theta": [
            "ESTJ-A",
            "ESFJ-A",
            "INFP-T",
            "ESFJ-T",
            "ENFP-T",
            "ENFP-A",
            "ESTJ-T",
            "ISFJ-T",
            "ENFJ-A",
            "ESTP-A",
            "ISTJ-A",
            "INTP-T",
            "INFJ-T",
            "ISFP-T",
            "ENTJ-A",
            "ESTP-T",
            "ISTJ-T",
            "ESFP-T",
            "ENTP-A",
            "ESFP-A",
            "INTJ-T",
            "ISFJ-A",
            "INTP-A",
            "ENTP-T",
            "ISTP-T",
            "ENTJ-T",
            "ISTP-A",
            "INFP-A",
            "ENFJ-T",
            "INTJ-A",
            "ISFP-A",
            "INFJ-A",
            "ESTJ-A"
           ],
           "type": "scatterpolar"
          }
         ],
         "name": "Burkina Faso"
        },
        {
         "data": [
          {
           "hovertemplate": "Country=Cambodia<br>value=%{r}<br>variable=%{theta}<extra></extra>",
           "legendgroup": "",
           "line": {
            "color": "#636efa",
            "dash": "solid"
           },
           "marker": {
            "symbol": "circle"
           },
           "mode": "lines",
           "name": "",
           "r": [
            0.0283999999999999,
            0.0689,
            0.1196,
            0.045,
            0.0806,
            0.0467,
            0.0181,
            0.0455,
            0.0314,
            0.0138,
            0.0148,
            0.0276,
            0.0571,
            0.0483,
            0.012,
            0.0116,
            0.0173,
            0.0387,
            0.0181,
            0.0294,
            0.0159,
            0.0253,
            0.0151,
            0.0189,
            0.0162,
            0.0098,
            0.0103,
            0.0295,
            0.038,
            0.0121,
            0.0197,
            0.0162,
            0.0283999999999999
           ],
           "showlegend": false,
           "subplot": "polar",
           "theta": [
            "ESTJ-A",
            "ESFJ-A",
            "INFP-T",
            "ESFJ-T",
            "ENFP-T",
            "ENFP-A",
            "ESTJ-T",
            "ISFJ-T",
            "ENFJ-A",
            "ESTP-A",
            "ISTJ-A",
            "INTP-T",
            "INFJ-T",
            "ISFP-T",
            "ENTJ-A",
            "ESTP-T",
            "ISTJ-T",
            "ESFP-T",
            "ENTP-A",
            "ESFP-A",
            "INTJ-T",
            "ISFJ-A",
            "INTP-A",
            "ENTP-T",
            "ISTP-T",
            "ENTJ-T",
            "ISTP-A",
            "INFP-A",
            "ENFJ-T",
            "INTJ-A",
            "ISFP-A",
            "INFJ-A",
            "ESTJ-A"
           ],
           "type": "scatterpolar"
          }
         ],
         "name": "Cambodia"
        },
        {
         "data": [
          {
           "hovertemplate": "Country=Cameroon<br>value=%{r}<br>variable=%{theta}<extra></extra>",
           "legendgroup": "",
           "line": {
            "color": "#636efa",
            "dash": "solid"
           },
           "marker": {
            "symbol": "circle"
           },
           "mode": "lines",
           "name": "",
           "r": [
            0.0518,
            0.0938,
            0.0834,
            0.0559999999999999,
            0.0457,
            0.0341,
            0.0219,
            0.0432,
            0.0512,
            0.0139999999999999,
            0.0219,
            0.0279999999999999,
            0.0518,
            0.0323,
            0.0225,
            0.0128,
            0.0171,
            0.0292,
            0.0152,
            0.039,
            0.0231,
            0.0371,
            0.0097,
            0.025,
            0.0116,
            0.0189,
            0.0091,
            0.0262,
            0.0305,
            0.0121999999999999,
            0.0116,
            0.0200999999999999,
            0.0518
           ],
           "showlegend": false,
           "subplot": "polar",
           "theta": [
            "ESTJ-A",
            "ESFJ-A",
            "INFP-T",
            "ESFJ-T",
            "ENFP-T",
            "ENFP-A",
            "ESTJ-T",
            "ISFJ-T",
            "ENFJ-A",
            "ESTP-A",
            "ISTJ-A",
            "INTP-T",
            "INFJ-T",
            "ISFP-T",
            "ENTJ-A",
            "ESTP-T",
            "ISTJ-T",
            "ESFP-T",
            "ENTP-A",
            "ESFP-A",
            "INTJ-T",
            "ISFJ-A",
            "INTP-A",
            "ENTP-T",
            "ISTP-T",
            "ENTJ-T",
            "ISTP-A",
            "INFP-A",
            "ENFJ-T",
            "INTJ-A",
            "ISFP-A",
            "INFJ-A",
            "ESTJ-A"
           ],
           "type": "scatterpolar"
          }
         ],
         "name": "Cameroon"
        },
        {
         "data": [
          {
           "hovertemplate": "Country=Canada<br>value=%{r}<br>variable=%{theta}<extra></extra>",
           "legendgroup": "",
           "line": {
            "color": "#636efa",
            "dash": "solid"
           },
           "marker": {
            "symbol": "circle"
           },
           "mode": "lines",
           "name": "",
           "r": [
            0.0248,
            0.048,
            0.1275,
            0.0346,
            0.0846,
            0.0498,
            0.0108,
            0.0542,
            0.0326,
            0.0141999999999999,
            0.0192,
            0.0372,
            0.065,
            0.0375,
            0.0154,
            0.0079,
            0.0163999999999999,
            0.0237999999999999,
            0.0239,
            0.0237999999999999,
            0.0191,
            0.0296,
            0.022,
            0.0220999999999999,
            0.0116999999999999,
            0.0105,
            0.0112,
            0.0299,
            0.0395,
            0.0159,
            0.0178,
            0.0192999999999999,
            0.0248
           ],
           "showlegend": false,
           "subplot": "polar",
           "theta": [
            "ESTJ-A",
            "ESFJ-A",
            "INFP-T",
            "ESFJ-T",
            "ENFP-T",
            "ENFP-A",
            "ESTJ-T",
            "ISFJ-T",
            "ENFJ-A",
            "ESTP-A",
            "ISTJ-A",
            "INTP-T",
            "INFJ-T",
            "ISFP-T",
            "ENTJ-A",
            "ESTP-T",
            "ISTJ-T",
            "ESFP-T",
            "ENTP-A",
            "ESFP-A",
            "INTJ-T",
            "ISFJ-A",
            "INTP-A",
            "ENTP-T",
            "ISTP-T",
            "ENTJ-T",
            "ISTP-A",
            "INFP-A",
            "ENFJ-T",
            "INTJ-A",
            "ISFP-A",
            "INFJ-A",
            "ESTJ-A"
           ],
           "type": "scatterpolar"
          }
         ],
         "name": "Canada"
        },
        {
         "data": [
          {
           "hovertemplate": "Country=Chile<br>value=%{r}<br>variable=%{theta}<extra></extra>",
           "legendgroup": "",
           "line": {
            "color": "#636efa",
            "dash": "solid"
           },
           "marker": {
            "symbol": "circle"
           },
           "mode": "lines",
           "name": "",
           "r": [
            0.0179,
            0.0302999999999999,
            0.1523,
            0.0165,
            0.0727,
            0.0594,
            0.0075,
            0.0268,
            0.0305,
            0.011,
            0.0207,
            0.0667,
            0.0669,
            0.025,
            0.0157,
            0.005,
            0.0162,
            0.013,
            0.0268,
            0.0179,
            0.0375,
            0.0192,
            0.0374,
            0.0235,
            0.0138,
            0.0108,
            0.0132,
            0.044,
            0.031,
            0.0297,
            0.0146,
            0.0266,
            0.0179
           ],
           "showlegend": false,
           "subplot": "polar",
           "theta": [
            "ESTJ-A",
            "ESFJ-A",
            "INFP-T",
            "ESFJ-T",
            "ENFP-T",
            "ENFP-A",
            "ESTJ-T",
            "ISFJ-T",
            "ENFJ-A",
            "ESTP-A",
            "ISTJ-A",
            "INTP-T",
            "INFJ-T",
            "ISFP-T",
            "ENTJ-A",
            "ESTP-T",
            "ISTJ-T",
            "ESFP-T",
            "ENTP-A",
            "ESFP-A",
            "INTJ-T",
            "ISFJ-A",
            "INTP-A",
            "ENTP-T",
            "ISTP-T",
            "ENTJ-T",
            "ISTP-A",
            "INFP-A",
            "ENFJ-T",
            "INTJ-A",
            "ISFP-A",
            "INFJ-A",
            "ESTJ-A"
           ],
           "type": "scatterpolar"
          }
         ],
         "name": "Chile"
        },
        {
         "data": [
          {
           "hovertemplate": "Country=China<br>value=%{r}<br>variable=%{theta}<extra></extra>",
           "legendgroup": "",
           "line": {
            "color": "#636efa",
            "dash": "solid"
           },
           "marker": {
            "symbol": "circle"
           },
           "mode": "lines",
           "name": "",
           "r": [
            0.0335,
            0.0601,
            0.0822,
            0.0415,
            0.059,
            0.0353,
            0.0206,
            0.059,
            0.0279999999999999,
            0.017,
            0.0231,
            0.0366999999999999,
            0.0401,
            0.0575,
            0.0175,
            0.015,
            0.0243,
            0.0385,
            0.0207,
            0.0296,
            0.0210999999999999,
            0.0362,
            0.0204,
            0.0227999999999999,
            0.0214,
            0.0128,
            0.0144999999999999,
            0.0241,
            0.0289,
            0.0163,
            0.0266,
            0.0159,
            0.0335
           ],
           "showlegend": false,
           "subplot": "polar",
           "theta": [
            "ESTJ-A",
            "ESFJ-A",
            "INFP-T",
            "ESFJ-T",
            "ENFP-T",
            "ENFP-A",
            "ESTJ-T",
            "ISFJ-T",
            "ENFJ-A",
            "ESTP-A",
            "ISTJ-A",
            "INTP-T",
            "INFJ-T",
            "ISFP-T",
            "ENTJ-A",
            "ESTP-T",
            "ISTJ-T",
            "ESFP-T",
            "ENTP-A",
            "ESFP-A",
            "INTJ-T",
            "ISFJ-A",
            "INTP-A",
            "ENTP-T",
            "ISTP-T",
            "ENTJ-T",
            "ISTP-A",
            "INFP-A",
            "ENFJ-T",
            "INTJ-A",
            "ISFP-A",
            "INFJ-A",
            "ESTJ-A"
           ],
           "type": "scatterpolar"
          }
         ],
         "name": "China"
        },
        {
         "data": [
          {
           "hovertemplate": "Country=Colombia<br>value=%{r}<br>variable=%{theta}<extra></extra>",
           "legendgroup": "",
           "line": {
            "color": "#636efa",
            "dash": "solid"
           },
           "marker": {
            "symbol": "circle"
           },
           "mode": "lines",
           "name": "",
           "r": [
            0.0302,
            0.0608,
            0.107,
            0.0236,
            0.0773,
            0.0605999999999999,
            0.0128,
            0.0239,
            0.0478,
            0.0152,
            0.0169,
            0.0573,
            0.0479,
            0.0224,
            0.0245,
            0.0097,
            0.0163999999999999,
            0.0195,
            0.0322,
            0.0256999999999999,
            0.0282,
            0.0197999999999999,
            0.0288,
            0.0278,
            0.0123,
            0.0157,
            0.0103,
            0.0302,
            0.0366,
            0.0245,
            0.013,
            0.0210999999999999,
            0.0302
           ],
           "showlegend": false,
           "subplot": "polar",
           "theta": [
            "ESTJ-A",
            "ESFJ-A",
            "INFP-T",
            "ESFJ-T",
            "ENFP-T",
            "ENFP-A",
            "ESTJ-T",
            "ISFJ-T",
            "ENFJ-A",
            "ESTP-A",
            "ISTJ-A",
            "INTP-T",
            "INFJ-T",
            "ISFP-T",
            "ENTJ-A",
            "ESTP-T",
            "ISTJ-T",
            "ESFP-T",
            "ENTP-A",
            "ESFP-A",
            "INTJ-T",
            "ISFJ-A",
            "INTP-A",
            "ENTP-T",
            "ISTP-T",
            "ENTJ-T",
            "ISTP-A",
            "INFP-A",
            "ENFJ-T",
            "INTJ-A",
            "ISFP-A",
            "INFJ-A",
            "ESTJ-A"
           ],
           "type": "scatterpolar"
          }
         ],
         "name": "Colombia"
        },
        {
         "data": [
          {
           "hovertemplate": "Country=Congo<br>value=%{r}<br>variable=%{theta}<extra></extra>",
           "legendgroup": "",
           "line": {
            "color": "#636efa",
            "dash": "solid"
           },
           "marker": {
            "symbol": "circle"
           },
           "mode": "lines",
           "name": "",
           "r": [
            0.0663,
            0.0663,
            0.0401999999999999,
            0.0542,
            0.0501999999999999,
            0.0421999999999999,
            0.0161,
            0.0281,
            0.0501999999999999,
            0.0321,
            0.0361,
            0.0220999999999999,
            0.0542,
            0.0220999999999999,
            0.0421999999999999,
            0.0161,
            0.0181,
            0.0341,
            0.0301,
            0.0260999999999999,
            0.0161,
            0.0482,
            0.012,
            0.0321,
            0.0161,
            0.0220999999999999,
            0.0161,
            0.01,
            0.0301,
            0.0200999999999999,
            0.0161,
            0.0141,
            0.0663
           ],
           "showlegend": false,
           "subplot": "polar",
           "theta": [
            "ESTJ-A",
            "ESFJ-A",
            "INFP-T",
            "ESFJ-T",
            "ENFP-T",
            "ENFP-A",
            "ESTJ-T",
            "ISFJ-T",
            "ENFJ-A",
            "ESTP-A",
            "ISTJ-A",
            "INTP-T",
            "INFJ-T",
            "ISFP-T",
            "ENTJ-A",
            "ESTP-T",
            "ISTJ-T",
            "ESFP-T",
            "ENTP-A",
            "ESFP-A",
            "INTJ-T",
            "ISFJ-A",
            "INTP-A",
            "ENTP-T",
            "ISTP-T",
            "ENTJ-T",
            "ISTP-A",
            "INFP-A",
            "ENFJ-T",
            "INTJ-A",
            "ISFP-A",
            "INFJ-A",
            "ESTJ-A"
           ],
           "type": "scatterpolar"
          }
         ],
         "name": "Congo"
        },
        {
         "data": [
          {
           "hovertemplate": "Country=Costa Rica<br>value=%{r}<br>variable=%{theta}<extra></extra>",
           "legendgroup": "",
           "line": {
            "color": "#636efa",
            "dash": "solid"
           },
           "marker": {
            "symbol": "circle"
           },
           "mode": "lines",
           "name": "",
           "r": [
            0.0258,
            0.0464,
            0.1031,
            0.0252,
            0.0875,
            0.0674,
            0.0115,
            0.0291,
            0.0397,
            0.0149,
            0.0204999999999999,
            0.0501,
            0.0498,
            0.0219,
            0.0208,
            0.0087,
            0.0174,
            0.0186,
            0.033,
            0.0260999999999999,
            0.0297,
            0.0210999999999999,
            0.0297,
            0.0306,
            0.0106,
            0.016,
            0.011,
            0.0352,
            0.0398,
            0.0237999999999999,
            0.0156,
            0.0194,
            0.0258
           ],
           "showlegend": false,
           "subplot": "polar",
           "theta": [
            "ESTJ-A",
            "ESFJ-A",
            "INFP-T",
            "ESFJ-T",
            "ENFP-T",
            "ENFP-A",
            "ESTJ-T",
            "ISFJ-T",
            "ENFJ-A",
            "ESTP-A",
            "ISTJ-A",
            "INTP-T",
            "INFJ-T",
            "ISFP-T",
            "ENTJ-A",
            "ESTP-T",
            "ISTJ-T",
            "ESFP-T",
            "ENTP-A",
            "ESFP-A",
            "INTJ-T",
            "ISFJ-A",
            "INTP-A",
            "ENTP-T",
            "ISTP-T",
            "ENTJ-T",
            "ISTP-A",
            "INFP-A",
            "ENFJ-T",
            "INTJ-A",
            "ISFP-A",
            "INFJ-A",
            "ESTJ-A"
           ],
           "type": "scatterpolar"
          }
         ],
         "name": "Costa Rica"
        },
        {
         "data": [
          {
           "hovertemplate": "Country=Croatia<br>value=%{r}<br>variable=%{theta}<extra></extra>",
           "legendgroup": "",
           "line": {
            "color": "#636efa",
            "dash": "solid"
           },
           "marker": {
            "symbol": "circle"
           },
           "mode": "lines",
           "name": "",
           "r": [
            0.0349,
            0.0355,
            0.1201,
            0.0203,
            0.0771,
            0.0509,
            0.0129,
            0.026,
            0.0356,
            0.019,
            0.0182,
            0.0592,
            0.0607,
            0.0218,
            0.0297,
            0.0083,
            0.0158,
            0.0156,
            0.0409,
            0.0183,
            0.0333,
            0.0151,
            0.0333,
            0.0361,
            0.0115,
            0.0177,
            0.012,
            0.0283,
            0.0356999999999999,
            0.0272,
            0.0103,
            0.0187999999999999,
            0.0349
           ],
           "showlegend": false,
           "subplot": "polar",
           "theta": [
            "ESTJ-A",
            "ESFJ-A",
            "INFP-T",
            "ESFJ-T",
            "ENFP-T",
            "ENFP-A",
            "ESTJ-T",
            "ISFJ-T",
            "ENFJ-A",
            "ESTP-A",
            "ISTJ-A",
            "INTP-T",
            "INFJ-T",
            "ISFP-T",
            "ENTJ-A",
            "ESTP-T",
            "ISTJ-T",
            "ESFP-T",
            "ENTP-A",
            "ESFP-A",
            "INTJ-T",
            "ISFJ-A",
            "INTP-A",
            "ENTP-T",
            "ISTP-T",
            "ENTJ-T",
            "ISTP-A",
            "INFP-A",
            "ENFJ-T",
            "INTJ-A",
            "ISFP-A",
            "INFJ-A",
            "ESTJ-A"
           ],
           "type": "scatterpolar"
          }
         ],
         "name": "Croatia"
        },
        {
         "data": [
          {
           "hovertemplate": "Country=Cuba<br>value=%{r}<br>variable=%{theta}<extra></extra>",
           "legendgroup": "",
           "line": {
            "color": "#636efa",
            "dash": "solid"
           },
           "marker": {
            "symbol": "circle"
           },
           "mode": "lines",
           "name": "",
           "r": [
            0.0181,
            0.0758,
            0.0578,
            0.0289,
            0.1083,
            0.0902999999999999,
            0.0108,
            0.0289,
            0.0504999999999999,
            0.0036,
            0.0181,
            0.0325,
            0.0217,
            0.0289,
            0.0144,
            0.0036,
            0.0253,
            0.0217,
            0.0578,
            0.0361,
            0.0108,
            0.0325,
            0.0217,
            0.0325,
            0.0181,
            0.0108,
            0.0108,
            0.065,
            0.0181,
            0.0108,
            0.0144,
            0.0217,
            0.0181
           ],
           "showlegend": false,
           "subplot": "polar",
           "theta": [
            "ESTJ-A",
            "ESFJ-A",
            "INFP-T",
            "ESFJ-T",
            "ENFP-T",
            "ENFP-A",
            "ESTJ-T",
            "ISFJ-T",
            "ENFJ-A",
            "ESTP-A",
            "ISTJ-A",
            "INTP-T",
            "INFJ-T",
            "ISFP-T",
            "ENTJ-A",
            "ESTP-T",
            "ISTJ-T",
            "ESFP-T",
            "ENTP-A",
            "ESFP-A",
            "INTJ-T",
            "ISFJ-A",
            "INTP-A",
            "ENTP-T",
            "ISTP-T",
            "ENTJ-T",
            "ISTP-A",
            "INFP-A",
            "ENFJ-T",
            "INTJ-A",
            "ISFP-A",
            "INFJ-A",
            "ESTJ-A"
           ],
           "type": "scatterpolar"
          }
         ],
         "name": "Cuba"
        },
        {
         "data": [
          {
           "hovertemplate": "Country=Cyprus<br>value=%{r}<br>variable=%{theta}<extra></extra>",
           "legendgroup": "",
           "line": {
            "color": "#636efa",
            "dash": "solid"
           },
           "marker": {
            "symbol": "circle"
           },
           "mode": "lines",
           "name": "",
           "r": [
            0.0338,
            0.0498,
            0.1135999999999999,
            0.0299,
            0.0822,
            0.0473,
            0.0156,
            0.0317,
            0.0395999999999999,
            0.0178,
            0.0189,
            0.0465,
            0.0581,
            0.027,
            0.0283,
            0.0095,
            0.0163999999999999,
            0.0215,
            0.0327999999999999,
            0.0199,
            0.0247,
            0.0195,
            0.0252,
            0.0327,
            0.0115,
            0.0187999999999999,
            0.0093,
            0.0248,
            0.0448,
            0.0191,
            0.0113999999999999,
            0.0177,
            0.0338
           ],
           "showlegend": false,
           "subplot": "polar",
           "theta": [
            "ESTJ-A",
            "ESFJ-A",
            "INFP-T",
            "ESFJ-T",
            "ENFP-T",
            "ENFP-A",
            "ESTJ-T",
            "ISFJ-T",
            "ENFJ-A",
            "ESTP-A",
            "ISTJ-A",
            "INTP-T",
            "INFJ-T",
            "ISFP-T",
            "ENTJ-A",
            "ESTP-T",
            "ISTJ-T",
            "ESFP-T",
            "ENTP-A",
            "ESFP-A",
            "INTJ-T",
            "ISFJ-A",
            "INTP-A",
            "ENTP-T",
            "ISTP-T",
            "ENTJ-T",
            "ISTP-A",
            "INFP-A",
            "ENFJ-T",
            "INTJ-A",
            "ISFP-A",
            "INFJ-A",
            "ESTJ-A"
           ],
           "type": "scatterpolar"
          }
         ],
         "name": "Cyprus"
        },
        {
         "data": [
          {
           "hovertemplate": "Country=Czech Republic<br>value=%{r}<br>variable=%{theta}<extra></extra>",
           "legendgroup": "",
           "line": {
            "color": "#636efa",
            "dash": "solid"
           },
           "marker": {
            "symbol": "circle"
           },
           "mode": "lines",
           "name": "",
           "r": [
            0.0296,
            0.0302,
            0.1344,
            0.0236,
            0.0739,
            0.0444,
            0.0124,
            0.0324,
            0.0216,
            0.0192,
            0.0213,
            0.0636,
            0.0643,
            0.0260999999999999,
            0.0208,
            0.0093,
            0.0191,
            0.0185,
            0.0372,
            0.0194,
            0.0347,
            0.0166,
            0.0368,
            0.0327,
            0.0141999999999999,
            0.0136,
            0.0152,
            0.0296,
            0.0295,
            0.0263,
            0.0132,
            0.0163,
            0.0296
           ],
           "showlegend": false,
           "subplot": "polar",
           "theta": [
            "ESTJ-A",
            "ESFJ-A",
            "INFP-T",
            "ESFJ-T",
            "ENFP-T",
            "ENFP-A",
            "ESTJ-T",
            "ISFJ-T",
            "ENFJ-A",
            "ESTP-A",
            "ISTJ-A",
            "INTP-T",
            "INFJ-T",
            "ISFP-T",
            "ENTJ-A",
            "ESTP-T",
            "ISTJ-T",
            "ESFP-T",
            "ENTP-A",
            "ESFP-A",
            "INTJ-T",
            "ISFJ-A",
            "INTP-A",
            "ENTP-T",
            "ISTP-T",
            "ENTJ-T",
            "ISTP-A",
            "INFP-A",
            "ENFJ-T",
            "INTJ-A",
            "ISFP-A",
            "INFJ-A",
            "ESTJ-A"
           ],
           "type": "scatterpolar"
          }
         ],
         "name": "Czech Republic"
        },
        {
         "data": [
          {
           "hovertemplate": "Country=Congo (Kinshasa)<br>value=%{r}<br>variable=%{theta}<extra></extra>",
           "legendgroup": "",
           "line": {
            "color": "#636efa",
            "dash": "solid"
           },
           "marker": {
            "symbol": "circle"
           },
           "mode": "lines",
           "name": "",
           "r": [
            0.0663,
            0.0663,
            0.0401999999999999,
            0.0542,
            0.0501999999999999,
            0.0421999999999999,
            0.0161,
            0.0281,
            0.0501999999999999,
            0.0321,
            0.0361,
            0.0220999999999999,
            0.0542,
            0.0220999999999999,
            0.0421999999999999,
            0.0161,
            0.0181,
            0.0341,
            0.0301,
            0.0260999999999999,
            0.0161,
            0.0482,
            0.012,
            0.0321,
            0.0161,
            0.0220999999999999,
            0.0161,
            0.01,
            0.0301,
            0.0200999999999999,
            0.0161,
            0.0141,
            0.0663
           ],
           "showlegend": false,
           "subplot": "polar",
           "theta": [
            "ESTJ-A",
            "ESFJ-A",
            "INFP-T",
            "ESFJ-T",
            "ENFP-T",
            "ENFP-A",
            "ESTJ-T",
            "ISFJ-T",
            "ENFJ-A",
            "ESTP-A",
            "ISTJ-A",
            "INTP-T",
            "INFJ-T",
            "ISFP-T",
            "ENTJ-A",
            "ESTP-T",
            "ISTJ-T",
            "ESFP-T",
            "ENTP-A",
            "ESFP-A",
            "INTJ-T",
            "ISFJ-A",
            "INTP-A",
            "ENTP-T",
            "ISTP-T",
            "ENTJ-T",
            "ISTP-A",
            "INFP-A",
            "ENFJ-T",
            "INTJ-A",
            "ISFP-A",
            "INFJ-A",
            "ESTJ-A"
           ],
           "type": "scatterpolar"
          }
         ],
         "name": "Congo (Kinshasa)"
        },
        {
         "data": [
          {
           "hovertemplate": "Country=Denmark<br>value=%{r}<br>variable=%{theta}<extra></extra>",
           "legendgroup": "",
           "line": {
            "color": "#636efa",
            "dash": "solid"
           },
           "marker": {
            "symbol": "circle"
           },
           "mode": "lines",
           "name": "",
           "r": [
            0.0289,
            0.0449,
            0.1253,
            0.027,
            0.0824,
            0.0673,
            0.0085,
            0.0383,
            0.0333,
            0.0192999999999999,
            0.0176,
            0.0399,
            0.0649,
            0.0296,
            0.0184,
            0.0064,
            0.0134,
            0.0197,
            0.0358,
            0.0285,
            0.02,
            0.0195,
            0.031,
            0.0213,
            0.0112,
            0.0093,
            0.0133,
            0.0368,
            0.0337,
            0.0187999999999999,
            0.0174,
            0.0185,
            0.0289
           ],
           "showlegend": false,
           "subplot": "polar",
           "theta": [
            "ESTJ-A",
            "ESFJ-A",
            "INFP-T",
            "ESFJ-T",
            "ENFP-T",
            "ENFP-A",
            "ESTJ-T",
            "ISFJ-T",
            "ENFJ-A",
            "ESTP-A",
            "ISTJ-A",
            "INTP-T",
            "INFJ-T",
            "ISFP-T",
            "ENTJ-A",
            "ESTP-T",
            "ISTJ-T",
            "ESFP-T",
            "ENTP-A",
            "ESFP-A",
            "INTJ-T",
            "ISFJ-A",
            "INTP-A",
            "ENTP-T",
            "ISTP-T",
            "ENTJ-T",
            "ISTP-A",
            "INFP-A",
            "ENFJ-T",
            "INTJ-A",
            "ISFP-A",
            "INFJ-A",
            "ESTJ-A"
           ],
           "type": "scatterpolar"
          }
         ],
         "name": "Denmark"
        },
        {
         "data": [
          {
           "hovertemplate": "Country=Djibouti<br>value=%{r}<br>variable=%{theta}<extra></extra>",
           "legendgroup": "",
           "line": {
            "color": "#636efa",
            "dash": "solid"
           },
           "marker": {
            "symbol": "circle"
           },
           "mode": "lines",
           "name": "",
           "r": [
            0.0311,
            0.0687,
            0.054,
            0.0229,
            0.0622,
            0.0588999999999999,
            0.018,
            0.0344,
            0.0229,
            0.0327,
            0.0393,
            0.0147,
            0.0458,
            0.0327,
            0.0278,
            0.018,
            0.0115,
            0.0229,
            0.0344,
            0.0196,
            0.0213,
            0.0229,
            0.0507,
            0.0147,
            0.018,
            0.0213,
            0.018,
            0.0426,
            0.0295,
            0.0278,
            0.0295,
            0.0311,
            0.0311
           ],
           "showlegend": false,
           "subplot": "polar",
           "theta": [
            "ESTJ-A",
            "ESFJ-A",
            "INFP-T",
            "ESFJ-T",
            "ENFP-T",
            "ENFP-A",
            "ESTJ-T",
            "ISFJ-T",
            "ENFJ-A",
            "ESTP-A",
            "ISTJ-A",
            "INTP-T",
            "INFJ-T",
            "ISFP-T",
            "ENTJ-A",
            "ESTP-T",
            "ISTJ-T",
            "ESFP-T",
            "ENTP-A",
            "ESFP-A",
            "INTJ-T",
            "ISFJ-A",
            "INTP-A",
            "ENTP-T",
            "ISTP-T",
            "ENTJ-T",
            "ISTP-A",
            "INFP-A",
            "ENFJ-T",
            "INTJ-A",
            "ISFP-A",
            "INFJ-A",
            "ESTJ-A"
           ],
           "type": "scatterpolar"
          }
         ],
         "name": "Djibouti"
        },
        {
         "data": [
          {
           "hovertemplate": "Country=Dominica<br>value=%{r}<br>variable=%{theta}<extra></extra>",
           "legendgroup": "",
           "line": {
            "color": "#636efa",
            "dash": "solid"
           },
           "marker": {
            "symbol": "circle"
           },
           "mode": "lines",
           "name": "",
           "r": [
            0.0323,
            0.0679,
            0.1101,
            0.0182,
            0.0588,
            0.0348,
            0.0108,
            0.0447,
            0.0356,
            0.0157,
            0.0232,
            0.0695,
            0.0670999999999999,
            0.0298,
            0.0166,
            0.0124,
            0.0157,
            0.0149,
            0.0207,
            0.0224,
            0.0306,
            0.0339,
            0.0207,
            0.024,
            0.0108,
            0.0083,
            0.0141,
            0.0373,
            0.0224,
            0.0256999999999999,
            0.0265,
            0.0248,
            0.0323
           ],
           "showlegend": false,
           "subplot": "polar",
           "theta": [
            "ESTJ-A",
            "ESFJ-A",
            "INFP-T",
            "ESFJ-T",
            "ENFP-T",
            "ENFP-A",
            "ESTJ-T",
            "ISFJ-T",
            "ENFJ-A",
            "ESTP-A",
            "ISTJ-A",
            "INTP-T",
            "INFJ-T",
            "ISFP-T",
            "ENTJ-A",
            "ESTP-T",
            "ISTJ-T",
            "ESFP-T",
            "ENTP-A",
            "ESFP-A",
            "INTJ-T",
            "ISFJ-A",
            "INTP-A",
            "ENTP-T",
            "ISTP-T",
            "ENTJ-T",
            "ISTP-A",
            "INFP-A",
            "ENFJ-T",
            "INTJ-A",
            "ISFP-A",
            "INFJ-A",
            "ESTJ-A"
           ],
           "type": "scatterpolar"
          }
         ],
         "name": "Dominica"
        },
        {
         "data": [
          {
           "hovertemplate": "Country=Dominican Republic<br>value=%{r}<br>variable=%{theta}<extra></extra>",
           "legendgroup": "",
           "line": {
            "color": "#636efa",
            "dash": "solid"
           },
           "marker": {
            "symbol": "circle"
           },
           "mode": "lines",
           "name": "",
           "r": [
            0.0291,
            0.0572,
            0.1052999999999999,
            0.0282,
            0.0839,
            0.063,
            0.0093,
            0.0365,
            0.0437,
            0.0172,
            0.0199,
            0.0409999999999999,
            0.0565,
            0.0288,
            0.0200999999999999,
            0.0083,
            0.0118,
            0.0207,
            0.0255,
            0.0334,
            0.019,
            0.0269,
            0.0242,
            0.024,
            0.009,
            0.0107,
            0.0118,
            0.0356,
            0.0397,
            0.0225,
            0.015,
            0.0224,
            0.0291
           ],
           "showlegend": false,
           "subplot": "polar",
           "theta": [
            "ESTJ-A",
            "ESFJ-A",
            "INFP-T",
            "ESFJ-T",
            "ENFP-T",
            "ENFP-A",
            "ESTJ-T",
            "ISFJ-T",
            "ENFJ-A",
            "ESTP-A",
            "ISTJ-A",
            "INTP-T",
            "INFJ-T",
            "ISFP-T",
            "ENTJ-A",
            "ESTP-T",
            "ISTJ-T",
            "ESFP-T",
            "ENTP-A",
            "ESFP-A",
            "INTJ-T",
            "ISFJ-A",
            "INTP-A",
            "ENTP-T",
            "ISTP-T",
            "ENTJ-T",
            "ISTP-A",
            "INFP-A",
            "ENFJ-T",
            "INTJ-A",
            "ISFP-A",
            "INFJ-A",
            "ESTJ-A"
           ],
           "type": "scatterpolar"
          }
         ],
         "name": "Dominican Republic"
        },
        {
         "data": [
          {
           "hovertemplate": "Country=Ecuador<br>value=%{r}<br>variable=%{theta}<extra></extra>",
           "legendgroup": "",
           "line": {
            "color": "#636efa",
            "dash": "solid"
           },
           "marker": {
            "symbol": "circle"
           },
           "mode": "lines",
           "name": "",
           "r": [
            0.0266999999999999,
            0.0507,
            0.106,
            0.0233999999999999,
            0.0828,
            0.0637,
            0.0132,
            0.0277,
            0.0389,
            0.0159,
            0.0174,
            0.0496999999999999,
            0.0457,
            0.0272,
            0.021,
            0.0121999999999999,
            0.0165,
            0.0274,
            0.0345,
            0.0302999999999999,
            0.0266999999999999,
            0.0223,
            0.0311,
            0.0297,
            0.0127,
            0.0113,
            0.0118999999999999,
            0.0327,
            0.0315,
            0.0233,
            0.0168,
            0.019,
            0.0266999999999999
           ],
           "showlegend": false,
           "subplot": "polar",
           "theta": [
            "ESTJ-A",
            "ESFJ-A",
            "INFP-T",
            "ESFJ-T",
            "ENFP-T",
            "ENFP-A",
            "ESTJ-T",
            "ISFJ-T",
            "ENFJ-A",
            "ESTP-A",
            "ISTJ-A",
            "INTP-T",
            "INFJ-T",
            "ISFP-T",
            "ENTJ-A",
            "ESTP-T",
            "ISTJ-T",
            "ESFP-T",
            "ENTP-A",
            "ESFP-A",
            "INTJ-T",
            "ISFJ-A",
            "INTP-A",
            "ENTP-T",
            "ISTP-T",
            "ENTJ-T",
            "ISTP-A",
            "INFP-A",
            "ENFJ-T",
            "INTJ-A",
            "ISFP-A",
            "INFJ-A",
            "ESTJ-A"
           ],
           "type": "scatterpolar"
          }
         ],
         "name": "Ecuador"
        },
        {
         "data": [
          {
           "hovertemplate": "Country=Egypt<br>value=%{r}<br>variable=%{theta}<extra></extra>",
           "legendgroup": "",
           "line": {
            "color": "#636efa",
            "dash": "solid"
           },
           "marker": {
            "symbol": "circle"
           },
           "mode": "lines",
           "name": "",
           "r": [
            0.0324,
            0.0377,
            0.0989,
            0.0333,
            0.0785,
            0.0391,
            0.02,
            0.0343,
            0.0343,
            0.0178,
            0.0195,
            0.0466,
            0.0506,
            0.0364,
            0.0258,
            0.017,
            0.0215,
            0.0305,
            0.0274,
            0.0218,
            0.0279,
            0.0187999999999999,
            0.0253,
            0.0312,
            0.0196,
            0.0209,
            0.0139999999999999,
            0.0231,
            0.0424,
            0.0218,
            0.0154,
            0.0159,
            0.0324
           ],
           "showlegend": false,
           "subplot": "polar",
           "theta": [
            "ESTJ-A",
            "ESFJ-A",
            "INFP-T",
            "ESFJ-T",
            "ENFP-T",
            "ENFP-A",
            "ESTJ-T",
            "ISFJ-T",
            "ENFJ-A",
            "ESTP-A",
            "ISTJ-A",
            "INTP-T",
            "INFJ-T",
            "ISFP-T",
            "ENTJ-A",
            "ESTP-T",
            "ISTJ-T",
            "ESFP-T",
            "ENTP-A",
            "ESFP-A",
            "INTJ-T",
            "ISFJ-A",
            "INTP-A",
            "ENTP-T",
            "ISTP-T",
            "ENTJ-T",
            "ISTP-A",
            "INFP-A",
            "ENFJ-T",
            "INTJ-A",
            "ISFP-A",
            "INFJ-A",
            "ESTJ-A"
           ],
           "type": "scatterpolar"
          }
         ],
         "name": "Egypt"
        },
        {
         "data": [
          {
           "hovertemplate": "Country=El Salvador<br>value=%{r}<br>variable=%{theta}<extra></extra>",
           "legendgroup": "",
           "line": {
            "color": "#636efa",
            "dash": "solid"
           },
           "marker": {
            "symbol": "circle"
           },
           "mode": "lines",
           "name": "",
           "r": [
            0.0298,
            0.0648,
            0.1124,
            0.0247,
            0.0786,
            0.0542999999999999,
            0.0111,
            0.026,
            0.0385999999999999,
            0.0163999999999999,
            0.018,
            0.0533,
            0.0432,
            0.0248,
            0.0222,
            0.0078,
            0.0157,
            0.0216,
            0.0321,
            0.0308,
            0.0262,
            0.0227,
            0.0315,
            0.0269,
            0.0134,
            0.0118999999999999,
            0.0111,
            0.0338,
            0.0292,
            0.0291,
            0.0155,
            0.0226,
            0.0298
           ],
           "showlegend": false,
           "subplot": "polar",
           "theta": [
            "ESTJ-A",
            "ESFJ-A",
            "INFP-T",
            "ESFJ-T",
            "ENFP-T",
            "ENFP-A",
            "ESTJ-T",
            "ISFJ-T",
            "ENFJ-A",
            "ESTP-A",
            "ISTJ-A",
            "INTP-T",
            "INFJ-T",
            "ISFP-T",
            "ENTJ-A",
            "ESTP-T",
            "ISTJ-T",
            "ESFP-T",
            "ENTP-A",
            "ESFP-A",
            "INTJ-T",
            "ISFJ-A",
            "INTP-A",
            "ENTP-T",
            "ISTP-T",
            "ENTJ-T",
            "ISTP-A",
            "INFP-A",
            "ENFJ-T",
            "INTJ-A",
            "ISFP-A",
            "INFJ-A",
            "ESTJ-A"
           ],
           "type": "scatterpolar"
          }
         ],
         "name": "El Salvador"
        },
        {
         "data": [
          {
           "hovertemplate": "Country=Estonia<br>value=%{r}<br>variable=%{theta}<extra></extra>",
           "legendgroup": "",
           "line": {
            "color": "#636efa",
            "dash": "solid"
           },
           "marker": {
            "symbol": "circle"
           },
           "mode": "lines",
           "name": "",
           "r": [
            0.0241,
            0.0274,
            0.1449,
            0.0216,
            0.0825,
            0.05,
            0.0118999999999999,
            0.0388,
            0.0265,
            0.016,
            0.0197999999999999,
            0.0604,
            0.0682,
            0.032,
            0.0186,
            0.0098,
            0.0195,
            0.016,
            0.0331,
            0.0182,
            0.0266,
            0.0178,
            0.0317,
            0.0285,
            0.0159,
            0.0121,
            0.0144,
            0.0313,
            0.0332,
            0.0192999999999999,
            0.0138,
            0.0157,
            0.0241
           ],
           "showlegend": false,
           "subplot": "polar",
           "theta": [
            "ESTJ-A",
            "ESFJ-A",
            "INFP-T",
            "ESFJ-T",
            "ENFP-T",
            "ENFP-A",
            "ESTJ-T",
            "ISFJ-T",
            "ENFJ-A",
            "ESTP-A",
            "ISTJ-A",
            "INTP-T",
            "INFJ-T",
            "ISFP-T",
            "ENTJ-A",
            "ESTP-T",
            "ISTJ-T",
            "ESFP-T",
            "ENTP-A",
            "ESFP-A",
            "INTJ-T",
            "ISFJ-A",
            "INTP-A",
            "ENTP-T",
            "ISTP-T",
            "ENTJ-T",
            "ISTP-A",
            "INFP-A",
            "ENFJ-T",
            "INTJ-A",
            "ISFP-A",
            "INFJ-A",
            "ESTJ-A"
           ],
           "type": "scatterpolar"
          }
         ],
         "name": "Estonia"
        },
        {
         "data": [
          {
           "hovertemplate": "Country=Ethiopia<br>value=%{r}<br>variable=%{theta}<extra></extra>",
           "legendgroup": "",
           "line": {
            "color": "#636efa",
            "dash": "solid"
           },
           "marker": {
            "symbol": "circle"
           },
           "mode": "lines",
           "name": "",
           "r": [
            0.0425,
            0.072,
            0.0819999999999999,
            0.0327999999999999,
            0.0576999999999999,
            0.0423,
            0.0187,
            0.0334,
            0.0405,
            0.0143,
            0.0220999999999999,
            0.0425,
            0.0399,
            0.0423,
            0.0232,
            0.012,
            0.0172,
            0.0359,
            0.0252,
            0.0308,
            0.0220999999999999,
            0.0288,
            0.0252,
            0.0298,
            0.0163,
            0.0141999999999999,
            0.0132,
            0.0332,
            0.0279,
            0.0204999999999999,
            0.0214,
            0.02,
            0.0425
           ],
           "showlegend": false,
           "subplot": "polar",
           "theta": [
            "ESTJ-A",
            "ESFJ-A",
            "INFP-T",
            "ESFJ-T",
            "ENFP-T",
            "ENFP-A",
            "ESTJ-T",
            "ISFJ-T",
            "ENFJ-A",
            "ESTP-A",
            "ISTJ-A",
            "INTP-T",
            "INFJ-T",
            "ISFP-T",
            "ENTJ-A",
            "ESTP-T",
            "ISTJ-T",
            "ESFP-T",
            "ENTP-A",
            "ESFP-A",
            "INTJ-T",
            "ISFJ-A",
            "INTP-A",
            "ENTP-T",
            "ISTP-T",
            "ENTJ-T",
            "ISTP-A",
            "INFP-A",
            "ENFJ-T",
            "INTJ-A",
            "ISFP-A",
            "INFJ-A",
            "ESTJ-A"
           ],
           "type": "scatterpolar"
          }
         ],
         "name": "Ethiopia"
        },
        {
         "data": [
          {
           "hovertemplate": "Country=Faroe Islands<br>value=%{r}<br>variable=%{theta}<extra></extra>",
           "legendgroup": "",
           "line": {
            "color": "#636efa",
            "dash": "solid"
           },
           "marker": {
            "symbol": "circle"
           },
           "mode": "lines",
           "name": "",
           "r": [
            0.026,
            0.0335,
            0.1525999999999999,
            0.0229,
            0.0744,
            0.0425,
            0.0112,
            0.0441,
            0.0239,
            0.0154,
            0.0159,
            0.0532,
            0.0686,
            0.0548,
            0.009,
            0.0053,
            0.0138,
            0.0245,
            0.0245,
            0.0319,
            0.0165,
            0.0186,
            0.0324,
            0.0112,
            0.0116999999999999,
            0.0037,
            0.0116999999999999,
            0.0447,
            0.0314,
            0.0149,
            0.0351,
            0.0202,
            0.026
           ],
           "showlegend": false,
           "subplot": "polar",
           "theta": [
            "ESTJ-A",
            "ESFJ-A",
            "INFP-T",
            "ESFJ-T",
            "ENFP-T",
            "ENFP-A",
            "ESTJ-T",
            "ISFJ-T",
            "ENFJ-A",
            "ESTP-A",
            "ISTJ-A",
            "INTP-T",
            "INFJ-T",
            "ISFP-T",
            "ENTJ-A",
            "ESTP-T",
            "ISTJ-T",
            "ESFP-T",
            "ENTP-A",
            "ESFP-A",
            "INTJ-T",
            "ISFJ-A",
            "INTP-A",
            "ENTP-T",
            "ISTP-T",
            "ENTJ-T",
            "ISTP-A",
            "INFP-A",
            "ENFJ-T",
            "INTJ-A",
            "ISFP-A",
            "INFJ-A",
            "ESTJ-A"
           ],
           "type": "scatterpolar"
          }
         ],
         "name": "Faroe Islands"
        },
        {
         "data": [
          {
           "hovertemplate": "Country=Fiji<br>value=%{r}<br>variable=%{theta}<extra></extra>",
           "legendgroup": "",
           "line": {
            "color": "#636efa",
            "dash": "solid"
           },
           "marker": {
            "symbol": "circle"
           },
           "mode": "lines",
           "name": "",
           "r": [
            0.0264,
            0.0833,
            0.1026,
            0.0372,
            0.0873,
            0.0591,
            0.0132,
            0.0393,
            0.0496,
            0.0111,
            0.0134,
            0.0229,
            0.053,
            0.0377,
            0.0163999999999999,
            0.0111,
            0.0098,
            0.0298,
            0.0177,
            0.0353,
            0.0127,
            0.0274,
            0.0141999999999999,
            0.0232,
            0.0118999999999999,
            0.0081999999999999,
            0.01,
            0.0322,
            0.0398,
            0.0153,
            0.0250999999999999,
            0.024,
            0.0264
           ],
           "showlegend": false,
           "subplot": "polar",
           "theta": [
            "ESTJ-A",
            "ESFJ-A",
            "INFP-T",
            "ESFJ-T",
            "ENFP-T",
            "ENFP-A",
            "ESTJ-T",
            "ISFJ-T",
            "ENFJ-A",
            "ESTP-A",
            "ISTJ-A",
            "INTP-T",
            "INFJ-T",
            "ISFP-T",
            "ENTJ-A",
            "ESTP-T",
            "ISTJ-T",
            "ESFP-T",
            "ENTP-A",
            "ESFP-A",
            "INTJ-T",
            "ISFJ-A",
            "INTP-A",
            "ENTP-T",
            "ISTP-T",
            "ENTJ-T",
            "ISTP-A",
            "INFP-A",
            "ENFJ-T",
            "INTJ-A",
            "ISFP-A",
            "INFJ-A",
            "ESTJ-A"
           ],
           "type": "scatterpolar"
          }
         ],
         "name": "Fiji"
        },
        {
         "data": [
          {
           "hovertemplate": "Country=Finland<br>value=%{r}<br>variable=%{theta}<extra></extra>",
           "legendgroup": "",
           "line": {
            "color": "#636efa",
            "dash": "solid"
           },
           "marker": {
            "symbol": "circle"
           },
           "mode": "lines",
           "name": "",
           "r": [
            0.0266,
            0.0334,
            0.1485,
            0.022,
            0.0751999999999999,
            0.0506,
            0.0072,
            0.0395999999999999,
            0.0225,
            0.0186,
            0.0239,
            0.0536,
            0.0647,
            0.037,
            0.0158,
            0.0069,
            0.0177,
            0.0199,
            0.0316,
            0.0235,
            0.0252,
            0.0199,
            0.0374,
            0.0209,
            0.0159,
            0.0077,
            0.0176,
            0.0323,
            0.0263,
            0.0239,
            0.0171,
            0.017,
            0.0266
           ],
           "showlegend": false,
           "subplot": "polar",
           "theta": [
            "ESTJ-A",
            "ESFJ-A",
            "INFP-T",
            "ESFJ-T",
            "ENFP-T",
            "ENFP-A",
            "ESTJ-T",
            "ISFJ-T",
            "ENFJ-A",
            "ESTP-A",
            "ISTJ-A",
            "INTP-T",
            "INFJ-T",
            "ISFP-T",
            "ENTJ-A",
            "ESTP-T",
            "ISTJ-T",
            "ESFP-T",
            "ENTP-A",
            "ESFP-A",
            "INTJ-T",
            "ISFJ-A",
            "INTP-A",
            "ENTP-T",
            "ISTP-T",
            "ENTJ-T",
            "ISTP-A",
            "INFP-A",
            "ENFJ-T",
            "INTJ-A",
            "ISFP-A",
            "INFJ-A",
            "ESTJ-A"
           ],
           "type": "scatterpolar"
          }
         ],
         "name": "Finland"
        },
        {
         "data": [
          {
           "hovertemplate": "Country=France<br>value=%{r}<br>variable=%{theta}<extra></extra>",
           "legendgroup": "",
           "line": {
            "color": "#636efa",
            "dash": "solid"
           },
           "marker": {
            "symbol": "circle"
           },
           "mode": "lines",
           "name": "",
           "r": [
            0.0283,
            0.0371,
            0.1159,
            0.0304,
            0.0791,
            0.0501999999999999,
            0.0167,
            0.0358,
            0.0274,
            0.0197,
            0.0206,
            0.0467999999999999,
            0.0504,
            0.0325,
            0.0185,
            0.0153,
            0.0197,
            0.0259,
            0.0305,
            0.0248,
            0.0226,
            0.0229,
            0.03,
            0.0272,
            0.0186,
            0.0136,
            0.0184,
            0.0306,
            0.0337,
            0.0192,
            0.0210999999999999,
            0.0166,
            0.0283
           ],
           "showlegend": false,
           "subplot": "polar",
           "theta": [
            "ESTJ-A",
            "ESFJ-A",
            "INFP-T",
            "ESFJ-T",
            "ENFP-T",
            "ENFP-A",
            "ESTJ-T",
            "ISFJ-T",
            "ENFJ-A",
            "ESTP-A",
            "ISTJ-A",
            "INTP-T",
            "INFJ-T",
            "ISFP-T",
            "ENTJ-A",
            "ESTP-T",
            "ISTJ-T",
            "ESFP-T",
            "ENTP-A",
            "ESFP-A",
            "INTJ-T",
            "ISFJ-A",
            "INTP-A",
            "ENTP-T",
            "ISTP-T",
            "ENTJ-T",
            "ISTP-A",
            "INFP-A",
            "ENFJ-T",
            "INTJ-A",
            "ISFP-A",
            "INFJ-A",
            "ESTJ-A"
           ],
           "type": "scatterpolar"
          }
         ],
         "name": "France"
        },
        {
         "data": [
          {
           "hovertemplate": "Country=Georgia<br>value=%{r}<br>variable=%{theta}<extra></extra>",
           "legendgroup": "",
           "line": {
            "color": "#636efa",
            "dash": "solid"
           },
           "marker": {
            "symbol": "circle"
           },
           "mode": "lines",
           "name": "",
           "r": [
            0.0501999999999999,
            0.0313,
            0.086,
            0.0222,
            0.0559999999999999,
            0.0347,
            0.0213,
            0.0243999999999999,
            0.0287,
            0.0232,
            0.0305,
            0.0632,
            0.047,
            0.0172,
            0.0401999999999999,
            0.0144,
            0.0226,
            0.017,
            0.045,
            0.0139999999999999,
            0.0425,
            0.0179,
            0.0434,
            0.0398,
            0.0144,
            0.0247,
            0.0127,
            0.0233999999999999,
            0.0289999999999999,
            0.0353,
            0.0103,
            0.0174,
            0.0501999999999999
           ],
           "showlegend": false,
           "subplot": "polar",
           "theta": [
            "ESTJ-A",
            "ESFJ-A",
            "INFP-T",
            "ESFJ-T",
            "ENFP-T",
            "ENFP-A",
            "ESTJ-T",
            "ISFJ-T",
            "ENFJ-A",
            "ESTP-A",
            "ISTJ-A",
            "INTP-T",
            "INFJ-T",
            "ISFP-T",
            "ENTJ-A",
            "ESTP-T",
            "ISTJ-T",
            "ESFP-T",
            "ENTP-A",
            "ESFP-A",
            "INTJ-T",
            "ISFJ-A",
            "INTP-A",
            "ENTP-T",
            "ISTP-T",
            "ENTJ-T",
            "ISTP-A",
            "INFP-A",
            "ENFJ-T",
            "INTJ-A",
            "ISFP-A",
            "INFJ-A",
            "ESTJ-A"
           ],
           "type": "scatterpolar"
          }
         ],
         "name": "Georgia"
        },
        {
         "data": [
          {
           "hovertemplate": "Country=Germany<br>value=%{r}<br>variable=%{theta}<extra></extra>",
           "legendgroup": "",
           "line": {
            "color": "#636efa",
            "dash": "solid"
           },
           "marker": {
            "symbol": "circle"
           },
           "mode": "lines",
           "name": "",
           "r": [
            0.0299,
            0.034,
            0.1436,
            0.0227999999999999,
            0.0759,
            0.0507,
            0.0101,
            0.032,
            0.0278,
            0.0171,
            0.0203,
            0.0584999999999999,
            0.0676,
            0.0266,
            0.021,
            0.0069999999999999,
            0.0159,
            0.0166,
            0.0332,
            0.0204999999999999,
            0.0298,
            0.0175,
            0.0349,
            0.0263,
            0.0126,
            0.0125,
            0.0135,
            0.033,
            0.0334,
            0.0235,
            0.0141,
            0.0175,
            0.0299
           ],
           "showlegend": false,
           "subplot": "polar",
           "theta": [
            "ESTJ-A",
            "ESFJ-A",
            "INFP-T",
            "ESFJ-T",
            "ENFP-T",
            "ENFP-A",
            "ESTJ-T",
            "ISFJ-T",
            "ENFJ-A",
            "ESTP-A",
            "ISTJ-A",
            "INTP-T",
            "INFJ-T",
            "ISFP-T",
            "ENTJ-A",
            "ESTP-T",
            "ISTJ-T",
            "ESFP-T",
            "ENTP-A",
            "ESFP-A",
            "INTJ-T",
            "ISFJ-A",
            "INTP-A",
            "ENTP-T",
            "ISTP-T",
            "ENTJ-T",
            "ISTP-A",
            "INFP-A",
            "ENFJ-T",
            "INTJ-A",
            "ISFP-A",
            "INFJ-A",
            "ESTJ-A"
           ],
           "type": "scatterpolar"
          }
         ],
         "name": "Germany"
        },
        {
         "data": [
          {
           "hovertemplate": "Country=Ghana<br>value=%{r}<br>variable=%{theta}<extra></extra>",
           "legendgroup": "",
           "line": {
            "color": "#636efa",
            "dash": "solid"
           },
           "marker": {
            "symbol": "circle"
           },
           "mode": "lines",
           "name": "",
           "r": [
            0.0612,
            0.1097,
            0.0576,
            0.043,
            0.0428,
            0.0278,
            0.0217,
            0.0536,
            0.036,
            0.0182,
            0.03,
            0.0237999999999999,
            0.0421999999999999,
            0.0395,
            0.02,
            0.0136,
            0.0243,
            0.0302999999999999,
            0.018,
            0.0289,
            0.0194,
            0.0554,
            0.0161,
            0.0181,
            0.0141,
            0.0121999999999999,
            0.0128,
            0.0192,
            0.026,
            0.0187999999999999,
            0.0222,
            0.0237999999999999,
            0.0612
           ],
           "showlegend": false,
           "subplot": "polar",
           "theta": [
            "ESTJ-A",
            "ESFJ-A",
            "INFP-T",
            "ESFJ-T",
            "ENFP-T",
            "ENFP-A",
            "ESTJ-T",
            "ISFJ-T",
            "ENFJ-A",
            "ESTP-A",
            "ISTJ-A",
            "INTP-T",
            "INFJ-T",
            "ISFP-T",
            "ENTJ-A",
            "ESTP-T",
            "ISTJ-T",
            "ESFP-T",
            "ENTP-A",
            "ESFP-A",
            "INTJ-T",
            "ISFJ-A",
            "INTP-A",
            "ENTP-T",
            "ISTP-T",
            "ENTJ-T",
            "ISTP-A",
            "INFP-A",
            "ENFJ-T",
            "INTJ-A",
            "ISFP-A",
            "INFJ-A",
            "ESTJ-A"
           ],
           "type": "scatterpolar"
          }
         ],
         "name": "Ghana"
        },
        {
         "data": [
          {
           "hovertemplate": "Country=Greece<br>value=%{r}<br>variable=%{theta}<extra></extra>",
           "legendgroup": "",
           "line": {
            "color": "#636efa",
            "dash": "solid"
           },
           "marker": {
            "symbol": "circle"
           },
           "mode": "lines",
           "name": "",
           "r": [
            0.031,
            0.0323,
            0.1171,
            0.0258,
            0.0841,
            0.0433,
            0.0161,
            0.0322,
            0.0319,
            0.0148,
            0.0183,
            0.0599,
            0.0636,
            0.0229,
            0.0279,
            0.0097,
            0.0182,
            0.0169,
            0.0335,
            0.0144999999999999,
            0.0374,
            0.0147,
            0.0275,
            0.0408,
            0.0125,
            0.026,
            0.0105,
            0.0233,
            0.0453,
            0.0223,
            0.0102,
            0.0154,
            0.031
           ],
           "showlegend": false,
           "subplot": "polar",
           "theta": [
            "ESTJ-A",
            "ESFJ-A",
            "INFP-T",
            "ESFJ-T",
            "ENFP-T",
            "ENFP-A",
            "ESTJ-T",
            "ISFJ-T",
            "ENFJ-A",
            "ESTP-A",
            "ISTJ-A",
            "INTP-T",
            "INFJ-T",
            "ISFP-T",
            "ENTJ-A",
            "ESTP-T",
            "ISTJ-T",
            "ESFP-T",
            "ENTP-A",
            "ESFP-A",
            "INTJ-T",
            "ISFJ-A",
            "INTP-A",
            "ENTP-T",
            "ISTP-T",
            "ENTJ-T",
            "ISTP-A",
            "INFP-A",
            "ENFJ-T",
            "INTJ-A",
            "ISFP-A",
            "INFJ-A",
            "ESTJ-A"
           ],
           "type": "scatterpolar"
          }
         ],
         "name": "Greece"
        },
        {
         "data": [
          {
           "hovertemplate": "Country=Grenada<br>value=%{r}<br>variable=%{theta}<extra></extra>",
           "legendgroup": "",
           "line": {
            "color": "#636efa",
            "dash": "solid"
           },
           "marker": {
            "symbol": "circle"
           },
           "mode": "lines",
           "name": "",
           "r": [
            0.0391,
            0.0666,
            0.0803,
            0.0275,
            0.0645,
            0.0494,
            0.0151,
            0.0384,
            0.0419,
            0.0165,
            0.022,
            0.0501,
            0.057,
            0.0281,
            0.0192,
            0.0069,
            0.0158,
            0.0192,
            0.0281,
            0.0199,
            0.0260999999999999,
            0.0356999999999999,
            0.022,
            0.0206,
            0.0103,
            0.0165,
            0.0137,
            0.0275,
            0.0384,
            0.0281,
            0.0275,
            0.0281,
            0.0391
           ],
           "showlegend": false,
           "subplot": "polar",
           "theta": [
            "ESTJ-A",
            "ESFJ-A",
            "INFP-T",
            "ESFJ-T",
            "ENFP-T",
            "ENFP-A",
            "ESTJ-T",
            "ISFJ-T",
            "ENFJ-A",
            "ESTP-A",
            "ISTJ-A",
            "INTP-T",
            "INFJ-T",
            "ISFP-T",
            "ENTJ-A",
            "ESTP-T",
            "ISTJ-T",
            "ESFP-T",
            "ENTP-A",
            "ESFP-A",
            "INTJ-T",
            "ISFJ-A",
            "INTP-A",
            "ENTP-T",
            "ISTP-T",
            "ENTJ-T",
            "ISTP-A",
            "INFP-A",
            "ENFJ-T",
            "INTJ-A",
            "ISFP-A",
            "INFJ-A",
            "ESTJ-A"
           ],
           "type": "scatterpolar"
          }
         ],
         "name": "Grenada"
        },
        {
         "data": [
          {
           "hovertemplate": "Country=Guatemala<br>value=%{r}<br>variable=%{theta}<extra></extra>",
           "legendgroup": "",
           "line": {
            "color": "#636efa",
            "dash": "solid"
           },
           "marker": {
            "symbol": "circle"
           },
           "mode": "lines",
           "name": "",
           "r": [
            0.0337,
            0.0564,
            0.099,
            0.0250999999999999,
            0.0771,
            0.0692,
            0.0139,
            0.0312,
            0.0415,
            0.0167,
            0.0184,
            0.0473,
            0.048,
            0.0222,
            0.0241,
            0.0087,
            0.0151,
            0.0210999999999999,
            0.0355,
            0.0302,
            0.0237,
            0.0229,
            0.0289,
            0.0308999999999999,
            0.0102,
            0.0148,
            0.0105,
            0.0349,
            0.0338,
            0.0202,
            0.0141999999999999,
            0.0208,
            0.0337
           ],
           "showlegend": false,
           "subplot": "polar",
           "theta": [
            "ESTJ-A",
            "ESFJ-A",
            "INFP-T",
            "ESFJ-T",
            "ENFP-T",
            "ENFP-A",
            "ESTJ-T",
            "ISFJ-T",
            "ENFJ-A",
            "ESTP-A",
            "ISTJ-A",
            "INTP-T",
            "INFJ-T",
            "ISFP-T",
            "ENTJ-A",
            "ESTP-T",
            "ISTJ-T",
            "ESFP-T",
            "ENTP-A",
            "ESFP-A",
            "INTJ-T",
            "ISFJ-A",
            "INTP-A",
            "ENTP-T",
            "ISTP-T",
            "ENTJ-T",
            "ISTP-A",
            "INFP-A",
            "ENFJ-T",
            "INTJ-A",
            "ISFP-A",
            "INFJ-A",
            "ESTJ-A"
           ],
           "type": "scatterpolar"
          }
         ],
         "name": "Guatemala"
        },
        {
         "data": [
          {
           "hovertemplate": "Country=Guinea<br>value=%{r}<br>variable=%{theta}<extra></extra>",
           "legendgroup": "",
           "line": {
            "color": "#636efa",
            "dash": "solid"
           },
           "marker": {
            "symbol": "circle"
           },
           "mode": "lines",
           "name": "",
           "r": [
            0.0266999999999999,
            0.0658,
            0.0817,
            0.0448,
            0.0742999999999999,
            0.0448,
            0.0125,
            0.0545,
            0.0454,
            0.0216,
            0.0199,
            0.0233,
            0.0573,
            0.0437,
            0.0148,
            0.0085,
            0.0096,
            0.0409,
            0.0113999999999999,
            0.0346,
            0.0125,
            0.0346,
            0.0182,
            0.0187,
            0.0113999999999999,
            0.0045,
            0.0079,
            0.038,
            0.0392,
            0.0233,
            0.0266999999999999,
            0.0289,
            0.0266999999999999
           ],
           "showlegend": false,
           "subplot": "polar",
           "theta": [
            "ESTJ-A",
            "ESFJ-A",
            "INFP-T",
            "ESFJ-T",
            "ENFP-T",
            "ENFP-A",
            "ESTJ-T",
            "ISFJ-T",
            "ENFJ-A",
            "ESTP-A",
            "ISTJ-A",
            "INTP-T",
            "INFJ-T",
            "ISFP-T",
            "ENTJ-A",
            "ESTP-T",
            "ISTJ-T",
            "ESFP-T",
            "ENTP-A",
            "ESFP-A",
            "INTJ-T",
            "ISFJ-A",
            "INTP-A",
            "ENTP-T",
            "ISTP-T",
            "ENTJ-T",
            "ISTP-A",
            "INFP-A",
            "ENFJ-T",
            "INTJ-A",
            "ISFP-A",
            "INFJ-A",
            "ESTJ-A"
           ],
           "type": "scatterpolar"
          }
         ],
         "name": "Guinea"
        },
        {
         "data": [
          {
           "hovertemplate": "Country=Guyana<br>value=%{r}<br>variable=%{theta}<extra></extra>",
           "legendgroup": "",
           "line": {
            "color": "#636efa",
            "dash": "solid"
           },
           "marker": {
            "symbol": "circle"
           },
           "mode": "lines",
           "name": "",
           "r": [
            0.0271,
            0.0576999999999999,
            0.1085999999999999,
            0.0248,
            0.0619,
            0.0381,
            0.0088,
            0.0385,
            0.0404,
            0.0212,
            0.03,
            0.047,
            0.0499,
            0.0398,
            0.017,
            0.0104,
            0.0222,
            0.0248,
            0.0231,
            0.0241,
            0.0215,
            0.0411,
            0.0287,
            0.0218,
            0.0199,
            0.0091,
            0.0113999999999999,
            0.0346,
            0.0287,
            0.0227999999999999,
            0.0173,
            0.0277,
            0.0271
           ],
           "showlegend": false,
           "subplot": "polar",
           "theta": [
            "ESTJ-A",
            "ESFJ-A",
            "INFP-T",
            "ESFJ-T",
            "ENFP-T",
            "ENFP-A",
            "ESTJ-T",
            "ISFJ-T",
            "ENFJ-A",
            "ESTP-A",
            "ISTJ-A",
            "INTP-T",
            "INFJ-T",
            "ISFP-T",
            "ENTJ-A",
            "ESTP-T",
            "ISTJ-T",
            "ESFP-T",
            "ENTP-A",
            "ESFP-A",
            "INTJ-T",
            "ISFJ-A",
            "INTP-A",
            "ENTP-T",
            "ISTP-T",
            "ENTJ-T",
            "ISTP-A",
            "INFP-A",
            "ENFJ-T",
            "INTJ-A",
            "ISFP-A",
            "INFJ-A",
            "ESTJ-A"
           ],
           "type": "scatterpolar"
          }
         ],
         "name": "Guyana"
        },
        {
         "data": [
          {
           "hovertemplate": "Country=Haiti<br>value=%{r}<br>variable=%{theta}<extra></extra>",
           "legendgroup": "",
           "line": {
            "color": "#636efa",
            "dash": "solid"
           },
           "marker": {
            "symbol": "circle"
           },
           "mode": "lines",
           "name": "",
           "r": [
            0.0388,
            0.0677,
            0.0742,
            0.0371,
            0.0753,
            0.06,
            0.0118,
            0.043,
            0.0353,
            0.0224,
            0.0288,
            0.0206,
            0.0483,
            0.033,
            0.0265,
            0.0093999999999999,
            0.0141,
            0.0253,
            0.0306,
            0.0359,
            0.0141,
            0.0371,
            0.0135,
            0.0271,
            0.0081999999999999,
            0.0187999999999999,
            0.0093999999999999,
            0.0412,
            0.0371,
            0.0129,
            0.0159,
            0.0265,
            0.0388
           ],
           "showlegend": false,
           "subplot": "polar",
           "theta": [
            "ESTJ-A",
            "ESFJ-A",
            "INFP-T",
            "ESFJ-T",
            "ENFP-T",
            "ENFP-A",
            "ESTJ-T",
            "ISFJ-T",
            "ENFJ-A",
            "ESTP-A",
            "ISTJ-A",
            "INTP-T",
            "INFJ-T",
            "ISFP-T",
            "ENTJ-A",
            "ESTP-T",
            "ISTJ-T",
            "ESFP-T",
            "ENTP-A",
            "ESFP-A",
            "INTJ-T",
            "ISFJ-A",
            "INTP-A",
            "ENTP-T",
            "ISTP-T",
            "ENTJ-T",
            "ISTP-A",
            "INFP-A",
            "ENFJ-T",
            "INTJ-A",
            "ISFP-A",
            "INFJ-A",
            "ESTJ-A"
           ],
           "type": "scatterpolar"
          }
         ],
         "name": "Haiti"
        },
        {
         "data": [
          {
           "hovertemplate": "Country=Honduras<br>value=%{r}<br>variable=%{theta}<extra></extra>",
           "legendgroup": "",
           "line": {
            "color": "#636efa",
            "dash": "solid"
           },
           "marker": {
            "symbol": "circle"
           },
           "mode": "lines",
           "name": "",
           "r": [
            0.0337,
            0.0605,
            0.1048,
            0.0226,
            0.0708,
            0.0599,
            0.0103,
            0.0289999999999999,
            0.0464,
            0.0212,
            0.019,
            0.0449,
            0.0441999999999999,
            0.0252,
            0.0258,
            0.0097,
            0.0113999999999999,
            0.0227999999999999,
            0.0356,
            0.0301,
            0.0263,
            0.0229,
            0.0287,
            0.0282,
            0.0093,
            0.0134,
            0.0116999999999999,
            0.0369,
            0.0333,
            0.0202,
            0.0165,
            0.0250999999999999,
            0.0337
           ],
           "showlegend": false,
           "subplot": "polar",
           "theta": [
            "ESTJ-A",
            "ESFJ-A",
            "INFP-T",
            "ESFJ-T",
            "ENFP-T",
            "ENFP-A",
            "ESTJ-T",
            "ISFJ-T",
            "ENFJ-A",
            "ESTP-A",
            "ISTJ-A",
            "INTP-T",
            "INFJ-T",
            "ISFP-T",
            "ENTJ-A",
            "ESTP-T",
            "ISTJ-T",
            "ESFP-T",
            "ENTP-A",
            "ESFP-A",
            "INTJ-T",
            "ISFJ-A",
            "INTP-A",
            "ENTP-T",
            "ISTP-T",
            "ENTJ-T",
            "ISTP-A",
            "INFP-A",
            "ENFJ-T",
            "INTJ-A",
            "ISFP-A",
            "INFJ-A",
            "ESTJ-A"
           ],
           "type": "scatterpolar"
          }
         ],
         "name": "Honduras"
        },
        {
         "data": [
          {
           "hovertemplate": "Country=Hungary<br>value=%{r}<br>variable=%{theta}<extra></extra>",
           "legendgroup": "",
           "line": {
            "color": "#636efa",
            "dash": "solid"
           },
           "marker": {
            "symbol": "circle"
           },
           "mode": "lines",
           "name": "",
           "r": [
            0.0318,
            0.0325,
            0.1291,
            0.0216,
            0.0776,
            0.0438999999999999,
            0.0128,
            0.0318,
            0.0281,
            0.0167,
            0.022,
            0.0641,
            0.0664,
            0.023,
            0.0242,
            0.0081999999999999,
            0.0184,
            0.0149,
            0.0354,
            0.0167,
            0.037,
            0.0171,
            0.0337,
            0.0323,
            0.0121,
            0.018,
            0.0112,
            0.0278,
            0.0362,
            0.0277,
            0.0102,
            0.0174,
            0.0318
           ],
           "showlegend": false,
           "subplot": "polar",
           "theta": [
            "ESTJ-A",
            "ESFJ-A",
            "INFP-T",
            "ESFJ-T",
            "ENFP-T",
            "ENFP-A",
            "ESTJ-T",
            "ISFJ-T",
            "ENFJ-A",
            "ESTP-A",
            "ISTJ-A",
            "INTP-T",
            "INFJ-T",
            "ISFP-T",
            "ENTJ-A",
            "ESTP-T",
            "ISTJ-T",
            "ESFP-T",
            "ENTP-A",
            "ESFP-A",
            "INTJ-T",
            "ISFJ-A",
            "INTP-A",
            "ENTP-T",
            "ISTP-T",
            "ENTJ-T",
            "ISTP-A",
            "INFP-A",
            "ENFJ-T",
            "INTJ-A",
            "ISFP-A",
            "INFJ-A",
            "ESTJ-A"
           ],
           "type": "scatterpolar"
          }
         ],
         "name": "Hungary"
        },
        {
         "data": [
          {
           "hovertemplate": "Country=Iceland<br>value=%{r}<br>variable=%{theta}<extra></extra>",
           "legendgroup": "",
           "line": {
            "color": "#636efa",
            "dash": "solid"
           },
           "marker": {
            "symbol": "circle"
           },
           "mode": "lines",
           "name": "",
           "r": [
            0.0187,
            0.0399,
            0.1519,
            0.0256,
            0.0942,
            0.0756,
            0.0058,
            0.0356,
            0.0344,
            0.0134,
            0.0151,
            0.0415,
            0.0596999999999999,
            0.0323,
            0.0166,
            0.0058,
            0.0108,
            0.0191,
            0.0313,
            0.0246,
            0.0189,
            0.0226,
            0.0282,
            0.0242,
            0.0106,
            0.009,
            0.0096,
            0.0391,
            0.0362,
            0.0144999999999999,
            0.0163,
            0.019,
            0.0187
           ],
           "showlegend": false,
           "subplot": "polar",
           "theta": [
            "ESTJ-A",
            "ESFJ-A",
            "INFP-T",
            "ESFJ-T",
            "ENFP-T",
            "ENFP-A",
            "ESTJ-T",
            "ISFJ-T",
            "ENFJ-A",
            "ESTP-A",
            "ISTJ-A",
            "INTP-T",
            "INFJ-T",
            "ISFP-T",
            "ENTJ-A",
            "ESTP-T",
            "ISTJ-T",
            "ESFP-T",
            "ENTP-A",
            "ESFP-A",
            "INTJ-T",
            "ISFJ-A",
            "INTP-A",
            "ENTP-T",
            "ISTP-T",
            "ENTJ-T",
            "ISTP-A",
            "INFP-A",
            "ENFJ-T",
            "INTJ-A",
            "ISFP-A",
            "INFJ-A",
            "ESTJ-A"
           ],
           "type": "scatterpolar"
          }
         ],
         "name": "Iceland"
        },
        {
         "data": [
          {
           "hovertemplate": "Country=India<br>value=%{r}<br>variable=%{theta}<extra></extra>",
           "legendgroup": "",
           "line": {
            "color": "#636efa",
            "dash": "solid"
           },
           "marker": {
            "symbol": "circle"
           },
           "mode": "lines",
           "name": "",
           "r": [
            0.0314,
            0.0562999999999999,
            0.1067,
            0.039,
            0.0906,
            0.0449,
            0.017,
            0.0336,
            0.0338,
            0.0158,
            0.0133,
            0.0425,
            0.0473,
            0.0379,
            0.0176,
            0.0155,
            0.0148,
            0.038,
            0.0236,
            0.03,
            0.02,
            0.0202,
            0.0222,
            0.0308,
            0.0146,
            0.0154,
            0.0097,
            0.0277,
            0.0423,
            0.0148,
            0.0163999999999999,
            0.0162,
            0.0314
           ],
           "showlegend": false,
           "subplot": "polar",
           "theta": [
            "ESTJ-A",
            "ESFJ-A",
            "INFP-T",
            "ESFJ-T",
            "ENFP-T",
            "ENFP-A",
            "ESTJ-T",
            "ISFJ-T",
            "ENFJ-A",
            "ESTP-A",
            "ISTJ-A",
            "INTP-T",
            "INFJ-T",
            "ISFP-T",
            "ENTJ-A",
            "ESTP-T",
            "ISTJ-T",
            "ESFP-T",
            "ENTP-A",
            "ESFP-A",
            "INTJ-T",
            "ISFJ-A",
            "INTP-A",
            "ENTP-T",
            "ISTP-T",
            "ENTJ-T",
            "ISTP-A",
            "INFP-A",
            "ENFJ-T",
            "INTJ-A",
            "ISFP-A",
            "INFJ-A",
            "ESTJ-A"
           ],
           "type": "scatterpolar"
          }
         ],
         "name": "India"
        },
        {
         "data": [
          {
           "hovertemplate": "Country=Indonesia<br>value=%{r}<br>variable=%{theta}<extra></extra>",
           "legendgroup": "",
           "line": {
            "color": "#636efa",
            "dash": "solid"
           },
           "marker": {
            "symbol": "circle"
           },
           "mode": "lines",
           "name": "",
           "r": [
            0.0289999999999999,
            0.0513,
            0.1012,
            0.0498,
            0.0836,
            0.0391,
            0.0217,
            0.0447,
            0.0271,
            0.0163,
            0.0144999999999999,
            0.033,
            0.0595,
            0.0412,
            0.0149,
            0.0174,
            0.0178,
            0.0501999999999999,
            0.0185,
            0.0335,
            0.0233,
            0.0204999999999999,
            0.0169,
            0.025,
            0.0139999999999999,
            0.0154,
            0.0086,
            0.0237,
            0.0406,
            0.0151,
            0.0163,
            0.0163,
            0.0289999999999999
           ],
           "showlegend": false,
           "subplot": "polar",
           "theta": [
            "ESTJ-A",
            "ESFJ-A",
            "INFP-T",
            "ESFJ-T",
            "ENFP-T",
            "ENFP-A",
            "ESTJ-T",
            "ISFJ-T",
            "ENFJ-A",
            "ESTP-A",
            "ISTJ-A",
            "INTP-T",
            "INFJ-T",
            "ISFP-T",
            "ENTJ-A",
            "ESTP-T",
            "ISTJ-T",
            "ESFP-T",
            "ENTP-A",
            "ESFP-A",
            "INTJ-T",
            "ISFJ-A",
            "INTP-A",
            "ENTP-T",
            "ISTP-T",
            "ENTJ-T",
            "ISTP-A",
            "INFP-A",
            "ENFJ-T",
            "INTJ-A",
            "ISFP-A",
            "INFJ-A",
            "ESTJ-A"
           ],
           "type": "scatterpolar"
          }
         ],
         "name": "Indonesia"
        },
        {
         "data": [
          {
           "hovertemplate": "Country=Iraq<br>value=%{r}<br>variable=%{theta}<extra></extra>",
           "legendgroup": "",
           "line": {
            "color": "#636efa",
            "dash": "solid"
           },
           "marker": {
            "symbol": "circle"
           },
           "mode": "lines",
           "name": "",
           "r": [
            0.0401,
            0.0378,
            0.088,
            0.0264,
            0.0628,
            0.0313,
            0.0192999999999999,
            0.0281,
            0.0311,
            0.02,
            0.0218,
            0.0668,
            0.0545,
            0.03,
            0.0271,
            0.0158,
            0.0209,
            0.0243,
            0.0289,
            0.0168,
            0.0408,
            0.0173,
            0.0385,
            0.0326,
            0.019,
            0.0252,
            0.0134,
            0.0208,
            0.0411,
            0.0304,
            0.012,
            0.0171,
            0.0401
           ],
           "showlegend": false,
           "subplot": "polar",
           "theta": [
            "ESTJ-A",
            "ESFJ-A",
            "INFP-T",
            "ESFJ-T",
            "ENFP-T",
            "ENFP-A",
            "ESTJ-T",
            "ISFJ-T",
            "ENFJ-A",
            "ESTP-A",
            "ISTJ-A",
            "INTP-T",
            "INFJ-T",
            "ISFP-T",
            "ENTJ-A",
            "ESTP-T",
            "ISTJ-T",
            "ESFP-T",
            "ENTP-A",
            "ESFP-A",
            "INTJ-T",
            "ISFJ-A",
            "INTP-A",
            "ENTP-T",
            "ISTP-T",
            "ENTJ-T",
            "ISTP-A",
            "INFP-A",
            "ENFJ-T",
            "INTJ-A",
            "ISFP-A",
            "INFJ-A",
            "ESTJ-A"
           ],
           "type": "scatterpolar"
          }
         ],
         "name": "Iraq"
        },
        {
         "data": [
          {
           "hovertemplate": "Country=Ireland<br>value=%{r}<br>variable=%{theta}<extra></extra>",
           "legendgroup": "",
           "line": {
            "color": "#636efa",
            "dash": "solid"
           },
           "marker": {
            "symbol": "circle"
           },
           "mode": "lines",
           "name": "",
           "r": [
            0.0217,
            0.0435,
            0.1449,
            0.0361,
            0.1035,
            0.0528,
            0.0095,
            0.0487,
            0.0302,
            0.0121999999999999,
            0.0139,
            0.0407,
            0.0653,
            0.0385999999999999,
            0.0143,
            0.0064,
            0.0135,
            0.027,
            0.0242,
            0.0242,
            0.0199,
            0.0204,
            0.0203,
            0.0237999999999999,
            0.0102,
            0.0108,
            0.0086,
            0.0266999999999999,
            0.0444,
            0.0147,
            0.0141,
            0.015,
            0.0217
           ],
           "showlegend": false,
           "subplot": "polar",
           "theta": [
            "ESTJ-A",
            "ESFJ-A",
            "INFP-T",
            "ESFJ-T",
            "ENFP-T",
            "ENFP-A",
            "ESTJ-T",
            "ISFJ-T",
            "ENFJ-A",
            "ESTP-A",
            "ISTJ-A",
            "INTP-T",
            "INFJ-T",
            "ISFP-T",
            "ENTJ-A",
            "ESTP-T",
            "ISTJ-T",
            "ESFP-T",
            "ENTP-A",
            "ESFP-A",
            "INTJ-T",
            "ISFJ-A",
            "INTP-A",
            "ENTP-T",
            "ISTP-T",
            "ENTJ-T",
            "ISTP-A",
            "INFP-A",
            "ENFJ-T",
            "INTJ-A",
            "ISFP-A",
            "INFJ-A",
            "ESTJ-A"
           ],
           "type": "scatterpolar"
          }
         ],
         "name": "Ireland"
        },
        {
         "data": [
          {
           "hovertemplate": "Country=Israel<br>value=%{r}<br>variable=%{theta}<extra></extra>",
           "legendgroup": "",
           "line": {
            "color": "#636efa",
            "dash": "solid"
           },
           "marker": {
            "symbol": "circle"
           },
           "mode": "lines",
           "name": "",
           "r": [
            0.0282,
            0.0426999999999999,
            0.1183,
            0.0293,
            0.0819,
            0.0557,
            0.0103,
            0.04,
            0.0364,
            0.0144,
            0.0213,
            0.0443,
            0.0575,
            0.033,
            0.0208,
            0.0074,
            0.0163,
            0.0235,
            0.0299,
            0.0236,
            0.0242,
            0.0232,
            0.0299,
            0.0237,
            0.0127,
            0.0126,
            0.0123,
            0.0324,
            0.0353,
            0.0213,
            0.0171,
            0.0203,
            0.0282
           ],
           "showlegend": false,
           "subplot": "polar",
           "theta": [
            "ESTJ-A",
            "ESFJ-A",
            "INFP-T",
            "ESFJ-T",
            "ENFP-T",
            "ENFP-A",
            "ESTJ-T",
            "ISFJ-T",
            "ENFJ-A",
            "ESTP-A",
            "ISTJ-A",
            "INTP-T",
            "INFJ-T",
            "ISFP-T",
            "ENTJ-A",
            "ESTP-T",
            "ISTJ-T",
            "ESFP-T",
            "ENTP-A",
            "ESFP-A",
            "INTJ-T",
            "ISFJ-A",
            "INTP-A",
            "ENTP-T",
            "ISTP-T",
            "ENTJ-T",
            "ISTP-A",
            "INFP-A",
            "ENFJ-T",
            "INTJ-A",
            "ISFP-A",
            "INFJ-A",
            "ESTJ-A"
           ],
           "type": "scatterpolar"
          }
         ],
         "name": "Israel"
        },
        {
         "data": [
          {
           "hovertemplate": "Country=Italy<br>value=%{r}<br>variable=%{theta}<extra></extra>",
           "legendgroup": "",
           "line": {
            "color": "#636efa",
            "dash": "solid"
           },
           "marker": {
            "symbol": "circle"
           },
           "mode": "lines",
           "name": "",
           "r": [
            0.0239,
            0.0281,
            0.1487,
            0.0194,
            0.0827,
            0.0458999999999999,
            0.0095,
            0.0306,
            0.0302,
            0.0111,
            0.0181,
            0.0705,
            0.0796,
            0.0233,
            0.0223,
            0.0062,
            0.0178,
            0.0141,
            0.0299,
            0.0139999999999999,
            0.0438,
            0.0144999999999999,
            0.0302,
            0.0304,
            0.0121,
            0.0171,
            0.0097,
            0.0255,
            0.0395,
            0.0256,
            0.0087,
            0.0171,
            0.0239
           ],
           "showlegend": false,
           "subplot": "polar",
           "theta": [
            "ESTJ-A",
            "ESFJ-A",
            "INFP-T",
            "ESFJ-T",
            "ENFP-T",
            "ENFP-A",
            "ESTJ-T",
            "ISFJ-T",
            "ENFJ-A",
            "ESTP-A",
            "ISTJ-A",
            "INTP-T",
            "INFJ-T",
            "ISFP-T",
            "ENTJ-A",
            "ESTP-T",
            "ISTJ-T",
            "ESFP-T",
            "ENTP-A",
            "ESFP-A",
            "INTJ-T",
            "ISFJ-A",
            "INTP-A",
            "ENTP-T",
            "ISTP-T",
            "ENTJ-T",
            "ISTP-A",
            "INFP-A",
            "ENFJ-T",
            "INTJ-A",
            "ISFP-A",
            "INFJ-A",
            "ESTJ-A"
           ],
           "type": "scatterpolar"
          }
         ],
         "name": "Italy"
        },
        {
         "data": [
          {
           "hovertemplate": "Country=Jamaica<br>value=%{r}<br>variable=%{theta}<extra></extra>",
           "legendgroup": "",
           "line": {
            "color": "#636efa",
            "dash": "solid"
           },
           "marker": {
            "symbol": "circle"
           },
           "mode": "lines",
           "name": "",
           "r": [
            0.0381,
            0.0617999999999999,
            0.0993,
            0.0243999999999999,
            0.0519,
            0.0335,
            0.0125,
            0.0414,
            0.0361,
            0.0197,
            0.0297,
            0.0431,
            0.0565,
            0.0341,
            0.0227,
            0.0102,
            0.0197999999999999,
            0.0192999999999999,
            0.0237999999999999,
            0.0256,
            0.0247,
            0.0408,
            0.0294,
            0.0227,
            0.0175,
            0.0135,
            0.0148,
            0.0306999999999999,
            0.0326,
            0.0242,
            0.0195,
            0.0260999999999999,
            0.0381
           ],
           "showlegend": false,
           "subplot": "polar",
           "theta": [
            "ESTJ-A",
            "ESFJ-A",
            "INFP-T",
            "ESFJ-T",
            "ENFP-T",
            "ENFP-A",
            "ESTJ-T",
            "ISFJ-T",
            "ENFJ-A",
            "ESTP-A",
            "ISTJ-A",
            "INTP-T",
            "INFJ-T",
            "ISFP-T",
            "ENTJ-A",
            "ESTP-T",
            "ISTJ-T",
            "ESFP-T",
            "ENTP-A",
            "ESFP-A",
            "INTJ-T",
            "ISFJ-A",
            "INTP-A",
            "ENTP-T",
            "ISTP-T",
            "ENTJ-T",
            "ISTP-A",
            "INFP-A",
            "ENFJ-T",
            "INTJ-A",
            "ISFP-A",
            "INFJ-A",
            "ESTJ-A"
           ],
           "type": "scatterpolar"
          }
         ],
         "name": "Jamaica"
        },
        {
         "data": [
          {
           "hovertemplate": "Country=Japan<br>value=%{r}<br>variable=%{theta}<extra></extra>",
           "legendgroup": "",
           "line": {
            "color": "#636efa",
            "dash": "solid"
           },
           "marker": {
            "symbol": "circle"
           },
           "mode": "lines",
           "name": "",
           "r": [
            0.023,
            0.0375999999999999,
            0.1291,
            0.0299,
            0.0848,
            0.053,
            0.0109,
            0.043,
            0.0265,
            0.0158,
            0.0192999999999999,
            0.0452,
            0.0496999999999999,
            0.0453,
            0.0156,
            0.0104,
            0.0163999999999999,
            0.0308,
            0.0264,
            0.0294,
            0.0191,
            0.0252,
            0.0266999999999999,
            0.0255,
            0.0154,
            0.0101,
            0.0133,
            0.0353,
            0.0294,
            0.0179,
            0.0220999999999999,
            0.0182,
            0.023
           ],
           "showlegend": false,
           "subplot": "polar",
           "theta": [
            "ESTJ-A",
            "ESFJ-A",
            "INFP-T",
            "ESFJ-T",
            "ENFP-T",
            "ENFP-A",
            "ESTJ-T",
            "ISFJ-T",
            "ENFJ-A",
            "ESTP-A",
            "ISTJ-A",
            "INTP-T",
            "INFJ-T",
            "ISFP-T",
            "ENTJ-A",
            "ESTP-T",
            "ISTJ-T",
            "ESFP-T",
            "ENTP-A",
            "ESFP-A",
            "INTJ-T",
            "ISFJ-A",
            "INTP-A",
            "ENTP-T",
            "ISTP-T",
            "ENTJ-T",
            "ISTP-A",
            "INFP-A",
            "ENFJ-T",
            "INTJ-A",
            "ISFP-A",
            "INFJ-A",
            "ESTJ-A"
           ],
           "type": "scatterpolar"
          }
         ],
         "name": "Japan"
        },
        {
         "data": [
          {
           "hovertemplate": "Country=Jordan<br>value=%{r}<br>variable=%{theta}<extra></extra>",
           "legendgroup": "",
           "line": {
            "color": "#636efa",
            "dash": "solid"
           },
           "marker": {
            "symbol": "circle"
           },
           "mode": "lines",
           "name": "",
           "r": [
            0.0412,
            0.0411,
            0.0852999999999999,
            0.0318,
            0.0803999999999999,
            0.0455999999999999,
            0.02,
            0.0276,
            0.0336,
            0.0232,
            0.0174,
            0.0482,
            0.0499,
            0.0256,
            0.0349,
            0.0137,
            0.0155,
            0.0262,
            0.0392,
            0.0231,
            0.0272,
            0.0144,
            0.0294,
            0.0371,
            0.013,
            0.0242,
            0.0113999999999999,
            0.0239,
            0.0435,
            0.023,
            0.0134,
            0.0157,
            0.0412
           ],
           "showlegend": false,
           "subplot": "polar",
           "theta": [
            "ESTJ-A",
            "ESFJ-A",
            "INFP-T",
            "ESFJ-T",
            "ENFP-T",
            "ENFP-A",
            "ESTJ-T",
            "ISFJ-T",
            "ENFJ-A",
            "ESTP-A",
            "ISTJ-A",
            "INTP-T",
            "INFJ-T",
            "ISFP-T",
            "ENTJ-A",
            "ESTP-T",
            "ISTJ-T",
            "ESFP-T",
            "ENTP-A",
            "ESFP-A",
            "INTJ-T",
            "ISFJ-A",
            "INTP-A",
            "ENTP-T",
            "ISTP-T",
            "ENTJ-T",
            "ISTP-A",
            "INFP-A",
            "ENFJ-T",
            "INTJ-A",
            "ISFP-A",
            "INFJ-A",
            "ESTJ-A"
           ],
           "type": "scatterpolar"
          }
         ],
         "name": "Jordan"
        },
        {
         "data": [
          {
           "hovertemplate": "Country=Kazakhstan<br>value=%{r}<br>variable=%{theta}<extra></extra>",
           "legendgroup": "",
           "line": {
            "color": "#636efa",
            "dash": "solid"
           },
           "marker": {
            "symbol": "circle"
           },
           "mode": "lines",
           "name": "",
           "r": [
            0.0523,
            0.0419,
            0.0753,
            0.0331,
            0.0645,
            0.0331,
            0.0288,
            0.0327999999999999,
            0.0347,
            0.0256,
            0.0291,
            0.0496999999999999,
            0.0452,
            0.0252,
            0.0292,
            0.0133,
            0.03,
            0.0206,
            0.0331,
            0.0217,
            0.0283,
            0.0220999999999999,
            0.0256,
            0.0375,
            0.0175,
            0.0229,
            0.0141999999999999,
            0.0204999999999999,
            0.0359,
            0.0259,
            0.0111,
            0.0191,
            0.0523
           ],
           "showlegend": false,
           "subplot": "polar",
           "theta": [
            "ESTJ-A",
            "ESFJ-A",
            "INFP-T",
            "ESFJ-T",
            "ENFP-T",
            "ENFP-A",
            "ESTJ-T",
            "ISFJ-T",
            "ENFJ-A",
            "ESTP-A",
            "ISTJ-A",
            "INTP-T",
            "INFJ-T",
            "ISFP-T",
            "ENTJ-A",
            "ESTP-T",
            "ISTJ-T",
            "ESFP-T",
            "ENTP-A",
            "ESFP-A",
            "INTJ-T",
            "ISFJ-A",
            "INTP-A",
            "ENTP-T",
            "ISTP-T",
            "ENTJ-T",
            "ISTP-A",
            "INFP-A",
            "ENFJ-T",
            "INTJ-A",
            "ISFP-A",
            "INFJ-A",
            "ESTJ-A"
           ],
           "type": "scatterpolar"
          }
         ],
         "name": "Kazakhstan"
        },
        {
         "data": [
          {
           "hovertemplate": "Country=Kenya<br>value=%{r}<br>variable=%{theta}<extra></extra>",
           "legendgroup": "",
           "line": {
            "color": "#636efa",
            "dash": "solid"
           },
           "marker": {
            "symbol": "circle"
           },
           "mode": "lines",
           "name": "",
           "r": [
            0.0348,
            0.0711,
            0.0832,
            0.0344,
            0.0665,
            0.0437,
            0.0158,
            0.0423,
            0.0452,
            0.0157,
            0.0175,
            0.036,
            0.0576999999999999,
            0.0316,
            0.0237999999999999,
            0.0121999999999999,
            0.0157,
            0.0283,
            0.0266999999999999,
            0.0268,
            0.0216,
            0.0337,
            0.0232,
            0.0281,
            0.0118,
            0.0155,
            0.0088,
            0.0286,
            0.0365,
            0.0210999999999999,
            0.0156,
            0.0263,
            0.0348
           ],
           "showlegend": false,
           "subplot": "polar",
           "theta": [
            "ESTJ-A",
            "ESFJ-A",
            "INFP-T",
            "ESFJ-T",
            "ENFP-T",
            "ENFP-A",
            "ESTJ-T",
            "ISFJ-T",
            "ENFJ-A",
            "ESTP-A",
            "ISTJ-A",
            "INTP-T",
            "INFJ-T",
            "ISFP-T",
            "ENTJ-A",
            "ESTP-T",
            "ISTJ-T",
            "ESFP-T",
            "ENTP-A",
            "ESFP-A",
            "INTJ-T",
            "ISFJ-A",
            "INTP-A",
            "ENTP-T",
            "ISTP-T",
            "ENTJ-T",
            "ISTP-A",
            "INFP-A",
            "ENFJ-T",
            "INTJ-A",
            "ISFP-A",
            "INFJ-A",
            "ESTJ-A"
           ],
           "type": "scatterpolar"
          }
         ],
         "name": "Kenya"
        },
        {
         "data": [
          {
           "hovertemplate": "Country=Kuwait<br>value=%{r}<br>variable=%{theta}<extra></extra>",
           "legendgroup": "",
           "line": {
            "color": "#636efa",
            "dash": "solid"
           },
           "marker": {
            "symbol": "circle"
           },
           "mode": "lines",
           "name": "",
           "r": [
            0.0339,
            0.0424,
            0.1151,
            0.0298,
            0.0801,
            0.0473,
            0.0151,
            0.0327999999999999,
            0.0356999999999999,
            0.0184,
            0.0183,
            0.0415,
            0.0582,
            0.034,
            0.0249,
            0.0118999999999999,
            0.0163999999999999,
            0.0283,
            0.0304,
            0.0237999999999999,
            0.0254,
            0.0200999999999999,
            0.0256,
            0.0282,
            0.0137,
            0.017,
            0.0121999999999999,
            0.0252,
            0.0416,
            0.02,
            0.0139999999999999,
            0.0189,
            0.0339
           ],
           "showlegend": false,
           "subplot": "polar",
           "theta": [
            "ESTJ-A",
            "ESFJ-A",
            "INFP-T",
            "ESFJ-T",
            "ENFP-T",
            "ENFP-A",
            "ESTJ-T",
            "ISFJ-T",
            "ENFJ-A",
            "ESTP-A",
            "ISTJ-A",
            "INTP-T",
            "INFJ-T",
            "ISFP-T",
            "ENTJ-A",
            "ESTP-T",
            "ISTJ-T",
            "ESFP-T",
            "ENTP-A",
            "ESFP-A",
            "INTJ-T",
            "ISFJ-A",
            "INTP-A",
            "ENTP-T",
            "ISTP-T",
            "ENTJ-T",
            "ISTP-A",
            "INFP-A",
            "ENFJ-T",
            "INTJ-A",
            "ISFP-A",
            "INFJ-A",
            "ESTJ-A"
           ],
           "type": "scatterpolar"
          }
         ],
         "name": "Kuwait"
        },
        {
         "data": [
          {
           "hovertemplate": "Country=Kyrgyzstan<br>value=%{r}<br>variable=%{theta}<extra></extra>",
           "legendgroup": "",
           "line": {
            "color": "#636efa",
            "dash": "solid"
           },
           "marker": {
            "symbol": "circle"
           },
           "mode": "lines",
           "name": "",
           "r": [
            0.0371,
            0.0608,
            0.0801,
            0.0312,
            0.0593,
            0.0453,
            0.0178,
            0.0289,
            0.046,
            0.023,
            0.0237,
            0.0601,
            0.0371,
            0.0208,
            0.0341,
            0.0178,
            0.0266999999999999,
            0.0245,
            0.0289,
            0.0208,
            0.0312,
            0.0208,
            0.0319,
            0.026,
            0.0178,
            0.0208,
            0.0126,
            0.0237,
            0.0349,
            0.0282,
            0.0178,
            0.0104,
            0.0371
           ],
           "showlegend": false,
           "subplot": "polar",
           "theta": [
            "ESTJ-A",
            "ESFJ-A",
            "INFP-T",
            "ESFJ-T",
            "ENFP-T",
            "ENFP-A",
            "ESTJ-T",
            "ISFJ-T",
            "ENFJ-A",
            "ESTP-A",
            "ISTJ-A",
            "INTP-T",
            "INFJ-T",
            "ISFP-T",
            "ENTJ-A",
            "ESTP-T",
            "ISTJ-T",
            "ESFP-T",
            "ENTP-A",
            "ESFP-A",
            "INTJ-T",
            "ISFJ-A",
            "INTP-A",
            "ENTP-T",
            "ISTP-T",
            "ENTJ-T",
            "ISTP-A",
            "INFP-A",
            "ENFJ-T",
            "INTJ-A",
            "ISFP-A",
            "INFJ-A",
            "ESTJ-A"
           ],
           "type": "scatterpolar"
          }
         ],
         "name": "Kyrgyzstan"
        },
        {
         "data": [
          {
           "hovertemplate": "Country=Laos<br>value=%{r}<br>variable=%{theta}<extra></extra>",
           "legendgroup": "",
           "line": {
            "color": "#636efa",
            "dash": "solid"
           },
           "marker": {
            "symbol": "circle"
           },
           "mode": "lines",
           "name": "",
           "r": [
            0.0254,
            0.054,
            0.096,
            0.0484,
            0.0873,
            0.0650999999999999,
            0.0159,
            0.0389,
            0.0356999999999999,
            0.0143,
            0.023,
            0.0349,
            0.0437,
            0.0262,
            0.0103,
            0.0111,
            0.0197999999999999,
            0.0389,
            0.0206,
            0.0405,
            0.0143,
            0.027,
            0.0294,
            0.0159,
            0.0127,
            0.0159,
            0.0056,
            0.0405,
            0.0373,
            0.0118999999999999,
            0.019,
            0.0206,
            0.0254
           ],
           "showlegend": false,
           "subplot": "polar",
           "theta": [
            "ESTJ-A",
            "ESFJ-A",
            "INFP-T",
            "ESFJ-T",
            "ENFP-T",
            "ENFP-A",
            "ESTJ-T",
            "ISFJ-T",
            "ENFJ-A",
            "ESTP-A",
            "ISTJ-A",
            "INTP-T",
            "INFJ-T",
            "ISFP-T",
            "ENTJ-A",
            "ESTP-T",
            "ISTJ-T",
            "ESFP-T",
            "ENTP-A",
            "ESFP-A",
            "INTJ-T",
            "ISFJ-A",
            "INTP-A",
            "ENTP-T",
            "ISTP-T",
            "ENTJ-T",
            "ISTP-A",
            "INFP-A",
            "ENFJ-T",
            "INTJ-A",
            "ISFP-A",
            "INFJ-A",
            "ESTJ-A"
           ],
           "type": "scatterpolar"
          }
         ],
         "name": "Laos"
        },
        {
         "data": [
          {
           "hovertemplate": "Country=Latvia<br>value=%{r}<br>variable=%{theta}<extra></extra>",
           "legendgroup": "",
           "line": {
            "color": "#636efa",
            "dash": "solid"
           },
           "marker": {
            "symbol": "circle"
           },
           "mode": "lines",
           "name": "",
           "r": [
            0.0304,
            0.0208,
            0.1344999999999999,
            0.0177,
            0.0751,
            0.039,
            0.0151,
            0.0325,
            0.0195,
            0.0203,
            0.0226,
            0.0787,
            0.0567,
            0.0339,
            0.0185,
            0.012,
            0.0212,
            0.0178,
            0.0373,
            0.016,
            0.0346,
            0.0156,
            0.0337,
            0.0406,
            0.023,
            0.0167,
            0.0168,
            0.0256,
            0.0266999999999999,
            0.0222,
            0.0121,
            0.013,
            0.0304
           ],
           "showlegend": false,
           "subplot": "polar",
           "theta": [
            "ESTJ-A",
            "ESFJ-A",
            "INFP-T",
            "ESFJ-T",
            "ENFP-T",
            "ENFP-A",
            "ESTJ-T",
            "ISFJ-T",
            "ENFJ-A",
            "ESTP-A",
            "ISTJ-A",
            "INTP-T",
            "INFJ-T",
            "ISFP-T",
            "ENTJ-A",
            "ESTP-T",
            "ISTJ-T",
            "ESFP-T",
            "ENTP-A",
            "ESFP-A",
            "INTJ-T",
            "ISFJ-A",
            "INTP-A",
            "ENTP-T",
            "ISTP-T",
            "ENTJ-T",
            "ISTP-A",
            "INFP-A",
            "ENFJ-T",
            "INTJ-A",
            "ISFP-A",
            "INFJ-A",
            "ESTJ-A"
           ],
           "type": "scatterpolar"
          }
         ],
         "name": "Latvia"
        },
        {
         "data": [
          {
           "hovertemplate": "Country=Lebanon<br>value=%{r}<br>variable=%{theta}<extra></extra>",
           "legendgroup": "",
           "line": {
            "color": "#636efa",
            "dash": "solid"
           },
           "marker": {
            "symbol": "circle"
           },
           "mode": "lines",
           "name": "",
           "r": [
            0.0475,
            0.044,
            0.0819999999999999,
            0.0346,
            0.0868,
            0.0487999999999999,
            0.0206,
            0.0249,
            0.04,
            0.0254,
            0.0134,
            0.0391,
            0.0519,
            0.0185,
            0.0366999999999999,
            0.015,
            0.0129,
            0.0260999999999999,
            0.0461,
            0.024,
            0.0243999999999999,
            0.013,
            0.0243999999999999,
            0.0411,
            0.009,
            0.0274,
            0.0084,
            0.0195,
            0.0509,
            0.0207,
            0.0081,
            0.0146,
            0.0475
           ],
           "showlegend": false,
           "subplot": "polar",
           "theta": [
            "ESTJ-A",
            "ESFJ-A",
            "INFP-T",
            "ESFJ-T",
            "ENFP-T",
            "ENFP-A",
            "ESTJ-T",
            "ISFJ-T",
            "ENFJ-A",
            "ESTP-A",
            "ISTJ-A",
            "INTP-T",
            "INFJ-T",
            "ISFP-T",
            "ENTJ-A",
            "ESTP-T",
            "ISTJ-T",
            "ESFP-T",
            "ENTP-A",
            "ESFP-A",
            "INTJ-T",
            "ISFJ-A",
            "INTP-A",
            "ENTP-T",
            "ISTP-T",
            "ENTJ-T",
            "ISTP-A",
            "INFP-A",
            "ENFJ-T",
            "INTJ-A",
            "ISFP-A",
            "INFJ-A",
            "ESTJ-A"
           ],
           "type": "scatterpolar"
          }
         ],
         "name": "Lebanon"
        },
        {
         "data": [
          {
           "hovertemplate": "Country=Lesotho<br>value=%{r}<br>variable=%{theta}<extra></extra>",
           "legendgroup": "",
           "line": {
            "color": "#636efa",
            "dash": "solid"
           },
           "marker": {
            "symbol": "circle"
           },
           "mode": "lines",
           "name": "",
           "r": [
            0.0421999999999999,
            0.0691,
            0.0858,
            0.0407,
            0.0385,
            0.0291,
            0.0233,
            0.0655,
            0.0349,
            0.0144999999999999,
            0.0349,
            0.0298,
            0.0378,
            0.0415,
            0.0196,
            0.0218,
            0.0291,
            0.0247,
            0.0247,
            0.0153,
            0.0233,
            0.0495,
            0.0144999999999999,
            0.0269,
            0.024,
            0.0124,
            0.0175,
            0.016,
            0.024,
            0.0218,
            0.0210999999999999,
            0.0262,
            0.0421999999999999
           ],
           "showlegend": false,
           "subplot": "polar",
           "theta": [
            "ESTJ-A",
            "ESFJ-A",
            "INFP-T",
            "ESFJ-T",
            "ENFP-T",
            "ENFP-A",
            "ESTJ-T",
            "ISFJ-T",
            "ENFJ-A",
            "ESTP-A",
            "ISTJ-A",
            "INTP-T",
            "INFJ-T",
            "ISFP-T",
            "ENTJ-A",
            "ESTP-T",
            "ISTJ-T",
            "ESFP-T",
            "ENTP-A",
            "ESFP-A",
            "INTJ-T",
            "ISFJ-A",
            "INTP-A",
            "ENTP-T",
            "ISTP-T",
            "ENTJ-T",
            "ISTP-A",
            "INFP-A",
            "ENFJ-T",
            "INTJ-A",
            "ISFP-A",
            "INFJ-A",
            "ESTJ-A"
           ],
           "type": "scatterpolar"
          }
         ],
         "name": "Lesotho"
        },
        {
         "data": [
          {
           "hovertemplate": "Country=Libya<br>value=%{r}<br>variable=%{theta}<extra></extra>",
           "legendgroup": "",
           "line": {
            "color": "#636efa",
            "dash": "solid"
           },
           "marker": {
            "symbol": "circle"
           },
           "mode": "lines",
           "name": "",
           "r": [
            0.0299,
            0.0434,
            0.0905,
            0.027,
            0.0622,
            0.0393,
            0.0168,
            0.036,
            0.0369,
            0.0156,
            0.0225,
            0.0541,
            0.0643,
            0.0299,
            0.027,
            0.0102,
            0.0197,
            0.0213,
            0.0258,
            0.0209,
            0.0381,
            0.0254,
            0.0287,
            0.034,
            0.0176,
            0.016,
            0.0168,
            0.0302999999999999,
            0.0319,
            0.0324,
            0.0152,
            0.0204999999999999,
            0.0299
           ],
           "showlegend": false,
           "subplot": "polar",
           "theta": [
            "ESTJ-A",
            "ESFJ-A",
            "INFP-T",
            "ESFJ-T",
            "ENFP-T",
            "ENFP-A",
            "ESTJ-T",
            "ISFJ-T",
            "ENFJ-A",
            "ESTP-A",
            "ISTJ-A",
            "INTP-T",
            "INFJ-T",
            "ISFP-T",
            "ENTJ-A",
            "ESTP-T",
            "ISTJ-T",
            "ESFP-T",
            "ENTP-A",
            "ESFP-A",
            "INTJ-T",
            "ISFJ-A",
            "INTP-A",
            "ENTP-T",
            "ISTP-T",
            "ENTJ-T",
            "ISTP-A",
            "INFP-A",
            "ENFJ-T",
            "INTJ-A",
            "ISFP-A",
            "INFJ-A",
            "ESTJ-A"
           ],
           "type": "scatterpolar"
          }
         ],
         "name": "Libya"
        },
        {
         "data": [
          {
           "hovertemplate": "Country=Lithuania<br>value=%{r}<br>variable=%{theta}<extra></extra>",
           "legendgroup": "",
           "line": {
            "color": "#636efa",
            "dash": "solid"
           },
           "marker": {
            "symbol": "circle"
           },
           "mode": "lines",
           "name": "",
           "r": [
            0.0279999999999999,
            0.0210999999999999,
            0.1483,
            0.0144999999999999,
            0.0698,
            0.0375,
            0.0113,
            0.0294,
            0.0212,
            0.0168,
            0.023,
            0.0839,
            0.0547,
            0.0335,
            0.0210999999999999,
            0.0112,
            0.0213,
            0.0151,
            0.0362,
            0.0129,
            0.0372,
            0.0113,
            0.0435,
            0.0354,
            0.0231,
            0.0148,
            0.0173,
            0.0271,
            0.0265,
            0.0268,
            0.0137,
            0.0126,
            0.0279999999999999
           ],
           "showlegend": false,
           "subplot": "polar",
           "theta": [
            "ESTJ-A",
            "ESFJ-A",
            "INFP-T",
            "ESFJ-T",
            "ENFP-T",
            "ENFP-A",
            "ESTJ-T",
            "ISFJ-T",
            "ENFJ-A",
            "ESTP-A",
            "ISTJ-A",
            "INTP-T",
            "INFJ-T",
            "ISFP-T",
            "ENTJ-A",
            "ESTP-T",
            "ISTJ-T",
            "ESFP-T",
            "ENTP-A",
            "ESFP-A",
            "INTJ-T",
            "ISFJ-A",
            "INTP-A",
            "ENTP-T",
            "ISTP-T",
            "ENTJ-T",
            "ISTP-A",
            "INFP-A",
            "ENFJ-T",
            "INTJ-A",
            "ISFP-A",
            "INFJ-A",
            "ESTJ-A"
           ],
           "type": "scatterpolar"
          }
         ],
         "name": "Lithuania"
        },
        {
         "data": [
          {
           "hovertemplate": "Country=Luxembourg<br>value=%{r}<br>variable=%{theta}<extra></extra>",
           "legendgroup": "",
           "line": {
            "color": "#636efa",
            "dash": "solid"
           },
           "marker": {
            "symbol": "circle"
           },
           "mode": "lines",
           "name": "",
           "r": [
            0.038,
            0.0479,
            0.1134,
            0.0278,
            0.0843999999999999,
            0.0492,
            0.0092,
            0.0398,
            0.0385,
            0.0204999999999999,
            0.021,
            0.0463,
            0.0598,
            0.0258,
            0.0197999999999999,
            0.0070999999999999,
            0.0141999999999999,
            0.0183,
            0.0327,
            0.0239,
            0.0258,
            0.0209,
            0.0279,
            0.0248,
            0.0134,
            0.0136,
            0.0151,
            0.0311,
            0.0369,
            0.0218,
            0.0144,
            0.0167,
            0.038
           ],
           "showlegend": false,
           "subplot": "polar",
           "theta": [
            "ESTJ-A",
            "ESFJ-A",
            "INFP-T",
            "ESFJ-T",
            "ENFP-T",
            "ENFP-A",
            "ESTJ-T",
            "ISFJ-T",
            "ENFJ-A",
            "ESTP-A",
            "ISTJ-A",
            "INTP-T",
            "INFJ-T",
            "ISFP-T",
            "ENTJ-A",
            "ESTP-T",
            "ISTJ-T",
            "ESFP-T",
            "ENTP-A",
            "ESFP-A",
            "INTJ-T",
            "ISFJ-A",
            "INTP-A",
            "ENTP-T",
            "ISTP-T",
            "ENTJ-T",
            "ISTP-A",
            "INFP-A",
            "ENFJ-T",
            "INTJ-A",
            "ISFP-A",
            "INFJ-A",
            "ESTJ-A"
           ],
           "type": "scatterpolar"
          }
         ],
         "name": "Luxembourg"
        },
        {
         "data": [
          {
           "hovertemplate": "Country=Madagascar<br>value=%{r}<br>variable=%{theta}<extra></extra>",
           "legendgroup": "",
           "line": {
            "color": "#636efa",
            "dash": "solid"
           },
           "marker": {
            "symbol": "circle"
           },
           "mode": "lines",
           "name": "",
           "r": [
            0.0276,
            0.0385999999999999,
            0.1132,
            0.0276,
            0.08,
            0.0515,
            0.0138,
            0.0377,
            0.0285,
            0.0129,
            0.011,
            0.0588999999999999,
            0.034,
            0.0331,
            0.023,
            0.012,
            0.0239,
            0.0220999999999999,
            0.0368,
            0.0220999999999999,
            0.0294,
            0.0239,
            0.0451,
            0.0239,
            0.012,
            0.012,
            0.0074,
            0.0414,
            0.035,
            0.0266999999999999,
            0.0147,
            0.0202,
            0.0276
           ],
           "showlegend": false,
           "subplot": "polar",
           "theta": [
            "ESTJ-A",
            "ESFJ-A",
            "INFP-T",
            "ESFJ-T",
            "ENFP-T",
            "ENFP-A",
            "ESTJ-T",
            "ISFJ-T",
            "ENFJ-A",
            "ESTP-A",
            "ISTJ-A",
            "INTP-T",
            "INFJ-T",
            "ISFP-T",
            "ENTJ-A",
            "ESTP-T",
            "ISTJ-T",
            "ESFP-T",
            "ENTP-A",
            "ESFP-A",
            "INTJ-T",
            "ISFJ-A",
            "INTP-A",
            "ENTP-T",
            "ISTP-T",
            "ENTJ-T",
            "ISTP-A",
            "INFP-A",
            "ENFJ-T",
            "INTJ-A",
            "ISFP-A",
            "INFJ-A",
            "ESTJ-A"
           ],
           "type": "scatterpolar"
          }
         ],
         "name": "Madagascar"
        },
        {
         "data": [
          {
           "hovertemplate": "Country=Malawi<br>value=%{r}<br>variable=%{theta}<extra></extra>",
           "legendgroup": "",
           "line": {
            "color": "#636efa",
            "dash": "solid"
           },
           "marker": {
            "symbol": "circle"
           },
           "mode": "lines",
           "name": "",
           "r": [
            0.0315,
            0.0795,
            0.0988,
            0.0405,
            0.0753,
            0.047,
            0.0132,
            0.0362,
            0.0409,
            0.0169,
            0.0226,
            0.0315,
            0.0475,
            0.0348,
            0.0249,
            0.0121999999999999,
            0.0192999999999999,
            0.031,
            0.0273,
            0.0268,
            0.0212,
            0.0381,
            0.0179,
            0.0207,
            0.0121999999999999,
            0.0155,
            0.0093999999999999,
            0.0249,
            0.0306,
            0.0132,
            0.0169,
            0.0216,
            0.0315
           ],
           "showlegend": false,
           "subplot": "polar",
           "theta": [
            "ESTJ-A",
            "ESFJ-A",
            "INFP-T",
            "ESFJ-T",
            "ENFP-T",
            "ENFP-A",
            "ESTJ-T",
            "ISFJ-T",
            "ENFJ-A",
            "ESTP-A",
            "ISTJ-A",
            "INTP-T",
            "INFJ-T",
            "ISFP-T",
            "ENTJ-A",
            "ESTP-T",
            "ISTJ-T",
            "ESFP-T",
            "ENTP-A",
            "ESFP-A",
            "INTJ-T",
            "ISFJ-A",
            "INTP-A",
            "ENTP-T",
            "ISTP-T",
            "ENTJ-T",
            "ISTP-A",
            "INFP-A",
            "ENFJ-T",
            "INTJ-A",
            "ISFP-A",
            "INFJ-A",
            "ESTJ-A"
           ],
           "type": "scatterpolar"
          }
         ],
         "name": "Malawi"
        },
        {
         "data": [
          {
           "hovertemplate": "Country=Malaysia<br>value=%{r}<br>variable=%{theta}<extra></extra>",
           "legendgroup": "",
           "line": {
            "color": "#636efa",
            "dash": "solid"
           },
           "marker": {
            "symbol": "circle"
           },
           "mode": "lines",
           "name": "",
           "r": [
            0.0208,
            0.0595,
            0.1271,
            0.0507,
            0.0803999999999999,
            0.0377,
            0.0143,
            0.0643,
            0.0222,
            0.0124,
            0.0128,
            0.0259,
            0.0559999999999999,
            0.0674,
            0.0079,
            0.0123,
            0.0158,
            0.0516999999999999,
            0.0121999999999999,
            0.0373,
            0.0131,
            0.0308999999999999,
            0.012,
            0.016,
            0.0144999999999999,
            0.0073,
            0.0086,
            0.0279999999999999,
            0.0322,
            0.0083,
            0.0249,
            0.0153,
            0.0208
           ],
           "showlegend": false,
           "subplot": "polar",
           "theta": [
            "ESTJ-A",
            "ESFJ-A",
            "INFP-T",
            "ESFJ-T",
            "ENFP-T",
            "ENFP-A",
            "ESTJ-T",
            "ISFJ-T",
            "ENFJ-A",
            "ESTP-A",
            "ISTJ-A",
            "INTP-T",
            "INFJ-T",
            "ISFP-T",
            "ENTJ-A",
            "ESTP-T",
            "ISTJ-T",
            "ESFP-T",
            "ENTP-A",
            "ESFP-A",
            "INTJ-T",
            "ISFJ-A",
            "INTP-A",
            "ENTP-T",
            "ISTP-T",
            "ENTJ-T",
            "ISTP-A",
            "INFP-A",
            "ENFJ-T",
            "INTJ-A",
            "ISFP-A",
            "INFJ-A",
            "ESTJ-A"
           ],
           "type": "scatterpolar"
          }
         ],
         "name": "Malaysia"
        },
        {
         "data": [
          {
           "hovertemplate": "Country=Maldives<br>value=%{r}<br>variable=%{theta}<extra></extra>",
           "legendgroup": "",
           "line": {
            "color": "#636efa",
            "dash": "solid"
           },
           "marker": {
            "symbol": "circle"
           },
           "mode": "lines",
           "name": "",
           "r": [
            0.0237,
            0.0356999999999999,
            0.1682999999999999,
            0.0242,
            0.0822,
            0.0397,
            0.009,
            0.0342,
            0.0339,
            0.0102,
            0.015,
            0.0484999999999999,
            0.0718,
            0.0449,
            0.0126,
            0.0077,
            0.0107,
            0.0233999999999999,
            0.0222,
            0.0237999999999999,
            0.0227,
            0.0218,
            0.0237,
            0.0237,
            0.013,
            0.0072,
            0.0112,
            0.0398,
            0.0347,
            0.0184,
            0.0194,
            0.0229,
            0.0237
           ],
           "showlegend": false,
           "subplot": "polar",
           "theta": [
            "ESTJ-A",
            "ESFJ-A",
            "INFP-T",
            "ESFJ-T",
            "ENFP-T",
            "ENFP-A",
            "ESTJ-T",
            "ISFJ-T",
            "ENFJ-A",
            "ESTP-A",
            "ISTJ-A",
            "INTP-T",
            "INFJ-T",
            "ISFP-T",
            "ENTJ-A",
            "ESTP-T",
            "ISTJ-T",
            "ESFP-T",
            "ENTP-A",
            "ESFP-A",
            "INTJ-T",
            "ISFJ-A",
            "INTP-A",
            "ENTP-T",
            "ISTP-T",
            "ENTJ-T",
            "ISTP-A",
            "INFP-A",
            "ENFJ-T",
            "INTJ-A",
            "ISFP-A",
            "INFJ-A",
            "ESTJ-A"
           ],
           "type": "scatterpolar"
          }
         ],
         "name": "Maldives"
        },
        {
         "data": [
          {
           "hovertemplate": "Country=Mali<br>value=%{r}<br>variable=%{theta}<extra></extra>",
           "legendgroup": "",
           "line": {
            "color": "#636efa",
            "dash": "solid"
           },
           "marker": {
            "symbol": "circle"
           },
           "mode": "lines",
           "name": "",
           "r": [
            0.0659,
            0.0852999999999999,
            0.0659,
            0.0271,
            0.0659,
            0.031,
            0.0039,
            0.062,
            0.0581,
            0.0116,
            0.0233,
            0.0504,
            0.0388,
            0.0271,
            0.0155,
            0.0116,
            0.0155,
            0.0349,
            0.0194,
            0.031,
            0.0194,
            0.0349,
            0.031,
            0.0233,
            0.0194,
            0.0116,
            0.0078,
            0.0349,
            0.0194,
            0.0233,
            0.0233,
            0.0116,
            0.0659
           ],
           "showlegend": false,
           "subplot": "polar",
           "theta": [
            "ESTJ-A",
            "ESFJ-A",
            "INFP-T",
            "ESFJ-T",
            "ENFP-T",
            "ENFP-A",
            "ESTJ-T",
            "ISFJ-T",
            "ENFJ-A",
            "ESTP-A",
            "ISTJ-A",
            "INTP-T",
            "INFJ-T",
            "ISFP-T",
            "ENTJ-A",
            "ESTP-T",
            "ISTJ-T",
            "ESFP-T",
            "ENTP-A",
            "ESFP-A",
            "INTJ-T",
            "ISFJ-A",
            "INTP-A",
            "ENTP-T",
            "ISTP-T",
            "ENTJ-T",
            "ISTP-A",
            "INFP-A",
            "ENFJ-T",
            "INTJ-A",
            "ISFP-A",
            "INFJ-A",
            "ESTJ-A"
           ],
           "type": "scatterpolar"
          }
         ],
         "name": "Mali"
        },
        {
         "data": [
          {
           "hovertemplate": "Country=Malta<br>value=%{r}<br>variable=%{theta}<extra></extra>",
           "legendgroup": "",
           "line": {
            "color": "#636efa",
            "dash": "solid"
           },
           "marker": {
            "symbol": "circle"
           },
           "mode": "lines",
           "name": "",
           "r": [
            0.0233999999999999,
            0.04,
            0.1365,
            0.0352,
            0.0883,
            0.0444,
            0.0113,
            0.0452,
            0.0312,
            0.0127,
            0.0113999999999999,
            0.0506,
            0.0719,
            0.0326,
            0.0189,
            0.0078,
            0.0141999999999999,
            0.0236,
            0.0289,
            0.0191,
            0.024,
            0.0196,
            0.0263,
            0.0274,
            0.0095,
            0.0156,
            0.0098,
            0.0256,
            0.0467999999999999,
            0.0189,
            0.013,
            0.0161,
            0.0233999999999999
           ],
           "showlegend": false,
           "subplot": "polar",
           "theta": [
            "ESTJ-A",
            "ESFJ-A",
            "INFP-T",
            "ESFJ-T",
            "ENFP-T",
            "ENFP-A",
            "ESTJ-T",
            "ISFJ-T",
            "ENFJ-A",
            "ESTP-A",
            "ISTJ-A",
            "INTP-T",
            "INFJ-T",
            "ISFP-T",
            "ENTJ-A",
            "ESTP-T",
            "ISTJ-T",
            "ESFP-T",
            "ENTP-A",
            "ESFP-A",
            "INTJ-T",
            "ISFJ-A",
            "INTP-A",
            "ENTP-T",
            "ISTP-T",
            "ENTJ-T",
            "ISTP-A",
            "INFP-A",
            "ENFJ-T",
            "INTJ-A",
            "ISFP-A",
            "INFJ-A",
            "ESTJ-A"
           ],
           "type": "scatterpolar"
          }
         ],
         "name": "Malta"
        },
        {
         "data": [
          {
           "hovertemplate": "Country=Mauritius<br>value=%{r}<br>variable=%{theta}<extra></extra>",
           "legendgroup": "",
           "line": {
            "color": "#636efa",
            "dash": "solid"
           },
           "marker": {
            "symbol": "circle"
           },
           "mode": "lines",
           "name": "",
           "r": [
            0.0342,
            0.0716,
            0.11,
            0.0301,
            0.0853999999999999,
            0.0464,
            0.0168,
            0.0337,
            0.0395,
            0.0136,
            0.017,
            0.0421,
            0.0537,
            0.0264,
            0.0250999999999999,
            0.012,
            0.0146,
            0.0245,
            0.0256,
            0.0235,
            0.0226,
            0.0220999999999999,
            0.0220999999999999,
            0.0286,
            0.013,
            0.0157,
            0.0093,
            0.0279,
            0.0423,
            0.018,
            0.0126,
            0.0200999999999999,
            0.0342
           ],
           "showlegend": false,
           "subplot": "polar",
           "theta": [
            "ESTJ-A",
            "ESFJ-A",
            "INFP-T",
            "ESFJ-T",
            "ENFP-T",
            "ENFP-A",
            "ESTJ-T",
            "ISFJ-T",
            "ENFJ-A",
            "ESTP-A",
            "ISTJ-A",
            "INTP-T",
            "INFJ-T",
            "ISFP-T",
            "ENTJ-A",
            "ESTP-T",
            "ISTJ-T",
            "ESFP-T",
            "ENTP-A",
            "ESFP-A",
            "INTJ-T",
            "ISFJ-A",
            "INTP-A",
            "ENTP-T",
            "ISTP-T",
            "ENTJ-T",
            "ISTP-A",
            "INFP-A",
            "ENFJ-T",
            "INTJ-A",
            "ISFP-A",
            "INFJ-A",
            "ESTJ-A"
           ],
           "type": "scatterpolar"
          }
         ],
         "name": "Mauritius"
        },
        {
         "data": [
          {
           "hovertemplate": "Country=Mexico<br>value=%{r}<br>variable=%{theta}<extra></extra>",
           "legendgroup": "",
           "line": {
            "color": "#636efa",
            "dash": "solid"
           },
           "marker": {
            "symbol": "circle"
           },
           "mode": "lines",
           "name": "",
           "r": [
            0.032,
            0.0507,
            0.107,
            0.0232,
            0.0781,
            0.0641,
            0.0113999999999999,
            0.0233,
            0.0432,
            0.0174,
            0.0192,
            0.0538999999999999,
            0.047,
            0.022,
            0.0243999999999999,
            0.0096,
            0.0154,
            0.0199,
            0.0366,
            0.0277,
            0.0285,
            0.018,
            0.034,
            0.0315,
            0.0116999999999999,
            0.0154,
            0.0113999999999999,
            0.0331,
            0.0321,
            0.0246,
            0.0136,
            0.0199,
            0.032
           ],
           "showlegend": false,
           "subplot": "polar",
           "theta": [
            "ESTJ-A",
            "ESFJ-A",
            "INFP-T",
            "ESFJ-T",
            "ENFP-T",
            "ENFP-A",
            "ESTJ-T",
            "ISFJ-T",
            "ENFJ-A",
            "ESTP-A",
            "ISTJ-A",
            "INTP-T",
            "INFJ-T",
            "ISFP-T",
            "ENTJ-A",
            "ESTP-T",
            "ISTJ-T",
            "ESFP-T",
            "ENTP-A",
            "ESFP-A",
            "INTJ-T",
            "ISFJ-A",
            "INTP-A",
            "ENTP-T",
            "ISTP-T",
            "ENTJ-T",
            "ISTP-A",
            "INFP-A",
            "ENFJ-T",
            "INTJ-A",
            "ISFP-A",
            "INFJ-A",
            "ESTJ-A"
           ],
           "type": "scatterpolar"
          }
         ],
         "name": "Mexico"
        },
        {
         "data": [
          {
           "hovertemplate": "Country=Monaco<br>value=%{r}<br>variable=%{theta}<extra></extra>",
           "legendgroup": "",
           "line": {
            "color": "#636efa",
            "dash": "solid"
           },
           "marker": {
            "symbol": "circle"
           },
           "mode": "lines",
           "name": "",
           "r": [
            0.0451,
            0.0626999999999999,
            0.0902,
            0.0475999999999999,
            0.1003,
            0.0426,
            0.0200999999999999,
            0.0200999999999999,
            0.0475999999999999,
            0.0276,
            0.0075,
            0.0375999999999999,
            0.0375999999999999,
            0.0250999999999999,
            0.0301,
            0.0075,
            0.0301,
            0.0175,
            0.0351,
            0.0226,
            0.01,
            0.0301,
            0.0175,
            0.0426,
            0.005,
            0.0125,
            0.01,
            0.0276,
            0.0626999999999999,
            0.015,
            0.005,
            0.0075,
            0.0451
           ],
           "showlegend": false,
           "subplot": "polar",
           "theta": [
            "ESTJ-A",
            "ESFJ-A",
            "INFP-T",
            "ESFJ-T",
            "ENFP-T",
            "ENFP-A",
            "ESTJ-T",
            "ISFJ-T",
            "ENFJ-A",
            "ESTP-A",
            "ISTJ-A",
            "INTP-T",
            "INFJ-T",
            "ISFP-T",
            "ENTJ-A",
            "ESTP-T",
            "ISTJ-T",
            "ESFP-T",
            "ENTP-A",
            "ESFP-A",
            "INTJ-T",
            "ISFJ-A",
            "INTP-A",
            "ENTP-T",
            "ISTP-T",
            "ENTJ-T",
            "ISTP-A",
            "INFP-A",
            "ENFJ-T",
            "INTJ-A",
            "ISFP-A",
            "INFJ-A",
            "ESTJ-A"
           ],
           "type": "scatterpolar"
          }
         ],
         "name": "Monaco"
        },
        {
         "data": [
          {
           "hovertemplate": "Country=Mongolia<br>value=%{r}<br>variable=%{theta}<extra></extra>",
           "legendgroup": "",
           "line": {
            "color": "#636efa",
            "dash": "solid"
           },
           "marker": {
            "symbol": "circle"
           },
           "mode": "lines",
           "name": "",
           "r": [
            0.0385999999999999,
            0.0414,
            0.0842,
            0.035,
            0.0629,
            0.0337,
            0.0285,
            0.0321,
            0.0341,
            0.0162,
            0.0209,
            0.049,
            0.047,
            0.0345,
            0.0260999999999999,
            0.018,
            0.0274,
            0.0331,
            0.0239,
            0.0189,
            0.0343,
            0.0203,
            0.0236,
            0.0319,
            0.0217,
            0.0217,
            0.013,
            0.0225,
            0.0482,
            0.0243999999999999,
            0.0144999999999999,
            0.0183,
            0.0385999999999999
           ],
           "showlegend": false,
           "subplot": "polar",
           "theta": [
            "ESTJ-A",
            "ESFJ-A",
            "INFP-T",
            "ESFJ-T",
            "ENFP-T",
            "ENFP-A",
            "ESTJ-T",
            "ISFJ-T",
            "ENFJ-A",
            "ESTP-A",
            "ISTJ-A",
            "INTP-T",
            "INFJ-T",
            "ISFP-T",
            "ENTJ-A",
            "ESTP-T",
            "ISTJ-T",
            "ESFP-T",
            "ENTP-A",
            "ESFP-A",
            "INTJ-T",
            "ISFJ-A",
            "INTP-A",
            "ENTP-T",
            "ISTP-T",
            "ENTJ-T",
            "ISTP-A",
            "INFP-A",
            "ENFJ-T",
            "INTJ-A",
            "ISFP-A",
            "INFJ-A",
            "ESTJ-A"
           ],
           "type": "scatterpolar"
          }
         ],
         "name": "Mongolia"
        },
        {
         "data": [
          {
           "hovertemplate": "Country=Montenegro<br>value=%{r}<br>variable=%{theta}<extra></extra>",
           "legendgroup": "",
           "line": {
            "color": "#636efa",
            "dash": "solid"
           },
           "marker": {
            "symbol": "circle"
           },
           "mode": "lines",
           "name": "",
           "r": [
            0.0493,
            0.0313,
            0.102,
            0.0192999999999999,
            0.0625,
            0.0529,
            0.0141999999999999,
            0.0239,
            0.0381,
            0.0186,
            0.015,
            0.0643,
            0.0467999999999999,
            0.0153,
            0.0463,
            0.0093999999999999,
            0.0135,
            0.0132,
            0.0529,
            0.0158,
            0.0275,
            0.013,
            0.0364,
            0.047,
            0.0092,
            0.0272,
            0.0097,
            0.0252,
            0.0384,
            0.03,
            0.0121999999999999,
            0.0197999999999999,
            0.0493
           ],
           "showlegend": false,
           "subplot": "polar",
           "theta": [
            "ESTJ-A",
            "ESFJ-A",
            "INFP-T",
            "ESFJ-T",
            "ENFP-T",
            "ENFP-A",
            "ESTJ-T",
            "ISFJ-T",
            "ENFJ-A",
            "ESTP-A",
            "ISTJ-A",
            "INTP-T",
            "INFJ-T",
            "ISFP-T",
            "ENTJ-A",
            "ESTP-T",
            "ISTJ-T",
            "ESFP-T",
            "ENTP-A",
            "ESFP-A",
            "INTJ-T",
            "ISFJ-A",
            "INTP-A",
            "ENTP-T",
            "ISTP-T",
            "ENTJ-T",
            "ISTP-A",
            "INFP-A",
            "ENFJ-T",
            "INTJ-A",
            "ISFP-A",
            "INFJ-A",
            "ESTJ-A"
           ],
           "type": "scatterpolar"
          }
         ],
         "name": "Montenegro"
        },
        {
         "data": [
          {
           "hovertemplate": "Country=Morocco<br>value=%{r}<br>variable=%{theta}<extra></extra>",
           "legendgroup": "",
           "line": {
            "color": "#636efa",
            "dash": "solid"
           },
           "marker": {
            "symbol": "circle"
           },
           "mode": "lines",
           "name": "",
           "r": [
            0.0258,
            0.0256,
            0.1208,
            0.0163,
            0.0686,
            0.0491,
            0.011,
            0.0200999999999999,
            0.0308,
            0.0174,
            0.0172,
            0.0768,
            0.0504999999999999,
            0.0229,
            0.0332,
            0.0116,
            0.0154,
            0.0163999999999999,
            0.046,
            0.0162,
            0.0371,
            0.0113,
            0.0529,
            0.0385,
            0.0159,
            0.0196,
            0.0128,
            0.0308,
            0.0289,
            0.0321,
            0.0107,
            0.0177,
            0.0258
           ],
           "showlegend": false,
           "subplot": "polar",
           "theta": [
            "ESTJ-A",
            "ESFJ-A",
            "INFP-T",
            "ESFJ-T",
            "ENFP-T",
            "ENFP-A",
            "ESTJ-T",
            "ISFJ-T",
            "ENFJ-A",
            "ESTP-A",
            "ISTJ-A",
            "INTP-T",
            "INFJ-T",
            "ISFP-T",
            "ENTJ-A",
            "ESTP-T",
            "ISTJ-T",
            "ESFP-T",
            "ENTP-A",
            "ESFP-A",
            "INTJ-T",
            "ISFJ-A",
            "INTP-A",
            "ENTP-T",
            "ISTP-T",
            "ENTJ-T",
            "ISTP-A",
            "INFP-A",
            "ENFJ-T",
            "INTJ-A",
            "ISFP-A",
            "INFJ-A",
            "ESTJ-A"
           ],
           "type": "scatterpolar"
          }
         ],
         "name": "Morocco"
        },
        {
         "data": [
          {
           "hovertemplate": "Country=Mozambique<br>value=%{r}<br>variable=%{theta}<extra></extra>",
           "legendgroup": "",
           "line": {
            "color": "#636efa",
            "dash": "solid"
           },
           "marker": {
            "symbol": "circle"
           },
           "mode": "lines",
           "name": "",
           "r": [
            0.0365,
            0.0536,
            0.0913,
            0.0268,
            0.0975,
            0.061,
            0.0148,
            0.0365,
            0.0428,
            0.016,
            0.0204999999999999,
            0.0365,
            0.0467999999999999,
            0.0331,
            0.0222,
            0.012,
            0.0148,
            0.024,
            0.0285,
            0.0285,
            0.0204999999999999,
            0.0297,
            0.0233999999999999,
            0.0268,
            0.0091,
            0.0113999999999999,
            0.008,
            0.0250999999999999,
            0.0428,
            0.0171,
            0.016,
            0.0262,
            0.0365
           ],
           "showlegend": false,
           "subplot": "polar",
           "theta": [
            "ESTJ-A",
            "ESFJ-A",
            "INFP-T",
            "ESFJ-T",
            "ENFP-T",
            "ENFP-A",
            "ESTJ-T",
            "ISFJ-T",
            "ENFJ-A",
            "ESTP-A",
            "ISTJ-A",
            "INTP-T",
            "INFJ-T",
            "ISFP-T",
            "ENTJ-A",
            "ESTP-T",
            "ISTJ-T",
            "ESFP-T",
            "ENTP-A",
            "ESFP-A",
            "INTJ-T",
            "ISFJ-A",
            "INTP-A",
            "ENTP-T",
            "ISTP-T",
            "ENTJ-T",
            "ISTP-A",
            "INFP-A",
            "ENFJ-T",
            "INTJ-A",
            "ISFP-A",
            "INFJ-A",
            "ESTJ-A"
           ],
           "type": "scatterpolar"
          }
         ],
         "name": "Mozambique"
        },
        {
         "data": [
          {
           "hovertemplate": "Country=Myanmar<br>value=%{r}<br>variable=%{theta}<extra></extra>",
           "legendgroup": "",
           "line": {
            "color": "#636efa",
            "dash": "solid"
           },
           "marker": {
            "symbol": "circle"
           },
           "mode": "lines",
           "name": "",
           "r": [
            0.0322,
            0.0548,
            0.1148,
            0.0426999999999999,
            0.0751999999999999,
            0.0343,
            0.0192,
            0.0491,
            0.0191,
            0.0143,
            0.0213,
            0.0412,
            0.044,
            0.0501999999999999,
            0.0112,
            0.0183,
            0.0243,
            0.0387,
            0.0186,
            0.035,
            0.019,
            0.0302999999999999,
            0.0191,
            0.0213,
            0.0213,
            0.0112,
            0.0147,
            0.0266,
            0.0260999999999999,
            0.0125,
            0.0250999999999999,
            0.0139999999999999,
            0.0322
           ],
           "showlegend": false,
           "subplot": "polar",
           "theta": [
            "ESTJ-A",
            "ESFJ-A",
            "INFP-T",
            "ESFJ-T",
            "ENFP-T",
            "ENFP-A",
            "ESTJ-T",
            "ISFJ-T",
            "ENFJ-A",
            "ESTP-A",
            "ISTJ-A",
            "INTP-T",
            "INFJ-T",
            "ISFP-T",
            "ENTJ-A",
            "ESTP-T",
            "ISTJ-T",
            "ESFP-T",
            "ENTP-A",
            "ESFP-A",
            "INTJ-T",
            "ISFJ-A",
            "INTP-A",
            "ENTP-T",
            "ISTP-T",
            "ENTJ-T",
            "ISTP-A",
            "INFP-A",
            "ENFJ-T",
            "INTJ-A",
            "ISFP-A",
            "INFJ-A",
            "ESTJ-A"
           ],
           "type": "scatterpolar"
          }
         ],
         "name": "Myanmar"
        },
        {
         "data": [
          {
           "hovertemplate": "Country=Namibia<br>value=%{r}<br>variable=%{theta}<extra></extra>",
           "legendgroup": "",
           "line": {
            "color": "#636efa",
            "dash": "solid"
           },
           "marker": {
            "symbol": "circle"
           },
           "mode": "lines",
           "name": "",
           "r": [
            0.0297,
            0.0526,
            0.0992,
            0.0278,
            0.0828999999999999,
            0.0496999999999999,
            0.0137,
            0.0449,
            0.0408,
            0.0156,
            0.0163999999999999,
            0.0375,
            0.0532,
            0.0356,
            0.024,
            0.0132,
            0.0166,
            0.024,
            0.025,
            0.0266,
            0.0206,
            0.0338,
            0.023,
            0.0237999999999999,
            0.0118,
            0.0141,
            0.0106,
            0.0378,
            0.0354,
            0.0141,
            0.0215,
            0.0243999999999999,
            0.0297
           ],
           "showlegend": false,
           "subplot": "polar",
           "theta": [
            "ESTJ-A",
            "ESFJ-A",
            "INFP-T",
            "ESFJ-T",
            "ENFP-T",
            "ENFP-A",
            "ESTJ-T",
            "ISFJ-T",
            "ENFJ-A",
            "ESTP-A",
            "ISTJ-A",
            "INTP-T",
            "INFJ-T",
            "ISFP-T",
            "ENTJ-A",
            "ESTP-T",
            "ISTJ-T",
            "ESFP-T",
            "ENTP-A",
            "ESFP-A",
            "INTJ-T",
            "ISFJ-A",
            "INTP-A",
            "ENTP-T",
            "ISTP-T",
            "ENTJ-T",
            "ISTP-A",
            "INFP-A",
            "ENFJ-T",
            "INTJ-A",
            "ISFP-A",
            "INFJ-A",
            "ESTJ-A"
           ],
           "type": "scatterpolar"
          }
         ],
         "name": "Namibia"
        },
        {
         "data": [
          {
           "hovertemplate": "Country=Nepal<br>value=%{r}<br>variable=%{theta}<extra></extra>",
           "legendgroup": "",
           "line": {
            "color": "#636efa",
            "dash": "solid"
           },
           "marker": {
            "symbol": "circle"
           },
           "mode": "lines",
           "name": "",
           "r": [
            0.0196,
            0.035,
            0.1562,
            0.0323,
            0.096,
            0.0405,
            0.0141,
            0.0314,
            0.0265,
            0.0126,
            0.0098,
            0.0571,
            0.0552,
            0.0446,
            0.0133,
            0.0148,
            0.0116999999999999,
            0.0373,
            0.0192999999999999,
            0.0217,
            0.0231,
            0.0165,
            0.0239,
            0.0314,
            0.0147,
            0.0166,
            0.0085,
            0.0325,
            0.0401999999999999,
            0.0146,
            0.0139,
            0.0153,
            0.0196
           ],
           "showlegend": false,
           "subplot": "polar",
           "theta": [
            "ESTJ-A",
            "ESFJ-A",
            "INFP-T",
            "ESFJ-T",
            "ENFP-T",
            "ENFP-A",
            "ESTJ-T",
            "ISFJ-T",
            "ENFJ-A",
            "ESTP-A",
            "ISTJ-A",
            "INTP-T",
            "INFJ-T",
            "ISFP-T",
            "ENTJ-A",
            "ESTP-T",
            "ISTJ-T",
            "ESFP-T",
            "ENTP-A",
            "ESFP-A",
            "INTJ-T",
            "ISFJ-A",
            "INTP-A",
            "ENTP-T",
            "ISTP-T",
            "ENTJ-T",
            "ISTP-A",
            "INFP-A",
            "ENFJ-T",
            "INTJ-A",
            "ISFP-A",
            "INFJ-A",
            "ESTJ-A"
           ],
           "type": "scatterpolar"
          }
         ],
         "name": "Nepal"
        },
        {
         "data": [
          {
           "hovertemplate": "Country=Netherlands<br>value=%{r}<br>variable=%{theta}<extra></extra>",
           "legendgroup": "",
           "line": {
            "color": "#636efa",
            "dash": "solid"
           },
           "marker": {
            "symbol": "circle"
           },
           "mode": "lines",
           "name": "",
           "r": [
            0.0302,
            0.0494,
            0.1246,
            0.0297,
            0.0888,
            0.0713999999999999,
            0.0086,
            0.0368,
            0.0341,
            0.0200999999999999,
            0.0167,
            0.0347,
            0.0598,
            0.0265,
            0.0187999999999999,
            0.0062,
            0.0113999999999999,
            0.0216,
            0.0352,
            0.0335,
            0.0185,
            0.0214,
            0.0283999999999999,
            0.0214,
            0.0087,
            0.0095,
            0.0121999999999999,
            0.0356999999999999,
            0.0346,
            0.0175,
            0.0162,
            0.0176,
            0.0302
           ],
           "showlegend": false,
           "subplot": "polar",
           "theta": [
            "ESTJ-A",
            "ESFJ-A",
            "INFP-T",
            "ESFJ-T",
            "ENFP-T",
            "ENFP-A",
            "ESTJ-T",
            "ISFJ-T",
            "ENFJ-A",
            "ESTP-A",
            "ISTJ-A",
            "INTP-T",
            "INFJ-T",
            "ISFP-T",
            "ENTJ-A",
            "ESTP-T",
            "ISTJ-T",
            "ESFP-T",
            "ENTP-A",
            "ESFP-A",
            "INTJ-T",
            "ISFJ-A",
            "INTP-A",
            "ENTP-T",
            "ISTP-T",
            "ENTJ-T",
            "ISTP-A",
            "INFP-A",
            "ENFJ-T",
            "INTJ-A",
            "ISFP-A",
            "INFJ-A",
            "ESTJ-A"
           ],
           "type": "scatterpolar"
          }
         ],
         "name": "Netherlands"
        },
        {
         "data": [
          {
           "hovertemplate": "Country=New Zealand<br>value=%{r}<br>variable=%{theta}<extra></extra>",
           "legendgroup": "",
           "line": {
            "color": "#636efa",
            "dash": "solid"
           },
           "marker": {
            "symbol": "circle"
           },
           "mode": "lines",
           "name": "",
           "r": [
            0.0237999999999999,
            0.0619,
            0.1202,
            0.0409999999999999,
            0.0917999999999999,
            0.0584,
            0.0093999999999999,
            0.0555,
            0.036,
            0.0128,
            0.0161,
            0.0288,
            0.0598,
            0.0397,
            0.0121999999999999,
            0.0069999999999999,
            0.0133,
            0.0289999999999999,
            0.0197,
            0.0313,
            0.0146,
            0.0325,
            0.0172,
            0.0176,
            0.0102,
            0.0081,
            0.0096,
            0.03,
            0.042,
            0.0121999999999999,
            0.02,
            0.0183,
            0.0237999999999999
           ],
           "showlegend": false,
           "subplot": "polar",
           "theta": [
            "ESTJ-A",
            "ESFJ-A",
            "INFP-T",
            "ESFJ-T",
            "ENFP-T",
            "ENFP-A",
            "ESTJ-T",
            "ISFJ-T",
            "ENFJ-A",
            "ESTP-A",
            "ISTJ-A",
            "INTP-T",
            "INFJ-T",
            "ISFP-T",
            "ENTJ-A",
            "ESTP-T",
            "ISTJ-T",
            "ESFP-T",
            "ENTP-A",
            "ESFP-A",
            "INTJ-T",
            "ISFJ-A",
            "INTP-A",
            "ENTP-T",
            "ISTP-T",
            "ENTJ-T",
            "ISTP-A",
            "INFP-A",
            "ENFJ-T",
            "INTJ-A",
            "ISFP-A",
            "INFJ-A",
            "ESTJ-A"
           ],
           "type": "scatterpolar"
          }
         ],
         "name": "New Zealand"
        },
        {
         "data": [
          {
           "hovertemplate": "Country=Nicaragua<br>value=%{r}<br>variable=%{theta}<extra></extra>",
           "legendgroup": "",
           "line": {
            "color": "#636efa",
            "dash": "solid"
           },
           "marker": {
            "symbol": "circle"
           },
           "mode": "lines",
           "name": "",
           "r": [
            0.048,
            0.1583999999999999,
            0.0662,
            0.0248,
            0.07,
            0.0587,
            0.009,
            0.0236,
            0.0576999999999999,
            0.0195,
            0.0189,
            0.0318,
            0.032,
            0.019,
            0.023,
            0.0097,
            0.0116,
            0.0259,
            0.0252,
            0.0423,
            0.0179,
            0.0302999999999999,
            0.0218,
            0.0218,
            0.0111,
            0.0108,
            0.0116,
            0.0231,
            0.0282,
            0.013,
            0.0144,
            0.0207,
            0.048
           ],
           "showlegend": false,
           "subplot": "polar",
           "theta": [
            "ESTJ-A",
            "ESFJ-A",
            "INFP-T",
            "ESFJ-T",
            "ENFP-T",
            "ENFP-A",
            "ESTJ-T",
            "ISFJ-T",
            "ENFJ-A",
            "ESTP-A",
            "ISTJ-A",
            "INTP-T",
            "INFJ-T",
            "ISFP-T",
            "ENTJ-A",
            "ESTP-T",
            "ISTJ-T",
            "ESFP-T",
            "ENTP-A",
            "ESFP-A",
            "INTJ-T",
            "ISFJ-A",
            "INTP-A",
            "ENTP-T",
            "ISTP-T",
            "ENTJ-T",
            "ISTP-A",
            "INFP-A",
            "ENFJ-T",
            "INTJ-A",
            "ISFP-A",
            "INFJ-A",
            "ESTJ-A"
           ],
           "type": "scatterpolar"
          }
         ],
         "name": "Nicaragua"
        },
        {
         "data": [
          {
           "hovertemplate": "Country=Niger<br>value=%{r}<br>variable=%{theta}<extra></extra>",
           "legendgroup": "",
           "line": {
            "color": "#636efa",
            "dash": "solid"
           },
           "marker": {
            "symbol": "circle"
           },
           "mode": "lines",
           "name": "",
           "r": [
            0.0652,
            0.1311999999999999,
            0.06,
            0.0411,
            0.0447,
            0.0272,
            0.0197999999999999,
            0.0432,
            0.0467999999999999,
            0.016,
            0.0259,
            0.0235,
            0.0437,
            0.0316,
            0.0266,
            0.0129,
            0.018,
            0.0277,
            0.0184,
            0.0255,
            0.0202,
            0.0473,
            0.0168,
            0.0185,
            0.0124,
            0.0136,
            0.0092,
            0.0212,
            0.027,
            0.0204999999999999,
            0.0185,
            0.026,
            0.0652
           ],
           "showlegend": false,
           "subplot": "polar",
           "theta": [
            "ESTJ-A",
            "ESFJ-A",
            "INFP-T",
            "ESFJ-T",
            "ENFP-T",
            "ENFP-A",
            "ESTJ-T",
            "ISFJ-T",
            "ENFJ-A",
            "ESTP-A",
            "ISTJ-A",
            "INTP-T",
            "INFJ-T",
            "ISFP-T",
            "ENTJ-A",
            "ESTP-T",
            "ISTJ-T",
            "ESFP-T",
            "ENTP-A",
            "ESFP-A",
            "INTJ-T",
            "ISFJ-A",
            "INTP-A",
            "ENTP-T",
            "ISTP-T",
            "ENTJ-T",
            "ISTP-A",
            "INFP-A",
            "ENFJ-T",
            "INTJ-A",
            "ISFP-A",
            "INFJ-A",
            "ESTJ-A"
           ],
           "type": "scatterpolar"
          }
         ],
         "name": "Niger"
        },
        {
         "data": [
          {
           "hovertemplate": "Country=Nigeria<br>value=%{r}<br>variable=%{theta}<extra></extra>",
           "legendgroup": "",
           "line": {
            "color": "#636efa",
            "dash": "solid"
           },
           "marker": {
            "symbol": "circle"
           },
           "mode": "lines",
           "name": "",
           "r": [
            0.0652,
            0.1311999999999999,
            0.06,
            0.0411,
            0.0447,
            0.0272,
            0.0197999999999999,
            0.0432,
            0.0467999999999999,
            0.016,
            0.0259,
            0.0235,
            0.0437,
            0.0316,
            0.0266,
            0.0129,
            0.018,
            0.0277,
            0.0184,
            0.0255,
            0.0202,
            0.0473,
            0.0168,
            0.0185,
            0.0124,
            0.0136,
            0.0092,
            0.0212,
            0.027,
            0.0204999999999999,
            0.0185,
            0.026,
            0.0652
           ],
           "showlegend": false,
           "subplot": "polar",
           "theta": [
            "ESTJ-A",
            "ESFJ-A",
            "INFP-T",
            "ESFJ-T",
            "ENFP-T",
            "ENFP-A",
            "ESTJ-T",
            "ISFJ-T",
            "ENFJ-A",
            "ESTP-A",
            "ISTJ-A",
            "INTP-T",
            "INFJ-T",
            "ISFP-T",
            "ENTJ-A",
            "ESTP-T",
            "ISTJ-T",
            "ESFP-T",
            "ENTP-A",
            "ESFP-A",
            "INTJ-T",
            "ISFJ-A",
            "INTP-A",
            "ENTP-T",
            "ISTP-T",
            "ENTJ-T",
            "ISTP-A",
            "INFP-A",
            "ENFJ-T",
            "INTJ-A",
            "ISFP-A",
            "INFJ-A",
            "ESTJ-A"
           ],
           "type": "scatterpolar"
          }
         ],
         "name": "Nigeria"
        },
        {
         "data": [
          {
           "hovertemplate": "Country=Macedonia<br>value=%{r}<br>variable=%{theta}<extra></extra>",
           "legendgroup": "",
           "line": {
            "color": "#636efa",
            "dash": "solid"
           },
           "marker": {
            "symbol": "circle"
           },
           "mode": "lines",
           "name": "",
           "r": [
            0.0463,
            0.0356999999999999,
            0.0960999999999999,
            0.0237999999999999,
            0.0602,
            0.045,
            0.0182,
            0.0241,
            0.0405,
            0.0212,
            0.0210999999999999,
            0.0550999999999999,
            0.0639,
            0.0194,
            0.0411,
            0.0107,
            0.0169,
            0.0136,
            0.0484999999999999,
            0.0155,
            0.0355,
            0.0146,
            0.0324,
            0.0401999999999999,
            0.0118999999999999,
            0.0220999999999999,
            0.009,
            0.0243999999999999,
            0.0409,
            0.0258,
            0.0098999999999999,
            0.0163999999999999,
            0.0463
           ],
           "showlegend": false,
           "subplot": "polar",
           "theta": [
            "ESTJ-A",
            "ESFJ-A",
            "INFP-T",
            "ESFJ-T",
            "ENFP-T",
            "ENFP-A",
            "ESTJ-T",
            "ISFJ-T",
            "ENFJ-A",
            "ESTP-A",
            "ISTJ-A",
            "INTP-T",
            "INFJ-T",
            "ISFP-T",
            "ENTJ-A",
            "ESTP-T",
            "ISTJ-T",
            "ESFP-T",
            "ENTP-A",
            "ESFP-A",
            "INTJ-T",
            "ISFJ-A",
            "INTP-A",
            "ENTP-T",
            "ISTP-T",
            "ENTJ-T",
            "ISTP-A",
            "INFP-A",
            "ENFJ-T",
            "INTJ-A",
            "ISFP-A",
            "INFJ-A",
            "ESTJ-A"
           ],
           "type": "scatterpolar"
          }
         ],
         "name": "Macedonia"
        },
        {
         "data": [
          {
           "hovertemplate": "Country=Norway<br>value=%{r}<br>variable=%{theta}<extra></extra>",
           "legendgroup": "",
           "line": {
            "color": "#636efa",
            "dash": "solid"
           },
           "marker": {
            "symbol": "circle"
           },
           "mode": "lines",
           "name": "",
           "r": [
            0.0293,
            0.0465,
            0.1225,
            0.0289999999999999,
            0.0808,
            0.0594,
            0.008,
            0.0411,
            0.0305,
            0.0187999999999999,
            0.0196,
            0.0403,
            0.0653,
            0.0313,
            0.0187,
            0.0064,
            0.0133,
            0.0218,
            0.0355,
            0.0287,
            0.0204,
            0.0218,
            0.0313,
            0.0219,
            0.0113999999999999,
            0.0096,
            0.0141,
            0.0331,
            0.0347,
            0.0204999999999999,
            0.017,
            0.0172,
            0.0293
           ],
           "showlegend": false,
           "subplot": "polar",
           "theta": [
            "ESTJ-A",
            "ESFJ-A",
            "INFP-T",
            "ESFJ-T",
            "ENFP-T",
            "ENFP-A",
            "ESTJ-T",
            "ISFJ-T",
            "ENFJ-A",
            "ESTP-A",
            "ISTJ-A",
            "INTP-T",
            "INFJ-T",
            "ISFP-T",
            "ENTJ-A",
            "ESTP-T",
            "ISTJ-T",
            "ESFP-T",
            "ENTP-A",
            "ESFP-A",
            "INTJ-T",
            "ISFJ-A",
            "INTP-A",
            "ENTP-T",
            "ISTP-T",
            "ENTJ-T",
            "ISTP-A",
            "INFP-A",
            "ENFJ-T",
            "INTJ-A",
            "ISFP-A",
            "INFJ-A",
            "ESTJ-A"
           ],
           "type": "scatterpolar"
          }
         ],
         "name": "Norway"
        },
        {
         "data": [
          {
           "hovertemplate": "Country=Oman<br>value=%{r}<br>variable=%{theta}<extra></extra>",
           "legendgroup": "",
           "line": {
            "color": "#636efa",
            "dash": "solid"
           },
           "marker": {
            "symbol": "circle"
           },
           "mode": "lines",
           "name": "",
           "r": [
            0.0421999999999999,
            0.0702,
            0.099,
            0.0431,
            0.0788,
            0.0435,
            0.0181,
            0.0388,
            0.0346,
            0.0155,
            0.0168,
            0.0354,
            0.0479,
            0.0382,
            0.0203,
            0.0133,
            0.0154,
            0.0332,
            0.0232,
            0.0279,
            0.0186,
            0.0237999999999999,
            0.0243999999999999,
            0.0255,
            0.0128,
            0.0175,
            0.011,
            0.0248,
            0.0374,
            0.0151,
            0.017,
            0.0168,
            0.0421999999999999
           ],
           "showlegend": false,
           "subplot": "polar",
           "theta": [
            "ESTJ-A",
            "ESFJ-A",
            "INFP-T",
            "ESFJ-T",
            "ENFP-T",
            "ENFP-A",
            "ESTJ-T",
            "ISFJ-T",
            "ENFJ-A",
            "ESTP-A",
            "ISTJ-A",
            "INTP-T",
            "INFJ-T",
            "ISFP-T",
            "ENTJ-A",
            "ESTP-T",
            "ISTJ-T",
            "ESFP-T",
            "ENTP-A",
            "ESFP-A",
            "INTJ-T",
            "ISFJ-A",
            "INTP-A",
            "ENTP-T",
            "ISTP-T",
            "ENTJ-T",
            "ISTP-A",
            "INFP-A",
            "ENFJ-T",
            "INTJ-A",
            "ISFP-A",
            "INFJ-A",
            "ESTJ-A"
           ],
           "type": "scatterpolar"
          }
         ],
         "name": "Oman"
        },
        {
         "data": [
          {
           "hovertemplate": "Country=Pakistan<br>value=%{r}<br>variable=%{theta}<extra></extra>",
           "legendgroup": "",
           "line": {
            "color": "#636efa",
            "dash": "solid"
           },
           "marker": {
            "symbol": "circle"
           },
           "mode": "lines",
           "name": "",
           "r": [
            0.0283,
            0.062,
            0.109,
            0.0481,
            0.092,
            0.0371,
            0.0217,
            0.0378,
            0.0342,
            0.0144,
            0.0115,
            0.0343,
            0.0547,
            0.0416,
            0.0139,
            0.0182,
            0.0165,
            0.0437,
            0.0177,
            0.0278,
            0.0185,
            0.02,
            0.0141999999999999,
            0.0279,
            0.0159,
            0.0165,
            0.0083,
            0.023,
            0.0499,
            0.0111,
            0.0152,
            0.0148,
            0.0283
           ],
           "showlegend": false,
           "subplot": "polar",
           "theta": [
            "ESTJ-A",
            "ESFJ-A",
            "INFP-T",
            "ESFJ-T",
            "ENFP-T",
            "ENFP-A",
            "ESTJ-T",
            "ISFJ-T",
            "ENFJ-A",
            "ESTP-A",
            "ISTJ-A",
            "INTP-T",
            "INFJ-T",
            "ISFP-T",
            "ENTJ-A",
            "ESTP-T",
            "ISTJ-T",
            "ESFP-T",
            "ENTP-A",
            "ESFP-A",
            "INTJ-T",
            "ISFJ-A",
            "INTP-A",
            "ENTP-T",
            "ISTP-T",
            "ENTJ-T",
            "ISTP-A",
            "INFP-A",
            "ENFJ-T",
            "INTJ-A",
            "ISFP-A",
            "INFJ-A",
            "ESTJ-A"
           ],
           "type": "scatterpolar"
          }
         ],
         "name": "Pakistan"
        },
        {
         "data": [
          {
           "hovertemplate": "Country=Panama<br>value=%{r}<br>variable=%{theta}<extra></extra>",
           "legendgroup": "",
           "line": {
            "color": "#636efa",
            "dash": "solid"
           },
           "marker": {
            "symbol": "circle"
           },
           "mode": "lines",
           "name": "",
           "r": [
            0.0288,
            0.0509,
            0.1137,
            0.0192999999999999,
            0.0813,
            0.0697,
            0.0101,
            0.0283,
            0.0419,
            0.0184,
            0.0215,
            0.0451,
            0.0498,
            0.0275,
            0.0195,
            0.0089,
            0.0165,
            0.0203,
            0.0341,
            0.0279999999999999,
            0.0208,
            0.0231,
            0.0329,
            0.0218,
            0.0121999999999999,
            0.0118999999999999,
            0.0132,
            0.0404,
            0.0324,
            0.0226,
            0.0162,
            0.0187999999999999,
            0.0288
           ],
           "showlegend": false,
           "subplot": "polar",
           "theta": [
            "ESTJ-A",
            "ESFJ-A",
            "INFP-T",
            "ESFJ-T",
            "ENFP-T",
            "ENFP-A",
            "ESTJ-T",
            "ISFJ-T",
            "ENFJ-A",
            "ESTP-A",
            "ISTJ-A",
            "INTP-T",
            "INFJ-T",
            "ISFP-T",
            "ENTJ-A",
            "ESTP-T",
            "ISTJ-T",
            "ESFP-T",
            "ENTP-A",
            "ESFP-A",
            "INTJ-T",
            "ISFJ-A",
            "INTP-A",
            "ENTP-T",
            "ISTP-T",
            "ENTJ-T",
            "ISTP-A",
            "INFP-A",
            "ENFJ-T",
            "INTJ-A",
            "ISFP-A",
            "INFJ-A",
            "ESTJ-A"
           ],
           "type": "scatterpolar"
          }
         ],
         "name": "Panama"
        },
        {
         "data": [
          {
           "hovertemplate": "Country=Papua New Guinea<br>value=%{r}<br>variable=%{theta}<extra></extra>",
           "legendgroup": "",
           "line": {
            "color": "#636efa",
            "dash": "solid"
           },
           "marker": {
            "symbol": "circle"
           },
           "mode": "lines",
           "name": "",
           "r": [
            0.0266999999999999,
            0.0658,
            0.0817,
            0.0448,
            0.0742999999999999,
            0.0448,
            0.0125,
            0.0545,
            0.0454,
            0.0216,
            0.0199,
            0.0233,
            0.0573,
            0.0437,
            0.0148,
            0.0085,
            0.0096,
            0.0409,
            0.0113999999999999,
            0.0346,
            0.0125,
            0.0346,
            0.0182,
            0.0187,
            0.0113999999999999,
            0.0045,
            0.0079,
            0.038,
            0.0392,
            0.0233,
            0.0266999999999999,
            0.0289,
            0.0266999999999999
           ],
           "showlegend": false,
           "subplot": "polar",
           "theta": [
            "ESTJ-A",
            "ESFJ-A",
            "INFP-T",
            "ESFJ-T",
            "ENFP-T",
            "ENFP-A",
            "ESTJ-T",
            "ISFJ-T",
            "ENFJ-A",
            "ESTP-A",
            "ISTJ-A",
            "INTP-T",
            "INFJ-T",
            "ISFP-T",
            "ENTJ-A",
            "ESTP-T",
            "ISTJ-T",
            "ESFP-T",
            "ENTP-A",
            "ESFP-A",
            "INTJ-T",
            "ISFJ-A",
            "INTP-A",
            "ENTP-T",
            "ISTP-T",
            "ENTJ-T",
            "ISTP-A",
            "INFP-A",
            "ENFJ-T",
            "INTJ-A",
            "ISFP-A",
            "INFJ-A",
            "ESTJ-A"
           ],
           "type": "scatterpolar"
          }
         ],
         "name": "Papua New Guinea"
        },
        {
         "data": [
          {
           "hovertemplate": "Country=Paraguay<br>value=%{r}<br>variable=%{theta}<extra></extra>",
           "legendgroup": "",
           "line": {
            "color": "#636efa",
            "dash": "solid"
           },
           "marker": {
            "symbol": "circle"
           },
           "mode": "lines",
           "name": "",
           "r": [
            0.0243999999999999,
            0.0260999999999999,
            0.1362,
            0.0141,
            0.0807,
            0.0475,
            0.0101,
            0.0236,
            0.0292,
            0.0118,
            0.0153,
            0.0689,
            0.0508,
            0.0233999999999999,
            0.0266,
            0.0085,
            0.0219,
            0.0194,
            0.0327,
            0.0200999999999999,
            0.0362,
            0.0166,
            0.0356999999999999,
            0.0356999999999999,
            0.0166,
            0.0153,
            0.0131,
            0.0349,
            0.0297,
            0.0365,
            0.0176,
            0.0209,
            0.0243999999999999
           ],
           "showlegend": false,
           "subplot": "polar",
           "theta": [
            "ESTJ-A",
            "ESFJ-A",
            "INFP-T",
            "ESFJ-T",
            "ENFP-T",
            "ENFP-A",
            "ESTJ-T",
            "ISFJ-T",
            "ENFJ-A",
            "ESTP-A",
            "ISTJ-A",
            "INTP-T",
            "INFJ-T",
            "ISFP-T",
            "ENTJ-A",
            "ESTP-T",
            "ISTJ-T",
            "ESFP-T",
            "ENTP-A",
            "ESFP-A",
            "INTJ-T",
            "ISFJ-A",
            "INTP-A",
            "ENTP-T",
            "ISTP-T",
            "ENTJ-T",
            "ISTP-A",
            "INFP-A",
            "ENFJ-T",
            "INTJ-A",
            "ISFP-A",
            "INFJ-A",
            "ESTJ-A"
           ],
           "type": "scatterpolar"
          }
         ],
         "name": "Paraguay"
        },
        {
         "data": [
          {
           "hovertemplate": "Country=Peru<br>value=%{r}<br>variable=%{theta}<extra></extra>",
           "legendgroup": "",
           "line": {
            "color": "#636efa",
            "dash": "solid"
           },
           "marker": {
            "symbol": "circle"
           },
           "mode": "lines",
           "name": "",
           "r": [
            0.0292,
            0.0521,
            0.1234,
            0.0213,
            0.0832,
            0.0652,
            0.01,
            0.0243,
            0.0416,
            0.0155,
            0.0167,
            0.0605,
            0.0458999999999999,
            0.0227,
            0.0222,
            0.0079,
            0.0139,
            0.0185,
            0.0321,
            0.0248,
            0.026,
            0.0212,
            0.0323,
            0.031,
            0.0125,
            0.0121,
            0.0127,
            0.0325,
            0.031,
            0.0242,
            0.0144,
            0.0189,
            0.0292
           ],
           "showlegend": false,
           "subplot": "polar",
           "theta": [
            "ESTJ-A",
            "ESFJ-A",
            "INFP-T",
            "ESFJ-T",
            "ENFP-T",
            "ENFP-A",
            "ESTJ-T",
            "ISFJ-T",
            "ENFJ-A",
            "ESTP-A",
            "ISTJ-A",
            "INTP-T",
            "INFJ-T",
            "ISFP-T",
            "ENTJ-A",
            "ESTP-T",
            "ISTJ-T",
            "ESFP-T",
            "ENTP-A",
            "ESFP-A",
            "INTJ-T",
            "ISFJ-A",
            "INTP-A",
            "ENTP-T",
            "ISTP-T",
            "ENTJ-T",
            "ISTP-A",
            "INFP-A",
            "ENFJ-T",
            "INTJ-A",
            "ISFP-A",
            "INFJ-A",
            "ESTJ-A"
           ],
           "type": "scatterpolar"
          }
         ],
         "name": "Peru"
        },
        {
         "data": [
          {
           "hovertemplate": "Country=Philippines<br>value=%{r}<br>variable=%{theta}<extra></extra>",
           "legendgroup": "",
           "line": {
            "color": "#636efa",
            "dash": "solid"
           },
           "marker": {
            "symbol": "circle"
           },
           "mode": "lines",
           "name": "",
           "r": [
            0.0218,
            0.0653,
            0.1314,
            0.0432,
            0.0751,
            0.0353,
            0.0135,
            0.0447,
            0.0248,
            0.0113999999999999,
            0.0149,
            0.0404,
            0.0578,
            0.0509,
            0.01,
            0.0124,
            0.0158,
            0.0433,
            0.0141999999999999,
            0.0318,
            0.0206,
            0.0289999999999999,
            0.0192999999999999,
            0.02,
            0.0154,
            0.0095,
            0.0098999999999999,
            0.0313,
            0.0317,
            0.0147,
            0.0215,
            0.0194,
            0.0218
           ],
           "showlegend": false,
           "subplot": "polar",
           "theta": [
            "ESTJ-A",
            "ESFJ-A",
            "INFP-T",
            "ESFJ-T",
            "ENFP-T",
            "ENFP-A",
            "ESTJ-T",
            "ISFJ-T",
            "ENFJ-A",
            "ESTP-A",
            "ISTJ-A",
            "INTP-T",
            "INFJ-T",
            "ISFP-T",
            "ENTJ-A",
            "ESTP-T",
            "ISTJ-T",
            "ESFP-T",
            "ENTP-A",
            "ESFP-A",
            "INTJ-T",
            "ISFJ-A",
            "INTP-A",
            "ENTP-T",
            "ISTP-T",
            "ENTJ-T",
            "ISTP-A",
            "INFP-A",
            "ENFJ-T",
            "INTJ-A",
            "ISFP-A",
            "INFJ-A",
            "ESTJ-A"
           ],
           "type": "scatterpolar"
          }
         ],
         "name": "Philippines"
        },
        {
         "data": [
          {
           "hovertemplate": "Country=Poland<br>value=%{r}<br>variable=%{theta}<extra></extra>",
           "legendgroup": "",
           "line": {
            "color": "#636efa",
            "dash": "solid"
           },
           "marker": {
            "symbol": "circle"
           },
           "mode": "lines",
           "name": "",
           "r": [
            0.0293,
            0.022,
            0.1311999999999999,
            0.0182,
            0.0699,
            0.0352,
            0.0132,
            0.0319,
            0.02,
            0.0183,
            0.0256999999999999,
            0.0817,
            0.0632,
            0.0250999999999999,
            0.0231,
            0.0093999999999999,
            0.0233,
            0.0146,
            0.0424,
            0.0128,
            0.0453,
            0.0118999999999999,
            0.0424,
            0.036,
            0.0173,
            0.0165,
            0.0157,
            0.0237999999999999,
            0.0278,
            0.0311,
            0.0093,
            0.0124,
            0.0293
           ],
           "showlegend": false,
           "subplot": "polar",
           "theta": [
            "ESTJ-A",
            "ESFJ-A",
            "INFP-T",
            "ESFJ-T",
            "ENFP-T",
            "ENFP-A",
            "ESTJ-T",
            "ISFJ-T",
            "ENFJ-A",
            "ESTP-A",
            "ISTJ-A",
            "INTP-T",
            "INFJ-T",
            "ISFP-T",
            "ENTJ-A",
            "ESTP-T",
            "ISTJ-T",
            "ESFP-T",
            "ENTP-A",
            "ESFP-A",
            "INTJ-T",
            "ISFJ-A",
            "INTP-A",
            "ENTP-T",
            "ISTP-T",
            "ENTJ-T",
            "ISTP-A",
            "INFP-A",
            "ENFJ-T",
            "INTJ-A",
            "ISFP-A",
            "INFJ-A",
            "ESTJ-A"
           ],
           "type": "scatterpolar"
          }
         ],
         "name": "Poland"
        },
        {
         "data": [
          {
           "hovertemplate": "Country=Portugal<br>value=%{r}<br>variable=%{theta}<extra></extra>",
           "legendgroup": "",
           "line": {
            "color": "#636efa",
            "dash": "solid"
           },
           "marker": {
            "symbol": "circle"
           },
           "mode": "lines",
           "name": "",
           "r": [
            0.0162,
            0.0295,
            0.1682999999999999,
            0.0202,
            0.0857,
            0.051,
            0.0068,
            0.0365,
            0.0289,
            0.012,
            0.0147,
            0.0576,
            0.0794,
            0.0349,
            0.0134,
            0.0064,
            0.0136,
            0.0173,
            0.0268,
            0.0176,
            0.0277,
            0.0185,
            0.0295,
            0.0247,
            0.0128,
            0.0106,
            0.011,
            0.0377,
            0.036,
            0.0194,
            0.0143,
            0.021,
            0.0162
           ],
           "showlegend": false,
           "subplot": "polar",
           "theta": [
            "ESTJ-A",
            "ESFJ-A",
            "INFP-T",
            "ESFJ-T",
            "ENFP-T",
            "ENFP-A",
            "ESTJ-T",
            "ISFJ-T",
            "ENFJ-A",
            "ESTP-A",
            "ISTJ-A",
            "INTP-T",
            "INFJ-T",
            "ISFP-T",
            "ENTJ-A",
            "ESTP-T",
            "ISTJ-T",
            "ESFP-T",
            "ENTP-A",
            "ESFP-A",
            "INTJ-T",
            "ISFJ-A",
            "INTP-A",
            "ENTP-T",
            "ISTP-T",
            "ENTJ-T",
            "ISTP-A",
            "INFP-A",
            "ENFJ-T",
            "INTJ-A",
            "ISFP-A",
            "INFJ-A",
            "ESTJ-A"
           ],
           "type": "scatterpolar"
          }
         ],
         "name": "Portugal"
        },
        {
         "data": [
          {
           "hovertemplate": "Country=Qatar<br>value=%{r}<br>variable=%{theta}<extra></extra>",
           "legendgroup": "",
           "line": {
            "color": "#636efa",
            "dash": "solid"
           },
           "marker": {
            "symbol": "circle"
           },
           "mode": "lines",
           "name": "",
           "r": [
            0.0348,
            0.0586,
            0.1108,
            0.0366,
            0.0851,
            0.0479,
            0.0154,
            0.0383,
            0.0348,
            0.0159,
            0.0169,
            0.0351,
            0.0506,
            0.0405,
            0.0214,
            0.0127,
            0.0153,
            0.0322,
            0.0264,
            0.0281,
            0.0168,
            0.025,
            0.0207,
            0.0248,
            0.0121,
            0.0127,
            0.0112,
            0.0276,
            0.0397,
            0.0166,
            0.0185,
            0.017,
            0.0348
           ],
           "showlegend": false,
           "subplot": "polar",
           "theta": [
            "ESTJ-A",
            "ESFJ-A",
            "INFP-T",
            "ESFJ-T",
            "ENFP-T",
            "ENFP-A",
            "ESTJ-T",
            "ISFJ-T",
            "ENFJ-A",
            "ESTP-A",
            "ISTJ-A",
            "INTP-T",
            "INFJ-T",
            "ISFP-T",
            "ENTJ-A",
            "ESTP-T",
            "ISTJ-T",
            "ESFP-T",
            "ENTP-A",
            "ESFP-A",
            "INTJ-T",
            "ISFJ-A",
            "INTP-A",
            "ENTP-T",
            "ISTP-T",
            "ENTJ-T",
            "ISTP-A",
            "INFP-A",
            "ENFJ-T",
            "INTJ-A",
            "ISFP-A",
            "INFJ-A",
            "ESTJ-A"
           ],
           "type": "scatterpolar"
          }
         ],
         "name": "Qatar"
        },
        {
         "data": [
          {
           "hovertemplate": "Country=South Korea<br>value=%{r}<br>variable=%{theta}<extra></extra>",
           "legendgroup": "",
           "line": {
            "color": "#636efa",
            "dash": "solid"
           },
           "marker": {
            "symbol": "circle"
           },
           "mode": "lines",
           "name": "",
           "r": [
            0.0277,
            0.0436,
            0.1061,
            0.0399,
            0.0805,
            0.0455,
            0.0179,
            0.0501999999999999,
            0.0274,
            0.0162,
            0.0207,
            0.0395999999999999,
            0.046,
            0.0465,
            0.0147,
            0.0132,
            0.0220999999999999,
            0.0356999999999999,
            0.0247,
            0.0279,
            0.0209,
            0.0264,
            0.0232,
            0.0256999999999999,
            0.0179,
            0.0126,
            0.0132,
            0.0278,
            0.0335,
            0.0166,
            0.0196,
            0.0165,
            0.0277
           ],
           "showlegend": false,
           "subplot": "polar",
           "theta": [
            "ESTJ-A",
            "ESFJ-A",
            "INFP-T",
            "ESFJ-T",
            "ENFP-T",
            "ENFP-A",
            "ESTJ-T",
            "ISFJ-T",
            "ENFJ-A",
            "ESTP-A",
            "ISTJ-A",
            "INTP-T",
            "INFJ-T",
            "ISFP-T",
            "ENTJ-A",
            "ESTP-T",
            "ISTJ-T",
            "ESFP-T",
            "ENTP-A",
            "ESFP-A",
            "INTJ-T",
            "ISFJ-A",
            "INTP-A",
            "ENTP-T",
            "ISTP-T",
            "ENTJ-T",
            "ISTP-A",
            "INFP-A",
            "ENFJ-T",
            "INTJ-A",
            "ISFP-A",
            "INFJ-A",
            "ESTJ-A"
           ],
           "type": "scatterpolar"
          }
         ],
         "name": "South Korea"
        },
        {
         "data": [
          {
           "hovertemplate": "Country=Moldova<br>value=%{r}<br>variable=%{theta}<extra></extra>",
           "legendgroup": "",
           "line": {
            "color": "#636efa",
            "dash": "solid"
           },
           "marker": {
            "symbol": "circle"
           },
           "mode": "lines",
           "name": "",
           "r": [
            0.0411,
            0.0326,
            0.0928,
            0.0209,
            0.0672,
            0.0391,
            0.0187,
            0.0279999999999999,
            0.0366,
            0.0217,
            0.0266,
            0.0652,
            0.0552,
            0.0195,
            0.036,
            0.0139,
            0.0209,
            0.0159,
            0.0362,
            0.0137,
            0.0368,
            0.0144999999999999,
            0.0283999999999999,
            0.0421,
            0.0169,
            0.0282,
            0.0163,
            0.0200999999999999,
            0.0383,
            0.0314,
            0.0098999999999999,
            0.0155,
            0.0411
           ],
           "showlegend": false,
           "subplot": "polar",
           "theta": [
            "ESTJ-A",
            "ESFJ-A",
            "INFP-T",
            "ESFJ-T",
            "ENFP-T",
            "ENFP-A",
            "ESTJ-T",
            "ISFJ-T",
            "ENFJ-A",
            "ESTP-A",
            "ISTJ-A",
            "INTP-T",
            "INFJ-T",
            "ISFP-T",
            "ENTJ-A",
            "ESTP-T",
            "ISTJ-T",
            "ESFP-T",
            "ENTP-A",
            "ESFP-A",
            "INTJ-T",
            "ISFJ-A",
            "INTP-A",
            "ENTP-T",
            "ISTP-T",
            "ENTJ-T",
            "ISTP-A",
            "INFP-A",
            "ENFJ-T",
            "INTJ-A",
            "ISFP-A",
            "INFJ-A",
            "ESTJ-A"
           ],
           "type": "scatterpolar"
          }
         ],
         "name": "Moldova"
        },
        {
         "data": [
          {
           "hovertemplate": "Country=Romania<br>value=%{r}<br>variable=%{theta}<extra></extra>",
           "legendgroup": "",
           "line": {
            "color": "#636efa",
            "dash": "solid"
           },
           "marker": {
            "symbol": "circle"
           },
           "mode": "lines",
           "name": "",
           "r": [
            0.0409,
            0.0336,
            0.1115,
            0.02,
            0.0788,
            0.0457,
            0.0167,
            0.0254,
            0.032,
            0.0197,
            0.0202,
            0.0647,
            0.0557,
            0.0212,
            0.031,
            0.0116,
            0.0199,
            0.016,
            0.0437,
            0.0156,
            0.0366,
            0.0134,
            0.03,
            0.0441999999999999,
            0.0139999999999999,
            0.0219,
            0.0112,
            0.0215,
            0.0348,
            0.0246,
            0.0093,
            0.0148,
            0.0409
           ],
           "showlegend": false,
           "subplot": "polar",
           "theta": [
            "ESTJ-A",
            "ESFJ-A",
            "INFP-T",
            "ESFJ-T",
            "ENFP-T",
            "ENFP-A",
            "ESTJ-T",
            "ISFJ-T",
            "ENFJ-A",
            "ESTP-A",
            "ISTJ-A",
            "INTP-T",
            "INFJ-T",
            "ISFP-T",
            "ENTJ-A",
            "ESTP-T",
            "ISTJ-T",
            "ESFP-T",
            "ENTP-A",
            "ESFP-A",
            "INTJ-T",
            "ISFJ-A",
            "INTP-A",
            "ENTP-T",
            "ISTP-T",
            "ENTJ-T",
            "ISTP-A",
            "INFP-A",
            "ENFJ-T",
            "INTJ-A",
            "ISFP-A",
            "INFJ-A",
            "ESTJ-A"
           ],
           "type": "scatterpolar"
          }
         ],
         "name": "Romania"
        },
        {
         "data": [
          {
           "hovertemplate": "Country=Russia<br>value=%{r}<br>variable=%{theta}<extra></extra>",
           "legendgroup": "",
           "line": {
            "color": "#636efa",
            "dash": "solid"
           },
           "marker": {
            "symbol": "circle"
           },
           "mode": "lines",
           "name": "",
           "r": [
            0.0392,
            0.0260999999999999,
            0.1127,
            0.0196,
            0.0621,
            0.0305,
            0.0178,
            0.0308,
            0.0208,
            0.0216,
            0.0299,
            0.0839,
            0.046,
            0.0272,
            0.026,
            0.0136,
            0.0277,
            0.0175,
            0.0359,
            0.0146,
            0.0395999999999999,
            0.0162,
            0.0412999999999999,
            0.0385999999999999,
            0.0226,
            0.0187,
            0.0196,
            0.0218,
            0.0268,
            0.027,
            0.0121999999999999,
            0.0121999999999999,
            0.0392
           ],
           "showlegend": false,
           "subplot": "polar",
           "theta": [
            "ESTJ-A",
            "ESFJ-A",
            "INFP-T",
            "ESFJ-T",
            "ENFP-T",
            "ENFP-A",
            "ESTJ-T",
            "ISFJ-T",
            "ENFJ-A",
            "ESTP-A",
            "ISTJ-A",
            "INTP-T",
            "INFJ-T",
            "ISFP-T",
            "ENTJ-A",
            "ESTP-T",
            "ISTJ-T",
            "ESFP-T",
            "ENTP-A",
            "ESFP-A",
            "INTJ-T",
            "ISFJ-A",
            "INTP-A",
            "ENTP-T",
            "ISTP-T",
            "ENTJ-T",
            "ISTP-A",
            "INFP-A",
            "ENFJ-T",
            "INTJ-A",
            "ISFP-A",
            "INFJ-A",
            "ESTJ-A"
           ],
           "type": "scatterpolar"
          }
         ],
         "name": "Russia"
        },
        {
         "data": [
          {
           "hovertemplate": "Country=Rwanda<br>value=%{r}<br>variable=%{theta}<extra></extra>",
           "legendgroup": "",
           "line": {
            "color": "#636efa",
            "dash": "solid"
           },
           "marker": {
            "symbol": "circle"
           },
           "mode": "lines",
           "name": "",
           "r": [
            0.046,
            0.1005,
            0.0601,
            0.0612,
            0.0559,
            0.0443,
            0.0336,
            0.0412,
            0.0429,
            0.0133,
            0.0158,
            0.0277,
            0.046,
            0.0262,
            0.0277,
            0.0127,
            0.0195,
            0.0322,
            0.0233999999999999,
            0.0361,
            0.0183,
            0.0333,
            0.0124,
            0.0226,
            0.0104,
            0.0197999999999999,
            0.0062,
            0.0265,
            0.0324,
            0.0138,
            0.0175,
            0.0206,
            0.046
           ],
           "showlegend": false,
           "subplot": "polar",
           "theta": [
            "ESTJ-A",
            "ESFJ-A",
            "INFP-T",
            "ESFJ-T",
            "ENFP-T",
            "ENFP-A",
            "ESTJ-T",
            "ISFJ-T",
            "ENFJ-A",
            "ESTP-A",
            "ISTJ-A",
            "INTP-T",
            "INFJ-T",
            "ISFP-T",
            "ENTJ-A",
            "ESTP-T",
            "ISTJ-T",
            "ESFP-T",
            "ENTP-A",
            "ESFP-A",
            "INTJ-T",
            "ISFJ-A",
            "INTP-A",
            "ENTP-T",
            "ISTP-T",
            "ENTJ-T",
            "ISTP-A",
            "INFP-A",
            "ENFJ-T",
            "INTJ-A",
            "ISFP-A",
            "INFJ-A",
            "ESTJ-A"
           ],
           "type": "scatterpolar"
          }
         ],
         "name": "Rwanda"
        },
        {
         "data": [
          {
           "hovertemplate": "Country=Saint Kitts and Nevis<br>value=%{r}<br>variable=%{theta}<extra></extra>",
           "legendgroup": "",
           "line": {
            "color": "#636efa",
            "dash": "solid"
           },
           "marker": {
            "symbol": "circle"
           },
           "mode": "lines",
           "name": "",
           "r": [
            0.0259,
            0.0506,
            0.1192,
            0.0349,
            0.0652,
            0.0484,
            0.0079,
            0.0495,
            0.0416,
            0.0135,
            0.0304,
            0.0191,
            0.063,
            0.0326,
            0.018,
            0.0067,
            0.0157,
            0.0225,
            0.0112,
            0.0225,
            0.0304,
            0.0438999999999999,
            0.0236,
            0.0157,
            0.0112,
            0.0169,
            0.0157,
            0.0349,
            0.0304,
            0.0236,
            0.0191,
            0.036,
            0.0259
           ],
           "showlegend": false,
           "subplot": "polar",
           "theta": [
            "ESTJ-A",
            "ESFJ-A",
            "INFP-T",
            "ESFJ-T",
            "ENFP-T",
            "ENFP-A",
            "ESTJ-T",
            "ISFJ-T",
            "ENFJ-A",
            "ESTP-A",
            "ISTJ-A",
            "INTP-T",
            "INFJ-T",
            "ISFP-T",
            "ENTJ-A",
            "ESTP-T",
            "ISTJ-T",
            "ESFP-T",
            "ENTP-A",
            "ESFP-A",
            "INTJ-T",
            "ISFJ-A",
            "INTP-A",
            "ENTP-T",
            "ISTP-T",
            "ENTJ-T",
            "ISTP-A",
            "INFP-A",
            "ENFJ-T",
            "INTJ-A",
            "ISFP-A",
            "INFJ-A",
            "ESTJ-A"
           ],
           "type": "scatterpolar"
          }
         ],
         "name": "Saint Kitts and Nevis"
        },
        {
         "data": [
          {
           "hovertemplate": "Country=Saint Lucia<br>value=%{r}<br>variable=%{theta}<extra></extra>",
           "legendgroup": "",
           "line": {
            "color": "#636efa",
            "dash": "solid"
           },
           "marker": {
            "symbol": "circle"
           },
           "mode": "lines",
           "name": "",
           "r": [
            0.0269,
            0.0616,
            0.1045,
            0.0225,
            0.0525,
            0.0377,
            0.0113,
            0.0416,
            0.036,
            0.0126,
            0.0269,
            0.0476999999999999,
            0.0607,
            0.0321,
            0.0182,
            0.0126,
            0.0165,
            0.023,
            0.0191,
            0.0312,
            0.0212,
            0.0499,
            0.0325,
            0.0217,
            0.0113,
            0.0113,
            0.0108,
            0.0408,
            0.0286,
            0.0239,
            0.0247,
            0.0282,
            0.0269
           ],
           "showlegend": false,
           "subplot": "polar",
           "theta": [
            "ESTJ-A",
            "ESFJ-A",
            "INFP-T",
            "ESFJ-T",
            "ENFP-T",
            "ENFP-A",
            "ESTJ-T",
            "ISFJ-T",
            "ENFJ-A",
            "ESTP-A",
            "ISTJ-A",
            "INTP-T",
            "INFJ-T",
            "ISFP-T",
            "ENTJ-A",
            "ESTP-T",
            "ISTJ-T",
            "ESFP-T",
            "ENTP-A",
            "ESFP-A",
            "INTJ-T",
            "ISFJ-A",
            "INTP-A",
            "ENTP-T",
            "ISTP-T",
            "ENTJ-T",
            "ISTP-A",
            "INFP-A",
            "ENFJ-T",
            "INTJ-A",
            "ISFP-A",
            "INFJ-A",
            "ESTJ-A"
           ],
           "type": "scatterpolar"
          }
         ],
         "name": "Saint Lucia"
        },
        {
         "data": [
          {
           "hovertemplate": "Country=Saint Vincent and the Grenadines<br>value=%{r}<br>variable=%{theta}<extra></extra>",
           "legendgroup": "",
           "line": {
            "color": "#636efa",
            "dash": "solid"
           },
           "marker": {
            "symbol": "circle"
           },
           "mode": "lines",
           "name": "",
           "r": [
            0.0247,
            0.0435,
            0.1344999999999999,
            0.0247,
            0.0593,
            0.0406,
            0.0109,
            0.0385999999999999,
            0.0326,
            0.0118999999999999,
            0.0237,
            0.0445,
            0.0673,
            0.0306999999999999,
            0.0129,
            0.0059,
            0.0118999999999999,
            0.0178,
            0.0385999999999999,
            0.0306999999999999,
            0.0208,
            0.0277,
            0.0326,
            0.0208,
            0.0158,
            0.0138,
            0.0178,
            0.0326,
            0.0395999999999999,
            0.0218,
            0.0208,
            0.0306999999999999,
            0.0247
           ],
           "showlegend": false,
           "subplot": "polar",
           "theta": [
            "ESTJ-A",
            "ESFJ-A",
            "INFP-T",
            "ESFJ-T",
            "ENFP-T",
            "ENFP-A",
            "ESTJ-T",
            "ISFJ-T",
            "ENFJ-A",
            "ESTP-A",
            "ISTJ-A",
            "INTP-T",
            "INFJ-T",
            "ISFP-T",
            "ENTJ-A",
            "ESTP-T",
            "ISTJ-T",
            "ESFP-T",
            "ENTP-A",
            "ESFP-A",
            "INTJ-T",
            "ISFJ-A",
            "INTP-A",
            "ENTP-T",
            "ISTP-T",
            "ENTJ-T",
            "ISTP-A",
            "INFP-A",
            "ENFJ-T",
            "INTJ-A",
            "ISFP-A",
            "INFJ-A",
            "ESTJ-A"
           ],
           "type": "scatterpolar"
          }
         ],
         "name": "Saint Vincent and the Grenadines"
        },
        {
         "data": [
          {
           "hovertemplate": "Country=Saudi Arabia<br>value=%{r}<br>variable=%{theta}<extra></extra>",
           "legendgroup": "",
           "line": {
            "color": "#636efa",
            "dash": "solid"
           },
           "marker": {
            "symbol": "circle"
           },
           "mode": "lines",
           "name": "",
           "r": [
            0.0375,
            0.0469,
            0.1015,
            0.0339,
            0.072,
            0.0412999999999999,
            0.019,
            0.0341,
            0.0322,
            0.0185,
            0.019,
            0.0444,
            0.0533,
            0.0361,
            0.0266999999999999,
            0.0137,
            0.0182,
            0.0288,
            0.0298,
            0.0231,
            0.0277,
            0.0202,
            0.0272,
            0.027,
            0.0153,
            0.0187999999999999,
            0.013,
            0.0235,
            0.0397,
            0.0233999999999999,
            0.0161,
            0.0179,
            0.0375
           ],
           "showlegend": false,
           "subplot": "polar",
           "theta": [
            "ESTJ-A",
            "ESFJ-A",
            "INFP-T",
            "ESFJ-T",
            "ENFP-T",
            "ENFP-A",
            "ESTJ-T",
            "ISFJ-T",
            "ENFJ-A",
            "ESTP-A",
            "ISTJ-A",
            "INTP-T",
            "INFJ-T",
            "ISFP-T",
            "ENTJ-A",
            "ESTP-T",
            "ISTJ-T",
            "ESFP-T",
            "ENTP-A",
            "ESFP-A",
            "INTJ-T",
            "ISFJ-A",
            "INTP-A",
            "ENTP-T",
            "ISTP-T",
            "ENTJ-T",
            "ISTP-A",
            "INFP-A",
            "ENFJ-T",
            "INTJ-A",
            "ISFP-A",
            "INFJ-A",
            "ESTJ-A"
           ],
           "type": "scatterpolar"
          }
         ],
         "name": "Saudi Arabia"
        },
        {
         "data": [
          {
           "hovertemplate": "Country=Senegal<br>value=%{r}<br>variable=%{theta}<extra></extra>",
           "legendgroup": "",
           "line": {
            "color": "#636efa",
            "dash": "solid"
           },
           "marker": {
            "symbol": "circle"
           },
           "mode": "lines",
           "name": "",
           "r": [
            0.0412,
            0.0733999999999999,
            0.079,
            0.0252,
            0.0769,
            0.0762,
            0.0147,
            0.0419,
            0.0349,
            0.0168,
            0.0231,
            0.0503,
            0.0496,
            0.0231,
            0.0175,
            0.0069999999999999,
            0.0091,
            0.0266,
            0.0259,
            0.0279999999999999,
            0.0126,
            0.0314,
            0.0273,
            0.0335,
            0.0077,
            0.0056,
            0.0091,
            0.0327999999999999,
            0.0398,
            0.0168,
            0.0189,
            0.0245,
            0.0412
           ],
           "showlegend": false,
           "subplot": "polar",
           "theta": [
            "ESTJ-A",
            "ESFJ-A",
            "INFP-T",
            "ESFJ-T",
            "ENFP-T",
            "ENFP-A",
            "ESTJ-T",
            "ISFJ-T",
            "ENFJ-A",
            "ESTP-A",
            "ISTJ-A",
            "INTP-T",
            "INFJ-T",
            "ISFP-T",
            "ENTJ-A",
            "ESTP-T",
            "ISTJ-T",
            "ESFP-T",
            "ENTP-A",
            "ESFP-A",
            "INTJ-T",
            "ISFJ-A",
            "INTP-A",
            "ENTP-T",
            "ISTP-T",
            "ENTJ-T",
            "ISTP-A",
            "INFP-A",
            "ENFJ-T",
            "INTJ-A",
            "ISFP-A",
            "INFJ-A",
            "ESTJ-A"
           ],
           "type": "scatterpolar"
          }
         ],
         "name": "Senegal"
        },
        {
         "data": [
          {
           "hovertemplate": "Country=Serbia<br>value=%{r}<br>variable=%{theta}<extra></extra>",
           "legendgroup": "",
           "line": {
            "color": "#636efa",
            "dash": "solid"
           },
           "marker": {
            "symbol": "circle"
           },
           "mode": "lines",
           "name": "",
           "r": [
            0.0434,
            0.0343,
            0.1036,
            0.0168,
            0.0675,
            0.0501,
            0.0146,
            0.021,
            0.035,
            0.0220999999999999,
            0.0209,
            0.0633,
            0.0489,
            0.0178,
            0.0372,
            0.0102,
            0.0144,
            0.0126,
            0.0562,
            0.0157,
            0.0343,
            0.0133,
            0.042,
            0.0415,
            0.0107,
            0.0212,
            0.0123,
            0.026,
            0.032,
            0.0344,
            0.0093,
            0.0171,
            0.0434
           ],
           "showlegend": false,
           "subplot": "polar",
           "theta": [
            "ESTJ-A",
            "ESFJ-A",
            "INFP-T",
            "ESFJ-T",
            "ENFP-T",
            "ENFP-A",
            "ESTJ-T",
            "ISFJ-T",
            "ENFJ-A",
            "ESTP-A",
            "ISTJ-A",
            "INTP-T",
            "INFJ-T",
            "ISFP-T",
            "ENTJ-A",
            "ESTP-T",
            "ISTJ-T",
            "ESFP-T",
            "ENTP-A",
            "ESFP-A",
            "INTJ-T",
            "ISFJ-A",
            "INTP-A",
            "ENTP-T",
            "ISTP-T",
            "ENTJ-T",
            "ISTP-A",
            "INFP-A",
            "ENFJ-T",
            "INTJ-A",
            "ISFP-A",
            "INFJ-A",
            "ESTJ-A"
           ],
           "type": "scatterpolar"
          }
         ],
         "name": "Serbia"
        },
        {
         "data": [
          {
           "hovertemplate": "Country=Seychelles<br>value=%{r}<br>variable=%{theta}<extra></extra>",
           "legendgroup": "",
           "line": {
            "color": "#636efa",
            "dash": "solid"
           },
           "marker": {
            "symbol": "circle"
           },
           "mode": "lines",
           "name": "",
           "r": [
            0.0407,
            0.0542999999999999,
            0.1131,
            0.0249,
            0.0973,
            0.0542999999999999,
            0.0192,
            0.0339,
            0.0407,
            0.0147,
            0.0181,
            0.0385,
            0.0498,
            0.0351,
            0.0283,
            0.0079,
            0.0158,
            0.0226,
            0.0271,
            0.0271,
            0.026,
            0.026,
            0.0204,
            0.0362,
            0.0158,
            0.0068,
            0.0124,
            0.0226,
            0.0305,
            0.017,
            0.009,
            0.0136,
            0.0407
           ],
           "showlegend": false,
           "subplot": "polar",
           "theta": [
            "ESTJ-A",
            "ESFJ-A",
            "INFP-T",
            "ESFJ-T",
            "ENFP-T",
            "ENFP-A",
            "ESTJ-T",
            "ISFJ-T",
            "ENFJ-A",
            "ESTP-A",
            "ISTJ-A",
            "INTP-T",
            "INFJ-T",
            "ISFP-T",
            "ENTJ-A",
            "ESTP-T",
            "ISTJ-T",
            "ESFP-T",
            "ENTP-A",
            "ESFP-A",
            "INTJ-T",
            "ISFJ-A",
            "INTP-A",
            "ENTP-T",
            "ISTP-T",
            "ENTJ-T",
            "ISTP-A",
            "INFP-A",
            "ENFJ-T",
            "INTJ-A",
            "ISFP-A",
            "INFJ-A",
            "ESTJ-A"
           ],
           "type": "scatterpolar"
          }
         ],
         "name": "Seychelles"
        },
        {
         "data": [
          {
           "hovertemplate": "Country=Singapore<br>value=%{r}<br>variable=%{theta}<extra></extra>",
           "legendgroup": "",
           "line": {
            "color": "#636efa",
            "dash": "solid"
           },
           "marker": {
            "symbol": "circle"
           },
           "mode": "lines",
           "name": "",
           "r": [
            0.0187999999999999,
            0.0537,
            0.1255,
            0.0407,
            0.084,
            0.042,
            0.0093,
            0.0756,
            0.0195,
            0.0123,
            0.0166,
            0.0247,
            0.0506,
            0.0742999999999999,
            0.0073,
            0.0093,
            0.0155,
            0.0481,
            0.0134,
            0.0387,
            0.0111,
            0.0399,
            0.0147,
            0.0144999999999999,
            0.0137,
            0.0053,
            0.0106,
            0.0301,
            0.0256999999999999,
            0.0098,
            0.0298,
            0.0148,
            0.0187999999999999
           ],
           "showlegend": false,
           "subplot": "polar",
           "theta": [
            "ESTJ-A",
            "ESFJ-A",
            "INFP-T",
            "ESFJ-T",
            "ENFP-T",
            "ENFP-A",
            "ESTJ-T",
            "ISFJ-T",
            "ENFJ-A",
            "ESTP-A",
            "ISTJ-A",
            "INTP-T",
            "INFJ-T",
            "ISFP-T",
            "ENTJ-A",
            "ESTP-T",
            "ISTJ-T",
            "ESFP-T",
            "ENTP-A",
            "ESFP-A",
            "INTJ-T",
            "ISFJ-A",
            "INTP-A",
            "ENTP-T",
            "ISTP-T",
            "ENTJ-T",
            "ISTP-A",
            "INFP-A",
            "ENFJ-T",
            "INTJ-A",
            "ISFP-A",
            "INFJ-A",
            "ESTJ-A"
           ],
           "type": "scatterpolar"
          }
         ],
         "name": "Singapore"
        },
        {
         "data": [
          {
           "hovertemplate": "Country=Slovakia<br>value=%{r}<br>variable=%{theta}<extra></extra>",
           "legendgroup": "",
           "line": {
            "color": "#636efa",
            "dash": "solid"
           },
           "marker": {
            "symbol": "circle"
           },
           "mode": "lines",
           "name": "",
           "r": [
            0.0292,
            0.0351,
            0.1299,
            0.0212,
            0.0698,
            0.0426999999999999,
            0.0118,
            0.0312,
            0.0262,
            0.0186,
            0.0220999999999999,
            0.0632,
            0.0694,
            0.0263,
            0.0213,
            0.0089,
            0.0169,
            0.0166,
            0.0351,
            0.0202,
            0.0388,
            0.0182,
            0.036,
            0.0285,
            0.0125,
            0.0131,
            0.0126,
            0.0333,
            0.0305,
            0.0296,
            0.0138,
            0.0173,
            0.0292
           ],
           "showlegend": false,
           "subplot": "polar",
           "theta": [
            "ESTJ-A",
            "ESFJ-A",
            "INFP-T",
            "ESFJ-T",
            "ENFP-T",
            "ENFP-A",
            "ESTJ-T",
            "ISFJ-T",
            "ENFJ-A",
            "ESTP-A",
            "ISTJ-A",
            "INTP-T",
            "INFJ-T",
            "ISFP-T",
            "ENTJ-A",
            "ESTP-T",
            "ISTJ-T",
            "ESFP-T",
            "ENTP-A",
            "ESFP-A",
            "INTJ-T",
            "ISFJ-A",
            "INTP-A",
            "ENTP-T",
            "ISTP-T",
            "ENTJ-T",
            "ISTP-A",
            "INFP-A",
            "ENFJ-T",
            "INTJ-A",
            "ISFP-A",
            "INFJ-A",
            "ESTJ-A"
           ],
           "type": "scatterpolar"
          }
         ],
         "name": "Slovakia"
        },
        {
         "data": [
          {
           "hovertemplate": "Country=Slovenia<br>value=%{r}<br>variable=%{theta}<extra></extra>",
           "legendgroup": "",
           "line": {
            "color": "#636efa",
            "dash": "solid"
           },
           "marker": {
            "symbol": "circle"
           },
           "mode": "lines",
           "name": "",
           "r": [
            0.0314,
            0.0365,
            0.1323,
            0.0256999999999999,
            0.0789,
            0.0515,
            0.0121,
            0.0324,
            0.0283,
            0.019,
            0.0178,
            0.0541,
            0.0689,
            0.0258,
            0.0218,
            0.0074,
            0.0166,
            0.0191,
            0.0366,
            0.0219,
            0.0308999999999999,
            0.0163999999999999,
            0.0296,
            0.0294,
            0.0118999999999999,
            0.0144999999999999,
            0.0116999999999999,
            0.0291,
            0.0354,
            0.0220999999999999,
            0.0136,
            0.0173,
            0.0314
           ],
           "showlegend": false,
           "subplot": "polar",
           "theta": [
            "ESTJ-A",
            "ESFJ-A",
            "INFP-T",
            "ESFJ-T",
            "ENFP-T",
            "ENFP-A",
            "ESTJ-T",
            "ISFJ-T",
            "ENFJ-A",
            "ESTP-A",
            "ISTJ-A",
            "INTP-T",
            "INFJ-T",
            "ISFP-T",
            "ENTJ-A",
            "ESTP-T",
            "ISTJ-T",
            "ESFP-T",
            "ENTP-A",
            "ESFP-A",
            "INTJ-T",
            "ISFJ-A",
            "INTP-A",
            "ENTP-T",
            "ISTP-T",
            "ENTJ-T",
            "ISTP-A",
            "INFP-A",
            "ENFJ-T",
            "INTJ-A",
            "ISFP-A",
            "INFJ-A",
            "ESTJ-A"
           ],
           "type": "scatterpolar"
          }
         ],
         "name": "Slovenia"
        },
        {
         "data": [
          {
           "hovertemplate": "Country=Somalia<br>value=%{r}<br>variable=%{theta}<extra></extra>",
           "legendgroup": "",
           "line": {
            "color": "#636efa",
            "dash": "solid"
           },
           "marker": {
            "symbol": "circle"
           },
           "mode": "lines",
           "name": "",
           "r": [
            0.0425,
            0.0843,
            0.0562,
            0.0503,
            0.0444,
            0.0353,
            0.0306999999999999,
            0.0359,
            0.0301,
            0.0163,
            0.0216,
            0.0294,
            0.0425,
            0.0431,
            0.0235,
            0.0137,
            0.0392,
            0.0405,
            0.0144,
            0.0288,
            0.019,
            0.0444,
            0.0260999999999999,
            0.0222,
            0.0229,
            0.015,
            0.0216,
            0.0229,
            0.0222,
            0.0216,
            0.0222,
            0.017,
            0.0425
           ],
           "showlegend": false,
           "subplot": "polar",
           "theta": [
            "ESTJ-A",
            "ESFJ-A",
            "INFP-T",
            "ESFJ-T",
            "ENFP-T",
            "ENFP-A",
            "ESTJ-T",
            "ISFJ-T",
            "ENFJ-A",
            "ESTP-A",
            "ISTJ-A",
            "INTP-T",
            "INFJ-T",
            "ISFP-T",
            "ENTJ-A",
            "ESTP-T",
            "ISTJ-T",
            "ESFP-T",
            "ENTP-A",
            "ESFP-A",
            "INTJ-T",
            "ISFJ-A",
            "INTP-A",
            "ENTP-T",
            "ISTP-T",
            "ENTJ-T",
            "ISTP-A",
            "INFP-A",
            "ENFJ-T",
            "INTJ-A",
            "ISFP-A",
            "INFJ-A",
            "ESTJ-A"
           ],
           "type": "scatterpolar"
          }
         ],
         "name": "Somalia"
        },
        {
         "data": [
          {
           "hovertemplate": "Country=South Africa<br>value=%{r}<br>variable=%{theta}<extra></extra>",
           "legendgroup": "",
           "line": {
            "color": "#636efa",
            "dash": "solid"
           },
           "marker": {
            "symbol": "circle"
           },
           "mode": "lines",
           "name": "",
           "r": [
            0.0379,
            0.0683,
            0.0931,
            0.0336,
            0.0779,
            0.0515,
            0.0131,
            0.0484999999999999,
            0.0464,
            0.0143,
            0.0212,
            0.0321,
            0.0561,
            0.0289,
            0.0227999999999999,
            0.0089,
            0.0169,
            0.0225,
            0.0275,
            0.0239,
            0.0195,
            0.0346,
            0.0209,
            0.0243,
            0.0098999999999999,
            0.0135,
            0.0086,
            0.0281,
            0.0407,
            0.0177,
            0.0148,
            0.0220999999999999,
            0.0379
           ],
           "showlegend": false,
           "subplot": "polar",
           "theta": [
            "ESTJ-A",
            "ESFJ-A",
            "INFP-T",
            "ESFJ-T",
            "ENFP-T",
            "ENFP-A",
            "ESTJ-T",
            "ISFJ-T",
            "ENFJ-A",
            "ESTP-A",
            "ISTJ-A",
            "INTP-T",
            "INFJ-T",
            "ISFP-T",
            "ENTJ-A",
            "ESTP-T",
            "ISTJ-T",
            "ESFP-T",
            "ENTP-A",
            "ESFP-A",
            "INTJ-T",
            "ISFJ-A",
            "INTP-A",
            "ENTP-T",
            "ISTP-T",
            "ENTJ-T",
            "ISTP-A",
            "INFP-A",
            "ENFJ-T",
            "INTJ-A",
            "ISFP-A",
            "INFJ-A",
            "ESTJ-A"
           ],
           "type": "scatterpolar"
          }
         ],
         "name": "South Africa"
        },
        {
         "data": [
          {
           "hovertemplate": "Country=Spain<br>value=%{r}<br>variable=%{theta}<extra></extra>",
           "legendgroup": "",
           "line": {
            "color": "#636efa",
            "dash": "solid"
           },
           "marker": {
            "symbol": "circle"
           },
           "mode": "lines",
           "name": "",
           "r": [
            0.0214,
            0.0416,
            0.1322,
            0.0258,
            0.0958,
            0.0689,
            0.0087,
            0.0314,
            0.0405,
            0.0133,
            0.015,
            0.0461,
            0.0621,
            0.0252,
            0.0187,
            0.0065,
            0.0118999999999999,
            0.0197,
            0.0334,
            0.0231,
            0.0227,
            0.0189,
            0.0305,
            0.0269,
            0.0088,
            0.0115,
            0.0098,
            0.0351,
            0.0409999999999999,
            0.0194,
            0.0138,
            0.0204,
            0.0214
           ],
           "showlegend": false,
           "subplot": "polar",
           "theta": [
            "ESTJ-A",
            "ESFJ-A",
            "INFP-T",
            "ESFJ-T",
            "ENFP-T",
            "ENFP-A",
            "ESTJ-T",
            "ISFJ-T",
            "ENFJ-A",
            "ESTP-A",
            "ISTJ-A",
            "INTP-T",
            "INFJ-T",
            "ISFP-T",
            "ENTJ-A",
            "ESTP-T",
            "ISTJ-T",
            "ESFP-T",
            "ENTP-A",
            "ESFP-A",
            "INTJ-T",
            "ISFJ-A",
            "INTP-A",
            "ENTP-T",
            "ISTP-T",
            "ENTJ-T",
            "ISTP-A",
            "INFP-A",
            "ENFJ-T",
            "INTJ-A",
            "ISFP-A",
            "INFJ-A",
            "ESTJ-A"
           ],
           "type": "scatterpolar"
          }
         ],
         "name": "Spain"
        },
        {
         "data": [
          {
           "hovertemplate": "Country=Sri Lanka<br>value=%{r}<br>variable=%{theta}<extra></extra>",
           "legendgroup": "",
           "line": {
            "color": "#636efa",
            "dash": "solid"
           },
           "marker": {
            "symbol": "circle"
           },
           "mode": "lines",
           "name": "",
           "r": [
            0.0335,
            0.0582,
            0.1072,
            0.045,
            0.0969,
            0.0465,
            0.0197,
            0.033,
            0.0352,
            0.0147,
            0.0124,
            0.0346,
            0.0545,
            0.0322,
            0.018,
            0.013,
            0.013,
            0.0333,
            0.0222,
            0.0275,
            0.0204,
            0.0187999999999999,
            0.0206,
            0.0260999999999999,
            0.011,
            0.0167,
            0.0089,
            0.0266,
            0.0536,
            0.0144,
            0.0153,
            0.017,
            0.0335
           ],
           "showlegend": false,
           "subplot": "polar",
           "theta": [
            "ESTJ-A",
            "ESFJ-A",
            "INFP-T",
            "ESFJ-T",
            "ENFP-T",
            "ENFP-A",
            "ESTJ-T",
            "ISFJ-T",
            "ENFJ-A",
            "ESTP-A",
            "ISTJ-A",
            "INTP-T",
            "INFJ-T",
            "ISFP-T",
            "ENTJ-A",
            "ESTP-T",
            "ISTJ-T",
            "ESFP-T",
            "ENTP-A",
            "ESFP-A",
            "INTJ-T",
            "ISFJ-A",
            "INTP-A",
            "ENTP-T",
            "ISTP-T",
            "ENTJ-T",
            "ISTP-A",
            "INFP-A",
            "ENFJ-T",
            "INTJ-A",
            "ISFP-A",
            "INFJ-A",
            "ESTJ-A"
           ],
           "type": "scatterpolar"
          }
         ],
         "name": "Sri Lanka"
        },
        {
         "data": [
          {
           "hovertemplate": "Country=Sudan<br>value=%{r}<br>variable=%{theta}<extra></extra>",
           "legendgroup": "",
           "line": {
            "color": "#636efa",
            "dash": "solid"
           },
           "marker": {
            "symbol": "circle"
           },
           "mode": "lines",
           "name": "",
           "r": [
            0.0391,
            0.039,
            0.0868999999999999,
            0.0301,
            0.0717,
            0.0389,
            0.0189,
            0.0299,
            0.0341,
            0.0178,
            0.0229,
            0.0507,
            0.0521,
            0.0344,
            0.0325,
            0.0154,
            0.017,
            0.0302,
            0.0279999999999999,
            0.022,
            0.0297,
            0.0183,
            0.0302999999999999,
            0.0321,
            0.0182,
            0.0202,
            0.0138,
            0.0233999999999999,
            0.0378,
            0.0318,
            0.0141999999999999,
            0.0186,
            0.0391
           ],
           "showlegend": false,
           "subplot": "polar",
           "theta": [
            "ESTJ-A",
            "ESFJ-A",
            "INFP-T",
            "ESFJ-T",
            "ENFP-T",
            "ENFP-A",
            "ESTJ-T",
            "ISFJ-T",
            "ENFJ-A",
            "ESTP-A",
            "ISTJ-A",
            "INTP-T",
            "INFJ-T",
            "ISFP-T",
            "ENTJ-A",
            "ESTP-T",
            "ISTJ-T",
            "ESFP-T",
            "ENTP-A",
            "ESFP-A",
            "INTJ-T",
            "ISFJ-A",
            "INTP-A",
            "ENTP-T",
            "ISTP-T",
            "ENTJ-T",
            "ISTP-A",
            "INFP-A",
            "ENFJ-T",
            "INTJ-A",
            "ISFP-A",
            "INFJ-A",
            "ESTJ-A"
           ],
           "type": "scatterpolar"
          }
         ],
         "name": "Sudan"
        },
        {
         "data": [
          {
           "hovertemplate": "Country=Suriname<br>value=%{r}<br>variable=%{theta}<extra></extra>",
           "legendgroup": "",
           "line": {
            "color": "#636efa",
            "dash": "solid"
           },
           "marker": {
            "symbol": "circle"
           },
           "mode": "lines",
           "name": "",
           "r": [
            0.0302,
            0.0617999999999999,
            0.1288,
            0.0263,
            0.0647,
            0.0550999999999999,
            0.0115,
            0.0354,
            0.0426,
            0.0163,
            0.0216,
            0.0465,
            0.0579999999999999,
            0.0378,
            0.0182,
            0.0072,
            0.0115,
            0.0192,
            0.0259,
            0.023,
            0.0148,
            0.0273,
            0.0192,
            0.0168,
            0.0105,
            0.0125,
            0.0105,
            0.0508,
            0.033,
            0.0158,
            0.0196,
            0.0278,
            0.0302
           ],
           "showlegend": false,
           "subplot": "polar",
           "theta": [
            "ESTJ-A",
            "ESFJ-A",
            "INFP-T",
            "ESFJ-T",
            "ENFP-T",
            "ENFP-A",
            "ESTJ-T",
            "ISFJ-T",
            "ENFJ-A",
            "ESTP-A",
            "ISTJ-A",
            "INTP-T",
            "INFJ-T",
            "ISFP-T",
            "ENTJ-A",
            "ESTP-T",
            "ISTJ-T",
            "ESFP-T",
            "ENTP-A",
            "ESFP-A",
            "INTJ-T",
            "ISFJ-A",
            "INTP-A",
            "ENTP-T",
            "ISTP-T",
            "ENTJ-T",
            "ISTP-A",
            "INFP-A",
            "ENFJ-T",
            "INTJ-A",
            "ISFP-A",
            "INFJ-A",
            "ESTJ-A"
           ],
           "type": "scatterpolar"
          }
         ],
         "name": "Suriname"
        },
        {
         "data": [
          {
           "hovertemplate": "Country=Sweden<br>value=%{r}<br>variable=%{theta}<extra></extra>",
           "legendgroup": "",
           "line": {
            "color": "#636efa",
            "dash": "solid"
           },
           "marker": {
            "symbol": "circle"
           },
           "mode": "lines",
           "name": "",
           "r": [
            0.0319,
            0.0465,
            0.1146,
            0.0292,
            0.081,
            0.0573,
            0.01,
            0.0371,
            0.0302,
            0.0204999999999999,
            0.0218,
            0.0409999999999999,
            0.0564,
            0.0319,
            0.02,
            0.0079,
            0.015,
            0.0225,
            0.0345,
            0.0295,
            0.0224,
            0.0222,
            0.0308999999999999,
            0.0239,
            0.0124,
            0.0105,
            0.0154,
            0.0313,
            0.0342,
            0.0223,
            0.0182,
            0.0175,
            0.0319
           ],
           "showlegend": false,
           "subplot": "polar",
           "theta": [
            "ESTJ-A",
            "ESFJ-A",
            "INFP-T",
            "ESFJ-T",
            "ENFP-T",
            "ENFP-A",
            "ESTJ-T",
            "ISFJ-T",
            "ENFJ-A",
            "ESTP-A",
            "ISTJ-A",
            "INTP-T",
            "INFJ-T",
            "ISFP-T",
            "ENTJ-A",
            "ESTP-T",
            "ISTJ-T",
            "ESFP-T",
            "ENTP-A",
            "ESFP-A",
            "INTJ-T",
            "ISFJ-A",
            "INTP-A",
            "ENTP-T",
            "ISTP-T",
            "ENTJ-T",
            "ISTP-A",
            "INFP-A",
            "ENFJ-T",
            "INTJ-A",
            "ISFP-A",
            "INFJ-A",
            "ESTJ-A"
           ],
           "type": "scatterpolar"
          }
         ],
         "name": "Sweden"
        },
        {
         "data": [
          {
           "hovertemplate": "Country=Switzerland<br>value=%{r}<br>variable=%{theta}<extra></extra>",
           "legendgroup": "",
           "line": {
            "color": "#636efa",
            "dash": "solid"
           },
           "marker": {
            "symbol": "circle"
           },
           "mode": "lines",
           "name": "",
           "r": [
            0.0384,
            0.0501,
            0.1112,
            0.0299,
            0.0837,
            0.0649,
            0.0116999999999999,
            0.0347,
            0.0372,
            0.0189,
            0.0197,
            0.0374,
            0.0547,
            0.0243999999999999,
            0.0246,
            0.0072,
            0.0135,
            0.0207,
            0.036,
            0.0273,
            0.0215,
            0.0220999999999999,
            0.0281,
            0.0256,
            0.0088,
            0.0124,
            0.011,
            0.033,
            0.0383,
            0.0199,
            0.0144,
            0.0185,
            0.0384
           ],
           "showlegend": false,
           "subplot": "polar",
           "theta": [
            "ESTJ-A",
            "ESFJ-A",
            "INFP-T",
            "ESFJ-T",
            "ENFP-T",
            "ENFP-A",
            "ESTJ-T",
            "ISFJ-T",
            "ENFJ-A",
            "ESTP-A",
            "ISTJ-A",
            "INTP-T",
            "INFJ-T",
            "ISFP-T",
            "ENTJ-A",
            "ESTP-T",
            "ISTJ-T",
            "ESFP-T",
            "ENTP-A",
            "ESFP-A",
            "INTJ-T",
            "ISFJ-A",
            "INTP-A",
            "ENTP-T",
            "ISTP-T",
            "ENTJ-T",
            "ISTP-A",
            "INFP-A",
            "ENFJ-T",
            "INTJ-A",
            "ISFP-A",
            "INFJ-A",
            "ESTJ-A"
           ],
           "type": "scatterpolar"
          }
         ],
         "name": "Switzerland"
        },
        {
         "data": [
          {
           "hovertemplate": "Country=Syria<br>value=%{r}<br>variable=%{theta}<extra></extra>",
           "legendgroup": "",
           "line": {
            "color": "#636efa",
            "dash": "solid"
           },
           "marker": {
            "symbol": "circle"
           },
           "mode": "lines",
           "name": "",
           "r": [
            0.0392,
            0.0256999999999999,
            0.0841,
            0.0289,
            0.0661,
            0.0344,
            0.0217,
            0.0243,
            0.0279999999999999,
            0.0169,
            0.0177,
            0.0576,
            0.0479,
            0.0195,
            0.0352,
            0.0185,
            0.0187999999999999,
            0.024,
            0.0428,
            0.0141999999999999,
            0.0482,
            0.0129,
            0.0404,
            0.0481,
            0.0161,
            0.0339,
            0.0148,
            0.0200999999999999,
            0.0429,
            0.0341,
            0.0084,
            0.0148,
            0.0392
           ],
           "showlegend": false,
           "subplot": "polar",
           "theta": [
            "ESTJ-A",
            "ESFJ-A",
            "INFP-T",
            "ESFJ-T",
            "ENFP-T",
            "ENFP-A",
            "ESTJ-T",
            "ISFJ-T",
            "ENFJ-A",
            "ESTP-A",
            "ISTJ-A",
            "INTP-T",
            "INFJ-T",
            "ISFP-T",
            "ENTJ-A",
            "ESTP-T",
            "ISTJ-T",
            "ESFP-T",
            "ENTP-A",
            "ESFP-A",
            "INTJ-T",
            "ISFJ-A",
            "INTP-A",
            "ENTP-T",
            "ISTP-T",
            "ENTJ-T",
            "ISTP-A",
            "INFP-A",
            "ENFJ-T",
            "INTJ-A",
            "ISFP-A",
            "INFJ-A",
            "ESTJ-A"
           ],
           "type": "scatterpolar"
          }
         ],
         "name": "Syria"
        },
        {
         "data": [
          {
           "hovertemplate": "Country=Tajikistan<br>value=%{r}<br>variable=%{theta}<extra></extra>",
           "legendgroup": "",
           "line": {
            "color": "#636efa",
            "dash": "solid"
           },
           "marker": {
            "symbol": "circle"
           },
           "mode": "lines",
           "name": "",
           "r": [
            0.0512,
            0.0886999999999999,
            0.099,
            0.0409999999999999,
            0.0819,
            0.0579999999999999,
            0.0239,
            0.0512,
            0.0239,
            0.0102,
            0.0171,
            0.0239,
            0.0273,
            0.0478,
            0.0204999999999999,
            0.0171,
            0.0204999999999999,
            0.0306999999999999,
            0.0478,
            0.0239,
            0.0204999999999999,
            0.0204999999999999,
            0.0171,
            0.0102,
            0.0204999999999999,
            0.0171,
            0.0137,
            0.0171,
            0.0171,
            0.0137,
            0.0204999999999999,
            0.0068,
            0.0512
           ],
           "showlegend": false,
           "subplot": "polar",
           "theta": [
            "ESTJ-A",
            "ESFJ-A",
            "INFP-T",
            "ESFJ-T",
            "ENFP-T",
            "ENFP-A",
            "ESTJ-T",
            "ISFJ-T",
            "ENFJ-A",
            "ESTP-A",
            "ISTJ-A",
            "INTP-T",
            "INFJ-T",
            "ISFP-T",
            "ENTJ-A",
            "ESTP-T",
            "ISTJ-T",
            "ESFP-T",
            "ENTP-A",
            "ESFP-A",
            "INTJ-T",
            "ISFJ-A",
            "INTP-A",
            "ENTP-T",
            "ISTP-T",
            "ENTJ-T",
            "ISTP-A",
            "INFP-A",
            "ENFJ-T",
            "INTJ-A",
            "ISFP-A",
            "INFJ-A",
            "ESTJ-A"
           ],
           "type": "scatterpolar"
          }
         ],
         "name": "Tajikistan"
        },
        {
         "data": [
          {
           "hovertemplate": "Country=Thailand<br>value=%{r}<br>variable=%{theta}<extra></extra>",
           "legendgroup": "",
           "line": {
            "color": "#636efa",
            "dash": "solid"
           },
           "marker": {
            "symbol": "circle"
           },
           "mode": "lines",
           "name": "",
           "r": [
            0.0312,
            0.0673,
            0.0953999999999999,
            0.0435,
            0.0729,
            0.0484,
            0.0168,
            0.0486,
            0.033,
            0.0149,
            0.0216,
            0.0283,
            0.0489,
            0.0412999999999999,
            0.0144999999999999,
            0.0118,
            0.0196,
            0.0362,
            0.0183,
            0.036,
            0.018,
            0.0355,
            0.0172,
            0.0187,
            0.0138,
            0.011,
            0.0111,
            0.0308999999999999,
            0.0358,
            0.0155,
            0.0232,
            0.0207,
            0.0312
           ],
           "showlegend": false,
           "subplot": "polar",
           "theta": [
            "ESTJ-A",
            "ESFJ-A",
            "INFP-T",
            "ESFJ-T",
            "ENFP-T",
            "ENFP-A",
            "ESTJ-T",
            "ISFJ-T",
            "ENFJ-A",
            "ESTP-A",
            "ISTJ-A",
            "INTP-T",
            "INFJ-T",
            "ISFP-T",
            "ENTJ-A",
            "ESTP-T",
            "ISTJ-T",
            "ESFP-T",
            "ENTP-A",
            "ESFP-A",
            "INTJ-T",
            "ISFJ-A",
            "INTP-A",
            "ENTP-T",
            "ISTP-T",
            "ENTJ-T",
            "ISTP-A",
            "INFP-A",
            "ENFJ-T",
            "INTJ-A",
            "ISFP-A",
            "INFJ-A",
            "ESTJ-A"
           ],
           "type": "scatterpolar"
          }
         ],
         "name": "Thailand"
        },
        {
         "data": [
          {
           "hovertemplate": "Country=Trinidad and Tobago<br>value=%{r}<br>variable=%{theta}<extra></extra>",
           "legendgroup": "",
           "line": {
            "color": "#636efa",
            "dash": "solid"
           },
           "marker": {
            "symbol": "circle"
           },
           "mode": "lines",
           "name": "",
           "r": [
            0.0301,
            0.0603,
            0.1144,
            0.0235,
            0.0638,
            0.0431,
            0.0108,
            0.0407,
            0.0416,
            0.0128,
            0.0243999999999999,
            0.0409,
            0.0649,
            0.0324,
            0.0196,
            0.009,
            0.0169,
            0.0194,
            0.0220999999999999,
            0.0243999999999999,
            0.025,
            0.0389,
            0.0236,
            0.0233,
            0.0129,
            0.0115,
            0.0111,
            0.0349,
            0.0318,
            0.0233999999999999,
            0.0212,
            0.0271,
            0.0301
           ],
           "showlegend": false,
           "subplot": "polar",
           "theta": [
            "ESTJ-A",
            "ESFJ-A",
            "INFP-T",
            "ESFJ-T",
            "ENFP-T",
            "ENFP-A",
            "ESTJ-T",
            "ISFJ-T",
            "ENFJ-A",
            "ESTP-A",
            "ISTJ-A",
            "INTP-T",
            "INFJ-T",
            "ISFP-T",
            "ENTJ-A",
            "ESTP-T",
            "ISTJ-T",
            "ESFP-T",
            "ENTP-A",
            "ESFP-A",
            "INTJ-T",
            "ISFJ-A",
            "INTP-A",
            "ENTP-T",
            "ISTP-T",
            "ENTJ-T",
            "ISTP-A",
            "INFP-A",
            "ENFJ-T",
            "INTJ-A",
            "ISFP-A",
            "INFJ-A",
            "ESTJ-A"
           ],
           "type": "scatterpolar"
          }
         ],
         "name": "Trinidad and Tobago"
        },
        {
         "data": [
          {
           "hovertemplate": "Country=Tunisia<br>value=%{r}<br>variable=%{theta}<extra></extra>",
           "legendgroup": "",
           "line": {
            "color": "#636efa",
            "dash": "solid"
           },
           "marker": {
            "symbol": "circle"
           },
           "mode": "lines",
           "name": "",
           "r": [
            0.0232,
            0.0255,
            0.1261999999999999,
            0.0177,
            0.0731,
            0.0521999999999999,
            0.0105,
            0.0181,
            0.0375999999999999,
            0.0151,
            0.0112,
            0.0783,
            0.0512,
            0.0237999999999999,
            0.0283,
            0.0095,
            0.0115,
            0.0155,
            0.051,
            0.0157,
            0.0348,
            0.0106,
            0.0467999999999999,
            0.0449,
            0.012,
            0.0162,
            0.0107,
            0.0361,
            0.0333,
            0.0302999999999999,
            0.0102,
            0.0186,
            0.0232
           ],
           "showlegend": false,
           "subplot": "polar",
           "theta": [
            "ESTJ-A",
            "ESFJ-A",
            "INFP-T",
            "ESFJ-T",
            "ENFP-T",
            "ENFP-A",
            "ESTJ-T",
            "ISFJ-T",
            "ENFJ-A",
            "ESTP-A",
            "ISTJ-A",
            "INTP-T",
            "INFJ-T",
            "ISFP-T",
            "ENTJ-A",
            "ESTP-T",
            "ISTJ-T",
            "ESFP-T",
            "ENTP-A",
            "ESFP-A",
            "INTJ-T",
            "ISFJ-A",
            "INTP-A",
            "ENTP-T",
            "ISTP-T",
            "ENTJ-T",
            "ISTP-A",
            "INFP-A",
            "ENFJ-T",
            "INTJ-A",
            "ISFP-A",
            "INFJ-A",
            "ESTJ-A"
           ],
           "type": "scatterpolar"
          }
         ],
         "name": "Tunisia"
        },
        {
         "data": [
          {
           "hovertemplate": "Country=Turkey<br>value=%{r}<br>variable=%{theta}<extra></extra>",
           "legendgroup": "",
           "line": {
            "color": "#636efa",
            "dash": "solid"
           },
           "marker": {
            "symbol": "circle"
           },
           "mode": "lines",
           "name": "",
           "r": [
            0.0388,
            0.0345,
            0.1046,
            0.0283,
            0.0787,
            0.0409999999999999,
            0.0200999999999999,
            0.0255,
            0.027,
            0.0218,
            0.0174,
            0.0647,
            0.0487999999999999,
            0.0250999999999999,
            0.0293,
            0.0148,
            0.018,
            0.0236,
            0.0428,
            0.0187999999999999,
            0.0327,
            0.013,
            0.0338,
            0.0429,
            0.0137,
            0.0226,
            0.0116,
            0.0207,
            0.0392,
            0.0231,
            0.0109,
            0.0121999999999999,
            0.0388
           ],
           "showlegend": false,
           "subplot": "polar",
           "theta": [
            "ESTJ-A",
            "ESFJ-A",
            "INFP-T",
            "ESFJ-T",
            "ENFP-T",
            "ENFP-A",
            "ESTJ-T",
            "ISFJ-T",
            "ENFJ-A",
            "ESTP-A",
            "ISTJ-A",
            "INTP-T",
            "INFJ-T",
            "ISFP-T",
            "ENTJ-A",
            "ESTP-T",
            "ISTJ-T",
            "ESFP-T",
            "ENTP-A",
            "ESFP-A",
            "INTJ-T",
            "ISFJ-A",
            "INTP-A",
            "ENTP-T",
            "ISTP-T",
            "ENTJ-T",
            "ISTP-A",
            "INFP-A",
            "ENFJ-T",
            "INTJ-A",
            "ISFP-A",
            "INFJ-A",
            "ESTJ-A"
           ],
           "type": "scatterpolar"
          }
         ],
         "name": "Turkey"
        },
        {
         "data": [
          {
           "hovertemplate": "Country=Uganda<br>value=%{r}<br>variable=%{theta}<extra></extra>",
           "legendgroup": "",
           "line": {
            "color": "#636efa",
            "dash": "solid"
           },
           "marker": {
            "symbol": "circle"
           },
           "mode": "lines",
           "name": "",
           "r": [
            0.0455,
            0.0963,
            0.0647,
            0.0438999999999999,
            0.0595,
            0.0467999999999999,
            0.0196,
            0.0463,
            0.0416,
            0.0173,
            0.0241,
            0.0227999999999999,
            0.0428,
            0.0329,
            0.0204,
            0.0125,
            0.0179,
            0.0302999999999999,
            0.0220999999999999,
            0.0344,
            0.0171,
            0.0395999999999999,
            0.0184,
            0.0218,
            0.0121,
            0.0139,
            0.0093,
            0.0298,
            0.031,
            0.0189,
            0.0217,
            0.0247,
            0.0455
           ],
           "showlegend": false,
           "subplot": "polar",
           "theta": [
            "ESTJ-A",
            "ESFJ-A",
            "INFP-T",
            "ESFJ-T",
            "ENFP-T",
            "ENFP-A",
            "ESTJ-T",
            "ISFJ-T",
            "ENFJ-A",
            "ESTP-A",
            "ISTJ-A",
            "INTP-T",
            "INFJ-T",
            "ISFP-T",
            "ENTJ-A",
            "ESTP-T",
            "ISTJ-T",
            "ESFP-T",
            "ENTP-A",
            "ESFP-A",
            "INTJ-T",
            "ISFJ-A",
            "INTP-A",
            "ENTP-T",
            "ISTP-T",
            "ENTJ-T",
            "ISTP-A",
            "INFP-A",
            "ENFJ-T",
            "INTJ-A",
            "ISFP-A",
            "INFJ-A",
            "ESTJ-A"
           ],
           "type": "scatterpolar"
          }
         ],
         "name": "Uganda"
        },
        {
         "data": [
          {
           "hovertemplate": "Country=Ukraine<br>value=%{r}<br>variable=%{theta}<extra></extra>",
           "legendgroup": "",
           "line": {
            "color": "#636efa",
            "dash": "solid"
           },
           "marker": {
            "symbol": "circle"
           },
           "mode": "lines",
           "name": "",
           "r": [
            0.0593,
            0.0475,
            0.0808,
            0.0243,
            0.0636,
            0.0341,
            0.0210999999999999,
            0.0304,
            0.031,
            0.0219,
            0.0311,
            0.0608,
            0.042,
            0.0219,
            0.0349,
            0.0134,
            0.0242,
            0.0165,
            0.039,
            0.0161,
            0.0334,
            0.0216,
            0.0356,
            0.0343,
            0.0171,
            0.0209,
            0.0210999999999999,
            0.0189,
            0.0282,
            0.0293,
            0.0113999999999999,
            0.0141,
            0.0593
           ],
           "showlegend": false,
           "subplot": "polar",
           "theta": [
            "ESTJ-A",
            "ESFJ-A",
            "INFP-T",
            "ESFJ-T",
            "ENFP-T",
            "ENFP-A",
            "ESTJ-T",
            "ISFJ-T",
            "ENFJ-A",
            "ESTP-A",
            "ISTJ-A",
            "INTP-T",
            "INFJ-T",
            "ISFP-T",
            "ENTJ-A",
            "ESTP-T",
            "ISTJ-T",
            "ESFP-T",
            "ENTP-A",
            "ESFP-A",
            "INTJ-T",
            "ISFJ-A",
            "INTP-A",
            "ENTP-T",
            "ISTP-T",
            "ENTJ-T",
            "ISTP-A",
            "INFP-A",
            "ENFJ-T",
            "INTJ-A",
            "ISFP-A",
            "INFJ-A",
            "ESTJ-A"
           ],
           "type": "scatterpolar"
          }
         ],
         "name": "Ukraine"
        },
        {
         "data": [
          {
           "hovertemplate": "Country=United Arab Emirates<br>value=%{r}<br>variable=%{theta}<extra></extra>",
           "legendgroup": "",
           "line": {
            "color": "#636efa",
            "dash": "solid"
           },
           "marker": {
            "symbol": "circle"
           },
           "mode": "lines",
           "name": "",
           "r": [
            0.0405,
            0.0684,
            0.0973,
            0.0415,
            0.0868,
            0.0487,
            0.0178,
            0.0375999999999999,
            0.0391,
            0.0172,
            0.0153,
            0.0306,
            0.0498,
            0.0355,
            0.0224,
            0.012,
            0.015,
            0.0325,
            0.0269,
            0.0281,
            0.0175,
            0.0241,
            0.0177,
            0.0260999999999999,
            0.0116,
            0.0155,
            0.0095,
            0.0241,
            0.0441999999999999,
            0.0144,
            0.0153,
            0.0173,
            0.0405
           ],
           "showlegend": false,
           "subplot": "polar",
           "theta": [
            "ESTJ-A",
            "ESFJ-A",
            "INFP-T",
            "ESFJ-T",
            "ENFP-T",
            "ENFP-A",
            "ESTJ-T",
            "ISFJ-T",
            "ENFJ-A",
            "ESTP-A",
            "ISTJ-A",
            "INTP-T",
            "INFJ-T",
            "ISFP-T",
            "ENTJ-A",
            "ESTP-T",
            "ISTJ-T",
            "ESFP-T",
            "ENTP-A",
            "ESFP-A",
            "INTJ-T",
            "ISFJ-A",
            "INTP-A",
            "ENTP-T",
            "ISTP-T",
            "ENTJ-T",
            "ISTP-A",
            "INFP-A",
            "ENFJ-T",
            "INTJ-A",
            "ISFP-A",
            "INFJ-A",
            "ESTJ-A"
           ],
           "type": "scatterpolar"
          }
         ],
         "name": "United Arab Emirates"
        },
        {
         "data": [
          {
           "hovertemplate": "Country=United Kingdom<br>value=%{r}<br>variable=%{theta}<extra></extra>",
           "legendgroup": "",
           "line": {
            "color": "#636efa",
            "dash": "solid"
           },
           "marker": {
            "symbol": "circle"
           },
           "mode": "lines",
           "name": "",
           "r": [
            0.026,
            0.0492,
            0.1357,
            0.0388,
            0.0943,
            0.0494,
            0.01,
            0.0529,
            0.0306999999999999,
            0.0148,
            0.016,
            0.039,
            0.0653,
            0.038,
            0.0152,
            0.0076,
            0.0143,
            0.0263,
            0.0253,
            0.0241,
            0.019,
            0.0233,
            0.0200999999999999,
            0.0232,
            0.0111,
            0.0106,
            0.0101,
            0.0243999999999999,
            0.0432,
            0.0133,
            0.0143,
            0.0144999999999999,
            0.026
           ],
           "showlegend": false,
           "subplot": "polar",
           "theta": [
            "ESTJ-A",
            "ESFJ-A",
            "INFP-T",
            "ESFJ-T",
            "ENFP-T",
            "ENFP-A",
            "ESTJ-T",
            "ISFJ-T",
            "ENFJ-A",
            "ESTP-A",
            "ISTJ-A",
            "INTP-T",
            "INFJ-T",
            "ISFP-T",
            "ENTJ-A",
            "ESTP-T",
            "ISTJ-T",
            "ESFP-T",
            "ENTP-A",
            "ESFP-A",
            "INTJ-T",
            "ISFJ-A",
            "INTP-A",
            "ENTP-T",
            "ISTP-T",
            "ENTJ-T",
            "ISTP-A",
            "INFP-A",
            "ENFJ-T",
            "INTJ-A",
            "ISFP-A",
            "INFJ-A",
            "ESTJ-A"
           ],
           "type": "scatterpolar"
          }
         ],
         "name": "United Kingdom"
        },
        {
         "data": [
          {
           "hovertemplate": "Country=Tanzania<br>value=%{r}<br>variable=%{theta}<extra></extra>",
           "legendgroup": "",
           "line": {
            "color": "#636efa",
            "dash": "solid"
           },
           "marker": {
            "symbol": "circle"
           },
           "mode": "lines",
           "name": "",
           "r": [
            0.0441,
            0.0666,
            0.081,
            0.0399,
            0.0753,
            0.0429,
            0.0225,
            0.038,
            0.0412,
            0.0153,
            0.0218,
            0.0281,
            0.048,
            0.0323,
            0.0297,
            0.0148,
            0.0197,
            0.0306999999999999,
            0.0256,
            0.0262,
            0.0166,
            0.0239,
            0.0220999999999999,
            0.0265,
            0.0137,
            0.017,
            0.0118,
            0.0289,
            0.0403,
            0.0191,
            0.0163999999999999,
            0.0200999999999999,
            0.0441
           ],
           "showlegend": false,
           "subplot": "polar",
           "theta": [
            "ESTJ-A",
            "ESFJ-A",
            "INFP-T",
            "ESFJ-T",
            "ENFP-T",
            "ENFP-A",
            "ESTJ-T",
            "ISFJ-T",
            "ENFJ-A",
            "ESTP-A",
            "ISTJ-A",
            "INTP-T",
            "INFJ-T",
            "ISFP-T",
            "ENTJ-A",
            "ESTP-T",
            "ISTJ-T",
            "ESFP-T",
            "ENTP-A",
            "ESFP-A",
            "INTJ-T",
            "ISFJ-A",
            "INTP-A",
            "ENTP-T",
            "ISTP-T",
            "ENTJ-T",
            "ISTP-A",
            "INFP-A",
            "ENFJ-T",
            "INTJ-A",
            "ISFP-A",
            "INFJ-A",
            "ESTJ-A"
           ],
           "type": "scatterpolar"
          }
         ],
         "name": "Tanzania"
        },
        {
         "data": [
          {
           "hovertemplate": "Country=United States<br>value=%{r}<br>variable=%{theta}<extra></extra>",
           "legendgroup": "",
           "line": {
            "color": "#636efa",
            "dash": "solid"
           },
           "marker": {
            "symbol": "circle"
           },
           "mode": "lines",
           "name": "",
           "r": [
            0.027,
            0.0504,
            0.1208,
            0.0327,
            0.0831,
            0.0516,
            0.011,
            0.0471,
            0.0339,
            0.0149,
            0.0199,
            0.036,
            0.0567,
            0.0343,
            0.0155,
            0.0083,
            0.0157,
            0.0232,
            0.0242,
            0.0247,
            0.0175,
            0.0287,
            0.0213,
            0.0227,
            0.0112,
            0.0102,
            0.0113,
            0.0299,
            0.0371,
            0.0151,
            0.0172,
            0.0187999999999999,
            0.027
           ],
           "showlegend": false,
           "subplot": "polar",
           "theta": [
            "ESTJ-A",
            "ESFJ-A",
            "INFP-T",
            "ESFJ-T",
            "ENFP-T",
            "ENFP-A",
            "ESTJ-T",
            "ISFJ-T",
            "ENFJ-A",
            "ESTP-A",
            "ISTJ-A",
            "INTP-T",
            "INFJ-T",
            "ISFP-T",
            "ENTJ-A",
            "ESTP-T",
            "ISTJ-T",
            "ESFP-T",
            "ENTP-A",
            "ESFP-A",
            "INTJ-T",
            "ISFJ-A",
            "INTP-A",
            "ENTP-T",
            "ISTP-T",
            "ENTJ-T",
            "ISTP-A",
            "INFP-A",
            "ENFJ-T",
            "INTJ-A",
            "ISFP-A",
            "INFJ-A",
            "ESTJ-A"
           ],
           "type": "scatterpolar"
          }
         ],
         "name": "United States"
        },
        {
         "data": [
          {
           "hovertemplate": "Country=Uruguay<br>value=%{r}<br>variable=%{theta}<extra></extra>",
           "legendgroup": "",
           "line": {
            "color": "#636efa",
            "dash": "solid"
           },
           "marker": {
            "symbol": "circle"
           },
           "mode": "lines",
           "name": "",
           "r": [
            0.0203,
            0.0282,
            0.1537,
            0.0204,
            0.0824,
            0.0533,
            0.0098,
            0.0293,
            0.0298,
            0.0125,
            0.0197,
            0.064,
            0.0681,
            0.0275,
            0.0168,
            0.0072,
            0.0165,
            0.0172,
            0.0287,
            0.0165,
            0.0337,
            0.0183,
            0.0353,
            0.0242,
            0.0135,
            0.0116,
            0.0127,
            0.0358,
            0.0361,
            0.023,
            0.0116999999999999,
            0.022,
            0.0203
           ],
           "showlegend": false,
           "subplot": "polar",
           "theta": [
            "ESTJ-A",
            "ESFJ-A",
            "INFP-T",
            "ESFJ-T",
            "ENFP-T",
            "ENFP-A",
            "ESTJ-T",
            "ISFJ-T",
            "ENFJ-A",
            "ESTP-A",
            "ISTJ-A",
            "INTP-T",
            "INFJ-T",
            "ISFP-T",
            "ENTJ-A",
            "ESTP-T",
            "ISTJ-T",
            "ESFP-T",
            "ENTP-A",
            "ESFP-A",
            "INTJ-T",
            "ISFJ-A",
            "INTP-A",
            "ENTP-T",
            "ISTP-T",
            "ENTJ-T",
            "ISTP-A",
            "INFP-A",
            "ENFJ-T",
            "INTJ-A",
            "ISFP-A",
            "INFJ-A",
            "ESTJ-A"
           ],
           "type": "scatterpolar"
          }
         ],
         "name": "Uruguay"
        },
        {
         "data": [
          {
           "hovertemplate": "Country=Uzbekistan<br>value=%{r}<br>variable=%{theta}<extra></extra>",
           "legendgroup": "",
           "line": {
            "color": "#636efa",
            "dash": "solid"
           },
           "marker": {
            "symbol": "circle"
           },
           "mode": "lines",
           "name": "",
           "r": [
            0.0771999999999999,
            0.049,
            0.0608999999999999,
            0.0363,
            0.0663,
            0.0354,
            0.0282,
            0.0463,
            0.0308999999999999,
            0.0209,
            0.03,
            0.0391,
            0.0336,
            0.0163,
            0.0445,
            0.0154,
            0.03,
            0.0209,
            0.0363,
            0.02,
            0.0245,
            0.0254,
            0.0236,
            0.0426999999999999,
            0.0163,
            0.0236,
            0.0127,
            0.0109,
            0.0345,
            0.02,
            0.0127,
            0.0154,
            0.0771999999999999
           ],
           "showlegend": false,
           "subplot": "polar",
           "theta": [
            "ESTJ-A",
            "ESFJ-A",
            "INFP-T",
            "ESFJ-T",
            "ENFP-T",
            "ENFP-A",
            "ESTJ-T",
            "ISFJ-T",
            "ENFJ-A",
            "ESTP-A",
            "ISTJ-A",
            "INTP-T",
            "INFJ-T",
            "ISFP-T",
            "ENTJ-A",
            "ESTP-T",
            "ISTJ-T",
            "ESFP-T",
            "ENTP-A",
            "ESFP-A",
            "INTJ-T",
            "ISFJ-A",
            "INTP-A",
            "ENTP-T",
            "ISTP-T",
            "ENTJ-T",
            "ISTP-A",
            "INFP-A",
            "ENFJ-T",
            "INTJ-A",
            "ISFP-A",
            "INFJ-A",
            "ESTJ-A"
           ],
           "type": "scatterpolar"
          }
         ],
         "name": "Uzbekistan"
        },
        {
         "data": [
          {
           "hovertemplate": "Country=Vanuatu<br>value=%{r}<br>variable=%{theta}<extra></extra>",
           "legendgroup": "",
           "line": {
            "color": "#636efa",
            "dash": "solid"
           },
           "marker": {
            "symbol": "circle"
           },
           "mode": "lines",
           "name": "",
           "r": [
            0.0544,
            0.0501999999999999,
            0.1003999999999999,
            0.0335,
            0.0711,
            0.0586,
            0.0126,
            0.0209,
            0.0293,
            0.0126,
            0.0250999999999999,
            0.0167,
            0.046,
            0.0544,
            0.0084,
            0.0084,
            0.0126,
            0.0544,
            0.0377,
            0.0501999999999999,
            0.0126,
            0.0418,
            0.0126,
            0.0126,
            0.0126,
            0.0042,
            0.0084,
            0.0209,
            0.0501999999999999,
            0.0209,
            0.0209,
            0.0377,
            0.0544
           ],
           "showlegend": false,
           "subplot": "polar",
           "theta": [
            "ESTJ-A",
            "ESFJ-A",
            "INFP-T",
            "ESFJ-T",
            "ENFP-T",
            "ENFP-A",
            "ESTJ-T",
            "ISFJ-T",
            "ENFJ-A",
            "ESTP-A",
            "ISTJ-A",
            "INTP-T",
            "INFJ-T",
            "ISFP-T",
            "ENTJ-A",
            "ESTP-T",
            "ISTJ-T",
            "ESFP-T",
            "ENTP-A",
            "ESFP-A",
            "INTJ-T",
            "ISFJ-A",
            "INTP-A",
            "ENTP-T",
            "ISTP-T",
            "ENTJ-T",
            "ISTP-A",
            "INFP-A",
            "ENFJ-T",
            "INTJ-A",
            "ISFP-A",
            "INFJ-A",
            "ESTJ-A"
           ],
           "type": "scatterpolar"
          }
         ],
         "name": "Vanuatu"
        },
        {
         "data": [
          {
           "hovertemplate": "Country=Vietnam<br>value=%{r}<br>variable=%{theta}<extra></extra>",
           "legendgroup": "",
           "line": {
            "color": "#636efa",
            "dash": "solid"
           },
           "marker": {
            "symbol": "circle"
           },
           "mode": "lines",
           "name": "",
           "r": [
            0.0325,
            0.0617,
            0.1186999999999999,
            0.0407,
            0.0806,
            0.0387,
            0.0156,
            0.0491,
            0.0315,
            0.0152,
            0.0163,
            0.0371,
            0.0462,
            0.0536,
            0.0167,
            0.0139,
            0.0179,
            0.038,
            0.0197999999999999,
            0.0276,
            0.0177,
            0.0241,
            0.0179,
            0.023,
            0.0173,
            0.0115,
            0.0106,
            0.026,
            0.0351,
            0.012,
            0.0182,
            0.0153,
            0.0325
           ],
           "showlegend": false,
           "subplot": "polar",
           "theta": [
            "ESTJ-A",
            "ESFJ-A",
            "INFP-T",
            "ESFJ-T",
            "ENFP-T",
            "ENFP-A",
            "ESTJ-T",
            "ISFJ-T",
            "ENFJ-A",
            "ESTP-A",
            "ISTJ-A",
            "INTP-T",
            "INFJ-T",
            "ISFP-T",
            "ENTJ-A",
            "ESTP-T",
            "ISTJ-T",
            "ESFP-T",
            "ENTP-A",
            "ESFP-A",
            "INTJ-T",
            "ISFJ-A",
            "INTP-A",
            "ENTP-T",
            "ISTP-T",
            "ENTJ-T",
            "ISTP-A",
            "INFP-A",
            "ENFJ-T",
            "INTJ-A",
            "ISFP-A",
            "INFJ-A",
            "ESTJ-A"
           ],
           "type": "scatterpolar"
          }
         ],
         "name": "Vietnam"
        },
        {
         "data": [
          {
           "hovertemplate": "Country=Yemen<br>value=%{r}<br>variable=%{theta}<extra></extra>",
           "legendgroup": "",
           "line": {
            "color": "#636efa",
            "dash": "solid"
           },
           "marker": {
            "symbol": "circle"
           },
           "mode": "lines",
           "name": "",
           "r": [
            0.0479,
            0.045,
            0.0862,
            0.0192,
            0.0805,
            0.0383,
            0.0115,
            0.0287,
            0.0268,
            0.0172,
            0.0239,
            0.0603,
            0.0489,
            0.0316,
            0.0268,
            0.0153,
            0.022,
            0.0326,
            0.0374,
            0.0239,
            0.0354,
            0.0192,
            0.0326,
            0.0316,
            0.0200999999999999,
            0.023,
            0.0153,
            0.0239,
            0.0421,
            0.0192,
            0.0067,
            0.0067,
            0.0479
           ],
           "showlegend": false,
           "subplot": "polar",
           "theta": [
            "ESTJ-A",
            "ESFJ-A",
            "INFP-T",
            "ESFJ-T",
            "ENFP-T",
            "ENFP-A",
            "ESTJ-T",
            "ISFJ-T",
            "ENFJ-A",
            "ESTP-A",
            "ISTJ-A",
            "INTP-T",
            "INFJ-T",
            "ISFP-T",
            "ENTJ-A",
            "ESTP-T",
            "ISTJ-T",
            "ESFP-T",
            "ENTP-A",
            "ESFP-A",
            "INTJ-T",
            "ISFJ-A",
            "INTP-A",
            "ENTP-T",
            "ISTP-T",
            "ENTJ-T",
            "ISTP-A",
            "INFP-A",
            "ENFJ-T",
            "INTJ-A",
            "ISFP-A",
            "INFJ-A",
            "ESTJ-A"
           ],
           "type": "scatterpolar"
          }
         ],
         "name": "Yemen"
        },
        {
         "data": [
          {
           "hovertemplate": "Country=Zambia<br>value=%{r}<br>variable=%{theta}<extra></extra>",
           "legendgroup": "",
           "line": {
            "color": "#636efa",
            "dash": "solid"
           },
           "marker": {
            "symbol": "circle"
           },
           "mode": "lines",
           "name": "",
           "r": [
            0.0475999999999999,
            0.0896,
            0.0711,
            0.0356999999999999,
            0.0578,
            0.0405,
            0.0154,
            0.0414,
            0.0436,
            0.0157,
            0.0243,
            0.0332,
            0.0544,
            0.0336,
            0.0289999999999999,
            0.0107,
            0.0163,
            0.0296,
            0.0227999999999999,
            0.0263,
            0.0192,
            0.0405,
            0.0200999999999999,
            0.0217,
            0.0098999999999999,
            0.0144999999999999,
            0.0104,
            0.0266,
            0.0289999999999999,
            0.0233999999999999,
            0.0206,
            0.0256,
            0.0475999999999999
           ],
           "showlegend": false,
           "subplot": "polar",
           "theta": [
            "ESTJ-A",
            "ESFJ-A",
            "INFP-T",
            "ESFJ-T",
            "ENFP-T",
            "ENFP-A",
            "ESTJ-T",
            "ISFJ-T",
            "ENFJ-A",
            "ESTP-A",
            "ISTJ-A",
            "INTP-T",
            "INFJ-T",
            "ISFP-T",
            "ENTJ-A",
            "ESTP-T",
            "ISTJ-T",
            "ESFP-T",
            "ENTP-A",
            "ESFP-A",
            "INTJ-T",
            "ISFJ-A",
            "INTP-A",
            "ENTP-T",
            "ISTP-T",
            "ENTJ-T",
            "ISTP-A",
            "INFP-A",
            "ENFJ-T",
            "INTJ-A",
            "ISFP-A",
            "INFJ-A",
            "ESTJ-A"
           ],
           "type": "scatterpolar"
          }
         ],
         "name": "Zambia"
        },
        {
         "data": [
          {
           "hovertemplate": "Country=Zimbabwe<br>value=%{r}<br>variable=%{theta}<extra></extra>",
           "legendgroup": "",
           "line": {
            "color": "#636efa",
            "dash": "solid"
           },
           "marker": {
            "symbol": "circle"
           },
           "mode": "lines",
           "name": "",
           "r": [
            0.0408,
            0.0783,
            0.0864,
            0.0351,
            0.0674,
            0.046,
            0.0176,
            0.0423,
            0.0464,
            0.0152,
            0.0197,
            0.0341,
            0.0547,
            0.0294,
            0.0312,
            0.012,
            0.0175,
            0.0250999999999999,
            0.0262,
            0.0254,
            0.0200999999999999,
            0.0318,
            0.0175,
            0.0264,
            0.0107,
            0.0174,
            0.0097,
            0.0247,
            0.0373,
            0.0182,
            0.0141999999999999,
            0.0214,
            0.0408
           ],
           "showlegend": false,
           "subplot": "polar",
           "theta": [
            "ESTJ-A",
            "ESFJ-A",
            "INFP-T",
            "ESFJ-T",
            "ENFP-T",
            "ENFP-A",
            "ESTJ-T",
            "ISFJ-T",
            "ENFJ-A",
            "ESTP-A",
            "ISTJ-A",
            "INTP-T",
            "INFJ-T",
            "ISFP-T",
            "ENTJ-A",
            "ESTP-T",
            "ISTJ-T",
            "ESFP-T",
            "ENTP-A",
            "ESFP-A",
            "INTJ-T",
            "ISFJ-A",
            "INTP-A",
            "ENTP-T",
            "ISTP-T",
            "ENTJ-T",
            "ISTP-A",
            "INFP-A",
            "ENFJ-T",
            "INTJ-A",
            "ISFP-A",
            "INFJ-A",
            "ESTJ-A"
           ],
           "type": "scatterpolar"
          }
         ],
         "name": "Zimbabwe"
        }
       ],
       "layout": {
        "legend": {
         "tracegroupgap": 0
        },
        "margin": {
         "t": 60
        },
        "polar": {
         "angularaxis": {
          "direction": "clockwise",
          "rotation": 90
         },
         "domain": {
          "x": [
           0,
           1
          ],
          "y": [
           0,
           1
          ]
         }
        },
        "sliders": [
         {
          "active": 0,
          "currentvalue": {
           "prefix": "Country="
          },
          "len": 0.9,
          "pad": {
           "b": 10,
           "t": 60
          },
          "steps": [
           {
            "args": [
             [
              "Afghanistan"
             ],
             {
              "frame": {
               "duration": 0,
               "redraw": true
              },
              "fromcurrent": true,
              "mode": "immediate",
              "transition": {
               "duration": 0,
               "easing": "linear"
              }
             }
            ],
            "label": "Afghanistan",
            "method": "animate"
           },
           {
            "args": [
             [
              "Albania"
             ],
             {
              "frame": {
               "duration": 0,
               "redraw": true
              },
              "fromcurrent": true,
              "mode": "immediate",
              "transition": {
               "duration": 0,
               "easing": "linear"
              }
             }
            ],
            "label": "Albania",
            "method": "animate"
           },
           {
            "args": [
             [
              "Algeria"
             ],
             {
              "frame": {
               "duration": 0,
               "redraw": true
              },
              "fromcurrent": true,
              "mode": "immediate",
              "transition": {
               "duration": 0,
               "easing": "linear"
              }
             }
            ],
            "label": "Algeria",
            "method": "animate"
           },
           {
            "args": [
             [
              "Andorra"
             ],
             {
              "frame": {
               "duration": 0,
               "redraw": true
              },
              "fromcurrent": true,
              "mode": "immediate",
              "transition": {
               "duration": 0,
               "easing": "linear"
              }
             }
            ],
            "label": "Andorra",
            "method": "animate"
           },
           {
            "args": [
             [
              "Angola"
             ],
             {
              "frame": {
               "duration": 0,
               "redraw": true
              },
              "fromcurrent": true,
              "mode": "immediate",
              "transition": {
               "duration": 0,
               "easing": "linear"
              }
             }
            ],
            "label": "Angola",
            "method": "animate"
           },
           {
            "args": [
             [
              "Antigua and Barbuda"
             ],
             {
              "frame": {
               "duration": 0,
               "redraw": true
              },
              "fromcurrent": true,
              "mode": "immediate",
              "transition": {
               "duration": 0,
               "easing": "linear"
              }
             }
            ],
            "label": "Antigua and Barbuda",
            "method": "animate"
           },
           {
            "args": [
             [
              "Argentina"
             ],
             {
              "frame": {
               "duration": 0,
               "redraw": true
              },
              "fromcurrent": true,
              "mode": "immediate",
              "transition": {
               "duration": 0,
               "easing": "linear"
              }
             }
            ],
            "label": "Argentina",
            "method": "animate"
           },
           {
            "args": [
             [
              "Armenia"
             ],
             {
              "frame": {
               "duration": 0,
               "redraw": true
              },
              "fromcurrent": true,
              "mode": "immediate",
              "transition": {
               "duration": 0,
               "easing": "linear"
              }
             }
            ],
            "label": "Armenia",
            "method": "animate"
           },
           {
            "args": [
             [
              "Australia"
             ],
             {
              "frame": {
               "duration": 0,
               "redraw": true
              },
              "fromcurrent": true,
              "mode": "immediate",
              "transition": {
               "duration": 0,
               "easing": "linear"
              }
             }
            ],
            "label": "Australia",
            "method": "animate"
           },
           {
            "args": [
             [
              "Austria"
             ],
             {
              "frame": {
               "duration": 0,
               "redraw": true
              },
              "fromcurrent": true,
              "mode": "immediate",
              "transition": {
               "duration": 0,
               "easing": "linear"
              }
             }
            ],
            "label": "Austria",
            "method": "animate"
           },
           {
            "args": [
             [
              "Azerbaijan"
             ],
             {
              "frame": {
               "duration": 0,
               "redraw": true
              },
              "fromcurrent": true,
              "mode": "immediate",
              "transition": {
               "duration": 0,
               "easing": "linear"
              }
             }
            ],
            "label": "Azerbaijan",
            "method": "animate"
           },
           {
            "args": [
             [
              "Bahamas"
             ],
             {
              "frame": {
               "duration": 0,
               "redraw": true
              },
              "fromcurrent": true,
              "mode": "immediate",
              "transition": {
               "duration": 0,
               "easing": "linear"
              }
             }
            ],
            "label": "Bahamas",
            "method": "animate"
           },
           {
            "args": [
             [
              "Bahrain"
             ],
             {
              "frame": {
               "duration": 0,
               "redraw": true
              },
              "fromcurrent": true,
              "mode": "immediate",
              "transition": {
               "duration": 0,
               "easing": "linear"
              }
             }
            ],
            "label": "Bahrain",
            "method": "animate"
           },
           {
            "args": [
             [
              "Bangladesh"
             ],
             {
              "frame": {
               "duration": 0,
               "redraw": true
              },
              "fromcurrent": true,
              "mode": "immediate",
              "transition": {
               "duration": 0,
               "easing": "linear"
              }
             }
            ],
            "label": "Bangladesh",
            "method": "animate"
           },
           {
            "args": [
             [
              "Barbados"
             ],
             {
              "frame": {
               "duration": 0,
               "redraw": true
              },
              "fromcurrent": true,
              "mode": "immediate",
              "transition": {
               "duration": 0,
               "easing": "linear"
              }
             }
            ],
            "label": "Barbados",
            "method": "animate"
           },
           {
            "args": [
             [
              "Belarus"
             ],
             {
              "frame": {
               "duration": 0,
               "redraw": true
              },
              "fromcurrent": true,
              "mode": "immediate",
              "transition": {
               "duration": 0,
               "easing": "linear"
              }
             }
            ],
            "label": "Belarus",
            "method": "animate"
           },
           {
            "args": [
             [
              "Belgium"
             ],
             {
              "frame": {
               "duration": 0,
               "redraw": true
              },
              "fromcurrent": true,
              "mode": "immediate",
              "transition": {
               "duration": 0,
               "easing": "linear"
              }
             }
            ],
            "label": "Belgium",
            "method": "animate"
           },
           {
            "args": [
             [
              "Belize"
             ],
             {
              "frame": {
               "duration": 0,
               "redraw": true
              },
              "fromcurrent": true,
              "mode": "immediate",
              "transition": {
               "duration": 0,
               "easing": "linear"
              }
             }
            ],
            "label": "Belize",
            "method": "animate"
           },
           {
            "args": [
             [
              "Bhutan"
             ],
             {
              "frame": {
               "duration": 0,
               "redraw": true
              },
              "fromcurrent": true,
              "mode": "immediate",
              "transition": {
               "duration": 0,
               "easing": "linear"
              }
             }
            ],
            "label": "Bhutan",
            "method": "animate"
           },
           {
            "args": [
             [
              "Bosnia and Herzegovina"
             ],
             {
              "frame": {
               "duration": 0,
               "redraw": true
              },
              "fromcurrent": true,
              "mode": "immediate",
              "transition": {
               "duration": 0,
               "easing": "linear"
              }
             }
            ],
            "label": "Bosnia and Herzegovina",
            "method": "animate"
           },
           {
            "args": [
             [
              "Botswana"
             ],
             {
              "frame": {
               "duration": 0,
               "redraw": true
              },
              "fromcurrent": true,
              "mode": "immediate",
              "transition": {
               "duration": 0,
               "easing": "linear"
              }
             }
            ],
            "label": "Botswana",
            "method": "animate"
           },
           {
            "args": [
             [
              "Brazil"
             ],
             {
              "frame": {
               "duration": 0,
               "redraw": true
              },
              "fromcurrent": true,
              "mode": "immediate",
              "transition": {
               "duration": 0,
               "easing": "linear"
              }
             }
            ],
            "label": "Brazil",
            "method": "animate"
           },
           {
            "args": [
             [
              "Brunei"
             ],
             {
              "frame": {
               "duration": 0,
               "redraw": true
              },
              "fromcurrent": true,
              "mode": "immediate",
              "transition": {
               "duration": 0,
               "easing": "linear"
              }
             }
            ],
            "label": "Brunei",
            "method": "animate"
           },
           {
            "args": [
             [
              "Bulgaria"
             ],
             {
              "frame": {
               "duration": 0,
               "redraw": true
              },
              "fromcurrent": true,
              "mode": "immediate",
              "transition": {
               "duration": 0,
               "easing": "linear"
              }
             }
            ],
            "label": "Bulgaria",
            "method": "animate"
           },
           {
            "args": [
             [
              "Burkina Faso"
             ],
             {
              "frame": {
               "duration": 0,
               "redraw": true
              },
              "fromcurrent": true,
              "mode": "immediate",
              "transition": {
               "duration": 0,
               "easing": "linear"
              }
             }
            ],
            "label": "Burkina Faso",
            "method": "animate"
           },
           {
            "args": [
             [
              "Cambodia"
             ],
             {
              "frame": {
               "duration": 0,
               "redraw": true
              },
              "fromcurrent": true,
              "mode": "immediate",
              "transition": {
               "duration": 0,
               "easing": "linear"
              }
             }
            ],
            "label": "Cambodia",
            "method": "animate"
           },
           {
            "args": [
             [
              "Cameroon"
             ],
             {
              "frame": {
               "duration": 0,
               "redraw": true
              },
              "fromcurrent": true,
              "mode": "immediate",
              "transition": {
               "duration": 0,
               "easing": "linear"
              }
             }
            ],
            "label": "Cameroon",
            "method": "animate"
           },
           {
            "args": [
             [
              "Canada"
             ],
             {
              "frame": {
               "duration": 0,
               "redraw": true
              },
              "fromcurrent": true,
              "mode": "immediate",
              "transition": {
               "duration": 0,
               "easing": "linear"
              }
             }
            ],
            "label": "Canada",
            "method": "animate"
           },
           {
            "args": [
             [
              "Chile"
             ],
             {
              "frame": {
               "duration": 0,
               "redraw": true
              },
              "fromcurrent": true,
              "mode": "immediate",
              "transition": {
               "duration": 0,
               "easing": "linear"
              }
             }
            ],
            "label": "Chile",
            "method": "animate"
           },
           {
            "args": [
             [
              "China"
             ],
             {
              "frame": {
               "duration": 0,
               "redraw": true
              },
              "fromcurrent": true,
              "mode": "immediate",
              "transition": {
               "duration": 0,
               "easing": "linear"
              }
             }
            ],
            "label": "China",
            "method": "animate"
           },
           {
            "args": [
             [
              "Colombia"
             ],
             {
              "frame": {
               "duration": 0,
               "redraw": true
              },
              "fromcurrent": true,
              "mode": "immediate",
              "transition": {
               "duration": 0,
               "easing": "linear"
              }
             }
            ],
            "label": "Colombia",
            "method": "animate"
           },
           {
            "args": [
             [
              "Congo"
             ],
             {
              "frame": {
               "duration": 0,
               "redraw": true
              },
              "fromcurrent": true,
              "mode": "immediate",
              "transition": {
               "duration": 0,
               "easing": "linear"
              }
             }
            ],
            "label": "Congo",
            "method": "animate"
           },
           {
            "args": [
             [
              "Costa Rica"
             ],
             {
              "frame": {
               "duration": 0,
               "redraw": true
              },
              "fromcurrent": true,
              "mode": "immediate",
              "transition": {
               "duration": 0,
               "easing": "linear"
              }
             }
            ],
            "label": "Costa Rica",
            "method": "animate"
           },
           {
            "args": [
             [
              "Croatia"
             ],
             {
              "frame": {
               "duration": 0,
               "redraw": true
              },
              "fromcurrent": true,
              "mode": "immediate",
              "transition": {
               "duration": 0,
               "easing": "linear"
              }
             }
            ],
            "label": "Croatia",
            "method": "animate"
           },
           {
            "args": [
             [
              "Cuba"
             ],
             {
              "frame": {
               "duration": 0,
               "redraw": true
              },
              "fromcurrent": true,
              "mode": "immediate",
              "transition": {
               "duration": 0,
               "easing": "linear"
              }
             }
            ],
            "label": "Cuba",
            "method": "animate"
           },
           {
            "args": [
             [
              "Cyprus"
             ],
             {
              "frame": {
               "duration": 0,
               "redraw": true
              },
              "fromcurrent": true,
              "mode": "immediate",
              "transition": {
               "duration": 0,
               "easing": "linear"
              }
             }
            ],
            "label": "Cyprus",
            "method": "animate"
           },
           {
            "args": [
             [
              "Czech Republic"
             ],
             {
              "frame": {
               "duration": 0,
               "redraw": true
              },
              "fromcurrent": true,
              "mode": "immediate",
              "transition": {
               "duration": 0,
               "easing": "linear"
              }
             }
            ],
            "label": "Czech Republic",
            "method": "animate"
           },
           {
            "args": [
             [
              "Congo (Kinshasa)"
             ],
             {
              "frame": {
               "duration": 0,
               "redraw": true
              },
              "fromcurrent": true,
              "mode": "immediate",
              "transition": {
               "duration": 0,
               "easing": "linear"
              }
             }
            ],
            "label": "Congo (Kinshasa)",
            "method": "animate"
           },
           {
            "args": [
             [
              "Denmark"
             ],
             {
              "frame": {
               "duration": 0,
               "redraw": true
              },
              "fromcurrent": true,
              "mode": "immediate",
              "transition": {
               "duration": 0,
               "easing": "linear"
              }
             }
            ],
            "label": "Denmark",
            "method": "animate"
           },
           {
            "args": [
             [
              "Djibouti"
             ],
             {
              "frame": {
               "duration": 0,
               "redraw": true
              },
              "fromcurrent": true,
              "mode": "immediate",
              "transition": {
               "duration": 0,
               "easing": "linear"
              }
             }
            ],
            "label": "Djibouti",
            "method": "animate"
           },
           {
            "args": [
             [
              "Dominica"
             ],
             {
              "frame": {
               "duration": 0,
               "redraw": true
              },
              "fromcurrent": true,
              "mode": "immediate",
              "transition": {
               "duration": 0,
               "easing": "linear"
              }
             }
            ],
            "label": "Dominica",
            "method": "animate"
           },
           {
            "args": [
             [
              "Dominican Republic"
             ],
             {
              "frame": {
               "duration": 0,
               "redraw": true
              },
              "fromcurrent": true,
              "mode": "immediate",
              "transition": {
               "duration": 0,
               "easing": "linear"
              }
             }
            ],
            "label": "Dominican Republic",
            "method": "animate"
           },
           {
            "args": [
             [
              "Ecuador"
             ],
             {
              "frame": {
               "duration": 0,
               "redraw": true
              },
              "fromcurrent": true,
              "mode": "immediate",
              "transition": {
               "duration": 0,
               "easing": "linear"
              }
             }
            ],
            "label": "Ecuador",
            "method": "animate"
           },
           {
            "args": [
             [
              "Egypt"
             ],
             {
              "frame": {
               "duration": 0,
               "redraw": true
              },
              "fromcurrent": true,
              "mode": "immediate",
              "transition": {
               "duration": 0,
               "easing": "linear"
              }
             }
            ],
            "label": "Egypt",
            "method": "animate"
           },
           {
            "args": [
             [
              "El Salvador"
             ],
             {
              "frame": {
               "duration": 0,
               "redraw": true
              },
              "fromcurrent": true,
              "mode": "immediate",
              "transition": {
               "duration": 0,
               "easing": "linear"
              }
             }
            ],
            "label": "El Salvador",
            "method": "animate"
           },
           {
            "args": [
             [
              "Estonia"
             ],
             {
              "frame": {
               "duration": 0,
               "redraw": true
              },
              "fromcurrent": true,
              "mode": "immediate",
              "transition": {
               "duration": 0,
               "easing": "linear"
              }
             }
            ],
            "label": "Estonia",
            "method": "animate"
           },
           {
            "args": [
             [
              "Ethiopia"
             ],
             {
              "frame": {
               "duration": 0,
               "redraw": true
              },
              "fromcurrent": true,
              "mode": "immediate",
              "transition": {
               "duration": 0,
               "easing": "linear"
              }
             }
            ],
            "label": "Ethiopia",
            "method": "animate"
           },
           {
            "args": [
             [
              "Faroe Islands"
             ],
             {
              "frame": {
               "duration": 0,
               "redraw": true
              },
              "fromcurrent": true,
              "mode": "immediate",
              "transition": {
               "duration": 0,
               "easing": "linear"
              }
             }
            ],
            "label": "Faroe Islands",
            "method": "animate"
           },
           {
            "args": [
             [
              "Fiji"
             ],
             {
              "frame": {
               "duration": 0,
               "redraw": true
              },
              "fromcurrent": true,
              "mode": "immediate",
              "transition": {
               "duration": 0,
               "easing": "linear"
              }
             }
            ],
            "label": "Fiji",
            "method": "animate"
           },
           {
            "args": [
             [
              "Finland"
             ],
             {
              "frame": {
               "duration": 0,
               "redraw": true
              },
              "fromcurrent": true,
              "mode": "immediate",
              "transition": {
               "duration": 0,
               "easing": "linear"
              }
             }
            ],
            "label": "Finland",
            "method": "animate"
           },
           {
            "args": [
             [
              "France"
             ],
             {
              "frame": {
               "duration": 0,
               "redraw": true
              },
              "fromcurrent": true,
              "mode": "immediate",
              "transition": {
               "duration": 0,
               "easing": "linear"
              }
             }
            ],
            "label": "France",
            "method": "animate"
           },
           {
            "args": [
             [
              "Georgia"
             ],
             {
              "frame": {
               "duration": 0,
               "redraw": true
              },
              "fromcurrent": true,
              "mode": "immediate",
              "transition": {
               "duration": 0,
               "easing": "linear"
              }
             }
            ],
            "label": "Georgia",
            "method": "animate"
           },
           {
            "args": [
             [
              "Germany"
             ],
             {
              "frame": {
               "duration": 0,
               "redraw": true
              },
              "fromcurrent": true,
              "mode": "immediate",
              "transition": {
               "duration": 0,
               "easing": "linear"
              }
             }
            ],
            "label": "Germany",
            "method": "animate"
           },
           {
            "args": [
             [
              "Ghana"
             ],
             {
              "frame": {
               "duration": 0,
               "redraw": true
              },
              "fromcurrent": true,
              "mode": "immediate",
              "transition": {
               "duration": 0,
               "easing": "linear"
              }
             }
            ],
            "label": "Ghana",
            "method": "animate"
           },
           {
            "args": [
             [
              "Greece"
             ],
             {
              "frame": {
               "duration": 0,
               "redraw": true
              },
              "fromcurrent": true,
              "mode": "immediate",
              "transition": {
               "duration": 0,
               "easing": "linear"
              }
             }
            ],
            "label": "Greece",
            "method": "animate"
           },
           {
            "args": [
             [
              "Grenada"
             ],
             {
              "frame": {
               "duration": 0,
               "redraw": true
              },
              "fromcurrent": true,
              "mode": "immediate",
              "transition": {
               "duration": 0,
               "easing": "linear"
              }
             }
            ],
            "label": "Grenada",
            "method": "animate"
           },
           {
            "args": [
             [
              "Guatemala"
             ],
             {
              "frame": {
               "duration": 0,
               "redraw": true
              },
              "fromcurrent": true,
              "mode": "immediate",
              "transition": {
               "duration": 0,
               "easing": "linear"
              }
             }
            ],
            "label": "Guatemala",
            "method": "animate"
           },
           {
            "args": [
             [
              "Guinea"
             ],
             {
              "frame": {
               "duration": 0,
               "redraw": true
              },
              "fromcurrent": true,
              "mode": "immediate",
              "transition": {
               "duration": 0,
               "easing": "linear"
              }
             }
            ],
            "label": "Guinea",
            "method": "animate"
           },
           {
            "args": [
             [
              "Guyana"
             ],
             {
              "frame": {
               "duration": 0,
               "redraw": true
              },
              "fromcurrent": true,
              "mode": "immediate",
              "transition": {
               "duration": 0,
               "easing": "linear"
              }
             }
            ],
            "label": "Guyana",
            "method": "animate"
           },
           {
            "args": [
             [
              "Haiti"
             ],
             {
              "frame": {
               "duration": 0,
               "redraw": true
              },
              "fromcurrent": true,
              "mode": "immediate",
              "transition": {
               "duration": 0,
               "easing": "linear"
              }
             }
            ],
            "label": "Haiti",
            "method": "animate"
           },
           {
            "args": [
             [
              "Honduras"
             ],
             {
              "frame": {
               "duration": 0,
               "redraw": true
              },
              "fromcurrent": true,
              "mode": "immediate",
              "transition": {
               "duration": 0,
               "easing": "linear"
              }
             }
            ],
            "label": "Honduras",
            "method": "animate"
           },
           {
            "args": [
             [
              "Hungary"
             ],
             {
              "frame": {
               "duration": 0,
               "redraw": true
              },
              "fromcurrent": true,
              "mode": "immediate",
              "transition": {
               "duration": 0,
               "easing": "linear"
              }
             }
            ],
            "label": "Hungary",
            "method": "animate"
           },
           {
            "args": [
             [
              "Iceland"
             ],
             {
              "frame": {
               "duration": 0,
               "redraw": true
              },
              "fromcurrent": true,
              "mode": "immediate",
              "transition": {
               "duration": 0,
               "easing": "linear"
              }
             }
            ],
            "label": "Iceland",
            "method": "animate"
           },
           {
            "args": [
             [
              "India"
             ],
             {
              "frame": {
               "duration": 0,
               "redraw": true
              },
              "fromcurrent": true,
              "mode": "immediate",
              "transition": {
               "duration": 0,
               "easing": "linear"
              }
             }
            ],
            "label": "India",
            "method": "animate"
           },
           {
            "args": [
             [
              "Indonesia"
             ],
             {
              "frame": {
               "duration": 0,
               "redraw": true
              },
              "fromcurrent": true,
              "mode": "immediate",
              "transition": {
               "duration": 0,
               "easing": "linear"
              }
             }
            ],
            "label": "Indonesia",
            "method": "animate"
           },
           {
            "args": [
             [
              "Iraq"
             ],
             {
              "frame": {
               "duration": 0,
               "redraw": true
              },
              "fromcurrent": true,
              "mode": "immediate",
              "transition": {
               "duration": 0,
               "easing": "linear"
              }
             }
            ],
            "label": "Iraq",
            "method": "animate"
           },
           {
            "args": [
             [
              "Ireland"
             ],
             {
              "frame": {
               "duration": 0,
               "redraw": true
              },
              "fromcurrent": true,
              "mode": "immediate",
              "transition": {
               "duration": 0,
               "easing": "linear"
              }
             }
            ],
            "label": "Ireland",
            "method": "animate"
           },
           {
            "args": [
             [
              "Israel"
             ],
             {
              "frame": {
               "duration": 0,
               "redraw": true
              },
              "fromcurrent": true,
              "mode": "immediate",
              "transition": {
               "duration": 0,
               "easing": "linear"
              }
             }
            ],
            "label": "Israel",
            "method": "animate"
           },
           {
            "args": [
             [
              "Italy"
             ],
             {
              "frame": {
               "duration": 0,
               "redraw": true
              },
              "fromcurrent": true,
              "mode": "immediate",
              "transition": {
               "duration": 0,
               "easing": "linear"
              }
             }
            ],
            "label": "Italy",
            "method": "animate"
           },
           {
            "args": [
             [
              "Jamaica"
             ],
             {
              "frame": {
               "duration": 0,
               "redraw": true
              },
              "fromcurrent": true,
              "mode": "immediate",
              "transition": {
               "duration": 0,
               "easing": "linear"
              }
             }
            ],
            "label": "Jamaica",
            "method": "animate"
           },
           {
            "args": [
             [
              "Japan"
             ],
             {
              "frame": {
               "duration": 0,
               "redraw": true
              },
              "fromcurrent": true,
              "mode": "immediate",
              "transition": {
               "duration": 0,
               "easing": "linear"
              }
             }
            ],
            "label": "Japan",
            "method": "animate"
           },
           {
            "args": [
             [
              "Jordan"
             ],
             {
              "frame": {
               "duration": 0,
               "redraw": true
              },
              "fromcurrent": true,
              "mode": "immediate",
              "transition": {
               "duration": 0,
               "easing": "linear"
              }
             }
            ],
            "label": "Jordan",
            "method": "animate"
           },
           {
            "args": [
             [
              "Kazakhstan"
             ],
             {
              "frame": {
               "duration": 0,
               "redraw": true
              },
              "fromcurrent": true,
              "mode": "immediate",
              "transition": {
               "duration": 0,
               "easing": "linear"
              }
             }
            ],
            "label": "Kazakhstan",
            "method": "animate"
           },
           {
            "args": [
             [
              "Kenya"
             ],
             {
              "frame": {
               "duration": 0,
               "redraw": true
              },
              "fromcurrent": true,
              "mode": "immediate",
              "transition": {
               "duration": 0,
               "easing": "linear"
              }
             }
            ],
            "label": "Kenya",
            "method": "animate"
           },
           {
            "args": [
             [
              "Kuwait"
             ],
             {
              "frame": {
               "duration": 0,
               "redraw": true
              },
              "fromcurrent": true,
              "mode": "immediate",
              "transition": {
               "duration": 0,
               "easing": "linear"
              }
             }
            ],
            "label": "Kuwait",
            "method": "animate"
           },
           {
            "args": [
             [
              "Kyrgyzstan"
             ],
             {
              "frame": {
               "duration": 0,
               "redraw": true
              },
              "fromcurrent": true,
              "mode": "immediate",
              "transition": {
               "duration": 0,
               "easing": "linear"
              }
             }
            ],
            "label": "Kyrgyzstan",
            "method": "animate"
           },
           {
            "args": [
             [
              "Laos"
             ],
             {
              "frame": {
               "duration": 0,
               "redraw": true
              },
              "fromcurrent": true,
              "mode": "immediate",
              "transition": {
               "duration": 0,
               "easing": "linear"
              }
             }
            ],
            "label": "Laos",
            "method": "animate"
           },
           {
            "args": [
             [
              "Latvia"
             ],
             {
              "frame": {
               "duration": 0,
               "redraw": true
              },
              "fromcurrent": true,
              "mode": "immediate",
              "transition": {
               "duration": 0,
               "easing": "linear"
              }
             }
            ],
            "label": "Latvia",
            "method": "animate"
           },
           {
            "args": [
             [
              "Lebanon"
             ],
             {
              "frame": {
               "duration": 0,
               "redraw": true
              },
              "fromcurrent": true,
              "mode": "immediate",
              "transition": {
               "duration": 0,
               "easing": "linear"
              }
             }
            ],
            "label": "Lebanon",
            "method": "animate"
           },
           {
            "args": [
             [
              "Lesotho"
             ],
             {
              "frame": {
               "duration": 0,
               "redraw": true
              },
              "fromcurrent": true,
              "mode": "immediate",
              "transition": {
               "duration": 0,
               "easing": "linear"
              }
             }
            ],
            "label": "Lesotho",
            "method": "animate"
           },
           {
            "args": [
             [
              "Libya"
             ],
             {
              "frame": {
               "duration": 0,
               "redraw": true
              },
              "fromcurrent": true,
              "mode": "immediate",
              "transition": {
               "duration": 0,
               "easing": "linear"
              }
             }
            ],
            "label": "Libya",
            "method": "animate"
           },
           {
            "args": [
             [
              "Lithuania"
             ],
             {
              "frame": {
               "duration": 0,
               "redraw": true
              },
              "fromcurrent": true,
              "mode": "immediate",
              "transition": {
               "duration": 0,
               "easing": "linear"
              }
             }
            ],
            "label": "Lithuania",
            "method": "animate"
           },
           {
            "args": [
             [
              "Luxembourg"
             ],
             {
              "frame": {
               "duration": 0,
               "redraw": true
              },
              "fromcurrent": true,
              "mode": "immediate",
              "transition": {
               "duration": 0,
               "easing": "linear"
              }
             }
            ],
            "label": "Luxembourg",
            "method": "animate"
           },
           {
            "args": [
             [
              "Madagascar"
             ],
             {
              "frame": {
               "duration": 0,
               "redraw": true
              },
              "fromcurrent": true,
              "mode": "immediate",
              "transition": {
               "duration": 0,
               "easing": "linear"
              }
             }
            ],
            "label": "Madagascar",
            "method": "animate"
           },
           {
            "args": [
             [
              "Malawi"
             ],
             {
              "frame": {
               "duration": 0,
               "redraw": true
              },
              "fromcurrent": true,
              "mode": "immediate",
              "transition": {
               "duration": 0,
               "easing": "linear"
              }
             }
            ],
            "label": "Malawi",
            "method": "animate"
           },
           {
            "args": [
             [
              "Malaysia"
             ],
             {
              "frame": {
               "duration": 0,
               "redraw": true
              },
              "fromcurrent": true,
              "mode": "immediate",
              "transition": {
               "duration": 0,
               "easing": "linear"
              }
             }
            ],
            "label": "Malaysia",
            "method": "animate"
           },
           {
            "args": [
             [
              "Maldives"
             ],
             {
              "frame": {
               "duration": 0,
               "redraw": true
              },
              "fromcurrent": true,
              "mode": "immediate",
              "transition": {
               "duration": 0,
               "easing": "linear"
              }
             }
            ],
            "label": "Maldives",
            "method": "animate"
           },
           {
            "args": [
             [
              "Mali"
             ],
             {
              "frame": {
               "duration": 0,
               "redraw": true
              },
              "fromcurrent": true,
              "mode": "immediate",
              "transition": {
               "duration": 0,
               "easing": "linear"
              }
             }
            ],
            "label": "Mali",
            "method": "animate"
           },
           {
            "args": [
             [
              "Malta"
             ],
             {
              "frame": {
               "duration": 0,
               "redraw": true
              },
              "fromcurrent": true,
              "mode": "immediate",
              "transition": {
               "duration": 0,
               "easing": "linear"
              }
             }
            ],
            "label": "Malta",
            "method": "animate"
           },
           {
            "args": [
             [
              "Mauritius"
             ],
             {
              "frame": {
               "duration": 0,
               "redraw": true
              },
              "fromcurrent": true,
              "mode": "immediate",
              "transition": {
               "duration": 0,
               "easing": "linear"
              }
             }
            ],
            "label": "Mauritius",
            "method": "animate"
           },
           {
            "args": [
             [
              "Mexico"
             ],
             {
              "frame": {
               "duration": 0,
               "redraw": true
              },
              "fromcurrent": true,
              "mode": "immediate",
              "transition": {
               "duration": 0,
               "easing": "linear"
              }
             }
            ],
            "label": "Mexico",
            "method": "animate"
           },
           {
            "args": [
             [
              "Monaco"
             ],
             {
              "frame": {
               "duration": 0,
               "redraw": true
              },
              "fromcurrent": true,
              "mode": "immediate",
              "transition": {
               "duration": 0,
               "easing": "linear"
              }
             }
            ],
            "label": "Monaco",
            "method": "animate"
           },
           {
            "args": [
             [
              "Mongolia"
             ],
             {
              "frame": {
               "duration": 0,
               "redraw": true
              },
              "fromcurrent": true,
              "mode": "immediate",
              "transition": {
               "duration": 0,
               "easing": "linear"
              }
             }
            ],
            "label": "Mongolia",
            "method": "animate"
           },
           {
            "args": [
             [
              "Montenegro"
             ],
             {
              "frame": {
               "duration": 0,
               "redraw": true
              },
              "fromcurrent": true,
              "mode": "immediate",
              "transition": {
               "duration": 0,
               "easing": "linear"
              }
             }
            ],
            "label": "Montenegro",
            "method": "animate"
           },
           {
            "args": [
             [
              "Morocco"
             ],
             {
              "frame": {
               "duration": 0,
               "redraw": true
              },
              "fromcurrent": true,
              "mode": "immediate",
              "transition": {
               "duration": 0,
               "easing": "linear"
              }
             }
            ],
            "label": "Morocco",
            "method": "animate"
           },
           {
            "args": [
             [
              "Mozambique"
             ],
             {
              "frame": {
               "duration": 0,
               "redraw": true
              },
              "fromcurrent": true,
              "mode": "immediate",
              "transition": {
               "duration": 0,
               "easing": "linear"
              }
             }
            ],
            "label": "Mozambique",
            "method": "animate"
           },
           {
            "args": [
             [
              "Myanmar"
             ],
             {
              "frame": {
               "duration": 0,
               "redraw": true
              },
              "fromcurrent": true,
              "mode": "immediate",
              "transition": {
               "duration": 0,
               "easing": "linear"
              }
             }
            ],
            "label": "Myanmar",
            "method": "animate"
           },
           {
            "args": [
             [
              "Namibia"
             ],
             {
              "frame": {
               "duration": 0,
               "redraw": true
              },
              "fromcurrent": true,
              "mode": "immediate",
              "transition": {
               "duration": 0,
               "easing": "linear"
              }
             }
            ],
            "label": "Namibia",
            "method": "animate"
           },
           {
            "args": [
             [
              "Nepal"
             ],
             {
              "frame": {
               "duration": 0,
               "redraw": true
              },
              "fromcurrent": true,
              "mode": "immediate",
              "transition": {
               "duration": 0,
               "easing": "linear"
              }
             }
            ],
            "label": "Nepal",
            "method": "animate"
           },
           {
            "args": [
             [
              "Netherlands"
             ],
             {
              "frame": {
               "duration": 0,
               "redraw": true
              },
              "fromcurrent": true,
              "mode": "immediate",
              "transition": {
               "duration": 0,
               "easing": "linear"
              }
             }
            ],
            "label": "Netherlands",
            "method": "animate"
           },
           {
            "args": [
             [
              "New Zealand"
             ],
             {
              "frame": {
               "duration": 0,
               "redraw": true
              },
              "fromcurrent": true,
              "mode": "immediate",
              "transition": {
               "duration": 0,
               "easing": "linear"
              }
             }
            ],
            "label": "New Zealand",
            "method": "animate"
           },
           {
            "args": [
             [
              "Nicaragua"
             ],
             {
              "frame": {
               "duration": 0,
               "redraw": true
              },
              "fromcurrent": true,
              "mode": "immediate",
              "transition": {
               "duration": 0,
               "easing": "linear"
              }
             }
            ],
            "label": "Nicaragua",
            "method": "animate"
           },
           {
            "args": [
             [
              "Niger"
             ],
             {
              "frame": {
               "duration": 0,
               "redraw": true
              },
              "fromcurrent": true,
              "mode": "immediate",
              "transition": {
               "duration": 0,
               "easing": "linear"
              }
             }
            ],
            "label": "Niger",
            "method": "animate"
           },
           {
            "args": [
             [
              "Nigeria"
             ],
             {
              "frame": {
               "duration": 0,
               "redraw": true
              },
              "fromcurrent": true,
              "mode": "immediate",
              "transition": {
               "duration": 0,
               "easing": "linear"
              }
             }
            ],
            "label": "Nigeria",
            "method": "animate"
           },
           {
            "args": [
             [
              "Macedonia"
             ],
             {
              "frame": {
               "duration": 0,
               "redraw": true
              },
              "fromcurrent": true,
              "mode": "immediate",
              "transition": {
               "duration": 0,
               "easing": "linear"
              }
             }
            ],
            "label": "Macedonia",
            "method": "animate"
           },
           {
            "args": [
             [
              "Norway"
             ],
             {
              "frame": {
               "duration": 0,
               "redraw": true
              },
              "fromcurrent": true,
              "mode": "immediate",
              "transition": {
               "duration": 0,
               "easing": "linear"
              }
             }
            ],
            "label": "Norway",
            "method": "animate"
           },
           {
            "args": [
             [
              "Oman"
             ],
             {
              "frame": {
               "duration": 0,
               "redraw": true
              },
              "fromcurrent": true,
              "mode": "immediate",
              "transition": {
               "duration": 0,
               "easing": "linear"
              }
             }
            ],
            "label": "Oman",
            "method": "animate"
           },
           {
            "args": [
             [
              "Pakistan"
             ],
             {
              "frame": {
               "duration": 0,
               "redraw": true
              },
              "fromcurrent": true,
              "mode": "immediate",
              "transition": {
               "duration": 0,
               "easing": "linear"
              }
             }
            ],
            "label": "Pakistan",
            "method": "animate"
           },
           {
            "args": [
             [
              "Panama"
             ],
             {
              "frame": {
               "duration": 0,
               "redraw": true
              },
              "fromcurrent": true,
              "mode": "immediate",
              "transition": {
               "duration": 0,
               "easing": "linear"
              }
             }
            ],
            "label": "Panama",
            "method": "animate"
           },
           {
            "args": [
             [
              "Papua New Guinea"
             ],
             {
              "frame": {
               "duration": 0,
               "redraw": true
              },
              "fromcurrent": true,
              "mode": "immediate",
              "transition": {
               "duration": 0,
               "easing": "linear"
              }
             }
            ],
            "label": "Papua New Guinea",
            "method": "animate"
           },
           {
            "args": [
             [
              "Paraguay"
             ],
             {
              "frame": {
               "duration": 0,
               "redraw": true
              },
              "fromcurrent": true,
              "mode": "immediate",
              "transition": {
               "duration": 0,
               "easing": "linear"
              }
             }
            ],
            "label": "Paraguay",
            "method": "animate"
           },
           {
            "args": [
             [
              "Peru"
             ],
             {
              "frame": {
               "duration": 0,
               "redraw": true
              },
              "fromcurrent": true,
              "mode": "immediate",
              "transition": {
               "duration": 0,
               "easing": "linear"
              }
             }
            ],
            "label": "Peru",
            "method": "animate"
           },
           {
            "args": [
             [
              "Philippines"
             ],
             {
              "frame": {
               "duration": 0,
               "redraw": true
              },
              "fromcurrent": true,
              "mode": "immediate",
              "transition": {
               "duration": 0,
               "easing": "linear"
              }
             }
            ],
            "label": "Philippines",
            "method": "animate"
           },
           {
            "args": [
             [
              "Poland"
             ],
             {
              "frame": {
               "duration": 0,
               "redraw": true
              },
              "fromcurrent": true,
              "mode": "immediate",
              "transition": {
               "duration": 0,
               "easing": "linear"
              }
             }
            ],
            "label": "Poland",
            "method": "animate"
           },
           {
            "args": [
             [
              "Portugal"
             ],
             {
              "frame": {
               "duration": 0,
               "redraw": true
              },
              "fromcurrent": true,
              "mode": "immediate",
              "transition": {
               "duration": 0,
               "easing": "linear"
              }
             }
            ],
            "label": "Portugal",
            "method": "animate"
           },
           {
            "args": [
             [
              "Qatar"
             ],
             {
              "frame": {
               "duration": 0,
               "redraw": true
              },
              "fromcurrent": true,
              "mode": "immediate",
              "transition": {
               "duration": 0,
               "easing": "linear"
              }
             }
            ],
            "label": "Qatar",
            "method": "animate"
           },
           {
            "args": [
             [
              "South Korea"
             ],
             {
              "frame": {
               "duration": 0,
               "redraw": true
              },
              "fromcurrent": true,
              "mode": "immediate",
              "transition": {
               "duration": 0,
               "easing": "linear"
              }
             }
            ],
            "label": "South Korea",
            "method": "animate"
           },
           {
            "args": [
             [
              "Moldova"
             ],
             {
              "frame": {
               "duration": 0,
               "redraw": true
              },
              "fromcurrent": true,
              "mode": "immediate",
              "transition": {
               "duration": 0,
               "easing": "linear"
              }
             }
            ],
            "label": "Moldova",
            "method": "animate"
           },
           {
            "args": [
             [
              "Romania"
             ],
             {
              "frame": {
               "duration": 0,
               "redraw": true
              },
              "fromcurrent": true,
              "mode": "immediate",
              "transition": {
               "duration": 0,
               "easing": "linear"
              }
             }
            ],
            "label": "Romania",
            "method": "animate"
           },
           {
            "args": [
             [
              "Russia"
             ],
             {
              "frame": {
               "duration": 0,
               "redraw": true
              },
              "fromcurrent": true,
              "mode": "immediate",
              "transition": {
               "duration": 0,
               "easing": "linear"
              }
             }
            ],
            "label": "Russia",
            "method": "animate"
           },
           {
            "args": [
             [
              "Rwanda"
             ],
             {
              "frame": {
               "duration": 0,
               "redraw": true
              },
              "fromcurrent": true,
              "mode": "immediate",
              "transition": {
               "duration": 0,
               "easing": "linear"
              }
             }
            ],
            "label": "Rwanda",
            "method": "animate"
           },
           {
            "args": [
             [
              "Saint Kitts and Nevis"
             ],
             {
              "frame": {
               "duration": 0,
               "redraw": true
              },
              "fromcurrent": true,
              "mode": "immediate",
              "transition": {
               "duration": 0,
               "easing": "linear"
              }
             }
            ],
            "label": "Saint Kitts and Nevis",
            "method": "animate"
           },
           {
            "args": [
             [
              "Saint Lucia"
             ],
             {
              "frame": {
               "duration": 0,
               "redraw": true
              },
              "fromcurrent": true,
              "mode": "immediate",
              "transition": {
               "duration": 0,
               "easing": "linear"
              }
             }
            ],
            "label": "Saint Lucia",
            "method": "animate"
           },
           {
            "args": [
             [
              "Saint Vincent and the Grenadines"
             ],
             {
              "frame": {
               "duration": 0,
               "redraw": true
              },
              "fromcurrent": true,
              "mode": "immediate",
              "transition": {
               "duration": 0,
               "easing": "linear"
              }
             }
            ],
            "label": "Saint Vincent and the Grenadines",
            "method": "animate"
           },
           {
            "args": [
             [
              "Saudi Arabia"
             ],
             {
              "frame": {
               "duration": 0,
               "redraw": true
              },
              "fromcurrent": true,
              "mode": "immediate",
              "transition": {
               "duration": 0,
               "easing": "linear"
              }
             }
            ],
            "label": "Saudi Arabia",
            "method": "animate"
           },
           {
            "args": [
             [
              "Senegal"
             ],
             {
              "frame": {
               "duration": 0,
               "redraw": true
              },
              "fromcurrent": true,
              "mode": "immediate",
              "transition": {
               "duration": 0,
               "easing": "linear"
              }
             }
            ],
            "label": "Senegal",
            "method": "animate"
           },
           {
            "args": [
             [
              "Serbia"
             ],
             {
              "frame": {
               "duration": 0,
               "redraw": true
              },
              "fromcurrent": true,
              "mode": "immediate",
              "transition": {
               "duration": 0,
               "easing": "linear"
              }
             }
            ],
            "label": "Serbia",
            "method": "animate"
           },
           {
            "args": [
             [
              "Seychelles"
             ],
             {
              "frame": {
               "duration": 0,
               "redraw": true
              },
              "fromcurrent": true,
              "mode": "immediate",
              "transition": {
               "duration": 0,
               "easing": "linear"
              }
             }
            ],
            "label": "Seychelles",
            "method": "animate"
           },
           {
            "args": [
             [
              "Singapore"
             ],
             {
              "frame": {
               "duration": 0,
               "redraw": true
              },
              "fromcurrent": true,
              "mode": "immediate",
              "transition": {
               "duration": 0,
               "easing": "linear"
              }
             }
            ],
            "label": "Singapore",
            "method": "animate"
           },
           {
            "args": [
             [
              "Slovakia"
             ],
             {
              "frame": {
               "duration": 0,
               "redraw": true
              },
              "fromcurrent": true,
              "mode": "immediate",
              "transition": {
               "duration": 0,
               "easing": "linear"
              }
             }
            ],
            "label": "Slovakia",
            "method": "animate"
           },
           {
            "args": [
             [
              "Slovenia"
             ],
             {
              "frame": {
               "duration": 0,
               "redraw": true
              },
              "fromcurrent": true,
              "mode": "immediate",
              "transition": {
               "duration": 0,
               "easing": "linear"
              }
             }
            ],
            "label": "Slovenia",
            "method": "animate"
           },
           {
            "args": [
             [
              "Somalia"
             ],
             {
              "frame": {
               "duration": 0,
               "redraw": true
              },
              "fromcurrent": true,
              "mode": "immediate",
              "transition": {
               "duration": 0,
               "easing": "linear"
              }
             }
            ],
            "label": "Somalia",
            "method": "animate"
           },
           {
            "args": [
             [
              "South Africa"
             ],
             {
              "frame": {
               "duration": 0,
               "redraw": true
              },
              "fromcurrent": true,
              "mode": "immediate",
              "transition": {
               "duration": 0,
               "easing": "linear"
              }
             }
            ],
            "label": "South Africa",
            "method": "animate"
           },
           {
            "args": [
             [
              "Spain"
             ],
             {
              "frame": {
               "duration": 0,
               "redraw": true
              },
              "fromcurrent": true,
              "mode": "immediate",
              "transition": {
               "duration": 0,
               "easing": "linear"
              }
             }
            ],
            "label": "Spain",
            "method": "animate"
           },
           {
            "args": [
             [
              "Sri Lanka"
             ],
             {
              "frame": {
               "duration": 0,
               "redraw": true
              },
              "fromcurrent": true,
              "mode": "immediate",
              "transition": {
               "duration": 0,
               "easing": "linear"
              }
             }
            ],
            "label": "Sri Lanka",
            "method": "animate"
           },
           {
            "args": [
             [
              "Sudan"
             ],
             {
              "frame": {
               "duration": 0,
               "redraw": true
              },
              "fromcurrent": true,
              "mode": "immediate",
              "transition": {
               "duration": 0,
               "easing": "linear"
              }
             }
            ],
            "label": "Sudan",
            "method": "animate"
           },
           {
            "args": [
             [
              "Suriname"
             ],
             {
              "frame": {
               "duration": 0,
               "redraw": true
              },
              "fromcurrent": true,
              "mode": "immediate",
              "transition": {
               "duration": 0,
               "easing": "linear"
              }
             }
            ],
            "label": "Suriname",
            "method": "animate"
           },
           {
            "args": [
             [
              "Sweden"
             ],
             {
              "frame": {
               "duration": 0,
               "redraw": true
              },
              "fromcurrent": true,
              "mode": "immediate",
              "transition": {
               "duration": 0,
               "easing": "linear"
              }
             }
            ],
            "label": "Sweden",
            "method": "animate"
           },
           {
            "args": [
             [
              "Switzerland"
             ],
             {
              "frame": {
               "duration": 0,
               "redraw": true
              },
              "fromcurrent": true,
              "mode": "immediate",
              "transition": {
               "duration": 0,
               "easing": "linear"
              }
             }
            ],
            "label": "Switzerland",
            "method": "animate"
           },
           {
            "args": [
             [
              "Syria"
             ],
             {
              "frame": {
               "duration": 0,
               "redraw": true
              },
              "fromcurrent": true,
              "mode": "immediate",
              "transition": {
               "duration": 0,
               "easing": "linear"
              }
             }
            ],
            "label": "Syria",
            "method": "animate"
           },
           {
            "args": [
             [
              "Tajikistan"
             ],
             {
              "frame": {
               "duration": 0,
               "redraw": true
              },
              "fromcurrent": true,
              "mode": "immediate",
              "transition": {
               "duration": 0,
               "easing": "linear"
              }
             }
            ],
            "label": "Tajikistan",
            "method": "animate"
           },
           {
            "args": [
             [
              "Thailand"
             ],
             {
              "frame": {
               "duration": 0,
               "redraw": true
              },
              "fromcurrent": true,
              "mode": "immediate",
              "transition": {
               "duration": 0,
               "easing": "linear"
              }
             }
            ],
            "label": "Thailand",
            "method": "animate"
           },
           {
            "args": [
             [
              "Trinidad and Tobago"
             ],
             {
              "frame": {
               "duration": 0,
               "redraw": true
              },
              "fromcurrent": true,
              "mode": "immediate",
              "transition": {
               "duration": 0,
               "easing": "linear"
              }
             }
            ],
            "label": "Trinidad and Tobago",
            "method": "animate"
           },
           {
            "args": [
             [
              "Tunisia"
             ],
             {
              "frame": {
               "duration": 0,
               "redraw": true
              },
              "fromcurrent": true,
              "mode": "immediate",
              "transition": {
               "duration": 0,
               "easing": "linear"
              }
             }
            ],
            "label": "Tunisia",
            "method": "animate"
           },
           {
            "args": [
             [
              "Turkey"
             ],
             {
              "frame": {
               "duration": 0,
               "redraw": true
              },
              "fromcurrent": true,
              "mode": "immediate",
              "transition": {
               "duration": 0,
               "easing": "linear"
              }
             }
            ],
            "label": "Turkey",
            "method": "animate"
           },
           {
            "args": [
             [
              "Uganda"
             ],
             {
              "frame": {
               "duration": 0,
               "redraw": true
              },
              "fromcurrent": true,
              "mode": "immediate",
              "transition": {
               "duration": 0,
               "easing": "linear"
              }
             }
            ],
            "label": "Uganda",
            "method": "animate"
           },
           {
            "args": [
             [
              "Ukraine"
             ],
             {
              "frame": {
               "duration": 0,
               "redraw": true
              },
              "fromcurrent": true,
              "mode": "immediate",
              "transition": {
               "duration": 0,
               "easing": "linear"
              }
             }
            ],
            "label": "Ukraine",
            "method": "animate"
           },
           {
            "args": [
             [
              "United Arab Emirates"
             ],
             {
              "frame": {
               "duration": 0,
               "redraw": true
              },
              "fromcurrent": true,
              "mode": "immediate",
              "transition": {
               "duration": 0,
               "easing": "linear"
              }
             }
            ],
            "label": "United Arab Emirates",
            "method": "animate"
           },
           {
            "args": [
             [
              "United Kingdom"
             ],
             {
              "frame": {
               "duration": 0,
               "redraw": true
              },
              "fromcurrent": true,
              "mode": "immediate",
              "transition": {
               "duration": 0,
               "easing": "linear"
              }
             }
            ],
            "label": "United Kingdom",
            "method": "animate"
           },
           {
            "args": [
             [
              "Tanzania"
             ],
             {
              "frame": {
               "duration": 0,
               "redraw": true
              },
              "fromcurrent": true,
              "mode": "immediate",
              "transition": {
               "duration": 0,
               "easing": "linear"
              }
             }
            ],
            "label": "Tanzania",
            "method": "animate"
           },
           {
            "args": [
             [
              "United States"
             ],
             {
              "frame": {
               "duration": 0,
               "redraw": true
              },
              "fromcurrent": true,
              "mode": "immediate",
              "transition": {
               "duration": 0,
               "easing": "linear"
              }
             }
            ],
            "label": "United States",
            "method": "animate"
           },
           {
            "args": [
             [
              "Uruguay"
             ],
             {
              "frame": {
               "duration": 0,
               "redraw": true
              },
              "fromcurrent": true,
              "mode": "immediate",
              "transition": {
               "duration": 0,
               "easing": "linear"
              }
             }
            ],
            "label": "Uruguay",
            "method": "animate"
           },
           {
            "args": [
             [
              "Uzbekistan"
             ],
             {
              "frame": {
               "duration": 0,
               "redraw": true
              },
              "fromcurrent": true,
              "mode": "immediate",
              "transition": {
               "duration": 0,
               "easing": "linear"
              }
             }
            ],
            "label": "Uzbekistan",
            "method": "animate"
           },
           {
            "args": [
             [
              "Vanuatu"
             ],
             {
              "frame": {
               "duration": 0,
               "redraw": true
              },
              "fromcurrent": true,
              "mode": "immediate",
              "transition": {
               "duration": 0,
               "easing": "linear"
              }
             }
            ],
            "label": "Vanuatu",
            "method": "animate"
           },
           {
            "args": [
             [
              "Vietnam"
             ],
             {
              "frame": {
               "duration": 0,
               "redraw": true
              },
              "fromcurrent": true,
              "mode": "immediate",
              "transition": {
               "duration": 0,
               "easing": "linear"
              }
             }
            ],
            "label": "Vietnam",
            "method": "animate"
           },
           {
            "args": [
             [
              "Yemen"
             ],
             {
              "frame": {
               "duration": 0,
               "redraw": true
              },
              "fromcurrent": true,
              "mode": "immediate",
              "transition": {
               "duration": 0,
               "easing": "linear"
              }
             }
            ],
            "label": "Yemen",
            "method": "animate"
           },
           {
            "args": [
             [
              "Zambia"
             ],
             {
              "frame": {
               "duration": 0,
               "redraw": true
              },
              "fromcurrent": true,
              "mode": "immediate",
              "transition": {
               "duration": 0,
               "easing": "linear"
              }
             }
            ],
            "label": "Zambia",
            "method": "animate"
           },
           {
            "args": [
             [
              "Zimbabwe"
             ],
             {
              "frame": {
               "duration": 0,
               "redraw": true
              },
              "fromcurrent": true,
              "mode": "immediate",
              "transition": {
               "duration": 0,
               "easing": "linear"
              }
             }
            ],
            "label": "Zimbabwe",
            "method": "animate"
           }
          ],
          "x": 0.1,
          "xanchor": "left",
          "y": 0,
          "yanchor": "top"
         }
        ],
        "template": {
         "data": {
          "bar": [
           {
            "error_x": {
             "color": "#2a3f5f"
            },
            "error_y": {
             "color": "#2a3f5f"
            },
            "marker": {
             "line": {
              "color": "#E5ECF6",
              "width": 0.5
             },
             "pattern": {
              "fillmode": "overlay",
              "size": 10,
              "solidity": 0.2
             }
            },
            "type": "bar"
           }
          ],
          "barpolar": [
           {
            "marker": {
             "line": {
              "color": "#E5ECF6",
              "width": 0.5
             },
             "pattern": {
              "fillmode": "overlay",
              "size": 10,
              "solidity": 0.2
             }
            },
            "type": "barpolar"
           }
          ],
          "carpet": [
           {
            "aaxis": {
             "endlinecolor": "#2a3f5f",
             "gridcolor": "white",
             "linecolor": "white",
             "minorgridcolor": "white",
             "startlinecolor": "#2a3f5f"
            },
            "baxis": {
             "endlinecolor": "#2a3f5f",
             "gridcolor": "white",
             "linecolor": "white",
             "minorgridcolor": "white",
             "startlinecolor": "#2a3f5f"
            },
            "type": "carpet"
           }
          ],
          "choropleth": [
           {
            "colorbar": {
             "outlinewidth": 0,
             "ticks": ""
            },
            "type": "choropleth"
           }
          ],
          "contour": [
           {
            "colorbar": {
             "outlinewidth": 0,
             "ticks": ""
            },
            "colorscale": [
             [
              0,
              "#0d0887"
             ],
             [
              0.1111111111111111,
              "#46039f"
             ],
             [
              0.2222222222222222,
              "#7201a8"
             ],
             [
              0.3333333333333333,
              "#9c179e"
             ],
             [
              0.4444444444444444,
              "#bd3786"
             ],
             [
              0.5555555555555556,
              "#d8576b"
             ],
             [
              0.6666666666666666,
              "#ed7953"
             ],
             [
              0.7777777777777778,
              "#fb9f3a"
             ],
             [
              0.8888888888888888,
              "#fdca26"
             ],
             [
              1,
              "#f0f921"
             ]
            ],
            "type": "contour"
           }
          ],
          "contourcarpet": [
           {
            "colorbar": {
             "outlinewidth": 0,
             "ticks": ""
            },
            "type": "contourcarpet"
           }
          ],
          "heatmap": [
           {
            "colorbar": {
             "outlinewidth": 0,
             "ticks": ""
            },
            "colorscale": [
             [
              0,
              "#0d0887"
             ],
             [
              0.1111111111111111,
              "#46039f"
             ],
             [
              0.2222222222222222,
              "#7201a8"
             ],
             [
              0.3333333333333333,
              "#9c179e"
             ],
             [
              0.4444444444444444,
              "#bd3786"
             ],
             [
              0.5555555555555556,
              "#d8576b"
             ],
             [
              0.6666666666666666,
              "#ed7953"
             ],
             [
              0.7777777777777778,
              "#fb9f3a"
             ],
             [
              0.8888888888888888,
              "#fdca26"
             ],
             [
              1,
              "#f0f921"
             ]
            ],
            "type": "heatmap"
           }
          ],
          "heatmapgl": [
           {
            "colorbar": {
             "outlinewidth": 0,
             "ticks": ""
            },
            "colorscale": [
             [
              0,
              "#0d0887"
             ],
             [
              0.1111111111111111,
              "#46039f"
             ],
             [
              0.2222222222222222,
              "#7201a8"
             ],
             [
              0.3333333333333333,
              "#9c179e"
             ],
             [
              0.4444444444444444,
              "#bd3786"
             ],
             [
              0.5555555555555556,
              "#d8576b"
             ],
             [
              0.6666666666666666,
              "#ed7953"
             ],
             [
              0.7777777777777778,
              "#fb9f3a"
             ],
             [
              0.8888888888888888,
              "#fdca26"
             ],
             [
              1,
              "#f0f921"
             ]
            ],
            "type": "heatmapgl"
           }
          ],
          "histogram": [
           {
            "marker": {
             "pattern": {
              "fillmode": "overlay",
              "size": 10,
              "solidity": 0.2
             }
            },
            "type": "histogram"
           }
          ],
          "histogram2d": [
           {
            "colorbar": {
             "outlinewidth": 0,
             "ticks": ""
            },
            "colorscale": [
             [
              0,
              "#0d0887"
             ],
             [
              0.1111111111111111,
              "#46039f"
             ],
             [
              0.2222222222222222,
              "#7201a8"
             ],
             [
              0.3333333333333333,
              "#9c179e"
             ],
             [
              0.4444444444444444,
              "#bd3786"
             ],
             [
              0.5555555555555556,
              "#d8576b"
             ],
             [
              0.6666666666666666,
              "#ed7953"
             ],
             [
              0.7777777777777778,
              "#fb9f3a"
             ],
             [
              0.8888888888888888,
              "#fdca26"
             ],
             [
              1,
              "#f0f921"
             ]
            ],
            "type": "histogram2d"
           }
          ],
          "histogram2dcontour": [
           {
            "colorbar": {
             "outlinewidth": 0,
             "ticks": ""
            },
            "colorscale": [
             [
              0,
              "#0d0887"
             ],
             [
              0.1111111111111111,
              "#46039f"
             ],
             [
              0.2222222222222222,
              "#7201a8"
             ],
             [
              0.3333333333333333,
              "#9c179e"
             ],
             [
              0.4444444444444444,
              "#bd3786"
             ],
             [
              0.5555555555555556,
              "#d8576b"
             ],
             [
              0.6666666666666666,
              "#ed7953"
             ],
             [
              0.7777777777777778,
              "#fb9f3a"
             ],
             [
              0.8888888888888888,
              "#fdca26"
             ],
             [
              1,
              "#f0f921"
             ]
            ],
            "type": "histogram2dcontour"
           }
          ],
          "mesh3d": [
           {
            "colorbar": {
             "outlinewidth": 0,
             "ticks": ""
            },
            "type": "mesh3d"
           }
          ],
          "parcoords": [
           {
            "line": {
             "colorbar": {
              "outlinewidth": 0,
              "ticks": ""
             }
            },
            "type": "parcoords"
           }
          ],
          "pie": [
           {
            "automargin": true,
            "type": "pie"
           }
          ],
          "scatter": [
           {
            "marker": {
             "colorbar": {
              "outlinewidth": 0,
              "ticks": ""
             }
            },
            "type": "scatter"
           }
          ],
          "scatter3d": [
           {
            "line": {
             "colorbar": {
              "outlinewidth": 0,
              "ticks": ""
             }
            },
            "marker": {
             "colorbar": {
              "outlinewidth": 0,
              "ticks": ""
             }
            },
            "type": "scatter3d"
           }
          ],
          "scattercarpet": [
           {
            "marker": {
             "colorbar": {
              "outlinewidth": 0,
              "ticks": ""
             }
            },
            "type": "scattercarpet"
           }
          ],
          "scattergeo": [
           {
            "marker": {
             "colorbar": {
              "outlinewidth": 0,
              "ticks": ""
             }
            },
            "type": "scattergeo"
           }
          ],
          "scattergl": [
           {
            "marker": {
             "colorbar": {
              "outlinewidth": 0,
              "ticks": ""
             }
            },
            "type": "scattergl"
           }
          ],
          "scattermapbox": [
           {
            "marker": {
             "colorbar": {
              "outlinewidth": 0,
              "ticks": ""
             }
            },
            "type": "scattermapbox"
           }
          ],
          "scatterpolar": [
           {
            "marker": {
             "colorbar": {
              "outlinewidth": 0,
              "ticks": ""
             }
            },
            "type": "scatterpolar"
           }
          ],
          "scatterpolargl": [
           {
            "marker": {
             "colorbar": {
              "outlinewidth": 0,
              "ticks": ""
             }
            },
            "type": "scatterpolargl"
           }
          ],
          "scatterternary": [
           {
            "marker": {
             "colorbar": {
              "outlinewidth": 0,
              "ticks": ""
             }
            },
            "type": "scatterternary"
           }
          ],
          "surface": [
           {
            "colorbar": {
             "outlinewidth": 0,
             "ticks": ""
            },
            "colorscale": [
             [
              0,
              "#0d0887"
             ],
             [
              0.1111111111111111,
              "#46039f"
             ],
             [
              0.2222222222222222,
              "#7201a8"
             ],
             [
              0.3333333333333333,
              "#9c179e"
             ],
             [
              0.4444444444444444,
              "#bd3786"
             ],
             [
              0.5555555555555556,
              "#d8576b"
             ],
             [
              0.6666666666666666,
              "#ed7953"
             ],
             [
              0.7777777777777778,
              "#fb9f3a"
             ],
             [
              0.8888888888888888,
              "#fdca26"
             ],
             [
              1,
              "#f0f921"
             ]
            ],
            "type": "surface"
           }
          ],
          "table": [
           {
            "cells": {
             "fill": {
              "color": "#EBF0F8"
             },
             "line": {
              "color": "white"
             }
            },
            "header": {
             "fill": {
              "color": "#C8D4E3"
             },
             "line": {
              "color": "white"
             }
            },
            "type": "table"
           }
          ]
         },
         "layout": {
          "annotationdefaults": {
           "arrowcolor": "#2a3f5f",
           "arrowhead": 0,
           "arrowwidth": 1
          },
          "autotypenumbers": "strict",
          "coloraxis": {
           "colorbar": {
            "outlinewidth": 0,
            "ticks": ""
           }
          },
          "colorscale": {
           "diverging": [
            [
             0,
             "#8e0152"
            ],
            [
             0.1,
             "#c51b7d"
            ],
            [
             0.2,
             "#de77ae"
            ],
            [
             0.3,
             "#f1b6da"
            ],
            [
             0.4,
             "#fde0ef"
            ],
            [
             0.5,
             "#f7f7f7"
            ],
            [
             0.6,
             "#e6f5d0"
            ],
            [
             0.7,
             "#b8e186"
            ],
            [
             0.8,
             "#7fbc41"
            ],
            [
             0.9,
             "#4d9221"
            ],
            [
             1,
             "#276419"
            ]
           ],
           "sequential": [
            [
             0,
             "#0d0887"
            ],
            [
             0.1111111111111111,
             "#46039f"
            ],
            [
             0.2222222222222222,
             "#7201a8"
            ],
            [
             0.3333333333333333,
             "#9c179e"
            ],
            [
             0.4444444444444444,
             "#bd3786"
            ],
            [
             0.5555555555555556,
             "#d8576b"
            ],
            [
             0.6666666666666666,
             "#ed7953"
            ],
            [
             0.7777777777777778,
             "#fb9f3a"
            ],
            [
             0.8888888888888888,
             "#fdca26"
            ],
            [
             1,
             "#f0f921"
            ]
           ],
           "sequentialminus": [
            [
             0,
             "#0d0887"
            ],
            [
             0.1111111111111111,
             "#46039f"
            ],
            [
             0.2222222222222222,
             "#7201a8"
            ],
            [
             0.3333333333333333,
             "#9c179e"
            ],
            [
             0.4444444444444444,
             "#bd3786"
            ],
            [
             0.5555555555555556,
             "#d8576b"
            ],
            [
             0.6666666666666666,
             "#ed7953"
            ],
            [
             0.7777777777777778,
             "#fb9f3a"
            ],
            [
             0.8888888888888888,
             "#fdca26"
            ],
            [
             1,
             "#f0f921"
            ]
           ]
          },
          "colorway": [
           "#636efa",
           "#EF553B",
           "#00cc96",
           "#ab63fa",
           "#FFA15A",
           "#19d3f3",
           "#FF6692",
           "#B6E880",
           "#FF97FF",
           "#FECB52"
          ],
          "font": {
           "color": "#2a3f5f"
          },
          "geo": {
           "bgcolor": "white",
           "lakecolor": "white",
           "landcolor": "#E5ECF6",
           "showlakes": true,
           "showland": true,
           "subunitcolor": "white"
          },
          "hoverlabel": {
           "align": "left"
          },
          "hovermode": "closest",
          "mapbox": {
           "style": "light"
          },
          "paper_bgcolor": "white",
          "plot_bgcolor": "#E5ECF6",
          "polar": {
           "angularaxis": {
            "gridcolor": "white",
            "linecolor": "white",
            "ticks": ""
           },
           "bgcolor": "#E5ECF6",
           "radialaxis": {
            "gridcolor": "white",
            "linecolor": "white",
            "ticks": ""
           }
          },
          "scene": {
           "xaxis": {
            "backgroundcolor": "#E5ECF6",
            "gridcolor": "white",
            "gridwidth": 2,
            "linecolor": "white",
            "showbackground": true,
            "ticks": "",
            "zerolinecolor": "white"
           },
           "yaxis": {
            "backgroundcolor": "#E5ECF6",
            "gridcolor": "white",
            "gridwidth": 2,
            "linecolor": "white",
            "showbackground": true,
            "ticks": "",
            "zerolinecolor": "white"
           },
           "zaxis": {
            "backgroundcolor": "#E5ECF6",
            "gridcolor": "white",
            "gridwidth": 2,
            "linecolor": "white",
            "showbackground": true,
            "ticks": "",
            "zerolinecolor": "white"
           }
          },
          "shapedefaults": {
           "line": {
            "color": "#2a3f5f"
           }
          },
          "ternary": {
           "aaxis": {
            "gridcolor": "white",
            "linecolor": "white",
            "ticks": ""
           },
           "baxis": {
            "gridcolor": "white",
            "linecolor": "white",
            "ticks": ""
           },
           "bgcolor": "#E5ECF6",
           "caxis": {
            "gridcolor": "white",
            "linecolor": "white",
            "ticks": ""
           }
          },
          "title": {
           "x": 0.05
          },
          "xaxis": {
           "automargin": true,
           "gridcolor": "white",
           "linecolor": "white",
           "ticks": "",
           "title": {
            "standoff": 15
           },
           "zerolinecolor": "white",
           "zerolinewidth": 2
          },
          "yaxis": {
           "automargin": true,
           "gridcolor": "white",
           "linecolor": "white",
           "ticks": "",
           "title": {
            "standoff": 15
           },
           "zerolinecolor": "white",
           "zerolinewidth": 2
          }
         }
        },
        "updatemenus": [
         {
          "buttons": [
           {
            "args": [
             null,
             {
              "frame": {
               "duration": 500,
               "redraw": true
              },
              "fromcurrent": true,
              "mode": "immediate",
              "transition": {
               "duration": 500,
               "easing": "linear"
              }
             }
            ],
            "label": "&#9654;",
            "method": "animate"
           },
           {
            "args": [
             [
              null
             ],
             {
              "frame": {
               "duration": 0,
               "redraw": true
              },
              "fromcurrent": true,
              "mode": "immediate",
              "transition": {
               "duration": 0,
               "easing": "linear"
              }
             }
            ],
            "label": "&#9724;",
            "method": "animate"
           }
          ],
          "direction": "left",
          "pad": {
           "r": 10,
           "t": 70
          },
          "showactive": false,
          "type": "buttons",
          "x": 0.1,
          "xanchor": "right",
          "y": 0,
          "yanchor": "top"
         }
        ]
       }
      },
      "text/html": [
       "<div>                            <div id=\"de3e0034-5fb2-4eb3-836d-52c505ef2c22\" class=\"plotly-graph-div\" style=\"height:525px; width:100%;\"></div>            <script type=\"text/javascript\">                require([\"plotly\"], function(Plotly) {                    window.PLOTLYENV=window.PLOTLYENV || {};                                    if (document.getElementById(\"de3e0034-5fb2-4eb3-836d-52c505ef2c22\")) {                    Plotly.newPlot(                        \"de3e0034-5fb2-4eb3-836d-52c505ef2c22\",                        [{\"hovertemplate\":\"Country=Afghanistan<br>value=%{r}<br>variable=%{theta}<extra></extra>\",\"legendgroup\":\"\",\"line\":{\"color\":\"#636efa\",\"dash\":\"solid\"},\"marker\":{\"symbol\":\"circle\"},\"mode\":\"lines\",\"name\":\"\",\"r\":[0.0798,0.0594,0.0482,0.0412,0.0406,0.039,0.039,0.0377,0.0364,0.0361,0.0348,0.0316,0.0313,0.0291,0.0291,0.0291,0.0281,0.0275,0.0268,0.0252,0.0249,0.0233,0.0233,0.0227,0.022,0.022,0.0214,0.0204,0.0197999999999999,0.0182,0.0169,0.015,0.0798],\"showlegend\":false,\"subplot\":\"polar\",\"theta\":[\"ESTJ-A\",\"ESFJ-A\",\"INFP-T\",\"ESFJ-T\",\"ENFP-T\",\"ENFP-A\",\"ESTJ-T\",\"ISFJ-T\",\"ENFJ-A\",\"ESTP-A\",\"ISTJ-A\",\"INTP-T\",\"INFJ-T\",\"ISFP-T\",\"ENTJ-A\",\"ESTP-T\",\"ISTJ-T\",\"ESFP-T\",\"ENTP-A\",\"ESFP-A\",\"INTJ-T\",\"ISFJ-A\",\"INTP-A\",\"ENTP-T\",\"ISTP-T\",\"ENTJ-T\",\"ISTP-A\",\"INFP-A\",\"ENFJ-T\",\"INTJ-A\",\"ISFP-A\",\"INFJ-A\",\"ESTJ-A\"],\"type\":\"scatterpolar\"}],                        {\"template\":{\"data\":{\"bar\":[{\"error_x\":{\"color\":\"#2a3f5f\"},\"error_y\":{\"color\":\"#2a3f5f\"},\"marker\":{\"line\":{\"color\":\"#E5ECF6\",\"width\":0.5},\"pattern\":{\"fillmode\":\"overlay\",\"size\":10,\"solidity\":0.2}},\"type\":\"bar\"}],\"barpolar\":[{\"marker\":{\"line\":{\"color\":\"#E5ECF6\",\"width\":0.5},\"pattern\":{\"fillmode\":\"overlay\",\"size\":10,\"solidity\":0.2}},\"type\":\"barpolar\"}],\"carpet\":[{\"aaxis\":{\"endlinecolor\":\"#2a3f5f\",\"gridcolor\":\"white\",\"linecolor\":\"white\",\"minorgridcolor\":\"white\",\"startlinecolor\":\"#2a3f5f\"},\"baxis\":{\"endlinecolor\":\"#2a3f5f\",\"gridcolor\":\"white\",\"linecolor\":\"white\",\"minorgridcolor\":\"white\",\"startlinecolor\":\"#2a3f5f\"},\"type\":\"carpet\"}],\"choropleth\":[{\"colorbar\":{\"outlinewidth\":0,\"ticks\":\"\"},\"type\":\"choropleth\"}],\"contour\":[{\"colorbar\":{\"outlinewidth\":0,\"ticks\":\"\"},\"colorscale\":[[0.0,\"#0d0887\"],[0.1111111111111111,\"#46039f\"],[0.2222222222222222,\"#7201a8\"],[0.3333333333333333,\"#9c179e\"],[0.4444444444444444,\"#bd3786\"],[0.5555555555555556,\"#d8576b\"],[0.6666666666666666,\"#ed7953\"],[0.7777777777777778,\"#fb9f3a\"],[0.8888888888888888,\"#fdca26\"],[1.0,\"#f0f921\"]],\"type\":\"contour\"}],\"contourcarpet\":[{\"colorbar\":{\"outlinewidth\":0,\"ticks\":\"\"},\"type\":\"contourcarpet\"}],\"heatmap\":[{\"colorbar\":{\"outlinewidth\":0,\"ticks\":\"\"},\"colorscale\":[[0.0,\"#0d0887\"],[0.1111111111111111,\"#46039f\"],[0.2222222222222222,\"#7201a8\"],[0.3333333333333333,\"#9c179e\"],[0.4444444444444444,\"#bd3786\"],[0.5555555555555556,\"#d8576b\"],[0.6666666666666666,\"#ed7953\"],[0.7777777777777778,\"#fb9f3a\"],[0.8888888888888888,\"#fdca26\"],[1.0,\"#f0f921\"]],\"type\":\"heatmap\"}],\"heatmapgl\":[{\"colorbar\":{\"outlinewidth\":0,\"ticks\":\"\"},\"colorscale\":[[0.0,\"#0d0887\"],[0.1111111111111111,\"#46039f\"],[0.2222222222222222,\"#7201a8\"],[0.3333333333333333,\"#9c179e\"],[0.4444444444444444,\"#bd3786\"],[0.5555555555555556,\"#d8576b\"],[0.6666666666666666,\"#ed7953\"],[0.7777777777777778,\"#fb9f3a\"],[0.8888888888888888,\"#fdca26\"],[1.0,\"#f0f921\"]],\"type\":\"heatmapgl\"}],\"histogram\":[{\"marker\":{\"pattern\":{\"fillmode\":\"overlay\",\"size\":10,\"solidity\":0.2}},\"type\":\"histogram\"}],\"histogram2d\":[{\"colorbar\":{\"outlinewidth\":0,\"ticks\":\"\"},\"colorscale\":[[0.0,\"#0d0887\"],[0.1111111111111111,\"#46039f\"],[0.2222222222222222,\"#7201a8\"],[0.3333333333333333,\"#9c179e\"],[0.4444444444444444,\"#bd3786\"],[0.5555555555555556,\"#d8576b\"],[0.6666666666666666,\"#ed7953\"],[0.7777777777777778,\"#fb9f3a\"],[0.8888888888888888,\"#fdca26\"],[1.0,\"#f0f921\"]],\"type\":\"histogram2d\"}],\"histogram2dcontour\":[{\"colorbar\":{\"outlinewidth\":0,\"ticks\":\"\"},\"colorscale\":[[0.0,\"#0d0887\"],[0.1111111111111111,\"#46039f\"],[0.2222222222222222,\"#7201a8\"],[0.3333333333333333,\"#9c179e\"],[0.4444444444444444,\"#bd3786\"],[0.5555555555555556,\"#d8576b\"],[0.6666666666666666,\"#ed7953\"],[0.7777777777777778,\"#fb9f3a\"],[0.8888888888888888,\"#fdca26\"],[1.0,\"#f0f921\"]],\"type\":\"histogram2dcontour\"}],\"mesh3d\":[{\"colorbar\":{\"outlinewidth\":0,\"ticks\":\"\"},\"type\":\"mesh3d\"}],\"parcoords\":[{\"line\":{\"colorbar\":{\"outlinewidth\":0,\"ticks\":\"\"}},\"type\":\"parcoords\"}],\"pie\":[{\"automargin\":true,\"type\":\"pie\"}],\"scatter\":[{\"marker\":{\"colorbar\":{\"outlinewidth\":0,\"ticks\":\"\"}},\"type\":\"scatter\"}],\"scatter3d\":[{\"line\":{\"colorbar\":{\"outlinewidth\":0,\"ticks\":\"\"}},\"marker\":{\"colorbar\":{\"outlinewidth\":0,\"ticks\":\"\"}},\"type\":\"scatter3d\"}],\"scattercarpet\":[{\"marker\":{\"colorbar\":{\"outlinewidth\":0,\"ticks\":\"\"}},\"type\":\"scattercarpet\"}],\"scattergeo\":[{\"marker\":{\"colorbar\":{\"outlinewidth\":0,\"ticks\":\"\"}},\"type\":\"scattergeo\"}],\"scattergl\":[{\"marker\":{\"colorbar\":{\"outlinewidth\":0,\"ticks\":\"\"}},\"type\":\"scattergl\"}],\"scattermapbox\":[{\"marker\":{\"colorbar\":{\"outlinewidth\":0,\"ticks\":\"\"}},\"type\":\"scattermapbox\"}],\"scatterpolar\":[{\"marker\":{\"colorbar\":{\"outlinewidth\":0,\"ticks\":\"\"}},\"type\":\"scatterpolar\"}],\"scatterpolargl\":[{\"marker\":{\"colorbar\":{\"outlinewidth\":0,\"ticks\":\"\"}},\"type\":\"scatterpolargl\"}],\"scatterternary\":[{\"marker\":{\"colorbar\":{\"outlinewidth\":0,\"ticks\":\"\"}},\"type\":\"scatterternary\"}],\"surface\":[{\"colorbar\":{\"outlinewidth\":0,\"ticks\":\"\"},\"colorscale\":[[0.0,\"#0d0887\"],[0.1111111111111111,\"#46039f\"],[0.2222222222222222,\"#7201a8\"],[0.3333333333333333,\"#9c179e\"],[0.4444444444444444,\"#bd3786\"],[0.5555555555555556,\"#d8576b\"],[0.6666666666666666,\"#ed7953\"],[0.7777777777777778,\"#fb9f3a\"],[0.8888888888888888,\"#fdca26\"],[1.0,\"#f0f921\"]],\"type\":\"surface\"}],\"table\":[{\"cells\":{\"fill\":{\"color\":\"#EBF0F8\"},\"line\":{\"color\":\"white\"}},\"header\":{\"fill\":{\"color\":\"#C8D4E3\"},\"line\":{\"color\":\"white\"}},\"type\":\"table\"}]},\"layout\":{\"annotationdefaults\":{\"arrowcolor\":\"#2a3f5f\",\"arrowhead\":0,\"arrowwidth\":1},\"autotypenumbers\":\"strict\",\"coloraxis\":{\"colorbar\":{\"outlinewidth\":0,\"ticks\":\"\"}},\"colorscale\":{\"diverging\":[[0,\"#8e0152\"],[0.1,\"#c51b7d\"],[0.2,\"#de77ae\"],[0.3,\"#f1b6da\"],[0.4,\"#fde0ef\"],[0.5,\"#f7f7f7\"],[0.6,\"#e6f5d0\"],[0.7,\"#b8e186\"],[0.8,\"#7fbc41\"],[0.9,\"#4d9221\"],[1,\"#276419\"]],\"sequential\":[[0.0,\"#0d0887\"],[0.1111111111111111,\"#46039f\"],[0.2222222222222222,\"#7201a8\"],[0.3333333333333333,\"#9c179e\"],[0.4444444444444444,\"#bd3786\"],[0.5555555555555556,\"#d8576b\"],[0.6666666666666666,\"#ed7953\"],[0.7777777777777778,\"#fb9f3a\"],[0.8888888888888888,\"#fdca26\"],[1.0,\"#f0f921\"]],\"sequentialminus\":[[0.0,\"#0d0887\"],[0.1111111111111111,\"#46039f\"],[0.2222222222222222,\"#7201a8\"],[0.3333333333333333,\"#9c179e\"],[0.4444444444444444,\"#bd3786\"],[0.5555555555555556,\"#d8576b\"],[0.6666666666666666,\"#ed7953\"],[0.7777777777777778,\"#fb9f3a\"],[0.8888888888888888,\"#fdca26\"],[1.0,\"#f0f921\"]]},\"colorway\":[\"#636efa\",\"#EF553B\",\"#00cc96\",\"#ab63fa\",\"#FFA15A\",\"#19d3f3\",\"#FF6692\",\"#B6E880\",\"#FF97FF\",\"#FECB52\"],\"font\":{\"color\":\"#2a3f5f\"},\"geo\":{\"bgcolor\":\"white\",\"lakecolor\":\"white\",\"landcolor\":\"#E5ECF6\",\"showlakes\":true,\"showland\":true,\"subunitcolor\":\"white\"},\"hoverlabel\":{\"align\":\"left\"},\"hovermode\":\"closest\",\"mapbox\":{\"style\":\"light\"},\"paper_bgcolor\":\"white\",\"plot_bgcolor\":\"#E5ECF6\",\"polar\":{\"angularaxis\":{\"gridcolor\":\"white\",\"linecolor\":\"white\",\"ticks\":\"\"},\"bgcolor\":\"#E5ECF6\",\"radialaxis\":{\"gridcolor\":\"white\",\"linecolor\":\"white\",\"ticks\":\"\"}},\"scene\":{\"xaxis\":{\"backgroundcolor\":\"#E5ECF6\",\"gridcolor\":\"white\",\"gridwidth\":2,\"linecolor\":\"white\",\"showbackground\":true,\"ticks\":\"\",\"zerolinecolor\":\"white\"},\"yaxis\":{\"backgroundcolor\":\"#E5ECF6\",\"gridcolor\":\"white\",\"gridwidth\":2,\"linecolor\":\"white\",\"showbackground\":true,\"ticks\":\"\",\"zerolinecolor\":\"white\"},\"zaxis\":{\"backgroundcolor\":\"#E5ECF6\",\"gridcolor\":\"white\",\"gridwidth\":2,\"linecolor\":\"white\",\"showbackground\":true,\"ticks\":\"\",\"zerolinecolor\":\"white\"}},\"shapedefaults\":{\"line\":{\"color\":\"#2a3f5f\"}},\"ternary\":{\"aaxis\":{\"gridcolor\":\"white\",\"linecolor\":\"white\",\"ticks\":\"\"},\"baxis\":{\"gridcolor\":\"white\",\"linecolor\":\"white\",\"ticks\":\"\"},\"bgcolor\":\"#E5ECF6\",\"caxis\":{\"gridcolor\":\"white\",\"linecolor\":\"white\",\"ticks\":\"\"}},\"title\":{\"x\":0.05},\"xaxis\":{\"automargin\":true,\"gridcolor\":\"white\",\"linecolor\":\"white\",\"ticks\":\"\",\"title\":{\"standoff\":15},\"zerolinecolor\":\"white\",\"zerolinewidth\":2},\"yaxis\":{\"automargin\":true,\"gridcolor\":\"white\",\"linecolor\":\"white\",\"ticks\":\"\",\"title\":{\"standoff\":15},\"zerolinecolor\":\"white\",\"zerolinewidth\":2}}},\"polar\":{\"domain\":{\"x\":[0.0,1.0],\"y\":[0.0,1.0]},\"angularaxis\":{\"direction\":\"clockwise\",\"rotation\":90}},\"legend\":{\"tracegroupgap\":0},\"margin\":{\"t\":60},\"updatemenus\":[{\"buttons\":[{\"args\":[null,{\"frame\":{\"duration\":500,\"redraw\":true},\"mode\":\"immediate\",\"fromcurrent\":true,\"transition\":{\"duration\":500,\"easing\":\"linear\"}}],\"label\":\"&#9654;\",\"method\":\"animate\"},{\"args\":[[null],{\"frame\":{\"duration\":0,\"redraw\":true},\"mode\":\"immediate\",\"fromcurrent\":true,\"transition\":{\"duration\":0,\"easing\":\"linear\"}}],\"label\":\"&#9724;\",\"method\":\"animate\"}],\"direction\":\"left\",\"pad\":{\"r\":10,\"t\":70},\"showactive\":false,\"type\":\"buttons\",\"x\":0.1,\"xanchor\":\"right\",\"y\":0,\"yanchor\":\"top\"}],\"sliders\":[{\"active\":0,\"currentvalue\":{\"prefix\":\"Country=\"},\"len\":0.9,\"pad\":{\"b\":10,\"t\":60},\"steps\":[{\"args\":[[\"Afghanistan\"],{\"frame\":{\"duration\":0,\"redraw\":true},\"mode\":\"immediate\",\"fromcurrent\":true,\"transition\":{\"duration\":0,\"easing\":\"linear\"}}],\"label\":\"Afghanistan\",\"method\":\"animate\"},{\"args\":[[\"Albania\"],{\"frame\":{\"duration\":0,\"redraw\":true},\"mode\":\"immediate\",\"fromcurrent\":true,\"transition\":{\"duration\":0,\"easing\":\"linear\"}}],\"label\":\"Albania\",\"method\":\"animate\"},{\"args\":[[\"Algeria\"],{\"frame\":{\"duration\":0,\"redraw\":true},\"mode\":\"immediate\",\"fromcurrent\":true,\"transition\":{\"duration\":0,\"easing\":\"linear\"}}],\"label\":\"Algeria\",\"method\":\"animate\"},{\"args\":[[\"Andorra\"],{\"frame\":{\"duration\":0,\"redraw\":true},\"mode\":\"immediate\",\"fromcurrent\":true,\"transition\":{\"duration\":0,\"easing\":\"linear\"}}],\"label\":\"Andorra\",\"method\":\"animate\"},{\"args\":[[\"Angola\"],{\"frame\":{\"duration\":0,\"redraw\":true},\"mode\":\"immediate\",\"fromcurrent\":true,\"transition\":{\"duration\":0,\"easing\":\"linear\"}}],\"label\":\"Angola\",\"method\":\"animate\"},{\"args\":[[\"Antigua and Barbuda\"],{\"frame\":{\"duration\":0,\"redraw\":true},\"mode\":\"immediate\",\"fromcurrent\":true,\"transition\":{\"duration\":0,\"easing\":\"linear\"}}],\"label\":\"Antigua and Barbuda\",\"method\":\"animate\"},{\"args\":[[\"Argentina\"],{\"frame\":{\"duration\":0,\"redraw\":true},\"mode\":\"immediate\",\"fromcurrent\":true,\"transition\":{\"duration\":0,\"easing\":\"linear\"}}],\"label\":\"Argentina\",\"method\":\"animate\"},{\"args\":[[\"Armenia\"],{\"frame\":{\"duration\":0,\"redraw\":true},\"mode\":\"immediate\",\"fromcurrent\":true,\"transition\":{\"duration\":0,\"easing\":\"linear\"}}],\"label\":\"Armenia\",\"method\":\"animate\"},{\"args\":[[\"Australia\"],{\"frame\":{\"duration\":0,\"redraw\":true},\"mode\":\"immediate\",\"fromcurrent\":true,\"transition\":{\"duration\":0,\"easing\":\"linear\"}}],\"label\":\"Australia\",\"method\":\"animate\"},{\"args\":[[\"Austria\"],{\"frame\":{\"duration\":0,\"redraw\":true},\"mode\":\"immediate\",\"fromcurrent\":true,\"transition\":{\"duration\":0,\"easing\":\"linear\"}}],\"label\":\"Austria\",\"method\":\"animate\"},{\"args\":[[\"Azerbaijan\"],{\"frame\":{\"duration\":0,\"redraw\":true},\"mode\":\"immediate\",\"fromcurrent\":true,\"transition\":{\"duration\":0,\"easing\":\"linear\"}}],\"label\":\"Azerbaijan\",\"method\":\"animate\"},{\"args\":[[\"Bahamas\"],{\"frame\":{\"duration\":0,\"redraw\":true},\"mode\":\"immediate\",\"fromcurrent\":true,\"transition\":{\"duration\":0,\"easing\":\"linear\"}}],\"label\":\"Bahamas\",\"method\":\"animate\"},{\"args\":[[\"Bahrain\"],{\"frame\":{\"duration\":0,\"redraw\":true},\"mode\":\"immediate\",\"fromcurrent\":true,\"transition\":{\"duration\":0,\"easing\":\"linear\"}}],\"label\":\"Bahrain\",\"method\":\"animate\"},{\"args\":[[\"Bangladesh\"],{\"frame\":{\"duration\":0,\"redraw\":true},\"mode\":\"immediate\",\"fromcurrent\":true,\"transition\":{\"duration\":0,\"easing\":\"linear\"}}],\"label\":\"Bangladesh\",\"method\":\"animate\"},{\"args\":[[\"Barbados\"],{\"frame\":{\"duration\":0,\"redraw\":true},\"mode\":\"immediate\",\"fromcurrent\":true,\"transition\":{\"duration\":0,\"easing\":\"linear\"}}],\"label\":\"Barbados\",\"method\":\"animate\"},{\"args\":[[\"Belarus\"],{\"frame\":{\"duration\":0,\"redraw\":true},\"mode\":\"immediate\",\"fromcurrent\":true,\"transition\":{\"duration\":0,\"easing\":\"linear\"}}],\"label\":\"Belarus\",\"method\":\"animate\"},{\"args\":[[\"Belgium\"],{\"frame\":{\"duration\":0,\"redraw\":true},\"mode\":\"immediate\",\"fromcurrent\":true,\"transition\":{\"duration\":0,\"easing\":\"linear\"}}],\"label\":\"Belgium\",\"method\":\"animate\"},{\"args\":[[\"Belize\"],{\"frame\":{\"duration\":0,\"redraw\":true},\"mode\":\"immediate\",\"fromcurrent\":true,\"transition\":{\"duration\":0,\"easing\":\"linear\"}}],\"label\":\"Belize\",\"method\":\"animate\"},{\"args\":[[\"Bhutan\"],{\"frame\":{\"duration\":0,\"redraw\":true},\"mode\":\"immediate\",\"fromcurrent\":true,\"transition\":{\"duration\":0,\"easing\":\"linear\"}}],\"label\":\"Bhutan\",\"method\":\"animate\"},{\"args\":[[\"Bosnia and Herzegovina\"],{\"frame\":{\"duration\":0,\"redraw\":true},\"mode\":\"immediate\",\"fromcurrent\":true,\"transition\":{\"duration\":0,\"easing\":\"linear\"}}],\"label\":\"Bosnia and Herzegovina\",\"method\":\"animate\"},{\"args\":[[\"Botswana\"],{\"frame\":{\"duration\":0,\"redraw\":true},\"mode\":\"immediate\",\"fromcurrent\":true,\"transition\":{\"duration\":0,\"easing\":\"linear\"}}],\"label\":\"Botswana\",\"method\":\"animate\"},{\"args\":[[\"Brazil\"],{\"frame\":{\"duration\":0,\"redraw\":true},\"mode\":\"immediate\",\"fromcurrent\":true,\"transition\":{\"duration\":0,\"easing\":\"linear\"}}],\"label\":\"Brazil\",\"method\":\"animate\"},{\"args\":[[\"Brunei\"],{\"frame\":{\"duration\":0,\"redraw\":true},\"mode\":\"immediate\",\"fromcurrent\":true,\"transition\":{\"duration\":0,\"easing\":\"linear\"}}],\"label\":\"Brunei\",\"method\":\"animate\"},{\"args\":[[\"Bulgaria\"],{\"frame\":{\"duration\":0,\"redraw\":true},\"mode\":\"immediate\",\"fromcurrent\":true,\"transition\":{\"duration\":0,\"easing\":\"linear\"}}],\"label\":\"Bulgaria\",\"method\":\"animate\"},{\"args\":[[\"Burkina Faso\"],{\"frame\":{\"duration\":0,\"redraw\":true},\"mode\":\"immediate\",\"fromcurrent\":true,\"transition\":{\"duration\":0,\"easing\":\"linear\"}}],\"label\":\"Burkina Faso\",\"method\":\"animate\"},{\"args\":[[\"Cambodia\"],{\"frame\":{\"duration\":0,\"redraw\":true},\"mode\":\"immediate\",\"fromcurrent\":true,\"transition\":{\"duration\":0,\"easing\":\"linear\"}}],\"label\":\"Cambodia\",\"method\":\"animate\"},{\"args\":[[\"Cameroon\"],{\"frame\":{\"duration\":0,\"redraw\":true},\"mode\":\"immediate\",\"fromcurrent\":true,\"transition\":{\"duration\":0,\"easing\":\"linear\"}}],\"label\":\"Cameroon\",\"method\":\"animate\"},{\"args\":[[\"Canada\"],{\"frame\":{\"duration\":0,\"redraw\":true},\"mode\":\"immediate\",\"fromcurrent\":true,\"transition\":{\"duration\":0,\"easing\":\"linear\"}}],\"label\":\"Canada\",\"method\":\"animate\"},{\"args\":[[\"Chile\"],{\"frame\":{\"duration\":0,\"redraw\":true},\"mode\":\"immediate\",\"fromcurrent\":true,\"transition\":{\"duration\":0,\"easing\":\"linear\"}}],\"label\":\"Chile\",\"method\":\"animate\"},{\"args\":[[\"China\"],{\"frame\":{\"duration\":0,\"redraw\":true},\"mode\":\"immediate\",\"fromcurrent\":true,\"transition\":{\"duration\":0,\"easing\":\"linear\"}}],\"label\":\"China\",\"method\":\"animate\"},{\"args\":[[\"Colombia\"],{\"frame\":{\"duration\":0,\"redraw\":true},\"mode\":\"immediate\",\"fromcurrent\":true,\"transition\":{\"duration\":0,\"easing\":\"linear\"}}],\"label\":\"Colombia\",\"method\":\"animate\"},{\"args\":[[\"Congo\"],{\"frame\":{\"duration\":0,\"redraw\":true},\"mode\":\"immediate\",\"fromcurrent\":true,\"transition\":{\"duration\":0,\"easing\":\"linear\"}}],\"label\":\"Congo\",\"method\":\"animate\"},{\"args\":[[\"Costa Rica\"],{\"frame\":{\"duration\":0,\"redraw\":true},\"mode\":\"immediate\",\"fromcurrent\":true,\"transition\":{\"duration\":0,\"easing\":\"linear\"}}],\"label\":\"Costa Rica\",\"method\":\"animate\"},{\"args\":[[\"Croatia\"],{\"frame\":{\"duration\":0,\"redraw\":true},\"mode\":\"immediate\",\"fromcurrent\":true,\"transition\":{\"duration\":0,\"easing\":\"linear\"}}],\"label\":\"Croatia\",\"method\":\"animate\"},{\"args\":[[\"Cuba\"],{\"frame\":{\"duration\":0,\"redraw\":true},\"mode\":\"immediate\",\"fromcurrent\":true,\"transition\":{\"duration\":0,\"easing\":\"linear\"}}],\"label\":\"Cuba\",\"method\":\"animate\"},{\"args\":[[\"Cyprus\"],{\"frame\":{\"duration\":0,\"redraw\":true},\"mode\":\"immediate\",\"fromcurrent\":true,\"transition\":{\"duration\":0,\"easing\":\"linear\"}}],\"label\":\"Cyprus\",\"method\":\"animate\"},{\"args\":[[\"Czech Republic\"],{\"frame\":{\"duration\":0,\"redraw\":true},\"mode\":\"immediate\",\"fromcurrent\":true,\"transition\":{\"duration\":0,\"easing\":\"linear\"}}],\"label\":\"Czech Republic\",\"method\":\"animate\"},{\"args\":[[\"Congo (Kinshasa)\"],{\"frame\":{\"duration\":0,\"redraw\":true},\"mode\":\"immediate\",\"fromcurrent\":true,\"transition\":{\"duration\":0,\"easing\":\"linear\"}}],\"label\":\"Congo (Kinshasa)\",\"method\":\"animate\"},{\"args\":[[\"Denmark\"],{\"frame\":{\"duration\":0,\"redraw\":true},\"mode\":\"immediate\",\"fromcurrent\":true,\"transition\":{\"duration\":0,\"easing\":\"linear\"}}],\"label\":\"Denmark\",\"method\":\"animate\"},{\"args\":[[\"Djibouti\"],{\"frame\":{\"duration\":0,\"redraw\":true},\"mode\":\"immediate\",\"fromcurrent\":true,\"transition\":{\"duration\":0,\"easing\":\"linear\"}}],\"label\":\"Djibouti\",\"method\":\"animate\"},{\"args\":[[\"Dominica\"],{\"frame\":{\"duration\":0,\"redraw\":true},\"mode\":\"immediate\",\"fromcurrent\":true,\"transition\":{\"duration\":0,\"easing\":\"linear\"}}],\"label\":\"Dominica\",\"method\":\"animate\"},{\"args\":[[\"Dominican Republic\"],{\"frame\":{\"duration\":0,\"redraw\":true},\"mode\":\"immediate\",\"fromcurrent\":true,\"transition\":{\"duration\":0,\"easing\":\"linear\"}}],\"label\":\"Dominican Republic\",\"method\":\"animate\"},{\"args\":[[\"Ecuador\"],{\"frame\":{\"duration\":0,\"redraw\":true},\"mode\":\"immediate\",\"fromcurrent\":true,\"transition\":{\"duration\":0,\"easing\":\"linear\"}}],\"label\":\"Ecuador\",\"method\":\"animate\"},{\"args\":[[\"Egypt\"],{\"frame\":{\"duration\":0,\"redraw\":true},\"mode\":\"immediate\",\"fromcurrent\":true,\"transition\":{\"duration\":0,\"easing\":\"linear\"}}],\"label\":\"Egypt\",\"method\":\"animate\"},{\"args\":[[\"El Salvador\"],{\"frame\":{\"duration\":0,\"redraw\":true},\"mode\":\"immediate\",\"fromcurrent\":true,\"transition\":{\"duration\":0,\"easing\":\"linear\"}}],\"label\":\"El Salvador\",\"method\":\"animate\"},{\"args\":[[\"Estonia\"],{\"frame\":{\"duration\":0,\"redraw\":true},\"mode\":\"immediate\",\"fromcurrent\":true,\"transition\":{\"duration\":0,\"easing\":\"linear\"}}],\"label\":\"Estonia\",\"method\":\"animate\"},{\"args\":[[\"Ethiopia\"],{\"frame\":{\"duration\":0,\"redraw\":true},\"mode\":\"immediate\",\"fromcurrent\":true,\"transition\":{\"duration\":0,\"easing\":\"linear\"}}],\"label\":\"Ethiopia\",\"method\":\"animate\"},{\"args\":[[\"Faroe Islands\"],{\"frame\":{\"duration\":0,\"redraw\":true},\"mode\":\"immediate\",\"fromcurrent\":true,\"transition\":{\"duration\":0,\"easing\":\"linear\"}}],\"label\":\"Faroe Islands\",\"method\":\"animate\"},{\"args\":[[\"Fiji\"],{\"frame\":{\"duration\":0,\"redraw\":true},\"mode\":\"immediate\",\"fromcurrent\":true,\"transition\":{\"duration\":0,\"easing\":\"linear\"}}],\"label\":\"Fiji\",\"method\":\"animate\"},{\"args\":[[\"Finland\"],{\"frame\":{\"duration\":0,\"redraw\":true},\"mode\":\"immediate\",\"fromcurrent\":true,\"transition\":{\"duration\":0,\"easing\":\"linear\"}}],\"label\":\"Finland\",\"method\":\"animate\"},{\"args\":[[\"France\"],{\"frame\":{\"duration\":0,\"redraw\":true},\"mode\":\"immediate\",\"fromcurrent\":true,\"transition\":{\"duration\":0,\"easing\":\"linear\"}}],\"label\":\"France\",\"method\":\"animate\"},{\"args\":[[\"Georgia\"],{\"frame\":{\"duration\":0,\"redraw\":true},\"mode\":\"immediate\",\"fromcurrent\":true,\"transition\":{\"duration\":0,\"easing\":\"linear\"}}],\"label\":\"Georgia\",\"method\":\"animate\"},{\"args\":[[\"Germany\"],{\"frame\":{\"duration\":0,\"redraw\":true},\"mode\":\"immediate\",\"fromcurrent\":true,\"transition\":{\"duration\":0,\"easing\":\"linear\"}}],\"label\":\"Germany\",\"method\":\"animate\"},{\"args\":[[\"Ghana\"],{\"frame\":{\"duration\":0,\"redraw\":true},\"mode\":\"immediate\",\"fromcurrent\":true,\"transition\":{\"duration\":0,\"easing\":\"linear\"}}],\"label\":\"Ghana\",\"method\":\"animate\"},{\"args\":[[\"Greece\"],{\"frame\":{\"duration\":0,\"redraw\":true},\"mode\":\"immediate\",\"fromcurrent\":true,\"transition\":{\"duration\":0,\"easing\":\"linear\"}}],\"label\":\"Greece\",\"method\":\"animate\"},{\"args\":[[\"Grenada\"],{\"frame\":{\"duration\":0,\"redraw\":true},\"mode\":\"immediate\",\"fromcurrent\":true,\"transition\":{\"duration\":0,\"easing\":\"linear\"}}],\"label\":\"Grenada\",\"method\":\"animate\"},{\"args\":[[\"Guatemala\"],{\"frame\":{\"duration\":0,\"redraw\":true},\"mode\":\"immediate\",\"fromcurrent\":true,\"transition\":{\"duration\":0,\"easing\":\"linear\"}}],\"label\":\"Guatemala\",\"method\":\"animate\"},{\"args\":[[\"Guinea\"],{\"frame\":{\"duration\":0,\"redraw\":true},\"mode\":\"immediate\",\"fromcurrent\":true,\"transition\":{\"duration\":0,\"easing\":\"linear\"}}],\"label\":\"Guinea\",\"method\":\"animate\"},{\"args\":[[\"Guyana\"],{\"frame\":{\"duration\":0,\"redraw\":true},\"mode\":\"immediate\",\"fromcurrent\":true,\"transition\":{\"duration\":0,\"easing\":\"linear\"}}],\"label\":\"Guyana\",\"method\":\"animate\"},{\"args\":[[\"Haiti\"],{\"frame\":{\"duration\":0,\"redraw\":true},\"mode\":\"immediate\",\"fromcurrent\":true,\"transition\":{\"duration\":0,\"easing\":\"linear\"}}],\"label\":\"Haiti\",\"method\":\"animate\"},{\"args\":[[\"Honduras\"],{\"frame\":{\"duration\":0,\"redraw\":true},\"mode\":\"immediate\",\"fromcurrent\":true,\"transition\":{\"duration\":0,\"easing\":\"linear\"}}],\"label\":\"Honduras\",\"method\":\"animate\"},{\"args\":[[\"Hungary\"],{\"frame\":{\"duration\":0,\"redraw\":true},\"mode\":\"immediate\",\"fromcurrent\":true,\"transition\":{\"duration\":0,\"easing\":\"linear\"}}],\"label\":\"Hungary\",\"method\":\"animate\"},{\"args\":[[\"Iceland\"],{\"frame\":{\"duration\":0,\"redraw\":true},\"mode\":\"immediate\",\"fromcurrent\":true,\"transition\":{\"duration\":0,\"easing\":\"linear\"}}],\"label\":\"Iceland\",\"method\":\"animate\"},{\"args\":[[\"India\"],{\"frame\":{\"duration\":0,\"redraw\":true},\"mode\":\"immediate\",\"fromcurrent\":true,\"transition\":{\"duration\":0,\"easing\":\"linear\"}}],\"label\":\"India\",\"method\":\"animate\"},{\"args\":[[\"Indonesia\"],{\"frame\":{\"duration\":0,\"redraw\":true},\"mode\":\"immediate\",\"fromcurrent\":true,\"transition\":{\"duration\":0,\"easing\":\"linear\"}}],\"label\":\"Indonesia\",\"method\":\"animate\"},{\"args\":[[\"Iraq\"],{\"frame\":{\"duration\":0,\"redraw\":true},\"mode\":\"immediate\",\"fromcurrent\":true,\"transition\":{\"duration\":0,\"easing\":\"linear\"}}],\"label\":\"Iraq\",\"method\":\"animate\"},{\"args\":[[\"Ireland\"],{\"frame\":{\"duration\":0,\"redraw\":true},\"mode\":\"immediate\",\"fromcurrent\":true,\"transition\":{\"duration\":0,\"easing\":\"linear\"}}],\"label\":\"Ireland\",\"method\":\"animate\"},{\"args\":[[\"Israel\"],{\"frame\":{\"duration\":0,\"redraw\":true},\"mode\":\"immediate\",\"fromcurrent\":true,\"transition\":{\"duration\":0,\"easing\":\"linear\"}}],\"label\":\"Israel\",\"method\":\"animate\"},{\"args\":[[\"Italy\"],{\"frame\":{\"duration\":0,\"redraw\":true},\"mode\":\"immediate\",\"fromcurrent\":true,\"transition\":{\"duration\":0,\"easing\":\"linear\"}}],\"label\":\"Italy\",\"method\":\"animate\"},{\"args\":[[\"Jamaica\"],{\"frame\":{\"duration\":0,\"redraw\":true},\"mode\":\"immediate\",\"fromcurrent\":true,\"transition\":{\"duration\":0,\"easing\":\"linear\"}}],\"label\":\"Jamaica\",\"method\":\"animate\"},{\"args\":[[\"Japan\"],{\"frame\":{\"duration\":0,\"redraw\":true},\"mode\":\"immediate\",\"fromcurrent\":true,\"transition\":{\"duration\":0,\"easing\":\"linear\"}}],\"label\":\"Japan\",\"method\":\"animate\"},{\"args\":[[\"Jordan\"],{\"frame\":{\"duration\":0,\"redraw\":true},\"mode\":\"immediate\",\"fromcurrent\":true,\"transition\":{\"duration\":0,\"easing\":\"linear\"}}],\"label\":\"Jordan\",\"method\":\"animate\"},{\"args\":[[\"Kazakhstan\"],{\"frame\":{\"duration\":0,\"redraw\":true},\"mode\":\"immediate\",\"fromcurrent\":true,\"transition\":{\"duration\":0,\"easing\":\"linear\"}}],\"label\":\"Kazakhstan\",\"method\":\"animate\"},{\"args\":[[\"Kenya\"],{\"frame\":{\"duration\":0,\"redraw\":true},\"mode\":\"immediate\",\"fromcurrent\":true,\"transition\":{\"duration\":0,\"easing\":\"linear\"}}],\"label\":\"Kenya\",\"method\":\"animate\"},{\"args\":[[\"Kuwait\"],{\"frame\":{\"duration\":0,\"redraw\":true},\"mode\":\"immediate\",\"fromcurrent\":true,\"transition\":{\"duration\":0,\"easing\":\"linear\"}}],\"label\":\"Kuwait\",\"method\":\"animate\"},{\"args\":[[\"Kyrgyzstan\"],{\"frame\":{\"duration\":0,\"redraw\":true},\"mode\":\"immediate\",\"fromcurrent\":true,\"transition\":{\"duration\":0,\"easing\":\"linear\"}}],\"label\":\"Kyrgyzstan\",\"method\":\"animate\"},{\"args\":[[\"Laos\"],{\"frame\":{\"duration\":0,\"redraw\":true},\"mode\":\"immediate\",\"fromcurrent\":true,\"transition\":{\"duration\":0,\"easing\":\"linear\"}}],\"label\":\"Laos\",\"method\":\"animate\"},{\"args\":[[\"Latvia\"],{\"frame\":{\"duration\":0,\"redraw\":true},\"mode\":\"immediate\",\"fromcurrent\":true,\"transition\":{\"duration\":0,\"easing\":\"linear\"}}],\"label\":\"Latvia\",\"method\":\"animate\"},{\"args\":[[\"Lebanon\"],{\"frame\":{\"duration\":0,\"redraw\":true},\"mode\":\"immediate\",\"fromcurrent\":true,\"transition\":{\"duration\":0,\"easing\":\"linear\"}}],\"label\":\"Lebanon\",\"method\":\"animate\"},{\"args\":[[\"Lesotho\"],{\"frame\":{\"duration\":0,\"redraw\":true},\"mode\":\"immediate\",\"fromcurrent\":true,\"transition\":{\"duration\":0,\"easing\":\"linear\"}}],\"label\":\"Lesotho\",\"method\":\"animate\"},{\"args\":[[\"Libya\"],{\"frame\":{\"duration\":0,\"redraw\":true},\"mode\":\"immediate\",\"fromcurrent\":true,\"transition\":{\"duration\":0,\"easing\":\"linear\"}}],\"label\":\"Libya\",\"method\":\"animate\"},{\"args\":[[\"Lithuania\"],{\"frame\":{\"duration\":0,\"redraw\":true},\"mode\":\"immediate\",\"fromcurrent\":true,\"transition\":{\"duration\":0,\"easing\":\"linear\"}}],\"label\":\"Lithuania\",\"method\":\"animate\"},{\"args\":[[\"Luxembourg\"],{\"frame\":{\"duration\":0,\"redraw\":true},\"mode\":\"immediate\",\"fromcurrent\":true,\"transition\":{\"duration\":0,\"easing\":\"linear\"}}],\"label\":\"Luxembourg\",\"method\":\"animate\"},{\"args\":[[\"Madagascar\"],{\"frame\":{\"duration\":0,\"redraw\":true},\"mode\":\"immediate\",\"fromcurrent\":true,\"transition\":{\"duration\":0,\"easing\":\"linear\"}}],\"label\":\"Madagascar\",\"method\":\"animate\"},{\"args\":[[\"Malawi\"],{\"frame\":{\"duration\":0,\"redraw\":true},\"mode\":\"immediate\",\"fromcurrent\":true,\"transition\":{\"duration\":0,\"easing\":\"linear\"}}],\"label\":\"Malawi\",\"method\":\"animate\"},{\"args\":[[\"Malaysia\"],{\"frame\":{\"duration\":0,\"redraw\":true},\"mode\":\"immediate\",\"fromcurrent\":true,\"transition\":{\"duration\":0,\"easing\":\"linear\"}}],\"label\":\"Malaysia\",\"method\":\"animate\"},{\"args\":[[\"Maldives\"],{\"frame\":{\"duration\":0,\"redraw\":true},\"mode\":\"immediate\",\"fromcurrent\":true,\"transition\":{\"duration\":0,\"easing\":\"linear\"}}],\"label\":\"Maldives\",\"method\":\"animate\"},{\"args\":[[\"Mali\"],{\"frame\":{\"duration\":0,\"redraw\":true},\"mode\":\"immediate\",\"fromcurrent\":true,\"transition\":{\"duration\":0,\"easing\":\"linear\"}}],\"label\":\"Mali\",\"method\":\"animate\"},{\"args\":[[\"Malta\"],{\"frame\":{\"duration\":0,\"redraw\":true},\"mode\":\"immediate\",\"fromcurrent\":true,\"transition\":{\"duration\":0,\"easing\":\"linear\"}}],\"label\":\"Malta\",\"method\":\"animate\"},{\"args\":[[\"Mauritius\"],{\"frame\":{\"duration\":0,\"redraw\":true},\"mode\":\"immediate\",\"fromcurrent\":true,\"transition\":{\"duration\":0,\"easing\":\"linear\"}}],\"label\":\"Mauritius\",\"method\":\"animate\"},{\"args\":[[\"Mexico\"],{\"frame\":{\"duration\":0,\"redraw\":true},\"mode\":\"immediate\",\"fromcurrent\":true,\"transition\":{\"duration\":0,\"easing\":\"linear\"}}],\"label\":\"Mexico\",\"method\":\"animate\"},{\"args\":[[\"Monaco\"],{\"frame\":{\"duration\":0,\"redraw\":true},\"mode\":\"immediate\",\"fromcurrent\":true,\"transition\":{\"duration\":0,\"easing\":\"linear\"}}],\"label\":\"Monaco\",\"method\":\"animate\"},{\"args\":[[\"Mongolia\"],{\"frame\":{\"duration\":0,\"redraw\":true},\"mode\":\"immediate\",\"fromcurrent\":true,\"transition\":{\"duration\":0,\"easing\":\"linear\"}}],\"label\":\"Mongolia\",\"method\":\"animate\"},{\"args\":[[\"Montenegro\"],{\"frame\":{\"duration\":0,\"redraw\":true},\"mode\":\"immediate\",\"fromcurrent\":true,\"transition\":{\"duration\":0,\"easing\":\"linear\"}}],\"label\":\"Montenegro\",\"method\":\"animate\"},{\"args\":[[\"Morocco\"],{\"frame\":{\"duration\":0,\"redraw\":true},\"mode\":\"immediate\",\"fromcurrent\":true,\"transition\":{\"duration\":0,\"easing\":\"linear\"}}],\"label\":\"Morocco\",\"method\":\"animate\"},{\"args\":[[\"Mozambique\"],{\"frame\":{\"duration\":0,\"redraw\":true},\"mode\":\"immediate\",\"fromcurrent\":true,\"transition\":{\"duration\":0,\"easing\":\"linear\"}}],\"label\":\"Mozambique\",\"method\":\"animate\"},{\"args\":[[\"Myanmar\"],{\"frame\":{\"duration\":0,\"redraw\":true},\"mode\":\"immediate\",\"fromcurrent\":true,\"transition\":{\"duration\":0,\"easing\":\"linear\"}}],\"label\":\"Myanmar\",\"method\":\"animate\"},{\"args\":[[\"Namibia\"],{\"frame\":{\"duration\":0,\"redraw\":true},\"mode\":\"immediate\",\"fromcurrent\":true,\"transition\":{\"duration\":0,\"easing\":\"linear\"}}],\"label\":\"Namibia\",\"method\":\"animate\"},{\"args\":[[\"Nepal\"],{\"frame\":{\"duration\":0,\"redraw\":true},\"mode\":\"immediate\",\"fromcurrent\":true,\"transition\":{\"duration\":0,\"easing\":\"linear\"}}],\"label\":\"Nepal\",\"method\":\"animate\"},{\"args\":[[\"Netherlands\"],{\"frame\":{\"duration\":0,\"redraw\":true},\"mode\":\"immediate\",\"fromcurrent\":true,\"transition\":{\"duration\":0,\"easing\":\"linear\"}}],\"label\":\"Netherlands\",\"method\":\"animate\"},{\"args\":[[\"New Zealand\"],{\"frame\":{\"duration\":0,\"redraw\":true},\"mode\":\"immediate\",\"fromcurrent\":true,\"transition\":{\"duration\":0,\"easing\":\"linear\"}}],\"label\":\"New Zealand\",\"method\":\"animate\"},{\"args\":[[\"Nicaragua\"],{\"frame\":{\"duration\":0,\"redraw\":true},\"mode\":\"immediate\",\"fromcurrent\":true,\"transition\":{\"duration\":0,\"easing\":\"linear\"}}],\"label\":\"Nicaragua\",\"method\":\"animate\"},{\"args\":[[\"Niger\"],{\"frame\":{\"duration\":0,\"redraw\":true},\"mode\":\"immediate\",\"fromcurrent\":true,\"transition\":{\"duration\":0,\"easing\":\"linear\"}}],\"label\":\"Niger\",\"method\":\"animate\"},{\"args\":[[\"Nigeria\"],{\"frame\":{\"duration\":0,\"redraw\":true},\"mode\":\"immediate\",\"fromcurrent\":true,\"transition\":{\"duration\":0,\"easing\":\"linear\"}}],\"label\":\"Nigeria\",\"method\":\"animate\"},{\"args\":[[\"Macedonia\"],{\"frame\":{\"duration\":0,\"redraw\":true},\"mode\":\"immediate\",\"fromcurrent\":true,\"transition\":{\"duration\":0,\"easing\":\"linear\"}}],\"label\":\"Macedonia\",\"method\":\"animate\"},{\"args\":[[\"Norway\"],{\"frame\":{\"duration\":0,\"redraw\":true},\"mode\":\"immediate\",\"fromcurrent\":true,\"transition\":{\"duration\":0,\"easing\":\"linear\"}}],\"label\":\"Norway\",\"method\":\"animate\"},{\"args\":[[\"Oman\"],{\"frame\":{\"duration\":0,\"redraw\":true},\"mode\":\"immediate\",\"fromcurrent\":true,\"transition\":{\"duration\":0,\"easing\":\"linear\"}}],\"label\":\"Oman\",\"method\":\"animate\"},{\"args\":[[\"Pakistan\"],{\"frame\":{\"duration\":0,\"redraw\":true},\"mode\":\"immediate\",\"fromcurrent\":true,\"transition\":{\"duration\":0,\"easing\":\"linear\"}}],\"label\":\"Pakistan\",\"method\":\"animate\"},{\"args\":[[\"Panama\"],{\"frame\":{\"duration\":0,\"redraw\":true},\"mode\":\"immediate\",\"fromcurrent\":true,\"transition\":{\"duration\":0,\"easing\":\"linear\"}}],\"label\":\"Panama\",\"method\":\"animate\"},{\"args\":[[\"Papua New Guinea\"],{\"frame\":{\"duration\":0,\"redraw\":true},\"mode\":\"immediate\",\"fromcurrent\":true,\"transition\":{\"duration\":0,\"easing\":\"linear\"}}],\"label\":\"Papua New Guinea\",\"method\":\"animate\"},{\"args\":[[\"Paraguay\"],{\"frame\":{\"duration\":0,\"redraw\":true},\"mode\":\"immediate\",\"fromcurrent\":true,\"transition\":{\"duration\":0,\"easing\":\"linear\"}}],\"label\":\"Paraguay\",\"method\":\"animate\"},{\"args\":[[\"Peru\"],{\"frame\":{\"duration\":0,\"redraw\":true},\"mode\":\"immediate\",\"fromcurrent\":true,\"transition\":{\"duration\":0,\"easing\":\"linear\"}}],\"label\":\"Peru\",\"method\":\"animate\"},{\"args\":[[\"Philippines\"],{\"frame\":{\"duration\":0,\"redraw\":true},\"mode\":\"immediate\",\"fromcurrent\":true,\"transition\":{\"duration\":0,\"easing\":\"linear\"}}],\"label\":\"Philippines\",\"method\":\"animate\"},{\"args\":[[\"Poland\"],{\"frame\":{\"duration\":0,\"redraw\":true},\"mode\":\"immediate\",\"fromcurrent\":true,\"transition\":{\"duration\":0,\"easing\":\"linear\"}}],\"label\":\"Poland\",\"method\":\"animate\"},{\"args\":[[\"Portugal\"],{\"frame\":{\"duration\":0,\"redraw\":true},\"mode\":\"immediate\",\"fromcurrent\":true,\"transition\":{\"duration\":0,\"easing\":\"linear\"}}],\"label\":\"Portugal\",\"method\":\"animate\"},{\"args\":[[\"Qatar\"],{\"frame\":{\"duration\":0,\"redraw\":true},\"mode\":\"immediate\",\"fromcurrent\":true,\"transition\":{\"duration\":0,\"easing\":\"linear\"}}],\"label\":\"Qatar\",\"method\":\"animate\"},{\"args\":[[\"South Korea\"],{\"frame\":{\"duration\":0,\"redraw\":true},\"mode\":\"immediate\",\"fromcurrent\":true,\"transition\":{\"duration\":0,\"easing\":\"linear\"}}],\"label\":\"South Korea\",\"method\":\"animate\"},{\"args\":[[\"Moldova\"],{\"frame\":{\"duration\":0,\"redraw\":true},\"mode\":\"immediate\",\"fromcurrent\":true,\"transition\":{\"duration\":0,\"easing\":\"linear\"}}],\"label\":\"Moldova\",\"method\":\"animate\"},{\"args\":[[\"Romania\"],{\"frame\":{\"duration\":0,\"redraw\":true},\"mode\":\"immediate\",\"fromcurrent\":true,\"transition\":{\"duration\":0,\"easing\":\"linear\"}}],\"label\":\"Romania\",\"method\":\"animate\"},{\"args\":[[\"Russia\"],{\"frame\":{\"duration\":0,\"redraw\":true},\"mode\":\"immediate\",\"fromcurrent\":true,\"transition\":{\"duration\":0,\"easing\":\"linear\"}}],\"label\":\"Russia\",\"method\":\"animate\"},{\"args\":[[\"Rwanda\"],{\"frame\":{\"duration\":0,\"redraw\":true},\"mode\":\"immediate\",\"fromcurrent\":true,\"transition\":{\"duration\":0,\"easing\":\"linear\"}}],\"label\":\"Rwanda\",\"method\":\"animate\"},{\"args\":[[\"Saint Kitts and Nevis\"],{\"frame\":{\"duration\":0,\"redraw\":true},\"mode\":\"immediate\",\"fromcurrent\":true,\"transition\":{\"duration\":0,\"easing\":\"linear\"}}],\"label\":\"Saint Kitts and Nevis\",\"method\":\"animate\"},{\"args\":[[\"Saint Lucia\"],{\"frame\":{\"duration\":0,\"redraw\":true},\"mode\":\"immediate\",\"fromcurrent\":true,\"transition\":{\"duration\":0,\"easing\":\"linear\"}}],\"label\":\"Saint Lucia\",\"method\":\"animate\"},{\"args\":[[\"Saint Vincent and the Grenadines\"],{\"frame\":{\"duration\":0,\"redraw\":true},\"mode\":\"immediate\",\"fromcurrent\":true,\"transition\":{\"duration\":0,\"easing\":\"linear\"}}],\"label\":\"Saint Vincent and the Grenadines\",\"method\":\"animate\"},{\"args\":[[\"Saudi Arabia\"],{\"frame\":{\"duration\":0,\"redraw\":true},\"mode\":\"immediate\",\"fromcurrent\":true,\"transition\":{\"duration\":0,\"easing\":\"linear\"}}],\"label\":\"Saudi Arabia\",\"method\":\"animate\"},{\"args\":[[\"Senegal\"],{\"frame\":{\"duration\":0,\"redraw\":true},\"mode\":\"immediate\",\"fromcurrent\":true,\"transition\":{\"duration\":0,\"easing\":\"linear\"}}],\"label\":\"Senegal\",\"method\":\"animate\"},{\"args\":[[\"Serbia\"],{\"frame\":{\"duration\":0,\"redraw\":true},\"mode\":\"immediate\",\"fromcurrent\":true,\"transition\":{\"duration\":0,\"easing\":\"linear\"}}],\"label\":\"Serbia\",\"method\":\"animate\"},{\"args\":[[\"Seychelles\"],{\"frame\":{\"duration\":0,\"redraw\":true},\"mode\":\"immediate\",\"fromcurrent\":true,\"transition\":{\"duration\":0,\"easing\":\"linear\"}}],\"label\":\"Seychelles\",\"method\":\"animate\"},{\"args\":[[\"Singapore\"],{\"frame\":{\"duration\":0,\"redraw\":true},\"mode\":\"immediate\",\"fromcurrent\":true,\"transition\":{\"duration\":0,\"easing\":\"linear\"}}],\"label\":\"Singapore\",\"method\":\"animate\"},{\"args\":[[\"Slovakia\"],{\"frame\":{\"duration\":0,\"redraw\":true},\"mode\":\"immediate\",\"fromcurrent\":true,\"transition\":{\"duration\":0,\"easing\":\"linear\"}}],\"label\":\"Slovakia\",\"method\":\"animate\"},{\"args\":[[\"Slovenia\"],{\"frame\":{\"duration\":0,\"redraw\":true},\"mode\":\"immediate\",\"fromcurrent\":true,\"transition\":{\"duration\":0,\"easing\":\"linear\"}}],\"label\":\"Slovenia\",\"method\":\"animate\"},{\"args\":[[\"Somalia\"],{\"frame\":{\"duration\":0,\"redraw\":true},\"mode\":\"immediate\",\"fromcurrent\":true,\"transition\":{\"duration\":0,\"easing\":\"linear\"}}],\"label\":\"Somalia\",\"method\":\"animate\"},{\"args\":[[\"South Africa\"],{\"frame\":{\"duration\":0,\"redraw\":true},\"mode\":\"immediate\",\"fromcurrent\":true,\"transition\":{\"duration\":0,\"easing\":\"linear\"}}],\"label\":\"South Africa\",\"method\":\"animate\"},{\"args\":[[\"Spain\"],{\"frame\":{\"duration\":0,\"redraw\":true},\"mode\":\"immediate\",\"fromcurrent\":true,\"transition\":{\"duration\":0,\"easing\":\"linear\"}}],\"label\":\"Spain\",\"method\":\"animate\"},{\"args\":[[\"Sri Lanka\"],{\"frame\":{\"duration\":0,\"redraw\":true},\"mode\":\"immediate\",\"fromcurrent\":true,\"transition\":{\"duration\":0,\"easing\":\"linear\"}}],\"label\":\"Sri Lanka\",\"method\":\"animate\"},{\"args\":[[\"Sudan\"],{\"frame\":{\"duration\":0,\"redraw\":true},\"mode\":\"immediate\",\"fromcurrent\":true,\"transition\":{\"duration\":0,\"easing\":\"linear\"}}],\"label\":\"Sudan\",\"method\":\"animate\"},{\"args\":[[\"Suriname\"],{\"frame\":{\"duration\":0,\"redraw\":true},\"mode\":\"immediate\",\"fromcurrent\":true,\"transition\":{\"duration\":0,\"easing\":\"linear\"}}],\"label\":\"Suriname\",\"method\":\"animate\"},{\"args\":[[\"Sweden\"],{\"frame\":{\"duration\":0,\"redraw\":true},\"mode\":\"immediate\",\"fromcurrent\":true,\"transition\":{\"duration\":0,\"easing\":\"linear\"}}],\"label\":\"Sweden\",\"method\":\"animate\"},{\"args\":[[\"Switzerland\"],{\"frame\":{\"duration\":0,\"redraw\":true},\"mode\":\"immediate\",\"fromcurrent\":true,\"transition\":{\"duration\":0,\"easing\":\"linear\"}}],\"label\":\"Switzerland\",\"method\":\"animate\"},{\"args\":[[\"Syria\"],{\"frame\":{\"duration\":0,\"redraw\":true},\"mode\":\"immediate\",\"fromcurrent\":true,\"transition\":{\"duration\":0,\"easing\":\"linear\"}}],\"label\":\"Syria\",\"method\":\"animate\"},{\"args\":[[\"Tajikistan\"],{\"frame\":{\"duration\":0,\"redraw\":true},\"mode\":\"immediate\",\"fromcurrent\":true,\"transition\":{\"duration\":0,\"easing\":\"linear\"}}],\"label\":\"Tajikistan\",\"method\":\"animate\"},{\"args\":[[\"Thailand\"],{\"frame\":{\"duration\":0,\"redraw\":true},\"mode\":\"immediate\",\"fromcurrent\":true,\"transition\":{\"duration\":0,\"easing\":\"linear\"}}],\"label\":\"Thailand\",\"method\":\"animate\"},{\"args\":[[\"Trinidad and Tobago\"],{\"frame\":{\"duration\":0,\"redraw\":true},\"mode\":\"immediate\",\"fromcurrent\":true,\"transition\":{\"duration\":0,\"easing\":\"linear\"}}],\"label\":\"Trinidad and Tobago\",\"method\":\"animate\"},{\"args\":[[\"Tunisia\"],{\"frame\":{\"duration\":0,\"redraw\":true},\"mode\":\"immediate\",\"fromcurrent\":true,\"transition\":{\"duration\":0,\"easing\":\"linear\"}}],\"label\":\"Tunisia\",\"method\":\"animate\"},{\"args\":[[\"Turkey\"],{\"frame\":{\"duration\":0,\"redraw\":true},\"mode\":\"immediate\",\"fromcurrent\":true,\"transition\":{\"duration\":0,\"easing\":\"linear\"}}],\"label\":\"Turkey\",\"method\":\"animate\"},{\"args\":[[\"Uganda\"],{\"frame\":{\"duration\":0,\"redraw\":true},\"mode\":\"immediate\",\"fromcurrent\":true,\"transition\":{\"duration\":0,\"easing\":\"linear\"}}],\"label\":\"Uganda\",\"method\":\"animate\"},{\"args\":[[\"Ukraine\"],{\"frame\":{\"duration\":0,\"redraw\":true},\"mode\":\"immediate\",\"fromcurrent\":true,\"transition\":{\"duration\":0,\"easing\":\"linear\"}}],\"label\":\"Ukraine\",\"method\":\"animate\"},{\"args\":[[\"United Arab Emirates\"],{\"frame\":{\"duration\":0,\"redraw\":true},\"mode\":\"immediate\",\"fromcurrent\":true,\"transition\":{\"duration\":0,\"easing\":\"linear\"}}],\"label\":\"United Arab Emirates\",\"method\":\"animate\"},{\"args\":[[\"United Kingdom\"],{\"frame\":{\"duration\":0,\"redraw\":true},\"mode\":\"immediate\",\"fromcurrent\":true,\"transition\":{\"duration\":0,\"easing\":\"linear\"}}],\"label\":\"United Kingdom\",\"method\":\"animate\"},{\"args\":[[\"Tanzania\"],{\"frame\":{\"duration\":0,\"redraw\":true},\"mode\":\"immediate\",\"fromcurrent\":true,\"transition\":{\"duration\":0,\"easing\":\"linear\"}}],\"label\":\"Tanzania\",\"method\":\"animate\"},{\"args\":[[\"United States\"],{\"frame\":{\"duration\":0,\"redraw\":true},\"mode\":\"immediate\",\"fromcurrent\":true,\"transition\":{\"duration\":0,\"easing\":\"linear\"}}],\"label\":\"United States\",\"method\":\"animate\"},{\"args\":[[\"Uruguay\"],{\"frame\":{\"duration\":0,\"redraw\":true},\"mode\":\"immediate\",\"fromcurrent\":true,\"transition\":{\"duration\":0,\"easing\":\"linear\"}}],\"label\":\"Uruguay\",\"method\":\"animate\"},{\"args\":[[\"Uzbekistan\"],{\"frame\":{\"duration\":0,\"redraw\":true},\"mode\":\"immediate\",\"fromcurrent\":true,\"transition\":{\"duration\":0,\"easing\":\"linear\"}}],\"label\":\"Uzbekistan\",\"method\":\"animate\"},{\"args\":[[\"Vanuatu\"],{\"frame\":{\"duration\":0,\"redraw\":true},\"mode\":\"immediate\",\"fromcurrent\":true,\"transition\":{\"duration\":0,\"easing\":\"linear\"}}],\"label\":\"Vanuatu\",\"method\":\"animate\"},{\"args\":[[\"Vietnam\"],{\"frame\":{\"duration\":0,\"redraw\":true},\"mode\":\"immediate\",\"fromcurrent\":true,\"transition\":{\"duration\":0,\"easing\":\"linear\"}}],\"label\":\"Vietnam\",\"method\":\"animate\"},{\"args\":[[\"Yemen\"],{\"frame\":{\"duration\":0,\"redraw\":true},\"mode\":\"immediate\",\"fromcurrent\":true,\"transition\":{\"duration\":0,\"easing\":\"linear\"}}],\"label\":\"Yemen\",\"method\":\"animate\"},{\"args\":[[\"Zambia\"],{\"frame\":{\"duration\":0,\"redraw\":true},\"mode\":\"immediate\",\"fromcurrent\":true,\"transition\":{\"duration\":0,\"easing\":\"linear\"}}],\"label\":\"Zambia\",\"method\":\"animate\"},{\"args\":[[\"Zimbabwe\"],{\"frame\":{\"duration\":0,\"redraw\":true},\"mode\":\"immediate\",\"fromcurrent\":true,\"transition\":{\"duration\":0,\"easing\":\"linear\"}}],\"label\":\"Zimbabwe\",\"method\":\"animate\"}],\"x\":0.1,\"xanchor\":\"left\",\"y\":0,\"yanchor\":\"top\"}]},                        {\"responsive\": true}                    ).then(function(){\n",
       "                            Plotly.addFrames('de3e0034-5fb2-4eb3-836d-52c505ef2c22', [{\"data\":[{\"hovertemplate\":\"Country=Afghanistan<br>value=%{r}<br>variable=%{theta}<extra></extra>\",\"legendgroup\":\"\",\"line\":{\"color\":\"#636efa\",\"dash\":\"solid\"},\"marker\":{\"symbol\":\"circle\"},\"mode\":\"lines\",\"name\":\"\",\"r\":[0.0798,0.0594,0.0482,0.0412,0.0406,0.039,0.039,0.0377,0.0364,0.0361,0.0348,0.0316,0.0313,0.0291,0.0291,0.0291,0.0281,0.0275,0.0268,0.0252,0.0249,0.0233,0.0233,0.0227,0.022,0.022,0.0214,0.0204,0.0197999999999999,0.0182,0.0169,0.015,0.0798],\"showlegend\":false,\"subplot\":\"polar\",\"theta\":[\"ESTJ-A\",\"ESFJ-A\",\"INFP-T\",\"ESFJ-T\",\"ENFP-T\",\"ENFP-A\",\"ESTJ-T\",\"ISFJ-T\",\"ENFJ-A\",\"ESTP-A\",\"ISTJ-A\",\"INTP-T\",\"INFJ-T\",\"ISFP-T\",\"ENTJ-A\",\"ESTP-T\",\"ISTJ-T\",\"ESFP-T\",\"ENTP-A\",\"ESFP-A\",\"INTJ-T\",\"ISFJ-A\",\"INTP-A\",\"ENTP-T\",\"ISTP-T\",\"ENTJ-T\",\"ISTP-A\",\"INFP-A\",\"ENFJ-T\",\"INTJ-A\",\"ISFP-A\",\"INFJ-A\",\"ESTJ-A\"],\"type\":\"scatterpolar\"}],\"name\":\"Afghanistan\"},{\"data\":[{\"hovertemplate\":\"Country=Albania<br>value=%{r}<br>variable=%{theta}<extra></extra>\",\"legendgroup\":\"\",\"line\":{\"color\":\"#636efa\",\"dash\":\"solid\"},\"marker\":{\"symbol\":\"circle\"},\"mode\":\"lines\",\"name\":\"\",\"r\":[0.0469,0.0399,0.0836,0.0266,0.0647,0.0398,0.0197999999999999,0.0286,0.0363,0.0239,0.0223,0.0481,0.0584,0.0226,0.0397,0.0141999999999999,0.0195,0.0207,0.0397,0.0197999999999999,0.0352,0.0163,0.0273,0.0395,0.0128,0.0289,0.0105,0.0209,0.0412,0.0252,0.0108,0.0163999999999999,0.0469],\"showlegend\":false,\"subplot\":\"polar\",\"theta\":[\"ESTJ-A\",\"ESFJ-A\",\"INFP-T\",\"ESFJ-T\",\"ENFP-T\",\"ENFP-A\",\"ESTJ-T\",\"ISFJ-T\",\"ENFJ-A\",\"ESTP-A\",\"ISTJ-A\",\"INTP-T\",\"INFJ-T\",\"ISFP-T\",\"ENTJ-A\",\"ESTP-T\",\"ISTJ-T\",\"ESFP-T\",\"ENTP-A\",\"ESFP-A\",\"INTJ-T\",\"ISFJ-A\",\"INTP-A\",\"ENTP-T\",\"ISTP-T\",\"ENTJ-T\",\"ISTP-A\",\"INFP-A\",\"ENFJ-T\",\"INTJ-A\",\"ISFP-A\",\"INFJ-A\",\"ESTJ-A\"],\"type\":\"scatterpolar\"}],\"name\":\"Albania\"},{\"data\":[{\"hovertemplate\":\"Country=Algeria<br>value=%{r}<br>variable=%{theta}<extra></extra>\",\"legendgroup\":\"\",\"line\":{\"color\":\"#636efa\",\"dash\":\"solid\"},\"marker\":{\"symbol\":\"circle\"},\"mode\":\"lines\",\"name\":\"\",\"r\":[0.023,0.0275,0.1217999999999999,0.0165,0.0523,0.0334,0.0097,0.0222,0.0262,0.0154,0.0162,0.0851,0.0583,0.0264,0.0343,0.0087,0.0158,0.0148,0.0433,0.0131,0.0492,0.0115,0.0559,0.0306,0.0157,0.0192,0.0173,0.0338,0.0294,0.0404,0.0113,0.0217,0.023],\"showlegend\":false,\"subplot\":\"polar\",\"theta\":[\"ESTJ-A\",\"ESFJ-A\",\"INFP-T\",\"ESFJ-T\",\"ENFP-T\",\"ENFP-A\",\"ESTJ-T\",\"ISFJ-T\",\"ENFJ-A\",\"ESTP-A\",\"ISTJ-A\",\"INTP-T\",\"INFJ-T\",\"ISFP-T\",\"ENTJ-A\",\"ESTP-T\",\"ISTJ-T\",\"ESFP-T\",\"ENTP-A\",\"ESFP-A\",\"INTJ-T\",\"ISFJ-A\",\"INTP-A\",\"ENTP-T\",\"ISTP-T\",\"ENTJ-T\",\"ISTP-A\",\"INFP-A\",\"ENFJ-T\",\"INTJ-A\",\"ISFP-A\",\"INFJ-A\",\"ESTJ-A\"],\"type\":\"scatterpolar\"}],\"name\":\"Algeria\"},{\"data\":[{\"hovertemplate\":\"Country=Andorra<br>value=%{r}<br>variable=%{theta}<extra></extra>\",\"legendgroup\":\"\",\"line\":{\"color\":\"#636efa\",\"dash\":\"solid\"},\"marker\":{\"symbol\":\"circle\"},\"mode\":\"lines\",\"name\":\"\",\"r\":[0.0512,0.0372,0.1023,0.0279,0.093,0.0837,0.0093,0.0279,0.0605,0.0139999999999999,0.0186,0.0279,0.0372,0.0093,0.0279,0.0046999999999999,0.0093,0.0186,0.0093,0.0186,0.0186,0.0186,0.0233,0.0279,0.0093,0.0186,0.0093,0.0650999999999999,0.0558,0.0139999999999999,0.0326,0.0419,0.0512],\"showlegend\":false,\"subplot\":\"polar\",\"theta\":[\"ESTJ-A\",\"ESFJ-A\",\"INFP-T\",\"ESFJ-T\",\"ENFP-T\",\"ENFP-A\",\"ESTJ-T\",\"ISFJ-T\",\"ENFJ-A\",\"ESTP-A\",\"ISTJ-A\",\"INTP-T\",\"INFJ-T\",\"ISFP-T\",\"ENTJ-A\",\"ESTP-T\",\"ISTJ-T\",\"ESFP-T\",\"ENTP-A\",\"ESFP-A\",\"INTJ-T\",\"ISFJ-A\",\"INTP-A\",\"ENTP-T\",\"ISTP-T\",\"ENTJ-T\",\"ISTP-A\",\"INFP-A\",\"ENFJ-T\",\"INTJ-A\",\"ISFP-A\",\"INFJ-A\",\"ESTJ-A\"],\"type\":\"scatterpolar\"}],\"name\":\"Andorra\"},{\"data\":[{\"hovertemplate\":\"Country=Angola<br>value=%{r}<br>variable=%{theta}<extra></extra>\",\"legendgroup\":\"\",\"line\":{\"color\":\"#636efa\",\"dash\":\"solid\"},\"marker\":{\"symbol\":\"circle\"},\"mode\":\"lines\",\"name\":\"\",\"r\":[0.0484,0.0905,0.0771,0.0287,0.0475,0.0323,0.0108,0.0394,0.0475,0.026,0.0323,0.0349,0.0457,0.0224,0.0358,0.0108,0.0081,0.0224,0.0233,0.0323,0.0197,0.0323,0.0215,0.0215,0.0116,0.0134,0.0206,0.0341,0.0332,0.0269,0.0179,0.0314,0.0484],\"showlegend\":false,\"subplot\":\"polar\",\"theta\":[\"ESTJ-A\",\"ESFJ-A\",\"INFP-T\",\"ESFJ-T\",\"ENFP-T\",\"ENFP-A\",\"ESTJ-T\",\"ISFJ-T\",\"ENFJ-A\",\"ESTP-A\",\"ISTJ-A\",\"INTP-T\",\"INFJ-T\",\"ISFP-T\",\"ENTJ-A\",\"ESTP-T\",\"ISTJ-T\",\"ESFP-T\",\"ENTP-A\",\"ESFP-A\",\"INTJ-T\",\"ISFJ-A\",\"INTP-A\",\"ENTP-T\",\"ISTP-T\",\"ENTJ-T\",\"ISTP-A\",\"INFP-A\",\"ENFJ-T\",\"INTJ-A\",\"ISFP-A\",\"INFJ-A\",\"ESTJ-A\"],\"type\":\"scatterpolar\"}],\"name\":\"Angola\"},{\"data\":[{\"hovertemplate\":\"Country=Antigua and Barbuda<br>value=%{r}<br>variable=%{theta}<extra></extra>\",\"legendgroup\":\"\",\"line\":{\"color\":\"#636efa\",\"dash\":\"solid\"},\"marker\":{\"symbol\":\"circle\"},\"mode\":\"lines\",\"name\":\"\",\"r\":[0.0323,0.0661,0.1067999999999999,0.0279,0.0650999999999999,0.0441,0.0098,0.0451,0.0377,0.0162,0.0283999999999999,0.0382,0.0538999999999999,0.0356999999999999,0.0176,0.0083,0.0147,0.023,0.0225,0.0318,0.0200999999999999,0.0401999999999999,0.025,0.0245,0.0127,0.0103,0.0181,0.0313,0.0255,0.0127,0.0235,0.0308999999999999,0.0323],\"showlegend\":false,\"subplot\":\"polar\",\"theta\":[\"ESTJ-A\",\"ESFJ-A\",\"INFP-T\",\"ESFJ-T\",\"ENFP-T\",\"ENFP-A\",\"ESTJ-T\",\"ISFJ-T\",\"ENFJ-A\",\"ESTP-A\",\"ISTJ-A\",\"INTP-T\",\"INFJ-T\",\"ISFP-T\",\"ENTJ-A\",\"ESTP-T\",\"ISTJ-T\",\"ESFP-T\",\"ENTP-A\",\"ESFP-A\",\"INTJ-T\",\"ISFJ-A\",\"INTP-A\",\"ENTP-T\",\"ISTP-T\",\"ENTJ-T\",\"ISTP-A\",\"INFP-A\",\"ENFJ-T\",\"INTJ-A\",\"ISFP-A\",\"INFJ-A\",\"ESTJ-A\"],\"type\":\"scatterpolar\"}],\"name\":\"Antigua and Barbuda\"},{\"data\":[{\"hovertemplate\":\"Country=Argentina<br>value=%{r}<br>variable=%{theta}<extra></extra>\",\"legendgroup\":\"\",\"line\":{\"color\":\"#636efa\",\"dash\":\"solid\"},\"marker\":{\"symbol\":\"circle\"},\"mode\":\"lines\",\"name\":\"\",\"r\":[0.0159,0.027,0.151,0.0206,0.0822,0.0516,0.0086,0.0282,0.0275,0.0113,0.0177,0.0703,0.0689,0.0278,0.0161,0.0060999999999999,0.0165,0.0183,0.0256999999999999,0.0183,0.0387,0.0158,0.0356999999999999,0.0287,0.0148,0.0148,0.0107,0.0365,0.035,0.0265,0.0138,0.0195,0.0159],\"showlegend\":false,\"subplot\":\"polar\",\"theta\":[\"ESTJ-A\",\"ESFJ-A\",\"INFP-T\",\"ESFJ-T\",\"ENFP-T\",\"ENFP-A\",\"ESTJ-T\",\"ISFJ-T\",\"ENFJ-A\",\"ESTP-A\",\"ISTJ-A\",\"INTP-T\",\"INFJ-T\",\"ISFP-T\",\"ENTJ-A\",\"ESTP-T\",\"ISTJ-T\",\"ESFP-T\",\"ENTP-A\",\"ESFP-A\",\"INTJ-T\",\"ISFJ-A\",\"INTP-A\",\"ENTP-T\",\"ISTP-T\",\"ENTJ-T\",\"ISTP-A\",\"INFP-A\",\"ENFJ-T\",\"INTJ-A\",\"ISFP-A\",\"INFJ-A\",\"ESTJ-A\"],\"type\":\"scatterpolar\"}],\"name\":\"Argentina\"},{\"data\":[{\"hovertemplate\":\"Country=Armenia<br>value=%{r}<br>variable=%{theta}<extra></extra>\",\"legendgroup\":\"\",\"line\":{\"color\":\"#636efa\",\"dash\":\"solid\"},\"marker\":{\"symbol\":\"circle\"},\"mode\":\"lines\",\"name\":\"\",\"r\":[0.0542999999999999,0.0401,0.0839,0.0227999999999999,0.0611,0.0446,0.0197,0.0254,0.0362,0.0176,0.0202,0.0506,0.0487999999999999,0.0163,0.0414,0.0093999999999999,0.0197,0.0131,0.0401,0.0131,0.0383,0.0218,0.0333,0.042,0.0076,0.0275,0.0121,0.0299,0.043,0.0306999999999999,0.0105,0.0247,0.0542999999999999],\"showlegend\":false,\"subplot\":\"polar\",\"theta\":[\"ESTJ-A\",\"ESFJ-A\",\"INFP-T\",\"ESFJ-T\",\"ENFP-T\",\"ENFP-A\",\"ESTJ-T\",\"ISFJ-T\",\"ENFJ-A\",\"ESTP-A\",\"ISTJ-A\",\"INTP-T\",\"INFJ-T\",\"ISFP-T\",\"ENTJ-A\",\"ESTP-T\",\"ISTJ-T\",\"ESFP-T\",\"ENTP-A\",\"ESFP-A\",\"INTJ-T\",\"ISFJ-A\",\"INTP-A\",\"ENTP-T\",\"ISTP-T\",\"ENTJ-T\",\"ISTP-A\",\"INFP-A\",\"ENFJ-T\",\"INTJ-A\",\"ISFP-A\",\"INFJ-A\",\"ESTJ-A\"],\"type\":\"scatterpolar\"}],\"name\":\"Armenia\"},{\"data\":[{\"hovertemplate\":\"Country=Australia<br>value=%{r}<br>variable=%{theta}<extra></extra>\",\"legendgroup\":\"\",\"line\":{\"color\":\"#636efa\",\"dash\":\"solid\"},\"marker\":{\"symbol\":\"circle\"},\"mode\":\"lines\",\"name\":\"\",\"r\":[0.0256,0.0643,0.1222,0.0395,0.092,0.0562999999999999,0.0098999999999999,0.0533999999999999,0.0364,0.0139,0.0163999999999999,0.0304,0.0599,0.0401,0.0129,0.0073,0.0139999999999999,0.0283,0.0207,0.0304,0.0151,0.0292,0.0174,0.0184,0.0104,0.0086,0.0098,0.0278,0.0414,0.0121999999999999,0.0182,0.0173,0.0256],\"showlegend\":false,\"subplot\":\"polar\",\"theta\":[\"ESTJ-A\",\"ESFJ-A\",\"INFP-T\",\"ESFJ-T\",\"ENFP-T\",\"ENFP-A\",\"ESTJ-T\",\"ISFJ-T\",\"ENFJ-A\",\"ESTP-A\",\"ISTJ-A\",\"INTP-T\",\"INFJ-T\",\"ISFP-T\",\"ENTJ-A\",\"ESTP-T\",\"ISTJ-T\",\"ESFP-T\",\"ENTP-A\",\"ESFP-A\",\"INTJ-T\",\"ISFJ-A\",\"INTP-A\",\"ENTP-T\",\"ISTP-T\",\"ENTJ-T\",\"ISTP-A\",\"INFP-A\",\"ENFJ-T\",\"INTJ-A\",\"ISFP-A\",\"INFJ-A\",\"ESTJ-A\"],\"type\":\"scatterpolar\"}],\"name\":\"Australia\"},{\"data\":[{\"hovertemplate\":\"Country=Austria<br>value=%{r}<br>variable=%{theta}<extra></extra>\",\"legendgroup\":\"\",\"line\":{\"color\":\"#636efa\",\"dash\":\"solid\"},\"marker\":{\"symbol\":\"circle\"},\"mode\":\"lines\",\"name\":\"\",\"r\":[0.0286,0.0333,0.1414,0.022,0.0843999999999999,0.0593,0.0098,0.0289,0.0305,0.0158,0.0192999999999999,0.0579,0.0632,0.0243999999999999,0.0219,0.0068,0.0141,0.0168,0.0373,0.0199,0.0288,0.0171,0.0327,0.0283999999999999,0.0108,0.0128,0.0113,0.0318,0.0359,0.0237,0.0134,0.0177,0.0286],\"showlegend\":false,\"subplot\":\"polar\",\"theta\":[\"ESTJ-A\",\"ESFJ-A\",\"INFP-T\",\"ESFJ-T\",\"ENFP-T\",\"ENFP-A\",\"ESTJ-T\",\"ISFJ-T\",\"ENFJ-A\",\"ESTP-A\",\"ISTJ-A\",\"INTP-T\",\"INFJ-T\",\"ISFP-T\",\"ENTJ-A\",\"ESTP-T\",\"ISTJ-T\",\"ESFP-T\",\"ENTP-A\",\"ESFP-A\",\"INTJ-T\",\"ISFJ-A\",\"INTP-A\",\"ENTP-T\",\"ISTP-T\",\"ENTJ-T\",\"ISTP-A\",\"INFP-A\",\"ENFJ-T\",\"INTJ-A\",\"ISFP-A\",\"INFJ-A\",\"ESTJ-A\"],\"type\":\"scatterpolar\"}],\"name\":\"Austria\"},{\"data\":[{\"hovertemplate\":\"Country=Azerbaijan<br>value=%{r}<br>variable=%{theta}<extra></extra>\",\"legendgroup\":\"\",\"line\":{\"color\":\"#636efa\",\"dash\":\"solid\"},\"marker\":{\"symbol\":\"circle\"},\"mode\":\"lines\",\"name\":\"\",\"r\":[0.0581,0.0412,0.0803999999999999,0.0323,0.0550999999999999,0.0305,0.0276,0.0372,0.0325,0.0174,0.0295,0.0506,0.0437,0.0263,0.033,0.0134,0.0283,0.0237999999999999,0.0333,0.0233,0.0295,0.0189,0.0298,0.033,0.0146,0.0241,0.0139,0.0258,0.0417,0.0233,0.0109,0.0166,0.0581],\"showlegend\":false,\"subplot\":\"polar\",\"theta\":[\"ESTJ-A\",\"ESFJ-A\",\"INFP-T\",\"ESFJ-T\",\"ENFP-T\",\"ENFP-A\",\"ESTJ-T\",\"ISFJ-T\",\"ENFJ-A\",\"ESTP-A\",\"ISTJ-A\",\"INTP-T\",\"INFJ-T\",\"ISFP-T\",\"ENTJ-A\",\"ESTP-T\",\"ISTJ-T\",\"ESFP-T\",\"ENTP-A\",\"ESFP-A\",\"INTJ-T\",\"ISFJ-A\",\"INTP-A\",\"ENTP-T\",\"ISTP-T\",\"ENTJ-T\",\"ISTP-A\",\"INFP-A\",\"ENFJ-T\",\"INTJ-A\",\"ISFP-A\",\"INFJ-A\",\"ESTJ-A\"],\"type\":\"scatterpolar\"}],\"name\":\"Azerbaijan\"},{\"data\":[{\"hovertemplate\":\"Country=Bahamas<br>value=%{r}<br>variable=%{theta}<extra></extra>\",\"legendgroup\":\"\",\"line\":{\"color\":\"#636efa\",\"dash\":\"solid\"},\"marker\":{\"symbol\":\"circle\"},\"mode\":\"lines\",\"name\":\"\",\"r\":[0.0371,0.0649,0.0981,0.0256999999999999,0.0574,0.0503,0.0098,0.0387,0.0433,0.0141999999999999,0.0364,0.0361,0.0533,0.0323,0.0209,0.0096,0.0171,0.0139,0.0255,0.0202,0.0204999999999999,0.0455999999999999,0.0272,0.0227999999999999,0.015,0.0103,0.0168,0.0339,0.0269,0.0210999999999999,0.0236,0.0314,0.0371],\"showlegend\":false,\"subplot\":\"polar\",\"theta\":[\"ESTJ-A\",\"ESFJ-A\",\"INFP-T\",\"ESFJ-T\",\"ENFP-T\",\"ENFP-A\",\"ESTJ-T\",\"ISFJ-T\",\"ENFJ-A\",\"ESTP-A\",\"ISTJ-A\",\"INTP-T\",\"INFJ-T\",\"ISFP-T\",\"ENTJ-A\",\"ESTP-T\",\"ISTJ-T\",\"ESFP-T\",\"ENTP-A\",\"ESFP-A\",\"INTJ-T\",\"ISFJ-A\",\"INTP-A\",\"ENTP-T\",\"ISTP-T\",\"ENTJ-T\",\"ISTP-A\",\"INFP-A\",\"ENFJ-T\",\"INTJ-A\",\"ISFP-A\",\"INFJ-A\",\"ESTJ-A\"],\"type\":\"scatterpolar\"}],\"name\":\"Bahamas\"},{\"data\":[{\"hovertemplate\":\"Country=Bahrain<br>value=%{r}<br>variable=%{theta}<extra></extra>\",\"legendgroup\":\"\",\"line\":{\"color\":\"#636efa\",\"dash\":\"solid\"},\"marker\":{\"symbol\":\"circle\"},\"mode\":\"lines\",\"name\":\"\",\"r\":[0.0347,0.0549,0.1086999999999999,0.0349,0.0838,0.0501,0.0166,0.0385,0.0375999999999999,0.0186,0.0153,0.0358,0.0575,0.0311,0.026,0.0113999999999999,0.0147,0.0279999999999999,0.0266999999999999,0.023,0.0231,0.0212,0.0206,0.0243,0.0131,0.0159,0.0103,0.0279999999999999,0.045,0.0163,0.0159,0.0185,0.0347],\"showlegend\":false,\"subplot\":\"polar\",\"theta\":[\"ESTJ-A\",\"ESFJ-A\",\"INFP-T\",\"ESFJ-T\",\"ENFP-T\",\"ENFP-A\",\"ESTJ-T\",\"ISFJ-T\",\"ENFJ-A\",\"ESTP-A\",\"ISTJ-A\",\"INTP-T\",\"INFJ-T\",\"ISFP-T\",\"ENTJ-A\",\"ESTP-T\",\"ISTJ-T\",\"ESFP-T\",\"ENTP-A\",\"ESFP-A\",\"INTJ-T\",\"ISFJ-A\",\"INTP-A\",\"ENTP-T\",\"ISTP-T\",\"ENTJ-T\",\"ISTP-A\",\"INFP-A\",\"ENFJ-T\",\"INTJ-A\",\"ISFP-A\",\"INFJ-A\",\"ESTJ-A\"],\"type\":\"scatterpolar\"}],\"name\":\"Bahrain\"},{\"data\":[{\"hovertemplate\":\"Country=Bangladesh<br>value=%{r}<br>variable=%{theta}<extra></extra>\",\"legendgroup\":\"\",\"line\":{\"color\":\"#636efa\",\"dash\":\"solid\"},\"marker\":{\"symbol\":\"circle\"},\"mode\":\"lines\",\"name\":\"\",\"r\":[0.0250999999999999,0.0473,0.1189,0.0366,0.0713,0.0327999999999999,0.0191,0.0366999999999999,0.0281,0.0148,0.0172,0.0503,0.05,0.0486,0.0149,0.0166,0.0194,0.0352,0.019,0.0233,0.0226,0.0233,0.0268,0.0259,0.0215,0.0146,0.0143,0.0308999999999999,0.0358,0.0192,0.0204,0.0197,0.0250999999999999],\"showlegend\":false,\"subplot\":\"polar\",\"theta\":[\"ESTJ-A\",\"ESFJ-A\",\"INFP-T\",\"ESFJ-T\",\"ENFP-T\",\"ENFP-A\",\"ESTJ-T\",\"ISFJ-T\",\"ENFJ-A\",\"ESTP-A\",\"ISTJ-A\",\"INTP-T\",\"INFJ-T\",\"ISFP-T\",\"ENTJ-A\",\"ESTP-T\",\"ISTJ-T\",\"ESFP-T\",\"ENTP-A\",\"ESFP-A\",\"INTJ-T\",\"ISFJ-A\",\"INTP-A\",\"ENTP-T\",\"ISTP-T\",\"ENTJ-T\",\"ISTP-A\",\"INFP-A\",\"ENFJ-T\",\"INTJ-A\",\"ISFP-A\",\"INFJ-A\",\"ESTJ-A\"],\"type\":\"scatterpolar\"}],\"name\":\"Bangladesh\"},{\"data\":[{\"hovertemplate\":\"Country=Barbados<br>value=%{r}<br>variable=%{theta}<extra></extra>\",\"legendgroup\":\"\",\"line\":{\"color\":\"#636efa\",\"dash\":\"solid\"},\"marker\":{\"symbol\":\"circle\"},\"mode\":\"lines\",\"name\":\"\",\"r\":[0.0308,0.06,0.1127,0.0236,0.048,0.0474,0.0074,0.0449,0.0405,0.0146,0.0305,0.0356,0.0602,0.0289999999999999,0.02,0.0098,0.0181,0.0172,0.0264,0.0226,0.0233,0.0561,0.0286,0.0144,0.0106,0.0077,0.0166,0.037,0.0264,0.0265,0.0227,0.0308999999999999,0.0308],\"showlegend\":false,\"subplot\":\"polar\",\"theta\":[\"ESTJ-A\",\"ESFJ-A\",\"INFP-T\",\"ESFJ-T\",\"ENFP-T\",\"ENFP-A\",\"ESTJ-T\",\"ISFJ-T\",\"ENFJ-A\",\"ESTP-A\",\"ISTJ-A\",\"INTP-T\",\"INFJ-T\",\"ISFP-T\",\"ENTJ-A\",\"ESTP-T\",\"ISTJ-T\",\"ESFP-T\",\"ENTP-A\",\"ESFP-A\",\"INTJ-T\",\"ISFJ-A\",\"INTP-A\",\"ENTP-T\",\"ISTP-T\",\"ENTJ-T\",\"ISTP-A\",\"INFP-A\",\"ENFJ-T\",\"INTJ-A\",\"ISFP-A\",\"INFJ-A\",\"ESTJ-A\"],\"type\":\"scatterpolar\"}],\"name\":\"Barbados\"},{\"data\":[{\"hovertemplate\":\"Country=Belarus<br>value=%{r}<br>variable=%{theta}<extra></extra>\",\"legendgroup\":\"\",\"line\":{\"color\":\"#636efa\",\"dash\":\"solid\"},\"marker\":{\"symbol\":\"circle\"},\"mode\":\"lines\",\"name\":\"\",\"r\":[0.0417,0.0306,0.1007,0.0274,0.0662,0.0279,0.0213,0.0319,0.0220999999999999,0.0229,0.0345,0.072,0.0473,0.0282,0.0231,0.0116999999999999,0.0319,0.0146,0.0345,0.0144,0.0412,0.0204999999999999,0.0332,0.0359,0.0239,0.0220999999999999,0.0229,0.0128,0.0298,0.0266,0.013,0.0136,0.0417],\"showlegend\":false,\"subplot\":\"polar\",\"theta\":[\"ESTJ-A\",\"ESFJ-A\",\"INFP-T\",\"ESFJ-T\",\"ENFP-T\",\"ENFP-A\",\"ESTJ-T\",\"ISFJ-T\",\"ENFJ-A\",\"ESTP-A\",\"ISTJ-A\",\"INTP-T\",\"INFJ-T\",\"ISFP-T\",\"ENTJ-A\",\"ESTP-T\",\"ISTJ-T\",\"ESFP-T\",\"ENTP-A\",\"ESFP-A\",\"INTJ-T\",\"ISFJ-A\",\"INTP-A\",\"ENTP-T\",\"ISTP-T\",\"ENTJ-T\",\"ISTP-A\",\"INFP-A\",\"ENFJ-T\",\"INTJ-A\",\"ISFP-A\",\"INFJ-A\",\"ESTJ-A\"],\"type\":\"scatterpolar\"}],\"name\":\"Belarus\"},{\"data\":[{\"hovertemplate\":\"Country=Belgium<br>value=%{r}<br>variable=%{theta}<extra></extra>\",\"legendgroup\":\"\",\"line\":{\"color\":\"#636efa\",\"dash\":\"solid\"},\"marker\":{\"symbol\":\"circle\"},\"mode\":\"lines\",\"name\":\"\",\"r\":[0.0265,0.0383,0.138,0.0308,0.0965,0.0635,0.0095,0.0383,0.0278,0.0169,0.0159,0.0449,0.0605999999999999,0.0279999999999999,0.018,0.0068,0.0129,0.0203,0.0352,0.0241,0.0204999999999999,0.018,0.0322,0.0258,0.0098,0.0116999999999999,0.0111,0.0327999999999999,0.0385999999999999,0.0178,0.0134,0.0155,0.0265],\"showlegend\":false,\"subplot\":\"polar\",\"theta\":[\"ESTJ-A\",\"ESFJ-A\",\"INFP-T\",\"ESFJ-T\",\"ENFP-T\",\"ENFP-A\",\"ESTJ-T\",\"ISFJ-T\",\"ENFJ-A\",\"ESTP-A\",\"ISTJ-A\",\"INTP-T\",\"INFJ-T\",\"ISFP-T\",\"ENTJ-A\",\"ESTP-T\",\"ISTJ-T\",\"ESFP-T\",\"ENTP-A\",\"ESFP-A\",\"INTJ-T\",\"ISFJ-A\",\"INTP-A\",\"ENTP-T\",\"ISTP-T\",\"ENTJ-T\",\"ISTP-A\",\"INFP-A\",\"ENFJ-T\",\"INTJ-A\",\"ISFP-A\",\"INFJ-A\",\"ESTJ-A\"],\"type\":\"scatterpolar\"}],\"name\":\"Belgium\"},{\"data\":[{\"hovertemplate\":\"Country=Belize<br>value=%{r}<br>variable=%{theta}<extra></extra>\",\"legendgroup\":\"\",\"line\":{\"color\":\"#636efa\",\"dash\":\"solid\"},\"marker\":{\"symbol\":\"circle\"},\"mode\":\"lines\",\"name\":\"\",\"r\":[0.0288,0.0576999999999999,0.1085,0.0348,0.0661,0.0523,0.0081999999999999,0.0382,0.0387,0.0192,0.0237,0.0373,0.0542999999999999,0.03,0.0141,0.0107,0.0153,0.0266,0.0226,0.0317,0.0206,0.0404,0.0226,0.0246,0.011,0.0076,0.011,0.0331,0.0345,0.024,0.0229,0.0288,0.0288],\"showlegend\":false,\"subplot\":\"polar\",\"theta\":[\"ESTJ-A\",\"ESFJ-A\",\"INFP-T\",\"ESFJ-T\",\"ENFP-T\",\"ENFP-A\",\"ESTJ-T\",\"ISFJ-T\",\"ENFJ-A\",\"ESTP-A\",\"ISTJ-A\",\"INTP-T\",\"INFJ-T\",\"ISFP-T\",\"ENTJ-A\",\"ESTP-T\",\"ISTJ-T\",\"ESFP-T\",\"ENTP-A\",\"ESFP-A\",\"INTJ-T\",\"ISFJ-A\",\"INTP-A\",\"ENTP-T\",\"ISTP-T\",\"ENTJ-T\",\"ISTP-A\",\"INFP-A\",\"ENFJ-T\",\"INTJ-A\",\"ISFP-A\",\"INFJ-A\",\"ESTJ-A\"],\"type\":\"scatterpolar\"}],\"name\":\"Belize\"},{\"data\":[{\"hovertemplate\":\"Country=Bhutan<br>value=%{r}<br>variable=%{theta}<extra></extra>\",\"legendgroup\":\"\",\"line\":{\"color\":\"#636efa\",\"dash\":\"solid\"},\"marker\":{\"symbol\":\"circle\"},\"mode\":\"lines\",\"name\":\"\",\"r\":[0.0435,0.0913,0.1292,0.0455999999999999,0.0969,0.0421,0.0162,0.0441999999999999,0.0308999999999999,0.0042,0.0118999999999999,0.0372,0.0492,0.0441999999999999,0.019,0.0077,0.0118999999999999,0.0407,0.0056,0.0281,0.0105,0.0316,0.0154,0.0176,0.0084,0.0069999999999999,0.0056,0.0274,0.0344,0.0084,0.0183,0.0154,0.0435],\"showlegend\":false,\"subplot\":\"polar\",\"theta\":[\"ESTJ-A\",\"ESFJ-A\",\"INFP-T\",\"ESFJ-T\",\"ENFP-T\",\"ENFP-A\",\"ESTJ-T\",\"ISFJ-T\",\"ENFJ-A\",\"ESTP-A\",\"ISTJ-A\",\"INTP-T\",\"INFJ-T\",\"ISFP-T\",\"ENTJ-A\",\"ESTP-T\",\"ISTJ-T\",\"ESFP-T\",\"ENTP-A\",\"ESFP-A\",\"INTJ-T\",\"ISFJ-A\",\"INTP-A\",\"ENTP-T\",\"ISTP-T\",\"ENTJ-T\",\"ISTP-A\",\"INFP-A\",\"ENFJ-T\",\"INTJ-A\",\"ISFP-A\",\"INFJ-A\",\"ESTJ-A\"],\"type\":\"scatterpolar\"}],\"name\":\"Bhutan\"},{\"data\":[{\"hovertemplate\":\"Country=Bosnia and Herzegovina<br>value=%{r}<br>variable=%{theta}<extra></extra>\",\"legendgroup\":\"\",\"line\":{\"color\":\"#636efa\",\"dash\":\"solid\"},\"marker\":{\"symbol\":\"circle\"},\"mode\":\"lines\",\"name\":\"\",\"r\":[0.0359,0.0323,0.1099,0.016,0.0665,0.0478,0.012,0.0216,0.035,0.0199,0.0182,0.0665,0.0605999999999999,0.0197,0.0392,0.0095,0.0165,0.0139999999999999,0.0516999999999999,0.017,0.037,0.013,0.0414,0.0391,0.0102,0.0191,0.0107,0.0276,0.0336,0.0326,0.0089,0.0172,0.0359],\"showlegend\":false,\"subplot\":\"polar\",\"theta\":[\"ESTJ-A\",\"ESFJ-A\",\"INFP-T\",\"ESFJ-T\",\"ENFP-T\",\"ENFP-A\",\"ESTJ-T\",\"ISFJ-T\",\"ENFJ-A\",\"ESTP-A\",\"ISTJ-A\",\"INTP-T\",\"INFJ-T\",\"ISFP-T\",\"ENTJ-A\",\"ESTP-T\",\"ISTJ-T\",\"ESFP-T\",\"ENTP-A\",\"ESFP-A\",\"INTJ-T\",\"ISFJ-A\",\"INTP-A\",\"ENTP-T\",\"ISTP-T\",\"ENTJ-T\",\"ISTP-A\",\"INFP-A\",\"ENFJ-T\",\"INTJ-A\",\"ISFP-A\",\"INFJ-A\",\"ESTJ-A\"],\"type\":\"scatterpolar\"}],\"name\":\"Bosnia and Herzegovina\"},{\"data\":[{\"hovertemplate\":\"Country=Botswana<br>value=%{r}<br>variable=%{theta}<extra></extra>\",\"legendgroup\":\"\",\"line\":{\"color\":\"#636efa\",\"dash\":\"solid\"},\"marker\":{\"symbol\":\"circle\"},\"mode\":\"lines\",\"name\":\"\",\"r\":[0.0313,0.0587,0.1168,0.0250999999999999,0.072,0.0479,0.0118,0.0361,0.0418,0.0127,0.0184,0.0462,0.0591,0.0429,0.023,0.0101,0.0154,0.019,0.0233999999999999,0.0204999999999999,0.0177,0.0327,0.0250999999999999,0.0285,0.0165,0.0112,0.0089,0.0323,0.0327,0.0224,0.0179,0.0217,0.0313],\"showlegend\":false,\"subplot\":\"polar\",\"theta\":[\"ESTJ-A\",\"ESFJ-A\",\"INFP-T\",\"ESFJ-T\",\"ENFP-T\",\"ENFP-A\",\"ESTJ-T\",\"ISFJ-T\",\"ENFJ-A\",\"ESTP-A\",\"ISTJ-A\",\"INTP-T\",\"INFJ-T\",\"ISFP-T\",\"ENTJ-A\",\"ESTP-T\",\"ISTJ-T\",\"ESFP-T\",\"ENTP-A\",\"ESFP-A\",\"INTJ-T\",\"ISFJ-A\",\"INTP-A\",\"ENTP-T\",\"ISTP-T\",\"ENTJ-T\",\"ISTP-A\",\"INFP-A\",\"ENFJ-T\",\"INTJ-A\",\"ISFP-A\",\"INFJ-A\",\"ESTJ-A\"],\"type\":\"scatterpolar\"}],\"name\":\"Botswana\"},{\"data\":[{\"hovertemplate\":\"Country=Brazil<br>value=%{r}<br>variable=%{theta}<extra></extra>\",\"legendgroup\":\"\",\"line\":{\"color\":\"#636efa\",\"dash\":\"solid\"},\"marker\":{\"symbol\":\"circle\"},\"mode\":\"lines\",\"name\":\"\",\"r\":[0.0183,0.0275,0.1598,0.0223,0.0932,0.0404,0.0095,0.032,0.025,0.011,0.0203,0.0664,0.0742,0.0269,0.0151,0.0076,0.0191,0.0172,0.0232,0.0151,0.0374,0.017,0.0313,0.027,0.0139,0.0124,0.0113999999999999,0.0292,0.0381,0.0271,0.0113999999999999,0.0196,0.0183],\"showlegend\":false,\"subplot\":\"polar\",\"theta\":[\"ESTJ-A\",\"ESFJ-A\",\"INFP-T\",\"ESFJ-T\",\"ENFP-T\",\"ENFP-A\",\"ESTJ-T\",\"ISFJ-T\",\"ENFJ-A\",\"ESTP-A\",\"ISTJ-A\",\"INTP-T\",\"INFJ-T\",\"ISFP-T\",\"ENTJ-A\",\"ESTP-T\",\"ISTJ-T\",\"ESFP-T\",\"ENTP-A\",\"ESFP-A\",\"INTJ-T\",\"ISFJ-A\",\"INTP-A\",\"ENTP-T\",\"ISTP-T\",\"ENTJ-T\",\"ISTP-A\",\"INFP-A\",\"ENFJ-T\",\"INTJ-A\",\"ISFP-A\",\"INFJ-A\",\"ESTJ-A\"],\"type\":\"scatterpolar\"}],\"name\":\"Brazil\"},{\"data\":[{\"hovertemplate\":\"Country=Brunei<br>value=%{r}<br>variable=%{theta}<extra></extra>\",\"legendgroup\":\"\",\"line\":{\"color\":\"#636efa\",\"dash\":\"solid\"},\"marker\":{\"symbol\":\"circle\"},\"mode\":\"lines\",\"name\":\"\",\"r\":[0.0143,0.0506,0.1677,0.0394,0.0843,0.0377,0.0102,0.0596,0.0219,0.0088,0.0095,0.0272,0.0694,0.0797,0.0059,0.0101,0.0128,0.0464,0.0095,0.0308,0.0136,0.0264,0.0124,0.0148,0.0147,0.006,0.0098999999999999,0.0275,0.0339,0.0066,0.0243999999999999,0.0141,0.0143],\"showlegend\":false,\"subplot\":\"polar\",\"theta\":[\"ESTJ-A\",\"ESFJ-A\",\"INFP-T\",\"ESFJ-T\",\"ENFP-T\",\"ENFP-A\",\"ESTJ-T\",\"ISFJ-T\",\"ENFJ-A\",\"ESTP-A\",\"ISTJ-A\",\"INTP-T\",\"INFJ-T\",\"ISFP-T\",\"ENTJ-A\",\"ESTP-T\",\"ISTJ-T\",\"ESFP-T\",\"ENTP-A\",\"ESFP-A\",\"INTJ-T\",\"ISFJ-A\",\"INTP-A\",\"ENTP-T\",\"ISTP-T\",\"ENTJ-T\",\"ISTP-A\",\"INFP-A\",\"ENFJ-T\",\"INTJ-A\",\"ISFP-A\",\"INFJ-A\",\"ESTJ-A\"],\"type\":\"scatterpolar\"}],\"name\":\"Brunei\"},{\"data\":[{\"hovertemplate\":\"Country=Bulgaria<br>value=%{r}<br>variable=%{theta}<extra></extra>\",\"legendgroup\":\"\",\"line\":{\"color\":\"#636efa\",\"dash\":\"solid\"},\"marker\":{\"symbol\":\"circle\"},\"mode\":\"lines\",\"name\":\"\",\"r\":[0.0353,0.0279,0.1208,0.0181,0.0794,0.0487999999999999,0.0141999999999999,0.0247,0.0306999999999999,0.021,0.0206,0.0621,0.0535,0.0214,0.0342,0.009,0.0159,0.0134,0.0498,0.0147,0.0293,0.0144,0.0392,0.0401999999999999,0.0125,0.0194,0.0138,0.0304,0.0325,0.026,0.0107,0.0162,0.0353],\"showlegend\":false,\"subplot\":\"polar\",\"theta\":[\"ESTJ-A\",\"ESFJ-A\",\"INFP-T\",\"ESFJ-T\",\"ENFP-T\",\"ENFP-A\",\"ESTJ-T\",\"ISFJ-T\",\"ENFJ-A\",\"ESTP-A\",\"ISTJ-A\",\"INTP-T\",\"INFJ-T\",\"ISFP-T\",\"ENTJ-A\",\"ESTP-T\",\"ISTJ-T\",\"ESFP-T\",\"ENTP-A\",\"ESFP-A\",\"INTJ-T\",\"ISFJ-A\",\"INTP-A\",\"ENTP-T\",\"ISTP-T\",\"ENTJ-T\",\"ISTP-A\",\"INFP-A\",\"ENFJ-T\",\"INTJ-A\",\"ISFP-A\",\"INFJ-A\",\"ESTJ-A\"],\"type\":\"scatterpolar\"}],\"name\":\"Bulgaria\"},{\"data\":[{\"hovertemplate\":\"Country=Burkina Faso<br>value=%{r}<br>variable=%{theta}<extra></extra>\",\"legendgroup\":\"\",\"line\":{\"color\":\"#636efa\",\"dash\":\"solid\"},\"marker\":{\"symbol\":\"circle\"},\"mode\":\"lines\",\"name\":\"\",\"r\":[0.0235,0.0670999999999999,0.0771999999999999,0.0268,0.1174,0.057,0.0067,0.0369,0.0670999999999999,0.0268,0.0168,0.0302,0.0503,0.0369,0.0134,0.0101,0.0034,0.047,0.0268,0.0436,0.0101,0.0134,0.0235,0.0168,0.0067,0.0101,0.0235,0.0235,0.0403,0.0101,0.0134,0.0302,0.0235],\"showlegend\":false,\"subplot\":\"polar\",\"theta\":[\"ESTJ-A\",\"ESFJ-A\",\"INFP-T\",\"ESFJ-T\",\"ENFP-T\",\"ENFP-A\",\"ESTJ-T\",\"ISFJ-T\",\"ENFJ-A\",\"ESTP-A\",\"ISTJ-A\",\"INTP-T\",\"INFJ-T\",\"ISFP-T\",\"ENTJ-A\",\"ESTP-T\",\"ISTJ-T\",\"ESFP-T\",\"ENTP-A\",\"ESFP-A\",\"INTJ-T\",\"ISFJ-A\",\"INTP-A\",\"ENTP-T\",\"ISTP-T\",\"ENTJ-T\",\"ISTP-A\",\"INFP-A\",\"ENFJ-T\",\"INTJ-A\",\"ISFP-A\",\"INFJ-A\",\"ESTJ-A\"],\"type\":\"scatterpolar\"}],\"name\":\"Burkina Faso\"},{\"data\":[{\"hovertemplate\":\"Country=Cambodia<br>value=%{r}<br>variable=%{theta}<extra></extra>\",\"legendgroup\":\"\",\"line\":{\"color\":\"#636efa\",\"dash\":\"solid\"},\"marker\":{\"symbol\":\"circle\"},\"mode\":\"lines\",\"name\":\"\",\"r\":[0.0283999999999999,0.0689,0.1196,0.045,0.0806,0.0467,0.0181,0.0455,0.0314,0.0138,0.0148,0.0276,0.0571,0.0483,0.012,0.0116,0.0173,0.0387,0.0181,0.0294,0.0159,0.0253,0.0151,0.0189,0.0162,0.0098,0.0103,0.0295,0.038,0.0121,0.0197,0.0162,0.0283999999999999],\"showlegend\":false,\"subplot\":\"polar\",\"theta\":[\"ESTJ-A\",\"ESFJ-A\",\"INFP-T\",\"ESFJ-T\",\"ENFP-T\",\"ENFP-A\",\"ESTJ-T\",\"ISFJ-T\",\"ENFJ-A\",\"ESTP-A\",\"ISTJ-A\",\"INTP-T\",\"INFJ-T\",\"ISFP-T\",\"ENTJ-A\",\"ESTP-T\",\"ISTJ-T\",\"ESFP-T\",\"ENTP-A\",\"ESFP-A\",\"INTJ-T\",\"ISFJ-A\",\"INTP-A\",\"ENTP-T\",\"ISTP-T\",\"ENTJ-T\",\"ISTP-A\",\"INFP-A\",\"ENFJ-T\",\"INTJ-A\",\"ISFP-A\",\"INFJ-A\",\"ESTJ-A\"],\"type\":\"scatterpolar\"}],\"name\":\"Cambodia\"},{\"data\":[{\"hovertemplate\":\"Country=Cameroon<br>value=%{r}<br>variable=%{theta}<extra></extra>\",\"legendgroup\":\"\",\"line\":{\"color\":\"#636efa\",\"dash\":\"solid\"},\"marker\":{\"symbol\":\"circle\"},\"mode\":\"lines\",\"name\":\"\",\"r\":[0.0518,0.0938,0.0834,0.0559999999999999,0.0457,0.0341,0.0219,0.0432,0.0512,0.0139999999999999,0.0219,0.0279999999999999,0.0518,0.0323,0.0225,0.0128,0.0171,0.0292,0.0152,0.039,0.0231,0.0371,0.0097,0.025,0.0116,0.0189,0.0091,0.0262,0.0305,0.0121999999999999,0.0116,0.0200999999999999,0.0518],\"showlegend\":false,\"subplot\":\"polar\",\"theta\":[\"ESTJ-A\",\"ESFJ-A\",\"INFP-T\",\"ESFJ-T\",\"ENFP-T\",\"ENFP-A\",\"ESTJ-T\",\"ISFJ-T\",\"ENFJ-A\",\"ESTP-A\",\"ISTJ-A\",\"INTP-T\",\"INFJ-T\",\"ISFP-T\",\"ENTJ-A\",\"ESTP-T\",\"ISTJ-T\",\"ESFP-T\",\"ENTP-A\",\"ESFP-A\",\"INTJ-T\",\"ISFJ-A\",\"INTP-A\",\"ENTP-T\",\"ISTP-T\",\"ENTJ-T\",\"ISTP-A\",\"INFP-A\",\"ENFJ-T\",\"INTJ-A\",\"ISFP-A\",\"INFJ-A\",\"ESTJ-A\"],\"type\":\"scatterpolar\"}],\"name\":\"Cameroon\"},{\"data\":[{\"hovertemplate\":\"Country=Canada<br>value=%{r}<br>variable=%{theta}<extra></extra>\",\"legendgroup\":\"\",\"line\":{\"color\":\"#636efa\",\"dash\":\"solid\"},\"marker\":{\"symbol\":\"circle\"},\"mode\":\"lines\",\"name\":\"\",\"r\":[0.0248,0.048,0.1275,0.0346,0.0846,0.0498,0.0108,0.0542,0.0326,0.0141999999999999,0.0192,0.0372,0.065,0.0375,0.0154,0.0079,0.0163999999999999,0.0237999999999999,0.0239,0.0237999999999999,0.0191,0.0296,0.022,0.0220999999999999,0.0116999999999999,0.0105,0.0112,0.0299,0.0395,0.0159,0.0178,0.0192999999999999,0.0248],\"showlegend\":false,\"subplot\":\"polar\",\"theta\":[\"ESTJ-A\",\"ESFJ-A\",\"INFP-T\",\"ESFJ-T\",\"ENFP-T\",\"ENFP-A\",\"ESTJ-T\",\"ISFJ-T\",\"ENFJ-A\",\"ESTP-A\",\"ISTJ-A\",\"INTP-T\",\"INFJ-T\",\"ISFP-T\",\"ENTJ-A\",\"ESTP-T\",\"ISTJ-T\",\"ESFP-T\",\"ENTP-A\",\"ESFP-A\",\"INTJ-T\",\"ISFJ-A\",\"INTP-A\",\"ENTP-T\",\"ISTP-T\",\"ENTJ-T\",\"ISTP-A\",\"INFP-A\",\"ENFJ-T\",\"INTJ-A\",\"ISFP-A\",\"INFJ-A\",\"ESTJ-A\"],\"type\":\"scatterpolar\"}],\"name\":\"Canada\"},{\"data\":[{\"hovertemplate\":\"Country=Chile<br>value=%{r}<br>variable=%{theta}<extra></extra>\",\"legendgroup\":\"\",\"line\":{\"color\":\"#636efa\",\"dash\":\"solid\"},\"marker\":{\"symbol\":\"circle\"},\"mode\":\"lines\",\"name\":\"\",\"r\":[0.0179,0.0302999999999999,0.1523,0.0165,0.0727,0.0594,0.0075,0.0268,0.0305,0.011,0.0207,0.0667,0.0669,0.025,0.0157,0.005,0.0162,0.013,0.0268,0.0179,0.0375,0.0192,0.0374,0.0235,0.0138,0.0108,0.0132,0.044,0.031,0.0297,0.0146,0.0266,0.0179],\"showlegend\":false,\"subplot\":\"polar\",\"theta\":[\"ESTJ-A\",\"ESFJ-A\",\"INFP-T\",\"ESFJ-T\",\"ENFP-T\",\"ENFP-A\",\"ESTJ-T\",\"ISFJ-T\",\"ENFJ-A\",\"ESTP-A\",\"ISTJ-A\",\"INTP-T\",\"INFJ-T\",\"ISFP-T\",\"ENTJ-A\",\"ESTP-T\",\"ISTJ-T\",\"ESFP-T\",\"ENTP-A\",\"ESFP-A\",\"INTJ-T\",\"ISFJ-A\",\"INTP-A\",\"ENTP-T\",\"ISTP-T\",\"ENTJ-T\",\"ISTP-A\",\"INFP-A\",\"ENFJ-T\",\"INTJ-A\",\"ISFP-A\",\"INFJ-A\",\"ESTJ-A\"],\"type\":\"scatterpolar\"}],\"name\":\"Chile\"},{\"data\":[{\"hovertemplate\":\"Country=China<br>value=%{r}<br>variable=%{theta}<extra></extra>\",\"legendgroup\":\"\",\"line\":{\"color\":\"#636efa\",\"dash\":\"solid\"},\"marker\":{\"symbol\":\"circle\"},\"mode\":\"lines\",\"name\":\"\",\"r\":[0.0335,0.0601,0.0822,0.0415,0.059,0.0353,0.0206,0.059,0.0279999999999999,0.017,0.0231,0.0366999999999999,0.0401,0.0575,0.0175,0.015,0.0243,0.0385,0.0207,0.0296,0.0210999999999999,0.0362,0.0204,0.0227999999999999,0.0214,0.0128,0.0144999999999999,0.0241,0.0289,0.0163,0.0266,0.0159,0.0335],\"showlegend\":false,\"subplot\":\"polar\",\"theta\":[\"ESTJ-A\",\"ESFJ-A\",\"INFP-T\",\"ESFJ-T\",\"ENFP-T\",\"ENFP-A\",\"ESTJ-T\",\"ISFJ-T\",\"ENFJ-A\",\"ESTP-A\",\"ISTJ-A\",\"INTP-T\",\"INFJ-T\",\"ISFP-T\",\"ENTJ-A\",\"ESTP-T\",\"ISTJ-T\",\"ESFP-T\",\"ENTP-A\",\"ESFP-A\",\"INTJ-T\",\"ISFJ-A\",\"INTP-A\",\"ENTP-T\",\"ISTP-T\",\"ENTJ-T\",\"ISTP-A\",\"INFP-A\",\"ENFJ-T\",\"INTJ-A\",\"ISFP-A\",\"INFJ-A\",\"ESTJ-A\"],\"type\":\"scatterpolar\"}],\"name\":\"China\"},{\"data\":[{\"hovertemplate\":\"Country=Colombia<br>value=%{r}<br>variable=%{theta}<extra></extra>\",\"legendgroup\":\"\",\"line\":{\"color\":\"#636efa\",\"dash\":\"solid\"},\"marker\":{\"symbol\":\"circle\"},\"mode\":\"lines\",\"name\":\"\",\"r\":[0.0302,0.0608,0.107,0.0236,0.0773,0.0605999999999999,0.0128,0.0239,0.0478,0.0152,0.0169,0.0573,0.0479,0.0224,0.0245,0.0097,0.0163999999999999,0.0195,0.0322,0.0256999999999999,0.0282,0.0197999999999999,0.0288,0.0278,0.0123,0.0157,0.0103,0.0302,0.0366,0.0245,0.013,0.0210999999999999,0.0302],\"showlegend\":false,\"subplot\":\"polar\",\"theta\":[\"ESTJ-A\",\"ESFJ-A\",\"INFP-T\",\"ESFJ-T\",\"ENFP-T\",\"ENFP-A\",\"ESTJ-T\",\"ISFJ-T\",\"ENFJ-A\",\"ESTP-A\",\"ISTJ-A\",\"INTP-T\",\"INFJ-T\",\"ISFP-T\",\"ENTJ-A\",\"ESTP-T\",\"ISTJ-T\",\"ESFP-T\",\"ENTP-A\",\"ESFP-A\",\"INTJ-T\",\"ISFJ-A\",\"INTP-A\",\"ENTP-T\",\"ISTP-T\",\"ENTJ-T\",\"ISTP-A\",\"INFP-A\",\"ENFJ-T\",\"INTJ-A\",\"ISFP-A\",\"INFJ-A\",\"ESTJ-A\"],\"type\":\"scatterpolar\"}],\"name\":\"Colombia\"},{\"data\":[{\"hovertemplate\":\"Country=Congo<br>value=%{r}<br>variable=%{theta}<extra></extra>\",\"legendgroup\":\"\",\"line\":{\"color\":\"#636efa\",\"dash\":\"solid\"},\"marker\":{\"symbol\":\"circle\"},\"mode\":\"lines\",\"name\":\"\",\"r\":[0.0663,0.0663,0.0401999999999999,0.0542,0.0501999999999999,0.0421999999999999,0.0161,0.0281,0.0501999999999999,0.0321,0.0361,0.0220999999999999,0.0542,0.0220999999999999,0.0421999999999999,0.0161,0.0181,0.0341,0.0301,0.0260999999999999,0.0161,0.0482,0.012,0.0321,0.0161,0.0220999999999999,0.0161,0.01,0.0301,0.0200999999999999,0.0161,0.0141,0.0663],\"showlegend\":false,\"subplot\":\"polar\",\"theta\":[\"ESTJ-A\",\"ESFJ-A\",\"INFP-T\",\"ESFJ-T\",\"ENFP-T\",\"ENFP-A\",\"ESTJ-T\",\"ISFJ-T\",\"ENFJ-A\",\"ESTP-A\",\"ISTJ-A\",\"INTP-T\",\"INFJ-T\",\"ISFP-T\",\"ENTJ-A\",\"ESTP-T\",\"ISTJ-T\",\"ESFP-T\",\"ENTP-A\",\"ESFP-A\",\"INTJ-T\",\"ISFJ-A\",\"INTP-A\",\"ENTP-T\",\"ISTP-T\",\"ENTJ-T\",\"ISTP-A\",\"INFP-A\",\"ENFJ-T\",\"INTJ-A\",\"ISFP-A\",\"INFJ-A\",\"ESTJ-A\"],\"type\":\"scatterpolar\"}],\"name\":\"Congo\"},{\"data\":[{\"hovertemplate\":\"Country=Costa Rica<br>value=%{r}<br>variable=%{theta}<extra></extra>\",\"legendgroup\":\"\",\"line\":{\"color\":\"#636efa\",\"dash\":\"solid\"},\"marker\":{\"symbol\":\"circle\"},\"mode\":\"lines\",\"name\":\"\",\"r\":[0.0258,0.0464,0.1031,0.0252,0.0875,0.0674,0.0115,0.0291,0.0397,0.0149,0.0204999999999999,0.0501,0.0498,0.0219,0.0208,0.0087,0.0174,0.0186,0.033,0.0260999999999999,0.0297,0.0210999999999999,0.0297,0.0306,0.0106,0.016,0.011,0.0352,0.0398,0.0237999999999999,0.0156,0.0194,0.0258],\"showlegend\":false,\"subplot\":\"polar\",\"theta\":[\"ESTJ-A\",\"ESFJ-A\",\"INFP-T\",\"ESFJ-T\",\"ENFP-T\",\"ENFP-A\",\"ESTJ-T\",\"ISFJ-T\",\"ENFJ-A\",\"ESTP-A\",\"ISTJ-A\",\"INTP-T\",\"INFJ-T\",\"ISFP-T\",\"ENTJ-A\",\"ESTP-T\",\"ISTJ-T\",\"ESFP-T\",\"ENTP-A\",\"ESFP-A\",\"INTJ-T\",\"ISFJ-A\",\"INTP-A\",\"ENTP-T\",\"ISTP-T\",\"ENTJ-T\",\"ISTP-A\",\"INFP-A\",\"ENFJ-T\",\"INTJ-A\",\"ISFP-A\",\"INFJ-A\",\"ESTJ-A\"],\"type\":\"scatterpolar\"}],\"name\":\"Costa Rica\"},{\"data\":[{\"hovertemplate\":\"Country=Croatia<br>value=%{r}<br>variable=%{theta}<extra></extra>\",\"legendgroup\":\"\",\"line\":{\"color\":\"#636efa\",\"dash\":\"solid\"},\"marker\":{\"symbol\":\"circle\"},\"mode\":\"lines\",\"name\":\"\",\"r\":[0.0349,0.0355,0.1201,0.0203,0.0771,0.0509,0.0129,0.026,0.0356,0.019,0.0182,0.0592,0.0607,0.0218,0.0297,0.0083,0.0158,0.0156,0.0409,0.0183,0.0333,0.0151,0.0333,0.0361,0.0115,0.0177,0.012,0.0283,0.0356999999999999,0.0272,0.0103,0.0187999999999999,0.0349],\"showlegend\":false,\"subplot\":\"polar\",\"theta\":[\"ESTJ-A\",\"ESFJ-A\",\"INFP-T\",\"ESFJ-T\",\"ENFP-T\",\"ENFP-A\",\"ESTJ-T\",\"ISFJ-T\",\"ENFJ-A\",\"ESTP-A\",\"ISTJ-A\",\"INTP-T\",\"INFJ-T\",\"ISFP-T\",\"ENTJ-A\",\"ESTP-T\",\"ISTJ-T\",\"ESFP-T\",\"ENTP-A\",\"ESFP-A\",\"INTJ-T\",\"ISFJ-A\",\"INTP-A\",\"ENTP-T\",\"ISTP-T\",\"ENTJ-T\",\"ISTP-A\",\"INFP-A\",\"ENFJ-T\",\"INTJ-A\",\"ISFP-A\",\"INFJ-A\",\"ESTJ-A\"],\"type\":\"scatterpolar\"}],\"name\":\"Croatia\"},{\"data\":[{\"hovertemplate\":\"Country=Cuba<br>value=%{r}<br>variable=%{theta}<extra></extra>\",\"legendgroup\":\"\",\"line\":{\"color\":\"#636efa\",\"dash\":\"solid\"},\"marker\":{\"symbol\":\"circle\"},\"mode\":\"lines\",\"name\":\"\",\"r\":[0.0181,0.0758,0.0578,0.0289,0.1083,0.0902999999999999,0.0108,0.0289,0.0504999999999999,0.0036,0.0181,0.0325,0.0217,0.0289,0.0144,0.0036,0.0253,0.0217,0.0578,0.0361,0.0108,0.0325,0.0217,0.0325,0.0181,0.0108,0.0108,0.065,0.0181,0.0108,0.0144,0.0217,0.0181],\"showlegend\":false,\"subplot\":\"polar\",\"theta\":[\"ESTJ-A\",\"ESFJ-A\",\"INFP-T\",\"ESFJ-T\",\"ENFP-T\",\"ENFP-A\",\"ESTJ-T\",\"ISFJ-T\",\"ENFJ-A\",\"ESTP-A\",\"ISTJ-A\",\"INTP-T\",\"INFJ-T\",\"ISFP-T\",\"ENTJ-A\",\"ESTP-T\",\"ISTJ-T\",\"ESFP-T\",\"ENTP-A\",\"ESFP-A\",\"INTJ-T\",\"ISFJ-A\",\"INTP-A\",\"ENTP-T\",\"ISTP-T\",\"ENTJ-T\",\"ISTP-A\",\"INFP-A\",\"ENFJ-T\",\"INTJ-A\",\"ISFP-A\",\"INFJ-A\",\"ESTJ-A\"],\"type\":\"scatterpolar\"}],\"name\":\"Cuba\"},{\"data\":[{\"hovertemplate\":\"Country=Cyprus<br>value=%{r}<br>variable=%{theta}<extra></extra>\",\"legendgroup\":\"\",\"line\":{\"color\":\"#636efa\",\"dash\":\"solid\"},\"marker\":{\"symbol\":\"circle\"},\"mode\":\"lines\",\"name\":\"\",\"r\":[0.0338,0.0498,0.1135999999999999,0.0299,0.0822,0.0473,0.0156,0.0317,0.0395999999999999,0.0178,0.0189,0.0465,0.0581,0.027,0.0283,0.0095,0.0163999999999999,0.0215,0.0327999999999999,0.0199,0.0247,0.0195,0.0252,0.0327,0.0115,0.0187999999999999,0.0093,0.0248,0.0448,0.0191,0.0113999999999999,0.0177,0.0338],\"showlegend\":false,\"subplot\":\"polar\",\"theta\":[\"ESTJ-A\",\"ESFJ-A\",\"INFP-T\",\"ESFJ-T\",\"ENFP-T\",\"ENFP-A\",\"ESTJ-T\",\"ISFJ-T\",\"ENFJ-A\",\"ESTP-A\",\"ISTJ-A\",\"INTP-T\",\"INFJ-T\",\"ISFP-T\",\"ENTJ-A\",\"ESTP-T\",\"ISTJ-T\",\"ESFP-T\",\"ENTP-A\",\"ESFP-A\",\"INTJ-T\",\"ISFJ-A\",\"INTP-A\",\"ENTP-T\",\"ISTP-T\",\"ENTJ-T\",\"ISTP-A\",\"INFP-A\",\"ENFJ-T\",\"INTJ-A\",\"ISFP-A\",\"INFJ-A\",\"ESTJ-A\"],\"type\":\"scatterpolar\"}],\"name\":\"Cyprus\"},{\"data\":[{\"hovertemplate\":\"Country=Czech Republic<br>value=%{r}<br>variable=%{theta}<extra></extra>\",\"legendgroup\":\"\",\"line\":{\"color\":\"#636efa\",\"dash\":\"solid\"},\"marker\":{\"symbol\":\"circle\"},\"mode\":\"lines\",\"name\":\"\",\"r\":[0.0296,0.0302,0.1344,0.0236,0.0739,0.0444,0.0124,0.0324,0.0216,0.0192,0.0213,0.0636,0.0643,0.0260999999999999,0.0208,0.0093,0.0191,0.0185,0.0372,0.0194,0.0347,0.0166,0.0368,0.0327,0.0141999999999999,0.0136,0.0152,0.0296,0.0295,0.0263,0.0132,0.0163,0.0296],\"showlegend\":false,\"subplot\":\"polar\",\"theta\":[\"ESTJ-A\",\"ESFJ-A\",\"INFP-T\",\"ESFJ-T\",\"ENFP-T\",\"ENFP-A\",\"ESTJ-T\",\"ISFJ-T\",\"ENFJ-A\",\"ESTP-A\",\"ISTJ-A\",\"INTP-T\",\"INFJ-T\",\"ISFP-T\",\"ENTJ-A\",\"ESTP-T\",\"ISTJ-T\",\"ESFP-T\",\"ENTP-A\",\"ESFP-A\",\"INTJ-T\",\"ISFJ-A\",\"INTP-A\",\"ENTP-T\",\"ISTP-T\",\"ENTJ-T\",\"ISTP-A\",\"INFP-A\",\"ENFJ-T\",\"INTJ-A\",\"ISFP-A\",\"INFJ-A\",\"ESTJ-A\"],\"type\":\"scatterpolar\"}],\"name\":\"Czech Republic\"},{\"data\":[{\"hovertemplate\":\"Country=Congo (Kinshasa)<br>value=%{r}<br>variable=%{theta}<extra></extra>\",\"legendgroup\":\"\",\"line\":{\"color\":\"#636efa\",\"dash\":\"solid\"},\"marker\":{\"symbol\":\"circle\"},\"mode\":\"lines\",\"name\":\"\",\"r\":[0.0663,0.0663,0.0401999999999999,0.0542,0.0501999999999999,0.0421999999999999,0.0161,0.0281,0.0501999999999999,0.0321,0.0361,0.0220999999999999,0.0542,0.0220999999999999,0.0421999999999999,0.0161,0.0181,0.0341,0.0301,0.0260999999999999,0.0161,0.0482,0.012,0.0321,0.0161,0.0220999999999999,0.0161,0.01,0.0301,0.0200999999999999,0.0161,0.0141,0.0663],\"showlegend\":false,\"subplot\":\"polar\",\"theta\":[\"ESTJ-A\",\"ESFJ-A\",\"INFP-T\",\"ESFJ-T\",\"ENFP-T\",\"ENFP-A\",\"ESTJ-T\",\"ISFJ-T\",\"ENFJ-A\",\"ESTP-A\",\"ISTJ-A\",\"INTP-T\",\"INFJ-T\",\"ISFP-T\",\"ENTJ-A\",\"ESTP-T\",\"ISTJ-T\",\"ESFP-T\",\"ENTP-A\",\"ESFP-A\",\"INTJ-T\",\"ISFJ-A\",\"INTP-A\",\"ENTP-T\",\"ISTP-T\",\"ENTJ-T\",\"ISTP-A\",\"INFP-A\",\"ENFJ-T\",\"INTJ-A\",\"ISFP-A\",\"INFJ-A\",\"ESTJ-A\"],\"type\":\"scatterpolar\"}],\"name\":\"Congo (Kinshasa)\"},{\"data\":[{\"hovertemplate\":\"Country=Denmark<br>value=%{r}<br>variable=%{theta}<extra></extra>\",\"legendgroup\":\"\",\"line\":{\"color\":\"#636efa\",\"dash\":\"solid\"},\"marker\":{\"symbol\":\"circle\"},\"mode\":\"lines\",\"name\":\"\",\"r\":[0.0289,0.0449,0.1253,0.027,0.0824,0.0673,0.0085,0.0383,0.0333,0.0192999999999999,0.0176,0.0399,0.0649,0.0296,0.0184,0.0064,0.0134,0.0197,0.0358,0.0285,0.02,0.0195,0.031,0.0213,0.0112,0.0093,0.0133,0.0368,0.0337,0.0187999999999999,0.0174,0.0185,0.0289],\"showlegend\":false,\"subplot\":\"polar\",\"theta\":[\"ESTJ-A\",\"ESFJ-A\",\"INFP-T\",\"ESFJ-T\",\"ENFP-T\",\"ENFP-A\",\"ESTJ-T\",\"ISFJ-T\",\"ENFJ-A\",\"ESTP-A\",\"ISTJ-A\",\"INTP-T\",\"INFJ-T\",\"ISFP-T\",\"ENTJ-A\",\"ESTP-T\",\"ISTJ-T\",\"ESFP-T\",\"ENTP-A\",\"ESFP-A\",\"INTJ-T\",\"ISFJ-A\",\"INTP-A\",\"ENTP-T\",\"ISTP-T\",\"ENTJ-T\",\"ISTP-A\",\"INFP-A\",\"ENFJ-T\",\"INTJ-A\",\"ISFP-A\",\"INFJ-A\",\"ESTJ-A\"],\"type\":\"scatterpolar\"}],\"name\":\"Denmark\"},{\"data\":[{\"hovertemplate\":\"Country=Djibouti<br>value=%{r}<br>variable=%{theta}<extra></extra>\",\"legendgroup\":\"\",\"line\":{\"color\":\"#636efa\",\"dash\":\"solid\"},\"marker\":{\"symbol\":\"circle\"},\"mode\":\"lines\",\"name\":\"\",\"r\":[0.0311,0.0687,0.054,0.0229,0.0622,0.0588999999999999,0.018,0.0344,0.0229,0.0327,0.0393,0.0147,0.0458,0.0327,0.0278,0.018,0.0115,0.0229,0.0344,0.0196,0.0213,0.0229,0.0507,0.0147,0.018,0.0213,0.018,0.0426,0.0295,0.0278,0.0295,0.0311,0.0311],\"showlegend\":false,\"subplot\":\"polar\",\"theta\":[\"ESTJ-A\",\"ESFJ-A\",\"INFP-T\",\"ESFJ-T\",\"ENFP-T\",\"ENFP-A\",\"ESTJ-T\",\"ISFJ-T\",\"ENFJ-A\",\"ESTP-A\",\"ISTJ-A\",\"INTP-T\",\"INFJ-T\",\"ISFP-T\",\"ENTJ-A\",\"ESTP-T\",\"ISTJ-T\",\"ESFP-T\",\"ENTP-A\",\"ESFP-A\",\"INTJ-T\",\"ISFJ-A\",\"INTP-A\",\"ENTP-T\",\"ISTP-T\",\"ENTJ-T\",\"ISTP-A\",\"INFP-A\",\"ENFJ-T\",\"INTJ-A\",\"ISFP-A\",\"INFJ-A\",\"ESTJ-A\"],\"type\":\"scatterpolar\"}],\"name\":\"Djibouti\"},{\"data\":[{\"hovertemplate\":\"Country=Dominica<br>value=%{r}<br>variable=%{theta}<extra></extra>\",\"legendgroup\":\"\",\"line\":{\"color\":\"#636efa\",\"dash\":\"solid\"},\"marker\":{\"symbol\":\"circle\"},\"mode\":\"lines\",\"name\":\"\",\"r\":[0.0323,0.0679,0.1101,0.0182,0.0588,0.0348,0.0108,0.0447,0.0356,0.0157,0.0232,0.0695,0.0670999999999999,0.0298,0.0166,0.0124,0.0157,0.0149,0.0207,0.0224,0.0306,0.0339,0.0207,0.024,0.0108,0.0083,0.0141,0.0373,0.0224,0.0256999999999999,0.0265,0.0248,0.0323],\"showlegend\":false,\"subplot\":\"polar\",\"theta\":[\"ESTJ-A\",\"ESFJ-A\",\"INFP-T\",\"ESFJ-T\",\"ENFP-T\",\"ENFP-A\",\"ESTJ-T\",\"ISFJ-T\",\"ENFJ-A\",\"ESTP-A\",\"ISTJ-A\",\"INTP-T\",\"INFJ-T\",\"ISFP-T\",\"ENTJ-A\",\"ESTP-T\",\"ISTJ-T\",\"ESFP-T\",\"ENTP-A\",\"ESFP-A\",\"INTJ-T\",\"ISFJ-A\",\"INTP-A\",\"ENTP-T\",\"ISTP-T\",\"ENTJ-T\",\"ISTP-A\",\"INFP-A\",\"ENFJ-T\",\"INTJ-A\",\"ISFP-A\",\"INFJ-A\",\"ESTJ-A\"],\"type\":\"scatterpolar\"}],\"name\":\"Dominica\"},{\"data\":[{\"hovertemplate\":\"Country=Dominican Republic<br>value=%{r}<br>variable=%{theta}<extra></extra>\",\"legendgroup\":\"\",\"line\":{\"color\":\"#636efa\",\"dash\":\"solid\"},\"marker\":{\"symbol\":\"circle\"},\"mode\":\"lines\",\"name\":\"\",\"r\":[0.0291,0.0572,0.1052999999999999,0.0282,0.0839,0.063,0.0093,0.0365,0.0437,0.0172,0.0199,0.0409999999999999,0.0565,0.0288,0.0200999999999999,0.0083,0.0118,0.0207,0.0255,0.0334,0.019,0.0269,0.0242,0.024,0.009,0.0107,0.0118,0.0356,0.0397,0.0225,0.015,0.0224,0.0291],\"showlegend\":false,\"subplot\":\"polar\",\"theta\":[\"ESTJ-A\",\"ESFJ-A\",\"INFP-T\",\"ESFJ-T\",\"ENFP-T\",\"ENFP-A\",\"ESTJ-T\",\"ISFJ-T\",\"ENFJ-A\",\"ESTP-A\",\"ISTJ-A\",\"INTP-T\",\"INFJ-T\",\"ISFP-T\",\"ENTJ-A\",\"ESTP-T\",\"ISTJ-T\",\"ESFP-T\",\"ENTP-A\",\"ESFP-A\",\"INTJ-T\",\"ISFJ-A\",\"INTP-A\",\"ENTP-T\",\"ISTP-T\",\"ENTJ-T\",\"ISTP-A\",\"INFP-A\",\"ENFJ-T\",\"INTJ-A\",\"ISFP-A\",\"INFJ-A\",\"ESTJ-A\"],\"type\":\"scatterpolar\"}],\"name\":\"Dominican Republic\"},{\"data\":[{\"hovertemplate\":\"Country=Ecuador<br>value=%{r}<br>variable=%{theta}<extra></extra>\",\"legendgroup\":\"\",\"line\":{\"color\":\"#636efa\",\"dash\":\"solid\"},\"marker\":{\"symbol\":\"circle\"},\"mode\":\"lines\",\"name\":\"\",\"r\":[0.0266999999999999,0.0507,0.106,0.0233999999999999,0.0828,0.0637,0.0132,0.0277,0.0389,0.0159,0.0174,0.0496999999999999,0.0457,0.0272,0.021,0.0121999999999999,0.0165,0.0274,0.0345,0.0302999999999999,0.0266999999999999,0.0223,0.0311,0.0297,0.0127,0.0113,0.0118999999999999,0.0327,0.0315,0.0233,0.0168,0.019,0.0266999999999999],\"showlegend\":false,\"subplot\":\"polar\",\"theta\":[\"ESTJ-A\",\"ESFJ-A\",\"INFP-T\",\"ESFJ-T\",\"ENFP-T\",\"ENFP-A\",\"ESTJ-T\",\"ISFJ-T\",\"ENFJ-A\",\"ESTP-A\",\"ISTJ-A\",\"INTP-T\",\"INFJ-T\",\"ISFP-T\",\"ENTJ-A\",\"ESTP-T\",\"ISTJ-T\",\"ESFP-T\",\"ENTP-A\",\"ESFP-A\",\"INTJ-T\",\"ISFJ-A\",\"INTP-A\",\"ENTP-T\",\"ISTP-T\",\"ENTJ-T\",\"ISTP-A\",\"INFP-A\",\"ENFJ-T\",\"INTJ-A\",\"ISFP-A\",\"INFJ-A\",\"ESTJ-A\"],\"type\":\"scatterpolar\"}],\"name\":\"Ecuador\"},{\"data\":[{\"hovertemplate\":\"Country=Egypt<br>value=%{r}<br>variable=%{theta}<extra></extra>\",\"legendgroup\":\"\",\"line\":{\"color\":\"#636efa\",\"dash\":\"solid\"},\"marker\":{\"symbol\":\"circle\"},\"mode\":\"lines\",\"name\":\"\",\"r\":[0.0324,0.0377,0.0989,0.0333,0.0785,0.0391,0.02,0.0343,0.0343,0.0178,0.0195,0.0466,0.0506,0.0364,0.0258,0.017,0.0215,0.0305,0.0274,0.0218,0.0279,0.0187999999999999,0.0253,0.0312,0.0196,0.0209,0.0139999999999999,0.0231,0.0424,0.0218,0.0154,0.0159,0.0324],\"showlegend\":false,\"subplot\":\"polar\",\"theta\":[\"ESTJ-A\",\"ESFJ-A\",\"INFP-T\",\"ESFJ-T\",\"ENFP-T\",\"ENFP-A\",\"ESTJ-T\",\"ISFJ-T\",\"ENFJ-A\",\"ESTP-A\",\"ISTJ-A\",\"INTP-T\",\"INFJ-T\",\"ISFP-T\",\"ENTJ-A\",\"ESTP-T\",\"ISTJ-T\",\"ESFP-T\",\"ENTP-A\",\"ESFP-A\",\"INTJ-T\",\"ISFJ-A\",\"INTP-A\",\"ENTP-T\",\"ISTP-T\",\"ENTJ-T\",\"ISTP-A\",\"INFP-A\",\"ENFJ-T\",\"INTJ-A\",\"ISFP-A\",\"INFJ-A\",\"ESTJ-A\"],\"type\":\"scatterpolar\"}],\"name\":\"Egypt\"},{\"data\":[{\"hovertemplate\":\"Country=El Salvador<br>value=%{r}<br>variable=%{theta}<extra></extra>\",\"legendgroup\":\"\",\"line\":{\"color\":\"#636efa\",\"dash\":\"solid\"},\"marker\":{\"symbol\":\"circle\"},\"mode\":\"lines\",\"name\":\"\",\"r\":[0.0298,0.0648,0.1124,0.0247,0.0786,0.0542999999999999,0.0111,0.026,0.0385999999999999,0.0163999999999999,0.018,0.0533,0.0432,0.0248,0.0222,0.0078,0.0157,0.0216,0.0321,0.0308,0.0262,0.0227,0.0315,0.0269,0.0134,0.0118999999999999,0.0111,0.0338,0.0292,0.0291,0.0155,0.0226,0.0298],\"showlegend\":false,\"subplot\":\"polar\",\"theta\":[\"ESTJ-A\",\"ESFJ-A\",\"INFP-T\",\"ESFJ-T\",\"ENFP-T\",\"ENFP-A\",\"ESTJ-T\",\"ISFJ-T\",\"ENFJ-A\",\"ESTP-A\",\"ISTJ-A\",\"INTP-T\",\"INFJ-T\",\"ISFP-T\",\"ENTJ-A\",\"ESTP-T\",\"ISTJ-T\",\"ESFP-T\",\"ENTP-A\",\"ESFP-A\",\"INTJ-T\",\"ISFJ-A\",\"INTP-A\",\"ENTP-T\",\"ISTP-T\",\"ENTJ-T\",\"ISTP-A\",\"INFP-A\",\"ENFJ-T\",\"INTJ-A\",\"ISFP-A\",\"INFJ-A\",\"ESTJ-A\"],\"type\":\"scatterpolar\"}],\"name\":\"El Salvador\"},{\"data\":[{\"hovertemplate\":\"Country=Estonia<br>value=%{r}<br>variable=%{theta}<extra></extra>\",\"legendgroup\":\"\",\"line\":{\"color\":\"#636efa\",\"dash\":\"solid\"},\"marker\":{\"symbol\":\"circle\"},\"mode\":\"lines\",\"name\":\"\",\"r\":[0.0241,0.0274,0.1449,0.0216,0.0825,0.05,0.0118999999999999,0.0388,0.0265,0.016,0.0197999999999999,0.0604,0.0682,0.032,0.0186,0.0098,0.0195,0.016,0.0331,0.0182,0.0266,0.0178,0.0317,0.0285,0.0159,0.0121,0.0144,0.0313,0.0332,0.0192999999999999,0.0138,0.0157,0.0241],\"showlegend\":false,\"subplot\":\"polar\",\"theta\":[\"ESTJ-A\",\"ESFJ-A\",\"INFP-T\",\"ESFJ-T\",\"ENFP-T\",\"ENFP-A\",\"ESTJ-T\",\"ISFJ-T\",\"ENFJ-A\",\"ESTP-A\",\"ISTJ-A\",\"INTP-T\",\"INFJ-T\",\"ISFP-T\",\"ENTJ-A\",\"ESTP-T\",\"ISTJ-T\",\"ESFP-T\",\"ENTP-A\",\"ESFP-A\",\"INTJ-T\",\"ISFJ-A\",\"INTP-A\",\"ENTP-T\",\"ISTP-T\",\"ENTJ-T\",\"ISTP-A\",\"INFP-A\",\"ENFJ-T\",\"INTJ-A\",\"ISFP-A\",\"INFJ-A\",\"ESTJ-A\"],\"type\":\"scatterpolar\"}],\"name\":\"Estonia\"},{\"data\":[{\"hovertemplate\":\"Country=Ethiopia<br>value=%{r}<br>variable=%{theta}<extra></extra>\",\"legendgroup\":\"\",\"line\":{\"color\":\"#636efa\",\"dash\":\"solid\"},\"marker\":{\"symbol\":\"circle\"},\"mode\":\"lines\",\"name\":\"\",\"r\":[0.0425,0.072,0.0819999999999999,0.0327999999999999,0.0576999999999999,0.0423,0.0187,0.0334,0.0405,0.0143,0.0220999999999999,0.0425,0.0399,0.0423,0.0232,0.012,0.0172,0.0359,0.0252,0.0308,0.0220999999999999,0.0288,0.0252,0.0298,0.0163,0.0141999999999999,0.0132,0.0332,0.0279,0.0204999999999999,0.0214,0.02,0.0425],\"showlegend\":false,\"subplot\":\"polar\",\"theta\":[\"ESTJ-A\",\"ESFJ-A\",\"INFP-T\",\"ESFJ-T\",\"ENFP-T\",\"ENFP-A\",\"ESTJ-T\",\"ISFJ-T\",\"ENFJ-A\",\"ESTP-A\",\"ISTJ-A\",\"INTP-T\",\"INFJ-T\",\"ISFP-T\",\"ENTJ-A\",\"ESTP-T\",\"ISTJ-T\",\"ESFP-T\",\"ENTP-A\",\"ESFP-A\",\"INTJ-T\",\"ISFJ-A\",\"INTP-A\",\"ENTP-T\",\"ISTP-T\",\"ENTJ-T\",\"ISTP-A\",\"INFP-A\",\"ENFJ-T\",\"INTJ-A\",\"ISFP-A\",\"INFJ-A\",\"ESTJ-A\"],\"type\":\"scatterpolar\"}],\"name\":\"Ethiopia\"},{\"data\":[{\"hovertemplate\":\"Country=Faroe Islands<br>value=%{r}<br>variable=%{theta}<extra></extra>\",\"legendgroup\":\"\",\"line\":{\"color\":\"#636efa\",\"dash\":\"solid\"},\"marker\":{\"symbol\":\"circle\"},\"mode\":\"lines\",\"name\":\"\",\"r\":[0.026,0.0335,0.1525999999999999,0.0229,0.0744,0.0425,0.0112,0.0441,0.0239,0.0154,0.0159,0.0532,0.0686,0.0548,0.009,0.0053,0.0138,0.0245,0.0245,0.0319,0.0165,0.0186,0.0324,0.0112,0.0116999999999999,0.0037,0.0116999999999999,0.0447,0.0314,0.0149,0.0351,0.0202,0.026],\"showlegend\":false,\"subplot\":\"polar\",\"theta\":[\"ESTJ-A\",\"ESFJ-A\",\"INFP-T\",\"ESFJ-T\",\"ENFP-T\",\"ENFP-A\",\"ESTJ-T\",\"ISFJ-T\",\"ENFJ-A\",\"ESTP-A\",\"ISTJ-A\",\"INTP-T\",\"INFJ-T\",\"ISFP-T\",\"ENTJ-A\",\"ESTP-T\",\"ISTJ-T\",\"ESFP-T\",\"ENTP-A\",\"ESFP-A\",\"INTJ-T\",\"ISFJ-A\",\"INTP-A\",\"ENTP-T\",\"ISTP-T\",\"ENTJ-T\",\"ISTP-A\",\"INFP-A\",\"ENFJ-T\",\"INTJ-A\",\"ISFP-A\",\"INFJ-A\",\"ESTJ-A\"],\"type\":\"scatterpolar\"}],\"name\":\"Faroe Islands\"},{\"data\":[{\"hovertemplate\":\"Country=Fiji<br>value=%{r}<br>variable=%{theta}<extra></extra>\",\"legendgroup\":\"\",\"line\":{\"color\":\"#636efa\",\"dash\":\"solid\"},\"marker\":{\"symbol\":\"circle\"},\"mode\":\"lines\",\"name\":\"\",\"r\":[0.0264,0.0833,0.1026,0.0372,0.0873,0.0591,0.0132,0.0393,0.0496,0.0111,0.0134,0.0229,0.053,0.0377,0.0163999999999999,0.0111,0.0098,0.0298,0.0177,0.0353,0.0127,0.0274,0.0141999999999999,0.0232,0.0118999999999999,0.0081999999999999,0.01,0.0322,0.0398,0.0153,0.0250999999999999,0.024,0.0264],\"showlegend\":false,\"subplot\":\"polar\",\"theta\":[\"ESTJ-A\",\"ESFJ-A\",\"INFP-T\",\"ESFJ-T\",\"ENFP-T\",\"ENFP-A\",\"ESTJ-T\",\"ISFJ-T\",\"ENFJ-A\",\"ESTP-A\",\"ISTJ-A\",\"INTP-T\",\"INFJ-T\",\"ISFP-T\",\"ENTJ-A\",\"ESTP-T\",\"ISTJ-T\",\"ESFP-T\",\"ENTP-A\",\"ESFP-A\",\"INTJ-T\",\"ISFJ-A\",\"INTP-A\",\"ENTP-T\",\"ISTP-T\",\"ENTJ-T\",\"ISTP-A\",\"INFP-A\",\"ENFJ-T\",\"INTJ-A\",\"ISFP-A\",\"INFJ-A\",\"ESTJ-A\"],\"type\":\"scatterpolar\"}],\"name\":\"Fiji\"},{\"data\":[{\"hovertemplate\":\"Country=Finland<br>value=%{r}<br>variable=%{theta}<extra></extra>\",\"legendgroup\":\"\",\"line\":{\"color\":\"#636efa\",\"dash\":\"solid\"},\"marker\":{\"symbol\":\"circle\"},\"mode\":\"lines\",\"name\":\"\",\"r\":[0.0266,0.0334,0.1485,0.022,0.0751999999999999,0.0506,0.0072,0.0395999999999999,0.0225,0.0186,0.0239,0.0536,0.0647,0.037,0.0158,0.0069,0.0177,0.0199,0.0316,0.0235,0.0252,0.0199,0.0374,0.0209,0.0159,0.0077,0.0176,0.0323,0.0263,0.0239,0.0171,0.017,0.0266],\"showlegend\":false,\"subplot\":\"polar\",\"theta\":[\"ESTJ-A\",\"ESFJ-A\",\"INFP-T\",\"ESFJ-T\",\"ENFP-T\",\"ENFP-A\",\"ESTJ-T\",\"ISFJ-T\",\"ENFJ-A\",\"ESTP-A\",\"ISTJ-A\",\"INTP-T\",\"INFJ-T\",\"ISFP-T\",\"ENTJ-A\",\"ESTP-T\",\"ISTJ-T\",\"ESFP-T\",\"ENTP-A\",\"ESFP-A\",\"INTJ-T\",\"ISFJ-A\",\"INTP-A\",\"ENTP-T\",\"ISTP-T\",\"ENTJ-T\",\"ISTP-A\",\"INFP-A\",\"ENFJ-T\",\"INTJ-A\",\"ISFP-A\",\"INFJ-A\",\"ESTJ-A\"],\"type\":\"scatterpolar\"}],\"name\":\"Finland\"},{\"data\":[{\"hovertemplate\":\"Country=France<br>value=%{r}<br>variable=%{theta}<extra></extra>\",\"legendgroup\":\"\",\"line\":{\"color\":\"#636efa\",\"dash\":\"solid\"},\"marker\":{\"symbol\":\"circle\"},\"mode\":\"lines\",\"name\":\"\",\"r\":[0.0283,0.0371,0.1159,0.0304,0.0791,0.0501999999999999,0.0167,0.0358,0.0274,0.0197,0.0206,0.0467999999999999,0.0504,0.0325,0.0185,0.0153,0.0197,0.0259,0.0305,0.0248,0.0226,0.0229,0.03,0.0272,0.0186,0.0136,0.0184,0.0306,0.0337,0.0192,0.0210999999999999,0.0166,0.0283],\"showlegend\":false,\"subplot\":\"polar\",\"theta\":[\"ESTJ-A\",\"ESFJ-A\",\"INFP-T\",\"ESFJ-T\",\"ENFP-T\",\"ENFP-A\",\"ESTJ-T\",\"ISFJ-T\",\"ENFJ-A\",\"ESTP-A\",\"ISTJ-A\",\"INTP-T\",\"INFJ-T\",\"ISFP-T\",\"ENTJ-A\",\"ESTP-T\",\"ISTJ-T\",\"ESFP-T\",\"ENTP-A\",\"ESFP-A\",\"INTJ-T\",\"ISFJ-A\",\"INTP-A\",\"ENTP-T\",\"ISTP-T\",\"ENTJ-T\",\"ISTP-A\",\"INFP-A\",\"ENFJ-T\",\"INTJ-A\",\"ISFP-A\",\"INFJ-A\",\"ESTJ-A\"],\"type\":\"scatterpolar\"}],\"name\":\"France\"},{\"data\":[{\"hovertemplate\":\"Country=Georgia<br>value=%{r}<br>variable=%{theta}<extra></extra>\",\"legendgroup\":\"\",\"line\":{\"color\":\"#636efa\",\"dash\":\"solid\"},\"marker\":{\"symbol\":\"circle\"},\"mode\":\"lines\",\"name\":\"\",\"r\":[0.0501999999999999,0.0313,0.086,0.0222,0.0559999999999999,0.0347,0.0213,0.0243999999999999,0.0287,0.0232,0.0305,0.0632,0.047,0.0172,0.0401999999999999,0.0144,0.0226,0.017,0.045,0.0139999999999999,0.0425,0.0179,0.0434,0.0398,0.0144,0.0247,0.0127,0.0233999999999999,0.0289999999999999,0.0353,0.0103,0.0174,0.0501999999999999],\"showlegend\":false,\"subplot\":\"polar\",\"theta\":[\"ESTJ-A\",\"ESFJ-A\",\"INFP-T\",\"ESFJ-T\",\"ENFP-T\",\"ENFP-A\",\"ESTJ-T\",\"ISFJ-T\",\"ENFJ-A\",\"ESTP-A\",\"ISTJ-A\",\"INTP-T\",\"INFJ-T\",\"ISFP-T\",\"ENTJ-A\",\"ESTP-T\",\"ISTJ-T\",\"ESFP-T\",\"ENTP-A\",\"ESFP-A\",\"INTJ-T\",\"ISFJ-A\",\"INTP-A\",\"ENTP-T\",\"ISTP-T\",\"ENTJ-T\",\"ISTP-A\",\"INFP-A\",\"ENFJ-T\",\"INTJ-A\",\"ISFP-A\",\"INFJ-A\",\"ESTJ-A\"],\"type\":\"scatterpolar\"}],\"name\":\"Georgia\"},{\"data\":[{\"hovertemplate\":\"Country=Germany<br>value=%{r}<br>variable=%{theta}<extra></extra>\",\"legendgroup\":\"\",\"line\":{\"color\":\"#636efa\",\"dash\":\"solid\"},\"marker\":{\"symbol\":\"circle\"},\"mode\":\"lines\",\"name\":\"\",\"r\":[0.0299,0.034,0.1436,0.0227999999999999,0.0759,0.0507,0.0101,0.032,0.0278,0.0171,0.0203,0.0584999999999999,0.0676,0.0266,0.021,0.0069999999999999,0.0159,0.0166,0.0332,0.0204999999999999,0.0298,0.0175,0.0349,0.0263,0.0126,0.0125,0.0135,0.033,0.0334,0.0235,0.0141,0.0175,0.0299],\"showlegend\":false,\"subplot\":\"polar\",\"theta\":[\"ESTJ-A\",\"ESFJ-A\",\"INFP-T\",\"ESFJ-T\",\"ENFP-T\",\"ENFP-A\",\"ESTJ-T\",\"ISFJ-T\",\"ENFJ-A\",\"ESTP-A\",\"ISTJ-A\",\"INTP-T\",\"INFJ-T\",\"ISFP-T\",\"ENTJ-A\",\"ESTP-T\",\"ISTJ-T\",\"ESFP-T\",\"ENTP-A\",\"ESFP-A\",\"INTJ-T\",\"ISFJ-A\",\"INTP-A\",\"ENTP-T\",\"ISTP-T\",\"ENTJ-T\",\"ISTP-A\",\"INFP-A\",\"ENFJ-T\",\"INTJ-A\",\"ISFP-A\",\"INFJ-A\",\"ESTJ-A\"],\"type\":\"scatterpolar\"}],\"name\":\"Germany\"},{\"data\":[{\"hovertemplate\":\"Country=Ghana<br>value=%{r}<br>variable=%{theta}<extra></extra>\",\"legendgroup\":\"\",\"line\":{\"color\":\"#636efa\",\"dash\":\"solid\"},\"marker\":{\"symbol\":\"circle\"},\"mode\":\"lines\",\"name\":\"\",\"r\":[0.0612,0.1097,0.0576,0.043,0.0428,0.0278,0.0217,0.0536,0.036,0.0182,0.03,0.0237999999999999,0.0421999999999999,0.0395,0.02,0.0136,0.0243,0.0302999999999999,0.018,0.0289,0.0194,0.0554,0.0161,0.0181,0.0141,0.0121999999999999,0.0128,0.0192,0.026,0.0187999999999999,0.0222,0.0237999999999999,0.0612],\"showlegend\":false,\"subplot\":\"polar\",\"theta\":[\"ESTJ-A\",\"ESFJ-A\",\"INFP-T\",\"ESFJ-T\",\"ENFP-T\",\"ENFP-A\",\"ESTJ-T\",\"ISFJ-T\",\"ENFJ-A\",\"ESTP-A\",\"ISTJ-A\",\"INTP-T\",\"INFJ-T\",\"ISFP-T\",\"ENTJ-A\",\"ESTP-T\",\"ISTJ-T\",\"ESFP-T\",\"ENTP-A\",\"ESFP-A\",\"INTJ-T\",\"ISFJ-A\",\"INTP-A\",\"ENTP-T\",\"ISTP-T\",\"ENTJ-T\",\"ISTP-A\",\"INFP-A\",\"ENFJ-T\",\"INTJ-A\",\"ISFP-A\",\"INFJ-A\",\"ESTJ-A\"],\"type\":\"scatterpolar\"}],\"name\":\"Ghana\"},{\"data\":[{\"hovertemplate\":\"Country=Greece<br>value=%{r}<br>variable=%{theta}<extra></extra>\",\"legendgroup\":\"\",\"line\":{\"color\":\"#636efa\",\"dash\":\"solid\"},\"marker\":{\"symbol\":\"circle\"},\"mode\":\"lines\",\"name\":\"\",\"r\":[0.031,0.0323,0.1171,0.0258,0.0841,0.0433,0.0161,0.0322,0.0319,0.0148,0.0183,0.0599,0.0636,0.0229,0.0279,0.0097,0.0182,0.0169,0.0335,0.0144999999999999,0.0374,0.0147,0.0275,0.0408,0.0125,0.026,0.0105,0.0233,0.0453,0.0223,0.0102,0.0154,0.031],\"showlegend\":false,\"subplot\":\"polar\",\"theta\":[\"ESTJ-A\",\"ESFJ-A\",\"INFP-T\",\"ESFJ-T\",\"ENFP-T\",\"ENFP-A\",\"ESTJ-T\",\"ISFJ-T\",\"ENFJ-A\",\"ESTP-A\",\"ISTJ-A\",\"INTP-T\",\"INFJ-T\",\"ISFP-T\",\"ENTJ-A\",\"ESTP-T\",\"ISTJ-T\",\"ESFP-T\",\"ENTP-A\",\"ESFP-A\",\"INTJ-T\",\"ISFJ-A\",\"INTP-A\",\"ENTP-T\",\"ISTP-T\",\"ENTJ-T\",\"ISTP-A\",\"INFP-A\",\"ENFJ-T\",\"INTJ-A\",\"ISFP-A\",\"INFJ-A\",\"ESTJ-A\"],\"type\":\"scatterpolar\"}],\"name\":\"Greece\"},{\"data\":[{\"hovertemplate\":\"Country=Grenada<br>value=%{r}<br>variable=%{theta}<extra></extra>\",\"legendgroup\":\"\",\"line\":{\"color\":\"#636efa\",\"dash\":\"solid\"},\"marker\":{\"symbol\":\"circle\"},\"mode\":\"lines\",\"name\":\"\",\"r\":[0.0391,0.0666,0.0803,0.0275,0.0645,0.0494,0.0151,0.0384,0.0419,0.0165,0.022,0.0501,0.057,0.0281,0.0192,0.0069,0.0158,0.0192,0.0281,0.0199,0.0260999999999999,0.0356999999999999,0.022,0.0206,0.0103,0.0165,0.0137,0.0275,0.0384,0.0281,0.0275,0.0281,0.0391],\"showlegend\":false,\"subplot\":\"polar\",\"theta\":[\"ESTJ-A\",\"ESFJ-A\",\"INFP-T\",\"ESFJ-T\",\"ENFP-T\",\"ENFP-A\",\"ESTJ-T\",\"ISFJ-T\",\"ENFJ-A\",\"ESTP-A\",\"ISTJ-A\",\"INTP-T\",\"INFJ-T\",\"ISFP-T\",\"ENTJ-A\",\"ESTP-T\",\"ISTJ-T\",\"ESFP-T\",\"ENTP-A\",\"ESFP-A\",\"INTJ-T\",\"ISFJ-A\",\"INTP-A\",\"ENTP-T\",\"ISTP-T\",\"ENTJ-T\",\"ISTP-A\",\"INFP-A\",\"ENFJ-T\",\"INTJ-A\",\"ISFP-A\",\"INFJ-A\",\"ESTJ-A\"],\"type\":\"scatterpolar\"}],\"name\":\"Grenada\"},{\"data\":[{\"hovertemplate\":\"Country=Guatemala<br>value=%{r}<br>variable=%{theta}<extra></extra>\",\"legendgroup\":\"\",\"line\":{\"color\":\"#636efa\",\"dash\":\"solid\"},\"marker\":{\"symbol\":\"circle\"},\"mode\":\"lines\",\"name\":\"\",\"r\":[0.0337,0.0564,0.099,0.0250999999999999,0.0771,0.0692,0.0139,0.0312,0.0415,0.0167,0.0184,0.0473,0.048,0.0222,0.0241,0.0087,0.0151,0.0210999999999999,0.0355,0.0302,0.0237,0.0229,0.0289,0.0308999999999999,0.0102,0.0148,0.0105,0.0349,0.0338,0.0202,0.0141999999999999,0.0208,0.0337],\"showlegend\":false,\"subplot\":\"polar\",\"theta\":[\"ESTJ-A\",\"ESFJ-A\",\"INFP-T\",\"ESFJ-T\",\"ENFP-T\",\"ENFP-A\",\"ESTJ-T\",\"ISFJ-T\",\"ENFJ-A\",\"ESTP-A\",\"ISTJ-A\",\"INTP-T\",\"INFJ-T\",\"ISFP-T\",\"ENTJ-A\",\"ESTP-T\",\"ISTJ-T\",\"ESFP-T\",\"ENTP-A\",\"ESFP-A\",\"INTJ-T\",\"ISFJ-A\",\"INTP-A\",\"ENTP-T\",\"ISTP-T\",\"ENTJ-T\",\"ISTP-A\",\"INFP-A\",\"ENFJ-T\",\"INTJ-A\",\"ISFP-A\",\"INFJ-A\",\"ESTJ-A\"],\"type\":\"scatterpolar\"}],\"name\":\"Guatemala\"},{\"data\":[{\"hovertemplate\":\"Country=Guinea<br>value=%{r}<br>variable=%{theta}<extra></extra>\",\"legendgroup\":\"\",\"line\":{\"color\":\"#636efa\",\"dash\":\"solid\"},\"marker\":{\"symbol\":\"circle\"},\"mode\":\"lines\",\"name\":\"\",\"r\":[0.0266999999999999,0.0658,0.0817,0.0448,0.0742999999999999,0.0448,0.0125,0.0545,0.0454,0.0216,0.0199,0.0233,0.0573,0.0437,0.0148,0.0085,0.0096,0.0409,0.0113999999999999,0.0346,0.0125,0.0346,0.0182,0.0187,0.0113999999999999,0.0045,0.0079,0.038,0.0392,0.0233,0.0266999999999999,0.0289,0.0266999999999999],\"showlegend\":false,\"subplot\":\"polar\",\"theta\":[\"ESTJ-A\",\"ESFJ-A\",\"INFP-T\",\"ESFJ-T\",\"ENFP-T\",\"ENFP-A\",\"ESTJ-T\",\"ISFJ-T\",\"ENFJ-A\",\"ESTP-A\",\"ISTJ-A\",\"INTP-T\",\"INFJ-T\",\"ISFP-T\",\"ENTJ-A\",\"ESTP-T\",\"ISTJ-T\",\"ESFP-T\",\"ENTP-A\",\"ESFP-A\",\"INTJ-T\",\"ISFJ-A\",\"INTP-A\",\"ENTP-T\",\"ISTP-T\",\"ENTJ-T\",\"ISTP-A\",\"INFP-A\",\"ENFJ-T\",\"INTJ-A\",\"ISFP-A\",\"INFJ-A\",\"ESTJ-A\"],\"type\":\"scatterpolar\"}],\"name\":\"Guinea\"},{\"data\":[{\"hovertemplate\":\"Country=Guyana<br>value=%{r}<br>variable=%{theta}<extra></extra>\",\"legendgroup\":\"\",\"line\":{\"color\":\"#636efa\",\"dash\":\"solid\"},\"marker\":{\"symbol\":\"circle\"},\"mode\":\"lines\",\"name\":\"\",\"r\":[0.0271,0.0576999999999999,0.1085999999999999,0.0248,0.0619,0.0381,0.0088,0.0385,0.0404,0.0212,0.03,0.047,0.0499,0.0398,0.017,0.0104,0.0222,0.0248,0.0231,0.0241,0.0215,0.0411,0.0287,0.0218,0.0199,0.0091,0.0113999999999999,0.0346,0.0287,0.0227999999999999,0.0173,0.0277,0.0271],\"showlegend\":false,\"subplot\":\"polar\",\"theta\":[\"ESTJ-A\",\"ESFJ-A\",\"INFP-T\",\"ESFJ-T\",\"ENFP-T\",\"ENFP-A\",\"ESTJ-T\",\"ISFJ-T\",\"ENFJ-A\",\"ESTP-A\",\"ISTJ-A\",\"INTP-T\",\"INFJ-T\",\"ISFP-T\",\"ENTJ-A\",\"ESTP-T\",\"ISTJ-T\",\"ESFP-T\",\"ENTP-A\",\"ESFP-A\",\"INTJ-T\",\"ISFJ-A\",\"INTP-A\",\"ENTP-T\",\"ISTP-T\",\"ENTJ-T\",\"ISTP-A\",\"INFP-A\",\"ENFJ-T\",\"INTJ-A\",\"ISFP-A\",\"INFJ-A\",\"ESTJ-A\"],\"type\":\"scatterpolar\"}],\"name\":\"Guyana\"},{\"data\":[{\"hovertemplate\":\"Country=Haiti<br>value=%{r}<br>variable=%{theta}<extra></extra>\",\"legendgroup\":\"\",\"line\":{\"color\":\"#636efa\",\"dash\":\"solid\"},\"marker\":{\"symbol\":\"circle\"},\"mode\":\"lines\",\"name\":\"\",\"r\":[0.0388,0.0677,0.0742,0.0371,0.0753,0.06,0.0118,0.043,0.0353,0.0224,0.0288,0.0206,0.0483,0.033,0.0265,0.0093999999999999,0.0141,0.0253,0.0306,0.0359,0.0141,0.0371,0.0135,0.0271,0.0081999999999999,0.0187999999999999,0.0093999999999999,0.0412,0.0371,0.0129,0.0159,0.0265,0.0388],\"showlegend\":false,\"subplot\":\"polar\",\"theta\":[\"ESTJ-A\",\"ESFJ-A\",\"INFP-T\",\"ESFJ-T\",\"ENFP-T\",\"ENFP-A\",\"ESTJ-T\",\"ISFJ-T\",\"ENFJ-A\",\"ESTP-A\",\"ISTJ-A\",\"INTP-T\",\"INFJ-T\",\"ISFP-T\",\"ENTJ-A\",\"ESTP-T\",\"ISTJ-T\",\"ESFP-T\",\"ENTP-A\",\"ESFP-A\",\"INTJ-T\",\"ISFJ-A\",\"INTP-A\",\"ENTP-T\",\"ISTP-T\",\"ENTJ-T\",\"ISTP-A\",\"INFP-A\",\"ENFJ-T\",\"INTJ-A\",\"ISFP-A\",\"INFJ-A\",\"ESTJ-A\"],\"type\":\"scatterpolar\"}],\"name\":\"Haiti\"},{\"data\":[{\"hovertemplate\":\"Country=Honduras<br>value=%{r}<br>variable=%{theta}<extra></extra>\",\"legendgroup\":\"\",\"line\":{\"color\":\"#636efa\",\"dash\":\"solid\"},\"marker\":{\"symbol\":\"circle\"},\"mode\":\"lines\",\"name\":\"\",\"r\":[0.0337,0.0605,0.1048,0.0226,0.0708,0.0599,0.0103,0.0289999999999999,0.0464,0.0212,0.019,0.0449,0.0441999999999999,0.0252,0.0258,0.0097,0.0113999999999999,0.0227999999999999,0.0356,0.0301,0.0263,0.0229,0.0287,0.0282,0.0093,0.0134,0.0116999999999999,0.0369,0.0333,0.0202,0.0165,0.0250999999999999,0.0337],\"showlegend\":false,\"subplot\":\"polar\",\"theta\":[\"ESTJ-A\",\"ESFJ-A\",\"INFP-T\",\"ESFJ-T\",\"ENFP-T\",\"ENFP-A\",\"ESTJ-T\",\"ISFJ-T\",\"ENFJ-A\",\"ESTP-A\",\"ISTJ-A\",\"INTP-T\",\"INFJ-T\",\"ISFP-T\",\"ENTJ-A\",\"ESTP-T\",\"ISTJ-T\",\"ESFP-T\",\"ENTP-A\",\"ESFP-A\",\"INTJ-T\",\"ISFJ-A\",\"INTP-A\",\"ENTP-T\",\"ISTP-T\",\"ENTJ-T\",\"ISTP-A\",\"INFP-A\",\"ENFJ-T\",\"INTJ-A\",\"ISFP-A\",\"INFJ-A\",\"ESTJ-A\"],\"type\":\"scatterpolar\"}],\"name\":\"Honduras\"},{\"data\":[{\"hovertemplate\":\"Country=Hungary<br>value=%{r}<br>variable=%{theta}<extra></extra>\",\"legendgroup\":\"\",\"line\":{\"color\":\"#636efa\",\"dash\":\"solid\"},\"marker\":{\"symbol\":\"circle\"},\"mode\":\"lines\",\"name\":\"\",\"r\":[0.0318,0.0325,0.1291,0.0216,0.0776,0.0438999999999999,0.0128,0.0318,0.0281,0.0167,0.022,0.0641,0.0664,0.023,0.0242,0.0081999999999999,0.0184,0.0149,0.0354,0.0167,0.037,0.0171,0.0337,0.0323,0.0121,0.018,0.0112,0.0278,0.0362,0.0277,0.0102,0.0174,0.0318],\"showlegend\":false,\"subplot\":\"polar\",\"theta\":[\"ESTJ-A\",\"ESFJ-A\",\"INFP-T\",\"ESFJ-T\",\"ENFP-T\",\"ENFP-A\",\"ESTJ-T\",\"ISFJ-T\",\"ENFJ-A\",\"ESTP-A\",\"ISTJ-A\",\"INTP-T\",\"INFJ-T\",\"ISFP-T\",\"ENTJ-A\",\"ESTP-T\",\"ISTJ-T\",\"ESFP-T\",\"ENTP-A\",\"ESFP-A\",\"INTJ-T\",\"ISFJ-A\",\"INTP-A\",\"ENTP-T\",\"ISTP-T\",\"ENTJ-T\",\"ISTP-A\",\"INFP-A\",\"ENFJ-T\",\"INTJ-A\",\"ISFP-A\",\"INFJ-A\",\"ESTJ-A\"],\"type\":\"scatterpolar\"}],\"name\":\"Hungary\"},{\"data\":[{\"hovertemplate\":\"Country=Iceland<br>value=%{r}<br>variable=%{theta}<extra></extra>\",\"legendgroup\":\"\",\"line\":{\"color\":\"#636efa\",\"dash\":\"solid\"},\"marker\":{\"symbol\":\"circle\"},\"mode\":\"lines\",\"name\":\"\",\"r\":[0.0187,0.0399,0.1519,0.0256,0.0942,0.0756,0.0058,0.0356,0.0344,0.0134,0.0151,0.0415,0.0596999999999999,0.0323,0.0166,0.0058,0.0108,0.0191,0.0313,0.0246,0.0189,0.0226,0.0282,0.0242,0.0106,0.009,0.0096,0.0391,0.0362,0.0144999999999999,0.0163,0.019,0.0187],\"showlegend\":false,\"subplot\":\"polar\",\"theta\":[\"ESTJ-A\",\"ESFJ-A\",\"INFP-T\",\"ESFJ-T\",\"ENFP-T\",\"ENFP-A\",\"ESTJ-T\",\"ISFJ-T\",\"ENFJ-A\",\"ESTP-A\",\"ISTJ-A\",\"INTP-T\",\"INFJ-T\",\"ISFP-T\",\"ENTJ-A\",\"ESTP-T\",\"ISTJ-T\",\"ESFP-T\",\"ENTP-A\",\"ESFP-A\",\"INTJ-T\",\"ISFJ-A\",\"INTP-A\",\"ENTP-T\",\"ISTP-T\",\"ENTJ-T\",\"ISTP-A\",\"INFP-A\",\"ENFJ-T\",\"INTJ-A\",\"ISFP-A\",\"INFJ-A\",\"ESTJ-A\"],\"type\":\"scatterpolar\"}],\"name\":\"Iceland\"},{\"data\":[{\"hovertemplate\":\"Country=India<br>value=%{r}<br>variable=%{theta}<extra></extra>\",\"legendgroup\":\"\",\"line\":{\"color\":\"#636efa\",\"dash\":\"solid\"},\"marker\":{\"symbol\":\"circle\"},\"mode\":\"lines\",\"name\":\"\",\"r\":[0.0314,0.0562999999999999,0.1067,0.039,0.0906,0.0449,0.017,0.0336,0.0338,0.0158,0.0133,0.0425,0.0473,0.0379,0.0176,0.0155,0.0148,0.038,0.0236,0.03,0.02,0.0202,0.0222,0.0308,0.0146,0.0154,0.0097,0.0277,0.0423,0.0148,0.0163999999999999,0.0162,0.0314],\"showlegend\":false,\"subplot\":\"polar\",\"theta\":[\"ESTJ-A\",\"ESFJ-A\",\"INFP-T\",\"ESFJ-T\",\"ENFP-T\",\"ENFP-A\",\"ESTJ-T\",\"ISFJ-T\",\"ENFJ-A\",\"ESTP-A\",\"ISTJ-A\",\"INTP-T\",\"INFJ-T\",\"ISFP-T\",\"ENTJ-A\",\"ESTP-T\",\"ISTJ-T\",\"ESFP-T\",\"ENTP-A\",\"ESFP-A\",\"INTJ-T\",\"ISFJ-A\",\"INTP-A\",\"ENTP-T\",\"ISTP-T\",\"ENTJ-T\",\"ISTP-A\",\"INFP-A\",\"ENFJ-T\",\"INTJ-A\",\"ISFP-A\",\"INFJ-A\",\"ESTJ-A\"],\"type\":\"scatterpolar\"}],\"name\":\"India\"},{\"data\":[{\"hovertemplate\":\"Country=Indonesia<br>value=%{r}<br>variable=%{theta}<extra></extra>\",\"legendgroup\":\"\",\"line\":{\"color\":\"#636efa\",\"dash\":\"solid\"},\"marker\":{\"symbol\":\"circle\"},\"mode\":\"lines\",\"name\":\"\",\"r\":[0.0289999999999999,0.0513,0.1012,0.0498,0.0836,0.0391,0.0217,0.0447,0.0271,0.0163,0.0144999999999999,0.033,0.0595,0.0412,0.0149,0.0174,0.0178,0.0501999999999999,0.0185,0.0335,0.0233,0.0204999999999999,0.0169,0.025,0.0139999999999999,0.0154,0.0086,0.0237,0.0406,0.0151,0.0163,0.0163,0.0289999999999999],\"showlegend\":false,\"subplot\":\"polar\",\"theta\":[\"ESTJ-A\",\"ESFJ-A\",\"INFP-T\",\"ESFJ-T\",\"ENFP-T\",\"ENFP-A\",\"ESTJ-T\",\"ISFJ-T\",\"ENFJ-A\",\"ESTP-A\",\"ISTJ-A\",\"INTP-T\",\"INFJ-T\",\"ISFP-T\",\"ENTJ-A\",\"ESTP-T\",\"ISTJ-T\",\"ESFP-T\",\"ENTP-A\",\"ESFP-A\",\"INTJ-T\",\"ISFJ-A\",\"INTP-A\",\"ENTP-T\",\"ISTP-T\",\"ENTJ-T\",\"ISTP-A\",\"INFP-A\",\"ENFJ-T\",\"INTJ-A\",\"ISFP-A\",\"INFJ-A\",\"ESTJ-A\"],\"type\":\"scatterpolar\"}],\"name\":\"Indonesia\"},{\"data\":[{\"hovertemplate\":\"Country=Iraq<br>value=%{r}<br>variable=%{theta}<extra></extra>\",\"legendgroup\":\"\",\"line\":{\"color\":\"#636efa\",\"dash\":\"solid\"},\"marker\":{\"symbol\":\"circle\"},\"mode\":\"lines\",\"name\":\"\",\"r\":[0.0401,0.0378,0.088,0.0264,0.0628,0.0313,0.0192999999999999,0.0281,0.0311,0.02,0.0218,0.0668,0.0545,0.03,0.0271,0.0158,0.0209,0.0243,0.0289,0.0168,0.0408,0.0173,0.0385,0.0326,0.019,0.0252,0.0134,0.0208,0.0411,0.0304,0.012,0.0171,0.0401],\"showlegend\":false,\"subplot\":\"polar\",\"theta\":[\"ESTJ-A\",\"ESFJ-A\",\"INFP-T\",\"ESFJ-T\",\"ENFP-T\",\"ENFP-A\",\"ESTJ-T\",\"ISFJ-T\",\"ENFJ-A\",\"ESTP-A\",\"ISTJ-A\",\"INTP-T\",\"INFJ-T\",\"ISFP-T\",\"ENTJ-A\",\"ESTP-T\",\"ISTJ-T\",\"ESFP-T\",\"ENTP-A\",\"ESFP-A\",\"INTJ-T\",\"ISFJ-A\",\"INTP-A\",\"ENTP-T\",\"ISTP-T\",\"ENTJ-T\",\"ISTP-A\",\"INFP-A\",\"ENFJ-T\",\"INTJ-A\",\"ISFP-A\",\"INFJ-A\",\"ESTJ-A\"],\"type\":\"scatterpolar\"}],\"name\":\"Iraq\"},{\"data\":[{\"hovertemplate\":\"Country=Ireland<br>value=%{r}<br>variable=%{theta}<extra></extra>\",\"legendgroup\":\"\",\"line\":{\"color\":\"#636efa\",\"dash\":\"solid\"},\"marker\":{\"symbol\":\"circle\"},\"mode\":\"lines\",\"name\":\"\",\"r\":[0.0217,0.0435,0.1449,0.0361,0.1035,0.0528,0.0095,0.0487,0.0302,0.0121999999999999,0.0139,0.0407,0.0653,0.0385999999999999,0.0143,0.0064,0.0135,0.027,0.0242,0.0242,0.0199,0.0204,0.0203,0.0237999999999999,0.0102,0.0108,0.0086,0.0266999999999999,0.0444,0.0147,0.0141,0.015,0.0217],\"showlegend\":false,\"subplot\":\"polar\",\"theta\":[\"ESTJ-A\",\"ESFJ-A\",\"INFP-T\",\"ESFJ-T\",\"ENFP-T\",\"ENFP-A\",\"ESTJ-T\",\"ISFJ-T\",\"ENFJ-A\",\"ESTP-A\",\"ISTJ-A\",\"INTP-T\",\"INFJ-T\",\"ISFP-T\",\"ENTJ-A\",\"ESTP-T\",\"ISTJ-T\",\"ESFP-T\",\"ENTP-A\",\"ESFP-A\",\"INTJ-T\",\"ISFJ-A\",\"INTP-A\",\"ENTP-T\",\"ISTP-T\",\"ENTJ-T\",\"ISTP-A\",\"INFP-A\",\"ENFJ-T\",\"INTJ-A\",\"ISFP-A\",\"INFJ-A\",\"ESTJ-A\"],\"type\":\"scatterpolar\"}],\"name\":\"Ireland\"},{\"data\":[{\"hovertemplate\":\"Country=Israel<br>value=%{r}<br>variable=%{theta}<extra></extra>\",\"legendgroup\":\"\",\"line\":{\"color\":\"#636efa\",\"dash\":\"solid\"},\"marker\":{\"symbol\":\"circle\"},\"mode\":\"lines\",\"name\":\"\",\"r\":[0.0282,0.0426999999999999,0.1183,0.0293,0.0819,0.0557,0.0103,0.04,0.0364,0.0144,0.0213,0.0443,0.0575,0.033,0.0208,0.0074,0.0163,0.0235,0.0299,0.0236,0.0242,0.0232,0.0299,0.0237,0.0127,0.0126,0.0123,0.0324,0.0353,0.0213,0.0171,0.0203,0.0282],\"showlegend\":false,\"subplot\":\"polar\",\"theta\":[\"ESTJ-A\",\"ESFJ-A\",\"INFP-T\",\"ESFJ-T\",\"ENFP-T\",\"ENFP-A\",\"ESTJ-T\",\"ISFJ-T\",\"ENFJ-A\",\"ESTP-A\",\"ISTJ-A\",\"INTP-T\",\"INFJ-T\",\"ISFP-T\",\"ENTJ-A\",\"ESTP-T\",\"ISTJ-T\",\"ESFP-T\",\"ENTP-A\",\"ESFP-A\",\"INTJ-T\",\"ISFJ-A\",\"INTP-A\",\"ENTP-T\",\"ISTP-T\",\"ENTJ-T\",\"ISTP-A\",\"INFP-A\",\"ENFJ-T\",\"INTJ-A\",\"ISFP-A\",\"INFJ-A\",\"ESTJ-A\"],\"type\":\"scatterpolar\"}],\"name\":\"Israel\"},{\"data\":[{\"hovertemplate\":\"Country=Italy<br>value=%{r}<br>variable=%{theta}<extra></extra>\",\"legendgroup\":\"\",\"line\":{\"color\":\"#636efa\",\"dash\":\"solid\"},\"marker\":{\"symbol\":\"circle\"},\"mode\":\"lines\",\"name\":\"\",\"r\":[0.0239,0.0281,0.1487,0.0194,0.0827,0.0458999999999999,0.0095,0.0306,0.0302,0.0111,0.0181,0.0705,0.0796,0.0233,0.0223,0.0062,0.0178,0.0141,0.0299,0.0139999999999999,0.0438,0.0144999999999999,0.0302,0.0304,0.0121,0.0171,0.0097,0.0255,0.0395,0.0256,0.0087,0.0171,0.0239],\"showlegend\":false,\"subplot\":\"polar\",\"theta\":[\"ESTJ-A\",\"ESFJ-A\",\"INFP-T\",\"ESFJ-T\",\"ENFP-T\",\"ENFP-A\",\"ESTJ-T\",\"ISFJ-T\",\"ENFJ-A\",\"ESTP-A\",\"ISTJ-A\",\"INTP-T\",\"INFJ-T\",\"ISFP-T\",\"ENTJ-A\",\"ESTP-T\",\"ISTJ-T\",\"ESFP-T\",\"ENTP-A\",\"ESFP-A\",\"INTJ-T\",\"ISFJ-A\",\"INTP-A\",\"ENTP-T\",\"ISTP-T\",\"ENTJ-T\",\"ISTP-A\",\"INFP-A\",\"ENFJ-T\",\"INTJ-A\",\"ISFP-A\",\"INFJ-A\",\"ESTJ-A\"],\"type\":\"scatterpolar\"}],\"name\":\"Italy\"},{\"data\":[{\"hovertemplate\":\"Country=Jamaica<br>value=%{r}<br>variable=%{theta}<extra></extra>\",\"legendgroup\":\"\",\"line\":{\"color\":\"#636efa\",\"dash\":\"solid\"},\"marker\":{\"symbol\":\"circle\"},\"mode\":\"lines\",\"name\":\"\",\"r\":[0.0381,0.0617999999999999,0.0993,0.0243999999999999,0.0519,0.0335,0.0125,0.0414,0.0361,0.0197,0.0297,0.0431,0.0565,0.0341,0.0227,0.0102,0.0197999999999999,0.0192999999999999,0.0237999999999999,0.0256,0.0247,0.0408,0.0294,0.0227,0.0175,0.0135,0.0148,0.0306999999999999,0.0326,0.0242,0.0195,0.0260999999999999,0.0381],\"showlegend\":false,\"subplot\":\"polar\",\"theta\":[\"ESTJ-A\",\"ESFJ-A\",\"INFP-T\",\"ESFJ-T\",\"ENFP-T\",\"ENFP-A\",\"ESTJ-T\",\"ISFJ-T\",\"ENFJ-A\",\"ESTP-A\",\"ISTJ-A\",\"INTP-T\",\"INFJ-T\",\"ISFP-T\",\"ENTJ-A\",\"ESTP-T\",\"ISTJ-T\",\"ESFP-T\",\"ENTP-A\",\"ESFP-A\",\"INTJ-T\",\"ISFJ-A\",\"INTP-A\",\"ENTP-T\",\"ISTP-T\",\"ENTJ-T\",\"ISTP-A\",\"INFP-A\",\"ENFJ-T\",\"INTJ-A\",\"ISFP-A\",\"INFJ-A\",\"ESTJ-A\"],\"type\":\"scatterpolar\"}],\"name\":\"Jamaica\"},{\"data\":[{\"hovertemplate\":\"Country=Japan<br>value=%{r}<br>variable=%{theta}<extra></extra>\",\"legendgroup\":\"\",\"line\":{\"color\":\"#636efa\",\"dash\":\"solid\"},\"marker\":{\"symbol\":\"circle\"},\"mode\":\"lines\",\"name\":\"\",\"r\":[0.023,0.0375999999999999,0.1291,0.0299,0.0848,0.053,0.0109,0.043,0.0265,0.0158,0.0192999999999999,0.0452,0.0496999999999999,0.0453,0.0156,0.0104,0.0163999999999999,0.0308,0.0264,0.0294,0.0191,0.0252,0.0266999999999999,0.0255,0.0154,0.0101,0.0133,0.0353,0.0294,0.0179,0.0220999999999999,0.0182,0.023],\"showlegend\":false,\"subplot\":\"polar\",\"theta\":[\"ESTJ-A\",\"ESFJ-A\",\"INFP-T\",\"ESFJ-T\",\"ENFP-T\",\"ENFP-A\",\"ESTJ-T\",\"ISFJ-T\",\"ENFJ-A\",\"ESTP-A\",\"ISTJ-A\",\"INTP-T\",\"INFJ-T\",\"ISFP-T\",\"ENTJ-A\",\"ESTP-T\",\"ISTJ-T\",\"ESFP-T\",\"ENTP-A\",\"ESFP-A\",\"INTJ-T\",\"ISFJ-A\",\"INTP-A\",\"ENTP-T\",\"ISTP-T\",\"ENTJ-T\",\"ISTP-A\",\"INFP-A\",\"ENFJ-T\",\"INTJ-A\",\"ISFP-A\",\"INFJ-A\",\"ESTJ-A\"],\"type\":\"scatterpolar\"}],\"name\":\"Japan\"},{\"data\":[{\"hovertemplate\":\"Country=Jordan<br>value=%{r}<br>variable=%{theta}<extra></extra>\",\"legendgroup\":\"\",\"line\":{\"color\":\"#636efa\",\"dash\":\"solid\"},\"marker\":{\"symbol\":\"circle\"},\"mode\":\"lines\",\"name\":\"\",\"r\":[0.0412,0.0411,0.0852999999999999,0.0318,0.0803999999999999,0.0455999999999999,0.02,0.0276,0.0336,0.0232,0.0174,0.0482,0.0499,0.0256,0.0349,0.0137,0.0155,0.0262,0.0392,0.0231,0.0272,0.0144,0.0294,0.0371,0.013,0.0242,0.0113999999999999,0.0239,0.0435,0.023,0.0134,0.0157,0.0412],\"showlegend\":false,\"subplot\":\"polar\",\"theta\":[\"ESTJ-A\",\"ESFJ-A\",\"INFP-T\",\"ESFJ-T\",\"ENFP-T\",\"ENFP-A\",\"ESTJ-T\",\"ISFJ-T\",\"ENFJ-A\",\"ESTP-A\",\"ISTJ-A\",\"INTP-T\",\"INFJ-T\",\"ISFP-T\",\"ENTJ-A\",\"ESTP-T\",\"ISTJ-T\",\"ESFP-T\",\"ENTP-A\",\"ESFP-A\",\"INTJ-T\",\"ISFJ-A\",\"INTP-A\",\"ENTP-T\",\"ISTP-T\",\"ENTJ-T\",\"ISTP-A\",\"INFP-A\",\"ENFJ-T\",\"INTJ-A\",\"ISFP-A\",\"INFJ-A\",\"ESTJ-A\"],\"type\":\"scatterpolar\"}],\"name\":\"Jordan\"},{\"data\":[{\"hovertemplate\":\"Country=Kazakhstan<br>value=%{r}<br>variable=%{theta}<extra></extra>\",\"legendgroup\":\"\",\"line\":{\"color\":\"#636efa\",\"dash\":\"solid\"},\"marker\":{\"symbol\":\"circle\"},\"mode\":\"lines\",\"name\":\"\",\"r\":[0.0523,0.0419,0.0753,0.0331,0.0645,0.0331,0.0288,0.0327999999999999,0.0347,0.0256,0.0291,0.0496999999999999,0.0452,0.0252,0.0292,0.0133,0.03,0.0206,0.0331,0.0217,0.0283,0.0220999999999999,0.0256,0.0375,0.0175,0.0229,0.0141999999999999,0.0204999999999999,0.0359,0.0259,0.0111,0.0191,0.0523],\"showlegend\":false,\"subplot\":\"polar\",\"theta\":[\"ESTJ-A\",\"ESFJ-A\",\"INFP-T\",\"ESFJ-T\",\"ENFP-T\",\"ENFP-A\",\"ESTJ-T\",\"ISFJ-T\",\"ENFJ-A\",\"ESTP-A\",\"ISTJ-A\",\"INTP-T\",\"INFJ-T\",\"ISFP-T\",\"ENTJ-A\",\"ESTP-T\",\"ISTJ-T\",\"ESFP-T\",\"ENTP-A\",\"ESFP-A\",\"INTJ-T\",\"ISFJ-A\",\"INTP-A\",\"ENTP-T\",\"ISTP-T\",\"ENTJ-T\",\"ISTP-A\",\"INFP-A\",\"ENFJ-T\",\"INTJ-A\",\"ISFP-A\",\"INFJ-A\",\"ESTJ-A\"],\"type\":\"scatterpolar\"}],\"name\":\"Kazakhstan\"},{\"data\":[{\"hovertemplate\":\"Country=Kenya<br>value=%{r}<br>variable=%{theta}<extra></extra>\",\"legendgroup\":\"\",\"line\":{\"color\":\"#636efa\",\"dash\":\"solid\"},\"marker\":{\"symbol\":\"circle\"},\"mode\":\"lines\",\"name\":\"\",\"r\":[0.0348,0.0711,0.0832,0.0344,0.0665,0.0437,0.0158,0.0423,0.0452,0.0157,0.0175,0.036,0.0576999999999999,0.0316,0.0237999999999999,0.0121999999999999,0.0157,0.0283,0.0266999999999999,0.0268,0.0216,0.0337,0.0232,0.0281,0.0118,0.0155,0.0088,0.0286,0.0365,0.0210999999999999,0.0156,0.0263,0.0348],\"showlegend\":false,\"subplot\":\"polar\",\"theta\":[\"ESTJ-A\",\"ESFJ-A\",\"INFP-T\",\"ESFJ-T\",\"ENFP-T\",\"ENFP-A\",\"ESTJ-T\",\"ISFJ-T\",\"ENFJ-A\",\"ESTP-A\",\"ISTJ-A\",\"INTP-T\",\"INFJ-T\",\"ISFP-T\",\"ENTJ-A\",\"ESTP-T\",\"ISTJ-T\",\"ESFP-T\",\"ENTP-A\",\"ESFP-A\",\"INTJ-T\",\"ISFJ-A\",\"INTP-A\",\"ENTP-T\",\"ISTP-T\",\"ENTJ-T\",\"ISTP-A\",\"INFP-A\",\"ENFJ-T\",\"INTJ-A\",\"ISFP-A\",\"INFJ-A\",\"ESTJ-A\"],\"type\":\"scatterpolar\"}],\"name\":\"Kenya\"},{\"data\":[{\"hovertemplate\":\"Country=Kuwait<br>value=%{r}<br>variable=%{theta}<extra></extra>\",\"legendgroup\":\"\",\"line\":{\"color\":\"#636efa\",\"dash\":\"solid\"},\"marker\":{\"symbol\":\"circle\"},\"mode\":\"lines\",\"name\":\"\",\"r\":[0.0339,0.0424,0.1151,0.0298,0.0801,0.0473,0.0151,0.0327999999999999,0.0356999999999999,0.0184,0.0183,0.0415,0.0582,0.034,0.0249,0.0118999999999999,0.0163999999999999,0.0283,0.0304,0.0237999999999999,0.0254,0.0200999999999999,0.0256,0.0282,0.0137,0.017,0.0121999999999999,0.0252,0.0416,0.02,0.0139999999999999,0.0189,0.0339],\"showlegend\":false,\"subplot\":\"polar\",\"theta\":[\"ESTJ-A\",\"ESFJ-A\",\"INFP-T\",\"ESFJ-T\",\"ENFP-T\",\"ENFP-A\",\"ESTJ-T\",\"ISFJ-T\",\"ENFJ-A\",\"ESTP-A\",\"ISTJ-A\",\"INTP-T\",\"INFJ-T\",\"ISFP-T\",\"ENTJ-A\",\"ESTP-T\",\"ISTJ-T\",\"ESFP-T\",\"ENTP-A\",\"ESFP-A\",\"INTJ-T\",\"ISFJ-A\",\"INTP-A\",\"ENTP-T\",\"ISTP-T\",\"ENTJ-T\",\"ISTP-A\",\"INFP-A\",\"ENFJ-T\",\"INTJ-A\",\"ISFP-A\",\"INFJ-A\",\"ESTJ-A\"],\"type\":\"scatterpolar\"}],\"name\":\"Kuwait\"},{\"data\":[{\"hovertemplate\":\"Country=Kyrgyzstan<br>value=%{r}<br>variable=%{theta}<extra></extra>\",\"legendgroup\":\"\",\"line\":{\"color\":\"#636efa\",\"dash\":\"solid\"},\"marker\":{\"symbol\":\"circle\"},\"mode\":\"lines\",\"name\":\"\",\"r\":[0.0371,0.0608,0.0801,0.0312,0.0593,0.0453,0.0178,0.0289,0.046,0.023,0.0237,0.0601,0.0371,0.0208,0.0341,0.0178,0.0266999999999999,0.0245,0.0289,0.0208,0.0312,0.0208,0.0319,0.026,0.0178,0.0208,0.0126,0.0237,0.0349,0.0282,0.0178,0.0104,0.0371],\"showlegend\":false,\"subplot\":\"polar\",\"theta\":[\"ESTJ-A\",\"ESFJ-A\",\"INFP-T\",\"ESFJ-T\",\"ENFP-T\",\"ENFP-A\",\"ESTJ-T\",\"ISFJ-T\",\"ENFJ-A\",\"ESTP-A\",\"ISTJ-A\",\"INTP-T\",\"INFJ-T\",\"ISFP-T\",\"ENTJ-A\",\"ESTP-T\",\"ISTJ-T\",\"ESFP-T\",\"ENTP-A\",\"ESFP-A\",\"INTJ-T\",\"ISFJ-A\",\"INTP-A\",\"ENTP-T\",\"ISTP-T\",\"ENTJ-T\",\"ISTP-A\",\"INFP-A\",\"ENFJ-T\",\"INTJ-A\",\"ISFP-A\",\"INFJ-A\",\"ESTJ-A\"],\"type\":\"scatterpolar\"}],\"name\":\"Kyrgyzstan\"},{\"data\":[{\"hovertemplate\":\"Country=Laos<br>value=%{r}<br>variable=%{theta}<extra></extra>\",\"legendgroup\":\"\",\"line\":{\"color\":\"#636efa\",\"dash\":\"solid\"},\"marker\":{\"symbol\":\"circle\"},\"mode\":\"lines\",\"name\":\"\",\"r\":[0.0254,0.054,0.096,0.0484,0.0873,0.0650999999999999,0.0159,0.0389,0.0356999999999999,0.0143,0.023,0.0349,0.0437,0.0262,0.0103,0.0111,0.0197999999999999,0.0389,0.0206,0.0405,0.0143,0.027,0.0294,0.0159,0.0127,0.0159,0.0056,0.0405,0.0373,0.0118999999999999,0.019,0.0206,0.0254],\"showlegend\":false,\"subplot\":\"polar\",\"theta\":[\"ESTJ-A\",\"ESFJ-A\",\"INFP-T\",\"ESFJ-T\",\"ENFP-T\",\"ENFP-A\",\"ESTJ-T\",\"ISFJ-T\",\"ENFJ-A\",\"ESTP-A\",\"ISTJ-A\",\"INTP-T\",\"INFJ-T\",\"ISFP-T\",\"ENTJ-A\",\"ESTP-T\",\"ISTJ-T\",\"ESFP-T\",\"ENTP-A\",\"ESFP-A\",\"INTJ-T\",\"ISFJ-A\",\"INTP-A\",\"ENTP-T\",\"ISTP-T\",\"ENTJ-T\",\"ISTP-A\",\"INFP-A\",\"ENFJ-T\",\"INTJ-A\",\"ISFP-A\",\"INFJ-A\",\"ESTJ-A\"],\"type\":\"scatterpolar\"}],\"name\":\"Laos\"},{\"data\":[{\"hovertemplate\":\"Country=Latvia<br>value=%{r}<br>variable=%{theta}<extra></extra>\",\"legendgroup\":\"\",\"line\":{\"color\":\"#636efa\",\"dash\":\"solid\"},\"marker\":{\"symbol\":\"circle\"},\"mode\":\"lines\",\"name\":\"\",\"r\":[0.0304,0.0208,0.1344999999999999,0.0177,0.0751,0.039,0.0151,0.0325,0.0195,0.0203,0.0226,0.0787,0.0567,0.0339,0.0185,0.012,0.0212,0.0178,0.0373,0.016,0.0346,0.0156,0.0337,0.0406,0.023,0.0167,0.0168,0.0256,0.0266999999999999,0.0222,0.0121,0.013,0.0304],\"showlegend\":false,\"subplot\":\"polar\",\"theta\":[\"ESTJ-A\",\"ESFJ-A\",\"INFP-T\",\"ESFJ-T\",\"ENFP-T\",\"ENFP-A\",\"ESTJ-T\",\"ISFJ-T\",\"ENFJ-A\",\"ESTP-A\",\"ISTJ-A\",\"INTP-T\",\"INFJ-T\",\"ISFP-T\",\"ENTJ-A\",\"ESTP-T\",\"ISTJ-T\",\"ESFP-T\",\"ENTP-A\",\"ESFP-A\",\"INTJ-T\",\"ISFJ-A\",\"INTP-A\",\"ENTP-T\",\"ISTP-T\",\"ENTJ-T\",\"ISTP-A\",\"INFP-A\",\"ENFJ-T\",\"INTJ-A\",\"ISFP-A\",\"INFJ-A\",\"ESTJ-A\"],\"type\":\"scatterpolar\"}],\"name\":\"Latvia\"},{\"data\":[{\"hovertemplate\":\"Country=Lebanon<br>value=%{r}<br>variable=%{theta}<extra></extra>\",\"legendgroup\":\"\",\"line\":{\"color\":\"#636efa\",\"dash\":\"solid\"},\"marker\":{\"symbol\":\"circle\"},\"mode\":\"lines\",\"name\":\"\",\"r\":[0.0475,0.044,0.0819999999999999,0.0346,0.0868,0.0487999999999999,0.0206,0.0249,0.04,0.0254,0.0134,0.0391,0.0519,0.0185,0.0366999999999999,0.015,0.0129,0.0260999999999999,0.0461,0.024,0.0243999999999999,0.013,0.0243999999999999,0.0411,0.009,0.0274,0.0084,0.0195,0.0509,0.0207,0.0081,0.0146,0.0475],\"showlegend\":false,\"subplot\":\"polar\",\"theta\":[\"ESTJ-A\",\"ESFJ-A\",\"INFP-T\",\"ESFJ-T\",\"ENFP-T\",\"ENFP-A\",\"ESTJ-T\",\"ISFJ-T\",\"ENFJ-A\",\"ESTP-A\",\"ISTJ-A\",\"INTP-T\",\"INFJ-T\",\"ISFP-T\",\"ENTJ-A\",\"ESTP-T\",\"ISTJ-T\",\"ESFP-T\",\"ENTP-A\",\"ESFP-A\",\"INTJ-T\",\"ISFJ-A\",\"INTP-A\",\"ENTP-T\",\"ISTP-T\",\"ENTJ-T\",\"ISTP-A\",\"INFP-A\",\"ENFJ-T\",\"INTJ-A\",\"ISFP-A\",\"INFJ-A\",\"ESTJ-A\"],\"type\":\"scatterpolar\"}],\"name\":\"Lebanon\"},{\"data\":[{\"hovertemplate\":\"Country=Lesotho<br>value=%{r}<br>variable=%{theta}<extra></extra>\",\"legendgroup\":\"\",\"line\":{\"color\":\"#636efa\",\"dash\":\"solid\"},\"marker\":{\"symbol\":\"circle\"},\"mode\":\"lines\",\"name\":\"\",\"r\":[0.0421999999999999,0.0691,0.0858,0.0407,0.0385,0.0291,0.0233,0.0655,0.0349,0.0144999999999999,0.0349,0.0298,0.0378,0.0415,0.0196,0.0218,0.0291,0.0247,0.0247,0.0153,0.0233,0.0495,0.0144999999999999,0.0269,0.024,0.0124,0.0175,0.016,0.024,0.0218,0.0210999999999999,0.0262,0.0421999999999999],\"showlegend\":false,\"subplot\":\"polar\",\"theta\":[\"ESTJ-A\",\"ESFJ-A\",\"INFP-T\",\"ESFJ-T\",\"ENFP-T\",\"ENFP-A\",\"ESTJ-T\",\"ISFJ-T\",\"ENFJ-A\",\"ESTP-A\",\"ISTJ-A\",\"INTP-T\",\"INFJ-T\",\"ISFP-T\",\"ENTJ-A\",\"ESTP-T\",\"ISTJ-T\",\"ESFP-T\",\"ENTP-A\",\"ESFP-A\",\"INTJ-T\",\"ISFJ-A\",\"INTP-A\",\"ENTP-T\",\"ISTP-T\",\"ENTJ-T\",\"ISTP-A\",\"INFP-A\",\"ENFJ-T\",\"INTJ-A\",\"ISFP-A\",\"INFJ-A\",\"ESTJ-A\"],\"type\":\"scatterpolar\"}],\"name\":\"Lesotho\"},{\"data\":[{\"hovertemplate\":\"Country=Libya<br>value=%{r}<br>variable=%{theta}<extra></extra>\",\"legendgroup\":\"\",\"line\":{\"color\":\"#636efa\",\"dash\":\"solid\"},\"marker\":{\"symbol\":\"circle\"},\"mode\":\"lines\",\"name\":\"\",\"r\":[0.0299,0.0434,0.0905,0.027,0.0622,0.0393,0.0168,0.036,0.0369,0.0156,0.0225,0.0541,0.0643,0.0299,0.027,0.0102,0.0197,0.0213,0.0258,0.0209,0.0381,0.0254,0.0287,0.034,0.0176,0.016,0.0168,0.0302999999999999,0.0319,0.0324,0.0152,0.0204999999999999,0.0299],\"showlegend\":false,\"subplot\":\"polar\",\"theta\":[\"ESTJ-A\",\"ESFJ-A\",\"INFP-T\",\"ESFJ-T\",\"ENFP-T\",\"ENFP-A\",\"ESTJ-T\",\"ISFJ-T\",\"ENFJ-A\",\"ESTP-A\",\"ISTJ-A\",\"INTP-T\",\"INFJ-T\",\"ISFP-T\",\"ENTJ-A\",\"ESTP-T\",\"ISTJ-T\",\"ESFP-T\",\"ENTP-A\",\"ESFP-A\",\"INTJ-T\",\"ISFJ-A\",\"INTP-A\",\"ENTP-T\",\"ISTP-T\",\"ENTJ-T\",\"ISTP-A\",\"INFP-A\",\"ENFJ-T\",\"INTJ-A\",\"ISFP-A\",\"INFJ-A\",\"ESTJ-A\"],\"type\":\"scatterpolar\"}],\"name\":\"Libya\"},{\"data\":[{\"hovertemplate\":\"Country=Lithuania<br>value=%{r}<br>variable=%{theta}<extra></extra>\",\"legendgroup\":\"\",\"line\":{\"color\":\"#636efa\",\"dash\":\"solid\"},\"marker\":{\"symbol\":\"circle\"},\"mode\":\"lines\",\"name\":\"\",\"r\":[0.0279999999999999,0.0210999999999999,0.1483,0.0144999999999999,0.0698,0.0375,0.0113,0.0294,0.0212,0.0168,0.023,0.0839,0.0547,0.0335,0.0210999999999999,0.0112,0.0213,0.0151,0.0362,0.0129,0.0372,0.0113,0.0435,0.0354,0.0231,0.0148,0.0173,0.0271,0.0265,0.0268,0.0137,0.0126,0.0279999999999999],\"showlegend\":false,\"subplot\":\"polar\",\"theta\":[\"ESTJ-A\",\"ESFJ-A\",\"INFP-T\",\"ESFJ-T\",\"ENFP-T\",\"ENFP-A\",\"ESTJ-T\",\"ISFJ-T\",\"ENFJ-A\",\"ESTP-A\",\"ISTJ-A\",\"INTP-T\",\"INFJ-T\",\"ISFP-T\",\"ENTJ-A\",\"ESTP-T\",\"ISTJ-T\",\"ESFP-T\",\"ENTP-A\",\"ESFP-A\",\"INTJ-T\",\"ISFJ-A\",\"INTP-A\",\"ENTP-T\",\"ISTP-T\",\"ENTJ-T\",\"ISTP-A\",\"INFP-A\",\"ENFJ-T\",\"INTJ-A\",\"ISFP-A\",\"INFJ-A\",\"ESTJ-A\"],\"type\":\"scatterpolar\"}],\"name\":\"Lithuania\"},{\"data\":[{\"hovertemplate\":\"Country=Luxembourg<br>value=%{r}<br>variable=%{theta}<extra></extra>\",\"legendgroup\":\"\",\"line\":{\"color\":\"#636efa\",\"dash\":\"solid\"},\"marker\":{\"symbol\":\"circle\"},\"mode\":\"lines\",\"name\":\"\",\"r\":[0.038,0.0479,0.1134,0.0278,0.0843999999999999,0.0492,0.0092,0.0398,0.0385,0.0204999999999999,0.021,0.0463,0.0598,0.0258,0.0197999999999999,0.0070999999999999,0.0141999999999999,0.0183,0.0327,0.0239,0.0258,0.0209,0.0279,0.0248,0.0134,0.0136,0.0151,0.0311,0.0369,0.0218,0.0144,0.0167,0.038],\"showlegend\":false,\"subplot\":\"polar\",\"theta\":[\"ESTJ-A\",\"ESFJ-A\",\"INFP-T\",\"ESFJ-T\",\"ENFP-T\",\"ENFP-A\",\"ESTJ-T\",\"ISFJ-T\",\"ENFJ-A\",\"ESTP-A\",\"ISTJ-A\",\"INTP-T\",\"INFJ-T\",\"ISFP-T\",\"ENTJ-A\",\"ESTP-T\",\"ISTJ-T\",\"ESFP-T\",\"ENTP-A\",\"ESFP-A\",\"INTJ-T\",\"ISFJ-A\",\"INTP-A\",\"ENTP-T\",\"ISTP-T\",\"ENTJ-T\",\"ISTP-A\",\"INFP-A\",\"ENFJ-T\",\"INTJ-A\",\"ISFP-A\",\"INFJ-A\",\"ESTJ-A\"],\"type\":\"scatterpolar\"}],\"name\":\"Luxembourg\"},{\"data\":[{\"hovertemplate\":\"Country=Madagascar<br>value=%{r}<br>variable=%{theta}<extra></extra>\",\"legendgroup\":\"\",\"line\":{\"color\":\"#636efa\",\"dash\":\"solid\"},\"marker\":{\"symbol\":\"circle\"},\"mode\":\"lines\",\"name\":\"\",\"r\":[0.0276,0.0385999999999999,0.1132,0.0276,0.08,0.0515,0.0138,0.0377,0.0285,0.0129,0.011,0.0588999999999999,0.034,0.0331,0.023,0.012,0.0239,0.0220999999999999,0.0368,0.0220999999999999,0.0294,0.0239,0.0451,0.0239,0.012,0.012,0.0074,0.0414,0.035,0.0266999999999999,0.0147,0.0202,0.0276],\"showlegend\":false,\"subplot\":\"polar\",\"theta\":[\"ESTJ-A\",\"ESFJ-A\",\"INFP-T\",\"ESFJ-T\",\"ENFP-T\",\"ENFP-A\",\"ESTJ-T\",\"ISFJ-T\",\"ENFJ-A\",\"ESTP-A\",\"ISTJ-A\",\"INTP-T\",\"INFJ-T\",\"ISFP-T\",\"ENTJ-A\",\"ESTP-T\",\"ISTJ-T\",\"ESFP-T\",\"ENTP-A\",\"ESFP-A\",\"INTJ-T\",\"ISFJ-A\",\"INTP-A\",\"ENTP-T\",\"ISTP-T\",\"ENTJ-T\",\"ISTP-A\",\"INFP-A\",\"ENFJ-T\",\"INTJ-A\",\"ISFP-A\",\"INFJ-A\",\"ESTJ-A\"],\"type\":\"scatterpolar\"}],\"name\":\"Madagascar\"},{\"data\":[{\"hovertemplate\":\"Country=Malawi<br>value=%{r}<br>variable=%{theta}<extra></extra>\",\"legendgroup\":\"\",\"line\":{\"color\":\"#636efa\",\"dash\":\"solid\"},\"marker\":{\"symbol\":\"circle\"},\"mode\":\"lines\",\"name\":\"\",\"r\":[0.0315,0.0795,0.0988,0.0405,0.0753,0.047,0.0132,0.0362,0.0409,0.0169,0.0226,0.0315,0.0475,0.0348,0.0249,0.0121999999999999,0.0192999999999999,0.031,0.0273,0.0268,0.0212,0.0381,0.0179,0.0207,0.0121999999999999,0.0155,0.0093999999999999,0.0249,0.0306,0.0132,0.0169,0.0216,0.0315],\"showlegend\":false,\"subplot\":\"polar\",\"theta\":[\"ESTJ-A\",\"ESFJ-A\",\"INFP-T\",\"ESFJ-T\",\"ENFP-T\",\"ENFP-A\",\"ESTJ-T\",\"ISFJ-T\",\"ENFJ-A\",\"ESTP-A\",\"ISTJ-A\",\"INTP-T\",\"INFJ-T\",\"ISFP-T\",\"ENTJ-A\",\"ESTP-T\",\"ISTJ-T\",\"ESFP-T\",\"ENTP-A\",\"ESFP-A\",\"INTJ-T\",\"ISFJ-A\",\"INTP-A\",\"ENTP-T\",\"ISTP-T\",\"ENTJ-T\",\"ISTP-A\",\"INFP-A\",\"ENFJ-T\",\"INTJ-A\",\"ISFP-A\",\"INFJ-A\",\"ESTJ-A\"],\"type\":\"scatterpolar\"}],\"name\":\"Malawi\"},{\"data\":[{\"hovertemplate\":\"Country=Malaysia<br>value=%{r}<br>variable=%{theta}<extra></extra>\",\"legendgroup\":\"\",\"line\":{\"color\":\"#636efa\",\"dash\":\"solid\"},\"marker\":{\"symbol\":\"circle\"},\"mode\":\"lines\",\"name\":\"\",\"r\":[0.0208,0.0595,0.1271,0.0507,0.0803999999999999,0.0377,0.0143,0.0643,0.0222,0.0124,0.0128,0.0259,0.0559999999999999,0.0674,0.0079,0.0123,0.0158,0.0516999999999999,0.0121999999999999,0.0373,0.0131,0.0308999999999999,0.012,0.016,0.0144999999999999,0.0073,0.0086,0.0279999999999999,0.0322,0.0083,0.0249,0.0153,0.0208],\"showlegend\":false,\"subplot\":\"polar\",\"theta\":[\"ESTJ-A\",\"ESFJ-A\",\"INFP-T\",\"ESFJ-T\",\"ENFP-T\",\"ENFP-A\",\"ESTJ-T\",\"ISFJ-T\",\"ENFJ-A\",\"ESTP-A\",\"ISTJ-A\",\"INTP-T\",\"INFJ-T\",\"ISFP-T\",\"ENTJ-A\",\"ESTP-T\",\"ISTJ-T\",\"ESFP-T\",\"ENTP-A\",\"ESFP-A\",\"INTJ-T\",\"ISFJ-A\",\"INTP-A\",\"ENTP-T\",\"ISTP-T\",\"ENTJ-T\",\"ISTP-A\",\"INFP-A\",\"ENFJ-T\",\"INTJ-A\",\"ISFP-A\",\"INFJ-A\",\"ESTJ-A\"],\"type\":\"scatterpolar\"}],\"name\":\"Malaysia\"},{\"data\":[{\"hovertemplate\":\"Country=Maldives<br>value=%{r}<br>variable=%{theta}<extra></extra>\",\"legendgroup\":\"\",\"line\":{\"color\":\"#636efa\",\"dash\":\"solid\"},\"marker\":{\"symbol\":\"circle\"},\"mode\":\"lines\",\"name\":\"\",\"r\":[0.0237,0.0356999999999999,0.1682999999999999,0.0242,0.0822,0.0397,0.009,0.0342,0.0339,0.0102,0.015,0.0484999999999999,0.0718,0.0449,0.0126,0.0077,0.0107,0.0233999999999999,0.0222,0.0237999999999999,0.0227,0.0218,0.0237,0.0237,0.013,0.0072,0.0112,0.0398,0.0347,0.0184,0.0194,0.0229,0.0237],\"showlegend\":false,\"subplot\":\"polar\",\"theta\":[\"ESTJ-A\",\"ESFJ-A\",\"INFP-T\",\"ESFJ-T\",\"ENFP-T\",\"ENFP-A\",\"ESTJ-T\",\"ISFJ-T\",\"ENFJ-A\",\"ESTP-A\",\"ISTJ-A\",\"INTP-T\",\"INFJ-T\",\"ISFP-T\",\"ENTJ-A\",\"ESTP-T\",\"ISTJ-T\",\"ESFP-T\",\"ENTP-A\",\"ESFP-A\",\"INTJ-T\",\"ISFJ-A\",\"INTP-A\",\"ENTP-T\",\"ISTP-T\",\"ENTJ-T\",\"ISTP-A\",\"INFP-A\",\"ENFJ-T\",\"INTJ-A\",\"ISFP-A\",\"INFJ-A\",\"ESTJ-A\"],\"type\":\"scatterpolar\"}],\"name\":\"Maldives\"},{\"data\":[{\"hovertemplate\":\"Country=Mali<br>value=%{r}<br>variable=%{theta}<extra></extra>\",\"legendgroup\":\"\",\"line\":{\"color\":\"#636efa\",\"dash\":\"solid\"},\"marker\":{\"symbol\":\"circle\"},\"mode\":\"lines\",\"name\":\"\",\"r\":[0.0659,0.0852999999999999,0.0659,0.0271,0.0659,0.031,0.0039,0.062,0.0581,0.0116,0.0233,0.0504,0.0388,0.0271,0.0155,0.0116,0.0155,0.0349,0.0194,0.031,0.0194,0.0349,0.031,0.0233,0.0194,0.0116,0.0078,0.0349,0.0194,0.0233,0.0233,0.0116,0.0659],\"showlegend\":false,\"subplot\":\"polar\",\"theta\":[\"ESTJ-A\",\"ESFJ-A\",\"INFP-T\",\"ESFJ-T\",\"ENFP-T\",\"ENFP-A\",\"ESTJ-T\",\"ISFJ-T\",\"ENFJ-A\",\"ESTP-A\",\"ISTJ-A\",\"INTP-T\",\"INFJ-T\",\"ISFP-T\",\"ENTJ-A\",\"ESTP-T\",\"ISTJ-T\",\"ESFP-T\",\"ENTP-A\",\"ESFP-A\",\"INTJ-T\",\"ISFJ-A\",\"INTP-A\",\"ENTP-T\",\"ISTP-T\",\"ENTJ-T\",\"ISTP-A\",\"INFP-A\",\"ENFJ-T\",\"INTJ-A\",\"ISFP-A\",\"INFJ-A\",\"ESTJ-A\"],\"type\":\"scatterpolar\"}],\"name\":\"Mali\"},{\"data\":[{\"hovertemplate\":\"Country=Malta<br>value=%{r}<br>variable=%{theta}<extra></extra>\",\"legendgroup\":\"\",\"line\":{\"color\":\"#636efa\",\"dash\":\"solid\"},\"marker\":{\"symbol\":\"circle\"},\"mode\":\"lines\",\"name\":\"\",\"r\":[0.0233999999999999,0.04,0.1365,0.0352,0.0883,0.0444,0.0113,0.0452,0.0312,0.0127,0.0113999999999999,0.0506,0.0719,0.0326,0.0189,0.0078,0.0141999999999999,0.0236,0.0289,0.0191,0.024,0.0196,0.0263,0.0274,0.0095,0.0156,0.0098,0.0256,0.0467999999999999,0.0189,0.013,0.0161,0.0233999999999999],\"showlegend\":false,\"subplot\":\"polar\",\"theta\":[\"ESTJ-A\",\"ESFJ-A\",\"INFP-T\",\"ESFJ-T\",\"ENFP-T\",\"ENFP-A\",\"ESTJ-T\",\"ISFJ-T\",\"ENFJ-A\",\"ESTP-A\",\"ISTJ-A\",\"INTP-T\",\"INFJ-T\",\"ISFP-T\",\"ENTJ-A\",\"ESTP-T\",\"ISTJ-T\",\"ESFP-T\",\"ENTP-A\",\"ESFP-A\",\"INTJ-T\",\"ISFJ-A\",\"INTP-A\",\"ENTP-T\",\"ISTP-T\",\"ENTJ-T\",\"ISTP-A\",\"INFP-A\",\"ENFJ-T\",\"INTJ-A\",\"ISFP-A\",\"INFJ-A\",\"ESTJ-A\"],\"type\":\"scatterpolar\"}],\"name\":\"Malta\"},{\"data\":[{\"hovertemplate\":\"Country=Mauritius<br>value=%{r}<br>variable=%{theta}<extra></extra>\",\"legendgroup\":\"\",\"line\":{\"color\":\"#636efa\",\"dash\":\"solid\"},\"marker\":{\"symbol\":\"circle\"},\"mode\":\"lines\",\"name\":\"\",\"r\":[0.0342,0.0716,0.11,0.0301,0.0853999999999999,0.0464,0.0168,0.0337,0.0395,0.0136,0.017,0.0421,0.0537,0.0264,0.0250999999999999,0.012,0.0146,0.0245,0.0256,0.0235,0.0226,0.0220999999999999,0.0220999999999999,0.0286,0.013,0.0157,0.0093,0.0279,0.0423,0.018,0.0126,0.0200999999999999,0.0342],\"showlegend\":false,\"subplot\":\"polar\",\"theta\":[\"ESTJ-A\",\"ESFJ-A\",\"INFP-T\",\"ESFJ-T\",\"ENFP-T\",\"ENFP-A\",\"ESTJ-T\",\"ISFJ-T\",\"ENFJ-A\",\"ESTP-A\",\"ISTJ-A\",\"INTP-T\",\"INFJ-T\",\"ISFP-T\",\"ENTJ-A\",\"ESTP-T\",\"ISTJ-T\",\"ESFP-T\",\"ENTP-A\",\"ESFP-A\",\"INTJ-T\",\"ISFJ-A\",\"INTP-A\",\"ENTP-T\",\"ISTP-T\",\"ENTJ-T\",\"ISTP-A\",\"INFP-A\",\"ENFJ-T\",\"INTJ-A\",\"ISFP-A\",\"INFJ-A\",\"ESTJ-A\"],\"type\":\"scatterpolar\"}],\"name\":\"Mauritius\"},{\"data\":[{\"hovertemplate\":\"Country=Mexico<br>value=%{r}<br>variable=%{theta}<extra></extra>\",\"legendgroup\":\"\",\"line\":{\"color\":\"#636efa\",\"dash\":\"solid\"},\"marker\":{\"symbol\":\"circle\"},\"mode\":\"lines\",\"name\":\"\",\"r\":[0.032,0.0507,0.107,0.0232,0.0781,0.0641,0.0113999999999999,0.0233,0.0432,0.0174,0.0192,0.0538999999999999,0.047,0.022,0.0243999999999999,0.0096,0.0154,0.0199,0.0366,0.0277,0.0285,0.018,0.034,0.0315,0.0116999999999999,0.0154,0.0113999999999999,0.0331,0.0321,0.0246,0.0136,0.0199,0.032],\"showlegend\":false,\"subplot\":\"polar\",\"theta\":[\"ESTJ-A\",\"ESFJ-A\",\"INFP-T\",\"ESFJ-T\",\"ENFP-T\",\"ENFP-A\",\"ESTJ-T\",\"ISFJ-T\",\"ENFJ-A\",\"ESTP-A\",\"ISTJ-A\",\"INTP-T\",\"INFJ-T\",\"ISFP-T\",\"ENTJ-A\",\"ESTP-T\",\"ISTJ-T\",\"ESFP-T\",\"ENTP-A\",\"ESFP-A\",\"INTJ-T\",\"ISFJ-A\",\"INTP-A\",\"ENTP-T\",\"ISTP-T\",\"ENTJ-T\",\"ISTP-A\",\"INFP-A\",\"ENFJ-T\",\"INTJ-A\",\"ISFP-A\",\"INFJ-A\",\"ESTJ-A\"],\"type\":\"scatterpolar\"}],\"name\":\"Mexico\"},{\"data\":[{\"hovertemplate\":\"Country=Monaco<br>value=%{r}<br>variable=%{theta}<extra></extra>\",\"legendgroup\":\"\",\"line\":{\"color\":\"#636efa\",\"dash\":\"solid\"},\"marker\":{\"symbol\":\"circle\"},\"mode\":\"lines\",\"name\":\"\",\"r\":[0.0451,0.0626999999999999,0.0902,0.0475999999999999,0.1003,0.0426,0.0200999999999999,0.0200999999999999,0.0475999999999999,0.0276,0.0075,0.0375999999999999,0.0375999999999999,0.0250999999999999,0.0301,0.0075,0.0301,0.0175,0.0351,0.0226,0.01,0.0301,0.0175,0.0426,0.005,0.0125,0.01,0.0276,0.0626999999999999,0.015,0.005,0.0075,0.0451],\"showlegend\":false,\"subplot\":\"polar\",\"theta\":[\"ESTJ-A\",\"ESFJ-A\",\"INFP-T\",\"ESFJ-T\",\"ENFP-T\",\"ENFP-A\",\"ESTJ-T\",\"ISFJ-T\",\"ENFJ-A\",\"ESTP-A\",\"ISTJ-A\",\"INTP-T\",\"INFJ-T\",\"ISFP-T\",\"ENTJ-A\",\"ESTP-T\",\"ISTJ-T\",\"ESFP-T\",\"ENTP-A\",\"ESFP-A\",\"INTJ-T\",\"ISFJ-A\",\"INTP-A\",\"ENTP-T\",\"ISTP-T\",\"ENTJ-T\",\"ISTP-A\",\"INFP-A\",\"ENFJ-T\",\"INTJ-A\",\"ISFP-A\",\"INFJ-A\",\"ESTJ-A\"],\"type\":\"scatterpolar\"}],\"name\":\"Monaco\"},{\"data\":[{\"hovertemplate\":\"Country=Mongolia<br>value=%{r}<br>variable=%{theta}<extra></extra>\",\"legendgroup\":\"\",\"line\":{\"color\":\"#636efa\",\"dash\":\"solid\"},\"marker\":{\"symbol\":\"circle\"},\"mode\":\"lines\",\"name\":\"\",\"r\":[0.0385999999999999,0.0414,0.0842,0.035,0.0629,0.0337,0.0285,0.0321,0.0341,0.0162,0.0209,0.049,0.047,0.0345,0.0260999999999999,0.018,0.0274,0.0331,0.0239,0.0189,0.0343,0.0203,0.0236,0.0319,0.0217,0.0217,0.013,0.0225,0.0482,0.0243999999999999,0.0144999999999999,0.0183,0.0385999999999999],\"showlegend\":false,\"subplot\":\"polar\",\"theta\":[\"ESTJ-A\",\"ESFJ-A\",\"INFP-T\",\"ESFJ-T\",\"ENFP-T\",\"ENFP-A\",\"ESTJ-T\",\"ISFJ-T\",\"ENFJ-A\",\"ESTP-A\",\"ISTJ-A\",\"INTP-T\",\"INFJ-T\",\"ISFP-T\",\"ENTJ-A\",\"ESTP-T\",\"ISTJ-T\",\"ESFP-T\",\"ENTP-A\",\"ESFP-A\",\"INTJ-T\",\"ISFJ-A\",\"INTP-A\",\"ENTP-T\",\"ISTP-T\",\"ENTJ-T\",\"ISTP-A\",\"INFP-A\",\"ENFJ-T\",\"INTJ-A\",\"ISFP-A\",\"INFJ-A\",\"ESTJ-A\"],\"type\":\"scatterpolar\"}],\"name\":\"Mongolia\"},{\"data\":[{\"hovertemplate\":\"Country=Montenegro<br>value=%{r}<br>variable=%{theta}<extra></extra>\",\"legendgroup\":\"\",\"line\":{\"color\":\"#636efa\",\"dash\":\"solid\"},\"marker\":{\"symbol\":\"circle\"},\"mode\":\"lines\",\"name\":\"\",\"r\":[0.0493,0.0313,0.102,0.0192999999999999,0.0625,0.0529,0.0141999999999999,0.0239,0.0381,0.0186,0.015,0.0643,0.0467999999999999,0.0153,0.0463,0.0093999999999999,0.0135,0.0132,0.0529,0.0158,0.0275,0.013,0.0364,0.047,0.0092,0.0272,0.0097,0.0252,0.0384,0.03,0.0121999999999999,0.0197999999999999,0.0493],\"showlegend\":false,\"subplot\":\"polar\",\"theta\":[\"ESTJ-A\",\"ESFJ-A\",\"INFP-T\",\"ESFJ-T\",\"ENFP-T\",\"ENFP-A\",\"ESTJ-T\",\"ISFJ-T\",\"ENFJ-A\",\"ESTP-A\",\"ISTJ-A\",\"INTP-T\",\"INFJ-T\",\"ISFP-T\",\"ENTJ-A\",\"ESTP-T\",\"ISTJ-T\",\"ESFP-T\",\"ENTP-A\",\"ESFP-A\",\"INTJ-T\",\"ISFJ-A\",\"INTP-A\",\"ENTP-T\",\"ISTP-T\",\"ENTJ-T\",\"ISTP-A\",\"INFP-A\",\"ENFJ-T\",\"INTJ-A\",\"ISFP-A\",\"INFJ-A\",\"ESTJ-A\"],\"type\":\"scatterpolar\"}],\"name\":\"Montenegro\"},{\"data\":[{\"hovertemplate\":\"Country=Morocco<br>value=%{r}<br>variable=%{theta}<extra></extra>\",\"legendgroup\":\"\",\"line\":{\"color\":\"#636efa\",\"dash\":\"solid\"},\"marker\":{\"symbol\":\"circle\"},\"mode\":\"lines\",\"name\":\"\",\"r\":[0.0258,0.0256,0.1208,0.0163,0.0686,0.0491,0.011,0.0200999999999999,0.0308,0.0174,0.0172,0.0768,0.0504999999999999,0.0229,0.0332,0.0116,0.0154,0.0163999999999999,0.046,0.0162,0.0371,0.0113,0.0529,0.0385,0.0159,0.0196,0.0128,0.0308,0.0289,0.0321,0.0107,0.0177,0.0258],\"showlegend\":false,\"subplot\":\"polar\",\"theta\":[\"ESTJ-A\",\"ESFJ-A\",\"INFP-T\",\"ESFJ-T\",\"ENFP-T\",\"ENFP-A\",\"ESTJ-T\",\"ISFJ-T\",\"ENFJ-A\",\"ESTP-A\",\"ISTJ-A\",\"INTP-T\",\"INFJ-T\",\"ISFP-T\",\"ENTJ-A\",\"ESTP-T\",\"ISTJ-T\",\"ESFP-T\",\"ENTP-A\",\"ESFP-A\",\"INTJ-T\",\"ISFJ-A\",\"INTP-A\",\"ENTP-T\",\"ISTP-T\",\"ENTJ-T\",\"ISTP-A\",\"INFP-A\",\"ENFJ-T\",\"INTJ-A\",\"ISFP-A\",\"INFJ-A\",\"ESTJ-A\"],\"type\":\"scatterpolar\"}],\"name\":\"Morocco\"},{\"data\":[{\"hovertemplate\":\"Country=Mozambique<br>value=%{r}<br>variable=%{theta}<extra></extra>\",\"legendgroup\":\"\",\"line\":{\"color\":\"#636efa\",\"dash\":\"solid\"},\"marker\":{\"symbol\":\"circle\"},\"mode\":\"lines\",\"name\":\"\",\"r\":[0.0365,0.0536,0.0913,0.0268,0.0975,0.061,0.0148,0.0365,0.0428,0.016,0.0204999999999999,0.0365,0.0467999999999999,0.0331,0.0222,0.012,0.0148,0.024,0.0285,0.0285,0.0204999999999999,0.0297,0.0233999999999999,0.0268,0.0091,0.0113999999999999,0.008,0.0250999999999999,0.0428,0.0171,0.016,0.0262,0.0365],\"showlegend\":false,\"subplot\":\"polar\",\"theta\":[\"ESTJ-A\",\"ESFJ-A\",\"INFP-T\",\"ESFJ-T\",\"ENFP-T\",\"ENFP-A\",\"ESTJ-T\",\"ISFJ-T\",\"ENFJ-A\",\"ESTP-A\",\"ISTJ-A\",\"INTP-T\",\"INFJ-T\",\"ISFP-T\",\"ENTJ-A\",\"ESTP-T\",\"ISTJ-T\",\"ESFP-T\",\"ENTP-A\",\"ESFP-A\",\"INTJ-T\",\"ISFJ-A\",\"INTP-A\",\"ENTP-T\",\"ISTP-T\",\"ENTJ-T\",\"ISTP-A\",\"INFP-A\",\"ENFJ-T\",\"INTJ-A\",\"ISFP-A\",\"INFJ-A\",\"ESTJ-A\"],\"type\":\"scatterpolar\"}],\"name\":\"Mozambique\"},{\"data\":[{\"hovertemplate\":\"Country=Myanmar<br>value=%{r}<br>variable=%{theta}<extra></extra>\",\"legendgroup\":\"\",\"line\":{\"color\":\"#636efa\",\"dash\":\"solid\"},\"marker\":{\"symbol\":\"circle\"},\"mode\":\"lines\",\"name\":\"\",\"r\":[0.0322,0.0548,0.1148,0.0426999999999999,0.0751999999999999,0.0343,0.0192,0.0491,0.0191,0.0143,0.0213,0.0412,0.044,0.0501999999999999,0.0112,0.0183,0.0243,0.0387,0.0186,0.035,0.019,0.0302999999999999,0.0191,0.0213,0.0213,0.0112,0.0147,0.0266,0.0260999999999999,0.0125,0.0250999999999999,0.0139999999999999,0.0322],\"showlegend\":false,\"subplot\":\"polar\",\"theta\":[\"ESTJ-A\",\"ESFJ-A\",\"INFP-T\",\"ESFJ-T\",\"ENFP-T\",\"ENFP-A\",\"ESTJ-T\",\"ISFJ-T\",\"ENFJ-A\",\"ESTP-A\",\"ISTJ-A\",\"INTP-T\",\"INFJ-T\",\"ISFP-T\",\"ENTJ-A\",\"ESTP-T\",\"ISTJ-T\",\"ESFP-T\",\"ENTP-A\",\"ESFP-A\",\"INTJ-T\",\"ISFJ-A\",\"INTP-A\",\"ENTP-T\",\"ISTP-T\",\"ENTJ-T\",\"ISTP-A\",\"INFP-A\",\"ENFJ-T\",\"INTJ-A\",\"ISFP-A\",\"INFJ-A\",\"ESTJ-A\"],\"type\":\"scatterpolar\"}],\"name\":\"Myanmar\"},{\"data\":[{\"hovertemplate\":\"Country=Namibia<br>value=%{r}<br>variable=%{theta}<extra></extra>\",\"legendgroup\":\"\",\"line\":{\"color\":\"#636efa\",\"dash\":\"solid\"},\"marker\":{\"symbol\":\"circle\"},\"mode\":\"lines\",\"name\":\"\",\"r\":[0.0297,0.0526,0.0992,0.0278,0.0828999999999999,0.0496999999999999,0.0137,0.0449,0.0408,0.0156,0.0163999999999999,0.0375,0.0532,0.0356,0.024,0.0132,0.0166,0.024,0.025,0.0266,0.0206,0.0338,0.023,0.0237999999999999,0.0118,0.0141,0.0106,0.0378,0.0354,0.0141,0.0215,0.0243999999999999,0.0297],\"showlegend\":false,\"subplot\":\"polar\",\"theta\":[\"ESTJ-A\",\"ESFJ-A\",\"INFP-T\",\"ESFJ-T\",\"ENFP-T\",\"ENFP-A\",\"ESTJ-T\",\"ISFJ-T\",\"ENFJ-A\",\"ESTP-A\",\"ISTJ-A\",\"INTP-T\",\"INFJ-T\",\"ISFP-T\",\"ENTJ-A\",\"ESTP-T\",\"ISTJ-T\",\"ESFP-T\",\"ENTP-A\",\"ESFP-A\",\"INTJ-T\",\"ISFJ-A\",\"INTP-A\",\"ENTP-T\",\"ISTP-T\",\"ENTJ-T\",\"ISTP-A\",\"INFP-A\",\"ENFJ-T\",\"INTJ-A\",\"ISFP-A\",\"INFJ-A\",\"ESTJ-A\"],\"type\":\"scatterpolar\"}],\"name\":\"Namibia\"},{\"data\":[{\"hovertemplate\":\"Country=Nepal<br>value=%{r}<br>variable=%{theta}<extra></extra>\",\"legendgroup\":\"\",\"line\":{\"color\":\"#636efa\",\"dash\":\"solid\"},\"marker\":{\"symbol\":\"circle\"},\"mode\":\"lines\",\"name\":\"\",\"r\":[0.0196,0.035,0.1562,0.0323,0.096,0.0405,0.0141,0.0314,0.0265,0.0126,0.0098,0.0571,0.0552,0.0446,0.0133,0.0148,0.0116999999999999,0.0373,0.0192999999999999,0.0217,0.0231,0.0165,0.0239,0.0314,0.0147,0.0166,0.0085,0.0325,0.0401999999999999,0.0146,0.0139,0.0153,0.0196],\"showlegend\":false,\"subplot\":\"polar\",\"theta\":[\"ESTJ-A\",\"ESFJ-A\",\"INFP-T\",\"ESFJ-T\",\"ENFP-T\",\"ENFP-A\",\"ESTJ-T\",\"ISFJ-T\",\"ENFJ-A\",\"ESTP-A\",\"ISTJ-A\",\"INTP-T\",\"INFJ-T\",\"ISFP-T\",\"ENTJ-A\",\"ESTP-T\",\"ISTJ-T\",\"ESFP-T\",\"ENTP-A\",\"ESFP-A\",\"INTJ-T\",\"ISFJ-A\",\"INTP-A\",\"ENTP-T\",\"ISTP-T\",\"ENTJ-T\",\"ISTP-A\",\"INFP-A\",\"ENFJ-T\",\"INTJ-A\",\"ISFP-A\",\"INFJ-A\",\"ESTJ-A\"],\"type\":\"scatterpolar\"}],\"name\":\"Nepal\"},{\"data\":[{\"hovertemplate\":\"Country=Netherlands<br>value=%{r}<br>variable=%{theta}<extra></extra>\",\"legendgroup\":\"\",\"line\":{\"color\":\"#636efa\",\"dash\":\"solid\"},\"marker\":{\"symbol\":\"circle\"},\"mode\":\"lines\",\"name\":\"\",\"r\":[0.0302,0.0494,0.1246,0.0297,0.0888,0.0713999999999999,0.0086,0.0368,0.0341,0.0200999999999999,0.0167,0.0347,0.0598,0.0265,0.0187999999999999,0.0062,0.0113999999999999,0.0216,0.0352,0.0335,0.0185,0.0214,0.0283999999999999,0.0214,0.0087,0.0095,0.0121999999999999,0.0356999999999999,0.0346,0.0175,0.0162,0.0176,0.0302],\"showlegend\":false,\"subplot\":\"polar\",\"theta\":[\"ESTJ-A\",\"ESFJ-A\",\"INFP-T\",\"ESFJ-T\",\"ENFP-T\",\"ENFP-A\",\"ESTJ-T\",\"ISFJ-T\",\"ENFJ-A\",\"ESTP-A\",\"ISTJ-A\",\"INTP-T\",\"INFJ-T\",\"ISFP-T\",\"ENTJ-A\",\"ESTP-T\",\"ISTJ-T\",\"ESFP-T\",\"ENTP-A\",\"ESFP-A\",\"INTJ-T\",\"ISFJ-A\",\"INTP-A\",\"ENTP-T\",\"ISTP-T\",\"ENTJ-T\",\"ISTP-A\",\"INFP-A\",\"ENFJ-T\",\"INTJ-A\",\"ISFP-A\",\"INFJ-A\",\"ESTJ-A\"],\"type\":\"scatterpolar\"}],\"name\":\"Netherlands\"},{\"data\":[{\"hovertemplate\":\"Country=New Zealand<br>value=%{r}<br>variable=%{theta}<extra></extra>\",\"legendgroup\":\"\",\"line\":{\"color\":\"#636efa\",\"dash\":\"solid\"},\"marker\":{\"symbol\":\"circle\"},\"mode\":\"lines\",\"name\":\"\",\"r\":[0.0237999999999999,0.0619,0.1202,0.0409999999999999,0.0917999999999999,0.0584,0.0093999999999999,0.0555,0.036,0.0128,0.0161,0.0288,0.0598,0.0397,0.0121999999999999,0.0069999999999999,0.0133,0.0289999999999999,0.0197,0.0313,0.0146,0.0325,0.0172,0.0176,0.0102,0.0081,0.0096,0.03,0.042,0.0121999999999999,0.02,0.0183,0.0237999999999999],\"showlegend\":false,\"subplot\":\"polar\",\"theta\":[\"ESTJ-A\",\"ESFJ-A\",\"INFP-T\",\"ESFJ-T\",\"ENFP-T\",\"ENFP-A\",\"ESTJ-T\",\"ISFJ-T\",\"ENFJ-A\",\"ESTP-A\",\"ISTJ-A\",\"INTP-T\",\"INFJ-T\",\"ISFP-T\",\"ENTJ-A\",\"ESTP-T\",\"ISTJ-T\",\"ESFP-T\",\"ENTP-A\",\"ESFP-A\",\"INTJ-T\",\"ISFJ-A\",\"INTP-A\",\"ENTP-T\",\"ISTP-T\",\"ENTJ-T\",\"ISTP-A\",\"INFP-A\",\"ENFJ-T\",\"INTJ-A\",\"ISFP-A\",\"INFJ-A\",\"ESTJ-A\"],\"type\":\"scatterpolar\"}],\"name\":\"New Zealand\"},{\"data\":[{\"hovertemplate\":\"Country=Nicaragua<br>value=%{r}<br>variable=%{theta}<extra></extra>\",\"legendgroup\":\"\",\"line\":{\"color\":\"#636efa\",\"dash\":\"solid\"},\"marker\":{\"symbol\":\"circle\"},\"mode\":\"lines\",\"name\":\"\",\"r\":[0.048,0.1583999999999999,0.0662,0.0248,0.07,0.0587,0.009,0.0236,0.0576999999999999,0.0195,0.0189,0.0318,0.032,0.019,0.023,0.0097,0.0116,0.0259,0.0252,0.0423,0.0179,0.0302999999999999,0.0218,0.0218,0.0111,0.0108,0.0116,0.0231,0.0282,0.013,0.0144,0.0207,0.048],\"showlegend\":false,\"subplot\":\"polar\",\"theta\":[\"ESTJ-A\",\"ESFJ-A\",\"INFP-T\",\"ESFJ-T\",\"ENFP-T\",\"ENFP-A\",\"ESTJ-T\",\"ISFJ-T\",\"ENFJ-A\",\"ESTP-A\",\"ISTJ-A\",\"INTP-T\",\"INFJ-T\",\"ISFP-T\",\"ENTJ-A\",\"ESTP-T\",\"ISTJ-T\",\"ESFP-T\",\"ENTP-A\",\"ESFP-A\",\"INTJ-T\",\"ISFJ-A\",\"INTP-A\",\"ENTP-T\",\"ISTP-T\",\"ENTJ-T\",\"ISTP-A\",\"INFP-A\",\"ENFJ-T\",\"INTJ-A\",\"ISFP-A\",\"INFJ-A\",\"ESTJ-A\"],\"type\":\"scatterpolar\"}],\"name\":\"Nicaragua\"},{\"data\":[{\"hovertemplate\":\"Country=Niger<br>value=%{r}<br>variable=%{theta}<extra></extra>\",\"legendgroup\":\"\",\"line\":{\"color\":\"#636efa\",\"dash\":\"solid\"},\"marker\":{\"symbol\":\"circle\"},\"mode\":\"lines\",\"name\":\"\",\"r\":[0.0652,0.1311999999999999,0.06,0.0411,0.0447,0.0272,0.0197999999999999,0.0432,0.0467999999999999,0.016,0.0259,0.0235,0.0437,0.0316,0.0266,0.0129,0.018,0.0277,0.0184,0.0255,0.0202,0.0473,0.0168,0.0185,0.0124,0.0136,0.0092,0.0212,0.027,0.0204999999999999,0.0185,0.026,0.0652],\"showlegend\":false,\"subplot\":\"polar\",\"theta\":[\"ESTJ-A\",\"ESFJ-A\",\"INFP-T\",\"ESFJ-T\",\"ENFP-T\",\"ENFP-A\",\"ESTJ-T\",\"ISFJ-T\",\"ENFJ-A\",\"ESTP-A\",\"ISTJ-A\",\"INTP-T\",\"INFJ-T\",\"ISFP-T\",\"ENTJ-A\",\"ESTP-T\",\"ISTJ-T\",\"ESFP-T\",\"ENTP-A\",\"ESFP-A\",\"INTJ-T\",\"ISFJ-A\",\"INTP-A\",\"ENTP-T\",\"ISTP-T\",\"ENTJ-T\",\"ISTP-A\",\"INFP-A\",\"ENFJ-T\",\"INTJ-A\",\"ISFP-A\",\"INFJ-A\",\"ESTJ-A\"],\"type\":\"scatterpolar\"}],\"name\":\"Niger\"},{\"data\":[{\"hovertemplate\":\"Country=Nigeria<br>value=%{r}<br>variable=%{theta}<extra></extra>\",\"legendgroup\":\"\",\"line\":{\"color\":\"#636efa\",\"dash\":\"solid\"},\"marker\":{\"symbol\":\"circle\"},\"mode\":\"lines\",\"name\":\"\",\"r\":[0.0652,0.1311999999999999,0.06,0.0411,0.0447,0.0272,0.0197999999999999,0.0432,0.0467999999999999,0.016,0.0259,0.0235,0.0437,0.0316,0.0266,0.0129,0.018,0.0277,0.0184,0.0255,0.0202,0.0473,0.0168,0.0185,0.0124,0.0136,0.0092,0.0212,0.027,0.0204999999999999,0.0185,0.026,0.0652],\"showlegend\":false,\"subplot\":\"polar\",\"theta\":[\"ESTJ-A\",\"ESFJ-A\",\"INFP-T\",\"ESFJ-T\",\"ENFP-T\",\"ENFP-A\",\"ESTJ-T\",\"ISFJ-T\",\"ENFJ-A\",\"ESTP-A\",\"ISTJ-A\",\"INTP-T\",\"INFJ-T\",\"ISFP-T\",\"ENTJ-A\",\"ESTP-T\",\"ISTJ-T\",\"ESFP-T\",\"ENTP-A\",\"ESFP-A\",\"INTJ-T\",\"ISFJ-A\",\"INTP-A\",\"ENTP-T\",\"ISTP-T\",\"ENTJ-T\",\"ISTP-A\",\"INFP-A\",\"ENFJ-T\",\"INTJ-A\",\"ISFP-A\",\"INFJ-A\",\"ESTJ-A\"],\"type\":\"scatterpolar\"}],\"name\":\"Nigeria\"},{\"data\":[{\"hovertemplate\":\"Country=Macedonia<br>value=%{r}<br>variable=%{theta}<extra></extra>\",\"legendgroup\":\"\",\"line\":{\"color\":\"#636efa\",\"dash\":\"solid\"},\"marker\":{\"symbol\":\"circle\"},\"mode\":\"lines\",\"name\":\"\",\"r\":[0.0463,0.0356999999999999,0.0960999999999999,0.0237999999999999,0.0602,0.045,0.0182,0.0241,0.0405,0.0212,0.0210999999999999,0.0550999999999999,0.0639,0.0194,0.0411,0.0107,0.0169,0.0136,0.0484999999999999,0.0155,0.0355,0.0146,0.0324,0.0401999999999999,0.0118999999999999,0.0220999999999999,0.009,0.0243999999999999,0.0409,0.0258,0.0098999999999999,0.0163999999999999,0.0463],\"showlegend\":false,\"subplot\":\"polar\",\"theta\":[\"ESTJ-A\",\"ESFJ-A\",\"INFP-T\",\"ESFJ-T\",\"ENFP-T\",\"ENFP-A\",\"ESTJ-T\",\"ISFJ-T\",\"ENFJ-A\",\"ESTP-A\",\"ISTJ-A\",\"INTP-T\",\"INFJ-T\",\"ISFP-T\",\"ENTJ-A\",\"ESTP-T\",\"ISTJ-T\",\"ESFP-T\",\"ENTP-A\",\"ESFP-A\",\"INTJ-T\",\"ISFJ-A\",\"INTP-A\",\"ENTP-T\",\"ISTP-T\",\"ENTJ-T\",\"ISTP-A\",\"INFP-A\",\"ENFJ-T\",\"INTJ-A\",\"ISFP-A\",\"INFJ-A\",\"ESTJ-A\"],\"type\":\"scatterpolar\"}],\"name\":\"Macedonia\"},{\"data\":[{\"hovertemplate\":\"Country=Norway<br>value=%{r}<br>variable=%{theta}<extra></extra>\",\"legendgroup\":\"\",\"line\":{\"color\":\"#636efa\",\"dash\":\"solid\"},\"marker\":{\"symbol\":\"circle\"},\"mode\":\"lines\",\"name\":\"\",\"r\":[0.0293,0.0465,0.1225,0.0289999999999999,0.0808,0.0594,0.008,0.0411,0.0305,0.0187999999999999,0.0196,0.0403,0.0653,0.0313,0.0187,0.0064,0.0133,0.0218,0.0355,0.0287,0.0204,0.0218,0.0313,0.0219,0.0113999999999999,0.0096,0.0141,0.0331,0.0347,0.0204999999999999,0.017,0.0172,0.0293],\"showlegend\":false,\"subplot\":\"polar\",\"theta\":[\"ESTJ-A\",\"ESFJ-A\",\"INFP-T\",\"ESFJ-T\",\"ENFP-T\",\"ENFP-A\",\"ESTJ-T\",\"ISFJ-T\",\"ENFJ-A\",\"ESTP-A\",\"ISTJ-A\",\"INTP-T\",\"INFJ-T\",\"ISFP-T\",\"ENTJ-A\",\"ESTP-T\",\"ISTJ-T\",\"ESFP-T\",\"ENTP-A\",\"ESFP-A\",\"INTJ-T\",\"ISFJ-A\",\"INTP-A\",\"ENTP-T\",\"ISTP-T\",\"ENTJ-T\",\"ISTP-A\",\"INFP-A\",\"ENFJ-T\",\"INTJ-A\",\"ISFP-A\",\"INFJ-A\",\"ESTJ-A\"],\"type\":\"scatterpolar\"}],\"name\":\"Norway\"},{\"data\":[{\"hovertemplate\":\"Country=Oman<br>value=%{r}<br>variable=%{theta}<extra></extra>\",\"legendgroup\":\"\",\"line\":{\"color\":\"#636efa\",\"dash\":\"solid\"},\"marker\":{\"symbol\":\"circle\"},\"mode\":\"lines\",\"name\":\"\",\"r\":[0.0421999999999999,0.0702,0.099,0.0431,0.0788,0.0435,0.0181,0.0388,0.0346,0.0155,0.0168,0.0354,0.0479,0.0382,0.0203,0.0133,0.0154,0.0332,0.0232,0.0279,0.0186,0.0237999999999999,0.0243999999999999,0.0255,0.0128,0.0175,0.011,0.0248,0.0374,0.0151,0.017,0.0168,0.0421999999999999],\"showlegend\":false,\"subplot\":\"polar\",\"theta\":[\"ESTJ-A\",\"ESFJ-A\",\"INFP-T\",\"ESFJ-T\",\"ENFP-T\",\"ENFP-A\",\"ESTJ-T\",\"ISFJ-T\",\"ENFJ-A\",\"ESTP-A\",\"ISTJ-A\",\"INTP-T\",\"INFJ-T\",\"ISFP-T\",\"ENTJ-A\",\"ESTP-T\",\"ISTJ-T\",\"ESFP-T\",\"ENTP-A\",\"ESFP-A\",\"INTJ-T\",\"ISFJ-A\",\"INTP-A\",\"ENTP-T\",\"ISTP-T\",\"ENTJ-T\",\"ISTP-A\",\"INFP-A\",\"ENFJ-T\",\"INTJ-A\",\"ISFP-A\",\"INFJ-A\",\"ESTJ-A\"],\"type\":\"scatterpolar\"}],\"name\":\"Oman\"},{\"data\":[{\"hovertemplate\":\"Country=Pakistan<br>value=%{r}<br>variable=%{theta}<extra></extra>\",\"legendgroup\":\"\",\"line\":{\"color\":\"#636efa\",\"dash\":\"solid\"},\"marker\":{\"symbol\":\"circle\"},\"mode\":\"lines\",\"name\":\"\",\"r\":[0.0283,0.062,0.109,0.0481,0.092,0.0371,0.0217,0.0378,0.0342,0.0144,0.0115,0.0343,0.0547,0.0416,0.0139,0.0182,0.0165,0.0437,0.0177,0.0278,0.0185,0.02,0.0141999999999999,0.0279,0.0159,0.0165,0.0083,0.023,0.0499,0.0111,0.0152,0.0148,0.0283],\"showlegend\":false,\"subplot\":\"polar\",\"theta\":[\"ESTJ-A\",\"ESFJ-A\",\"INFP-T\",\"ESFJ-T\",\"ENFP-T\",\"ENFP-A\",\"ESTJ-T\",\"ISFJ-T\",\"ENFJ-A\",\"ESTP-A\",\"ISTJ-A\",\"INTP-T\",\"INFJ-T\",\"ISFP-T\",\"ENTJ-A\",\"ESTP-T\",\"ISTJ-T\",\"ESFP-T\",\"ENTP-A\",\"ESFP-A\",\"INTJ-T\",\"ISFJ-A\",\"INTP-A\",\"ENTP-T\",\"ISTP-T\",\"ENTJ-T\",\"ISTP-A\",\"INFP-A\",\"ENFJ-T\",\"INTJ-A\",\"ISFP-A\",\"INFJ-A\",\"ESTJ-A\"],\"type\":\"scatterpolar\"}],\"name\":\"Pakistan\"},{\"data\":[{\"hovertemplate\":\"Country=Panama<br>value=%{r}<br>variable=%{theta}<extra></extra>\",\"legendgroup\":\"\",\"line\":{\"color\":\"#636efa\",\"dash\":\"solid\"},\"marker\":{\"symbol\":\"circle\"},\"mode\":\"lines\",\"name\":\"\",\"r\":[0.0288,0.0509,0.1137,0.0192999999999999,0.0813,0.0697,0.0101,0.0283,0.0419,0.0184,0.0215,0.0451,0.0498,0.0275,0.0195,0.0089,0.0165,0.0203,0.0341,0.0279999999999999,0.0208,0.0231,0.0329,0.0218,0.0121999999999999,0.0118999999999999,0.0132,0.0404,0.0324,0.0226,0.0162,0.0187999999999999,0.0288],\"showlegend\":false,\"subplot\":\"polar\",\"theta\":[\"ESTJ-A\",\"ESFJ-A\",\"INFP-T\",\"ESFJ-T\",\"ENFP-T\",\"ENFP-A\",\"ESTJ-T\",\"ISFJ-T\",\"ENFJ-A\",\"ESTP-A\",\"ISTJ-A\",\"INTP-T\",\"INFJ-T\",\"ISFP-T\",\"ENTJ-A\",\"ESTP-T\",\"ISTJ-T\",\"ESFP-T\",\"ENTP-A\",\"ESFP-A\",\"INTJ-T\",\"ISFJ-A\",\"INTP-A\",\"ENTP-T\",\"ISTP-T\",\"ENTJ-T\",\"ISTP-A\",\"INFP-A\",\"ENFJ-T\",\"INTJ-A\",\"ISFP-A\",\"INFJ-A\",\"ESTJ-A\"],\"type\":\"scatterpolar\"}],\"name\":\"Panama\"},{\"data\":[{\"hovertemplate\":\"Country=Papua New Guinea<br>value=%{r}<br>variable=%{theta}<extra></extra>\",\"legendgroup\":\"\",\"line\":{\"color\":\"#636efa\",\"dash\":\"solid\"},\"marker\":{\"symbol\":\"circle\"},\"mode\":\"lines\",\"name\":\"\",\"r\":[0.0266999999999999,0.0658,0.0817,0.0448,0.0742999999999999,0.0448,0.0125,0.0545,0.0454,0.0216,0.0199,0.0233,0.0573,0.0437,0.0148,0.0085,0.0096,0.0409,0.0113999999999999,0.0346,0.0125,0.0346,0.0182,0.0187,0.0113999999999999,0.0045,0.0079,0.038,0.0392,0.0233,0.0266999999999999,0.0289,0.0266999999999999],\"showlegend\":false,\"subplot\":\"polar\",\"theta\":[\"ESTJ-A\",\"ESFJ-A\",\"INFP-T\",\"ESFJ-T\",\"ENFP-T\",\"ENFP-A\",\"ESTJ-T\",\"ISFJ-T\",\"ENFJ-A\",\"ESTP-A\",\"ISTJ-A\",\"INTP-T\",\"INFJ-T\",\"ISFP-T\",\"ENTJ-A\",\"ESTP-T\",\"ISTJ-T\",\"ESFP-T\",\"ENTP-A\",\"ESFP-A\",\"INTJ-T\",\"ISFJ-A\",\"INTP-A\",\"ENTP-T\",\"ISTP-T\",\"ENTJ-T\",\"ISTP-A\",\"INFP-A\",\"ENFJ-T\",\"INTJ-A\",\"ISFP-A\",\"INFJ-A\",\"ESTJ-A\"],\"type\":\"scatterpolar\"}],\"name\":\"Papua New Guinea\"},{\"data\":[{\"hovertemplate\":\"Country=Paraguay<br>value=%{r}<br>variable=%{theta}<extra></extra>\",\"legendgroup\":\"\",\"line\":{\"color\":\"#636efa\",\"dash\":\"solid\"},\"marker\":{\"symbol\":\"circle\"},\"mode\":\"lines\",\"name\":\"\",\"r\":[0.0243999999999999,0.0260999999999999,0.1362,0.0141,0.0807,0.0475,0.0101,0.0236,0.0292,0.0118,0.0153,0.0689,0.0508,0.0233999999999999,0.0266,0.0085,0.0219,0.0194,0.0327,0.0200999999999999,0.0362,0.0166,0.0356999999999999,0.0356999999999999,0.0166,0.0153,0.0131,0.0349,0.0297,0.0365,0.0176,0.0209,0.0243999999999999],\"showlegend\":false,\"subplot\":\"polar\",\"theta\":[\"ESTJ-A\",\"ESFJ-A\",\"INFP-T\",\"ESFJ-T\",\"ENFP-T\",\"ENFP-A\",\"ESTJ-T\",\"ISFJ-T\",\"ENFJ-A\",\"ESTP-A\",\"ISTJ-A\",\"INTP-T\",\"INFJ-T\",\"ISFP-T\",\"ENTJ-A\",\"ESTP-T\",\"ISTJ-T\",\"ESFP-T\",\"ENTP-A\",\"ESFP-A\",\"INTJ-T\",\"ISFJ-A\",\"INTP-A\",\"ENTP-T\",\"ISTP-T\",\"ENTJ-T\",\"ISTP-A\",\"INFP-A\",\"ENFJ-T\",\"INTJ-A\",\"ISFP-A\",\"INFJ-A\",\"ESTJ-A\"],\"type\":\"scatterpolar\"}],\"name\":\"Paraguay\"},{\"data\":[{\"hovertemplate\":\"Country=Peru<br>value=%{r}<br>variable=%{theta}<extra></extra>\",\"legendgroup\":\"\",\"line\":{\"color\":\"#636efa\",\"dash\":\"solid\"},\"marker\":{\"symbol\":\"circle\"},\"mode\":\"lines\",\"name\":\"\",\"r\":[0.0292,0.0521,0.1234,0.0213,0.0832,0.0652,0.01,0.0243,0.0416,0.0155,0.0167,0.0605,0.0458999999999999,0.0227,0.0222,0.0079,0.0139,0.0185,0.0321,0.0248,0.026,0.0212,0.0323,0.031,0.0125,0.0121,0.0127,0.0325,0.031,0.0242,0.0144,0.0189,0.0292],\"showlegend\":false,\"subplot\":\"polar\",\"theta\":[\"ESTJ-A\",\"ESFJ-A\",\"INFP-T\",\"ESFJ-T\",\"ENFP-T\",\"ENFP-A\",\"ESTJ-T\",\"ISFJ-T\",\"ENFJ-A\",\"ESTP-A\",\"ISTJ-A\",\"INTP-T\",\"INFJ-T\",\"ISFP-T\",\"ENTJ-A\",\"ESTP-T\",\"ISTJ-T\",\"ESFP-T\",\"ENTP-A\",\"ESFP-A\",\"INTJ-T\",\"ISFJ-A\",\"INTP-A\",\"ENTP-T\",\"ISTP-T\",\"ENTJ-T\",\"ISTP-A\",\"INFP-A\",\"ENFJ-T\",\"INTJ-A\",\"ISFP-A\",\"INFJ-A\",\"ESTJ-A\"],\"type\":\"scatterpolar\"}],\"name\":\"Peru\"},{\"data\":[{\"hovertemplate\":\"Country=Philippines<br>value=%{r}<br>variable=%{theta}<extra></extra>\",\"legendgroup\":\"\",\"line\":{\"color\":\"#636efa\",\"dash\":\"solid\"},\"marker\":{\"symbol\":\"circle\"},\"mode\":\"lines\",\"name\":\"\",\"r\":[0.0218,0.0653,0.1314,0.0432,0.0751,0.0353,0.0135,0.0447,0.0248,0.0113999999999999,0.0149,0.0404,0.0578,0.0509,0.01,0.0124,0.0158,0.0433,0.0141999999999999,0.0318,0.0206,0.0289999999999999,0.0192999999999999,0.02,0.0154,0.0095,0.0098999999999999,0.0313,0.0317,0.0147,0.0215,0.0194,0.0218],\"showlegend\":false,\"subplot\":\"polar\",\"theta\":[\"ESTJ-A\",\"ESFJ-A\",\"INFP-T\",\"ESFJ-T\",\"ENFP-T\",\"ENFP-A\",\"ESTJ-T\",\"ISFJ-T\",\"ENFJ-A\",\"ESTP-A\",\"ISTJ-A\",\"INTP-T\",\"INFJ-T\",\"ISFP-T\",\"ENTJ-A\",\"ESTP-T\",\"ISTJ-T\",\"ESFP-T\",\"ENTP-A\",\"ESFP-A\",\"INTJ-T\",\"ISFJ-A\",\"INTP-A\",\"ENTP-T\",\"ISTP-T\",\"ENTJ-T\",\"ISTP-A\",\"INFP-A\",\"ENFJ-T\",\"INTJ-A\",\"ISFP-A\",\"INFJ-A\",\"ESTJ-A\"],\"type\":\"scatterpolar\"}],\"name\":\"Philippines\"},{\"data\":[{\"hovertemplate\":\"Country=Poland<br>value=%{r}<br>variable=%{theta}<extra></extra>\",\"legendgroup\":\"\",\"line\":{\"color\":\"#636efa\",\"dash\":\"solid\"},\"marker\":{\"symbol\":\"circle\"},\"mode\":\"lines\",\"name\":\"\",\"r\":[0.0293,0.022,0.1311999999999999,0.0182,0.0699,0.0352,0.0132,0.0319,0.02,0.0183,0.0256999999999999,0.0817,0.0632,0.0250999999999999,0.0231,0.0093999999999999,0.0233,0.0146,0.0424,0.0128,0.0453,0.0118999999999999,0.0424,0.036,0.0173,0.0165,0.0157,0.0237999999999999,0.0278,0.0311,0.0093,0.0124,0.0293],\"showlegend\":false,\"subplot\":\"polar\",\"theta\":[\"ESTJ-A\",\"ESFJ-A\",\"INFP-T\",\"ESFJ-T\",\"ENFP-T\",\"ENFP-A\",\"ESTJ-T\",\"ISFJ-T\",\"ENFJ-A\",\"ESTP-A\",\"ISTJ-A\",\"INTP-T\",\"INFJ-T\",\"ISFP-T\",\"ENTJ-A\",\"ESTP-T\",\"ISTJ-T\",\"ESFP-T\",\"ENTP-A\",\"ESFP-A\",\"INTJ-T\",\"ISFJ-A\",\"INTP-A\",\"ENTP-T\",\"ISTP-T\",\"ENTJ-T\",\"ISTP-A\",\"INFP-A\",\"ENFJ-T\",\"INTJ-A\",\"ISFP-A\",\"INFJ-A\",\"ESTJ-A\"],\"type\":\"scatterpolar\"}],\"name\":\"Poland\"},{\"data\":[{\"hovertemplate\":\"Country=Portugal<br>value=%{r}<br>variable=%{theta}<extra></extra>\",\"legendgroup\":\"\",\"line\":{\"color\":\"#636efa\",\"dash\":\"solid\"},\"marker\":{\"symbol\":\"circle\"},\"mode\":\"lines\",\"name\":\"\",\"r\":[0.0162,0.0295,0.1682999999999999,0.0202,0.0857,0.051,0.0068,0.0365,0.0289,0.012,0.0147,0.0576,0.0794,0.0349,0.0134,0.0064,0.0136,0.0173,0.0268,0.0176,0.0277,0.0185,0.0295,0.0247,0.0128,0.0106,0.011,0.0377,0.036,0.0194,0.0143,0.021,0.0162],\"showlegend\":false,\"subplot\":\"polar\",\"theta\":[\"ESTJ-A\",\"ESFJ-A\",\"INFP-T\",\"ESFJ-T\",\"ENFP-T\",\"ENFP-A\",\"ESTJ-T\",\"ISFJ-T\",\"ENFJ-A\",\"ESTP-A\",\"ISTJ-A\",\"INTP-T\",\"INFJ-T\",\"ISFP-T\",\"ENTJ-A\",\"ESTP-T\",\"ISTJ-T\",\"ESFP-T\",\"ENTP-A\",\"ESFP-A\",\"INTJ-T\",\"ISFJ-A\",\"INTP-A\",\"ENTP-T\",\"ISTP-T\",\"ENTJ-T\",\"ISTP-A\",\"INFP-A\",\"ENFJ-T\",\"INTJ-A\",\"ISFP-A\",\"INFJ-A\",\"ESTJ-A\"],\"type\":\"scatterpolar\"}],\"name\":\"Portugal\"},{\"data\":[{\"hovertemplate\":\"Country=Qatar<br>value=%{r}<br>variable=%{theta}<extra></extra>\",\"legendgroup\":\"\",\"line\":{\"color\":\"#636efa\",\"dash\":\"solid\"},\"marker\":{\"symbol\":\"circle\"},\"mode\":\"lines\",\"name\":\"\",\"r\":[0.0348,0.0586,0.1108,0.0366,0.0851,0.0479,0.0154,0.0383,0.0348,0.0159,0.0169,0.0351,0.0506,0.0405,0.0214,0.0127,0.0153,0.0322,0.0264,0.0281,0.0168,0.025,0.0207,0.0248,0.0121,0.0127,0.0112,0.0276,0.0397,0.0166,0.0185,0.017,0.0348],\"showlegend\":false,\"subplot\":\"polar\",\"theta\":[\"ESTJ-A\",\"ESFJ-A\",\"INFP-T\",\"ESFJ-T\",\"ENFP-T\",\"ENFP-A\",\"ESTJ-T\",\"ISFJ-T\",\"ENFJ-A\",\"ESTP-A\",\"ISTJ-A\",\"INTP-T\",\"INFJ-T\",\"ISFP-T\",\"ENTJ-A\",\"ESTP-T\",\"ISTJ-T\",\"ESFP-T\",\"ENTP-A\",\"ESFP-A\",\"INTJ-T\",\"ISFJ-A\",\"INTP-A\",\"ENTP-T\",\"ISTP-T\",\"ENTJ-T\",\"ISTP-A\",\"INFP-A\",\"ENFJ-T\",\"INTJ-A\",\"ISFP-A\",\"INFJ-A\",\"ESTJ-A\"],\"type\":\"scatterpolar\"}],\"name\":\"Qatar\"},{\"data\":[{\"hovertemplate\":\"Country=South Korea<br>value=%{r}<br>variable=%{theta}<extra></extra>\",\"legendgroup\":\"\",\"line\":{\"color\":\"#636efa\",\"dash\":\"solid\"},\"marker\":{\"symbol\":\"circle\"},\"mode\":\"lines\",\"name\":\"\",\"r\":[0.0277,0.0436,0.1061,0.0399,0.0805,0.0455,0.0179,0.0501999999999999,0.0274,0.0162,0.0207,0.0395999999999999,0.046,0.0465,0.0147,0.0132,0.0220999999999999,0.0356999999999999,0.0247,0.0279,0.0209,0.0264,0.0232,0.0256999999999999,0.0179,0.0126,0.0132,0.0278,0.0335,0.0166,0.0196,0.0165,0.0277],\"showlegend\":false,\"subplot\":\"polar\",\"theta\":[\"ESTJ-A\",\"ESFJ-A\",\"INFP-T\",\"ESFJ-T\",\"ENFP-T\",\"ENFP-A\",\"ESTJ-T\",\"ISFJ-T\",\"ENFJ-A\",\"ESTP-A\",\"ISTJ-A\",\"INTP-T\",\"INFJ-T\",\"ISFP-T\",\"ENTJ-A\",\"ESTP-T\",\"ISTJ-T\",\"ESFP-T\",\"ENTP-A\",\"ESFP-A\",\"INTJ-T\",\"ISFJ-A\",\"INTP-A\",\"ENTP-T\",\"ISTP-T\",\"ENTJ-T\",\"ISTP-A\",\"INFP-A\",\"ENFJ-T\",\"INTJ-A\",\"ISFP-A\",\"INFJ-A\",\"ESTJ-A\"],\"type\":\"scatterpolar\"}],\"name\":\"South Korea\"},{\"data\":[{\"hovertemplate\":\"Country=Moldova<br>value=%{r}<br>variable=%{theta}<extra></extra>\",\"legendgroup\":\"\",\"line\":{\"color\":\"#636efa\",\"dash\":\"solid\"},\"marker\":{\"symbol\":\"circle\"},\"mode\":\"lines\",\"name\":\"\",\"r\":[0.0411,0.0326,0.0928,0.0209,0.0672,0.0391,0.0187,0.0279999999999999,0.0366,0.0217,0.0266,0.0652,0.0552,0.0195,0.036,0.0139,0.0209,0.0159,0.0362,0.0137,0.0368,0.0144999999999999,0.0283999999999999,0.0421,0.0169,0.0282,0.0163,0.0200999999999999,0.0383,0.0314,0.0098999999999999,0.0155,0.0411],\"showlegend\":false,\"subplot\":\"polar\",\"theta\":[\"ESTJ-A\",\"ESFJ-A\",\"INFP-T\",\"ESFJ-T\",\"ENFP-T\",\"ENFP-A\",\"ESTJ-T\",\"ISFJ-T\",\"ENFJ-A\",\"ESTP-A\",\"ISTJ-A\",\"INTP-T\",\"INFJ-T\",\"ISFP-T\",\"ENTJ-A\",\"ESTP-T\",\"ISTJ-T\",\"ESFP-T\",\"ENTP-A\",\"ESFP-A\",\"INTJ-T\",\"ISFJ-A\",\"INTP-A\",\"ENTP-T\",\"ISTP-T\",\"ENTJ-T\",\"ISTP-A\",\"INFP-A\",\"ENFJ-T\",\"INTJ-A\",\"ISFP-A\",\"INFJ-A\",\"ESTJ-A\"],\"type\":\"scatterpolar\"}],\"name\":\"Moldova\"},{\"data\":[{\"hovertemplate\":\"Country=Romania<br>value=%{r}<br>variable=%{theta}<extra></extra>\",\"legendgroup\":\"\",\"line\":{\"color\":\"#636efa\",\"dash\":\"solid\"},\"marker\":{\"symbol\":\"circle\"},\"mode\":\"lines\",\"name\":\"\",\"r\":[0.0409,0.0336,0.1115,0.02,0.0788,0.0457,0.0167,0.0254,0.032,0.0197,0.0202,0.0647,0.0557,0.0212,0.031,0.0116,0.0199,0.016,0.0437,0.0156,0.0366,0.0134,0.03,0.0441999999999999,0.0139999999999999,0.0219,0.0112,0.0215,0.0348,0.0246,0.0093,0.0148,0.0409],\"showlegend\":false,\"subplot\":\"polar\",\"theta\":[\"ESTJ-A\",\"ESFJ-A\",\"INFP-T\",\"ESFJ-T\",\"ENFP-T\",\"ENFP-A\",\"ESTJ-T\",\"ISFJ-T\",\"ENFJ-A\",\"ESTP-A\",\"ISTJ-A\",\"INTP-T\",\"INFJ-T\",\"ISFP-T\",\"ENTJ-A\",\"ESTP-T\",\"ISTJ-T\",\"ESFP-T\",\"ENTP-A\",\"ESFP-A\",\"INTJ-T\",\"ISFJ-A\",\"INTP-A\",\"ENTP-T\",\"ISTP-T\",\"ENTJ-T\",\"ISTP-A\",\"INFP-A\",\"ENFJ-T\",\"INTJ-A\",\"ISFP-A\",\"INFJ-A\",\"ESTJ-A\"],\"type\":\"scatterpolar\"}],\"name\":\"Romania\"},{\"data\":[{\"hovertemplate\":\"Country=Russia<br>value=%{r}<br>variable=%{theta}<extra></extra>\",\"legendgroup\":\"\",\"line\":{\"color\":\"#636efa\",\"dash\":\"solid\"},\"marker\":{\"symbol\":\"circle\"},\"mode\":\"lines\",\"name\":\"\",\"r\":[0.0392,0.0260999999999999,0.1127,0.0196,0.0621,0.0305,0.0178,0.0308,0.0208,0.0216,0.0299,0.0839,0.046,0.0272,0.026,0.0136,0.0277,0.0175,0.0359,0.0146,0.0395999999999999,0.0162,0.0412999999999999,0.0385999999999999,0.0226,0.0187,0.0196,0.0218,0.0268,0.027,0.0121999999999999,0.0121999999999999,0.0392],\"showlegend\":false,\"subplot\":\"polar\",\"theta\":[\"ESTJ-A\",\"ESFJ-A\",\"INFP-T\",\"ESFJ-T\",\"ENFP-T\",\"ENFP-A\",\"ESTJ-T\",\"ISFJ-T\",\"ENFJ-A\",\"ESTP-A\",\"ISTJ-A\",\"INTP-T\",\"INFJ-T\",\"ISFP-T\",\"ENTJ-A\",\"ESTP-T\",\"ISTJ-T\",\"ESFP-T\",\"ENTP-A\",\"ESFP-A\",\"INTJ-T\",\"ISFJ-A\",\"INTP-A\",\"ENTP-T\",\"ISTP-T\",\"ENTJ-T\",\"ISTP-A\",\"INFP-A\",\"ENFJ-T\",\"INTJ-A\",\"ISFP-A\",\"INFJ-A\",\"ESTJ-A\"],\"type\":\"scatterpolar\"}],\"name\":\"Russia\"},{\"data\":[{\"hovertemplate\":\"Country=Rwanda<br>value=%{r}<br>variable=%{theta}<extra></extra>\",\"legendgroup\":\"\",\"line\":{\"color\":\"#636efa\",\"dash\":\"solid\"},\"marker\":{\"symbol\":\"circle\"},\"mode\":\"lines\",\"name\":\"\",\"r\":[0.046,0.1005,0.0601,0.0612,0.0559,0.0443,0.0336,0.0412,0.0429,0.0133,0.0158,0.0277,0.046,0.0262,0.0277,0.0127,0.0195,0.0322,0.0233999999999999,0.0361,0.0183,0.0333,0.0124,0.0226,0.0104,0.0197999999999999,0.0062,0.0265,0.0324,0.0138,0.0175,0.0206,0.046],\"showlegend\":false,\"subplot\":\"polar\",\"theta\":[\"ESTJ-A\",\"ESFJ-A\",\"INFP-T\",\"ESFJ-T\",\"ENFP-T\",\"ENFP-A\",\"ESTJ-T\",\"ISFJ-T\",\"ENFJ-A\",\"ESTP-A\",\"ISTJ-A\",\"INTP-T\",\"INFJ-T\",\"ISFP-T\",\"ENTJ-A\",\"ESTP-T\",\"ISTJ-T\",\"ESFP-T\",\"ENTP-A\",\"ESFP-A\",\"INTJ-T\",\"ISFJ-A\",\"INTP-A\",\"ENTP-T\",\"ISTP-T\",\"ENTJ-T\",\"ISTP-A\",\"INFP-A\",\"ENFJ-T\",\"INTJ-A\",\"ISFP-A\",\"INFJ-A\",\"ESTJ-A\"],\"type\":\"scatterpolar\"}],\"name\":\"Rwanda\"},{\"data\":[{\"hovertemplate\":\"Country=Saint Kitts and Nevis<br>value=%{r}<br>variable=%{theta}<extra></extra>\",\"legendgroup\":\"\",\"line\":{\"color\":\"#636efa\",\"dash\":\"solid\"},\"marker\":{\"symbol\":\"circle\"},\"mode\":\"lines\",\"name\":\"\",\"r\":[0.0259,0.0506,0.1192,0.0349,0.0652,0.0484,0.0079,0.0495,0.0416,0.0135,0.0304,0.0191,0.063,0.0326,0.018,0.0067,0.0157,0.0225,0.0112,0.0225,0.0304,0.0438999999999999,0.0236,0.0157,0.0112,0.0169,0.0157,0.0349,0.0304,0.0236,0.0191,0.036,0.0259],\"showlegend\":false,\"subplot\":\"polar\",\"theta\":[\"ESTJ-A\",\"ESFJ-A\",\"INFP-T\",\"ESFJ-T\",\"ENFP-T\",\"ENFP-A\",\"ESTJ-T\",\"ISFJ-T\",\"ENFJ-A\",\"ESTP-A\",\"ISTJ-A\",\"INTP-T\",\"INFJ-T\",\"ISFP-T\",\"ENTJ-A\",\"ESTP-T\",\"ISTJ-T\",\"ESFP-T\",\"ENTP-A\",\"ESFP-A\",\"INTJ-T\",\"ISFJ-A\",\"INTP-A\",\"ENTP-T\",\"ISTP-T\",\"ENTJ-T\",\"ISTP-A\",\"INFP-A\",\"ENFJ-T\",\"INTJ-A\",\"ISFP-A\",\"INFJ-A\",\"ESTJ-A\"],\"type\":\"scatterpolar\"}],\"name\":\"Saint Kitts and Nevis\"},{\"data\":[{\"hovertemplate\":\"Country=Saint Lucia<br>value=%{r}<br>variable=%{theta}<extra></extra>\",\"legendgroup\":\"\",\"line\":{\"color\":\"#636efa\",\"dash\":\"solid\"},\"marker\":{\"symbol\":\"circle\"},\"mode\":\"lines\",\"name\":\"\",\"r\":[0.0269,0.0616,0.1045,0.0225,0.0525,0.0377,0.0113,0.0416,0.036,0.0126,0.0269,0.0476999999999999,0.0607,0.0321,0.0182,0.0126,0.0165,0.023,0.0191,0.0312,0.0212,0.0499,0.0325,0.0217,0.0113,0.0113,0.0108,0.0408,0.0286,0.0239,0.0247,0.0282,0.0269],\"showlegend\":false,\"subplot\":\"polar\",\"theta\":[\"ESTJ-A\",\"ESFJ-A\",\"INFP-T\",\"ESFJ-T\",\"ENFP-T\",\"ENFP-A\",\"ESTJ-T\",\"ISFJ-T\",\"ENFJ-A\",\"ESTP-A\",\"ISTJ-A\",\"INTP-T\",\"INFJ-T\",\"ISFP-T\",\"ENTJ-A\",\"ESTP-T\",\"ISTJ-T\",\"ESFP-T\",\"ENTP-A\",\"ESFP-A\",\"INTJ-T\",\"ISFJ-A\",\"INTP-A\",\"ENTP-T\",\"ISTP-T\",\"ENTJ-T\",\"ISTP-A\",\"INFP-A\",\"ENFJ-T\",\"INTJ-A\",\"ISFP-A\",\"INFJ-A\",\"ESTJ-A\"],\"type\":\"scatterpolar\"}],\"name\":\"Saint Lucia\"},{\"data\":[{\"hovertemplate\":\"Country=Saint Vincent and the Grenadines<br>value=%{r}<br>variable=%{theta}<extra></extra>\",\"legendgroup\":\"\",\"line\":{\"color\":\"#636efa\",\"dash\":\"solid\"},\"marker\":{\"symbol\":\"circle\"},\"mode\":\"lines\",\"name\":\"\",\"r\":[0.0247,0.0435,0.1344999999999999,0.0247,0.0593,0.0406,0.0109,0.0385999999999999,0.0326,0.0118999999999999,0.0237,0.0445,0.0673,0.0306999999999999,0.0129,0.0059,0.0118999999999999,0.0178,0.0385999999999999,0.0306999999999999,0.0208,0.0277,0.0326,0.0208,0.0158,0.0138,0.0178,0.0326,0.0395999999999999,0.0218,0.0208,0.0306999999999999,0.0247],\"showlegend\":false,\"subplot\":\"polar\",\"theta\":[\"ESTJ-A\",\"ESFJ-A\",\"INFP-T\",\"ESFJ-T\",\"ENFP-T\",\"ENFP-A\",\"ESTJ-T\",\"ISFJ-T\",\"ENFJ-A\",\"ESTP-A\",\"ISTJ-A\",\"INTP-T\",\"INFJ-T\",\"ISFP-T\",\"ENTJ-A\",\"ESTP-T\",\"ISTJ-T\",\"ESFP-T\",\"ENTP-A\",\"ESFP-A\",\"INTJ-T\",\"ISFJ-A\",\"INTP-A\",\"ENTP-T\",\"ISTP-T\",\"ENTJ-T\",\"ISTP-A\",\"INFP-A\",\"ENFJ-T\",\"INTJ-A\",\"ISFP-A\",\"INFJ-A\",\"ESTJ-A\"],\"type\":\"scatterpolar\"}],\"name\":\"Saint Vincent and the Grenadines\"},{\"data\":[{\"hovertemplate\":\"Country=Saudi Arabia<br>value=%{r}<br>variable=%{theta}<extra></extra>\",\"legendgroup\":\"\",\"line\":{\"color\":\"#636efa\",\"dash\":\"solid\"},\"marker\":{\"symbol\":\"circle\"},\"mode\":\"lines\",\"name\":\"\",\"r\":[0.0375,0.0469,0.1015,0.0339,0.072,0.0412999999999999,0.019,0.0341,0.0322,0.0185,0.019,0.0444,0.0533,0.0361,0.0266999999999999,0.0137,0.0182,0.0288,0.0298,0.0231,0.0277,0.0202,0.0272,0.027,0.0153,0.0187999999999999,0.013,0.0235,0.0397,0.0233999999999999,0.0161,0.0179,0.0375],\"showlegend\":false,\"subplot\":\"polar\",\"theta\":[\"ESTJ-A\",\"ESFJ-A\",\"INFP-T\",\"ESFJ-T\",\"ENFP-T\",\"ENFP-A\",\"ESTJ-T\",\"ISFJ-T\",\"ENFJ-A\",\"ESTP-A\",\"ISTJ-A\",\"INTP-T\",\"INFJ-T\",\"ISFP-T\",\"ENTJ-A\",\"ESTP-T\",\"ISTJ-T\",\"ESFP-T\",\"ENTP-A\",\"ESFP-A\",\"INTJ-T\",\"ISFJ-A\",\"INTP-A\",\"ENTP-T\",\"ISTP-T\",\"ENTJ-T\",\"ISTP-A\",\"INFP-A\",\"ENFJ-T\",\"INTJ-A\",\"ISFP-A\",\"INFJ-A\",\"ESTJ-A\"],\"type\":\"scatterpolar\"}],\"name\":\"Saudi Arabia\"},{\"data\":[{\"hovertemplate\":\"Country=Senegal<br>value=%{r}<br>variable=%{theta}<extra></extra>\",\"legendgroup\":\"\",\"line\":{\"color\":\"#636efa\",\"dash\":\"solid\"},\"marker\":{\"symbol\":\"circle\"},\"mode\":\"lines\",\"name\":\"\",\"r\":[0.0412,0.0733999999999999,0.079,0.0252,0.0769,0.0762,0.0147,0.0419,0.0349,0.0168,0.0231,0.0503,0.0496,0.0231,0.0175,0.0069999999999999,0.0091,0.0266,0.0259,0.0279999999999999,0.0126,0.0314,0.0273,0.0335,0.0077,0.0056,0.0091,0.0327999999999999,0.0398,0.0168,0.0189,0.0245,0.0412],\"showlegend\":false,\"subplot\":\"polar\",\"theta\":[\"ESTJ-A\",\"ESFJ-A\",\"INFP-T\",\"ESFJ-T\",\"ENFP-T\",\"ENFP-A\",\"ESTJ-T\",\"ISFJ-T\",\"ENFJ-A\",\"ESTP-A\",\"ISTJ-A\",\"INTP-T\",\"INFJ-T\",\"ISFP-T\",\"ENTJ-A\",\"ESTP-T\",\"ISTJ-T\",\"ESFP-T\",\"ENTP-A\",\"ESFP-A\",\"INTJ-T\",\"ISFJ-A\",\"INTP-A\",\"ENTP-T\",\"ISTP-T\",\"ENTJ-T\",\"ISTP-A\",\"INFP-A\",\"ENFJ-T\",\"INTJ-A\",\"ISFP-A\",\"INFJ-A\",\"ESTJ-A\"],\"type\":\"scatterpolar\"}],\"name\":\"Senegal\"},{\"data\":[{\"hovertemplate\":\"Country=Serbia<br>value=%{r}<br>variable=%{theta}<extra></extra>\",\"legendgroup\":\"\",\"line\":{\"color\":\"#636efa\",\"dash\":\"solid\"},\"marker\":{\"symbol\":\"circle\"},\"mode\":\"lines\",\"name\":\"\",\"r\":[0.0434,0.0343,0.1036,0.0168,0.0675,0.0501,0.0146,0.021,0.035,0.0220999999999999,0.0209,0.0633,0.0489,0.0178,0.0372,0.0102,0.0144,0.0126,0.0562,0.0157,0.0343,0.0133,0.042,0.0415,0.0107,0.0212,0.0123,0.026,0.032,0.0344,0.0093,0.0171,0.0434],\"showlegend\":false,\"subplot\":\"polar\",\"theta\":[\"ESTJ-A\",\"ESFJ-A\",\"INFP-T\",\"ESFJ-T\",\"ENFP-T\",\"ENFP-A\",\"ESTJ-T\",\"ISFJ-T\",\"ENFJ-A\",\"ESTP-A\",\"ISTJ-A\",\"INTP-T\",\"INFJ-T\",\"ISFP-T\",\"ENTJ-A\",\"ESTP-T\",\"ISTJ-T\",\"ESFP-T\",\"ENTP-A\",\"ESFP-A\",\"INTJ-T\",\"ISFJ-A\",\"INTP-A\",\"ENTP-T\",\"ISTP-T\",\"ENTJ-T\",\"ISTP-A\",\"INFP-A\",\"ENFJ-T\",\"INTJ-A\",\"ISFP-A\",\"INFJ-A\",\"ESTJ-A\"],\"type\":\"scatterpolar\"}],\"name\":\"Serbia\"},{\"data\":[{\"hovertemplate\":\"Country=Seychelles<br>value=%{r}<br>variable=%{theta}<extra></extra>\",\"legendgroup\":\"\",\"line\":{\"color\":\"#636efa\",\"dash\":\"solid\"},\"marker\":{\"symbol\":\"circle\"},\"mode\":\"lines\",\"name\":\"\",\"r\":[0.0407,0.0542999999999999,0.1131,0.0249,0.0973,0.0542999999999999,0.0192,0.0339,0.0407,0.0147,0.0181,0.0385,0.0498,0.0351,0.0283,0.0079,0.0158,0.0226,0.0271,0.0271,0.026,0.026,0.0204,0.0362,0.0158,0.0068,0.0124,0.0226,0.0305,0.017,0.009,0.0136,0.0407],\"showlegend\":false,\"subplot\":\"polar\",\"theta\":[\"ESTJ-A\",\"ESFJ-A\",\"INFP-T\",\"ESFJ-T\",\"ENFP-T\",\"ENFP-A\",\"ESTJ-T\",\"ISFJ-T\",\"ENFJ-A\",\"ESTP-A\",\"ISTJ-A\",\"INTP-T\",\"INFJ-T\",\"ISFP-T\",\"ENTJ-A\",\"ESTP-T\",\"ISTJ-T\",\"ESFP-T\",\"ENTP-A\",\"ESFP-A\",\"INTJ-T\",\"ISFJ-A\",\"INTP-A\",\"ENTP-T\",\"ISTP-T\",\"ENTJ-T\",\"ISTP-A\",\"INFP-A\",\"ENFJ-T\",\"INTJ-A\",\"ISFP-A\",\"INFJ-A\",\"ESTJ-A\"],\"type\":\"scatterpolar\"}],\"name\":\"Seychelles\"},{\"data\":[{\"hovertemplate\":\"Country=Singapore<br>value=%{r}<br>variable=%{theta}<extra></extra>\",\"legendgroup\":\"\",\"line\":{\"color\":\"#636efa\",\"dash\":\"solid\"},\"marker\":{\"symbol\":\"circle\"},\"mode\":\"lines\",\"name\":\"\",\"r\":[0.0187999999999999,0.0537,0.1255,0.0407,0.084,0.042,0.0093,0.0756,0.0195,0.0123,0.0166,0.0247,0.0506,0.0742999999999999,0.0073,0.0093,0.0155,0.0481,0.0134,0.0387,0.0111,0.0399,0.0147,0.0144999999999999,0.0137,0.0053,0.0106,0.0301,0.0256999999999999,0.0098,0.0298,0.0148,0.0187999999999999],\"showlegend\":false,\"subplot\":\"polar\",\"theta\":[\"ESTJ-A\",\"ESFJ-A\",\"INFP-T\",\"ESFJ-T\",\"ENFP-T\",\"ENFP-A\",\"ESTJ-T\",\"ISFJ-T\",\"ENFJ-A\",\"ESTP-A\",\"ISTJ-A\",\"INTP-T\",\"INFJ-T\",\"ISFP-T\",\"ENTJ-A\",\"ESTP-T\",\"ISTJ-T\",\"ESFP-T\",\"ENTP-A\",\"ESFP-A\",\"INTJ-T\",\"ISFJ-A\",\"INTP-A\",\"ENTP-T\",\"ISTP-T\",\"ENTJ-T\",\"ISTP-A\",\"INFP-A\",\"ENFJ-T\",\"INTJ-A\",\"ISFP-A\",\"INFJ-A\",\"ESTJ-A\"],\"type\":\"scatterpolar\"}],\"name\":\"Singapore\"},{\"data\":[{\"hovertemplate\":\"Country=Slovakia<br>value=%{r}<br>variable=%{theta}<extra></extra>\",\"legendgroup\":\"\",\"line\":{\"color\":\"#636efa\",\"dash\":\"solid\"},\"marker\":{\"symbol\":\"circle\"},\"mode\":\"lines\",\"name\":\"\",\"r\":[0.0292,0.0351,0.1299,0.0212,0.0698,0.0426999999999999,0.0118,0.0312,0.0262,0.0186,0.0220999999999999,0.0632,0.0694,0.0263,0.0213,0.0089,0.0169,0.0166,0.0351,0.0202,0.0388,0.0182,0.036,0.0285,0.0125,0.0131,0.0126,0.0333,0.0305,0.0296,0.0138,0.0173,0.0292],\"showlegend\":false,\"subplot\":\"polar\",\"theta\":[\"ESTJ-A\",\"ESFJ-A\",\"INFP-T\",\"ESFJ-T\",\"ENFP-T\",\"ENFP-A\",\"ESTJ-T\",\"ISFJ-T\",\"ENFJ-A\",\"ESTP-A\",\"ISTJ-A\",\"INTP-T\",\"INFJ-T\",\"ISFP-T\",\"ENTJ-A\",\"ESTP-T\",\"ISTJ-T\",\"ESFP-T\",\"ENTP-A\",\"ESFP-A\",\"INTJ-T\",\"ISFJ-A\",\"INTP-A\",\"ENTP-T\",\"ISTP-T\",\"ENTJ-T\",\"ISTP-A\",\"INFP-A\",\"ENFJ-T\",\"INTJ-A\",\"ISFP-A\",\"INFJ-A\",\"ESTJ-A\"],\"type\":\"scatterpolar\"}],\"name\":\"Slovakia\"},{\"data\":[{\"hovertemplate\":\"Country=Slovenia<br>value=%{r}<br>variable=%{theta}<extra></extra>\",\"legendgroup\":\"\",\"line\":{\"color\":\"#636efa\",\"dash\":\"solid\"},\"marker\":{\"symbol\":\"circle\"},\"mode\":\"lines\",\"name\":\"\",\"r\":[0.0314,0.0365,0.1323,0.0256999999999999,0.0789,0.0515,0.0121,0.0324,0.0283,0.019,0.0178,0.0541,0.0689,0.0258,0.0218,0.0074,0.0166,0.0191,0.0366,0.0219,0.0308999999999999,0.0163999999999999,0.0296,0.0294,0.0118999999999999,0.0144999999999999,0.0116999999999999,0.0291,0.0354,0.0220999999999999,0.0136,0.0173,0.0314],\"showlegend\":false,\"subplot\":\"polar\",\"theta\":[\"ESTJ-A\",\"ESFJ-A\",\"INFP-T\",\"ESFJ-T\",\"ENFP-T\",\"ENFP-A\",\"ESTJ-T\",\"ISFJ-T\",\"ENFJ-A\",\"ESTP-A\",\"ISTJ-A\",\"INTP-T\",\"INFJ-T\",\"ISFP-T\",\"ENTJ-A\",\"ESTP-T\",\"ISTJ-T\",\"ESFP-T\",\"ENTP-A\",\"ESFP-A\",\"INTJ-T\",\"ISFJ-A\",\"INTP-A\",\"ENTP-T\",\"ISTP-T\",\"ENTJ-T\",\"ISTP-A\",\"INFP-A\",\"ENFJ-T\",\"INTJ-A\",\"ISFP-A\",\"INFJ-A\",\"ESTJ-A\"],\"type\":\"scatterpolar\"}],\"name\":\"Slovenia\"},{\"data\":[{\"hovertemplate\":\"Country=Somalia<br>value=%{r}<br>variable=%{theta}<extra></extra>\",\"legendgroup\":\"\",\"line\":{\"color\":\"#636efa\",\"dash\":\"solid\"},\"marker\":{\"symbol\":\"circle\"},\"mode\":\"lines\",\"name\":\"\",\"r\":[0.0425,0.0843,0.0562,0.0503,0.0444,0.0353,0.0306999999999999,0.0359,0.0301,0.0163,0.0216,0.0294,0.0425,0.0431,0.0235,0.0137,0.0392,0.0405,0.0144,0.0288,0.019,0.0444,0.0260999999999999,0.0222,0.0229,0.015,0.0216,0.0229,0.0222,0.0216,0.0222,0.017,0.0425],\"showlegend\":false,\"subplot\":\"polar\",\"theta\":[\"ESTJ-A\",\"ESFJ-A\",\"INFP-T\",\"ESFJ-T\",\"ENFP-T\",\"ENFP-A\",\"ESTJ-T\",\"ISFJ-T\",\"ENFJ-A\",\"ESTP-A\",\"ISTJ-A\",\"INTP-T\",\"INFJ-T\",\"ISFP-T\",\"ENTJ-A\",\"ESTP-T\",\"ISTJ-T\",\"ESFP-T\",\"ENTP-A\",\"ESFP-A\",\"INTJ-T\",\"ISFJ-A\",\"INTP-A\",\"ENTP-T\",\"ISTP-T\",\"ENTJ-T\",\"ISTP-A\",\"INFP-A\",\"ENFJ-T\",\"INTJ-A\",\"ISFP-A\",\"INFJ-A\",\"ESTJ-A\"],\"type\":\"scatterpolar\"}],\"name\":\"Somalia\"},{\"data\":[{\"hovertemplate\":\"Country=South Africa<br>value=%{r}<br>variable=%{theta}<extra></extra>\",\"legendgroup\":\"\",\"line\":{\"color\":\"#636efa\",\"dash\":\"solid\"},\"marker\":{\"symbol\":\"circle\"},\"mode\":\"lines\",\"name\":\"\",\"r\":[0.0379,0.0683,0.0931,0.0336,0.0779,0.0515,0.0131,0.0484999999999999,0.0464,0.0143,0.0212,0.0321,0.0561,0.0289,0.0227999999999999,0.0089,0.0169,0.0225,0.0275,0.0239,0.0195,0.0346,0.0209,0.0243,0.0098999999999999,0.0135,0.0086,0.0281,0.0407,0.0177,0.0148,0.0220999999999999,0.0379],\"showlegend\":false,\"subplot\":\"polar\",\"theta\":[\"ESTJ-A\",\"ESFJ-A\",\"INFP-T\",\"ESFJ-T\",\"ENFP-T\",\"ENFP-A\",\"ESTJ-T\",\"ISFJ-T\",\"ENFJ-A\",\"ESTP-A\",\"ISTJ-A\",\"INTP-T\",\"INFJ-T\",\"ISFP-T\",\"ENTJ-A\",\"ESTP-T\",\"ISTJ-T\",\"ESFP-T\",\"ENTP-A\",\"ESFP-A\",\"INTJ-T\",\"ISFJ-A\",\"INTP-A\",\"ENTP-T\",\"ISTP-T\",\"ENTJ-T\",\"ISTP-A\",\"INFP-A\",\"ENFJ-T\",\"INTJ-A\",\"ISFP-A\",\"INFJ-A\",\"ESTJ-A\"],\"type\":\"scatterpolar\"}],\"name\":\"South Africa\"},{\"data\":[{\"hovertemplate\":\"Country=Spain<br>value=%{r}<br>variable=%{theta}<extra></extra>\",\"legendgroup\":\"\",\"line\":{\"color\":\"#636efa\",\"dash\":\"solid\"},\"marker\":{\"symbol\":\"circle\"},\"mode\":\"lines\",\"name\":\"\",\"r\":[0.0214,0.0416,0.1322,0.0258,0.0958,0.0689,0.0087,0.0314,0.0405,0.0133,0.015,0.0461,0.0621,0.0252,0.0187,0.0065,0.0118999999999999,0.0197,0.0334,0.0231,0.0227,0.0189,0.0305,0.0269,0.0088,0.0115,0.0098,0.0351,0.0409999999999999,0.0194,0.0138,0.0204,0.0214],\"showlegend\":false,\"subplot\":\"polar\",\"theta\":[\"ESTJ-A\",\"ESFJ-A\",\"INFP-T\",\"ESFJ-T\",\"ENFP-T\",\"ENFP-A\",\"ESTJ-T\",\"ISFJ-T\",\"ENFJ-A\",\"ESTP-A\",\"ISTJ-A\",\"INTP-T\",\"INFJ-T\",\"ISFP-T\",\"ENTJ-A\",\"ESTP-T\",\"ISTJ-T\",\"ESFP-T\",\"ENTP-A\",\"ESFP-A\",\"INTJ-T\",\"ISFJ-A\",\"INTP-A\",\"ENTP-T\",\"ISTP-T\",\"ENTJ-T\",\"ISTP-A\",\"INFP-A\",\"ENFJ-T\",\"INTJ-A\",\"ISFP-A\",\"INFJ-A\",\"ESTJ-A\"],\"type\":\"scatterpolar\"}],\"name\":\"Spain\"},{\"data\":[{\"hovertemplate\":\"Country=Sri Lanka<br>value=%{r}<br>variable=%{theta}<extra></extra>\",\"legendgroup\":\"\",\"line\":{\"color\":\"#636efa\",\"dash\":\"solid\"},\"marker\":{\"symbol\":\"circle\"},\"mode\":\"lines\",\"name\":\"\",\"r\":[0.0335,0.0582,0.1072,0.045,0.0969,0.0465,0.0197,0.033,0.0352,0.0147,0.0124,0.0346,0.0545,0.0322,0.018,0.013,0.013,0.0333,0.0222,0.0275,0.0204,0.0187999999999999,0.0206,0.0260999999999999,0.011,0.0167,0.0089,0.0266,0.0536,0.0144,0.0153,0.017,0.0335],\"showlegend\":false,\"subplot\":\"polar\",\"theta\":[\"ESTJ-A\",\"ESFJ-A\",\"INFP-T\",\"ESFJ-T\",\"ENFP-T\",\"ENFP-A\",\"ESTJ-T\",\"ISFJ-T\",\"ENFJ-A\",\"ESTP-A\",\"ISTJ-A\",\"INTP-T\",\"INFJ-T\",\"ISFP-T\",\"ENTJ-A\",\"ESTP-T\",\"ISTJ-T\",\"ESFP-T\",\"ENTP-A\",\"ESFP-A\",\"INTJ-T\",\"ISFJ-A\",\"INTP-A\",\"ENTP-T\",\"ISTP-T\",\"ENTJ-T\",\"ISTP-A\",\"INFP-A\",\"ENFJ-T\",\"INTJ-A\",\"ISFP-A\",\"INFJ-A\",\"ESTJ-A\"],\"type\":\"scatterpolar\"}],\"name\":\"Sri Lanka\"},{\"data\":[{\"hovertemplate\":\"Country=Sudan<br>value=%{r}<br>variable=%{theta}<extra></extra>\",\"legendgroup\":\"\",\"line\":{\"color\":\"#636efa\",\"dash\":\"solid\"},\"marker\":{\"symbol\":\"circle\"},\"mode\":\"lines\",\"name\":\"\",\"r\":[0.0391,0.039,0.0868999999999999,0.0301,0.0717,0.0389,0.0189,0.0299,0.0341,0.0178,0.0229,0.0507,0.0521,0.0344,0.0325,0.0154,0.017,0.0302,0.0279999999999999,0.022,0.0297,0.0183,0.0302999999999999,0.0321,0.0182,0.0202,0.0138,0.0233999999999999,0.0378,0.0318,0.0141999999999999,0.0186,0.0391],\"showlegend\":false,\"subplot\":\"polar\",\"theta\":[\"ESTJ-A\",\"ESFJ-A\",\"INFP-T\",\"ESFJ-T\",\"ENFP-T\",\"ENFP-A\",\"ESTJ-T\",\"ISFJ-T\",\"ENFJ-A\",\"ESTP-A\",\"ISTJ-A\",\"INTP-T\",\"INFJ-T\",\"ISFP-T\",\"ENTJ-A\",\"ESTP-T\",\"ISTJ-T\",\"ESFP-T\",\"ENTP-A\",\"ESFP-A\",\"INTJ-T\",\"ISFJ-A\",\"INTP-A\",\"ENTP-T\",\"ISTP-T\",\"ENTJ-T\",\"ISTP-A\",\"INFP-A\",\"ENFJ-T\",\"INTJ-A\",\"ISFP-A\",\"INFJ-A\",\"ESTJ-A\"],\"type\":\"scatterpolar\"}],\"name\":\"Sudan\"},{\"data\":[{\"hovertemplate\":\"Country=Suriname<br>value=%{r}<br>variable=%{theta}<extra></extra>\",\"legendgroup\":\"\",\"line\":{\"color\":\"#636efa\",\"dash\":\"solid\"},\"marker\":{\"symbol\":\"circle\"},\"mode\":\"lines\",\"name\":\"\",\"r\":[0.0302,0.0617999999999999,0.1288,0.0263,0.0647,0.0550999999999999,0.0115,0.0354,0.0426,0.0163,0.0216,0.0465,0.0579999999999999,0.0378,0.0182,0.0072,0.0115,0.0192,0.0259,0.023,0.0148,0.0273,0.0192,0.0168,0.0105,0.0125,0.0105,0.0508,0.033,0.0158,0.0196,0.0278,0.0302],\"showlegend\":false,\"subplot\":\"polar\",\"theta\":[\"ESTJ-A\",\"ESFJ-A\",\"INFP-T\",\"ESFJ-T\",\"ENFP-T\",\"ENFP-A\",\"ESTJ-T\",\"ISFJ-T\",\"ENFJ-A\",\"ESTP-A\",\"ISTJ-A\",\"INTP-T\",\"INFJ-T\",\"ISFP-T\",\"ENTJ-A\",\"ESTP-T\",\"ISTJ-T\",\"ESFP-T\",\"ENTP-A\",\"ESFP-A\",\"INTJ-T\",\"ISFJ-A\",\"INTP-A\",\"ENTP-T\",\"ISTP-T\",\"ENTJ-T\",\"ISTP-A\",\"INFP-A\",\"ENFJ-T\",\"INTJ-A\",\"ISFP-A\",\"INFJ-A\",\"ESTJ-A\"],\"type\":\"scatterpolar\"}],\"name\":\"Suriname\"},{\"data\":[{\"hovertemplate\":\"Country=Sweden<br>value=%{r}<br>variable=%{theta}<extra></extra>\",\"legendgroup\":\"\",\"line\":{\"color\":\"#636efa\",\"dash\":\"solid\"},\"marker\":{\"symbol\":\"circle\"},\"mode\":\"lines\",\"name\":\"\",\"r\":[0.0319,0.0465,0.1146,0.0292,0.081,0.0573,0.01,0.0371,0.0302,0.0204999999999999,0.0218,0.0409999999999999,0.0564,0.0319,0.02,0.0079,0.015,0.0225,0.0345,0.0295,0.0224,0.0222,0.0308999999999999,0.0239,0.0124,0.0105,0.0154,0.0313,0.0342,0.0223,0.0182,0.0175,0.0319],\"showlegend\":false,\"subplot\":\"polar\",\"theta\":[\"ESTJ-A\",\"ESFJ-A\",\"INFP-T\",\"ESFJ-T\",\"ENFP-T\",\"ENFP-A\",\"ESTJ-T\",\"ISFJ-T\",\"ENFJ-A\",\"ESTP-A\",\"ISTJ-A\",\"INTP-T\",\"INFJ-T\",\"ISFP-T\",\"ENTJ-A\",\"ESTP-T\",\"ISTJ-T\",\"ESFP-T\",\"ENTP-A\",\"ESFP-A\",\"INTJ-T\",\"ISFJ-A\",\"INTP-A\",\"ENTP-T\",\"ISTP-T\",\"ENTJ-T\",\"ISTP-A\",\"INFP-A\",\"ENFJ-T\",\"INTJ-A\",\"ISFP-A\",\"INFJ-A\",\"ESTJ-A\"],\"type\":\"scatterpolar\"}],\"name\":\"Sweden\"},{\"data\":[{\"hovertemplate\":\"Country=Switzerland<br>value=%{r}<br>variable=%{theta}<extra></extra>\",\"legendgroup\":\"\",\"line\":{\"color\":\"#636efa\",\"dash\":\"solid\"},\"marker\":{\"symbol\":\"circle\"},\"mode\":\"lines\",\"name\":\"\",\"r\":[0.0384,0.0501,0.1112,0.0299,0.0837,0.0649,0.0116999999999999,0.0347,0.0372,0.0189,0.0197,0.0374,0.0547,0.0243999999999999,0.0246,0.0072,0.0135,0.0207,0.036,0.0273,0.0215,0.0220999999999999,0.0281,0.0256,0.0088,0.0124,0.011,0.033,0.0383,0.0199,0.0144,0.0185,0.0384],\"showlegend\":false,\"subplot\":\"polar\",\"theta\":[\"ESTJ-A\",\"ESFJ-A\",\"INFP-T\",\"ESFJ-T\",\"ENFP-T\",\"ENFP-A\",\"ESTJ-T\",\"ISFJ-T\",\"ENFJ-A\",\"ESTP-A\",\"ISTJ-A\",\"INTP-T\",\"INFJ-T\",\"ISFP-T\",\"ENTJ-A\",\"ESTP-T\",\"ISTJ-T\",\"ESFP-T\",\"ENTP-A\",\"ESFP-A\",\"INTJ-T\",\"ISFJ-A\",\"INTP-A\",\"ENTP-T\",\"ISTP-T\",\"ENTJ-T\",\"ISTP-A\",\"INFP-A\",\"ENFJ-T\",\"INTJ-A\",\"ISFP-A\",\"INFJ-A\",\"ESTJ-A\"],\"type\":\"scatterpolar\"}],\"name\":\"Switzerland\"},{\"data\":[{\"hovertemplate\":\"Country=Syria<br>value=%{r}<br>variable=%{theta}<extra></extra>\",\"legendgroup\":\"\",\"line\":{\"color\":\"#636efa\",\"dash\":\"solid\"},\"marker\":{\"symbol\":\"circle\"},\"mode\":\"lines\",\"name\":\"\",\"r\":[0.0392,0.0256999999999999,0.0841,0.0289,0.0661,0.0344,0.0217,0.0243,0.0279999999999999,0.0169,0.0177,0.0576,0.0479,0.0195,0.0352,0.0185,0.0187999999999999,0.024,0.0428,0.0141999999999999,0.0482,0.0129,0.0404,0.0481,0.0161,0.0339,0.0148,0.0200999999999999,0.0429,0.0341,0.0084,0.0148,0.0392],\"showlegend\":false,\"subplot\":\"polar\",\"theta\":[\"ESTJ-A\",\"ESFJ-A\",\"INFP-T\",\"ESFJ-T\",\"ENFP-T\",\"ENFP-A\",\"ESTJ-T\",\"ISFJ-T\",\"ENFJ-A\",\"ESTP-A\",\"ISTJ-A\",\"INTP-T\",\"INFJ-T\",\"ISFP-T\",\"ENTJ-A\",\"ESTP-T\",\"ISTJ-T\",\"ESFP-T\",\"ENTP-A\",\"ESFP-A\",\"INTJ-T\",\"ISFJ-A\",\"INTP-A\",\"ENTP-T\",\"ISTP-T\",\"ENTJ-T\",\"ISTP-A\",\"INFP-A\",\"ENFJ-T\",\"INTJ-A\",\"ISFP-A\",\"INFJ-A\",\"ESTJ-A\"],\"type\":\"scatterpolar\"}],\"name\":\"Syria\"},{\"data\":[{\"hovertemplate\":\"Country=Tajikistan<br>value=%{r}<br>variable=%{theta}<extra></extra>\",\"legendgroup\":\"\",\"line\":{\"color\":\"#636efa\",\"dash\":\"solid\"},\"marker\":{\"symbol\":\"circle\"},\"mode\":\"lines\",\"name\":\"\",\"r\":[0.0512,0.0886999999999999,0.099,0.0409999999999999,0.0819,0.0579999999999999,0.0239,0.0512,0.0239,0.0102,0.0171,0.0239,0.0273,0.0478,0.0204999999999999,0.0171,0.0204999999999999,0.0306999999999999,0.0478,0.0239,0.0204999999999999,0.0204999999999999,0.0171,0.0102,0.0204999999999999,0.0171,0.0137,0.0171,0.0171,0.0137,0.0204999999999999,0.0068,0.0512],\"showlegend\":false,\"subplot\":\"polar\",\"theta\":[\"ESTJ-A\",\"ESFJ-A\",\"INFP-T\",\"ESFJ-T\",\"ENFP-T\",\"ENFP-A\",\"ESTJ-T\",\"ISFJ-T\",\"ENFJ-A\",\"ESTP-A\",\"ISTJ-A\",\"INTP-T\",\"INFJ-T\",\"ISFP-T\",\"ENTJ-A\",\"ESTP-T\",\"ISTJ-T\",\"ESFP-T\",\"ENTP-A\",\"ESFP-A\",\"INTJ-T\",\"ISFJ-A\",\"INTP-A\",\"ENTP-T\",\"ISTP-T\",\"ENTJ-T\",\"ISTP-A\",\"INFP-A\",\"ENFJ-T\",\"INTJ-A\",\"ISFP-A\",\"INFJ-A\",\"ESTJ-A\"],\"type\":\"scatterpolar\"}],\"name\":\"Tajikistan\"},{\"data\":[{\"hovertemplate\":\"Country=Thailand<br>value=%{r}<br>variable=%{theta}<extra></extra>\",\"legendgroup\":\"\",\"line\":{\"color\":\"#636efa\",\"dash\":\"solid\"},\"marker\":{\"symbol\":\"circle\"},\"mode\":\"lines\",\"name\":\"\",\"r\":[0.0312,0.0673,0.0953999999999999,0.0435,0.0729,0.0484,0.0168,0.0486,0.033,0.0149,0.0216,0.0283,0.0489,0.0412999999999999,0.0144999999999999,0.0118,0.0196,0.0362,0.0183,0.036,0.018,0.0355,0.0172,0.0187,0.0138,0.011,0.0111,0.0308999999999999,0.0358,0.0155,0.0232,0.0207,0.0312],\"showlegend\":false,\"subplot\":\"polar\",\"theta\":[\"ESTJ-A\",\"ESFJ-A\",\"INFP-T\",\"ESFJ-T\",\"ENFP-T\",\"ENFP-A\",\"ESTJ-T\",\"ISFJ-T\",\"ENFJ-A\",\"ESTP-A\",\"ISTJ-A\",\"INTP-T\",\"INFJ-T\",\"ISFP-T\",\"ENTJ-A\",\"ESTP-T\",\"ISTJ-T\",\"ESFP-T\",\"ENTP-A\",\"ESFP-A\",\"INTJ-T\",\"ISFJ-A\",\"INTP-A\",\"ENTP-T\",\"ISTP-T\",\"ENTJ-T\",\"ISTP-A\",\"INFP-A\",\"ENFJ-T\",\"INTJ-A\",\"ISFP-A\",\"INFJ-A\",\"ESTJ-A\"],\"type\":\"scatterpolar\"}],\"name\":\"Thailand\"},{\"data\":[{\"hovertemplate\":\"Country=Trinidad and Tobago<br>value=%{r}<br>variable=%{theta}<extra></extra>\",\"legendgroup\":\"\",\"line\":{\"color\":\"#636efa\",\"dash\":\"solid\"},\"marker\":{\"symbol\":\"circle\"},\"mode\":\"lines\",\"name\":\"\",\"r\":[0.0301,0.0603,0.1144,0.0235,0.0638,0.0431,0.0108,0.0407,0.0416,0.0128,0.0243999999999999,0.0409,0.0649,0.0324,0.0196,0.009,0.0169,0.0194,0.0220999999999999,0.0243999999999999,0.025,0.0389,0.0236,0.0233,0.0129,0.0115,0.0111,0.0349,0.0318,0.0233999999999999,0.0212,0.0271,0.0301],\"showlegend\":false,\"subplot\":\"polar\",\"theta\":[\"ESTJ-A\",\"ESFJ-A\",\"INFP-T\",\"ESFJ-T\",\"ENFP-T\",\"ENFP-A\",\"ESTJ-T\",\"ISFJ-T\",\"ENFJ-A\",\"ESTP-A\",\"ISTJ-A\",\"INTP-T\",\"INFJ-T\",\"ISFP-T\",\"ENTJ-A\",\"ESTP-T\",\"ISTJ-T\",\"ESFP-T\",\"ENTP-A\",\"ESFP-A\",\"INTJ-T\",\"ISFJ-A\",\"INTP-A\",\"ENTP-T\",\"ISTP-T\",\"ENTJ-T\",\"ISTP-A\",\"INFP-A\",\"ENFJ-T\",\"INTJ-A\",\"ISFP-A\",\"INFJ-A\",\"ESTJ-A\"],\"type\":\"scatterpolar\"}],\"name\":\"Trinidad and Tobago\"},{\"data\":[{\"hovertemplate\":\"Country=Tunisia<br>value=%{r}<br>variable=%{theta}<extra></extra>\",\"legendgroup\":\"\",\"line\":{\"color\":\"#636efa\",\"dash\":\"solid\"},\"marker\":{\"symbol\":\"circle\"},\"mode\":\"lines\",\"name\":\"\",\"r\":[0.0232,0.0255,0.1261999999999999,0.0177,0.0731,0.0521999999999999,0.0105,0.0181,0.0375999999999999,0.0151,0.0112,0.0783,0.0512,0.0237999999999999,0.0283,0.0095,0.0115,0.0155,0.051,0.0157,0.0348,0.0106,0.0467999999999999,0.0449,0.012,0.0162,0.0107,0.0361,0.0333,0.0302999999999999,0.0102,0.0186,0.0232],\"showlegend\":false,\"subplot\":\"polar\",\"theta\":[\"ESTJ-A\",\"ESFJ-A\",\"INFP-T\",\"ESFJ-T\",\"ENFP-T\",\"ENFP-A\",\"ESTJ-T\",\"ISFJ-T\",\"ENFJ-A\",\"ESTP-A\",\"ISTJ-A\",\"INTP-T\",\"INFJ-T\",\"ISFP-T\",\"ENTJ-A\",\"ESTP-T\",\"ISTJ-T\",\"ESFP-T\",\"ENTP-A\",\"ESFP-A\",\"INTJ-T\",\"ISFJ-A\",\"INTP-A\",\"ENTP-T\",\"ISTP-T\",\"ENTJ-T\",\"ISTP-A\",\"INFP-A\",\"ENFJ-T\",\"INTJ-A\",\"ISFP-A\",\"INFJ-A\",\"ESTJ-A\"],\"type\":\"scatterpolar\"}],\"name\":\"Tunisia\"},{\"data\":[{\"hovertemplate\":\"Country=Turkey<br>value=%{r}<br>variable=%{theta}<extra></extra>\",\"legendgroup\":\"\",\"line\":{\"color\":\"#636efa\",\"dash\":\"solid\"},\"marker\":{\"symbol\":\"circle\"},\"mode\":\"lines\",\"name\":\"\",\"r\":[0.0388,0.0345,0.1046,0.0283,0.0787,0.0409999999999999,0.0200999999999999,0.0255,0.027,0.0218,0.0174,0.0647,0.0487999999999999,0.0250999999999999,0.0293,0.0148,0.018,0.0236,0.0428,0.0187999999999999,0.0327,0.013,0.0338,0.0429,0.0137,0.0226,0.0116,0.0207,0.0392,0.0231,0.0109,0.0121999999999999,0.0388],\"showlegend\":false,\"subplot\":\"polar\",\"theta\":[\"ESTJ-A\",\"ESFJ-A\",\"INFP-T\",\"ESFJ-T\",\"ENFP-T\",\"ENFP-A\",\"ESTJ-T\",\"ISFJ-T\",\"ENFJ-A\",\"ESTP-A\",\"ISTJ-A\",\"INTP-T\",\"INFJ-T\",\"ISFP-T\",\"ENTJ-A\",\"ESTP-T\",\"ISTJ-T\",\"ESFP-T\",\"ENTP-A\",\"ESFP-A\",\"INTJ-T\",\"ISFJ-A\",\"INTP-A\",\"ENTP-T\",\"ISTP-T\",\"ENTJ-T\",\"ISTP-A\",\"INFP-A\",\"ENFJ-T\",\"INTJ-A\",\"ISFP-A\",\"INFJ-A\",\"ESTJ-A\"],\"type\":\"scatterpolar\"}],\"name\":\"Turkey\"},{\"data\":[{\"hovertemplate\":\"Country=Uganda<br>value=%{r}<br>variable=%{theta}<extra></extra>\",\"legendgroup\":\"\",\"line\":{\"color\":\"#636efa\",\"dash\":\"solid\"},\"marker\":{\"symbol\":\"circle\"},\"mode\":\"lines\",\"name\":\"\",\"r\":[0.0455,0.0963,0.0647,0.0438999999999999,0.0595,0.0467999999999999,0.0196,0.0463,0.0416,0.0173,0.0241,0.0227999999999999,0.0428,0.0329,0.0204,0.0125,0.0179,0.0302999999999999,0.0220999999999999,0.0344,0.0171,0.0395999999999999,0.0184,0.0218,0.0121,0.0139,0.0093,0.0298,0.031,0.0189,0.0217,0.0247,0.0455],\"showlegend\":false,\"subplot\":\"polar\",\"theta\":[\"ESTJ-A\",\"ESFJ-A\",\"INFP-T\",\"ESFJ-T\",\"ENFP-T\",\"ENFP-A\",\"ESTJ-T\",\"ISFJ-T\",\"ENFJ-A\",\"ESTP-A\",\"ISTJ-A\",\"INTP-T\",\"INFJ-T\",\"ISFP-T\",\"ENTJ-A\",\"ESTP-T\",\"ISTJ-T\",\"ESFP-T\",\"ENTP-A\",\"ESFP-A\",\"INTJ-T\",\"ISFJ-A\",\"INTP-A\",\"ENTP-T\",\"ISTP-T\",\"ENTJ-T\",\"ISTP-A\",\"INFP-A\",\"ENFJ-T\",\"INTJ-A\",\"ISFP-A\",\"INFJ-A\",\"ESTJ-A\"],\"type\":\"scatterpolar\"}],\"name\":\"Uganda\"},{\"data\":[{\"hovertemplate\":\"Country=Ukraine<br>value=%{r}<br>variable=%{theta}<extra></extra>\",\"legendgroup\":\"\",\"line\":{\"color\":\"#636efa\",\"dash\":\"solid\"},\"marker\":{\"symbol\":\"circle\"},\"mode\":\"lines\",\"name\":\"\",\"r\":[0.0593,0.0475,0.0808,0.0243,0.0636,0.0341,0.0210999999999999,0.0304,0.031,0.0219,0.0311,0.0608,0.042,0.0219,0.0349,0.0134,0.0242,0.0165,0.039,0.0161,0.0334,0.0216,0.0356,0.0343,0.0171,0.0209,0.0210999999999999,0.0189,0.0282,0.0293,0.0113999999999999,0.0141,0.0593],\"showlegend\":false,\"subplot\":\"polar\",\"theta\":[\"ESTJ-A\",\"ESFJ-A\",\"INFP-T\",\"ESFJ-T\",\"ENFP-T\",\"ENFP-A\",\"ESTJ-T\",\"ISFJ-T\",\"ENFJ-A\",\"ESTP-A\",\"ISTJ-A\",\"INTP-T\",\"INFJ-T\",\"ISFP-T\",\"ENTJ-A\",\"ESTP-T\",\"ISTJ-T\",\"ESFP-T\",\"ENTP-A\",\"ESFP-A\",\"INTJ-T\",\"ISFJ-A\",\"INTP-A\",\"ENTP-T\",\"ISTP-T\",\"ENTJ-T\",\"ISTP-A\",\"INFP-A\",\"ENFJ-T\",\"INTJ-A\",\"ISFP-A\",\"INFJ-A\",\"ESTJ-A\"],\"type\":\"scatterpolar\"}],\"name\":\"Ukraine\"},{\"data\":[{\"hovertemplate\":\"Country=United Arab Emirates<br>value=%{r}<br>variable=%{theta}<extra></extra>\",\"legendgroup\":\"\",\"line\":{\"color\":\"#636efa\",\"dash\":\"solid\"},\"marker\":{\"symbol\":\"circle\"},\"mode\":\"lines\",\"name\":\"\",\"r\":[0.0405,0.0684,0.0973,0.0415,0.0868,0.0487,0.0178,0.0375999999999999,0.0391,0.0172,0.0153,0.0306,0.0498,0.0355,0.0224,0.012,0.015,0.0325,0.0269,0.0281,0.0175,0.0241,0.0177,0.0260999999999999,0.0116,0.0155,0.0095,0.0241,0.0441999999999999,0.0144,0.0153,0.0173,0.0405],\"showlegend\":false,\"subplot\":\"polar\",\"theta\":[\"ESTJ-A\",\"ESFJ-A\",\"INFP-T\",\"ESFJ-T\",\"ENFP-T\",\"ENFP-A\",\"ESTJ-T\",\"ISFJ-T\",\"ENFJ-A\",\"ESTP-A\",\"ISTJ-A\",\"INTP-T\",\"INFJ-T\",\"ISFP-T\",\"ENTJ-A\",\"ESTP-T\",\"ISTJ-T\",\"ESFP-T\",\"ENTP-A\",\"ESFP-A\",\"INTJ-T\",\"ISFJ-A\",\"INTP-A\",\"ENTP-T\",\"ISTP-T\",\"ENTJ-T\",\"ISTP-A\",\"INFP-A\",\"ENFJ-T\",\"INTJ-A\",\"ISFP-A\",\"INFJ-A\",\"ESTJ-A\"],\"type\":\"scatterpolar\"}],\"name\":\"United Arab Emirates\"},{\"data\":[{\"hovertemplate\":\"Country=United Kingdom<br>value=%{r}<br>variable=%{theta}<extra></extra>\",\"legendgroup\":\"\",\"line\":{\"color\":\"#636efa\",\"dash\":\"solid\"},\"marker\":{\"symbol\":\"circle\"},\"mode\":\"lines\",\"name\":\"\",\"r\":[0.026,0.0492,0.1357,0.0388,0.0943,0.0494,0.01,0.0529,0.0306999999999999,0.0148,0.016,0.039,0.0653,0.038,0.0152,0.0076,0.0143,0.0263,0.0253,0.0241,0.019,0.0233,0.0200999999999999,0.0232,0.0111,0.0106,0.0101,0.0243999999999999,0.0432,0.0133,0.0143,0.0144999999999999,0.026],\"showlegend\":false,\"subplot\":\"polar\",\"theta\":[\"ESTJ-A\",\"ESFJ-A\",\"INFP-T\",\"ESFJ-T\",\"ENFP-T\",\"ENFP-A\",\"ESTJ-T\",\"ISFJ-T\",\"ENFJ-A\",\"ESTP-A\",\"ISTJ-A\",\"INTP-T\",\"INFJ-T\",\"ISFP-T\",\"ENTJ-A\",\"ESTP-T\",\"ISTJ-T\",\"ESFP-T\",\"ENTP-A\",\"ESFP-A\",\"INTJ-T\",\"ISFJ-A\",\"INTP-A\",\"ENTP-T\",\"ISTP-T\",\"ENTJ-T\",\"ISTP-A\",\"INFP-A\",\"ENFJ-T\",\"INTJ-A\",\"ISFP-A\",\"INFJ-A\",\"ESTJ-A\"],\"type\":\"scatterpolar\"}],\"name\":\"United Kingdom\"},{\"data\":[{\"hovertemplate\":\"Country=Tanzania<br>value=%{r}<br>variable=%{theta}<extra></extra>\",\"legendgroup\":\"\",\"line\":{\"color\":\"#636efa\",\"dash\":\"solid\"},\"marker\":{\"symbol\":\"circle\"},\"mode\":\"lines\",\"name\":\"\",\"r\":[0.0441,0.0666,0.081,0.0399,0.0753,0.0429,0.0225,0.038,0.0412,0.0153,0.0218,0.0281,0.048,0.0323,0.0297,0.0148,0.0197,0.0306999999999999,0.0256,0.0262,0.0166,0.0239,0.0220999999999999,0.0265,0.0137,0.017,0.0118,0.0289,0.0403,0.0191,0.0163999999999999,0.0200999999999999,0.0441],\"showlegend\":false,\"subplot\":\"polar\",\"theta\":[\"ESTJ-A\",\"ESFJ-A\",\"INFP-T\",\"ESFJ-T\",\"ENFP-T\",\"ENFP-A\",\"ESTJ-T\",\"ISFJ-T\",\"ENFJ-A\",\"ESTP-A\",\"ISTJ-A\",\"INTP-T\",\"INFJ-T\",\"ISFP-T\",\"ENTJ-A\",\"ESTP-T\",\"ISTJ-T\",\"ESFP-T\",\"ENTP-A\",\"ESFP-A\",\"INTJ-T\",\"ISFJ-A\",\"INTP-A\",\"ENTP-T\",\"ISTP-T\",\"ENTJ-T\",\"ISTP-A\",\"INFP-A\",\"ENFJ-T\",\"INTJ-A\",\"ISFP-A\",\"INFJ-A\",\"ESTJ-A\"],\"type\":\"scatterpolar\"}],\"name\":\"Tanzania\"},{\"data\":[{\"hovertemplate\":\"Country=United States<br>value=%{r}<br>variable=%{theta}<extra></extra>\",\"legendgroup\":\"\",\"line\":{\"color\":\"#636efa\",\"dash\":\"solid\"},\"marker\":{\"symbol\":\"circle\"},\"mode\":\"lines\",\"name\":\"\",\"r\":[0.027,0.0504,0.1208,0.0327,0.0831,0.0516,0.011,0.0471,0.0339,0.0149,0.0199,0.036,0.0567,0.0343,0.0155,0.0083,0.0157,0.0232,0.0242,0.0247,0.0175,0.0287,0.0213,0.0227,0.0112,0.0102,0.0113,0.0299,0.0371,0.0151,0.0172,0.0187999999999999,0.027],\"showlegend\":false,\"subplot\":\"polar\",\"theta\":[\"ESTJ-A\",\"ESFJ-A\",\"INFP-T\",\"ESFJ-T\",\"ENFP-T\",\"ENFP-A\",\"ESTJ-T\",\"ISFJ-T\",\"ENFJ-A\",\"ESTP-A\",\"ISTJ-A\",\"INTP-T\",\"INFJ-T\",\"ISFP-T\",\"ENTJ-A\",\"ESTP-T\",\"ISTJ-T\",\"ESFP-T\",\"ENTP-A\",\"ESFP-A\",\"INTJ-T\",\"ISFJ-A\",\"INTP-A\",\"ENTP-T\",\"ISTP-T\",\"ENTJ-T\",\"ISTP-A\",\"INFP-A\",\"ENFJ-T\",\"INTJ-A\",\"ISFP-A\",\"INFJ-A\",\"ESTJ-A\"],\"type\":\"scatterpolar\"}],\"name\":\"United States\"},{\"data\":[{\"hovertemplate\":\"Country=Uruguay<br>value=%{r}<br>variable=%{theta}<extra></extra>\",\"legendgroup\":\"\",\"line\":{\"color\":\"#636efa\",\"dash\":\"solid\"},\"marker\":{\"symbol\":\"circle\"},\"mode\":\"lines\",\"name\":\"\",\"r\":[0.0203,0.0282,0.1537,0.0204,0.0824,0.0533,0.0098,0.0293,0.0298,0.0125,0.0197,0.064,0.0681,0.0275,0.0168,0.0072,0.0165,0.0172,0.0287,0.0165,0.0337,0.0183,0.0353,0.0242,0.0135,0.0116,0.0127,0.0358,0.0361,0.023,0.0116999999999999,0.022,0.0203],\"showlegend\":false,\"subplot\":\"polar\",\"theta\":[\"ESTJ-A\",\"ESFJ-A\",\"INFP-T\",\"ESFJ-T\",\"ENFP-T\",\"ENFP-A\",\"ESTJ-T\",\"ISFJ-T\",\"ENFJ-A\",\"ESTP-A\",\"ISTJ-A\",\"INTP-T\",\"INFJ-T\",\"ISFP-T\",\"ENTJ-A\",\"ESTP-T\",\"ISTJ-T\",\"ESFP-T\",\"ENTP-A\",\"ESFP-A\",\"INTJ-T\",\"ISFJ-A\",\"INTP-A\",\"ENTP-T\",\"ISTP-T\",\"ENTJ-T\",\"ISTP-A\",\"INFP-A\",\"ENFJ-T\",\"INTJ-A\",\"ISFP-A\",\"INFJ-A\",\"ESTJ-A\"],\"type\":\"scatterpolar\"}],\"name\":\"Uruguay\"},{\"data\":[{\"hovertemplate\":\"Country=Uzbekistan<br>value=%{r}<br>variable=%{theta}<extra></extra>\",\"legendgroup\":\"\",\"line\":{\"color\":\"#636efa\",\"dash\":\"solid\"},\"marker\":{\"symbol\":\"circle\"},\"mode\":\"lines\",\"name\":\"\",\"r\":[0.0771999999999999,0.049,0.0608999999999999,0.0363,0.0663,0.0354,0.0282,0.0463,0.0308999999999999,0.0209,0.03,0.0391,0.0336,0.0163,0.0445,0.0154,0.03,0.0209,0.0363,0.02,0.0245,0.0254,0.0236,0.0426999999999999,0.0163,0.0236,0.0127,0.0109,0.0345,0.02,0.0127,0.0154,0.0771999999999999],\"showlegend\":false,\"subplot\":\"polar\",\"theta\":[\"ESTJ-A\",\"ESFJ-A\",\"INFP-T\",\"ESFJ-T\",\"ENFP-T\",\"ENFP-A\",\"ESTJ-T\",\"ISFJ-T\",\"ENFJ-A\",\"ESTP-A\",\"ISTJ-A\",\"INTP-T\",\"INFJ-T\",\"ISFP-T\",\"ENTJ-A\",\"ESTP-T\",\"ISTJ-T\",\"ESFP-T\",\"ENTP-A\",\"ESFP-A\",\"INTJ-T\",\"ISFJ-A\",\"INTP-A\",\"ENTP-T\",\"ISTP-T\",\"ENTJ-T\",\"ISTP-A\",\"INFP-A\",\"ENFJ-T\",\"INTJ-A\",\"ISFP-A\",\"INFJ-A\",\"ESTJ-A\"],\"type\":\"scatterpolar\"}],\"name\":\"Uzbekistan\"},{\"data\":[{\"hovertemplate\":\"Country=Vanuatu<br>value=%{r}<br>variable=%{theta}<extra></extra>\",\"legendgroup\":\"\",\"line\":{\"color\":\"#636efa\",\"dash\":\"solid\"},\"marker\":{\"symbol\":\"circle\"},\"mode\":\"lines\",\"name\":\"\",\"r\":[0.0544,0.0501999999999999,0.1003999999999999,0.0335,0.0711,0.0586,0.0126,0.0209,0.0293,0.0126,0.0250999999999999,0.0167,0.046,0.0544,0.0084,0.0084,0.0126,0.0544,0.0377,0.0501999999999999,0.0126,0.0418,0.0126,0.0126,0.0126,0.0042,0.0084,0.0209,0.0501999999999999,0.0209,0.0209,0.0377,0.0544],\"showlegend\":false,\"subplot\":\"polar\",\"theta\":[\"ESTJ-A\",\"ESFJ-A\",\"INFP-T\",\"ESFJ-T\",\"ENFP-T\",\"ENFP-A\",\"ESTJ-T\",\"ISFJ-T\",\"ENFJ-A\",\"ESTP-A\",\"ISTJ-A\",\"INTP-T\",\"INFJ-T\",\"ISFP-T\",\"ENTJ-A\",\"ESTP-T\",\"ISTJ-T\",\"ESFP-T\",\"ENTP-A\",\"ESFP-A\",\"INTJ-T\",\"ISFJ-A\",\"INTP-A\",\"ENTP-T\",\"ISTP-T\",\"ENTJ-T\",\"ISTP-A\",\"INFP-A\",\"ENFJ-T\",\"INTJ-A\",\"ISFP-A\",\"INFJ-A\",\"ESTJ-A\"],\"type\":\"scatterpolar\"}],\"name\":\"Vanuatu\"},{\"data\":[{\"hovertemplate\":\"Country=Vietnam<br>value=%{r}<br>variable=%{theta}<extra></extra>\",\"legendgroup\":\"\",\"line\":{\"color\":\"#636efa\",\"dash\":\"solid\"},\"marker\":{\"symbol\":\"circle\"},\"mode\":\"lines\",\"name\":\"\",\"r\":[0.0325,0.0617,0.1186999999999999,0.0407,0.0806,0.0387,0.0156,0.0491,0.0315,0.0152,0.0163,0.0371,0.0462,0.0536,0.0167,0.0139,0.0179,0.038,0.0197999999999999,0.0276,0.0177,0.0241,0.0179,0.023,0.0173,0.0115,0.0106,0.026,0.0351,0.012,0.0182,0.0153,0.0325],\"showlegend\":false,\"subplot\":\"polar\",\"theta\":[\"ESTJ-A\",\"ESFJ-A\",\"INFP-T\",\"ESFJ-T\",\"ENFP-T\",\"ENFP-A\",\"ESTJ-T\",\"ISFJ-T\",\"ENFJ-A\",\"ESTP-A\",\"ISTJ-A\",\"INTP-T\",\"INFJ-T\",\"ISFP-T\",\"ENTJ-A\",\"ESTP-T\",\"ISTJ-T\",\"ESFP-T\",\"ENTP-A\",\"ESFP-A\",\"INTJ-T\",\"ISFJ-A\",\"INTP-A\",\"ENTP-T\",\"ISTP-T\",\"ENTJ-T\",\"ISTP-A\",\"INFP-A\",\"ENFJ-T\",\"INTJ-A\",\"ISFP-A\",\"INFJ-A\",\"ESTJ-A\"],\"type\":\"scatterpolar\"}],\"name\":\"Vietnam\"},{\"data\":[{\"hovertemplate\":\"Country=Yemen<br>value=%{r}<br>variable=%{theta}<extra></extra>\",\"legendgroup\":\"\",\"line\":{\"color\":\"#636efa\",\"dash\":\"solid\"},\"marker\":{\"symbol\":\"circle\"},\"mode\":\"lines\",\"name\":\"\",\"r\":[0.0479,0.045,0.0862,0.0192,0.0805,0.0383,0.0115,0.0287,0.0268,0.0172,0.0239,0.0603,0.0489,0.0316,0.0268,0.0153,0.022,0.0326,0.0374,0.0239,0.0354,0.0192,0.0326,0.0316,0.0200999999999999,0.023,0.0153,0.0239,0.0421,0.0192,0.0067,0.0067,0.0479],\"showlegend\":false,\"subplot\":\"polar\",\"theta\":[\"ESTJ-A\",\"ESFJ-A\",\"INFP-T\",\"ESFJ-T\",\"ENFP-T\",\"ENFP-A\",\"ESTJ-T\",\"ISFJ-T\",\"ENFJ-A\",\"ESTP-A\",\"ISTJ-A\",\"INTP-T\",\"INFJ-T\",\"ISFP-T\",\"ENTJ-A\",\"ESTP-T\",\"ISTJ-T\",\"ESFP-T\",\"ENTP-A\",\"ESFP-A\",\"INTJ-T\",\"ISFJ-A\",\"INTP-A\",\"ENTP-T\",\"ISTP-T\",\"ENTJ-T\",\"ISTP-A\",\"INFP-A\",\"ENFJ-T\",\"INTJ-A\",\"ISFP-A\",\"INFJ-A\",\"ESTJ-A\"],\"type\":\"scatterpolar\"}],\"name\":\"Yemen\"},{\"data\":[{\"hovertemplate\":\"Country=Zambia<br>value=%{r}<br>variable=%{theta}<extra></extra>\",\"legendgroup\":\"\",\"line\":{\"color\":\"#636efa\",\"dash\":\"solid\"},\"marker\":{\"symbol\":\"circle\"},\"mode\":\"lines\",\"name\":\"\",\"r\":[0.0475999999999999,0.0896,0.0711,0.0356999999999999,0.0578,0.0405,0.0154,0.0414,0.0436,0.0157,0.0243,0.0332,0.0544,0.0336,0.0289999999999999,0.0107,0.0163,0.0296,0.0227999999999999,0.0263,0.0192,0.0405,0.0200999999999999,0.0217,0.0098999999999999,0.0144999999999999,0.0104,0.0266,0.0289999999999999,0.0233999999999999,0.0206,0.0256,0.0475999999999999],\"showlegend\":false,\"subplot\":\"polar\",\"theta\":[\"ESTJ-A\",\"ESFJ-A\",\"INFP-T\",\"ESFJ-T\",\"ENFP-T\",\"ENFP-A\",\"ESTJ-T\",\"ISFJ-T\",\"ENFJ-A\",\"ESTP-A\",\"ISTJ-A\",\"INTP-T\",\"INFJ-T\",\"ISFP-T\",\"ENTJ-A\",\"ESTP-T\",\"ISTJ-T\",\"ESFP-T\",\"ENTP-A\",\"ESFP-A\",\"INTJ-T\",\"ISFJ-A\",\"INTP-A\",\"ENTP-T\",\"ISTP-T\",\"ENTJ-T\",\"ISTP-A\",\"INFP-A\",\"ENFJ-T\",\"INTJ-A\",\"ISFP-A\",\"INFJ-A\",\"ESTJ-A\"],\"type\":\"scatterpolar\"}],\"name\":\"Zambia\"},{\"data\":[{\"hovertemplate\":\"Country=Zimbabwe<br>value=%{r}<br>variable=%{theta}<extra></extra>\",\"legendgroup\":\"\",\"line\":{\"color\":\"#636efa\",\"dash\":\"solid\"},\"marker\":{\"symbol\":\"circle\"},\"mode\":\"lines\",\"name\":\"\",\"r\":[0.0408,0.0783,0.0864,0.0351,0.0674,0.046,0.0176,0.0423,0.0464,0.0152,0.0197,0.0341,0.0547,0.0294,0.0312,0.012,0.0175,0.0250999999999999,0.0262,0.0254,0.0200999999999999,0.0318,0.0175,0.0264,0.0107,0.0174,0.0097,0.0247,0.0373,0.0182,0.0141999999999999,0.0214,0.0408],\"showlegend\":false,\"subplot\":\"polar\",\"theta\":[\"ESTJ-A\",\"ESFJ-A\",\"INFP-T\",\"ESFJ-T\",\"ENFP-T\",\"ENFP-A\",\"ESTJ-T\",\"ISFJ-T\",\"ENFJ-A\",\"ESTP-A\",\"ISTJ-A\",\"INTP-T\",\"INFJ-T\",\"ISFP-T\",\"ENTJ-A\",\"ESTP-T\",\"ISTJ-T\",\"ESFP-T\",\"ENTP-A\",\"ESFP-A\",\"INTJ-T\",\"ISFJ-A\",\"INTP-A\",\"ENTP-T\",\"ISTP-T\",\"ENTJ-T\",\"ISTP-A\",\"INFP-A\",\"ENFJ-T\",\"INTJ-A\",\"ISFP-A\",\"INFJ-A\",\"ESTJ-A\"],\"type\":\"scatterpolar\"}],\"name\":\"Zimbabwe\"}]);\n",
       "                        }).then(function(){\n",
       "                            \n",
       "var gd = document.getElementById('de3e0034-5fb2-4eb3-836d-52c505ef2c22');\n",
       "var x = new MutationObserver(function (mutations, observer) {{\n",
       "        var display = window.getComputedStyle(gd).display;\n",
       "        if (!display || display === 'none') {{\n",
       "            console.log([gd, 'removed!']);\n",
       "            Plotly.purge(gd);\n",
       "            observer.disconnect();\n",
       "        }}\n",
       "}});\n",
       "\n",
       "// Listen for the removal of the full notebook cells\n",
       "var notebookContainer = gd.closest('#notebook-container');\n",
       "if (notebookContainer) {{\n",
       "    x.observe(notebookContainer, {childList: true});\n",
       "}}\n",
       "\n",
       "// Listen for the clearing of the current output cell\n",
       "var outputEl = gd.closest('.output');\n",
       "if (outputEl) {{\n",
       "    x.observe(outputEl, {childList: true});\n",
       "}}\n",
       "\n",
       "                        })                };                });            </script>        </div>"
      ]
     },
     "metadata": {},
     "output_type": "display_data"
    }
   ],
   "source": [
    "# Show proportion of each MBTI type in each country\n",
    "distribution_df_melt = distribution_df.melt(id_vars=['Country'])\n",
    "\n",
    "fig = px.line_polar(distribution_df_melt, r=\"value\", theta=\"variable\", line_close=True, animation_frame='Country')\n",
    "fig.show()"
   ]
  },
  {
   "cell_type": "markdown",
   "id": "f0123aea",
   "metadata": {},
   "source": [
    "# Post dataset"
   ]
  },
  {
   "cell_type": "markdown",
   "id": "d85c5b8d",
   "metadata": {},
   "source": [
    "# Movie dataset"
   ]
  },
  {
   "cell_type": "code",
   "execution_count": 19,
   "id": "e62ee141",
   "metadata": {},
   "outputs": [
    {
     "name": "stdout",
     "output_type": "stream",
     "text": [
      "<class 'pandas.core.frame.DataFrame'>\n",
      "RangeIndex: 18741 entries, 0 to 18740\n",
      "Data columns (total 6 columns):\n",
      " #   Column     Non-Null Count  Dtype \n",
      "---  ------     --------------  ----- \n",
      " 0   stat       18476 non-null  object\n",
      " 1   mbti       18741 non-null  object\n",
      " 2   enneagram  12066 non-null  object\n",
      " 3   role       18741 non-null  object\n",
      " 4   movie      18741 non-null  object\n",
      " 5   img_url    18741 non-null  object\n",
      "dtypes: object(6)\n",
      "memory usage: 878.6+ KB\n"
     ]
    }
   ],
   "source": [
    "movie_df = pd.read_csv('movie/mbti.csv')\n",
    "movie_df.info()"
   ]
  },
  {
   "cell_type": "code",
   "execution_count": 69,
   "id": "84af8fcd",
   "metadata": {},
   "outputs": [
    {
     "data": {
      "text/plain": [
       "array(['   Marvel Cinematic Universe', '   Star Wars',\n",
       "       '   Harry Potter (franchise)', ..., '   The 6th Day (2000)',\n",
       "       '   The Switch (2010)', '   Dignitate (2020)'], dtype=object)"
      ]
     },
     "execution_count": 69,
     "metadata": {},
     "output_type": "execute_result"
    }
   ],
   "source": [
    "movie_df['movie'].unique()"
   ]
  },
  {
   "cell_type": "code",
   "execution_count": 73,
   "id": "cea9154a",
   "metadata": {},
   "outputs": [
    {
     "data": {
      "application/vnd.plotly.v1+json": {
       "config": {
        "plotlyServerURL": "https://plot.ly"
       },
       "data": [
        {
         "branchvalues": "total",
         "domain": {
          "x": [
           0,
           1
          ],
          "y": [
           0,
           1
          ]
         },
         "hovertemplate": "labels=%{label}<br>value=%{value}<br>parent=%{parent}<br>id=%{id}<extra></extra>",
         "ids": [
          "ENTJ/Adrian Toomes \"Vulture\"",
          "ISTJ/Akihiko (Yakuza Boss)",
          "ENTJ/Aldrich Killian",
          "ENTJ/Alexander Pierce",
          "INTP/Arnim Zola",
          "ISTJ/Att-Lass",
          "ISFP/Ava Starr \"Ghost\"",
          "ESTJ/Ayesha",
          "ISTJ/Ayo",
          "ESTP/Baby Groot",
          "ESTJ/Baron von Strucker",
          "ESFJ/Betty Brant",
          "ENFJ/Betty Ross",
          "ESFJ/Bill Foster",
          "ESTP/Brad Davis",
          "ISTP/Brock Rumlow \"Crossbones\"",
          "ESTJ/Bron-Char",
          "INTP/Bruce Banner \"Hulk\"",
          "ISTP/Bucky Barnes \"Winter Soldier\"",
          "ISFP/Carina",
          "ISFP/Carol Danvers \"Captain Marvel\"",
          "INFP/Cassie Lang",
          "ENFJ/Christine Palmer",
          "ISTP/Clint Barton \"Hawkeye\"",
          "ENTP/Cloak of Levitation",
          "ESTJ/Colonel Chester Phillips",
          "ISTJ/Corvus Glaive",
          "ESTJ/Councilwoman Hawley",
          "ESTP/Cull Obsidian",
          "ESTP/Darcy Lewis",
          "ESTJ/Darren Cross \"Yellowjacket\"",
          "ISTJ/Denarian Saal",
          "ISTP/Dimitri Smerdyakov",
          "ESTP/Drax",
          "ESTJ/Ebony Maw",
          "ENFJ/Ego",
          "ISFP/Eitri",
          "ISTP/Ellen Brandt",
          "ISTJ/Emil Blonsky \"Abomination\"",
          "ISTP/Eric Savin",
          "ESFP/Erik Killmonger",
          "INTP/Erik Selvig",
          "ESTJ/Everett K. Ross",
          "ENTP/Fandral",
          "ESTP/Flash Thompson",
          "ENFJ/Frigga",
          "ISTJ/Gamora",
          "ISTP/Georges Batroc",
          "ISFP/Goose",
          "ISFJ/Groot",
          "INTP/Hank Pym",
          "ISFJ/Happy Hogan",
          "ENTP/Harley Keener",
          "ISFJ/Heimdall",
          "INTP/Heinz Kruger",
          "ENTJ/Hela",
          "INTP/Helen Cho",
          "INTJ/Helmut Zemo",
          "ESTP/Herman Schultz \"Shocker\"",
          "INFJ/Ho Yinsen",
          "ISTJ/Hogun",
          "ISTJ/Hope Van Dyne \"Wasp\"",
          "ESFP/Hulk",
          "ISTP/Ivan Vanko \"Whiplash\"",
          "ESTJ/J. Jonah Jameson",
          "INTP/J.A.R.V.I.S.",
          "ISTJ/James Rhodes \"War Machine\"",
          "INTP/Jane Foster",
          "ESFJ/Janet van Dyne",
          "ISTJ/Jasper Sitwell",
          "ISTP/Jim Morita",
          "ESTJ/Jim Paxton",
          "ISTJ/Jimmy Woo",
          "ENTJ/Johann Schmidt \"Red Skull\"",
          "ISTP/Jonathan Pangborn",
          "ESTP/Julius Dell",
          "INTJ/Kaecilius",
          "ISTJ/Karl Mordo",
          "ISTJ/Korath the Pursuer",
          "ENFP/Korg",
          "ISFP/Kraglin",
          "ESTJ/Kurse",
          "INTP/Kurt",
          "ESTJ/Lady Sif",
          "ISTJ/Laufey",
          "ISFJ/Laura Barton",
          "INTP/Leonard Samson",
          "ESFJ/Liz Allan",
          "INFJ/Loki",
          "ESFP/Luis",
          "ESTJ/M'Baku",
          "ISTP/Mac Gargan \"Scorpion\"",
          "ESFJ/Maggie Lang",
          "ISTJ/Malekith",
          "INFP/Mantis",
          "ISTJ/Maria Hill",
          "ESFJ/Maria Rambeau",
          "ISFJ/Maria Stark",
          "ESFJ/May Parker",
          "ESFP/Meredith Quill",
          "INTP/Michelle \"MJ\" Jones",
          "ESTP/Miek",
          "ISTJ/Minn-Erva",
          "ESTP/Mitchell Carson",
          "ENFP/Monica Rambeau",
          "INFP/Morgan H. Stark",
          "ESTP/Mr. Delmar",
          "ESFJ/Mr. Harrington",
          "ISFP/N'Jobu",
          "INFJ/Nakia",
          "ISTP/Natasha Romanoff \"Black Widow\"",
          "ISTJ/Nebula",
          "ENTP/Ned Leeds",
          "ENTJ/Nick Fury",
          "ISFJ/Norex",
          "ESTJ/Nova Prime",
          "ENTJ/Odin",
          "ESTJ/Officer Gale",
          "ISTJ/Okoye",
          "ISFJ/Pepper Potts",
          "ENFP/Peter Parker \"Spider-Man\"",
          "ESFP/Peter Quill \"Star-Lord\"",
          "INTP/Phineas Mason \"Tinkerer\"",
          "ESTP/Pietro Maximoff \"Quicksilver\"",
          "ISTJ/President Matthew Ellis",
          "ISTP/Proxima Midnight",
          "ENFJ/Quentin Beck \"Mysterio\"",
          "ISFJ/Ramonda",
          "ISTP/Raza Hamidmi Al-Wazar",
          "ESFJ/Rhomann Dey",
          "ESTP/Rocket Raccoon",
          "ISTJ/Roeder",
          "ISTJ/Ronan the Accuser",
          "ESFP/Sam Wilson \"Falcon\"",
          "ENTP/Samuel Sterns \"Mr. Blue\"",
          "ESTP/Scott Lang \"Ant-Man\"",
          "ESTJ/Senator Stern",
          "ISFJ/Sharon Carter \"Agent 13\"",
          "ENTP/Shuri",
          "ESTP/Skurge",
          "ESTP/Sonny Burch",
          "ISFJ/Soren",
          "ESTJ/Stakar Ogord",
          "INTJ/Stephen Strange \"Doctor Strange\"",
          "ISFJ/Steve Rogers \"Captain America\"",
          "INTJ/Supreme Intelligence",
          "ISFJ/T'Chaka",
          "ISFJ/T'Challa \"Black Panther\"",
          "INFJ/Talos",
          "INTJ/Taneleer Tivan \"The Collector\"",
          "ESTP/Taserface",
          "ESTJ/Thaddeus Ross",
          "INTJ/Thanos",
          "INFJ/The Ancient One",
          "ENTP/The Grandmaster",
          "ISTJ/The Other",
          "ESTP/Thor",
          "ENTP/Tony Stark \"Iron Man\"",
          "ISTJ/Topaz",
          "ESTP/Trevor Slattery",
          "ENTJ/Ultron",
          "ESTP/Ulysses Klaue",
          "ISTP/Valkyrie",
          "ISTJ/Vasily Karpov",
          "INFJ/Vision",
          "ESFP/Volstagg",
          "ISTP/W'Kabi",
          "INFP/Wanda Maximoff \"Scarlet Witch\"",
          "ENTP/Watcher Informant (Stan Lee Cameos)",
          "INFJ/Wendy Lawson (Mar-Vell)",
          "INTP/William Ginter Riva",
          "ISTJ/Wong",
          "INTJ/Yon-Rogg",
          "ESTP/Yondu Udonta",
          "ISFJ/Zuri",
          "ENFJ",
          "ENFP",
          "ENTJ",
          "ENTP",
          "ESFJ",
          "ESFP",
          "ESTJ",
          "ESTP",
          "INFJ",
          "INFP",
          "INTJ",
          "INTP",
          "ISFJ",
          "ISFP",
          "ISTJ",
          "ISTP"
         ],
         "labels": [
          "Adrian Toomes \"Vulture\"",
          "Akihiko (Yakuza Boss)",
          "Aldrich Killian",
          "Alexander Pierce",
          "Arnim Zola",
          "Att-Lass",
          "Ava Starr \"Ghost\"",
          "Ayesha",
          "Ayo",
          "Baby Groot",
          "Baron von Strucker",
          "Betty Brant",
          "Betty Ross",
          "Bill Foster",
          "Brad Davis",
          "Brock Rumlow \"Crossbones\"",
          "Bron-Char",
          "Bruce Banner \"Hulk\"",
          "Bucky Barnes \"Winter Soldier\"",
          "Carina",
          "Carol Danvers \"Captain Marvel\"",
          "Cassie Lang",
          "Christine Palmer",
          "Clint Barton \"Hawkeye\"",
          "Cloak of Levitation",
          "Colonel Chester Phillips",
          "Corvus Glaive",
          "Councilwoman Hawley",
          "Cull Obsidian",
          "Darcy Lewis",
          "Darren Cross \"Yellowjacket\"",
          "Denarian Saal",
          "Dimitri Smerdyakov",
          "Drax",
          "Ebony Maw",
          "Ego",
          "Eitri",
          "Ellen Brandt",
          "Emil Blonsky \"Abomination\"",
          "Eric Savin",
          "Erik Killmonger",
          "Erik Selvig",
          "Everett K. Ross",
          "Fandral",
          "Flash Thompson",
          "Frigga",
          "Gamora",
          "Georges Batroc",
          "Goose",
          "Groot",
          "Hank Pym",
          "Happy Hogan",
          "Harley Keener",
          "Heimdall",
          "Heinz Kruger",
          "Hela",
          "Helen Cho",
          "Helmut Zemo",
          "Herman Schultz \"Shocker\"",
          "Ho Yinsen",
          "Hogun",
          "Hope Van Dyne \"Wasp\"",
          "Hulk",
          "Ivan Vanko \"Whiplash\"",
          "J. Jonah Jameson",
          "J.A.R.V.I.S.",
          "James Rhodes \"War Machine\"",
          "Jane Foster",
          "Janet van Dyne",
          "Jasper Sitwell",
          "Jim Morita",
          "Jim Paxton",
          "Jimmy Woo",
          "Johann Schmidt \"Red Skull\"",
          "Jonathan Pangborn",
          "Julius Dell",
          "Kaecilius",
          "Karl Mordo",
          "Korath the Pursuer",
          "Korg",
          "Kraglin",
          "Kurse",
          "Kurt",
          "Lady Sif",
          "Laufey",
          "Laura Barton",
          "Leonard Samson",
          "Liz Allan",
          "Loki",
          "Luis",
          "M'Baku",
          "Mac Gargan \"Scorpion\"",
          "Maggie Lang",
          "Malekith",
          "Mantis",
          "Maria Hill",
          "Maria Rambeau",
          "Maria Stark",
          "May Parker",
          "Meredith Quill",
          "Michelle \"MJ\" Jones",
          "Miek",
          "Minn-Erva",
          "Mitchell Carson",
          "Monica Rambeau",
          "Morgan H. Stark",
          "Mr. Delmar",
          "Mr. Harrington",
          "N'Jobu",
          "Nakia",
          "Natasha Romanoff \"Black Widow\"",
          "Nebula",
          "Ned Leeds",
          "Nick Fury",
          "Norex",
          "Nova Prime",
          "Odin",
          "Officer Gale",
          "Okoye",
          "Pepper Potts",
          "Peter Parker \"Spider-Man\"",
          "Peter Quill \"Star-Lord\"",
          "Phineas Mason \"Tinkerer\"",
          "Pietro Maximoff \"Quicksilver\"",
          "President Matthew Ellis",
          "Proxima Midnight",
          "Quentin Beck \"Mysterio\"",
          "Ramonda",
          "Raza Hamidmi Al-Wazar",
          "Rhomann Dey",
          "Rocket Raccoon",
          "Roeder",
          "Ronan the Accuser",
          "Sam Wilson \"Falcon\"",
          "Samuel Sterns \"Mr. Blue\"",
          "Scott Lang \"Ant-Man\"",
          "Senator Stern",
          "Sharon Carter \"Agent 13\"",
          "Shuri",
          "Skurge",
          "Sonny Burch",
          "Soren",
          "Stakar Ogord",
          "Stephen Strange \"Doctor Strange\"",
          "Steve Rogers \"Captain America\"",
          "Supreme Intelligence",
          "T'Chaka",
          "T'Challa \"Black Panther\"",
          "Talos",
          "Taneleer Tivan \"The Collector\"",
          "Taserface",
          "Thaddeus Ross",
          "Thanos",
          "The Ancient One",
          "The Grandmaster",
          "The Other",
          "Thor",
          "Tony Stark \"Iron Man\"",
          "Topaz",
          "Trevor Slattery",
          "Ultron",
          "Ulysses Klaue",
          "Valkyrie",
          "Vasily Karpov",
          "Vision",
          "Volstagg",
          "W'Kabi",
          "Wanda Maximoff \"Scarlet Witch\"",
          "Watcher Informant (Stan Lee Cameos)",
          "Wendy Lawson (Mar-Vell)",
          "William Ginter Riva",
          "Wong",
          "Yon-Rogg",
          "Yondu Udonta",
          "Zuri",
          "ENFJ",
          "ENFP",
          "ENTJ",
          "ENTP",
          "ESFJ",
          "ESFP",
          "ESTJ",
          "ESTP",
          "INFJ",
          "INFP",
          "INTJ",
          "INTP",
          "ISFJ",
          "ISFP",
          "ISTJ",
          "ISTP"
         ],
         "name": "",
         "parents": [
          "ENTJ",
          "ISTJ",
          "ENTJ",
          "ENTJ",
          "INTP",
          "ISTJ",
          "ISFP",
          "ESTJ",
          "ISTJ",
          "ESTP",
          "ESTJ",
          "ESFJ",
          "ENFJ",
          "ESFJ",
          "ESTP",
          "ISTP",
          "ESTJ",
          "INTP",
          "ISTP",
          "ISFP",
          "ISFP",
          "INFP",
          "ENFJ",
          "ISTP",
          "ENTP",
          "ESTJ",
          "ISTJ",
          "ESTJ",
          "ESTP",
          "ESTP",
          "ESTJ",
          "ISTJ",
          "ISTP",
          "ESTP",
          "ESTJ",
          "ENFJ",
          "ISFP",
          "ISTP",
          "ISTJ",
          "ISTP",
          "ESFP",
          "INTP",
          "ESTJ",
          "ENTP",
          "ESTP",
          "ENFJ",
          "ISTJ",
          "ISTP",
          "ISFP",
          "ISFJ",
          "INTP",
          "ISFJ",
          "ENTP",
          "ISFJ",
          "INTP",
          "ENTJ",
          "INTP",
          "INTJ",
          "ESTP",
          "INFJ",
          "ISTJ",
          "ISTJ",
          "ESFP",
          "ISTP",
          "ESTJ",
          "INTP",
          "ISTJ",
          "INTP",
          "ESFJ",
          "ISTJ",
          "ISTP",
          "ESTJ",
          "ISTJ",
          "ENTJ",
          "ISTP",
          "ESTP",
          "INTJ",
          "ISTJ",
          "ISTJ",
          "ENFP",
          "ISFP",
          "ESTJ",
          "INTP",
          "ESTJ",
          "ISTJ",
          "ISFJ",
          "INTP",
          "ESFJ",
          "INFJ",
          "ESFP",
          "ESTJ",
          "ISTP",
          "ESFJ",
          "ISTJ",
          "INFP",
          "ISTJ",
          "ESFJ",
          "ISFJ",
          "ESFJ",
          "ESFP",
          "INTP",
          "ESTP",
          "ISTJ",
          "ESTP",
          "ENFP",
          "INFP",
          "ESTP",
          "ESFJ",
          "ISFP",
          "INFJ",
          "ISTP",
          "ISTJ",
          "ENTP",
          "ENTJ",
          "ISFJ",
          "ESTJ",
          "ENTJ",
          "ESTJ",
          "ISTJ",
          "ISFJ",
          "ENFP",
          "ESFP",
          "INTP",
          "ESTP",
          "ISTJ",
          "ISTP",
          "ENFJ",
          "ISFJ",
          "ISTP",
          "ESFJ",
          "ESTP",
          "ISTJ",
          "ISTJ",
          "ESFP",
          "ENTP",
          "ESTP",
          "ESTJ",
          "ISFJ",
          "ENTP",
          "ESTP",
          "ESTP",
          "ISFJ",
          "ESTJ",
          "INTJ",
          "ISFJ",
          "INTJ",
          "ISFJ",
          "ISFJ",
          "INFJ",
          "INTJ",
          "ESTP",
          "ESTJ",
          "INTJ",
          "INFJ",
          "ENTP",
          "ISTJ",
          "ESTP",
          "ENTP",
          "ISTJ",
          "ESTP",
          "ENTJ",
          "ESTP",
          "ISTP",
          "ISTJ",
          "INFJ",
          "ESFP",
          "ISTP",
          "INFP",
          "ENTP",
          "INFJ",
          "INTP",
          "ISTJ",
          "INTJ",
          "ESTP",
          "ISFJ",
          "",
          "",
          "",
          "",
          "",
          "",
          "",
          "",
          "",
          "",
          "",
          "",
          "",
          "",
          "",
          ""
         ],
         "type": "sunburst",
         "values": [
          1,
          1,
          1,
          1,
          1,
          1,
          1,
          1,
          1,
          1,
          1,
          1,
          1,
          1,
          1,
          1,
          1,
          1,
          1,
          1,
          1,
          1,
          1,
          1,
          1,
          1,
          1,
          1,
          1,
          1,
          1,
          1,
          1,
          1,
          1,
          1,
          1,
          1,
          1,
          1,
          1,
          1,
          1,
          1,
          1,
          1,
          1,
          1,
          1,
          1,
          1,
          1,
          1,
          1,
          1,
          1,
          1,
          1,
          1,
          1,
          1,
          1,
          1,
          1,
          1,
          1,
          1,
          1,
          1,
          1,
          1,
          1,
          1,
          1,
          1,
          1,
          1,
          1,
          1,
          1,
          1,
          1,
          1,
          1,
          1,
          1,
          1,
          1,
          1,
          1,
          1,
          1,
          1,
          1,
          1,
          1,
          1,
          1,
          1,
          1,
          1,
          1,
          1,
          1,
          1,
          1,
          1,
          1,
          1,
          1,
          1,
          1,
          1,
          1,
          1,
          1,
          1,
          1,
          1,
          1,
          1,
          1,
          1,
          1,
          1,
          1,
          1,
          1,
          1,
          1,
          1,
          1,
          1,
          1,
          1,
          1,
          1,
          1,
          1,
          1,
          1,
          1,
          1,
          1,
          1,
          1,
          1,
          1,
          1,
          1,
          1,
          1,
          1,
          1,
          1,
          1,
          1,
          1,
          1,
          1,
          1,
          1,
          1,
          1,
          1,
          1,
          1,
          1,
          1,
          1,
          1,
          1,
          1,
          1,
          1,
          5,
          3,
          8,
          9,
          9,
          7,
          18,
          21,
          7,
          4,
          7,
          13,
          14,
          7,
          27,
          16
         ]
        }
       ],
       "layout": {
        "legend": {
         "tracegroupgap": 0
        },
        "margin": {
         "t": 60
        },
        "template": {
         "data": {
          "bar": [
           {
            "error_x": {
             "color": "#2a3f5f"
            },
            "error_y": {
             "color": "#2a3f5f"
            },
            "marker": {
             "line": {
              "color": "#E5ECF6",
              "width": 0.5
             },
             "pattern": {
              "fillmode": "overlay",
              "size": 10,
              "solidity": 0.2
             }
            },
            "type": "bar"
           }
          ],
          "barpolar": [
           {
            "marker": {
             "line": {
              "color": "#E5ECF6",
              "width": 0.5
             },
             "pattern": {
              "fillmode": "overlay",
              "size": 10,
              "solidity": 0.2
             }
            },
            "type": "barpolar"
           }
          ],
          "carpet": [
           {
            "aaxis": {
             "endlinecolor": "#2a3f5f",
             "gridcolor": "white",
             "linecolor": "white",
             "minorgridcolor": "white",
             "startlinecolor": "#2a3f5f"
            },
            "baxis": {
             "endlinecolor": "#2a3f5f",
             "gridcolor": "white",
             "linecolor": "white",
             "minorgridcolor": "white",
             "startlinecolor": "#2a3f5f"
            },
            "type": "carpet"
           }
          ],
          "choropleth": [
           {
            "colorbar": {
             "outlinewidth": 0,
             "ticks": ""
            },
            "type": "choropleth"
           }
          ],
          "contour": [
           {
            "colorbar": {
             "outlinewidth": 0,
             "ticks": ""
            },
            "colorscale": [
             [
              0,
              "#0d0887"
             ],
             [
              0.1111111111111111,
              "#46039f"
             ],
             [
              0.2222222222222222,
              "#7201a8"
             ],
             [
              0.3333333333333333,
              "#9c179e"
             ],
             [
              0.4444444444444444,
              "#bd3786"
             ],
             [
              0.5555555555555556,
              "#d8576b"
             ],
             [
              0.6666666666666666,
              "#ed7953"
             ],
             [
              0.7777777777777778,
              "#fb9f3a"
             ],
             [
              0.8888888888888888,
              "#fdca26"
             ],
             [
              1,
              "#f0f921"
             ]
            ],
            "type": "contour"
           }
          ],
          "contourcarpet": [
           {
            "colorbar": {
             "outlinewidth": 0,
             "ticks": ""
            },
            "type": "contourcarpet"
           }
          ],
          "heatmap": [
           {
            "colorbar": {
             "outlinewidth": 0,
             "ticks": ""
            },
            "colorscale": [
             [
              0,
              "#0d0887"
             ],
             [
              0.1111111111111111,
              "#46039f"
             ],
             [
              0.2222222222222222,
              "#7201a8"
             ],
             [
              0.3333333333333333,
              "#9c179e"
             ],
             [
              0.4444444444444444,
              "#bd3786"
             ],
             [
              0.5555555555555556,
              "#d8576b"
             ],
             [
              0.6666666666666666,
              "#ed7953"
             ],
             [
              0.7777777777777778,
              "#fb9f3a"
             ],
             [
              0.8888888888888888,
              "#fdca26"
             ],
             [
              1,
              "#f0f921"
             ]
            ],
            "type": "heatmap"
           }
          ],
          "heatmapgl": [
           {
            "colorbar": {
             "outlinewidth": 0,
             "ticks": ""
            },
            "colorscale": [
             [
              0,
              "#0d0887"
             ],
             [
              0.1111111111111111,
              "#46039f"
             ],
             [
              0.2222222222222222,
              "#7201a8"
             ],
             [
              0.3333333333333333,
              "#9c179e"
             ],
             [
              0.4444444444444444,
              "#bd3786"
             ],
             [
              0.5555555555555556,
              "#d8576b"
             ],
             [
              0.6666666666666666,
              "#ed7953"
             ],
             [
              0.7777777777777778,
              "#fb9f3a"
             ],
             [
              0.8888888888888888,
              "#fdca26"
             ],
             [
              1,
              "#f0f921"
             ]
            ],
            "type": "heatmapgl"
           }
          ],
          "histogram": [
           {
            "marker": {
             "pattern": {
              "fillmode": "overlay",
              "size": 10,
              "solidity": 0.2
             }
            },
            "type": "histogram"
           }
          ],
          "histogram2d": [
           {
            "colorbar": {
             "outlinewidth": 0,
             "ticks": ""
            },
            "colorscale": [
             [
              0,
              "#0d0887"
             ],
             [
              0.1111111111111111,
              "#46039f"
             ],
             [
              0.2222222222222222,
              "#7201a8"
             ],
             [
              0.3333333333333333,
              "#9c179e"
             ],
             [
              0.4444444444444444,
              "#bd3786"
             ],
             [
              0.5555555555555556,
              "#d8576b"
             ],
             [
              0.6666666666666666,
              "#ed7953"
             ],
             [
              0.7777777777777778,
              "#fb9f3a"
             ],
             [
              0.8888888888888888,
              "#fdca26"
             ],
             [
              1,
              "#f0f921"
             ]
            ],
            "type": "histogram2d"
           }
          ],
          "histogram2dcontour": [
           {
            "colorbar": {
             "outlinewidth": 0,
             "ticks": ""
            },
            "colorscale": [
             [
              0,
              "#0d0887"
             ],
             [
              0.1111111111111111,
              "#46039f"
             ],
             [
              0.2222222222222222,
              "#7201a8"
             ],
             [
              0.3333333333333333,
              "#9c179e"
             ],
             [
              0.4444444444444444,
              "#bd3786"
             ],
             [
              0.5555555555555556,
              "#d8576b"
             ],
             [
              0.6666666666666666,
              "#ed7953"
             ],
             [
              0.7777777777777778,
              "#fb9f3a"
             ],
             [
              0.8888888888888888,
              "#fdca26"
             ],
             [
              1,
              "#f0f921"
             ]
            ],
            "type": "histogram2dcontour"
           }
          ],
          "mesh3d": [
           {
            "colorbar": {
             "outlinewidth": 0,
             "ticks": ""
            },
            "type": "mesh3d"
           }
          ],
          "parcoords": [
           {
            "line": {
             "colorbar": {
              "outlinewidth": 0,
              "ticks": ""
             }
            },
            "type": "parcoords"
           }
          ],
          "pie": [
           {
            "automargin": true,
            "type": "pie"
           }
          ],
          "scatter": [
           {
            "marker": {
             "colorbar": {
              "outlinewidth": 0,
              "ticks": ""
             }
            },
            "type": "scatter"
           }
          ],
          "scatter3d": [
           {
            "line": {
             "colorbar": {
              "outlinewidth": 0,
              "ticks": ""
             }
            },
            "marker": {
             "colorbar": {
              "outlinewidth": 0,
              "ticks": ""
             }
            },
            "type": "scatter3d"
           }
          ],
          "scattercarpet": [
           {
            "marker": {
             "colorbar": {
              "outlinewidth": 0,
              "ticks": ""
             }
            },
            "type": "scattercarpet"
           }
          ],
          "scattergeo": [
           {
            "marker": {
             "colorbar": {
              "outlinewidth": 0,
              "ticks": ""
             }
            },
            "type": "scattergeo"
           }
          ],
          "scattergl": [
           {
            "marker": {
             "colorbar": {
              "outlinewidth": 0,
              "ticks": ""
             }
            },
            "type": "scattergl"
           }
          ],
          "scattermapbox": [
           {
            "marker": {
             "colorbar": {
              "outlinewidth": 0,
              "ticks": ""
             }
            },
            "type": "scattermapbox"
           }
          ],
          "scatterpolar": [
           {
            "marker": {
             "colorbar": {
              "outlinewidth": 0,
              "ticks": ""
             }
            },
            "type": "scatterpolar"
           }
          ],
          "scatterpolargl": [
           {
            "marker": {
             "colorbar": {
              "outlinewidth": 0,
              "ticks": ""
             }
            },
            "type": "scatterpolargl"
           }
          ],
          "scatterternary": [
           {
            "marker": {
             "colorbar": {
              "outlinewidth": 0,
              "ticks": ""
             }
            },
            "type": "scatterternary"
           }
          ],
          "surface": [
           {
            "colorbar": {
             "outlinewidth": 0,
             "ticks": ""
            },
            "colorscale": [
             [
              0,
              "#0d0887"
             ],
             [
              0.1111111111111111,
              "#46039f"
             ],
             [
              0.2222222222222222,
              "#7201a8"
             ],
             [
              0.3333333333333333,
              "#9c179e"
             ],
             [
              0.4444444444444444,
              "#bd3786"
             ],
             [
              0.5555555555555556,
              "#d8576b"
             ],
             [
              0.6666666666666666,
              "#ed7953"
             ],
             [
              0.7777777777777778,
              "#fb9f3a"
             ],
             [
              0.8888888888888888,
              "#fdca26"
             ],
             [
              1,
              "#f0f921"
             ]
            ],
            "type": "surface"
           }
          ],
          "table": [
           {
            "cells": {
             "fill": {
              "color": "#EBF0F8"
             },
             "line": {
              "color": "white"
             }
            },
            "header": {
             "fill": {
              "color": "#C8D4E3"
             },
             "line": {
              "color": "white"
             }
            },
            "type": "table"
           }
          ]
         },
         "layout": {
          "annotationdefaults": {
           "arrowcolor": "#2a3f5f",
           "arrowhead": 0,
           "arrowwidth": 1
          },
          "autotypenumbers": "strict",
          "coloraxis": {
           "colorbar": {
            "outlinewidth": 0,
            "ticks": ""
           }
          },
          "colorscale": {
           "diverging": [
            [
             0,
             "#8e0152"
            ],
            [
             0.1,
             "#c51b7d"
            ],
            [
             0.2,
             "#de77ae"
            ],
            [
             0.3,
             "#f1b6da"
            ],
            [
             0.4,
             "#fde0ef"
            ],
            [
             0.5,
             "#f7f7f7"
            ],
            [
             0.6,
             "#e6f5d0"
            ],
            [
             0.7,
             "#b8e186"
            ],
            [
             0.8,
             "#7fbc41"
            ],
            [
             0.9,
             "#4d9221"
            ],
            [
             1,
             "#276419"
            ]
           ],
           "sequential": [
            [
             0,
             "#0d0887"
            ],
            [
             0.1111111111111111,
             "#46039f"
            ],
            [
             0.2222222222222222,
             "#7201a8"
            ],
            [
             0.3333333333333333,
             "#9c179e"
            ],
            [
             0.4444444444444444,
             "#bd3786"
            ],
            [
             0.5555555555555556,
             "#d8576b"
            ],
            [
             0.6666666666666666,
             "#ed7953"
            ],
            [
             0.7777777777777778,
             "#fb9f3a"
            ],
            [
             0.8888888888888888,
             "#fdca26"
            ],
            [
             1,
             "#f0f921"
            ]
           ],
           "sequentialminus": [
            [
             0,
             "#0d0887"
            ],
            [
             0.1111111111111111,
             "#46039f"
            ],
            [
             0.2222222222222222,
             "#7201a8"
            ],
            [
             0.3333333333333333,
             "#9c179e"
            ],
            [
             0.4444444444444444,
             "#bd3786"
            ],
            [
             0.5555555555555556,
             "#d8576b"
            ],
            [
             0.6666666666666666,
             "#ed7953"
            ],
            [
             0.7777777777777778,
             "#fb9f3a"
            ],
            [
             0.8888888888888888,
             "#fdca26"
            ],
            [
             1,
             "#f0f921"
            ]
           ]
          },
          "colorway": [
           "#636efa",
           "#EF553B",
           "#00cc96",
           "#ab63fa",
           "#FFA15A",
           "#19d3f3",
           "#FF6692",
           "#B6E880",
           "#FF97FF",
           "#FECB52"
          ],
          "font": {
           "color": "#2a3f5f"
          },
          "geo": {
           "bgcolor": "white",
           "lakecolor": "white",
           "landcolor": "#E5ECF6",
           "showlakes": true,
           "showland": true,
           "subunitcolor": "white"
          },
          "hoverlabel": {
           "align": "left"
          },
          "hovermode": "closest",
          "mapbox": {
           "style": "light"
          },
          "paper_bgcolor": "white",
          "plot_bgcolor": "#E5ECF6",
          "polar": {
           "angularaxis": {
            "gridcolor": "white",
            "linecolor": "white",
            "ticks": ""
           },
           "bgcolor": "#E5ECF6",
           "radialaxis": {
            "gridcolor": "white",
            "linecolor": "white",
            "ticks": ""
           }
          },
          "scene": {
           "xaxis": {
            "backgroundcolor": "#E5ECF6",
            "gridcolor": "white",
            "gridwidth": 2,
            "linecolor": "white",
            "showbackground": true,
            "ticks": "",
            "zerolinecolor": "white"
           },
           "yaxis": {
            "backgroundcolor": "#E5ECF6",
            "gridcolor": "white",
            "gridwidth": 2,
            "linecolor": "white",
            "showbackground": true,
            "ticks": "",
            "zerolinecolor": "white"
           },
           "zaxis": {
            "backgroundcolor": "#E5ECF6",
            "gridcolor": "white",
            "gridwidth": 2,
            "linecolor": "white",
            "showbackground": true,
            "ticks": "",
            "zerolinecolor": "white"
           }
          },
          "shapedefaults": {
           "line": {
            "color": "#2a3f5f"
           }
          },
          "ternary": {
           "aaxis": {
            "gridcolor": "white",
            "linecolor": "white",
            "ticks": ""
           },
           "baxis": {
            "gridcolor": "white",
            "linecolor": "white",
            "ticks": ""
           },
           "bgcolor": "#E5ECF6",
           "caxis": {
            "gridcolor": "white",
            "linecolor": "white",
            "ticks": ""
           }
          },
          "title": {
           "x": 0.05
          },
          "xaxis": {
           "automargin": true,
           "gridcolor": "white",
           "linecolor": "white",
           "ticks": "",
           "title": {
            "standoff": 15
           },
           "zerolinecolor": "white",
           "zerolinewidth": 2
          },
          "yaxis": {
           "automargin": true,
           "gridcolor": "white",
           "linecolor": "white",
           "ticks": "",
           "title": {
            "standoff": 15
           },
           "zerolinecolor": "white",
           "zerolinewidth": 2
          }
         }
        }
       }
      },
      "text/html": [
       "<div>                            <div id=\"636216d6-a2dd-4661-b54a-b2e3bd55fd1a\" class=\"plotly-graph-div\" style=\"height:525px; width:100%;\"></div>            <script type=\"text/javascript\">                require([\"plotly\"], function(Plotly) {                    window.PLOTLYENV=window.PLOTLYENV || {};                                    if (document.getElementById(\"636216d6-a2dd-4661-b54a-b2e3bd55fd1a\")) {                    Plotly.newPlot(                        \"636216d6-a2dd-4661-b54a-b2e3bd55fd1a\",                        [{\"branchvalues\":\"total\",\"domain\":{\"x\":[0.0,1.0],\"y\":[0.0,1.0]},\"hovertemplate\":\"labels=%{label}<br>value=%{value}<br>parent=%{parent}<br>id=%{id}<extra></extra>\",\"ids\":[\"ENTJ/Adrian Toomes \\\"Vulture\\\"\",\"ISTJ/Akihiko (Yakuza Boss)\",\"ENTJ/Aldrich Killian\",\"ENTJ/Alexander Pierce\",\"INTP/Arnim Zola\",\"ISTJ/Att-Lass\",\"ISFP/Ava Starr \\\"Ghost\\\"\",\"ESTJ/Ayesha\",\"ISTJ/Ayo\",\"ESTP/Baby Groot\",\"ESTJ/Baron von Strucker\",\"ESFJ/Betty Brant\",\"ENFJ/Betty Ross\",\"ESFJ/Bill Foster\",\"ESTP/Brad Davis\",\"ISTP/Brock Rumlow \\\"Crossbones\\\"\",\"ESTJ/Bron-Char\",\"INTP/Bruce Banner \\\"Hulk\\\"\",\"ISTP/Bucky Barnes \\\"Winter Soldier\\\"\",\"ISFP/Carina\",\"ISFP/Carol Danvers \\\"Captain Marvel\\\"\",\"INFP/Cassie Lang\",\"ENFJ/Christine Palmer\",\"ISTP/Clint Barton \\\"Hawkeye\\\"\",\"ENTP/Cloak of Levitation\",\"ESTJ/Colonel Chester Phillips\",\"ISTJ/Corvus Glaive\",\"ESTJ/Councilwoman Hawley\",\"ESTP/Cull Obsidian\",\"ESTP/Darcy Lewis\",\"ESTJ/Darren Cross \\\"Yellowjacket\\\"\",\"ISTJ/Denarian Saal\",\"ISTP/Dimitri Smerdyakov\",\"ESTP/Drax\",\"ESTJ/Ebony Maw\",\"ENFJ/Ego\",\"ISFP/Eitri\",\"ISTP/Ellen Brandt\",\"ISTJ/Emil Blonsky \\\"Abomination\\\"\",\"ISTP/Eric Savin\",\"ESFP/Erik Killmonger\",\"INTP/Erik Selvig\",\"ESTJ/Everett K. Ross\",\"ENTP/Fandral\",\"ESTP/Flash Thompson\",\"ENFJ/Frigga\",\"ISTJ/Gamora\",\"ISTP/Georges Batroc\",\"ISFP/Goose\",\"ISFJ/Groot\",\"INTP/Hank Pym\",\"ISFJ/Happy Hogan\",\"ENTP/Harley Keener\",\"ISFJ/Heimdall\",\"INTP/Heinz Kruger\",\"ENTJ/Hela\",\"INTP/Helen Cho\",\"INTJ/Helmut Zemo\",\"ESTP/Herman Schultz \\\"Shocker\\\"\",\"INFJ/Ho Yinsen\",\"ISTJ/Hogun\",\"ISTJ/Hope Van Dyne \\\"Wasp\\\"\",\"ESFP/Hulk\",\"ISTP/Ivan Vanko \\\"Whiplash\\\"\",\"ESTJ/J. Jonah Jameson\",\"INTP/J.A.R.V.I.S.\",\"ISTJ/James Rhodes \\\"War Machine\\\"\",\"INTP/Jane Foster\",\"ESFJ/Janet van Dyne\",\"ISTJ/Jasper Sitwell\",\"ISTP/Jim Morita\",\"ESTJ/Jim Paxton\",\"ISTJ/Jimmy Woo\",\"ENTJ/Johann Schmidt \\\"Red Skull\\\"\",\"ISTP/Jonathan Pangborn\",\"ESTP/Julius Dell\",\"INTJ/Kaecilius\",\"ISTJ/Karl Mordo\",\"ISTJ/Korath the Pursuer\",\"ENFP/Korg\",\"ISFP/Kraglin\",\"ESTJ/Kurse\",\"INTP/Kurt\",\"ESTJ/Lady Sif\",\"ISTJ/Laufey\",\"ISFJ/Laura Barton\",\"INTP/Leonard Samson\",\"ESFJ/Liz Allan\",\"INFJ/Loki\",\"ESFP/Luis\",\"ESTJ/M'Baku\",\"ISTP/Mac Gargan \\\"Scorpion\\\"\",\"ESFJ/Maggie Lang\",\"ISTJ/Malekith\",\"INFP/Mantis\",\"ISTJ/Maria Hill\",\"ESFJ/Maria Rambeau\",\"ISFJ/Maria Stark\",\"ESFJ/May Parker\",\"ESFP/Meredith Quill\",\"INTP/Michelle \\\"MJ\\\" Jones\",\"ESTP/Miek\",\"ISTJ/Minn-Erva\",\"ESTP/Mitchell Carson\",\"ENFP/Monica Rambeau\",\"INFP/Morgan H. Stark\",\"ESTP/Mr. Delmar\",\"ESFJ/Mr. Harrington\",\"ISFP/N'Jobu\",\"INFJ/Nakia\",\"ISTP/Natasha Romanoff \\\"Black Widow\\\"\",\"ISTJ/Nebula\",\"ENTP/Ned Leeds\",\"ENTJ/Nick Fury\",\"ISFJ/Norex\",\"ESTJ/Nova Prime\",\"ENTJ/Odin\",\"ESTJ/Officer Gale\",\"ISTJ/Okoye\",\"ISFJ/Pepper Potts\",\"ENFP/Peter Parker \\\"Spider-Man\\\"\",\"ESFP/Peter Quill \\\"Star-Lord\\\"\",\"INTP/Phineas Mason \\\"Tinkerer\\\"\",\"ESTP/Pietro Maximoff \\\"Quicksilver\\\"\",\"ISTJ/President Matthew Ellis\",\"ISTP/Proxima Midnight\",\"ENFJ/Quentin Beck \\\"Mysterio\\\"\",\"ISFJ/Ramonda\",\"ISTP/Raza Hamidmi Al-Wazar\",\"ESFJ/Rhomann Dey\",\"ESTP/Rocket Raccoon\",\"ISTJ/Roeder\",\"ISTJ/Ronan the Accuser\",\"ESFP/Sam Wilson \\\"Falcon\\\"\",\"ENTP/Samuel Sterns \\\"Mr. Blue\\\"\",\"ESTP/Scott Lang \\\"Ant-Man\\\"\",\"ESTJ/Senator Stern\",\"ISFJ/Sharon Carter \\\"Agent 13\\\"\",\"ENTP/Shuri\",\"ESTP/Skurge\",\"ESTP/Sonny Burch\",\"ISFJ/Soren\",\"ESTJ/Stakar Ogord\",\"INTJ/Stephen Strange \\\"Doctor Strange\\\"\",\"ISFJ/Steve Rogers \\\"Captain America\\\"\",\"INTJ/Supreme Intelligence\",\"ISFJ/T'Chaka\",\"ISFJ/T'Challa \\\"Black Panther\\\"\",\"INFJ/Talos\",\"INTJ/Taneleer Tivan \\\"The Collector\\\"\",\"ESTP/Taserface\",\"ESTJ/Thaddeus Ross\",\"INTJ/Thanos\",\"INFJ/The Ancient One\",\"ENTP/The Grandmaster\",\"ISTJ/The Other\",\"ESTP/Thor\",\"ENTP/Tony Stark \\\"Iron Man\\\"\",\"ISTJ/Topaz\",\"ESTP/Trevor Slattery\",\"ENTJ/Ultron\",\"ESTP/Ulysses Klaue\",\"ISTP/Valkyrie\",\"ISTJ/Vasily Karpov\",\"INFJ/Vision\",\"ESFP/Volstagg\",\"ISTP/W'Kabi\",\"INFP/Wanda Maximoff \\\"Scarlet Witch\\\"\",\"ENTP/Watcher Informant (Stan Lee Cameos)\",\"INFJ/Wendy Lawson (Mar-Vell)\",\"INTP/William Ginter Riva\",\"ISTJ/Wong\",\"INTJ/Yon-Rogg\",\"ESTP/Yondu Udonta\",\"ISFJ/Zuri\",\"ENFJ\",\"ENFP\",\"ENTJ\",\"ENTP\",\"ESFJ\",\"ESFP\",\"ESTJ\",\"ESTP\",\"INFJ\",\"INFP\",\"INTJ\",\"INTP\",\"ISFJ\",\"ISFP\",\"ISTJ\",\"ISTP\"],\"labels\":[\"Adrian Toomes \\\"Vulture\\\"\",\"Akihiko (Yakuza Boss)\",\"Aldrich Killian\",\"Alexander Pierce\",\"Arnim Zola\",\"Att-Lass\",\"Ava Starr \\\"Ghost\\\"\",\"Ayesha\",\"Ayo\",\"Baby Groot\",\"Baron von Strucker\",\"Betty Brant\",\"Betty Ross\",\"Bill Foster\",\"Brad Davis\",\"Brock Rumlow \\\"Crossbones\\\"\",\"Bron-Char\",\"Bruce Banner \\\"Hulk\\\"\",\"Bucky Barnes \\\"Winter Soldier\\\"\",\"Carina\",\"Carol Danvers \\\"Captain Marvel\\\"\",\"Cassie Lang\",\"Christine Palmer\",\"Clint Barton \\\"Hawkeye\\\"\",\"Cloak of Levitation\",\"Colonel Chester Phillips\",\"Corvus Glaive\",\"Councilwoman Hawley\",\"Cull Obsidian\",\"Darcy Lewis\",\"Darren Cross \\\"Yellowjacket\\\"\",\"Denarian Saal\",\"Dimitri Smerdyakov\",\"Drax\",\"Ebony Maw\",\"Ego\",\"Eitri\",\"Ellen Brandt\",\"Emil Blonsky \\\"Abomination\\\"\",\"Eric Savin\",\"Erik Killmonger\",\"Erik Selvig\",\"Everett K. Ross\",\"Fandral\",\"Flash Thompson\",\"Frigga\",\"Gamora\",\"Georges Batroc\",\"Goose\",\"Groot\",\"Hank Pym\",\"Happy Hogan\",\"Harley Keener\",\"Heimdall\",\"Heinz Kruger\",\"Hela\",\"Helen Cho\",\"Helmut Zemo\",\"Herman Schultz \\\"Shocker\\\"\",\"Ho Yinsen\",\"Hogun\",\"Hope Van Dyne \\\"Wasp\\\"\",\"Hulk\",\"Ivan Vanko \\\"Whiplash\\\"\",\"J. Jonah Jameson\",\"J.A.R.V.I.S.\",\"James Rhodes \\\"War Machine\\\"\",\"Jane Foster\",\"Janet van Dyne\",\"Jasper Sitwell\",\"Jim Morita\",\"Jim Paxton\",\"Jimmy Woo\",\"Johann Schmidt \\\"Red Skull\\\"\",\"Jonathan Pangborn\",\"Julius Dell\",\"Kaecilius\",\"Karl Mordo\",\"Korath the Pursuer\",\"Korg\",\"Kraglin\",\"Kurse\",\"Kurt\",\"Lady Sif\",\"Laufey\",\"Laura Barton\",\"Leonard Samson\",\"Liz Allan\",\"Loki\",\"Luis\",\"M'Baku\",\"Mac Gargan \\\"Scorpion\\\"\",\"Maggie Lang\",\"Malekith\",\"Mantis\",\"Maria Hill\",\"Maria Rambeau\",\"Maria Stark\",\"May Parker\",\"Meredith Quill\",\"Michelle \\\"MJ\\\" Jones\",\"Miek\",\"Minn-Erva\",\"Mitchell Carson\",\"Monica Rambeau\",\"Morgan H. Stark\",\"Mr. Delmar\",\"Mr. Harrington\",\"N'Jobu\",\"Nakia\",\"Natasha Romanoff \\\"Black Widow\\\"\",\"Nebula\",\"Ned Leeds\",\"Nick Fury\",\"Norex\",\"Nova Prime\",\"Odin\",\"Officer Gale\",\"Okoye\",\"Pepper Potts\",\"Peter Parker \\\"Spider-Man\\\"\",\"Peter Quill \\\"Star-Lord\\\"\",\"Phineas Mason \\\"Tinkerer\\\"\",\"Pietro Maximoff \\\"Quicksilver\\\"\",\"President Matthew Ellis\",\"Proxima Midnight\",\"Quentin Beck \\\"Mysterio\\\"\",\"Ramonda\",\"Raza Hamidmi Al-Wazar\",\"Rhomann Dey\",\"Rocket Raccoon\",\"Roeder\",\"Ronan the Accuser\",\"Sam Wilson \\\"Falcon\\\"\",\"Samuel Sterns \\\"Mr. Blue\\\"\",\"Scott Lang \\\"Ant-Man\\\"\",\"Senator Stern\",\"Sharon Carter \\\"Agent 13\\\"\",\"Shuri\",\"Skurge\",\"Sonny Burch\",\"Soren\",\"Stakar Ogord\",\"Stephen Strange \\\"Doctor Strange\\\"\",\"Steve Rogers \\\"Captain America\\\"\",\"Supreme Intelligence\",\"T'Chaka\",\"T'Challa \\\"Black Panther\\\"\",\"Talos\",\"Taneleer Tivan \\\"The Collector\\\"\",\"Taserface\",\"Thaddeus Ross\",\"Thanos\",\"The Ancient One\",\"The Grandmaster\",\"The Other\",\"Thor\",\"Tony Stark \\\"Iron Man\\\"\",\"Topaz\",\"Trevor Slattery\",\"Ultron\",\"Ulysses Klaue\",\"Valkyrie\",\"Vasily Karpov\",\"Vision\",\"Volstagg\",\"W'Kabi\",\"Wanda Maximoff \\\"Scarlet Witch\\\"\",\"Watcher Informant (Stan Lee Cameos)\",\"Wendy Lawson (Mar-Vell)\",\"William Ginter Riva\",\"Wong\",\"Yon-Rogg\",\"Yondu Udonta\",\"Zuri\",\"ENFJ\",\"ENFP\",\"ENTJ\",\"ENTP\",\"ESFJ\",\"ESFP\",\"ESTJ\",\"ESTP\",\"INFJ\",\"INFP\",\"INTJ\",\"INTP\",\"ISFJ\",\"ISFP\",\"ISTJ\",\"ISTP\"],\"name\":\"\",\"parents\":[\"ENTJ\",\"ISTJ\",\"ENTJ\",\"ENTJ\",\"INTP\",\"ISTJ\",\"ISFP\",\"ESTJ\",\"ISTJ\",\"ESTP\",\"ESTJ\",\"ESFJ\",\"ENFJ\",\"ESFJ\",\"ESTP\",\"ISTP\",\"ESTJ\",\"INTP\",\"ISTP\",\"ISFP\",\"ISFP\",\"INFP\",\"ENFJ\",\"ISTP\",\"ENTP\",\"ESTJ\",\"ISTJ\",\"ESTJ\",\"ESTP\",\"ESTP\",\"ESTJ\",\"ISTJ\",\"ISTP\",\"ESTP\",\"ESTJ\",\"ENFJ\",\"ISFP\",\"ISTP\",\"ISTJ\",\"ISTP\",\"ESFP\",\"INTP\",\"ESTJ\",\"ENTP\",\"ESTP\",\"ENFJ\",\"ISTJ\",\"ISTP\",\"ISFP\",\"ISFJ\",\"INTP\",\"ISFJ\",\"ENTP\",\"ISFJ\",\"INTP\",\"ENTJ\",\"INTP\",\"INTJ\",\"ESTP\",\"INFJ\",\"ISTJ\",\"ISTJ\",\"ESFP\",\"ISTP\",\"ESTJ\",\"INTP\",\"ISTJ\",\"INTP\",\"ESFJ\",\"ISTJ\",\"ISTP\",\"ESTJ\",\"ISTJ\",\"ENTJ\",\"ISTP\",\"ESTP\",\"INTJ\",\"ISTJ\",\"ISTJ\",\"ENFP\",\"ISFP\",\"ESTJ\",\"INTP\",\"ESTJ\",\"ISTJ\",\"ISFJ\",\"INTP\",\"ESFJ\",\"INFJ\",\"ESFP\",\"ESTJ\",\"ISTP\",\"ESFJ\",\"ISTJ\",\"INFP\",\"ISTJ\",\"ESFJ\",\"ISFJ\",\"ESFJ\",\"ESFP\",\"INTP\",\"ESTP\",\"ISTJ\",\"ESTP\",\"ENFP\",\"INFP\",\"ESTP\",\"ESFJ\",\"ISFP\",\"INFJ\",\"ISTP\",\"ISTJ\",\"ENTP\",\"ENTJ\",\"ISFJ\",\"ESTJ\",\"ENTJ\",\"ESTJ\",\"ISTJ\",\"ISFJ\",\"ENFP\",\"ESFP\",\"INTP\",\"ESTP\",\"ISTJ\",\"ISTP\",\"ENFJ\",\"ISFJ\",\"ISTP\",\"ESFJ\",\"ESTP\",\"ISTJ\",\"ISTJ\",\"ESFP\",\"ENTP\",\"ESTP\",\"ESTJ\",\"ISFJ\",\"ENTP\",\"ESTP\",\"ESTP\",\"ISFJ\",\"ESTJ\",\"INTJ\",\"ISFJ\",\"INTJ\",\"ISFJ\",\"ISFJ\",\"INFJ\",\"INTJ\",\"ESTP\",\"ESTJ\",\"INTJ\",\"INFJ\",\"ENTP\",\"ISTJ\",\"ESTP\",\"ENTP\",\"ISTJ\",\"ESTP\",\"ENTJ\",\"ESTP\",\"ISTP\",\"ISTJ\",\"INFJ\",\"ESFP\",\"ISTP\",\"INFP\",\"ENTP\",\"INFJ\",\"INTP\",\"ISTJ\",\"INTJ\",\"ESTP\",\"ISFJ\",\"\",\"\",\"\",\"\",\"\",\"\",\"\",\"\",\"\",\"\",\"\",\"\",\"\",\"\",\"\",\"\"],\"values\":[1,1,1,1,1,1,1,1,1,1,1,1,1,1,1,1,1,1,1,1,1,1,1,1,1,1,1,1,1,1,1,1,1,1,1,1,1,1,1,1,1,1,1,1,1,1,1,1,1,1,1,1,1,1,1,1,1,1,1,1,1,1,1,1,1,1,1,1,1,1,1,1,1,1,1,1,1,1,1,1,1,1,1,1,1,1,1,1,1,1,1,1,1,1,1,1,1,1,1,1,1,1,1,1,1,1,1,1,1,1,1,1,1,1,1,1,1,1,1,1,1,1,1,1,1,1,1,1,1,1,1,1,1,1,1,1,1,1,1,1,1,1,1,1,1,1,1,1,1,1,1,1,1,1,1,1,1,1,1,1,1,1,1,1,1,1,1,1,1,1,1,1,1,1,1,5,3,8,9,9,7,18,21,7,4,7,13,14,7,27,16],\"type\":\"sunburst\"}],                        {\"template\":{\"data\":{\"bar\":[{\"error_x\":{\"color\":\"#2a3f5f\"},\"error_y\":{\"color\":\"#2a3f5f\"},\"marker\":{\"line\":{\"color\":\"#E5ECF6\",\"width\":0.5},\"pattern\":{\"fillmode\":\"overlay\",\"size\":10,\"solidity\":0.2}},\"type\":\"bar\"}],\"barpolar\":[{\"marker\":{\"line\":{\"color\":\"#E5ECF6\",\"width\":0.5},\"pattern\":{\"fillmode\":\"overlay\",\"size\":10,\"solidity\":0.2}},\"type\":\"barpolar\"}],\"carpet\":[{\"aaxis\":{\"endlinecolor\":\"#2a3f5f\",\"gridcolor\":\"white\",\"linecolor\":\"white\",\"minorgridcolor\":\"white\",\"startlinecolor\":\"#2a3f5f\"},\"baxis\":{\"endlinecolor\":\"#2a3f5f\",\"gridcolor\":\"white\",\"linecolor\":\"white\",\"minorgridcolor\":\"white\",\"startlinecolor\":\"#2a3f5f\"},\"type\":\"carpet\"}],\"choropleth\":[{\"colorbar\":{\"outlinewidth\":0,\"ticks\":\"\"},\"type\":\"choropleth\"}],\"contour\":[{\"colorbar\":{\"outlinewidth\":0,\"ticks\":\"\"},\"colorscale\":[[0.0,\"#0d0887\"],[0.1111111111111111,\"#46039f\"],[0.2222222222222222,\"#7201a8\"],[0.3333333333333333,\"#9c179e\"],[0.4444444444444444,\"#bd3786\"],[0.5555555555555556,\"#d8576b\"],[0.6666666666666666,\"#ed7953\"],[0.7777777777777778,\"#fb9f3a\"],[0.8888888888888888,\"#fdca26\"],[1.0,\"#f0f921\"]],\"type\":\"contour\"}],\"contourcarpet\":[{\"colorbar\":{\"outlinewidth\":0,\"ticks\":\"\"},\"type\":\"contourcarpet\"}],\"heatmap\":[{\"colorbar\":{\"outlinewidth\":0,\"ticks\":\"\"},\"colorscale\":[[0.0,\"#0d0887\"],[0.1111111111111111,\"#46039f\"],[0.2222222222222222,\"#7201a8\"],[0.3333333333333333,\"#9c179e\"],[0.4444444444444444,\"#bd3786\"],[0.5555555555555556,\"#d8576b\"],[0.6666666666666666,\"#ed7953\"],[0.7777777777777778,\"#fb9f3a\"],[0.8888888888888888,\"#fdca26\"],[1.0,\"#f0f921\"]],\"type\":\"heatmap\"}],\"heatmapgl\":[{\"colorbar\":{\"outlinewidth\":0,\"ticks\":\"\"},\"colorscale\":[[0.0,\"#0d0887\"],[0.1111111111111111,\"#46039f\"],[0.2222222222222222,\"#7201a8\"],[0.3333333333333333,\"#9c179e\"],[0.4444444444444444,\"#bd3786\"],[0.5555555555555556,\"#d8576b\"],[0.6666666666666666,\"#ed7953\"],[0.7777777777777778,\"#fb9f3a\"],[0.8888888888888888,\"#fdca26\"],[1.0,\"#f0f921\"]],\"type\":\"heatmapgl\"}],\"histogram\":[{\"marker\":{\"pattern\":{\"fillmode\":\"overlay\",\"size\":10,\"solidity\":0.2}},\"type\":\"histogram\"}],\"histogram2d\":[{\"colorbar\":{\"outlinewidth\":0,\"ticks\":\"\"},\"colorscale\":[[0.0,\"#0d0887\"],[0.1111111111111111,\"#46039f\"],[0.2222222222222222,\"#7201a8\"],[0.3333333333333333,\"#9c179e\"],[0.4444444444444444,\"#bd3786\"],[0.5555555555555556,\"#d8576b\"],[0.6666666666666666,\"#ed7953\"],[0.7777777777777778,\"#fb9f3a\"],[0.8888888888888888,\"#fdca26\"],[1.0,\"#f0f921\"]],\"type\":\"histogram2d\"}],\"histogram2dcontour\":[{\"colorbar\":{\"outlinewidth\":0,\"ticks\":\"\"},\"colorscale\":[[0.0,\"#0d0887\"],[0.1111111111111111,\"#46039f\"],[0.2222222222222222,\"#7201a8\"],[0.3333333333333333,\"#9c179e\"],[0.4444444444444444,\"#bd3786\"],[0.5555555555555556,\"#d8576b\"],[0.6666666666666666,\"#ed7953\"],[0.7777777777777778,\"#fb9f3a\"],[0.8888888888888888,\"#fdca26\"],[1.0,\"#f0f921\"]],\"type\":\"histogram2dcontour\"}],\"mesh3d\":[{\"colorbar\":{\"outlinewidth\":0,\"ticks\":\"\"},\"type\":\"mesh3d\"}],\"parcoords\":[{\"line\":{\"colorbar\":{\"outlinewidth\":0,\"ticks\":\"\"}},\"type\":\"parcoords\"}],\"pie\":[{\"automargin\":true,\"type\":\"pie\"}],\"scatter\":[{\"marker\":{\"colorbar\":{\"outlinewidth\":0,\"ticks\":\"\"}},\"type\":\"scatter\"}],\"scatter3d\":[{\"line\":{\"colorbar\":{\"outlinewidth\":0,\"ticks\":\"\"}},\"marker\":{\"colorbar\":{\"outlinewidth\":0,\"ticks\":\"\"}},\"type\":\"scatter3d\"}],\"scattercarpet\":[{\"marker\":{\"colorbar\":{\"outlinewidth\":0,\"ticks\":\"\"}},\"type\":\"scattercarpet\"}],\"scattergeo\":[{\"marker\":{\"colorbar\":{\"outlinewidth\":0,\"ticks\":\"\"}},\"type\":\"scattergeo\"}],\"scattergl\":[{\"marker\":{\"colorbar\":{\"outlinewidth\":0,\"ticks\":\"\"}},\"type\":\"scattergl\"}],\"scattermapbox\":[{\"marker\":{\"colorbar\":{\"outlinewidth\":0,\"ticks\":\"\"}},\"type\":\"scattermapbox\"}],\"scatterpolar\":[{\"marker\":{\"colorbar\":{\"outlinewidth\":0,\"ticks\":\"\"}},\"type\":\"scatterpolar\"}],\"scatterpolargl\":[{\"marker\":{\"colorbar\":{\"outlinewidth\":0,\"ticks\":\"\"}},\"type\":\"scatterpolargl\"}],\"scatterternary\":[{\"marker\":{\"colorbar\":{\"outlinewidth\":0,\"ticks\":\"\"}},\"type\":\"scatterternary\"}],\"surface\":[{\"colorbar\":{\"outlinewidth\":0,\"ticks\":\"\"},\"colorscale\":[[0.0,\"#0d0887\"],[0.1111111111111111,\"#46039f\"],[0.2222222222222222,\"#7201a8\"],[0.3333333333333333,\"#9c179e\"],[0.4444444444444444,\"#bd3786\"],[0.5555555555555556,\"#d8576b\"],[0.6666666666666666,\"#ed7953\"],[0.7777777777777778,\"#fb9f3a\"],[0.8888888888888888,\"#fdca26\"],[1.0,\"#f0f921\"]],\"type\":\"surface\"}],\"table\":[{\"cells\":{\"fill\":{\"color\":\"#EBF0F8\"},\"line\":{\"color\":\"white\"}},\"header\":{\"fill\":{\"color\":\"#C8D4E3\"},\"line\":{\"color\":\"white\"}},\"type\":\"table\"}]},\"layout\":{\"annotationdefaults\":{\"arrowcolor\":\"#2a3f5f\",\"arrowhead\":0,\"arrowwidth\":1},\"autotypenumbers\":\"strict\",\"coloraxis\":{\"colorbar\":{\"outlinewidth\":0,\"ticks\":\"\"}},\"colorscale\":{\"diverging\":[[0,\"#8e0152\"],[0.1,\"#c51b7d\"],[0.2,\"#de77ae\"],[0.3,\"#f1b6da\"],[0.4,\"#fde0ef\"],[0.5,\"#f7f7f7\"],[0.6,\"#e6f5d0\"],[0.7,\"#b8e186\"],[0.8,\"#7fbc41\"],[0.9,\"#4d9221\"],[1,\"#276419\"]],\"sequential\":[[0.0,\"#0d0887\"],[0.1111111111111111,\"#46039f\"],[0.2222222222222222,\"#7201a8\"],[0.3333333333333333,\"#9c179e\"],[0.4444444444444444,\"#bd3786\"],[0.5555555555555556,\"#d8576b\"],[0.6666666666666666,\"#ed7953\"],[0.7777777777777778,\"#fb9f3a\"],[0.8888888888888888,\"#fdca26\"],[1.0,\"#f0f921\"]],\"sequentialminus\":[[0.0,\"#0d0887\"],[0.1111111111111111,\"#46039f\"],[0.2222222222222222,\"#7201a8\"],[0.3333333333333333,\"#9c179e\"],[0.4444444444444444,\"#bd3786\"],[0.5555555555555556,\"#d8576b\"],[0.6666666666666666,\"#ed7953\"],[0.7777777777777778,\"#fb9f3a\"],[0.8888888888888888,\"#fdca26\"],[1.0,\"#f0f921\"]]},\"colorway\":[\"#636efa\",\"#EF553B\",\"#00cc96\",\"#ab63fa\",\"#FFA15A\",\"#19d3f3\",\"#FF6692\",\"#B6E880\",\"#FF97FF\",\"#FECB52\"],\"font\":{\"color\":\"#2a3f5f\"},\"geo\":{\"bgcolor\":\"white\",\"lakecolor\":\"white\",\"landcolor\":\"#E5ECF6\",\"showlakes\":true,\"showland\":true,\"subunitcolor\":\"white\"},\"hoverlabel\":{\"align\":\"left\"},\"hovermode\":\"closest\",\"mapbox\":{\"style\":\"light\"},\"paper_bgcolor\":\"white\",\"plot_bgcolor\":\"#E5ECF6\",\"polar\":{\"angularaxis\":{\"gridcolor\":\"white\",\"linecolor\":\"white\",\"ticks\":\"\"},\"bgcolor\":\"#E5ECF6\",\"radialaxis\":{\"gridcolor\":\"white\",\"linecolor\":\"white\",\"ticks\":\"\"}},\"scene\":{\"xaxis\":{\"backgroundcolor\":\"#E5ECF6\",\"gridcolor\":\"white\",\"gridwidth\":2,\"linecolor\":\"white\",\"showbackground\":true,\"ticks\":\"\",\"zerolinecolor\":\"white\"},\"yaxis\":{\"backgroundcolor\":\"#E5ECF6\",\"gridcolor\":\"white\",\"gridwidth\":2,\"linecolor\":\"white\",\"showbackground\":true,\"ticks\":\"\",\"zerolinecolor\":\"white\"},\"zaxis\":{\"backgroundcolor\":\"#E5ECF6\",\"gridcolor\":\"white\",\"gridwidth\":2,\"linecolor\":\"white\",\"showbackground\":true,\"ticks\":\"\",\"zerolinecolor\":\"white\"}},\"shapedefaults\":{\"line\":{\"color\":\"#2a3f5f\"}},\"ternary\":{\"aaxis\":{\"gridcolor\":\"white\",\"linecolor\":\"white\",\"ticks\":\"\"},\"baxis\":{\"gridcolor\":\"white\",\"linecolor\":\"white\",\"ticks\":\"\"},\"bgcolor\":\"#E5ECF6\",\"caxis\":{\"gridcolor\":\"white\",\"linecolor\":\"white\",\"ticks\":\"\"}},\"title\":{\"x\":0.05},\"xaxis\":{\"automargin\":true,\"gridcolor\":\"white\",\"linecolor\":\"white\",\"ticks\":\"\",\"title\":{\"standoff\":15},\"zerolinecolor\":\"white\",\"zerolinewidth\":2},\"yaxis\":{\"automargin\":true,\"gridcolor\":\"white\",\"linecolor\":\"white\",\"ticks\":\"\",\"title\":{\"standoff\":15},\"zerolinecolor\":\"white\",\"zerolinewidth\":2}}},\"legend\":{\"tracegroupgap\":0},\"margin\":{\"t\":60}},                        {\"responsive\": true}                    ).then(function(){\n",
       "                            \n",
       "var gd = document.getElementById('636216d6-a2dd-4661-b54a-b2e3bd55fd1a');\n",
       "var x = new MutationObserver(function (mutations, observer) {{\n",
       "        var display = window.getComputedStyle(gd).display;\n",
       "        if (!display || display === 'none') {{\n",
       "            console.log([gd, 'removed!']);\n",
       "            Plotly.purge(gd);\n",
       "            observer.disconnect();\n",
       "        }}\n",
       "}});\n",
       "\n",
       "// Listen for the removal of the full notebook cells\n",
       "var notebookContainer = gd.closest('#notebook-container');\n",
       "if (notebookContainer) {{\n",
       "    x.observe(notebookContainer, {childList: true});\n",
       "}}\n",
       "\n",
       "// Listen for the clearing of the current output cell\n",
       "var outputEl = gd.closest('.output');\n",
       "if (outputEl) {{\n",
       "    x.observe(outputEl, {childList: true});\n",
       "}}\n",
       "\n",
       "                        })                };                });            </script>        </div>"
      ]
     },
     "metadata": {},
     "output_type": "display_data"
    }
   ],
   "source": [
    "# Show characters in each MBTI type in Marvel movies \n",
    "pd.set_option('mode.chained_assignment', None)\n",
    "marvel_charaters = movie_df[movie_df['movie'].str.contains('Marvel')].drop_duplicates(subset=['role'])\n",
    "marvel_charaters['value'] = 1\n",
    "marvel_charaters = marvel_charaters[['mbti', 'role', 'value']]\n",
    "\n",
    "fig = px.sunburst(marvel_charaters, path=['mbti', 'role'], values='value')\n",
    "fig.show()"
   ]
  },
  {
   "cell_type": "code",
   "execution_count": 71,
   "id": "cc554280",
   "metadata": {},
   "outputs": [
    {
     "data": {
      "application/vnd.plotly.v1+json": {
       "config": {
        "plotlyServerURL": "https://plot.ly"
       },
       "data": [
        {
         "branchvalues": "total",
         "domain": {
          "x": [
           0,
           1
          ],
          "y": [
           0,
           1
          ]
         },
         "hovertemplate": "labels=%{label}<br>value=%{value}<br>parent=%{parent}<br>id=%{id}<extra></extra>",
         "ids": [
          "ISTP/Aberforth Dumbledore",
          "ESTJ/Alastor \"Mad-Eye\" Moody",
          "INFJ/Albus Dumbledore",
          "ESFJ/Amos Diggory",
          "ESTP/Angelina Johnson",
          "INTP/Arthur Weasley",
          "ISTJ/Bane",
          "ENTP/Barty Crouch Jr.",
          "ESFP/Bellatrix Lestrange",
          "INFJ/Bem",
          "ISTP/Bill Weasley",
          "ESFJ/Cedric Diggory",
          "ISFJ/Cho Chang",
          "ESFP/Colin Creevey",
          "ESTJ/Corban Yaxley",
          "INTJ/Cordelia black",
          "ESTP/Cormac McLaggen",
          "ESTJ/Cornelius Fudge",
          "ISFP/Dean Thomas",
          "ESTJ/Death Eaters",
          "INFP/Dobby",
          "ESTJ/Dolores Umbridge",
          "ESTJ/Draco Malfoy",
          "ESFP/Dudley Dursley",
          "INFJ/Fawkes",
          "ESTP/Fenrir Greyback",
          "ISFJ/Filius Flitwick",
          "INTJ/Firenze",
          "ESFJ/Fleur Delacour",
          "ENTP/Fred Weasley",
          "INTP/Garrick Ollivander",
          "INFJ/Gellert Grindelwald",
          "ENTP/George Weasley",
          "ESFP/Gilderoy Lockhart",
          "ISFJ/Ginny Weasley",
          "ESFJ/Gregory Goyle",
          "ESTJ/Griphook",
          "ISFP/Harry Potter",
          "ESFJ/Hedwig",
          "ESTJ/Hermione Granger",
          "ESFJ/Horace Slughorn",
          "ESTP/James Potter",
          "ESFP/Lavender Brown",
          "ENFJ/Lily Evans",
          "INTP/Lorcan Scamander",
          "ESTJ/Lucius Malfoy",
          "INFP/Luna Lovegood",
          "ENFP/Lysander Scamander",
          "ESFJ/Madam Rosmerta",
          "ISTJ/Minerva McGonagall",
          "ISFP/Moaning Myrtle",
          "ESFJ/Molly Weasley",
          "ISFJ/Narcissa Malfoy",
          "ENFP/Nearly Headless Nick",
          "ISFJ/Neville Longbottom",
          "ENFP/Nymphadora Tonks",
          "ENTJ/Oliver Wood",
          "ESTJ/Olympe Maxime",
          "ESTJ/Pansy Parkinson",
          "ISFJ/Parvati Patil",
          "ISTJ/Percy Weasley",
          "ISFJ/Peter Pettigrew",
          "ESFJ/Petunia Dursley",
          "ISTJ/Pius Thicknesse",
          "ESFJ/Pomona Sprout",
          "ISFJ/Poppy Pomfrey",
          "ISFP/Quirinus Quirrell",
          "INFJ/Remus Lupin",
          "ENTP/Rita Skeeter",
          "ESTJ/Rolanda Hooch",
          "ESFP/Ron Weasley",
          "ISFP/Rubeus Hagrid",
          "ESTP/Samira Amaral",
          "INTJ/Severus Snape",
          "ESTP/Sirius Black",
          "ENTP/Sorting Hat",
          "INFP/Sybill Trelawney",
          "INTJ/Tom Riddle",
          "ESTJ/Vernon Dursley",
          "ISTP/Viktor Krum",
          "ESTP/Vincent Crabbe",
          "ENTJ/Voldemort",
          "ENFP/Xenophilius Lovegood",
          "XXXX/Yum",
          "ENFJ",
          "ENFP",
          "ENTJ",
          "ENTP",
          "ESFJ",
          "ESFP",
          "ESTJ",
          "ESTP",
          "INFJ",
          "INFP",
          "INTJ",
          "INTP",
          "ISFJ",
          "ISFP",
          "ISTJ",
          "ISTP",
          "XXXX"
         ],
         "labels": [
          "Aberforth Dumbledore",
          "Alastor \"Mad-Eye\" Moody",
          "Albus Dumbledore",
          "Amos Diggory",
          "Angelina Johnson",
          "Arthur Weasley",
          "Bane",
          "Barty Crouch Jr.",
          "Bellatrix Lestrange",
          "Bem",
          "Bill Weasley",
          "Cedric Diggory",
          "Cho Chang",
          "Colin Creevey",
          "Corban Yaxley",
          "Cordelia black",
          "Cormac McLaggen",
          "Cornelius Fudge",
          "Dean Thomas",
          "Death Eaters",
          "Dobby",
          "Dolores Umbridge",
          "Draco Malfoy",
          "Dudley Dursley",
          "Fawkes",
          "Fenrir Greyback",
          "Filius Flitwick",
          "Firenze",
          "Fleur Delacour",
          "Fred Weasley",
          "Garrick Ollivander",
          "Gellert Grindelwald",
          "George Weasley",
          "Gilderoy Lockhart",
          "Ginny Weasley",
          "Gregory Goyle",
          "Griphook",
          "Harry Potter",
          "Hedwig",
          "Hermione Granger",
          "Horace Slughorn",
          "James Potter",
          "Lavender Brown",
          "Lily Evans",
          "Lorcan Scamander",
          "Lucius Malfoy",
          "Luna Lovegood",
          "Lysander Scamander",
          "Madam Rosmerta",
          "Minerva McGonagall",
          "Moaning Myrtle",
          "Molly Weasley",
          "Narcissa Malfoy",
          "Nearly Headless Nick",
          "Neville Longbottom",
          "Nymphadora Tonks",
          "Oliver Wood",
          "Olympe Maxime",
          "Pansy Parkinson",
          "Parvati Patil",
          "Percy Weasley",
          "Peter Pettigrew",
          "Petunia Dursley",
          "Pius Thicknesse",
          "Pomona Sprout",
          "Poppy Pomfrey",
          "Quirinus Quirrell",
          "Remus Lupin",
          "Rita Skeeter",
          "Rolanda Hooch",
          "Ron Weasley",
          "Rubeus Hagrid",
          "Samira Amaral",
          "Severus Snape",
          "Sirius Black",
          "Sorting Hat",
          "Sybill Trelawney",
          "Tom Riddle",
          "Vernon Dursley",
          "Viktor Krum",
          "Vincent Crabbe",
          "Voldemort",
          "Xenophilius Lovegood",
          "Yum",
          "ENFJ",
          "ENFP",
          "ENTJ",
          "ENTP",
          "ESFJ",
          "ESFP",
          "ESTJ",
          "ESTP",
          "INFJ",
          "INFP",
          "INTJ",
          "INTP",
          "ISFJ",
          "ISFP",
          "ISTJ",
          "ISTP",
          "XXXX"
         ],
         "name": "",
         "parents": [
          "ISTP",
          "ESTJ",
          "INFJ",
          "ESFJ",
          "ESTP",
          "INTP",
          "ISTJ",
          "ENTP",
          "ESFP",
          "INFJ",
          "ISTP",
          "ESFJ",
          "ISFJ",
          "ESFP",
          "ESTJ",
          "INTJ",
          "ESTP",
          "ESTJ",
          "ISFP",
          "ESTJ",
          "INFP",
          "ESTJ",
          "ESTJ",
          "ESFP",
          "INFJ",
          "ESTP",
          "ISFJ",
          "INTJ",
          "ESFJ",
          "ENTP",
          "INTP",
          "INFJ",
          "ENTP",
          "ESFP",
          "ISFJ",
          "ESFJ",
          "ESTJ",
          "ISFP",
          "ESFJ",
          "ESTJ",
          "ESFJ",
          "ESTP",
          "ESFP",
          "ENFJ",
          "INTP",
          "ESTJ",
          "INFP",
          "ENFP",
          "ESFJ",
          "ISTJ",
          "ISFP",
          "ESFJ",
          "ISFJ",
          "ENFP",
          "ISFJ",
          "ENFP",
          "ENTJ",
          "ESTJ",
          "ESTJ",
          "ISFJ",
          "ISTJ",
          "ISFJ",
          "ESFJ",
          "ISTJ",
          "ESFJ",
          "ISFJ",
          "ISFP",
          "INFJ",
          "ENTP",
          "ESTJ",
          "ESFP",
          "ISFP",
          "ESTP",
          "INTJ",
          "ESTP",
          "ENTP",
          "INFP",
          "INTJ",
          "ESTJ",
          "ISTP",
          "ESTP",
          "ENTJ",
          "ENFP",
          "XXXX",
          "",
          "",
          "",
          "",
          "",
          "",
          "",
          "",
          "",
          "",
          "",
          "",
          "",
          "",
          "",
          "",
          ""
         ],
         "type": "sunburst",
         "values": [
          1,
          1,
          1,
          1,
          1,
          1,
          1,
          1,
          1,
          1,
          1,
          1,
          1,
          1,
          1,
          1,
          1,
          1,
          1,
          1,
          1,
          1,
          1,
          1,
          1,
          1,
          1,
          1,
          1,
          1,
          1,
          1,
          1,
          1,
          1,
          1,
          1,
          1,
          1,
          1,
          1,
          1,
          1,
          1,
          1,
          1,
          1,
          1,
          1,
          1,
          1,
          1,
          1,
          1,
          1,
          1,
          1,
          1,
          1,
          1,
          1,
          1,
          1,
          1,
          1,
          1,
          1,
          1,
          1,
          1,
          1,
          1,
          1,
          1,
          1,
          1,
          1,
          1,
          1,
          1,
          1,
          1,
          1,
          1,
          1,
          4,
          2,
          5,
          10,
          6,
          13,
          7,
          5,
          3,
          4,
          3,
          8,
          5,
          4,
          3,
          1
         ]
        }
       ],
       "layout": {
        "legend": {
         "tracegroupgap": 0
        },
        "margin": {
         "t": 60
        },
        "template": {
         "data": {
          "bar": [
           {
            "error_x": {
             "color": "#2a3f5f"
            },
            "error_y": {
             "color": "#2a3f5f"
            },
            "marker": {
             "line": {
              "color": "#E5ECF6",
              "width": 0.5
             },
             "pattern": {
              "fillmode": "overlay",
              "size": 10,
              "solidity": 0.2
             }
            },
            "type": "bar"
           }
          ],
          "barpolar": [
           {
            "marker": {
             "line": {
              "color": "#E5ECF6",
              "width": 0.5
             },
             "pattern": {
              "fillmode": "overlay",
              "size": 10,
              "solidity": 0.2
             }
            },
            "type": "barpolar"
           }
          ],
          "carpet": [
           {
            "aaxis": {
             "endlinecolor": "#2a3f5f",
             "gridcolor": "white",
             "linecolor": "white",
             "minorgridcolor": "white",
             "startlinecolor": "#2a3f5f"
            },
            "baxis": {
             "endlinecolor": "#2a3f5f",
             "gridcolor": "white",
             "linecolor": "white",
             "minorgridcolor": "white",
             "startlinecolor": "#2a3f5f"
            },
            "type": "carpet"
           }
          ],
          "choropleth": [
           {
            "colorbar": {
             "outlinewidth": 0,
             "ticks": ""
            },
            "type": "choropleth"
           }
          ],
          "contour": [
           {
            "colorbar": {
             "outlinewidth": 0,
             "ticks": ""
            },
            "colorscale": [
             [
              0,
              "#0d0887"
             ],
             [
              0.1111111111111111,
              "#46039f"
             ],
             [
              0.2222222222222222,
              "#7201a8"
             ],
             [
              0.3333333333333333,
              "#9c179e"
             ],
             [
              0.4444444444444444,
              "#bd3786"
             ],
             [
              0.5555555555555556,
              "#d8576b"
             ],
             [
              0.6666666666666666,
              "#ed7953"
             ],
             [
              0.7777777777777778,
              "#fb9f3a"
             ],
             [
              0.8888888888888888,
              "#fdca26"
             ],
             [
              1,
              "#f0f921"
             ]
            ],
            "type": "contour"
           }
          ],
          "contourcarpet": [
           {
            "colorbar": {
             "outlinewidth": 0,
             "ticks": ""
            },
            "type": "contourcarpet"
           }
          ],
          "heatmap": [
           {
            "colorbar": {
             "outlinewidth": 0,
             "ticks": ""
            },
            "colorscale": [
             [
              0,
              "#0d0887"
             ],
             [
              0.1111111111111111,
              "#46039f"
             ],
             [
              0.2222222222222222,
              "#7201a8"
             ],
             [
              0.3333333333333333,
              "#9c179e"
             ],
             [
              0.4444444444444444,
              "#bd3786"
             ],
             [
              0.5555555555555556,
              "#d8576b"
             ],
             [
              0.6666666666666666,
              "#ed7953"
             ],
             [
              0.7777777777777778,
              "#fb9f3a"
             ],
             [
              0.8888888888888888,
              "#fdca26"
             ],
             [
              1,
              "#f0f921"
             ]
            ],
            "type": "heatmap"
           }
          ],
          "heatmapgl": [
           {
            "colorbar": {
             "outlinewidth": 0,
             "ticks": ""
            },
            "colorscale": [
             [
              0,
              "#0d0887"
             ],
             [
              0.1111111111111111,
              "#46039f"
             ],
             [
              0.2222222222222222,
              "#7201a8"
             ],
             [
              0.3333333333333333,
              "#9c179e"
             ],
             [
              0.4444444444444444,
              "#bd3786"
             ],
             [
              0.5555555555555556,
              "#d8576b"
             ],
             [
              0.6666666666666666,
              "#ed7953"
             ],
             [
              0.7777777777777778,
              "#fb9f3a"
             ],
             [
              0.8888888888888888,
              "#fdca26"
             ],
             [
              1,
              "#f0f921"
             ]
            ],
            "type": "heatmapgl"
           }
          ],
          "histogram": [
           {
            "marker": {
             "pattern": {
              "fillmode": "overlay",
              "size": 10,
              "solidity": 0.2
             }
            },
            "type": "histogram"
           }
          ],
          "histogram2d": [
           {
            "colorbar": {
             "outlinewidth": 0,
             "ticks": ""
            },
            "colorscale": [
             [
              0,
              "#0d0887"
             ],
             [
              0.1111111111111111,
              "#46039f"
             ],
             [
              0.2222222222222222,
              "#7201a8"
             ],
             [
              0.3333333333333333,
              "#9c179e"
             ],
             [
              0.4444444444444444,
              "#bd3786"
             ],
             [
              0.5555555555555556,
              "#d8576b"
             ],
             [
              0.6666666666666666,
              "#ed7953"
             ],
             [
              0.7777777777777778,
              "#fb9f3a"
             ],
             [
              0.8888888888888888,
              "#fdca26"
             ],
             [
              1,
              "#f0f921"
             ]
            ],
            "type": "histogram2d"
           }
          ],
          "histogram2dcontour": [
           {
            "colorbar": {
             "outlinewidth": 0,
             "ticks": ""
            },
            "colorscale": [
             [
              0,
              "#0d0887"
             ],
             [
              0.1111111111111111,
              "#46039f"
             ],
             [
              0.2222222222222222,
              "#7201a8"
             ],
             [
              0.3333333333333333,
              "#9c179e"
             ],
             [
              0.4444444444444444,
              "#bd3786"
             ],
             [
              0.5555555555555556,
              "#d8576b"
             ],
             [
              0.6666666666666666,
              "#ed7953"
             ],
             [
              0.7777777777777778,
              "#fb9f3a"
             ],
             [
              0.8888888888888888,
              "#fdca26"
             ],
             [
              1,
              "#f0f921"
             ]
            ],
            "type": "histogram2dcontour"
           }
          ],
          "mesh3d": [
           {
            "colorbar": {
             "outlinewidth": 0,
             "ticks": ""
            },
            "type": "mesh3d"
           }
          ],
          "parcoords": [
           {
            "line": {
             "colorbar": {
              "outlinewidth": 0,
              "ticks": ""
             }
            },
            "type": "parcoords"
           }
          ],
          "pie": [
           {
            "automargin": true,
            "type": "pie"
           }
          ],
          "scatter": [
           {
            "marker": {
             "colorbar": {
              "outlinewidth": 0,
              "ticks": ""
             }
            },
            "type": "scatter"
           }
          ],
          "scatter3d": [
           {
            "line": {
             "colorbar": {
              "outlinewidth": 0,
              "ticks": ""
             }
            },
            "marker": {
             "colorbar": {
              "outlinewidth": 0,
              "ticks": ""
             }
            },
            "type": "scatter3d"
           }
          ],
          "scattercarpet": [
           {
            "marker": {
             "colorbar": {
              "outlinewidth": 0,
              "ticks": ""
             }
            },
            "type": "scattercarpet"
           }
          ],
          "scattergeo": [
           {
            "marker": {
             "colorbar": {
              "outlinewidth": 0,
              "ticks": ""
             }
            },
            "type": "scattergeo"
           }
          ],
          "scattergl": [
           {
            "marker": {
             "colorbar": {
              "outlinewidth": 0,
              "ticks": ""
             }
            },
            "type": "scattergl"
           }
          ],
          "scattermapbox": [
           {
            "marker": {
             "colorbar": {
              "outlinewidth": 0,
              "ticks": ""
             }
            },
            "type": "scattermapbox"
           }
          ],
          "scatterpolar": [
           {
            "marker": {
             "colorbar": {
              "outlinewidth": 0,
              "ticks": ""
             }
            },
            "type": "scatterpolar"
           }
          ],
          "scatterpolargl": [
           {
            "marker": {
             "colorbar": {
              "outlinewidth": 0,
              "ticks": ""
             }
            },
            "type": "scatterpolargl"
           }
          ],
          "scatterternary": [
           {
            "marker": {
             "colorbar": {
              "outlinewidth": 0,
              "ticks": ""
             }
            },
            "type": "scatterternary"
           }
          ],
          "surface": [
           {
            "colorbar": {
             "outlinewidth": 0,
             "ticks": ""
            },
            "colorscale": [
             [
              0,
              "#0d0887"
             ],
             [
              0.1111111111111111,
              "#46039f"
             ],
             [
              0.2222222222222222,
              "#7201a8"
             ],
             [
              0.3333333333333333,
              "#9c179e"
             ],
             [
              0.4444444444444444,
              "#bd3786"
             ],
             [
              0.5555555555555556,
              "#d8576b"
             ],
             [
              0.6666666666666666,
              "#ed7953"
             ],
             [
              0.7777777777777778,
              "#fb9f3a"
             ],
             [
              0.8888888888888888,
              "#fdca26"
             ],
             [
              1,
              "#f0f921"
             ]
            ],
            "type": "surface"
           }
          ],
          "table": [
           {
            "cells": {
             "fill": {
              "color": "#EBF0F8"
             },
             "line": {
              "color": "white"
             }
            },
            "header": {
             "fill": {
              "color": "#C8D4E3"
             },
             "line": {
              "color": "white"
             }
            },
            "type": "table"
           }
          ]
         },
         "layout": {
          "annotationdefaults": {
           "arrowcolor": "#2a3f5f",
           "arrowhead": 0,
           "arrowwidth": 1
          },
          "autotypenumbers": "strict",
          "coloraxis": {
           "colorbar": {
            "outlinewidth": 0,
            "ticks": ""
           }
          },
          "colorscale": {
           "diverging": [
            [
             0,
             "#8e0152"
            ],
            [
             0.1,
             "#c51b7d"
            ],
            [
             0.2,
             "#de77ae"
            ],
            [
             0.3,
             "#f1b6da"
            ],
            [
             0.4,
             "#fde0ef"
            ],
            [
             0.5,
             "#f7f7f7"
            ],
            [
             0.6,
             "#e6f5d0"
            ],
            [
             0.7,
             "#b8e186"
            ],
            [
             0.8,
             "#7fbc41"
            ],
            [
             0.9,
             "#4d9221"
            ],
            [
             1,
             "#276419"
            ]
           ],
           "sequential": [
            [
             0,
             "#0d0887"
            ],
            [
             0.1111111111111111,
             "#46039f"
            ],
            [
             0.2222222222222222,
             "#7201a8"
            ],
            [
             0.3333333333333333,
             "#9c179e"
            ],
            [
             0.4444444444444444,
             "#bd3786"
            ],
            [
             0.5555555555555556,
             "#d8576b"
            ],
            [
             0.6666666666666666,
             "#ed7953"
            ],
            [
             0.7777777777777778,
             "#fb9f3a"
            ],
            [
             0.8888888888888888,
             "#fdca26"
            ],
            [
             1,
             "#f0f921"
            ]
           ],
           "sequentialminus": [
            [
             0,
             "#0d0887"
            ],
            [
             0.1111111111111111,
             "#46039f"
            ],
            [
             0.2222222222222222,
             "#7201a8"
            ],
            [
             0.3333333333333333,
             "#9c179e"
            ],
            [
             0.4444444444444444,
             "#bd3786"
            ],
            [
             0.5555555555555556,
             "#d8576b"
            ],
            [
             0.6666666666666666,
             "#ed7953"
            ],
            [
             0.7777777777777778,
             "#fb9f3a"
            ],
            [
             0.8888888888888888,
             "#fdca26"
            ],
            [
             1,
             "#f0f921"
            ]
           ]
          },
          "colorway": [
           "#636efa",
           "#EF553B",
           "#00cc96",
           "#ab63fa",
           "#FFA15A",
           "#19d3f3",
           "#FF6692",
           "#B6E880",
           "#FF97FF",
           "#FECB52"
          ],
          "font": {
           "color": "#2a3f5f"
          },
          "geo": {
           "bgcolor": "white",
           "lakecolor": "white",
           "landcolor": "#E5ECF6",
           "showlakes": true,
           "showland": true,
           "subunitcolor": "white"
          },
          "hoverlabel": {
           "align": "left"
          },
          "hovermode": "closest",
          "mapbox": {
           "style": "light"
          },
          "paper_bgcolor": "white",
          "plot_bgcolor": "#E5ECF6",
          "polar": {
           "angularaxis": {
            "gridcolor": "white",
            "linecolor": "white",
            "ticks": ""
           },
           "bgcolor": "#E5ECF6",
           "radialaxis": {
            "gridcolor": "white",
            "linecolor": "white",
            "ticks": ""
           }
          },
          "scene": {
           "xaxis": {
            "backgroundcolor": "#E5ECF6",
            "gridcolor": "white",
            "gridwidth": 2,
            "linecolor": "white",
            "showbackground": true,
            "ticks": "",
            "zerolinecolor": "white"
           },
           "yaxis": {
            "backgroundcolor": "#E5ECF6",
            "gridcolor": "white",
            "gridwidth": 2,
            "linecolor": "white",
            "showbackground": true,
            "ticks": "",
            "zerolinecolor": "white"
           },
           "zaxis": {
            "backgroundcolor": "#E5ECF6",
            "gridcolor": "white",
            "gridwidth": 2,
            "linecolor": "white",
            "showbackground": true,
            "ticks": "",
            "zerolinecolor": "white"
           }
          },
          "shapedefaults": {
           "line": {
            "color": "#2a3f5f"
           }
          },
          "ternary": {
           "aaxis": {
            "gridcolor": "white",
            "linecolor": "white",
            "ticks": ""
           },
           "baxis": {
            "gridcolor": "white",
            "linecolor": "white",
            "ticks": ""
           },
           "bgcolor": "#E5ECF6",
           "caxis": {
            "gridcolor": "white",
            "linecolor": "white",
            "ticks": ""
           }
          },
          "title": {
           "x": 0.05
          },
          "xaxis": {
           "automargin": true,
           "gridcolor": "white",
           "linecolor": "white",
           "ticks": "",
           "title": {
            "standoff": 15
           },
           "zerolinecolor": "white",
           "zerolinewidth": 2
          },
          "yaxis": {
           "automargin": true,
           "gridcolor": "white",
           "linecolor": "white",
           "ticks": "",
           "title": {
            "standoff": 15
           },
           "zerolinecolor": "white",
           "zerolinewidth": 2
          }
         }
        }
       }
      },
      "text/html": [
       "<div>                            <div id=\"f29e9d01-fd24-4cc1-9e4b-4efdfdf42419\" class=\"plotly-graph-div\" style=\"height:525px; width:100%;\"></div>            <script type=\"text/javascript\">                require([\"plotly\"], function(Plotly) {                    window.PLOTLYENV=window.PLOTLYENV || {};                                    if (document.getElementById(\"f29e9d01-fd24-4cc1-9e4b-4efdfdf42419\")) {                    Plotly.newPlot(                        \"f29e9d01-fd24-4cc1-9e4b-4efdfdf42419\",                        [{\"branchvalues\":\"total\",\"domain\":{\"x\":[0.0,1.0],\"y\":[0.0,1.0]},\"hovertemplate\":\"labels=%{label}<br>value=%{value}<br>parent=%{parent}<br>id=%{id}<extra></extra>\",\"ids\":[\"ISTP/Aberforth Dumbledore\",\"ESTJ/Alastor \\\"Mad-Eye\\\" Moody\",\"INFJ/Albus Dumbledore\",\"ESFJ/Amos Diggory\",\"ESTP/Angelina Johnson\",\"INTP/Arthur Weasley\",\"ISTJ/Bane\",\"ENTP/Barty Crouch Jr.\",\"ESFP/Bellatrix Lestrange\",\"INFJ/Bem\",\"ISTP/Bill Weasley\",\"ESFJ/Cedric Diggory\",\"ISFJ/Cho Chang\",\"ESFP/Colin Creevey\",\"ESTJ/Corban Yaxley\",\"INTJ/Cordelia black\",\"ESTP/Cormac McLaggen\",\"ESTJ/Cornelius Fudge\",\"ISFP/Dean Thomas\",\"ESTJ/Death Eaters\",\"INFP/Dobby\",\"ESTJ/Dolores Umbridge\",\"ESTJ/Draco Malfoy\",\"ESFP/Dudley Dursley\",\"INFJ/Fawkes\",\"ESTP/Fenrir Greyback\",\"ISFJ/Filius Flitwick\",\"INTJ/Firenze\",\"ESFJ/Fleur Delacour\",\"ENTP/Fred Weasley\",\"INTP/Garrick Ollivander\",\"INFJ/Gellert Grindelwald\",\"ENTP/George Weasley\",\"ESFP/Gilderoy Lockhart\",\"ISFJ/Ginny Weasley\",\"ESFJ/Gregory Goyle\",\"ESTJ/Griphook\",\"ISFP/Harry Potter\",\"ESFJ/Hedwig\",\"ESTJ/Hermione Granger\",\"ESFJ/Horace Slughorn\",\"ESTP/James Potter\",\"ESFP/Lavender Brown\",\"ENFJ/Lily Evans\",\"INTP/Lorcan Scamander\",\"ESTJ/Lucius Malfoy\",\"INFP/Luna Lovegood\",\"ENFP/Lysander Scamander\",\"ESFJ/Madam Rosmerta\",\"ISTJ/Minerva McGonagall\",\"ISFP/Moaning Myrtle\",\"ESFJ/Molly Weasley\",\"ISFJ/Narcissa Malfoy\",\"ENFP/Nearly Headless Nick\",\"ISFJ/Neville Longbottom\",\"ENFP/Nymphadora Tonks\",\"ENTJ/Oliver Wood\",\"ESTJ/Olympe Maxime\",\"ESTJ/Pansy Parkinson\",\"ISFJ/Parvati Patil\",\"ISTJ/Percy Weasley\",\"ISFJ/Peter Pettigrew\",\"ESFJ/Petunia Dursley\",\"ISTJ/Pius Thicknesse\",\"ESFJ/Pomona Sprout\",\"ISFJ/Poppy Pomfrey\",\"ISFP/Quirinus Quirrell\",\"INFJ/Remus Lupin\",\"ENTP/Rita Skeeter\",\"ESTJ/Rolanda Hooch\",\"ESFP/Ron Weasley\",\"ISFP/Rubeus Hagrid\",\"ESTP/Samira Amaral\",\"INTJ/Severus Snape\",\"ESTP/Sirius Black\",\"ENTP/Sorting Hat\",\"INFP/Sybill Trelawney\",\"INTJ/Tom Riddle\",\"ESTJ/Vernon Dursley\",\"ISTP/Viktor Krum\",\"ESTP/Vincent Crabbe\",\"ENTJ/Voldemort\",\"ENFP/Xenophilius Lovegood\",\"XXXX/Yum\",\"ENFJ\",\"ENFP\",\"ENTJ\",\"ENTP\",\"ESFJ\",\"ESFP\",\"ESTJ\",\"ESTP\",\"INFJ\",\"INFP\",\"INTJ\",\"INTP\",\"ISFJ\",\"ISFP\",\"ISTJ\",\"ISTP\",\"XXXX\"],\"labels\":[\"Aberforth Dumbledore\",\"Alastor \\\"Mad-Eye\\\" Moody\",\"Albus Dumbledore\",\"Amos Diggory\",\"Angelina Johnson\",\"Arthur Weasley\",\"Bane\",\"Barty Crouch Jr.\",\"Bellatrix Lestrange\",\"Bem\",\"Bill Weasley\",\"Cedric Diggory\",\"Cho Chang\",\"Colin Creevey\",\"Corban Yaxley\",\"Cordelia black\",\"Cormac McLaggen\",\"Cornelius Fudge\",\"Dean Thomas\",\"Death Eaters\",\"Dobby\",\"Dolores Umbridge\",\"Draco Malfoy\",\"Dudley Dursley\",\"Fawkes\",\"Fenrir Greyback\",\"Filius Flitwick\",\"Firenze\",\"Fleur Delacour\",\"Fred Weasley\",\"Garrick Ollivander\",\"Gellert Grindelwald\",\"George Weasley\",\"Gilderoy Lockhart\",\"Ginny Weasley\",\"Gregory Goyle\",\"Griphook\",\"Harry Potter\",\"Hedwig\",\"Hermione Granger\",\"Horace Slughorn\",\"James Potter\",\"Lavender Brown\",\"Lily Evans\",\"Lorcan Scamander\",\"Lucius Malfoy\",\"Luna Lovegood\",\"Lysander Scamander\",\"Madam Rosmerta\",\"Minerva McGonagall\",\"Moaning Myrtle\",\"Molly Weasley\",\"Narcissa Malfoy\",\"Nearly Headless Nick\",\"Neville Longbottom\",\"Nymphadora Tonks\",\"Oliver Wood\",\"Olympe Maxime\",\"Pansy Parkinson\",\"Parvati Patil\",\"Percy Weasley\",\"Peter Pettigrew\",\"Petunia Dursley\",\"Pius Thicknesse\",\"Pomona Sprout\",\"Poppy Pomfrey\",\"Quirinus Quirrell\",\"Remus Lupin\",\"Rita Skeeter\",\"Rolanda Hooch\",\"Ron Weasley\",\"Rubeus Hagrid\",\"Samira Amaral\",\"Severus Snape\",\"Sirius Black\",\"Sorting Hat\",\"Sybill Trelawney\",\"Tom Riddle\",\"Vernon Dursley\",\"Viktor Krum\",\"Vincent Crabbe\",\"Voldemort\",\"Xenophilius Lovegood\",\"Yum\",\"ENFJ\",\"ENFP\",\"ENTJ\",\"ENTP\",\"ESFJ\",\"ESFP\",\"ESTJ\",\"ESTP\",\"INFJ\",\"INFP\",\"INTJ\",\"INTP\",\"ISFJ\",\"ISFP\",\"ISTJ\",\"ISTP\",\"XXXX\"],\"name\":\"\",\"parents\":[\"ISTP\",\"ESTJ\",\"INFJ\",\"ESFJ\",\"ESTP\",\"INTP\",\"ISTJ\",\"ENTP\",\"ESFP\",\"INFJ\",\"ISTP\",\"ESFJ\",\"ISFJ\",\"ESFP\",\"ESTJ\",\"INTJ\",\"ESTP\",\"ESTJ\",\"ISFP\",\"ESTJ\",\"INFP\",\"ESTJ\",\"ESTJ\",\"ESFP\",\"INFJ\",\"ESTP\",\"ISFJ\",\"INTJ\",\"ESFJ\",\"ENTP\",\"INTP\",\"INFJ\",\"ENTP\",\"ESFP\",\"ISFJ\",\"ESFJ\",\"ESTJ\",\"ISFP\",\"ESFJ\",\"ESTJ\",\"ESFJ\",\"ESTP\",\"ESFP\",\"ENFJ\",\"INTP\",\"ESTJ\",\"INFP\",\"ENFP\",\"ESFJ\",\"ISTJ\",\"ISFP\",\"ESFJ\",\"ISFJ\",\"ENFP\",\"ISFJ\",\"ENFP\",\"ENTJ\",\"ESTJ\",\"ESTJ\",\"ISFJ\",\"ISTJ\",\"ISFJ\",\"ESFJ\",\"ISTJ\",\"ESFJ\",\"ISFJ\",\"ISFP\",\"INFJ\",\"ENTP\",\"ESTJ\",\"ESFP\",\"ISFP\",\"ESTP\",\"INTJ\",\"ESTP\",\"ENTP\",\"INFP\",\"INTJ\",\"ESTJ\",\"ISTP\",\"ESTP\",\"ENTJ\",\"ENFP\",\"XXXX\",\"\",\"\",\"\",\"\",\"\",\"\",\"\",\"\",\"\",\"\",\"\",\"\",\"\",\"\",\"\",\"\",\"\"],\"values\":[1,1,1,1,1,1,1,1,1,1,1,1,1,1,1,1,1,1,1,1,1,1,1,1,1,1,1,1,1,1,1,1,1,1,1,1,1,1,1,1,1,1,1,1,1,1,1,1,1,1,1,1,1,1,1,1,1,1,1,1,1,1,1,1,1,1,1,1,1,1,1,1,1,1,1,1,1,1,1,1,1,1,1,1,1,4,2,5,10,6,13,7,5,3,4,3,8,5,4,3,1],\"type\":\"sunburst\"}],                        {\"template\":{\"data\":{\"bar\":[{\"error_x\":{\"color\":\"#2a3f5f\"},\"error_y\":{\"color\":\"#2a3f5f\"},\"marker\":{\"line\":{\"color\":\"#E5ECF6\",\"width\":0.5},\"pattern\":{\"fillmode\":\"overlay\",\"size\":10,\"solidity\":0.2}},\"type\":\"bar\"}],\"barpolar\":[{\"marker\":{\"line\":{\"color\":\"#E5ECF6\",\"width\":0.5},\"pattern\":{\"fillmode\":\"overlay\",\"size\":10,\"solidity\":0.2}},\"type\":\"barpolar\"}],\"carpet\":[{\"aaxis\":{\"endlinecolor\":\"#2a3f5f\",\"gridcolor\":\"white\",\"linecolor\":\"white\",\"minorgridcolor\":\"white\",\"startlinecolor\":\"#2a3f5f\"},\"baxis\":{\"endlinecolor\":\"#2a3f5f\",\"gridcolor\":\"white\",\"linecolor\":\"white\",\"minorgridcolor\":\"white\",\"startlinecolor\":\"#2a3f5f\"},\"type\":\"carpet\"}],\"choropleth\":[{\"colorbar\":{\"outlinewidth\":0,\"ticks\":\"\"},\"type\":\"choropleth\"}],\"contour\":[{\"colorbar\":{\"outlinewidth\":0,\"ticks\":\"\"},\"colorscale\":[[0.0,\"#0d0887\"],[0.1111111111111111,\"#46039f\"],[0.2222222222222222,\"#7201a8\"],[0.3333333333333333,\"#9c179e\"],[0.4444444444444444,\"#bd3786\"],[0.5555555555555556,\"#d8576b\"],[0.6666666666666666,\"#ed7953\"],[0.7777777777777778,\"#fb9f3a\"],[0.8888888888888888,\"#fdca26\"],[1.0,\"#f0f921\"]],\"type\":\"contour\"}],\"contourcarpet\":[{\"colorbar\":{\"outlinewidth\":0,\"ticks\":\"\"},\"type\":\"contourcarpet\"}],\"heatmap\":[{\"colorbar\":{\"outlinewidth\":0,\"ticks\":\"\"},\"colorscale\":[[0.0,\"#0d0887\"],[0.1111111111111111,\"#46039f\"],[0.2222222222222222,\"#7201a8\"],[0.3333333333333333,\"#9c179e\"],[0.4444444444444444,\"#bd3786\"],[0.5555555555555556,\"#d8576b\"],[0.6666666666666666,\"#ed7953\"],[0.7777777777777778,\"#fb9f3a\"],[0.8888888888888888,\"#fdca26\"],[1.0,\"#f0f921\"]],\"type\":\"heatmap\"}],\"heatmapgl\":[{\"colorbar\":{\"outlinewidth\":0,\"ticks\":\"\"},\"colorscale\":[[0.0,\"#0d0887\"],[0.1111111111111111,\"#46039f\"],[0.2222222222222222,\"#7201a8\"],[0.3333333333333333,\"#9c179e\"],[0.4444444444444444,\"#bd3786\"],[0.5555555555555556,\"#d8576b\"],[0.6666666666666666,\"#ed7953\"],[0.7777777777777778,\"#fb9f3a\"],[0.8888888888888888,\"#fdca26\"],[1.0,\"#f0f921\"]],\"type\":\"heatmapgl\"}],\"histogram\":[{\"marker\":{\"pattern\":{\"fillmode\":\"overlay\",\"size\":10,\"solidity\":0.2}},\"type\":\"histogram\"}],\"histogram2d\":[{\"colorbar\":{\"outlinewidth\":0,\"ticks\":\"\"},\"colorscale\":[[0.0,\"#0d0887\"],[0.1111111111111111,\"#46039f\"],[0.2222222222222222,\"#7201a8\"],[0.3333333333333333,\"#9c179e\"],[0.4444444444444444,\"#bd3786\"],[0.5555555555555556,\"#d8576b\"],[0.6666666666666666,\"#ed7953\"],[0.7777777777777778,\"#fb9f3a\"],[0.8888888888888888,\"#fdca26\"],[1.0,\"#f0f921\"]],\"type\":\"histogram2d\"}],\"histogram2dcontour\":[{\"colorbar\":{\"outlinewidth\":0,\"ticks\":\"\"},\"colorscale\":[[0.0,\"#0d0887\"],[0.1111111111111111,\"#46039f\"],[0.2222222222222222,\"#7201a8\"],[0.3333333333333333,\"#9c179e\"],[0.4444444444444444,\"#bd3786\"],[0.5555555555555556,\"#d8576b\"],[0.6666666666666666,\"#ed7953\"],[0.7777777777777778,\"#fb9f3a\"],[0.8888888888888888,\"#fdca26\"],[1.0,\"#f0f921\"]],\"type\":\"histogram2dcontour\"}],\"mesh3d\":[{\"colorbar\":{\"outlinewidth\":0,\"ticks\":\"\"},\"type\":\"mesh3d\"}],\"parcoords\":[{\"line\":{\"colorbar\":{\"outlinewidth\":0,\"ticks\":\"\"}},\"type\":\"parcoords\"}],\"pie\":[{\"automargin\":true,\"type\":\"pie\"}],\"scatter\":[{\"marker\":{\"colorbar\":{\"outlinewidth\":0,\"ticks\":\"\"}},\"type\":\"scatter\"}],\"scatter3d\":[{\"line\":{\"colorbar\":{\"outlinewidth\":0,\"ticks\":\"\"}},\"marker\":{\"colorbar\":{\"outlinewidth\":0,\"ticks\":\"\"}},\"type\":\"scatter3d\"}],\"scattercarpet\":[{\"marker\":{\"colorbar\":{\"outlinewidth\":0,\"ticks\":\"\"}},\"type\":\"scattercarpet\"}],\"scattergeo\":[{\"marker\":{\"colorbar\":{\"outlinewidth\":0,\"ticks\":\"\"}},\"type\":\"scattergeo\"}],\"scattergl\":[{\"marker\":{\"colorbar\":{\"outlinewidth\":0,\"ticks\":\"\"}},\"type\":\"scattergl\"}],\"scattermapbox\":[{\"marker\":{\"colorbar\":{\"outlinewidth\":0,\"ticks\":\"\"}},\"type\":\"scattermapbox\"}],\"scatterpolar\":[{\"marker\":{\"colorbar\":{\"outlinewidth\":0,\"ticks\":\"\"}},\"type\":\"scatterpolar\"}],\"scatterpolargl\":[{\"marker\":{\"colorbar\":{\"outlinewidth\":0,\"ticks\":\"\"}},\"type\":\"scatterpolargl\"}],\"scatterternary\":[{\"marker\":{\"colorbar\":{\"outlinewidth\":0,\"ticks\":\"\"}},\"type\":\"scatterternary\"}],\"surface\":[{\"colorbar\":{\"outlinewidth\":0,\"ticks\":\"\"},\"colorscale\":[[0.0,\"#0d0887\"],[0.1111111111111111,\"#46039f\"],[0.2222222222222222,\"#7201a8\"],[0.3333333333333333,\"#9c179e\"],[0.4444444444444444,\"#bd3786\"],[0.5555555555555556,\"#d8576b\"],[0.6666666666666666,\"#ed7953\"],[0.7777777777777778,\"#fb9f3a\"],[0.8888888888888888,\"#fdca26\"],[1.0,\"#f0f921\"]],\"type\":\"surface\"}],\"table\":[{\"cells\":{\"fill\":{\"color\":\"#EBF0F8\"},\"line\":{\"color\":\"white\"}},\"header\":{\"fill\":{\"color\":\"#C8D4E3\"},\"line\":{\"color\":\"white\"}},\"type\":\"table\"}]},\"layout\":{\"annotationdefaults\":{\"arrowcolor\":\"#2a3f5f\",\"arrowhead\":0,\"arrowwidth\":1},\"autotypenumbers\":\"strict\",\"coloraxis\":{\"colorbar\":{\"outlinewidth\":0,\"ticks\":\"\"}},\"colorscale\":{\"diverging\":[[0,\"#8e0152\"],[0.1,\"#c51b7d\"],[0.2,\"#de77ae\"],[0.3,\"#f1b6da\"],[0.4,\"#fde0ef\"],[0.5,\"#f7f7f7\"],[0.6,\"#e6f5d0\"],[0.7,\"#b8e186\"],[0.8,\"#7fbc41\"],[0.9,\"#4d9221\"],[1,\"#276419\"]],\"sequential\":[[0.0,\"#0d0887\"],[0.1111111111111111,\"#46039f\"],[0.2222222222222222,\"#7201a8\"],[0.3333333333333333,\"#9c179e\"],[0.4444444444444444,\"#bd3786\"],[0.5555555555555556,\"#d8576b\"],[0.6666666666666666,\"#ed7953\"],[0.7777777777777778,\"#fb9f3a\"],[0.8888888888888888,\"#fdca26\"],[1.0,\"#f0f921\"]],\"sequentialminus\":[[0.0,\"#0d0887\"],[0.1111111111111111,\"#46039f\"],[0.2222222222222222,\"#7201a8\"],[0.3333333333333333,\"#9c179e\"],[0.4444444444444444,\"#bd3786\"],[0.5555555555555556,\"#d8576b\"],[0.6666666666666666,\"#ed7953\"],[0.7777777777777778,\"#fb9f3a\"],[0.8888888888888888,\"#fdca26\"],[1.0,\"#f0f921\"]]},\"colorway\":[\"#636efa\",\"#EF553B\",\"#00cc96\",\"#ab63fa\",\"#FFA15A\",\"#19d3f3\",\"#FF6692\",\"#B6E880\",\"#FF97FF\",\"#FECB52\"],\"font\":{\"color\":\"#2a3f5f\"},\"geo\":{\"bgcolor\":\"white\",\"lakecolor\":\"white\",\"landcolor\":\"#E5ECF6\",\"showlakes\":true,\"showland\":true,\"subunitcolor\":\"white\"},\"hoverlabel\":{\"align\":\"left\"},\"hovermode\":\"closest\",\"mapbox\":{\"style\":\"light\"},\"paper_bgcolor\":\"white\",\"plot_bgcolor\":\"#E5ECF6\",\"polar\":{\"angularaxis\":{\"gridcolor\":\"white\",\"linecolor\":\"white\",\"ticks\":\"\"},\"bgcolor\":\"#E5ECF6\",\"radialaxis\":{\"gridcolor\":\"white\",\"linecolor\":\"white\",\"ticks\":\"\"}},\"scene\":{\"xaxis\":{\"backgroundcolor\":\"#E5ECF6\",\"gridcolor\":\"white\",\"gridwidth\":2,\"linecolor\":\"white\",\"showbackground\":true,\"ticks\":\"\",\"zerolinecolor\":\"white\"},\"yaxis\":{\"backgroundcolor\":\"#E5ECF6\",\"gridcolor\":\"white\",\"gridwidth\":2,\"linecolor\":\"white\",\"showbackground\":true,\"ticks\":\"\",\"zerolinecolor\":\"white\"},\"zaxis\":{\"backgroundcolor\":\"#E5ECF6\",\"gridcolor\":\"white\",\"gridwidth\":2,\"linecolor\":\"white\",\"showbackground\":true,\"ticks\":\"\",\"zerolinecolor\":\"white\"}},\"shapedefaults\":{\"line\":{\"color\":\"#2a3f5f\"}},\"ternary\":{\"aaxis\":{\"gridcolor\":\"white\",\"linecolor\":\"white\",\"ticks\":\"\"},\"baxis\":{\"gridcolor\":\"white\",\"linecolor\":\"white\",\"ticks\":\"\"},\"bgcolor\":\"#E5ECF6\",\"caxis\":{\"gridcolor\":\"white\",\"linecolor\":\"white\",\"ticks\":\"\"}},\"title\":{\"x\":0.05},\"xaxis\":{\"automargin\":true,\"gridcolor\":\"white\",\"linecolor\":\"white\",\"ticks\":\"\",\"title\":{\"standoff\":15},\"zerolinecolor\":\"white\",\"zerolinewidth\":2},\"yaxis\":{\"automargin\":true,\"gridcolor\":\"white\",\"linecolor\":\"white\",\"ticks\":\"\",\"title\":{\"standoff\":15},\"zerolinecolor\":\"white\",\"zerolinewidth\":2}}},\"legend\":{\"tracegroupgap\":0},\"margin\":{\"t\":60}},                        {\"responsive\": true}                    ).then(function(){\n",
       "                            \n",
       "var gd = document.getElementById('f29e9d01-fd24-4cc1-9e4b-4efdfdf42419');\n",
       "var x = new MutationObserver(function (mutations, observer) {{\n",
       "        var display = window.getComputedStyle(gd).display;\n",
       "        if (!display || display === 'none') {{\n",
       "            console.log([gd, 'removed!']);\n",
       "            Plotly.purge(gd);\n",
       "            observer.disconnect();\n",
       "        }}\n",
       "}});\n",
       "\n",
       "// Listen for the removal of the full notebook cells\n",
       "var notebookContainer = gd.closest('#notebook-container');\n",
       "if (notebookContainer) {{\n",
       "    x.observe(notebookContainer, {childList: true});\n",
       "}}\n",
       "\n",
       "// Listen for the clearing of the current output cell\n",
       "var outputEl = gd.closest('.output');\n",
       "if (outputEl) {{\n",
       "    x.observe(outputEl, {childList: true});\n",
       "}}\n",
       "\n",
       "                        })                };                });            </script>        </div>"
      ]
     },
     "metadata": {},
     "output_type": "display_data"
    }
   ],
   "source": [
    "# Show characters in each MBTI type in Harry Potter\n",
    "pd.set_option('mode.chained_assignment', None)\n",
    "hp_charaters = movie_df[movie_df['movie'].str.contains('Harry Potter')].drop_duplicates(subset=['role'])\n",
    "hp_charaters['value'] = 1\n",
    "hp_charaters = hp_charaters[['mbti', 'role', 'value']]\n",
    "\n",
    "fig = px.sunburst(hp_charaters, path=['mbti', 'role'], values='value')\n",
    "fig.show()"
   ]
  },
  {
   "cell_type": "markdown",
   "id": "e04e966a",
   "metadata": {},
   "source": [
    "# Birthday dataset"
   ]
  },
  {
   "cell_type": "code",
   "execution_count": null,
   "id": "58307ca7",
   "metadata": {},
   "outputs": [],
   "source": []
  }
 ],
 "metadata": {
  "kernelspec": {
   "display_name": "Python 3 (ipykernel)",
   "language": "python",
   "name": "python3"
  },
  "language_info": {
   "codemirror_mode": {
    "name": "ipython",
    "version": 3
   },
   "file_extension": ".py",
   "mimetype": "text/x-python",
   "name": "python",
   "nbconvert_exporter": "python",
   "pygments_lexer": "ipython3",
   "version": "3.9.6"
  },
  "toc": {
   "base_numbering": 1,
   "nav_menu": {},
   "number_sections": true,
   "sideBar": true,
   "skip_h1_title": false,
   "title_cell": "Table of Contents",
   "title_sidebar": "Contents",
   "toc_cell": false,
   "toc_position": {},
   "toc_section_display": true,
   "toc_window_display": false
  }
 },
 "nbformat": 4,
 "nbformat_minor": 5
}
