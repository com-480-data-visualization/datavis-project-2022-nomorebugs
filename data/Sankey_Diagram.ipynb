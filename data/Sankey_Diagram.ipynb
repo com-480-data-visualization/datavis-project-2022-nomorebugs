{
 "cells": [
  {
   "cell_type": "code",
   "execution_count": 92,
   "id": "8544845d",
   "metadata": {},
   "outputs": [],
   "source": [
    "import pandas as pd\n",
    "import plotly.express as px"
   ]
  },
  {
   "cell_type": "code",
   "execution_count": 93,
   "id": "7aa0e3bd",
   "metadata": {},
   "outputs": [
    {
     "data": {
      "text/html": [
       "<div>\n",
       "<style scoped>\n",
       "    .dataframe tbody tr th:only-of-type {\n",
       "        vertical-align: middle;\n",
       "    }\n",
       "\n",
       "    .dataframe tbody tr th {\n",
       "        vertical-align: top;\n",
       "    }\n",
       "\n",
       "    .dataframe thead th {\n",
       "        text-align: right;\n",
       "    }\n",
       "</style>\n",
       "<table border=\"1\" class=\"dataframe\">\n",
       "  <thead>\n",
       "    <tr style=\"text-align: right;\">\n",
       "      <th></th>\n",
       "      <th>Country</th>\n",
       "      <th>ESTJ-A</th>\n",
       "      <th>ESFJ-A</th>\n",
       "      <th>INFP-T</th>\n",
       "      <th>ESFJ-T</th>\n",
       "      <th>ENFP-T</th>\n",
       "      <th>ENFP-A</th>\n",
       "      <th>ESTJ-T</th>\n",
       "      <th>ISFJ-T</th>\n",
       "      <th>ENFJ-A</th>\n",
       "      <th>...</th>\n",
       "      <th>INTP-A</th>\n",
       "      <th>ENTP-T</th>\n",
       "      <th>ISTP-T</th>\n",
       "      <th>ENTJ-T</th>\n",
       "      <th>ISTP-A</th>\n",
       "      <th>INFP-A</th>\n",
       "      <th>ENFJ-T</th>\n",
       "      <th>INTJ-A</th>\n",
       "      <th>ISFP-A</th>\n",
       "      <th>INFJ-A</th>\n",
       "    </tr>\n",
       "  </thead>\n",
       "  <tbody>\n",
       "    <tr>\n",
       "      <th>0</th>\n",
       "      <td>Afghanistan</td>\n",
       "      <td>0.0798</td>\n",
       "      <td>0.0594</td>\n",
       "      <td>0.0482</td>\n",
       "      <td>0.0412</td>\n",
       "      <td>0.0406</td>\n",
       "      <td>0.0390</td>\n",
       "      <td>0.0390</td>\n",
       "      <td>0.0377</td>\n",
       "      <td>0.0364</td>\n",
       "      <td>...</td>\n",
       "      <td>0.0233</td>\n",
       "      <td>0.0227</td>\n",
       "      <td>0.0220</td>\n",
       "      <td>0.0220</td>\n",
       "      <td>0.0214</td>\n",
       "      <td>0.0204</td>\n",
       "      <td>0.0198</td>\n",
       "      <td>0.0182</td>\n",
       "      <td>0.0169</td>\n",
       "      <td>0.0150</td>\n",
       "    </tr>\n",
       "    <tr>\n",
       "      <th>1</th>\n",
       "      <td>Albania</td>\n",
       "      <td>0.0469</td>\n",
       "      <td>0.0399</td>\n",
       "      <td>0.0836</td>\n",
       "      <td>0.0266</td>\n",
       "      <td>0.0647</td>\n",
       "      <td>0.0398</td>\n",
       "      <td>0.0198</td>\n",
       "      <td>0.0286</td>\n",
       "      <td>0.0363</td>\n",
       "      <td>...</td>\n",
       "      <td>0.0273</td>\n",
       "      <td>0.0395</td>\n",
       "      <td>0.0128</td>\n",
       "      <td>0.0289</td>\n",
       "      <td>0.0105</td>\n",
       "      <td>0.0209</td>\n",
       "      <td>0.0412</td>\n",
       "      <td>0.0252</td>\n",
       "      <td>0.0108</td>\n",
       "      <td>0.0164</td>\n",
       "    </tr>\n",
       "    <tr>\n",
       "      <th>2</th>\n",
       "      <td>Algeria</td>\n",
       "      <td>0.0230</td>\n",
       "      <td>0.0275</td>\n",
       "      <td>0.1218</td>\n",
       "      <td>0.0165</td>\n",
       "      <td>0.0523</td>\n",
       "      <td>0.0334</td>\n",
       "      <td>0.0097</td>\n",
       "      <td>0.0222</td>\n",
       "      <td>0.0262</td>\n",
       "      <td>...</td>\n",
       "      <td>0.0559</td>\n",
       "      <td>0.0306</td>\n",
       "      <td>0.0157</td>\n",
       "      <td>0.0192</td>\n",
       "      <td>0.0173</td>\n",
       "      <td>0.0338</td>\n",
       "      <td>0.0294</td>\n",
       "      <td>0.0404</td>\n",
       "      <td>0.0113</td>\n",
       "      <td>0.0217</td>\n",
       "    </tr>\n",
       "    <tr>\n",
       "      <th>3</th>\n",
       "      <td>Andorra</td>\n",
       "      <td>0.0512</td>\n",
       "      <td>0.0372</td>\n",
       "      <td>0.1023</td>\n",
       "      <td>0.0279</td>\n",
       "      <td>0.0930</td>\n",
       "      <td>0.0837</td>\n",
       "      <td>0.0093</td>\n",
       "      <td>0.0279</td>\n",
       "      <td>0.0605</td>\n",
       "      <td>...</td>\n",
       "      <td>0.0233</td>\n",
       "      <td>0.0279</td>\n",
       "      <td>0.0093</td>\n",
       "      <td>0.0186</td>\n",
       "      <td>0.0093</td>\n",
       "      <td>0.0651</td>\n",
       "      <td>0.0558</td>\n",
       "      <td>0.0140</td>\n",
       "      <td>0.0326</td>\n",
       "      <td>0.0419</td>\n",
       "    </tr>\n",
       "    <tr>\n",
       "      <th>4</th>\n",
       "      <td>Angola</td>\n",
       "      <td>0.0484</td>\n",
       "      <td>0.0905</td>\n",
       "      <td>0.0771</td>\n",
       "      <td>0.0287</td>\n",
       "      <td>0.0475</td>\n",
       "      <td>0.0323</td>\n",
       "      <td>0.0108</td>\n",
       "      <td>0.0394</td>\n",
       "      <td>0.0475</td>\n",
       "      <td>...</td>\n",
       "      <td>0.0215</td>\n",
       "      <td>0.0215</td>\n",
       "      <td>0.0116</td>\n",
       "      <td>0.0134</td>\n",
       "      <td>0.0206</td>\n",
       "      <td>0.0341</td>\n",
       "      <td>0.0332</td>\n",
       "      <td>0.0269</td>\n",
       "      <td>0.0179</td>\n",
       "      <td>0.0314</td>\n",
       "    </tr>\n",
       "  </tbody>\n",
       "</table>\n",
       "<p>5 rows × 33 columns</p>\n",
       "</div>"
      ],
      "text/plain": [
       "       Country  ESTJ-A  ESFJ-A  INFP-T  ESFJ-T  ENFP-T  ENFP-A  ESTJ-T  \\\n",
       "0  Afghanistan  0.0798  0.0594  0.0482  0.0412  0.0406  0.0390  0.0390   \n",
       "1      Albania  0.0469  0.0399  0.0836  0.0266  0.0647  0.0398  0.0198   \n",
       "2      Algeria  0.0230  0.0275  0.1218  0.0165  0.0523  0.0334  0.0097   \n",
       "3      Andorra  0.0512  0.0372  0.1023  0.0279  0.0930  0.0837  0.0093   \n",
       "4       Angola  0.0484  0.0905  0.0771  0.0287  0.0475  0.0323  0.0108   \n",
       "\n",
       "   ISFJ-T  ENFJ-A  ...  INTP-A  ENTP-T  ISTP-T  ENTJ-T  ISTP-A  INFP-A  \\\n",
       "0  0.0377  0.0364  ...  0.0233  0.0227  0.0220  0.0220  0.0214  0.0204   \n",
       "1  0.0286  0.0363  ...  0.0273  0.0395  0.0128  0.0289  0.0105  0.0209   \n",
       "2  0.0222  0.0262  ...  0.0559  0.0306  0.0157  0.0192  0.0173  0.0338   \n",
       "3  0.0279  0.0605  ...  0.0233  0.0279  0.0093  0.0186  0.0093  0.0651   \n",
       "4  0.0394  0.0475  ...  0.0215  0.0215  0.0116  0.0134  0.0206  0.0341   \n",
       "\n",
       "   ENFJ-T  INTJ-A  ISFP-A  INFJ-A  \n",
       "0  0.0198  0.0182  0.0169  0.0150  \n",
       "1  0.0412  0.0252  0.0108  0.0164  \n",
       "2  0.0294  0.0404  0.0113  0.0217  \n",
       "3  0.0558  0.0140  0.0326  0.0419  \n",
       "4  0.0332  0.0269  0.0179  0.0314  \n",
       "\n",
       "[5 rows x 33 columns]"
      ]
     },
     "execution_count": 93,
     "metadata": {},
     "output_type": "execute_result"
    }
   ],
   "source": [
    "df = pd.read_csv('distribution/countries.csv')\n",
    "df[:5]"
   ]
  },
  {
   "cell_type": "code",
   "execution_count": 94,
   "id": "7d210a6d",
   "metadata": {},
   "outputs": [
    {
     "data": {
      "text/html": [
       "<div>\n",
       "<style scoped>\n",
       "    .dataframe tbody tr th:only-of-type {\n",
       "        vertical-align: middle;\n",
       "    }\n",
       "\n",
       "    .dataframe tbody tr th {\n",
       "        vertical-align: top;\n",
       "    }\n",
       "\n",
       "    .dataframe thead th {\n",
       "        text-align: right;\n",
       "    }\n",
       "</style>\n",
       "<table border=\"1\" class=\"dataframe\">\n",
       "  <thead>\n",
       "    <tr style=\"text-align: right;\">\n",
       "      <th></th>\n",
       "      <th>Country</th>\n",
       "      <th>INTJ</th>\n",
       "      <th>INTP</th>\n",
       "      <th>ENTJ</th>\n",
       "      <th>ENTP</th>\n",
       "      <th>INFJ</th>\n",
       "      <th>INFP</th>\n",
       "      <th>ENFJ</th>\n",
       "      <th>ENFP</th>\n",
       "      <th>ISTJ</th>\n",
       "      <th>ISFJ</th>\n",
       "      <th>ESTJ</th>\n",
       "      <th>ESFJ</th>\n",
       "      <th>ISTP</th>\n",
       "      <th>ISFP</th>\n",
       "      <th>ESTP</th>\n",
       "      <th>ESFP</th>\n",
       "    </tr>\n",
       "  </thead>\n",
       "  <tbody>\n",
       "    <tr>\n",
       "      <th>0</th>\n",
       "      <td>Afghanistan</td>\n",
       "      <td>0.0431</td>\n",
       "      <td>0.0549</td>\n",
       "      <td>0.0511</td>\n",
       "      <td>0.0495</td>\n",
       "      <td>0.0463</td>\n",
       "      <td>0.0686</td>\n",
       "      <td>0.0562</td>\n",
       "      <td>0.0796</td>\n",
       "      <td>0.0629</td>\n",
       "      <td>0.0610</td>\n",
       "      <td>0.1188</td>\n",
       "      <td>0.1006</td>\n",
       "      <td>0.0434</td>\n",
       "      <td>0.0460</td>\n",
       "      <td>0.0652</td>\n",
       "      <td>0.0527</td>\n",
       "    </tr>\n",
       "    <tr>\n",
       "      <th>1</th>\n",
       "      <td>Albania</td>\n",
       "      <td>0.0604</td>\n",
       "      <td>0.0754</td>\n",
       "      <td>0.0686</td>\n",
       "      <td>0.0792</td>\n",
       "      <td>0.0748</td>\n",
       "      <td>0.1045</td>\n",
       "      <td>0.0775</td>\n",
       "      <td>0.1045</td>\n",
       "      <td>0.0418</td>\n",
       "      <td>0.0449</td>\n",
       "      <td>0.0667</td>\n",
       "      <td>0.0665</td>\n",
       "      <td>0.0233</td>\n",
       "      <td>0.0334</td>\n",
       "      <td>0.0381</td>\n",
       "      <td>0.0405</td>\n",
       "    </tr>\n",
       "    <tr>\n",
       "      <th>2</th>\n",
       "      <td>Algeria</td>\n",
       "      <td>0.0896</td>\n",
       "      <td>0.1410</td>\n",
       "      <td>0.0535</td>\n",
       "      <td>0.0739</td>\n",
       "      <td>0.0800</td>\n",
       "      <td>0.1556</td>\n",
       "      <td>0.0556</td>\n",
       "      <td>0.0857</td>\n",
       "      <td>0.0320</td>\n",
       "      <td>0.0337</td>\n",
       "      <td>0.0327</td>\n",
       "      <td>0.0440</td>\n",
       "      <td>0.0330</td>\n",
       "      <td>0.0377</td>\n",
       "      <td>0.0241</td>\n",
       "      <td>0.0279</td>\n",
       "    </tr>\n",
       "    <tr>\n",
       "      <th>3</th>\n",
       "      <td>Andorra</td>\n",
       "      <td>0.0326</td>\n",
       "      <td>0.0512</td>\n",
       "      <td>0.0465</td>\n",
       "      <td>0.0372</td>\n",
       "      <td>0.0791</td>\n",
       "      <td>0.1674</td>\n",
       "      <td>0.1163</td>\n",
       "      <td>0.1767</td>\n",
       "      <td>0.0279</td>\n",
       "      <td>0.0465</td>\n",
       "      <td>0.0605</td>\n",
       "      <td>0.0651</td>\n",
       "      <td>0.0186</td>\n",
       "      <td>0.0419</td>\n",
       "      <td>0.0187</td>\n",
       "      <td>0.0372</td>\n",
       "    </tr>\n",
       "    <tr>\n",
       "      <th>4</th>\n",
       "      <td>Angola</td>\n",
       "      <td>0.0466</td>\n",
       "      <td>0.0564</td>\n",
       "      <td>0.0492</td>\n",
       "      <td>0.0448</td>\n",
       "      <td>0.0771</td>\n",
       "      <td>0.1112</td>\n",
       "      <td>0.0807</td>\n",
       "      <td>0.0798</td>\n",
       "      <td>0.0404</td>\n",
       "      <td>0.0717</td>\n",
       "      <td>0.0592</td>\n",
       "      <td>0.1192</td>\n",
       "      <td>0.0322</td>\n",
       "      <td>0.0403</td>\n",
       "      <td>0.0368</td>\n",
       "      <td>0.0547</td>\n",
       "    </tr>\n",
       "  </tbody>\n",
       "</table>\n",
       "</div>"
      ],
      "text/plain": [
       "       Country    INTJ    INTP    ENTJ    ENTP    INFJ    INFP    ENFJ  \\\n",
       "0  Afghanistan  0.0431  0.0549  0.0511  0.0495  0.0463  0.0686  0.0562   \n",
       "1      Albania  0.0604  0.0754  0.0686  0.0792  0.0748  0.1045  0.0775   \n",
       "2      Algeria  0.0896  0.1410  0.0535  0.0739  0.0800  0.1556  0.0556   \n",
       "3      Andorra  0.0326  0.0512  0.0465  0.0372  0.0791  0.1674  0.1163   \n",
       "4       Angola  0.0466  0.0564  0.0492  0.0448  0.0771  0.1112  0.0807   \n",
       "\n",
       "     ENFP    ISTJ    ISFJ    ESTJ    ESFJ    ISTP    ISFP    ESTP    ESFP  \n",
       "0  0.0796  0.0629  0.0610  0.1188  0.1006  0.0434  0.0460  0.0652  0.0527  \n",
       "1  0.1045  0.0418  0.0449  0.0667  0.0665  0.0233  0.0334  0.0381  0.0405  \n",
       "2  0.0857  0.0320  0.0337  0.0327  0.0440  0.0330  0.0377  0.0241  0.0279  \n",
       "3  0.1767  0.0279  0.0465  0.0605  0.0651  0.0186  0.0419  0.0187  0.0372  \n",
       "4  0.0798  0.0404  0.0717  0.0592  0.1192  0.0322  0.0403  0.0368  0.0547  "
      ]
     },
     "execution_count": 94,
     "metadata": {},
     "output_type": "execute_result"
    }
   ],
   "source": [
    "type_list = ['INTJ','INTP','ENTJ','ENTP','INFJ','INFP','ENFJ','ENFP','ISTJ','ISFJ','ESTJ','ESFJ','ISTP','ISFP','ESTP','ESFP']\n",
    "for type in type_list:\n",
    "    index1 = type+'-A'\n",
    "    index2 = type+'-T'\n",
    "    df[type] = df[index1] + df[index2]\n",
    "    df = df.drop([index1, index2], axis=1)\n",
    "df[:5]"
   ]
  },
  {
   "cell_type": "code",
   "execution_count": 95,
   "id": "301a0282",
   "metadata": {},
   "outputs": [],
   "source": [
    "import pycountry_convert as pc\n",
    "\n",
    "def country_to_continent(country_name):\n",
    "    country_alpha2 = pc.country_name_to_country_alpha2(country_name)\n",
    "    country_continent_code = pc.country_alpha2_to_continent_code(country_alpha2)\n",
    "    country_continent_name = pc.convert_continent_code_to_continent_name(country_continent_code)\n",
    "    return country_continent_name"
   ]
  },
  {
   "cell_type": "code",
   "execution_count": 21,
   "id": "c058bb3f",
   "metadata": {},
   "outputs": [
    {
     "data": {
      "text/plain": [
       "'Asia'"
      ]
     },
     "execution_count": 21,
     "metadata": {},
     "output_type": "execute_result"
    }
   ],
   "source": [
    "country_to_continent(\"Afghanistan\")"
   ]
  },
  {
   "cell_type": "code",
   "execution_count": 97,
   "id": "852d719c",
   "metadata": {},
   "outputs": [],
   "source": [
    "df = df.replace(\"Congo (Kinshasa)\", \"Congo\")"
   ]
  },
  {
   "cell_type": "code",
   "execution_count": 98,
   "id": "f30a5f8a",
   "metadata": {},
   "outputs": [
    {
     "data": {
      "text/html": [
       "<div>\n",
       "<style scoped>\n",
       "    .dataframe tbody tr th:only-of-type {\n",
       "        vertical-align: middle;\n",
       "    }\n",
       "\n",
       "    .dataframe tbody tr th {\n",
       "        vertical-align: top;\n",
       "    }\n",
       "\n",
       "    .dataframe thead th {\n",
       "        text-align: right;\n",
       "    }\n",
       "</style>\n",
       "<table border=\"1\" class=\"dataframe\">\n",
       "  <thead>\n",
       "    <tr style=\"text-align: right;\">\n",
       "      <th></th>\n",
       "      <th>Country</th>\n",
       "      <th>INTJ</th>\n",
       "      <th>INTP</th>\n",
       "      <th>ENTJ</th>\n",
       "      <th>ENTP</th>\n",
       "      <th>INFJ</th>\n",
       "      <th>INFP</th>\n",
       "      <th>ENFJ</th>\n",
       "      <th>ENFP</th>\n",
       "      <th>ISTJ</th>\n",
       "      <th>ISFJ</th>\n",
       "      <th>ESTJ</th>\n",
       "      <th>ESFJ</th>\n",
       "      <th>ISTP</th>\n",
       "      <th>ISFP</th>\n",
       "      <th>ESTP</th>\n",
       "      <th>ESFP</th>\n",
       "      <th>Continent</th>\n",
       "    </tr>\n",
       "  </thead>\n",
       "  <tbody>\n",
       "    <tr>\n",
       "      <th>0</th>\n",
       "      <td>Afghanistan</td>\n",
       "      <td>0.0431</td>\n",
       "      <td>0.0549</td>\n",
       "      <td>0.0511</td>\n",
       "      <td>0.0495</td>\n",
       "      <td>0.0463</td>\n",
       "      <td>0.0686</td>\n",
       "      <td>0.0562</td>\n",
       "      <td>0.0796</td>\n",
       "      <td>0.0629</td>\n",
       "      <td>0.0610</td>\n",
       "      <td>0.1188</td>\n",
       "      <td>0.1006</td>\n",
       "      <td>0.0434</td>\n",
       "      <td>0.0460</td>\n",
       "      <td>0.0652</td>\n",
       "      <td>0.0527</td>\n",
       "      <td>Afghanistan</td>\n",
       "    </tr>\n",
       "    <tr>\n",
       "      <th>1</th>\n",
       "      <td>Albania</td>\n",
       "      <td>0.0604</td>\n",
       "      <td>0.0754</td>\n",
       "      <td>0.0686</td>\n",
       "      <td>0.0792</td>\n",
       "      <td>0.0748</td>\n",
       "      <td>0.1045</td>\n",
       "      <td>0.0775</td>\n",
       "      <td>0.1045</td>\n",
       "      <td>0.0418</td>\n",
       "      <td>0.0449</td>\n",
       "      <td>0.0667</td>\n",
       "      <td>0.0665</td>\n",
       "      <td>0.0233</td>\n",
       "      <td>0.0334</td>\n",
       "      <td>0.0381</td>\n",
       "      <td>0.0405</td>\n",
       "      <td>Albania</td>\n",
       "    </tr>\n",
       "    <tr>\n",
       "      <th>2</th>\n",
       "      <td>Algeria</td>\n",
       "      <td>0.0896</td>\n",
       "      <td>0.1410</td>\n",
       "      <td>0.0535</td>\n",
       "      <td>0.0739</td>\n",
       "      <td>0.0800</td>\n",
       "      <td>0.1556</td>\n",
       "      <td>0.0556</td>\n",
       "      <td>0.0857</td>\n",
       "      <td>0.0320</td>\n",
       "      <td>0.0337</td>\n",
       "      <td>0.0327</td>\n",
       "      <td>0.0440</td>\n",
       "      <td>0.0330</td>\n",
       "      <td>0.0377</td>\n",
       "      <td>0.0241</td>\n",
       "      <td>0.0279</td>\n",
       "      <td>Algeria</td>\n",
       "    </tr>\n",
       "    <tr>\n",
       "      <th>3</th>\n",
       "      <td>Andorra</td>\n",
       "      <td>0.0326</td>\n",
       "      <td>0.0512</td>\n",
       "      <td>0.0465</td>\n",
       "      <td>0.0372</td>\n",
       "      <td>0.0791</td>\n",
       "      <td>0.1674</td>\n",
       "      <td>0.1163</td>\n",
       "      <td>0.1767</td>\n",
       "      <td>0.0279</td>\n",
       "      <td>0.0465</td>\n",
       "      <td>0.0605</td>\n",
       "      <td>0.0651</td>\n",
       "      <td>0.0186</td>\n",
       "      <td>0.0419</td>\n",
       "      <td>0.0187</td>\n",
       "      <td>0.0372</td>\n",
       "      <td>Andorra</td>\n",
       "    </tr>\n",
       "    <tr>\n",
       "      <th>4</th>\n",
       "      <td>Angola</td>\n",
       "      <td>0.0466</td>\n",
       "      <td>0.0564</td>\n",
       "      <td>0.0492</td>\n",
       "      <td>0.0448</td>\n",
       "      <td>0.0771</td>\n",
       "      <td>0.1112</td>\n",
       "      <td>0.0807</td>\n",
       "      <td>0.0798</td>\n",
       "      <td>0.0404</td>\n",
       "      <td>0.0717</td>\n",
       "      <td>0.0592</td>\n",
       "      <td>0.1192</td>\n",
       "      <td>0.0322</td>\n",
       "      <td>0.0403</td>\n",
       "      <td>0.0368</td>\n",
       "      <td>0.0547</td>\n",
       "      <td>Angola</td>\n",
       "    </tr>\n",
       "  </tbody>\n",
       "</table>\n",
       "</div>"
      ],
      "text/plain": [
       "       Country    INTJ    INTP    ENTJ    ENTP    INFJ    INFP    ENFJ  \\\n",
       "0  Afghanistan  0.0431  0.0549  0.0511  0.0495  0.0463  0.0686  0.0562   \n",
       "1      Albania  0.0604  0.0754  0.0686  0.0792  0.0748  0.1045  0.0775   \n",
       "2      Algeria  0.0896  0.1410  0.0535  0.0739  0.0800  0.1556  0.0556   \n",
       "3      Andorra  0.0326  0.0512  0.0465  0.0372  0.0791  0.1674  0.1163   \n",
       "4       Angola  0.0466  0.0564  0.0492  0.0448  0.0771  0.1112  0.0807   \n",
       "\n",
       "     ENFP    ISTJ    ISFJ    ESTJ    ESFJ    ISTP    ISFP    ESTP    ESFP  \\\n",
       "0  0.0796  0.0629  0.0610  0.1188  0.1006  0.0434  0.0460  0.0652  0.0527   \n",
       "1  0.1045  0.0418  0.0449  0.0667  0.0665  0.0233  0.0334  0.0381  0.0405   \n",
       "2  0.0857  0.0320  0.0337  0.0327  0.0440  0.0330  0.0377  0.0241  0.0279   \n",
       "3  0.1767  0.0279  0.0465  0.0605  0.0651  0.0186  0.0419  0.0187  0.0372   \n",
       "4  0.0798  0.0404  0.0717  0.0592  0.1192  0.0322  0.0403  0.0368  0.0547   \n",
       "\n",
       "     Continent  \n",
       "0  Afghanistan  \n",
       "1      Albania  \n",
       "2      Algeria  \n",
       "3      Andorra  \n",
       "4       Angola  "
      ]
     },
     "execution_count": 98,
     "metadata": {},
     "output_type": "execute_result"
    }
   ],
   "source": [
    "df['Continent'] = df['Country']\n",
    "df[:5]"
   ]
  },
  {
   "cell_type": "code",
   "execution_count": 99,
   "id": "06c187fd",
   "metadata": {},
   "outputs": [
    {
     "data": {
      "text/html": [
       "<div>\n",
       "<style scoped>\n",
       "    .dataframe tbody tr th:only-of-type {\n",
       "        vertical-align: middle;\n",
       "    }\n",
       "\n",
       "    .dataframe tbody tr th {\n",
       "        vertical-align: top;\n",
       "    }\n",
       "\n",
       "    .dataframe thead th {\n",
       "        text-align: right;\n",
       "    }\n",
       "</style>\n",
       "<table border=\"1\" class=\"dataframe\">\n",
       "  <thead>\n",
       "    <tr style=\"text-align: right;\">\n",
       "      <th></th>\n",
       "      <th>Country</th>\n",
       "      <th>INTJ</th>\n",
       "      <th>INTP</th>\n",
       "      <th>ENTJ</th>\n",
       "      <th>ENTP</th>\n",
       "      <th>INFJ</th>\n",
       "      <th>INFP</th>\n",
       "      <th>ENFJ</th>\n",
       "      <th>ENFP</th>\n",
       "      <th>ISTJ</th>\n",
       "      <th>ISFJ</th>\n",
       "      <th>ESTJ</th>\n",
       "      <th>ESFJ</th>\n",
       "      <th>ISTP</th>\n",
       "      <th>ISFP</th>\n",
       "      <th>ESTP</th>\n",
       "      <th>ESFP</th>\n",
       "      <th>Continent</th>\n",
       "    </tr>\n",
       "  </thead>\n",
       "  <tbody>\n",
       "    <tr>\n",
       "      <th>0</th>\n",
       "      <td>Afghanistan</td>\n",
       "      <td>0.0431</td>\n",
       "      <td>0.0549</td>\n",
       "      <td>0.0511</td>\n",
       "      <td>0.0495</td>\n",
       "      <td>0.0463</td>\n",
       "      <td>0.0686</td>\n",
       "      <td>0.0562</td>\n",
       "      <td>0.0796</td>\n",
       "      <td>0.0629</td>\n",
       "      <td>0.0610</td>\n",
       "      <td>0.1188</td>\n",
       "      <td>0.1006</td>\n",
       "      <td>0.0434</td>\n",
       "      <td>0.0460</td>\n",
       "      <td>0.0652</td>\n",
       "      <td>0.0527</td>\n",
       "      <td>Asia</td>\n",
       "    </tr>\n",
       "    <tr>\n",
       "      <th>1</th>\n",
       "      <td>Albania</td>\n",
       "      <td>0.0604</td>\n",
       "      <td>0.0754</td>\n",
       "      <td>0.0686</td>\n",
       "      <td>0.0792</td>\n",
       "      <td>0.0748</td>\n",
       "      <td>0.1045</td>\n",
       "      <td>0.0775</td>\n",
       "      <td>0.1045</td>\n",
       "      <td>0.0418</td>\n",
       "      <td>0.0449</td>\n",
       "      <td>0.0667</td>\n",
       "      <td>0.0665</td>\n",
       "      <td>0.0233</td>\n",
       "      <td>0.0334</td>\n",
       "      <td>0.0381</td>\n",
       "      <td>0.0405</td>\n",
       "      <td>Europe</td>\n",
       "    </tr>\n",
       "    <tr>\n",
       "      <th>2</th>\n",
       "      <td>Algeria</td>\n",
       "      <td>0.0896</td>\n",
       "      <td>0.1410</td>\n",
       "      <td>0.0535</td>\n",
       "      <td>0.0739</td>\n",
       "      <td>0.0800</td>\n",
       "      <td>0.1556</td>\n",
       "      <td>0.0556</td>\n",
       "      <td>0.0857</td>\n",
       "      <td>0.0320</td>\n",
       "      <td>0.0337</td>\n",
       "      <td>0.0327</td>\n",
       "      <td>0.0440</td>\n",
       "      <td>0.0330</td>\n",
       "      <td>0.0377</td>\n",
       "      <td>0.0241</td>\n",
       "      <td>0.0279</td>\n",
       "      <td>Africa</td>\n",
       "    </tr>\n",
       "    <tr>\n",
       "      <th>3</th>\n",
       "      <td>Andorra</td>\n",
       "      <td>0.0326</td>\n",
       "      <td>0.0512</td>\n",
       "      <td>0.0465</td>\n",
       "      <td>0.0372</td>\n",
       "      <td>0.0791</td>\n",
       "      <td>0.1674</td>\n",
       "      <td>0.1163</td>\n",
       "      <td>0.1767</td>\n",
       "      <td>0.0279</td>\n",
       "      <td>0.0465</td>\n",
       "      <td>0.0605</td>\n",
       "      <td>0.0651</td>\n",
       "      <td>0.0186</td>\n",
       "      <td>0.0419</td>\n",
       "      <td>0.0187</td>\n",
       "      <td>0.0372</td>\n",
       "      <td>Europe</td>\n",
       "    </tr>\n",
       "    <tr>\n",
       "      <th>4</th>\n",
       "      <td>Angola</td>\n",
       "      <td>0.0466</td>\n",
       "      <td>0.0564</td>\n",
       "      <td>0.0492</td>\n",
       "      <td>0.0448</td>\n",
       "      <td>0.0771</td>\n",
       "      <td>0.1112</td>\n",
       "      <td>0.0807</td>\n",
       "      <td>0.0798</td>\n",
       "      <td>0.0404</td>\n",
       "      <td>0.0717</td>\n",
       "      <td>0.0592</td>\n",
       "      <td>0.1192</td>\n",
       "      <td>0.0322</td>\n",
       "      <td>0.0403</td>\n",
       "      <td>0.0368</td>\n",
       "      <td>0.0547</td>\n",
       "      <td>Africa</td>\n",
       "    </tr>\n",
       "  </tbody>\n",
       "</table>\n",
       "</div>"
      ],
      "text/plain": [
       "       Country    INTJ    INTP    ENTJ    ENTP    INFJ    INFP    ENFJ  \\\n",
       "0  Afghanistan  0.0431  0.0549  0.0511  0.0495  0.0463  0.0686  0.0562   \n",
       "1      Albania  0.0604  0.0754  0.0686  0.0792  0.0748  0.1045  0.0775   \n",
       "2      Algeria  0.0896  0.1410  0.0535  0.0739  0.0800  0.1556  0.0556   \n",
       "3      Andorra  0.0326  0.0512  0.0465  0.0372  0.0791  0.1674  0.1163   \n",
       "4       Angola  0.0466  0.0564  0.0492  0.0448  0.0771  0.1112  0.0807   \n",
       "\n",
       "     ENFP    ISTJ    ISFJ    ESTJ    ESFJ    ISTP    ISFP    ESTP    ESFP  \\\n",
       "0  0.0796  0.0629  0.0610  0.1188  0.1006  0.0434  0.0460  0.0652  0.0527   \n",
       "1  0.1045  0.0418  0.0449  0.0667  0.0665  0.0233  0.0334  0.0381  0.0405   \n",
       "2  0.0857  0.0320  0.0337  0.0327  0.0440  0.0330  0.0377  0.0241  0.0279   \n",
       "3  0.1767  0.0279  0.0465  0.0605  0.0651  0.0186  0.0419  0.0187  0.0372   \n",
       "4  0.0798  0.0404  0.0717  0.0592  0.1192  0.0322  0.0403  0.0368  0.0547   \n",
       "\n",
       "  Continent  \n",
       "0      Asia  \n",
       "1    Europe  \n",
       "2    Africa  \n",
       "3    Europe  \n",
       "4    Africa  "
      ]
     },
     "execution_count": 99,
     "metadata": {},
     "output_type": "execute_result"
    }
   ],
   "source": [
    "df['Continent'] = df['Continent'].apply(lambda x: country_to_continent(x))\n",
    "df[:5]"
   ]
  },
  {
   "cell_type": "code",
   "execution_count": 100,
   "id": "0a01a41d",
   "metadata": {},
   "outputs": [
    {
     "data": {
      "text/html": [
       "<div>\n",
       "<style scoped>\n",
       "    .dataframe tbody tr th:only-of-type {\n",
       "        vertical-align: middle;\n",
       "    }\n",
       "\n",
       "    .dataframe tbody tr th {\n",
       "        vertical-align: top;\n",
       "    }\n",
       "\n",
       "    .dataframe thead th {\n",
       "        text-align: right;\n",
       "    }\n",
       "</style>\n",
       "<table border=\"1\" class=\"dataframe\">\n",
       "  <thead>\n",
       "    <tr style=\"text-align: right;\">\n",
       "      <th></th>\n",
       "      <th>INTJ</th>\n",
       "      <th>INTP</th>\n",
       "      <th>ENTJ</th>\n",
       "      <th>ENTP</th>\n",
       "      <th>INFJ</th>\n",
       "      <th>INFP</th>\n",
       "      <th>ENFJ</th>\n",
       "      <th>ENFP</th>\n",
       "      <th>ISTJ</th>\n",
       "      <th>ISFJ</th>\n",
       "      <th>ESTJ</th>\n",
       "      <th>ESFJ</th>\n",
       "      <th>ISTP</th>\n",
       "      <th>ISFP</th>\n",
       "      <th>ESTP</th>\n",
       "      <th>ESFP</th>\n",
       "    </tr>\n",
       "    <tr>\n",
       "      <th>Continent</th>\n",
       "      <th></th>\n",
       "      <th></th>\n",
       "      <th></th>\n",
       "      <th></th>\n",
       "      <th></th>\n",
       "      <th></th>\n",
       "      <th></th>\n",
       "      <th></th>\n",
       "      <th></th>\n",
       "      <th></th>\n",
       "      <th></th>\n",
       "      <th></th>\n",
       "      <th></th>\n",
       "      <th></th>\n",
       "      <th></th>\n",
       "      <th></th>\n",
       "    </tr>\n",
       "  </thead>\n",
       "  <tbody>\n",
       "    <tr>\n",
       "      <th>Africa</th>\n",
       "      <td>1.5361</td>\n",
       "      <td>2.2182</td>\n",
       "      <td>1.4284</td>\n",
       "      <td>1.8481</td>\n",
       "      <td>2.4949</td>\n",
       "      <td>3.8959</td>\n",
       "      <td>2.5912</td>\n",
       "      <td>3.8533</td>\n",
       "      <td>1.3882</td>\n",
       "      <td>2.4782</td>\n",
       "      <td>2.0241</td>\n",
       "      <td>3.6694</td>\n",
       "      <td>0.9165</td>\n",
       "      <td>1.7255</td>\n",
       "      <td>1.0508</td>\n",
       "      <td>1.8925</td>\n",
       "    </tr>\n",
       "    <tr>\n",
       "      <th>Asia</th>\n",
       "      <td>1.8128</td>\n",
       "      <td>2.8475</td>\n",
       "      <td>1.6686</td>\n",
       "      <td>2.3201</td>\n",
       "      <td>2.8553</td>\n",
       "      <td>5.6255</td>\n",
       "      <td>2.9612</td>\n",
       "      <td>5.1258</td>\n",
       "      <td>1.6152</td>\n",
       "      <td>2.6769</td>\n",
       "      <td>2.3795</td>\n",
       "      <td>3.7995</td>\n",
       "      <td>1.1509</td>\n",
       "      <td>2.3549</td>\n",
       "      <td>1.3136</td>\n",
       "      <td>2.4917</td>\n",
       "    </tr>\n",
       "    <tr>\n",
       "      <th>Europe</th>\n",
       "      <td>2.1849</td>\n",
       "      <td>3.6793</td>\n",
       "      <td>1.6735</td>\n",
       "      <td>2.8147</td>\n",
       "      <td>3.2210</td>\n",
       "      <td>6.4404</td>\n",
       "      <td>2.8355</td>\n",
       "      <td>5.4225</td>\n",
       "      <td>1.5558</td>\n",
       "      <td>2.1383</td>\n",
       "      <td>1.9189</td>\n",
       "      <td>2.5749</td>\n",
       "      <td>1.0976</td>\n",
       "      <td>1.7184</td>\n",
       "      <td>1.1355</td>\n",
       "      <td>1.6127</td>\n",
       "    </tr>\n",
       "    <tr>\n",
       "      <th>North America</th>\n",
       "      <td>1.0026</td>\n",
       "      <td>1.5538</td>\n",
       "      <td>0.7344</td>\n",
       "      <td>1.2099</td>\n",
       "      <td>1.7994</td>\n",
       "      <td>3.1932</td>\n",
       "      <td>1.6680</td>\n",
       "      <td>2.8708</td>\n",
       "      <td>0.9046</td>\n",
       "      <td>1.6309</td>\n",
       "      <td>0.9612</td>\n",
       "      <td>2.0623</td>\n",
       "      <td>0.5713</td>\n",
       "      <td>1.1102</td>\n",
       "      <td>0.5664</td>\n",
       "      <td>1.1338</td>\n",
       "    </tr>\n",
       "    <tr>\n",
       "      <th>Oceania</th>\n",
       "      <td>0.1514</td>\n",
       "      <td>0.2017</td>\n",
       "      <td>0.0983</td>\n",
       "      <td>0.1977</td>\n",
       "      <td>0.4022</td>\n",
       "      <td>0.6760</td>\n",
       "      <td>0.4093</td>\n",
       "      <td>0.6937</td>\n",
       "      <td>0.1502</td>\n",
       "      <td>0.3891</td>\n",
       "      <td>0.2145</td>\n",
       "      <td>0.5215</td>\n",
       "      <td>0.1022</td>\n",
       "      <td>0.3265</td>\n",
       "      <td>0.1143</td>\n",
       "      <td>0.3642</td>\n",
       "    </tr>\n",
       "    <tr>\n",
       "      <th>South America</th>\n",
       "      <td>0.5541</td>\n",
       "      <td>0.9128</td>\n",
       "      <td>0.3188</td>\n",
       "      <td>0.5511</td>\n",
       "      <td>0.7994</td>\n",
       "      <td>1.6880</td>\n",
       "      <td>0.6840</td>\n",
       "      <td>1.3160</td>\n",
       "      <td>0.3670</td>\n",
       "      <td>0.5083</td>\n",
       "      <td>0.3420</td>\n",
       "      <td>0.6355</td>\n",
       "      <td>0.2584</td>\n",
       "      <td>0.4307</td>\n",
       "      <td>0.2235</td>\n",
       "      <td>0.4103</td>\n",
       "    </tr>\n",
       "  </tbody>\n",
       "</table>\n",
       "</div>"
      ],
      "text/plain": [
       "                 INTJ    INTP    ENTJ    ENTP    INFJ    INFP    ENFJ    ENFP  \\\n",
       "Continent                                                                       \n",
       "Africa         1.5361  2.2182  1.4284  1.8481  2.4949  3.8959  2.5912  3.8533   \n",
       "Asia           1.8128  2.8475  1.6686  2.3201  2.8553  5.6255  2.9612  5.1258   \n",
       "Europe         2.1849  3.6793  1.6735  2.8147  3.2210  6.4404  2.8355  5.4225   \n",
       "North America  1.0026  1.5538  0.7344  1.2099  1.7994  3.1932  1.6680  2.8708   \n",
       "Oceania        0.1514  0.2017  0.0983  0.1977  0.4022  0.6760  0.4093  0.6937   \n",
       "South America  0.5541  0.9128  0.3188  0.5511  0.7994  1.6880  0.6840  1.3160   \n",
       "\n",
       "                 ISTJ    ISFJ    ESTJ    ESFJ    ISTP    ISFP    ESTP    ESFP  \n",
       "Continent                                                                      \n",
       "Africa         1.3882  2.4782  2.0241  3.6694  0.9165  1.7255  1.0508  1.8925  \n",
       "Asia           1.6152  2.6769  2.3795  3.7995  1.1509  2.3549  1.3136  2.4917  \n",
       "Europe         1.5558  2.1383  1.9189  2.5749  1.0976  1.7184  1.1355  1.6127  \n",
       "North America  0.9046  1.6309  0.9612  2.0623  0.5713  1.1102  0.5664  1.1338  \n",
       "Oceania        0.1502  0.3891  0.2145  0.5215  0.1022  0.3265  0.1143  0.3642  \n",
       "South America  0.3670  0.5083  0.3420  0.6355  0.2584  0.4307  0.2235  0.4103  "
      ]
     },
     "execution_count": 100,
     "metadata": {},
     "output_type": "execute_result"
    }
   ],
   "source": [
    "df2 = df.groupby(['Continent']).sum()\n",
    "df2"
   ]
  },
  {
   "cell_type": "code",
   "execution_count": 102,
   "id": "26e14326",
   "metadata": {},
   "outputs": [],
   "source": [
    "import numpy as np\n",
    "df2 = df2.div(df2.sum(axis=1), axis=0)\n",
    "# df2 = df2.mul(1000,axis=0)\n",
    "# types = ['ESTJ','ESTP','ESFJ','ESFP','ENTJ','ENTP','ENFJ','ENFP','ISTJ','ISTP','ISFJ','ISFP','INTJ','INTP','INFJ','INFP']\n",
    "# for t in types:\n",
    "#     df2[t] = df2[t].apply(np.ceil)\n",
    "# df2"
   ]
  },
  {
   "cell_type": "code",
   "execution_count": 103,
   "id": "8992b104",
   "metadata": {},
   "outputs": [
    {
     "name": "stdout",
     "output_type": "stream",
     "text": [
      "[['Africa', 'ENFJ', 0.07401039093092801], ['Africa', 'ENFP', 0.11005875245992007], ['Africa', 'ENTJ', 0.0407982565628811], ['Africa', 'ENTP', 0.05278581486548627], ['Africa', 'ESFJ', 0.10480616258179501], ['Africa', 'ESFP', 0.05405397685889982], ['Africa', 'ESTJ', 0.05781276330784632], ['Africa', 'ESTP', 0.030013167177454128], ['Africa', 'INFJ', 0.07125985039115941], ['Africa', 'INFP', 0.11127550248062767], ['Africa', 'INTJ', 0.04387440626312074], ['Africa', 'INTP', 0.06335668769797177], ['Africa', 'ISFJ', 0.07078286153327641], ['Africa', 'ISFP', 0.04928408828006957], ['Africa', 'ISTJ', 0.0396500558391148], ['Africa', 'ISTP', 0.02617726276944871], ['Asia', 'ENFJ', 0.06886671783064721], ['Asia', 'ENFP', 0.11920742342845184], ['Asia', 'ENTJ', 0.03880555361752598], ['Asia', 'ENTP', 0.053957068769041126], ['Asia', 'ESFJ', 0.08836252005860601], ['Asia', 'ESFP', 0.05794785925254075], ['Asia', 'ESTJ', 0.05533849624409869], ['Asia', 'ESTP', 0.03054954766389916], ['Asia', 'INFJ', 0.06640386985743854], ['Asia', 'INFP', 0.13082862392148653], ['Asia', 'INTJ', 0.0421591199795344], ['Asia', 'INTP', 0.06622247029000675], ['Asia', 'ISFJ', 0.06225493616130606], ['Asia', 'ISFP', 0.05476638991604455], ['Asia', 'ISTJ', 0.0375636642712621], ['Asia', 'ISTP', 0.02676573873811017], ['Europe', 'ENFJ', 0.06747350912219], ['Europe', 'ENFP', 0.1290337165279758], ['Europe', 'ENTJ', 0.03982257715252511], ['Europe', 'ENTP', 0.06697855268073645], ['Europe', 'ESFJ', 0.06127227601436325], ['Europe', 'ESFP', 0.03837578140058396], ['Europe', 'ESTJ', 0.045662111322366555], ['Europe', 'ESTP', 0.027020338426466818], ['Europe', 'INFJ', 0.07664686047701427], ['Europe', 'INFP', 0.15325564738160907], ['Europe', 'INTJ', 0.05199184273710912], ['Europe', 'INTP', 0.087552559376926], ['Europe', 'ISFJ', 0.05088294994039107], ['Europe', 'ISFP', 0.04089101677854744], ['Europe', 'ISTJ', 0.03702178998141533], ['Europe', 'ISTP', 0.026118470679779827], ['North America', 'ENFJ', 0.07260760551608862], ['North America', 'ENFP', 0.12496517620838563], ['North America', 'ENTJ', 0.03196824070204764], ['North America', 'ENTP', 0.05266663184287505], ['North America', 'ESFJ', 0.08977138180805128], ['North America', 'ESFP', 0.04935401866555229], ['North America', 'ESTJ', 0.04184078562473884], ['North America', 'ESTP', 0.024655244463017124], ['North America', 'INFJ', 0.07832741328875888], ['North America', 'INFP', 0.13899916422900133], ['North America', 'INTJ', 0.04364291684078562], ['North America', 'INTP', 0.0676365092631286], ['North America', 'ISFJ', 0.07099265217996936], ['North America', 'ISFP', 0.04832671681292661], ['North America', 'ISTJ', 0.039377002368017826], ['North America', 'ISTP', 0.024868540186655512], ['Oceania', 'ENFJ', 0.08165097350782001], ['Oceania', 'ENFP', 0.13838573252473665], ['Oceania', 'ENTJ', 0.01960979891477812], ['Oceania', 'ENTP', 0.039439036067666765], ['Oceania', 'ESFJ', 0.1040336737950846], ['Oceania', 'ESFP', 0.07265400574529203], ['Oceania', 'ESTJ', 0.04279045643153521], ['Oceania', 'ESTP', 0.022801627832748157], ['Oceania', 'INFJ', 0.08023459942547083], ['Oceania', 'INFP', 0.1348547717842324], ['Oceania', 'INTJ', 0.03020268113629107], ['Oceania', 'INTP', 0.04023699329715927], ['Oceania', 'ISFJ', 0.07762128949888288], ['Oceania', 'ISFP', 0.06513325885732524], ['Oceania', 'ISTJ', 0.029963293967443298], ['Oceania', 'ISTP', 0.020387807213533324], ['South America', 'ENFJ', 0.06840068400684007], ['South America', 'ENFP', 0.13160131601316014], ['South America', 'ENTJ', 0.031880318803188035], ['South America', 'ENTP', 0.055110551105511045], ['South America', 'ESFJ', 0.06355063550635502], ['South America', 'ESFP', 0.04103041030410302], ['South America', 'ESTJ', 0.03420034200342002], ['South America', 'ESTP', 0.022350223502235006], ['South America', 'INFJ', 0.07994079940799406], ['South America', 'INFP', 0.16880168801688017], ['South America', 'INTJ', 0.05541055410554105], ['South America', 'INTP', 0.09128091280912808], ['South America', 'ISFJ', 0.05083050830508306], ['South America', 'ISFP', 0.04307043070430702], ['South America', 'ISTJ', 0.03670036700367003], ['South America', 'ISTP', 0.025840258402584]]\n"
     ]
    }
   ],
   "source": [
    "\n",
    "data_pre = []\n",
    "types = ['ENFJ','ENFP','ENTJ','ENTP','ESFJ','ESFP','ESTJ','ESTP','INFJ','INFP','INTJ','INTP','ISFJ','ISFP','ISTJ','ISTP']\n",
    "continents = ['Africa','Asia','Europe','North America','Oceania', 'South America']\n",
    "for c in continents:\n",
    "    for t in types:\n",
    "        temp = []\n",
    "        temp.append(str(c))\n",
    "        idx = continents.index(c)\n",
    "        temp.append(str(t))\n",
    "        temp.append(df2[t][idx])\n",
    "        data_pre.append(temp)\n",
    "print(data_pre)"
   ]
  },
  {
   "cell_type": "markdown",
   "id": "cb94f528",
   "metadata": {},
   "source": [
    "# Birthday"
   ]
  },
  {
   "cell_type": "code",
   "execution_count": 55,
   "id": "01931afe",
   "metadata": {},
   "outputs": [],
   "source": [
    "import pandas as pd\n",
    "import plotly.express as px\n",
    "from datetime import datetime, date, time\n",
    "import calendar\n",
    "import plotly.graph_objects as go\n",
    "\n",
    "birthday_df = pd.read_csv('birthday/birthdays.csv')\n",
    "birthday_df.drop(labels=\"Time of Birth (not required)\",axis=1,inplace=True)\n",
    "\n",
    "birthday_df['Birthday'] = pd.to_datetime(birthday_df.Birthday)\n",
    "birthday_df['year'] = birthday_df.Birthday.dt.year\n",
    "birthday_df['month'] = birthday_df.Birthday.dt.month\n",
    "birthday_df['day'] = birthday_df.Birthday.dt.day\n",
    "\n",
    "birthday_df.rename(columns={\"MBTI Type\":\"Type\"},inplace=True)\n",
    "\n",
    "text = birthday_df.copy()\n",
    "text = text.sort_values(by='month')\n",
    "text['month'] = text['month'].apply(lambda x: calendar.month_abbr[x])"
   ]
  },
  {
   "cell_type": "code",
   "execution_count": 56,
   "id": "5a0de294",
   "metadata": {},
   "outputs": [
    {
     "data": {
      "text/html": [
       "<div>\n",
       "<style scoped>\n",
       "    .dataframe tbody tr th:only-of-type {\n",
       "        vertical-align: middle;\n",
       "    }\n",
       "\n",
       "    .dataframe tbody tr th {\n",
       "        vertical-align: top;\n",
       "    }\n",
       "\n",
       "    .dataframe thead th {\n",
       "        text-align: right;\n",
       "    }\n",
       "</style>\n",
       "<table border=\"1\" class=\"dataframe\">\n",
       "  <thead>\n",
       "    <tr style=\"text-align: right;\">\n",
       "      <th></th>\n",
       "      <th>Type</th>\n",
       "      <th>month</th>\n",
       "    </tr>\n",
       "  </thead>\n",
       "  <tbody>\n",
       "    <tr>\n",
       "      <th>256</th>\n",
       "      <td>ENTP</td>\n",
       "      <td>Jan</td>\n",
       "    </tr>\n",
       "    <tr>\n",
       "      <th>157</th>\n",
       "      <td>INTJ</td>\n",
       "      <td>Jan</td>\n",
       "    </tr>\n",
       "    <tr>\n",
       "      <th>285</th>\n",
       "      <td>INTJ</td>\n",
       "      <td>Jan</td>\n",
       "    </tr>\n",
       "    <tr>\n",
       "      <th>45</th>\n",
       "      <td>INTJ</td>\n",
       "      <td>Jan</td>\n",
       "    </tr>\n",
       "    <tr>\n",
       "      <th>47</th>\n",
       "      <td>INFP</td>\n",
       "      <td>Jan</td>\n",
       "    </tr>\n",
       "    <tr>\n",
       "      <th>...</th>\n",
       "      <td>...</td>\n",
       "      <td>...</td>\n",
       "    </tr>\n",
       "    <tr>\n",
       "      <th>261</th>\n",
       "      <td>INTJ</td>\n",
       "      <td>Dec</td>\n",
       "    </tr>\n",
       "    <tr>\n",
       "      <th>99</th>\n",
       "      <td>ESFP</td>\n",
       "      <td>Dec</td>\n",
       "    </tr>\n",
       "    <tr>\n",
       "      <th>100</th>\n",
       "      <td>INTP</td>\n",
       "      <td>Dec</td>\n",
       "    </tr>\n",
       "    <tr>\n",
       "      <th>287</th>\n",
       "      <td>INTJ</td>\n",
       "      <td>Dec</td>\n",
       "    </tr>\n",
       "    <tr>\n",
       "      <th>215</th>\n",
       "      <td>ISFJ</td>\n",
       "      <td>Dec</td>\n",
       "    </tr>\n",
       "  </tbody>\n",
       "</table>\n",
       "<p>306 rows × 2 columns</p>\n",
       "</div>"
      ],
      "text/plain": [
       "     Type month\n",
       "256  ENTP   Jan\n",
       "157  INTJ   Jan\n",
       "285  INTJ   Jan\n",
       "45   INTJ   Jan\n",
       "47   INFP   Jan\n",
       "..    ...   ...\n",
       "261  INTJ   Dec\n",
       "99   ESFP   Dec\n",
       "100  INTP   Dec\n",
       "287  INTJ   Dec\n",
       "215  ISFJ   Dec\n",
       "\n",
       "[306 rows x 2 columns]"
      ]
     },
     "execution_count": 56,
     "metadata": {},
     "output_type": "execute_result"
    }
   ],
   "source": [
    "b_df = text[['Type','month']]\n",
    "b_df"
   ]
  },
  {
   "cell_type": "code",
   "execution_count": 68,
   "id": "29001b82",
   "metadata": {},
   "outputs": [
    {
     "data": {
      "text/html": [
       "<div>\n",
       "<style scoped>\n",
       "    .dataframe tbody tr th:only-of-type {\n",
       "        vertical-align: middle;\n",
       "    }\n",
       "\n",
       "    .dataframe tbody tr th {\n",
       "        vertical-align: top;\n",
       "    }\n",
       "\n",
       "    .dataframe thead th {\n",
       "        text-align: right;\n",
       "    }\n",
       "</style>\n",
       "<table border=\"1\" class=\"dataframe\">\n",
       "  <thead>\n",
       "    <tr style=\"text-align: right;\">\n",
       "      <th></th>\n",
       "      <th>Type</th>\n",
       "      <th>month</th>\n",
       "    </tr>\n",
       "  </thead>\n",
       "  <tbody>\n",
       "    <tr>\n",
       "      <th>0</th>\n",
       "      <td>ENFJ</td>\n",
       "      <td>Jun Jun Aug Sep Sep Oct Dec</td>\n",
       "    </tr>\n",
       "    <tr>\n",
       "      <th>1</th>\n",
       "      <td>ENFP</td>\n",
       "      <td>Jan Jan Feb Feb Feb Feb Mar Mar Mar Aug Sep No...</td>\n",
       "    </tr>\n",
       "    <tr>\n",
       "      <th>2</th>\n",
       "      <td>ENTJ</td>\n",
       "      <td>Apr May Aug Aug Nov</td>\n",
       "    </tr>\n",
       "    <tr>\n",
       "      <th>3</th>\n",
       "      <td>ENTP</td>\n",
       "      <td>Jan Jan Jan Jan Feb Feb Feb Apr May Jun Jun Au...</td>\n",
       "    </tr>\n",
       "    <tr>\n",
       "      <th>4</th>\n",
       "      <td>ESFJ</td>\n",
       "      <td>Feb Dec</td>\n",
       "    </tr>\n",
       "    <tr>\n",
       "      <th>5</th>\n",
       "      <td>ESFP</td>\n",
       "      <td>Jan Apr Dec</td>\n",
       "    </tr>\n",
       "    <tr>\n",
       "      <th>6</th>\n",
       "      <td>ESTJ</td>\n",
       "      <td>Aug Sep</td>\n",
       "    </tr>\n",
       "    <tr>\n",
       "      <th>7</th>\n",
       "      <td>ESTP</td>\n",
       "      <td>Apr Apr Dec</td>\n",
       "    </tr>\n",
       "    <tr>\n",
       "      <th>8</th>\n",
       "      <td>INFJ</td>\n",
       "      <td>Jan Jan Feb Feb Apr Apr Apr Apr Apr May Jun Ju...</td>\n",
       "    </tr>\n",
       "    <tr>\n",
       "      <th>9</th>\n",
       "      <td>INFP</td>\n",
       "      <td>Jan Jan Jan Jan Jan Jan Feb Feb Feb Feb Feb Fe...</td>\n",
       "    </tr>\n",
       "    <tr>\n",
       "      <th>10</th>\n",
       "      <td>INTJ</td>\n",
       "      <td>Jan Jan Jan Jan Jan Jan Feb Feb Feb Feb Feb Fe...</td>\n",
       "    </tr>\n",
       "    <tr>\n",
       "      <th>11</th>\n",
       "      <td>INTP</td>\n",
       "      <td>Jan Jan Jan Jan Jan Feb Feb Feb Mar Mar Apr Ap...</td>\n",
       "    </tr>\n",
       "    <tr>\n",
       "      <th>12</th>\n",
       "      <td>ISFJ</td>\n",
       "      <td>Jul Jul Jul Aug Aug Oct Nov Dec</td>\n",
       "    </tr>\n",
       "    <tr>\n",
       "      <th>13</th>\n",
       "      <td>ISFP</td>\n",
       "      <td>Feb Mar Mar Jul Oct</td>\n",
       "    </tr>\n",
       "    <tr>\n",
       "      <th>14</th>\n",
       "      <td>ISTJ</td>\n",
       "      <td>Jan Feb Feb Mar Mar Apr Apr Aug Aug Sep Oct Nov</td>\n",
       "    </tr>\n",
       "    <tr>\n",
       "      <th>15</th>\n",
       "      <td>ISTP</td>\n",
       "      <td>Apr May May May May May Aug Aug Oct Oct</td>\n",
       "    </tr>\n",
       "  </tbody>\n",
       "</table>\n",
       "</div>"
      ],
      "text/plain": [
       "    Type                                              month\n",
       "0   ENFJ                        Jun Jun Aug Sep Sep Oct Dec\n",
       "1   ENFP  Jan Jan Feb Feb Feb Feb Mar Mar Mar Aug Sep No...\n",
       "2   ENTJ                                Apr May Aug Aug Nov\n",
       "3   ENTP  Jan Jan Jan Jan Feb Feb Feb Apr May Jun Jun Au...\n",
       "4   ESFJ                                            Feb Dec\n",
       "5   ESFP                                        Jan Apr Dec\n",
       "6   ESTJ                                            Aug Sep\n",
       "7   ESTP                                        Apr Apr Dec\n",
       "8   INFJ  Jan Jan Feb Feb Apr Apr Apr Apr Apr May Jun Ju...\n",
       "9   INFP  Jan Jan Jan Jan Jan Jan Feb Feb Feb Feb Feb Fe...\n",
       "10  INTJ  Jan Jan Jan Jan Jan Jan Feb Feb Feb Feb Feb Fe...\n",
       "11  INTP  Jan Jan Jan Jan Jan Feb Feb Feb Mar Mar Apr Ap...\n",
       "12  ISFJ                    Jul Jul Jul Aug Aug Oct Nov Dec\n",
       "13  ISFP                                Feb Mar Mar Jul Oct\n",
       "14  ISTJ    Jan Feb Feb Mar Mar Apr Apr Aug Aug Sep Oct Nov\n",
       "15  ISTP            Apr May May May May May Aug Aug Oct Oct"
      ]
     },
     "execution_count": 68,
     "metadata": {},
     "output_type": "execute_result"
    }
   ],
   "source": [
    "b_df2 = b_df.groupby(['Type'], as_index=False).agg({'month': ' '.join})\n",
    "b_df2"
   ]
  },
  {
   "cell_type": "code",
   "execution_count": 74,
   "id": "644af708",
   "metadata": {},
   "outputs": [
    {
     "name": "stdout",
     "output_type": "stream",
     "text": [
      "6\n"
     ]
    }
   ],
   "source": [
    "\n",
    "l = np.array(b_df2['month'][9].split()) == 'Jan'\n",
    "print(l.sum())"
   ]
  },
  {
   "cell_type": "code",
   "execution_count": 78,
   "id": "0c743889",
   "metadata": {},
   "outputs": [
    {
     "data": {
      "text/html": [
       "<div>\n",
       "<style scoped>\n",
       "    .dataframe tbody tr th:only-of-type {\n",
       "        vertical-align: middle;\n",
       "    }\n",
       "\n",
       "    .dataframe tbody tr th {\n",
       "        vertical-align: top;\n",
       "    }\n",
       "\n",
       "    .dataframe thead th {\n",
       "        text-align: right;\n",
       "    }\n",
       "</style>\n",
       "<table border=\"1\" class=\"dataframe\">\n",
       "  <thead>\n",
       "    <tr style=\"text-align: right;\">\n",
       "      <th></th>\n",
       "      <th>type</th>\n",
       "      <th>month_num</th>\n",
       "    </tr>\n",
       "  </thead>\n",
       "  <tbody>\n",
       "    <tr>\n",
       "      <th>0</th>\n",
       "      <td>ENFJ</td>\n",
       "      <td>[0, 0, 0, 0, 0, 2, 0, 1, 2, 1, 0, 1]</td>\n",
       "    </tr>\n",
       "    <tr>\n",
       "      <th>1</th>\n",
       "      <td>ENFP</td>\n",
       "      <td>[2, 4, 3, 0, 0, 0, 0, 1, 1, 0, 4, 3]</td>\n",
       "    </tr>\n",
       "    <tr>\n",
       "      <th>2</th>\n",
       "      <td>ENTJ</td>\n",
       "      <td>[0, 0, 0, 1, 1, 0, 0, 2, 0, 0, 1, 0]</td>\n",
       "    </tr>\n",
       "    <tr>\n",
       "      <th>3</th>\n",
       "      <td>ENTP</td>\n",
       "      <td>[4, 3, 0, 1, 1, 2, 0, 2, 2, 0, 3, 2]</td>\n",
       "    </tr>\n",
       "    <tr>\n",
       "      <th>4</th>\n",
       "      <td>ESFJ</td>\n",
       "      <td>[0, 1, 0, 0, 0, 0, 0, 0, 0, 0, 0, 1]</td>\n",
       "    </tr>\n",
       "    <tr>\n",
       "      <th>5</th>\n",
       "      <td>ESFP</td>\n",
       "      <td>[1, 0, 0, 1, 0, 0, 0, 0, 0, 0, 0, 1]</td>\n",
       "    </tr>\n",
       "    <tr>\n",
       "      <th>6</th>\n",
       "      <td>ESTJ</td>\n",
       "      <td>[0, 0, 0, 0, 0, 0, 0, 1, 1, 0, 0, 0]</td>\n",
       "    </tr>\n",
       "    <tr>\n",
       "      <th>7</th>\n",
       "      <td>ESTP</td>\n",
       "      <td>[0, 0, 0, 2, 0, 0, 0, 0, 0, 0, 0, 1]</td>\n",
       "    </tr>\n",
       "    <tr>\n",
       "      <th>8</th>\n",
       "      <td>INFJ</td>\n",
       "      <td>[2, 2, 0, 5, 1, 4, 5, 2, 4, 0, 1, 5]</td>\n",
       "    </tr>\n",
       "    <tr>\n",
       "      <th>9</th>\n",
       "      <td>INFP</td>\n",
       "      <td>[6, 10, 3, 6, 12, 5, 5, 3, 7, 4, 7, 4]</td>\n",
       "    </tr>\n",
       "    <tr>\n",
       "      <th>10</th>\n",
       "      <td>INTJ</td>\n",
       "      <td>[6, 7, 5, 7, 7, 6, 4, 2, 3, 5, 3, 4]</td>\n",
       "    </tr>\n",
       "    <tr>\n",
       "      <th>11</th>\n",
       "      <td>INTP</td>\n",
       "      <td>[5, 3, 2, 3, 5, 4, 4, 7, 7, 4, 3, 2]</td>\n",
       "    </tr>\n",
       "    <tr>\n",
       "      <th>12</th>\n",
       "      <td>ISFJ</td>\n",
       "      <td>[0, 0, 0, 0, 0, 0, 3, 2, 0, 1, 1, 1]</td>\n",
       "    </tr>\n",
       "    <tr>\n",
       "      <th>13</th>\n",
       "      <td>ISFP</td>\n",
       "      <td>[0, 1, 2, 0, 0, 0, 1, 0, 0, 1, 0, 0]</td>\n",
       "    </tr>\n",
       "    <tr>\n",
       "      <th>14</th>\n",
       "      <td>ISTJ</td>\n",
       "      <td>[1, 2, 2, 2, 0, 0, 0, 2, 1, 1, 1, 0]</td>\n",
       "    </tr>\n",
       "    <tr>\n",
       "      <th>15</th>\n",
       "      <td>ISTP</td>\n",
       "      <td>[0, 0, 0, 1, 5, 0, 0, 2, 0, 2, 0, 0]</td>\n",
       "    </tr>\n",
       "  </tbody>\n",
       "</table>\n",
       "</div>"
      ],
      "text/plain": [
       "    type                               month_num\n",
       "0   ENFJ    [0, 0, 0, 0, 0, 2, 0, 1, 2, 1, 0, 1]\n",
       "1   ENFP    [2, 4, 3, 0, 0, 0, 0, 1, 1, 0, 4, 3]\n",
       "2   ENTJ    [0, 0, 0, 1, 1, 0, 0, 2, 0, 0, 1, 0]\n",
       "3   ENTP    [4, 3, 0, 1, 1, 2, 0, 2, 2, 0, 3, 2]\n",
       "4   ESFJ    [0, 1, 0, 0, 0, 0, 0, 0, 0, 0, 0, 1]\n",
       "5   ESFP    [1, 0, 0, 1, 0, 0, 0, 0, 0, 0, 0, 1]\n",
       "6   ESTJ    [0, 0, 0, 0, 0, 0, 0, 1, 1, 0, 0, 0]\n",
       "7   ESTP    [0, 0, 0, 2, 0, 0, 0, 0, 0, 0, 0, 1]\n",
       "8   INFJ    [2, 2, 0, 5, 1, 4, 5, 2, 4, 0, 1, 5]\n",
       "9   INFP  [6, 10, 3, 6, 12, 5, 5, 3, 7, 4, 7, 4]\n",
       "10  INTJ    [6, 7, 5, 7, 7, 6, 4, 2, 3, 5, 3, 4]\n",
       "11  INTP    [5, 3, 2, 3, 5, 4, 4, 7, 7, 4, 3, 2]\n",
       "12  ISFJ    [0, 0, 0, 0, 0, 0, 3, 2, 0, 1, 1, 1]\n",
       "13  ISFP    [0, 1, 2, 0, 0, 0, 1, 0, 0, 1, 0, 0]\n",
       "14  ISTJ    [1, 2, 2, 2, 0, 0, 0, 2, 1, 1, 1, 0]\n",
       "15  ISTP    [0, 0, 0, 1, 5, 0, 0, 2, 0, 2, 0, 0]"
      ]
     },
     "execution_count": 78,
     "metadata": {},
     "output_type": "execute_result"
    }
   ],
   "source": [
    "types = ['ENFJ','ENFP','ENTJ','ENTP','ESFJ','ESFP','ESTJ','ESTP','INFJ','INFP','INTJ','INTP','ISFJ','ISFP','ISTJ','ISTP']\n",
    "months = ['Jan','Feb','Mar','Apr','May','Jun','Jul','Aug','Sep','Oct','Nov','Dec']\n",
    "type_month_num = []\n",
    "for i in range(16):\n",
    "    temp = list(np.zeros(12))\n",
    "    for m in months:\n",
    "        idx = months.index(m)\n",
    "        mask = np.array(b_df2['month'][i].split()) == m\n",
    "        temp[idx] = mask.sum()\n",
    "    type_month_num.append(temp)\n",
    "dict = {'type':types,'month_num':type_month_num}\n",
    "df_new = pd.DataFrame(data = dict)\n",
    "df_new"
   ]
  },
  {
   "cell_type": "code",
   "execution_count": 85,
   "id": "4e3bef71",
   "metadata": {},
   "outputs": [
    {
     "name": "stdout",
     "output_type": "stream",
     "text": [
      "[['ENFJ', 'Jan', 0], ['ENFJ', 'Feb', 0], ['ENFJ', 'Mar', 0], ['ENFJ', 'Apr', 0], ['ENFJ', 'May', 0], ['ENFJ', 'Jun', 2], ['ENFJ', 'Jul', 0], ['ENFJ', 'Aug', 1], ['ENFJ', 'Sep', 2], ['ENFJ', 'Oct', 1], ['ENFJ', 'Nov', 0], ['ENFJ', 'Dec', 1], ['ENFP', 'Jan', 2], ['ENFP', 'Feb', 4], ['ENFP', 'Mar', 3], ['ENFP', 'Apr', 0], ['ENFP', 'May', 0], ['ENFP', 'Jun', 0], ['ENFP', 'Jul', 0], ['ENFP', 'Aug', 1], ['ENFP', 'Sep', 1], ['ENFP', 'Oct', 0], ['ENFP', 'Nov', 4], ['ENFP', 'Dec', 3], ['ENTJ', 'Jan', 0], ['ENTJ', 'Feb', 0], ['ENTJ', 'Mar', 0], ['ENTJ', 'Apr', 1], ['ENTJ', 'May', 1], ['ENTJ', 'Jun', 0], ['ENTJ', 'Jul', 0], ['ENTJ', 'Aug', 2], ['ENTJ', 'Sep', 0], ['ENTJ', 'Oct', 0], ['ENTJ', 'Nov', 1], ['ENTJ', 'Dec', 0], ['ENTP', 'Jan', 4], ['ENTP', 'Feb', 3], ['ENTP', 'Mar', 0], ['ENTP', 'Apr', 1], ['ENTP', 'May', 1], ['ENTP', 'Jun', 2], ['ENTP', 'Jul', 0], ['ENTP', 'Aug', 2], ['ENTP', 'Sep', 2], ['ENTP', 'Oct', 0], ['ENTP', 'Nov', 3], ['ENTP', 'Dec', 2], ['ESFJ', 'Jan', 0], ['ESFJ', 'Feb', 1], ['ESFJ', 'Mar', 0], ['ESFJ', 'Apr', 0], ['ESFJ', 'May', 0], ['ESFJ', 'Jun', 0], ['ESFJ', 'Jul', 0], ['ESFJ', 'Aug', 0], ['ESFJ', 'Sep', 0], ['ESFJ', 'Oct', 0], ['ESFJ', 'Nov', 0], ['ESFJ', 'Dec', 1], ['ESFP', 'Jan', 1], ['ESFP', 'Feb', 0], ['ESFP', 'Mar', 0], ['ESFP', 'Apr', 1], ['ESFP', 'May', 0], ['ESFP', 'Jun', 0], ['ESFP', 'Jul', 0], ['ESFP', 'Aug', 0], ['ESFP', 'Sep', 0], ['ESFP', 'Oct', 0], ['ESFP', 'Nov', 0], ['ESFP', 'Dec', 1], ['ESTJ', 'Jan', 0], ['ESTJ', 'Feb', 0], ['ESTJ', 'Mar', 0], ['ESTJ', 'Apr', 0], ['ESTJ', 'May', 0], ['ESTJ', 'Jun', 0], ['ESTJ', 'Jul', 0], ['ESTJ', 'Aug', 1], ['ESTJ', 'Sep', 1], ['ESTJ', 'Oct', 0], ['ESTJ', 'Nov', 0], ['ESTJ', 'Dec', 0], ['ESTP', 'Jan', 0], ['ESTP', 'Feb', 0], ['ESTP', 'Mar', 0], ['ESTP', 'Apr', 2], ['ESTP', 'May', 0], ['ESTP', 'Jun', 0], ['ESTP', 'Jul', 0], ['ESTP', 'Aug', 0], ['ESTP', 'Sep', 0], ['ESTP', 'Oct', 0], ['ESTP', 'Nov', 0], ['ESTP', 'Dec', 1], ['INFJ', 'Jan', 2], ['INFJ', 'Feb', 2], ['INFJ', 'Mar', 0], ['INFJ', 'Apr', 5], ['INFJ', 'May', 1], ['INFJ', 'Jun', 4], ['INFJ', 'Jul', 5], ['INFJ', 'Aug', 2], ['INFJ', 'Sep', 4], ['INFJ', 'Oct', 0], ['INFJ', 'Nov', 1], ['INFJ', 'Dec', 5], ['INFP', 'Jan', 6], ['INFP', 'Feb', 10], ['INFP', 'Mar', 3], ['INFP', 'Apr', 6], ['INFP', 'May', 12], ['INFP', 'Jun', 5], ['INFP', 'Jul', 5], ['INFP', 'Aug', 3], ['INFP', 'Sep', 7], ['INFP', 'Oct', 4], ['INFP', 'Nov', 7], ['INFP', 'Dec', 4], ['INTJ', 'Jan', 6], ['INTJ', 'Feb', 7], ['INTJ', 'Mar', 5], ['INTJ', 'Apr', 7], ['INTJ', 'May', 7], ['INTJ', 'Jun', 6], ['INTJ', 'Jul', 4], ['INTJ', 'Aug', 2], ['INTJ', 'Sep', 3], ['INTJ', 'Oct', 5], ['INTJ', 'Nov', 3], ['INTJ', 'Dec', 4], ['INTP', 'Jan', 5], ['INTP', 'Feb', 3], ['INTP', 'Mar', 2], ['INTP', 'Apr', 3], ['INTP', 'May', 5], ['INTP', 'Jun', 4], ['INTP', 'Jul', 4], ['INTP', 'Aug', 7], ['INTP', 'Sep', 7], ['INTP', 'Oct', 4], ['INTP', 'Nov', 3], ['INTP', 'Dec', 2], ['ISFJ', 'Jan', 0], ['ISFJ', 'Feb', 0], ['ISFJ', 'Mar', 0], ['ISFJ', 'Apr', 0], ['ISFJ', 'May', 0], ['ISFJ', 'Jun', 0], ['ISFJ', 'Jul', 3], ['ISFJ', 'Aug', 2], ['ISFJ', 'Sep', 0], ['ISFJ', 'Oct', 1], ['ISFJ', 'Nov', 1], ['ISFJ', 'Dec', 1], ['ISFP', 'Jan', 0], ['ISFP', 'Feb', 1], ['ISFP', 'Mar', 2], ['ISFP', 'Apr', 0], ['ISFP', 'May', 0], ['ISFP', 'Jun', 0], ['ISFP', 'Jul', 1], ['ISFP', 'Aug', 0], ['ISFP', 'Sep', 0], ['ISFP', 'Oct', 1], ['ISFP', 'Nov', 0], ['ISFP', 'Dec', 0], ['ISTJ', 'Jan', 1], ['ISTJ', 'Feb', 2], ['ISTJ', 'Mar', 2], ['ISTJ', 'Apr', 2], ['ISTJ', 'May', 0], ['ISTJ', 'Jun', 0], ['ISTJ', 'Jul', 0], ['ISTJ', 'Aug', 2], ['ISTJ', 'Sep', 1], ['ISTJ', 'Oct', 1], ['ISTJ', 'Nov', 1], ['ISTJ', 'Dec', 0], ['ISTP', 'Jan', 0], ['ISTP', 'Feb', 0], ['ISTP', 'Mar', 0], ['ISTP', 'Apr', 1], ['ISTP', 'May', 5], ['ISTP', 'Jun', 0], ['ISTP', 'Jul', 0], ['ISTP', 'Aug', 2], ['ISTP', 'Sep', 0], ['ISTP', 'Oct', 2], ['ISTP', 'Nov', 0], ['ISTP', 'Dec', 0]]\n"
     ]
    }
   ],
   "source": [
    "data_post = []\n",
    "types = ['ENFJ','ENFP','ENTJ','ENTP','ESFJ','ESFP','ESTJ','ESTP','INFJ','INFP','INTJ','INTP','ISFJ','ISFP','ISTJ','ISTP']\n",
    "months = ['Jan','Feb','Mar','Apr','May','Jun','Jul','Aug','Sep','Oct','Nov','Dec']\n",
    "for t in types:\n",
    "    for m in months:\n",
    "        temp = []\n",
    "        temp.append(str(t))\n",
    "        temp.append(str(m))\n",
    "        idx_m = months.index(m)\n",
    "        idx_t = types.index(t)\n",
    "        temp.append(np.array(df_new['month_num'][idx_t])[idx_m])\n",
    "        data_post.append(temp)\n",
    "print(data_post)"
   ]
  },
  {
   "cell_type": "code",
   "execution_count": 86,
   "id": "54364032",
   "metadata": {},
   "outputs": [
    {
     "name": "stdout",
     "output_type": "stream",
     "text": [
      "[['a', 'b'], ['a', 'b'], ['a', 'b'], ['a', 'b']]\n"
     ]
    }
   ],
   "source": [
    "l = [['a','b'],['a','b']]\n",
    "l2 = [['a','b'],['a','b']]\n",
    "print(l+l2)"
   ]
  },
  {
   "cell_type": "code",
   "execution_count": 89,
   "id": "9868d93d",
   "metadata": {},
   "outputs": [
    {
     "name": "stdout",
     "output_type": "stream",
     "text": [
      "[['ENFJ', 'Jan', 0], ['ENFJ', 'Feb', 0], ['ENFJ', 'Mar', 0], ['ENFJ', 'Apr', 0], ['ENFJ', 'May', 0], ['ENFJ', 'Jun', 2], ['ENFJ', 'Jul', 0], ['ENFJ', 'Aug', 1], ['ENFJ', 'Sep', 2], ['ENFJ', 'Oct', 1], ['ENFJ', 'Nov', 0], ['ENFJ', 'Dec', 1], ['ENFP', 'Jan', 2], ['ENFP', 'Feb', 4], ['ENFP', 'Mar', 3], ['ENFP', 'Apr', 0], ['ENFP', 'May', 0], ['ENFP', 'Jun', 0], ['ENFP', 'Jul', 0], ['ENFP', 'Aug', 1], ['ENFP', 'Sep', 1], ['ENFP', 'Oct', 0], ['ENFP', 'Nov', 4], ['ENFP', 'Dec', 3], ['ENTJ', 'Jan', 0], ['ENTJ', 'Feb', 0], ['ENTJ', 'Mar', 0], ['ENTJ', 'Apr', 1], ['ENTJ', 'May', 1], ['ENTJ', 'Jun', 0], ['ENTJ', 'Jul', 0], ['ENTJ', 'Aug', 2], ['ENTJ', 'Sep', 0], ['ENTJ', 'Oct', 0], ['ENTJ', 'Nov', 1], ['ENTJ', 'Dec', 0], ['ENTP', 'Jan', 4], ['ENTP', 'Feb', 3], ['ENTP', 'Mar', 0], ['ENTP', 'Apr', 1], ['ENTP', 'May', 1], ['ENTP', 'Jun', 2], ['ENTP', 'Jul', 0], ['ENTP', 'Aug', 2], ['ENTP', 'Sep', 2], ['ENTP', 'Oct', 0], ['ENTP', 'Nov', 3], ['ENTP', 'Dec', 2], ['ESFJ', 'Jan', 0], ['ESFJ', 'Feb', 1], ['ESFJ', 'Mar', 0], ['ESFJ', 'Apr', 0], ['ESFJ', 'May', 0], ['ESFJ', 'Jun', 0], ['ESFJ', 'Jul', 0], ['ESFJ', 'Aug', 0], ['ESFJ', 'Sep', 0], ['ESFJ', 'Oct', 0], ['ESFJ', 'Nov', 0], ['ESFJ', 'Dec', 1], ['ESFP', 'Jan', 1], ['ESFP', 'Feb', 0], ['ESFP', 'Mar', 0], ['ESFP', 'Apr', 1], ['ESFP', 'May', 0], ['ESFP', 'Jun', 0], ['ESFP', 'Jul', 0], ['ESFP', 'Aug', 0], ['ESFP', 'Sep', 0], ['ESFP', 'Oct', 0], ['ESFP', 'Nov', 0], ['ESFP', 'Dec', 1], ['ESTJ', 'Jan', 0], ['ESTJ', 'Feb', 0], ['ESTJ', 'Mar', 0], ['ESTJ', 'Apr', 0], ['ESTJ', 'May', 0], ['ESTJ', 'Jun', 0], ['ESTJ', 'Jul', 0], ['ESTJ', 'Aug', 1], ['ESTJ', 'Sep', 1], ['ESTJ', 'Oct', 0], ['ESTJ', 'Nov', 0], ['ESTJ', 'Dec', 0], ['ESTP', 'Jan', 0], ['ESTP', 'Feb', 0], ['ESTP', 'Mar', 0], ['ESTP', 'Apr', 2], ['ESTP', 'May', 0], ['ESTP', 'Jun', 0], ['ESTP', 'Jul', 0], ['ESTP', 'Aug', 0], ['ESTP', 'Sep', 0], ['ESTP', 'Oct', 0], ['ESTP', 'Nov', 0], ['ESTP', 'Dec', 1], ['INFJ', 'Jan', 2], ['INFJ', 'Feb', 2], ['INFJ', 'Mar', 0], ['INFJ', 'Apr', 5], ['INFJ', 'May', 1], ['INFJ', 'Jun', 4], ['INFJ', 'Jul', 5], ['INFJ', 'Aug', 2], ['INFJ', 'Sep', 4], ['INFJ', 'Oct', 0], ['INFJ', 'Nov', 1], ['INFJ', 'Dec', 5], ['INFP', 'Jan', 6], ['INFP', 'Feb', 10], ['INFP', 'Mar', 3], ['INFP', 'Apr', 6], ['INFP', 'May', 12], ['INFP', 'Jun', 5], ['INFP', 'Jul', 5], ['INFP', 'Aug', 3], ['INFP', 'Sep', 7], ['INFP', 'Oct', 4], ['INFP', 'Nov', 7], ['INFP', 'Dec', 4], ['INTJ', 'Jan', 6], ['INTJ', 'Feb', 7], ['INTJ', 'Mar', 5], ['INTJ', 'Apr', 7], ['INTJ', 'May', 7], ['INTJ', 'Jun', 6], ['INTJ', 'Jul', 4], ['INTJ', 'Aug', 2], ['INTJ', 'Sep', 3], ['INTJ', 'Oct', 5], ['INTJ', 'Nov', 3], ['INTJ', 'Dec', 4], ['INTP', 'Jan', 5], ['INTP', 'Feb', 3], ['INTP', 'Mar', 2], ['INTP', 'Apr', 3], ['INTP', 'May', 5], ['INTP', 'Jun', 4], ['INTP', 'Jul', 4], ['INTP', 'Aug', 7], ['INTP', 'Sep', 7], ['INTP', 'Oct', 4], ['INTP', 'Nov', 3], ['INTP', 'Dec', 2], ['ISFJ', 'Jan', 0], ['ISFJ', 'Feb', 0], ['ISFJ', 'Mar', 0], ['ISFJ', 'Apr', 0], ['ISFJ', 'May', 0], ['ISFJ', 'Jun', 0], ['ISFJ', 'Jul', 3], ['ISFJ', 'Aug', 2], ['ISFJ', 'Sep', 0], ['ISFJ', 'Oct', 1], ['ISFJ', 'Nov', 1], ['ISFJ', 'Dec', 1], ['ISFP', 'Jan', 0], ['ISFP', 'Feb', 1], ['ISFP', 'Mar', 2], ['ISFP', 'Apr', 0], ['ISFP', 'May', 0], ['ISFP', 'Jun', 0], ['ISFP', 'Jul', 1], ['ISFP', 'Aug', 0], ['ISFP', 'Sep', 0], ['ISFP', 'Oct', 1], ['ISFP', 'Nov', 0], ['ISFP', 'Dec', 0], ['ISTJ', 'Jan', 1], ['ISTJ', 'Feb', 2], ['ISTJ', 'Mar', 2], ['ISTJ', 'Apr', 2], ['ISTJ', 'May', 0], ['ISTJ', 'Jun', 0], ['ISTJ', 'Jul', 0], ['ISTJ', 'Aug', 2], ['ISTJ', 'Sep', 1], ['ISTJ', 'Oct', 1], ['ISTJ', 'Nov', 1], ['ISTJ', 'Dec', 0], ['ISTP', 'Jan', 0], ['ISTP', 'Feb', 0], ['ISTP', 'Mar', 0], ['ISTP', 'Apr', 1], ['ISTP', 'May', 5], ['ISTP', 'Jun', 0], ['ISTP', 'Jul', 0], ['ISTP', 'Aug', 2], ['ISTP', 'Sep', 0], ['ISTP', 'Oct', 2], ['ISTP', 'Nov', 0], ['ISTP', 'Dec', 0]]\n"
     ]
    }
   ],
   "source": [
    "print(data_post)\n"
   ]
  },
  {
   "cell_type": "markdown",
   "id": "fb1d87f5",
   "metadata": {},
   "source": [
    "# Graph"
   ]
  },
  {
   "cell_type": "code",
   "execution_count": 23,
   "id": "62dd1063",
   "metadata": {},
   "outputs": [
    {
     "ename": "ValueError",
     "evalue": "Mime type rendering requires nbformat>=4.2.0 but it is not installed",
     "output_type": "error",
     "traceback": [
      "\u001b[0;31m---------------------------------------------------------------------------\u001b[0m",
      "\u001b[0;31mValueError\u001b[0m                                Traceback (most recent call last)",
      "\u001b[1;32m/Users/yannizhang/Desktop/Dataviz/datavis-project-2022-nomorebugs/data/Parellel.ipynb Cell 18'\u001b[0m in \u001b[0;36m<module>\u001b[0;34m\u001b[0m\n\u001b[1;32m      <a href='vscode-notebook-cell:/Users/yannizhang/Desktop/Dataviz/datavis-project-2022-nomorebugs/data/Parellel.ipynb#ch0000021?line=2'>3</a>\u001b[0m fig \u001b[39m=\u001b[39m go\u001b[39m.\u001b[39mFigure(data\u001b[39m=\u001b[39m[go\u001b[39m.\u001b[39mSankey(\n\u001b[1;32m      <a href='vscode-notebook-cell:/Users/yannizhang/Desktop/Dataviz/datavis-project-2022-nomorebugs/data/Parellel.ipynb#ch0000021?line=3'>4</a>\u001b[0m     node \u001b[39m=\u001b[39m \u001b[39mdict\u001b[39m(\n\u001b[1;32m      <a href='vscode-notebook-cell:/Users/yannizhang/Desktop/Dataviz/datavis-project-2022-nomorebugs/data/Parellel.ipynb#ch0000021?line=4'>5</a>\u001b[0m       pad \u001b[39m=\u001b[39m \u001b[39m15\u001b[39m,\n\u001b[0;32m   (...)\u001b[0m\n\u001b[1;32m     <a href='vscode-notebook-cell:/Users/yannizhang/Desktop/Dataviz/datavis-project-2022-nomorebugs/data/Parellel.ipynb#ch0000021?line=13'>14</a>\u001b[0m       value \u001b[39m=\u001b[39m [\u001b[39m0.8\u001b[39m, \u001b[39m0.4\u001b[39m, \u001b[39m0.2\u001b[39m, \u001b[39m0.8\u001b[39m, \u001b[39m0.4\u001b[39m, \u001b[39m0.2\u001b[39m]\n\u001b[1;32m     <a href='vscode-notebook-cell:/Users/yannizhang/Desktop/Dataviz/datavis-project-2022-nomorebugs/data/Parellel.ipynb#ch0000021?line=14'>15</a>\u001b[0m   ))])\n\u001b[1;32m     <a href='vscode-notebook-cell:/Users/yannizhang/Desktop/Dataviz/datavis-project-2022-nomorebugs/data/Parellel.ipynb#ch0000021?line=16'>17</a>\u001b[0m fig\u001b[39m.\u001b[39mupdate_layout(title_text\u001b[39m=\u001b[39m\u001b[39m\"\u001b[39m\u001b[39mBasic Sankey Diagram\u001b[39m\u001b[39m\"\u001b[39m, font_size\u001b[39m=\u001b[39m\u001b[39m10\u001b[39m)\n\u001b[0;32m---> <a href='vscode-notebook-cell:/Users/yannizhang/Desktop/Dataviz/datavis-project-2022-nomorebugs/data/Parellel.ipynb#ch0000021?line=17'>18</a>\u001b[0m fig\u001b[39m.\u001b[39;49mshow()\n",
      "File \u001b[0;32m~/opt/anaconda3/envs/cv_course/lib/python3.10/site-packages/plotly/basedatatypes.py:3398\u001b[0m, in \u001b[0;36mBaseFigure.show\u001b[0;34m(self, *args, **kwargs)\u001b[0m\n\u001b[1;32m   <a href='file:///Users/yannizhang/opt/anaconda3/envs/cv_course/lib/python3.10/site-packages/plotly/basedatatypes.py?line=3364'>3365</a>\u001b[0m \u001b[39m\"\"\"\u001b[39;00m\n\u001b[1;32m   <a href='file:///Users/yannizhang/opt/anaconda3/envs/cv_course/lib/python3.10/site-packages/plotly/basedatatypes.py?line=3365'>3366</a>\u001b[0m \u001b[39mShow a figure using either the default renderer(s) or the renderer(s)\u001b[39;00m\n\u001b[1;32m   <a href='file:///Users/yannizhang/opt/anaconda3/envs/cv_course/lib/python3.10/site-packages/plotly/basedatatypes.py?line=3366'>3367</a>\u001b[0m \u001b[39mspecified by the renderer argument\u001b[39;00m\n\u001b[0;32m   (...)\u001b[0m\n\u001b[1;32m   <a href='file:///Users/yannizhang/opt/anaconda3/envs/cv_course/lib/python3.10/site-packages/plotly/basedatatypes.py?line=3393'>3394</a>\u001b[0m \u001b[39mNone\u001b[39;00m\n\u001b[1;32m   <a href='file:///Users/yannizhang/opt/anaconda3/envs/cv_course/lib/python3.10/site-packages/plotly/basedatatypes.py?line=3394'>3395</a>\u001b[0m \u001b[39m\"\"\"\u001b[39;00m\n\u001b[1;32m   <a href='file:///Users/yannizhang/opt/anaconda3/envs/cv_course/lib/python3.10/site-packages/plotly/basedatatypes.py?line=3395'>3396</a>\u001b[0m \u001b[39mimport\u001b[39;00m \u001b[39mplotly\u001b[39;00m\u001b[39m.\u001b[39;00m\u001b[39mio\u001b[39;00m \u001b[39mas\u001b[39;00m \u001b[39mpio\u001b[39;00m\n\u001b[0;32m-> <a href='file:///Users/yannizhang/opt/anaconda3/envs/cv_course/lib/python3.10/site-packages/plotly/basedatatypes.py?line=3397'>3398</a>\u001b[0m \u001b[39mreturn\u001b[39;00m pio\u001b[39m.\u001b[39;49mshow(\u001b[39mself\u001b[39;49m, \u001b[39m*\u001b[39;49margs, \u001b[39m*\u001b[39;49m\u001b[39m*\u001b[39;49mkwargs)\n",
      "File \u001b[0;32m~/opt/anaconda3/envs/cv_course/lib/python3.10/site-packages/plotly/io/_renderers.py:397\u001b[0m, in \u001b[0;36mshow\u001b[0;34m(fig, renderer, validate, **kwargs)\u001b[0m\n\u001b[1;32m    <a href='file:///Users/yannizhang/opt/anaconda3/envs/cv_course/lib/python3.10/site-packages/plotly/io/_renderers.py?line=391'>392</a>\u001b[0m         \u001b[39mraise\u001b[39;00m \u001b[39mValueError\u001b[39;00m(\n\u001b[1;32m    <a href='file:///Users/yannizhang/opt/anaconda3/envs/cv_course/lib/python3.10/site-packages/plotly/io/_renderers.py?line=392'>393</a>\u001b[0m             \u001b[39m\"\u001b[39m\u001b[39mMime type rendering requires ipython but it is not installed\u001b[39m\u001b[39m\"\u001b[39m\n\u001b[1;32m    <a href='file:///Users/yannizhang/opt/anaconda3/envs/cv_course/lib/python3.10/site-packages/plotly/io/_renderers.py?line=393'>394</a>\u001b[0m         )\n\u001b[1;32m    <a href='file:///Users/yannizhang/opt/anaconda3/envs/cv_course/lib/python3.10/site-packages/plotly/io/_renderers.py?line=395'>396</a>\u001b[0m     \u001b[39mif\u001b[39;00m \u001b[39mnot\u001b[39;00m nbformat \u001b[39mor\u001b[39;00m LooseVersion(nbformat\u001b[39m.\u001b[39m__version__) \u001b[39m<\u001b[39m LooseVersion(\u001b[39m\"\u001b[39m\u001b[39m4.2.0\u001b[39m\u001b[39m\"\u001b[39m):\n\u001b[0;32m--> <a href='file:///Users/yannizhang/opt/anaconda3/envs/cv_course/lib/python3.10/site-packages/plotly/io/_renderers.py?line=396'>397</a>\u001b[0m         \u001b[39mraise\u001b[39;00m \u001b[39mValueError\u001b[39;00m(\n\u001b[1;32m    <a href='file:///Users/yannizhang/opt/anaconda3/envs/cv_course/lib/python3.10/site-packages/plotly/io/_renderers.py?line=397'>398</a>\u001b[0m             \u001b[39m\"\u001b[39m\u001b[39mMime type rendering requires nbformat>=4.2.0 but it is not installed\u001b[39m\u001b[39m\"\u001b[39m\n\u001b[1;32m    <a href='file:///Users/yannizhang/opt/anaconda3/envs/cv_course/lib/python3.10/site-packages/plotly/io/_renderers.py?line=398'>399</a>\u001b[0m         )\n\u001b[1;32m    <a href='file:///Users/yannizhang/opt/anaconda3/envs/cv_course/lib/python3.10/site-packages/plotly/io/_renderers.py?line=400'>401</a>\u001b[0m     ipython_display\u001b[39m.\u001b[39mdisplay(bundle, raw\u001b[39m=\u001b[39m\u001b[39mTrue\u001b[39;00m)\n\u001b[1;32m    <a href='file:///Users/yannizhang/opt/anaconda3/envs/cv_course/lib/python3.10/site-packages/plotly/io/_renderers.py?line=402'>403</a>\u001b[0m \u001b[39m# external renderers\u001b[39;00m\n",
      "\u001b[0;31mValueError\u001b[0m: Mime type rendering requires nbformat>=4.2.0 but it is not installed"
     ]
    }
   ],
   "source": [
    "import plotly.graph_objects as go\n",
    "\n",
    "fig = go.Figure(data=[go.Sankey(\n",
    "    node = dict(\n",
    "      pad = 15,\n",
    "      thickness = 20,\n",
    "      line = dict(color = \"black\", width = 0.5),\n",
    "      label = [\"A1\", \"A2\", \"B1\", \"B2\", \"C1\", \"C2\"],\n",
    "      color = \"blue\"\n",
    "    ),\n",
    "    link = dict(\n",
    "      source = [0, 1, 0, 2, 3, 3], # indices correspond to labels, eg A1, A2, A1, B1, ...\n",
    "      target = [2, 3, 3, 4, 4, 5],\n",
    "      value = [0.8, 0.4, 0.2, 0.8, 0.4, 0.2]\n",
    "  ))])\n",
    "\n",
    "fig.update_layout(title_text=\"Basic Sankey Diagram\", font_size=10)\n",
    "fig.show()"
   ]
  },
  {
   "cell_type": "code",
   "execution_count": 5,
   "id": "95e0feeb",
   "metadata": {},
   "outputs": [
    {
     "data": {
      "application/vnd.plotly.v1+json": {
       "config": {
        "plotlyServerURL": "https://plot.ly"
       },
       "data": [
        {
         "link": {
          "source": [
           0,
           1,
           0,
           2,
           3,
           3
          ],
          "target": [
           2,
           3,
           3,
           4,
           4,
           5
          ],
          "value": [
           0.8,
           0.4,
           0.2,
           0.8,
           0.4,
           0.2
          ]
         },
         "node": {
          "color": "blue",
          "label": [
           "A1",
           "A2",
           "B1",
           "B2",
           "C1",
           "C2"
          ],
          "line": {
           "color": "black",
           "width": 0.5
          },
          "pad": 15,
          "thickness": 20
         },
         "type": "sankey"
        }
       ],
       "layout": {
        "font": {
         "size": 10
        },
        "template": {
         "data": {
          "bar": [
           {
            "error_x": {
             "color": "#2a3f5f"
            },
            "error_y": {
             "color": "#2a3f5f"
            },
            "marker": {
             "line": {
              "color": "#E5ECF6",
              "width": 0.5
             },
             "pattern": {
              "fillmode": "overlay",
              "size": 10,
              "solidity": 0.2
             }
            },
            "type": "bar"
           }
          ],
          "barpolar": [
           {
            "marker": {
             "line": {
              "color": "#E5ECF6",
              "width": 0.5
             },
             "pattern": {
              "fillmode": "overlay",
              "size": 10,
              "solidity": 0.2
             }
            },
            "type": "barpolar"
           }
          ],
          "carpet": [
           {
            "aaxis": {
             "endlinecolor": "#2a3f5f",
             "gridcolor": "white",
             "linecolor": "white",
             "minorgridcolor": "white",
             "startlinecolor": "#2a3f5f"
            },
            "baxis": {
             "endlinecolor": "#2a3f5f",
             "gridcolor": "white",
             "linecolor": "white",
             "minorgridcolor": "white",
             "startlinecolor": "#2a3f5f"
            },
            "type": "carpet"
           }
          ],
          "choropleth": [
           {
            "colorbar": {
             "outlinewidth": 0,
             "ticks": ""
            },
            "type": "choropleth"
           }
          ],
          "contour": [
           {
            "colorbar": {
             "outlinewidth": 0,
             "ticks": ""
            },
            "colorscale": [
             [
              0,
              "#0d0887"
             ],
             [
              0.1111111111111111,
              "#46039f"
             ],
             [
              0.2222222222222222,
              "#7201a8"
             ],
             [
              0.3333333333333333,
              "#9c179e"
             ],
             [
              0.4444444444444444,
              "#bd3786"
             ],
             [
              0.5555555555555556,
              "#d8576b"
             ],
             [
              0.6666666666666666,
              "#ed7953"
             ],
             [
              0.7777777777777778,
              "#fb9f3a"
             ],
             [
              0.8888888888888888,
              "#fdca26"
             ],
             [
              1,
              "#f0f921"
             ]
            ],
            "type": "contour"
           }
          ],
          "contourcarpet": [
           {
            "colorbar": {
             "outlinewidth": 0,
             "ticks": ""
            },
            "type": "contourcarpet"
           }
          ],
          "heatmap": [
           {
            "colorbar": {
             "outlinewidth": 0,
             "ticks": ""
            },
            "colorscale": [
             [
              0,
              "#0d0887"
             ],
             [
              0.1111111111111111,
              "#46039f"
             ],
             [
              0.2222222222222222,
              "#7201a8"
             ],
             [
              0.3333333333333333,
              "#9c179e"
             ],
             [
              0.4444444444444444,
              "#bd3786"
             ],
             [
              0.5555555555555556,
              "#d8576b"
             ],
             [
              0.6666666666666666,
              "#ed7953"
             ],
             [
              0.7777777777777778,
              "#fb9f3a"
             ],
             [
              0.8888888888888888,
              "#fdca26"
             ],
             [
              1,
              "#f0f921"
             ]
            ],
            "type": "heatmap"
           }
          ],
          "heatmapgl": [
           {
            "colorbar": {
             "outlinewidth": 0,
             "ticks": ""
            },
            "colorscale": [
             [
              0,
              "#0d0887"
             ],
             [
              0.1111111111111111,
              "#46039f"
             ],
             [
              0.2222222222222222,
              "#7201a8"
             ],
             [
              0.3333333333333333,
              "#9c179e"
             ],
             [
              0.4444444444444444,
              "#bd3786"
             ],
             [
              0.5555555555555556,
              "#d8576b"
             ],
             [
              0.6666666666666666,
              "#ed7953"
             ],
             [
              0.7777777777777778,
              "#fb9f3a"
             ],
             [
              0.8888888888888888,
              "#fdca26"
             ],
             [
              1,
              "#f0f921"
             ]
            ],
            "type": "heatmapgl"
           }
          ],
          "histogram": [
           {
            "marker": {
             "pattern": {
              "fillmode": "overlay",
              "size": 10,
              "solidity": 0.2
             }
            },
            "type": "histogram"
           }
          ],
          "histogram2d": [
           {
            "colorbar": {
             "outlinewidth": 0,
             "ticks": ""
            },
            "colorscale": [
             [
              0,
              "#0d0887"
             ],
             [
              0.1111111111111111,
              "#46039f"
             ],
             [
              0.2222222222222222,
              "#7201a8"
             ],
             [
              0.3333333333333333,
              "#9c179e"
             ],
             [
              0.4444444444444444,
              "#bd3786"
             ],
             [
              0.5555555555555556,
              "#d8576b"
             ],
             [
              0.6666666666666666,
              "#ed7953"
             ],
             [
              0.7777777777777778,
              "#fb9f3a"
             ],
             [
              0.8888888888888888,
              "#fdca26"
             ],
             [
              1,
              "#f0f921"
             ]
            ],
            "type": "histogram2d"
           }
          ],
          "histogram2dcontour": [
           {
            "colorbar": {
             "outlinewidth": 0,
             "ticks": ""
            },
            "colorscale": [
             [
              0,
              "#0d0887"
             ],
             [
              0.1111111111111111,
              "#46039f"
             ],
             [
              0.2222222222222222,
              "#7201a8"
             ],
             [
              0.3333333333333333,
              "#9c179e"
             ],
             [
              0.4444444444444444,
              "#bd3786"
             ],
             [
              0.5555555555555556,
              "#d8576b"
             ],
             [
              0.6666666666666666,
              "#ed7953"
             ],
             [
              0.7777777777777778,
              "#fb9f3a"
             ],
             [
              0.8888888888888888,
              "#fdca26"
             ],
             [
              1,
              "#f0f921"
             ]
            ],
            "type": "histogram2dcontour"
           }
          ],
          "mesh3d": [
           {
            "colorbar": {
             "outlinewidth": 0,
             "ticks": ""
            },
            "type": "mesh3d"
           }
          ],
          "parcoords": [
           {
            "line": {
             "colorbar": {
              "outlinewidth": 0,
              "ticks": ""
             }
            },
            "type": "parcoords"
           }
          ],
          "pie": [
           {
            "automargin": true,
            "type": "pie"
           }
          ],
          "scatter": [
           {
            "marker": {
             "colorbar": {
              "outlinewidth": 0,
              "ticks": ""
             }
            },
            "type": "scatter"
           }
          ],
          "scatter3d": [
           {
            "line": {
             "colorbar": {
              "outlinewidth": 0,
              "ticks": ""
             }
            },
            "marker": {
             "colorbar": {
              "outlinewidth": 0,
              "ticks": ""
             }
            },
            "type": "scatter3d"
           }
          ],
          "scattercarpet": [
           {
            "marker": {
             "colorbar": {
              "outlinewidth": 0,
              "ticks": ""
             }
            },
            "type": "scattercarpet"
           }
          ],
          "scattergeo": [
           {
            "marker": {
             "colorbar": {
              "outlinewidth": 0,
              "ticks": ""
             }
            },
            "type": "scattergeo"
           }
          ],
          "scattergl": [
           {
            "marker": {
             "colorbar": {
              "outlinewidth": 0,
              "ticks": ""
             }
            },
            "type": "scattergl"
           }
          ],
          "scattermapbox": [
           {
            "marker": {
             "colorbar": {
              "outlinewidth": 0,
              "ticks": ""
             }
            },
            "type": "scattermapbox"
           }
          ],
          "scatterpolar": [
           {
            "marker": {
             "colorbar": {
              "outlinewidth": 0,
              "ticks": ""
             }
            },
            "type": "scatterpolar"
           }
          ],
          "scatterpolargl": [
           {
            "marker": {
             "colorbar": {
              "outlinewidth": 0,
              "ticks": ""
             }
            },
            "type": "scatterpolargl"
           }
          ],
          "scatterternary": [
           {
            "marker": {
             "colorbar": {
              "outlinewidth": 0,
              "ticks": ""
             }
            },
            "type": "scatterternary"
           }
          ],
          "surface": [
           {
            "colorbar": {
             "outlinewidth": 0,
             "ticks": ""
            },
            "colorscale": [
             [
              0,
              "#0d0887"
             ],
             [
              0.1111111111111111,
              "#46039f"
             ],
             [
              0.2222222222222222,
              "#7201a8"
             ],
             [
              0.3333333333333333,
              "#9c179e"
             ],
             [
              0.4444444444444444,
              "#bd3786"
             ],
             [
              0.5555555555555556,
              "#d8576b"
             ],
             [
              0.6666666666666666,
              "#ed7953"
             ],
             [
              0.7777777777777778,
              "#fb9f3a"
             ],
             [
              0.8888888888888888,
              "#fdca26"
             ],
             [
              1,
              "#f0f921"
             ]
            ],
            "type": "surface"
           }
          ],
          "table": [
           {
            "cells": {
             "fill": {
              "color": "#EBF0F8"
             },
             "line": {
              "color": "white"
             }
            },
            "header": {
             "fill": {
              "color": "#C8D4E3"
             },
             "line": {
              "color": "white"
             }
            },
            "type": "table"
           }
          ]
         },
         "layout": {
          "annotationdefaults": {
           "arrowcolor": "#2a3f5f",
           "arrowhead": 0,
           "arrowwidth": 1
          },
          "autotypenumbers": "strict",
          "coloraxis": {
           "colorbar": {
            "outlinewidth": 0,
            "ticks": ""
           }
          },
          "colorscale": {
           "diverging": [
            [
             0,
             "#8e0152"
            ],
            [
             0.1,
             "#c51b7d"
            ],
            [
             0.2,
             "#de77ae"
            ],
            [
             0.3,
             "#f1b6da"
            ],
            [
             0.4,
             "#fde0ef"
            ],
            [
             0.5,
             "#f7f7f7"
            ],
            [
             0.6,
             "#e6f5d0"
            ],
            [
             0.7,
             "#b8e186"
            ],
            [
             0.8,
             "#7fbc41"
            ],
            [
             0.9,
             "#4d9221"
            ],
            [
             1,
             "#276419"
            ]
           ],
           "sequential": [
            [
             0,
             "#0d0887"
            ],
            [
             0.1111111111111111,
             "#46039f"
            ],
            [
             0.2222222222222222,
             "#7201a8"
            ],
            [
             0.3333333333333333,
             "#9c179e"
            ],
            [
             0.4444444444444444,
             "#bd3786"
            ],
            [
             0.5555555555555556,
             "#d8576b"
            ],
            [
             0.6666666666666666,
             "#ed7953"
            ],
            [
             0.7777777777777778,
             "#fb9f3a"
            ],
            [
             0.8888888888888888,
             "#fdca26"
            ],
            [
             1,
             "#f0f921"
            ]
           ],
           "sequentialminus": [
            [
             0,
             "#0d0887"
            ],
            [
             0.1111111111111111,
             "#46039f"
            ],
            [
             0.2222222222222222,
             "#7201a8"
            ],
            [
             0.3333333333333333,
             "#9c179e"
            ],
            [
             0.4444444444444444,
             "#bd3786"
            ],
            [
             0.5555555555555556,
             "#d8576b"
            ],
            [
             0.6666666666666666,
             "#ed7953"
            ],
            [
             0.7777777777777778,
             "#fb9f3a"
            ],
            [
             0.8888888888888888,
             "#fdca26"
            ],
            [
             1,
             "#f0f921"
            ]
           ]
          },
          "colorway": [
           "#636efa",
           "#EF553B",
           "#00cc96",
           "#ab63fa",
           "#FFA15A",
           "#19d3f3",
           "#FF6692",
           "#B6E880",
           "#FF97FF",
           "#FECB52"
          ],
          "font": {
           "color": "#2a3f5f"
          },
          "geo": {
           "bgcolor": "white",
           "lakecolor": "white",
           "landcolor": "#E5ECF6",
           "showlakes": true,
           "showland": true,
           "subunitcolor": "white"
          },
          "hoverlabel": {
           "align": "left"
          },
          "hovermode": "closest",
          "mapbox": {
           "style": "light"
          },
          "paper_bgcolor": "white",
          "plot_bgcolor": "#E5ECF6",
          "polar": {
           "angularaxis": {
            "gridcolor": "white",
            "linecolor": "white",
            "ticks": ""
           },
           "bgcolor": "#E5ECF6",
           "radialaxis": {
            "gridcolor": "white",
            "linecolor": "white",
            "ticks": ""
           }
          },
          "scene": {
           "xaxis": {
            "backgroundcolor": "#E5ECF6",
            "gridcolor": "white",
            "gridwidth": 2,
            "linecolor": "white",
            "showbackground": true,
            "ticks": "",
            "zerolinecolor": "white"
           },
           "yaxis": {
            "backgroundcolor": "#E5ECF6",
            "gridcolor": "white",
            "gridwidth": 2,
            "linecolor": "white",
            "showbackground": true,
            "ticks": "",
            "zerolinecolor": "white"
           },
           "zaxis": {
            "backgroundcolor": "#E5ECF6",
            "gridcolor": "white",
            "gridwidth": 2,
            "linecolor": "white",
            "showbackground": true,
            "ticks": "",
            "zerolinecolor": "white"
           }
          },
          "shapedefaults": {
           "line": {
            "color": "#2a3f5f"
           }
          },
          "ternary": {
           "aaxis": {
            "gridcolor": "white",
            "linecolor": "white",
            "ticks": ""
           },
           "baxis": {
            "gridcolor": "white",
            "linecolor": "white",
            "ticks": ""
           },
           "bgcolor": "#E5ECF6",
           "caxis": {
            "gridcolor": "white",
            "linecolor": "white",
            "ticks": ""
           }
          },
          "title": {
           "x": 0.05
          },
          "xaxis": {
           "automargin": true,
           "gridcolor": "white",
           "linecolor": "white",
           "ticks": "",
           "title": {
            "standoff": 15
           },
           "zerolinecolor": "white",
           "zerolinewidth": 2
          },
          "yaxis": {
           "automargin": true,
           "gridcolor": "white",
           "linecolor": "white",
           "ticks": "",
           "title": {
            "standoff": 15
           },
           "zerolinecolor": "white",
           "zerolinewidth": 2
          }
         }
        },
        "title": {
         "text": "Basic Sankey Diagram"
        }
       }
      }
     },
     "metadata": {},
     "output_type": "display_data"
    }
   ],
   "source": [
    "import plotly.graph_objects as go\n",
    "\n",
    "fig = go.Figure(data=[go.Sankey(\n",
    "    node = dict(\n",
    "      pad = 15,\n",
    "      thickness = 20,\n",
    "      line = dict(color = \"black\", width = 0.5),\n",
    "      label = [\"A1\", \"A2\", \"B1\", \"B2\", \"C1\", \"C2\"],\n",
    "      color = \"blue\"\n",
    "    ),\n",
    "    link = dict(\n",
    "      source = [0, 1, 0, 2, 3, 3], # indices correspond to labels, eg A1, A2, A1, B1, ...\n",
    "      target = [2, 3, 3, 4, 4, 5],\n",
    "      value = [0.8, 0.4, 0.2, 0.8, 0.4, 0.2]\n",
    "  ))])\n",
    "\n",
    "fig.update_layout(title_text=\"Basic Sankey Diagram\", font_size=10)\n",
    "fig.show()"
   ]
  },
  {
   "cell_type": "code",
   "execution_count": 18,
   "id": "8af4ce9f",
   "metadata": {},
   "outputs": [
    {
     "data": {
      "text/html": [
       "<div>\n",
       "<style scoped>\n",
       "    .dataframe tbody tr th:only-of-type {\n",
       "        vertical-align: middle;\n",
       "    }\n",
       "\n",
       "    .dataframe tbody tr th {\n",
       "        vertical-align: top;\n",
       "    }\n",
       "\n",
       "    .dataframe thead th {\n",
       "        text-align: right;\n",
       "    }\n",
       "</style>\n",
       "<table border=\"1\" class=\"dataframe\">\n",
       "  <thead>\n",
       "    <tr style=\"text-align: right;\">\n",
       "      <th></th>\n",
       "      <th>PassengerId</th>\n",
       "      <th>Survived</th>\n",
       "      <th>Pclass</th>\n",
       "      <th>Name</th>\n",
       "      <th>Sex</th>\n",
       "      <th>Age</th>\n",
       "      <th>SibSp</th>\n",
       "      <th>Parch</th>\n",
       "      <th>Ticket</th>\n",
       "      <th>Fare</th>\n",
       "      <th>Cabin</th>\n",
       "      <th>Embarked</th>\n",
       "    </tr>\n",
       "  </thead>\n",
       "  <tbody>\n",
       "    <tr>\n",
       "      <th>0</th>\n",
       "      <td>1</td>\n",
       "      <td>0</td>\n",
       "      <td>3</td>\n",
       "      <td>Braund, Mr. Owen Harris</td>\n",
       "      <td>male</td>\n",
       "      <td>22.0</td>\n",
       "      <td>1</td>\n",
       "      <td>0</td>\n",
       "      <td>A/5 21171</td>\n",
       "      <td>7.2500</td>\n",
       "      <td>NaN</td>\n",
       "      <td>S</td>\n",
       "    </tr>\n",
       "    <tr>\n",
       "      <th>1</th>\n",
       "      <td>2</td>\n",
       "      <td>1</td>\n",
       "      <td>1</td>\n",
       "      <td>Cumings, Mrs. John Bradley (Florence Briggs Th...</td>\n",
       "      <td>female</td>\n",
       "      <td>38.0</td>\n",
       "      <td>1</td>\n",
       "      <td>0</td>\n",
       "      <td>PC 17599</td>\n",
       "      <td>71.2833</td>\n",
       "      <td>C85</td>\n",
       "      <td>C</td>\n",
       "    </tr>\n",
       "    <tr>\n",
       "      <th>2</th>\n",
       "      <td>3</td>\n",
       "      <td>1</td>\n",
       "      <td>3</td>\n",
       "      <td>Heikkinen, Miss. Laina</td>\n",
       "      <td>female</td>\n",
       "      <td>26.0</td>\n",
       "      <td>0</td>\n",
       "      <td>0</td>\n",
       "      <td>STON/O2. 3101282</td>\n",
       "      <td>7.9250</td>\n",
       "      <td>NaN</td>\n",
       "      <td>S</td>\n",
       "    </tr>\n",
       "    <tr>\n",
       "      <th>3</th>\n",
       "      <td>4</td>\n",
       "      <td>1</td>\n",
       "      <td>1</td>\n",
       "      <td>Futrelle, Mrs. Jacques Heath (Lily May Peel)</td>\n",
       "      <td>female</td>\n",
       "      <td>35.0</td>\n",
       "      <td>1</td>\n",
       "      <td>0</td>\n",
       "      <td>113803</td>\n",
       "      <td>53.1000</td>\n",
       "      <td>C123</td>\n",
       "      <td>S</td>\n",
       "    </tr>\n",
       "    <tr>\n",
       "      <th>4</th>\n",
       "      <td>5</td>\n",
       "      <td>0</td>\n",
       "      <td>3</td>\n",
       "      <td>Allen, Mr. William Henry</td>\n",
       "      <td>male</td>\n",
       "      <td>35.0</td>\n",
       "      <td>0</td>\n",
       "      <td>0</td>\n",
       "      <td>373450</td>\n",
       "      <td>8.0500</td>\n",
       "      <td>NaN</td>\n",
       "      <td>S</td>\n",
       "    </tr>\n",
       "    <tr>\n",
       "      <th>...</th>\n",
       "      <td>...</td>\n",
       "      <td>...</td>\n",
       "      <td>...</td>\n",
       "      <td>...</td>\n",
       "      <td>...</td>\n",
       "      <td>...</td>\n",
       "      <td>...</td>\n",
       "      <td>...</td>\n",
       "      <td>...</td>\n",
       "      <td>...</td>\n",
       "      <td>...</td>\n",
       "      <td>...</td>\n",
       "    </tr>\n",
       "    <tr>\n",
       "      <th>151</th>\n",
       "      <td>152</td>\n",
       "      <td>1</td>\n",
       "      <td>1</td>\n",
       "      <td>Pears, Mrs. Thomas (Edith Wearne)</td>\n",
       "      <td>female</td>\n",
       "      <td>22.0</td>\n",
       "      <td>1</td>\n",
       "      <td>0</td>\n",
       "      <td>113776</td>\n",
       "      <td>66.6000</td>\n",
       "      <td>C2</td>\n",
       "      <td>S</td>\n",
       "    </tr>\n",
       "    <tr>\n",
       "      <th>152</th>\n",
       "      <td>153</td>\n",
       "      <td>0</td>\n",
       "      <td>3</td>\n",
       "      <td>Meo, Mr. Alfonzo</td>\n",
       "      <td>male</td>\n",
       "      <td>55.5</td>\n",
       "      <td>0</td>\n",
       "      <td>0</td>\n",
       "      <td>A.5. 11206</td>\n",
       "      <td>8.0500</td>\n",
       "      <td>NaN</td>\n",
       "      <td>S</td>\n",
       "    </tr>\n",
       "    <tr>\n",
       "      <th>153</th>\n",
       "      <td>154</td>\n",
       "      <td>0</td>\n",
       "      <td>3</td>\n",
       "      <td>van Billiard, Mr. Austin Blyler</td>\n",
       "      <td>male</td>\n",
       "      <td>40.5</td>\n",
       "      <td>0</td>\n",
       "      <td>2</td>\n",
       "      <td>A/5. 851</td>\n",
       "      <td>14.5000</td>\n",
       "      <td>NaN</td>\n",
       "      <td>S</td>\n",
       "    </tr>\n",
       "    <tr>\n",
       "      <th>154</th>\n",
       "      <td>155</td>\n",
       "      <td>0</td>\n",
       "      <td>3</td>\n",
       "      <td>Olsen, Mr. Ole Martin</td>\n",
       "      <td>male</td>\n",
       "      <td>NaN</td>\n",
       "      <td>0</td>\n",
       "      <td>0</td>\n",
       "      <td>Fa 265302</td>\n",
       "      <td>7.3125</td>\n",
       "      <td>NaN</td>\n",
       "      <td>S</td>\n",
       "    </tr>\n",
       "    <tr>\n",
       "      <th>155</th>\n",
       "      <td>156</td>\n",
       "      <td>0</td>\n",
       "      <td>1</td>\n",
       "      <td>Williams, Mr. Charles Duane</td>\n",
       "      <td>male</td>\n",
       "      <td>51.0</td>\n",
       "      <td>0</td>\n",
       "      <td>1</td>\n",
       "      <td>PC 17597</td>\n",
       "      <td>61.3792</td>\n",
       "      <td>NaN</td>\n",
       "      <td>C</td>\n",
       "    </tr>\n",
       "  </tbody>\n",
       "</table>\n",
       "<p>156 rows × 12 columns</p>\n",
       "</div>"
      ],
      "text/plain": [
       "     PassengerId  Survived  Pclass  \\\n",
       "0              1         0       3   \n",
       "1              2         1       1   \n",
       "2              3         1       3   \n",
       "3              4         1       1   \n",
       "4              5         0       3   \n",
       "..           ...       ...     ...   \n",
       "151          152         1       1   \n",
       "152          153         0       3   \n",
       "153          154         0       3   \n",
       "154          155         0       3   \n",
       "155          156         0       1   \n",
       "\n",
       "                                                  Name     Sex   Age  SibSp  \\\n",
       "0                              Braund, Mr. Owen Harris    male  22.0      1   \n",
       "1    Cumings, Mrs. John Bradley (Florence Briggs Th...  female  38.0      1   \n",
       "2                               Heikkinen, Miss. Laina  female  26.0      0   \n",
       "3         Futrelle, Mrs. Jacques Heath (Lily May Peel)  female  35.0      1   \n",
       "4                             Allen, Mr. William Henry    male  35.0      0   \n",
       "..                                                 ...     ...   ...    ...   \n",
       "151                  Pears, Mrs. Thomas (Edith Wearne)  female  22.0      1   \n",
       "152                                   Meo, Mr. Alfonzo    male  55.5      0   \n",
       "153                    van Billiard, Mr. Austin Blyler    male  40.5      0   \n",
       "154                              Olsen, Mr. Ole Martin    male   NaN      0   \n",
       "155                        Williams, Mr. Charles Duane    male  51.0      0   \n",
       "\n",
       "     Parch            Ticket     Fare Cabin Embarked  \n",
       "0        0         A/5 21171   7.2500   NaN        S  \n",
       "1        0          PC 17599  71.2833   C85        C  \n",
       "2        0  STON/O2. 3101282   7.9250   NaN        S  \n",
       "3        0            113803  53.1000  C123        S  \n",
       "4        0            373450   8.0500   NaN        S  \n",
       "..     ...               ...      ...   ...      ...  \n",
       "151      0            113776  66.6000    C2        S  \n",
       "152      0        A.5. 11206   8.0500   NaN        S  \n",
       "153      2          A/5. 851  14.5000   NaN        S  \n",
       "154      0         Fa 265302   7.3125   NaN        S  \n",
       "155      1          PC 17597  61.3792   NaN        C  \n",
       "\n",
       "[156 rows x 12 columns]"
      ]
     },
     "execution_count": 18,
     "metadata": {},
     "output_type": "execute_result"
    }
   ],
   "source": [
    "titanic_df = pd.read_csv(\"https://raw.githubusercontent.com/plotly/datasets/master/titanic.csv\")\n",
    "titanic_df"
   ]
  },
  {
   "cell_type": "code",
   "execution_count": 19,
   "id": "55ecce0c",
   "metadata": {},
   "outputs": [
    {
     "ename": "NameError",
     "evalue": "name 'fig' is not defined",
     "output_type": "error",
     "traceback": [
      "\u001b[0;31m---------------------------------------------------------------------------\u001b[0m",
      "\u001b[0;31mNameError\u001b[0m                                 Traceback (most recent call last)",
      "\u001b[1;32m/Users/yannizhang/Desktop/Dataviz/datavis-project-2022-nomorebugs/data/Parellel.ipynb Cell 19'\u001b[0m in \u001b[0;36m<module>\u001b[0;34m\u001b[0m\n\u001b[0;32m----> <a href='vscode-notebook-cell:/Users/yannizhang/Desktop/Dataviz/datavis-project-2022-nomorebugs/data/Parellel.ipynb#ch0000018?line=0'>1</a>\u001b[0m fig\u001b[39m.\u001b[39mshow()\n",
      "\u001b[0;31mNameError\u001b[0m: name 'fig' is not defined"
     ]
    }
   ],
   "source": [
    "fig.show()"
   ]
  },
  {
   "cell_type": "code",
   "execution_count": null,
   "id": "807755fa",
   "metadata": {},
   "outputs": [],
   "source": []
  }
 ],
 "metadata": {
  "interpreter": {
   "hash": "6517b506a7c8687f025eff24878f915fb3abcdc9905de37f89bb9a9446a0779a"
  },
  "kernelspec": {
   "display_name": "Python 3.10.2 ('cv_course')",
   "language": "python",
   "name": "python3"
  },
  "language_info": {
   "codemirror_mode": {
    "name": "ipython",
    "version": 3
   },
   "file_extension": ".py",
   "mimetype": "text/x-python",
   "name": "python",
   "nbconvert_exporter": "python",
   "pygments_lexer": "ipython3",
   "version": "3.10.2"
  },
  "toc": {
   "base_numbering": 1,
   "nav_menu": {},
   "number_sections": true,
   "sideBar": true,
   "skip_h1_title": false,
   "title_cell": "Table of Contents",
   "title_sidebar": "Contents",
   "toc_cell": false,
   "toc_position": {},
   "toc_section_display": true,
   "toc_window_display": false
  }
 },
 "nbformat": 4,
 "nbformat_minor": 5
}
