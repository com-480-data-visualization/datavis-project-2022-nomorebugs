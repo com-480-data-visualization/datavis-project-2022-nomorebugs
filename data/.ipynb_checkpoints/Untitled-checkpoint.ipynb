{
 "cells": [
  {
   "cell_type": "code",
   "execution_count": 1,
   "id": "28d8dc4d-027d-45d9-9850-1cd701271135",
   "metadata": {},
   "outputs": [],
   "source": [
    "import pandas as pd\n",
    "import numpy as np"
   ]
  },
  {
   "cell_type": "code",
   "execution_count": 2,
   "id": "34ddd6ed-5f63-4898-8683-ef9f42f21254",
   "metadata": {},
   "outputs": [
    {
     "data": {
      "text/html": [
       "<div>\n",
       "<style scoped>\n",
       "    .dataframe tbody tr th:only-of-type {\n",
       "        vertical-align: middle;\n",
       "    }\n",
       "\n",
       "    .dataframe tbody tr th {\n",
       "        vertical-align: top;\n",
       "    }\n",
       "\n",
       "    .dataframe thead th {\n",
       "        text-align: right;\n",
       "    }\n",
       "</style>\n",
       "<table border=\"1\" class=\"dataframe\">\n",
       "  <thead>\n",
       "    <tr style=\"text-align: right;\">\n",
       "      <th></th>\n",
       "      <th>stat</th>\n",
       "      <th>mbti</th>\n",
       "      <th>enneagram</th>\n",
       "      <th>role</th>\n",
       "      <th>movie</th>\n",
       "      <th>img_url</th>\n",
       "    </tr>\n",
       "  </thead>\n",
       "  <tbody>\n",
       "    <tr>\n",
       "      <th>0</th>\n",
       "      <td>697 / 162</td>\n",
       "      <td>ESFP</td>\n",
       "      <td>7w6</td>\n",
       "      <td>Peter Quill \"Star-Lord\"</td>\n",
       "      <td>Marvel Cinematic Universe</td>\n",
       "      <td>https://www.personality-database.com/profile_i...</td>\n",
       "    </tr>\n",
       "    <tr>\n",
       "      <th>1</th>\n",
       "      <td>668 / 231</td>\n",
       "      <td>ESFP</td>\n",
       "      <td>8w7</td>\n",
       "      <td>Anakin Skywalker</td>\n",
       "      <td>Star Wars</td>\n",
       "      <td>https://www.personality-database.com/profile_i...</td>\n",
       "    </tr>\n",
       "    <tr>\n",
       "      <th>2</th>\n",
       "      <td>589 / 243</td>\n",
       "      <td>ESFP</td>\n",
       "      <td>6w7</td>\n",
       "      <td>Ron Weasley</td>\n",
       "      <td>Harry Potter (franchise)</td>\n",
       "      <td>https://www.personality-database.com/profile_i...</td>\n",
       "    </tr>\n",
       "    <tr>\n",
       "      <th>3</th>\n",
       "      <td>312 / 101</td>\n",
       "      <td>ESFP</td>\n",
       "      <td>7w8</td>\n",
       "      <td>Bellatrix Lestrange</td>\n",
       "      <td>Harry Potter (franchise)</td>\n",
       "      <td>https://www.personality-database.com/profile_i...</td>\n",
       "    </tr>\n",
       "    <tr>\n",
       "      <th>4</th>\n",
       "      <td>302 / 105</td>\n",
       "      <td>ESFP</td>\n",
       "      <td>7w6</td>\n",
       "      <td>Simba</td>\n",
       "      <td>The Lion King (1994)</td>\n",
       "      <td>https://www.personality-database.com/profile_i...</td>\n",
       "    </tr>\n",
       "  </tbody>\n",
       "</table>\n",
       "</div>"
      ],
      "text/plain": [
       "          stat  mbti enneagram                     role  \\\n",
       "0  697 / 162    ESFP       7w6  Peter Quill \"Star-Lord\"   \n",
       "1  668 / 231    ESFP       8w7         Anakin Skywalker   \n",
       "2  589 / 243    ESFP       6w7              Ron Weasley   \n",
       "3  312 / 101    ESFP       7w8      Bellatrix Lestrange   \n",
       "4  302 / 105    ESFP       7w6                    Simba   \n",
       "\n",
       "                          movie  \\\n",
       "0     Marvel Cinematic Universe   \n",
       "1                     Star Wars   \n",
       "2      Harry Potter (franchise)   \n",
       "3      Harry Potter (franchise)   \n",
       "4          The Lion King (1994)   \n",
       "\n",
       "                                             img_url  \n",
       "0  https://www.personality-database.com/profile_i...  \n",
       "1  https://www.personality-database.com/profile_i...  \n",
       "2  https://www.personality-database.com/profile_i...  \n",
       "3  https://www.personality-database.com/profile_i...  \n",
       "4  https://www.personality-database.com/profile_i...  "
      ]
     },
     "execution_count": 2,
     "metadata": {},
     "output_type": "execute_result"
    }
   ],
   "source": [
    "movie = pd.read_csv('movie/mbti.csv')\n",
    "movie.head()"
   ]
  },
  {
   "cell_type": "code",
   "execution_count": 3,
   "id": "a167e3b2-e564-4a34-ae0d-fab27def88d4",
   "metadata": {},
   "outputs": [
    {
     "name": "stdout",
     "output_type": "stream",
     "text": [
      "<class 'pandas.core.frame.DataFrame'>\n",
      "RangeIndex: 18741 entries, 0 to 18740\n",
      "Data columns (total 6 columns):\n",
      " #   Column     Non-Null Count  Dtype \n",
      "---  ------     --------------  ----- \n",
      " 0   stat       18476 non-null  object\n",
      " 1   mbti       18741 non-null  object\n",
      " 2   enneagram  12066 non-null  object\n",
      " 3   role       18741 non-null  object\n",
      " 4   movie      18741 non-null  object\n",
      " 5   img_url    18741 non-null  object\n",
      "dtypes: object(6)\n",
      "memory usage: 878.6+ KB\n"
     ]
    }
   ],
   "source": [
    "movie.info()"
   ]
  },
  {
   "cell_type": "code",
   "execution_count": null,
   "id": "849bffc8-fafa-41d1-b5ee-288a4dce60de",
   "metadata": {},
   "outputs": [],
   "source": []
  }
 ],
 "metadata": {
  "kernelspec": {
   "display_name": "adaexam",
   "language": "python",
   "name": "adaexam"
  },
  "language_info": {
   "codemirror_mode": {
    "name": "ipython",
    "version": 3
   },
   "file_extension": ".py",
   "mimetype": "text/x-python",
   "name": "python",
   "nbconvert_exporter": "python",
   "pygments_lexer": "ipython3",
   "version": "3.8.12"
  }
 },
 "nbformat": 4,
 "nbformat_minor": 5
}
