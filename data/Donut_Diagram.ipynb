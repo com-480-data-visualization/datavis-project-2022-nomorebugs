{
 "cells": [
  {
   "cell_type": "code",
   "execution_count": 1,
   "id": "d1a308be",
   "metadata": {},
   "outputs": [],
   "source": [
    "import pandas as pd\n",
    "import plotly.express as px\n",
    "from datetime import datetime, date, time\n",
    "import calendar\n",
    "import plotly.graph_objects as go"
   ]
  },
  {
   "cell_type": "markdown",
   "id": "d3193694",
   "metadata": {},
   "source": [
    "# Birthday dataset"
   ]
  },
  {
   "cell_type": "code",
   "execution_count": 2,
   "id": "b6b39655",
   "metadata": {},
   "outputs": [],
   "source": [
    "birthday_df = pd.read_csv('birthday/birthdays.csv')\n",
    "birthday_df.drop(labels=\"Time of Birth (not required)\",axis=1,inplace=True)\n",
    "\n",
    "birthday_df['Birthday'] = pd.to_datetime(birthday_df.Birthday)\n",
    "birthday_df['year'] = birthday_df.Birthday.dt.year\n",
    "birthday_df['month'] = birthday_df.Birthday.dt.month\n",
    "birthday_df['day'] = birthday_df.Birthday.dt.day\n",
    "\n",
    "birthday_df.rename(columns={\"MBTI Type\":\"Type\"},inplace=True)"
   ]
  },
  {
   "cell_type": "code",
   "execution_count": 3,
   "id": "9cf419a9-cc51-416f-a9fa-df8a5d4bd1dc",
   "metadata": {},
   "outputs": [],
   "source": [
    "text = birthday_df.copy()\n",
    "text = text.sort_values(by='month')\n",
    "text['month'] = text['month'].apply(lambda x: calendar.month_abbr[x])"
   ]
  },
  {
   "cell_type": "code",
   "execution_count": 4,
   "id": "ed75710f-72d1-46d1-90ac-e858deb65348",
   "metadata": {},
   "outputs": [
    {
     "data": {
      "text/html": [
       "<div>\n",
       "<style scoped>\n",
       "    .dataframe tbody tr th:only-of-type {\n",
       "        vertical-align: middle;\n",
       "    }\n",
       "\n",
       "    .dataframe tbody tr th {\n",
       "        vertical-align: top;\n",
       "    }\n",
       "\n",
       "    .dataframe thead th {\n",
       "        text-align: right;\n",
       "    }\n",
       "</style>\n",
       "<table border=\"1\" class=\"dataframe\">\n",
       "  <thead>\n",
       "    <tr style=\"text-align: right;\">\n",
       "      <th></th>\n",
       "      <th>Timestamp</th>\n",
       "      <th>Birthday</th>\n",
       "      <th>Type</th>\n",
       "      <th>year</th>\n",
       "      <th>month</th>\n",
       "      <th>day</th>\n",
       "    </tr>\n",
       "  </thead>\n",
       "  <tbody>\n",
       "    <tr>\n",
       "      <th>0</th>\n",
       "      <td>4/12/2020 17:39:37</td>\n",
       "      <td>1996-09-13</td>\n",
       "      <td>INFJ</td>\n",
       "      <td>1996</td>\n",
       "      <td>9</td>\n",
       "      <td>13</td>\n",
       "    </tr>\n",
       "    <tr>\n",
       "      <th>1</th>\n",
       "      <td>4/12/2020 17:45:59</td>\n",
       "      <td>2000-03-08</td>\n",
       "      <td>ISTJ</td>\n",
       "      <td>2000</td>\n",
       "      <td>3</td>\n",
       "      <td>8</td>\n",
       "    </tr>\n",
       "    <tr>\n",
       "      <th>2</th>\n",
       "      <td>4/12/2020 17:58:56</td>\n",
       "      <td>2000-08-20</td>\n",
       "      <td>INTP</td>\n",
       "      <td>2000</td>\n",
       "      <td>8</td>\n",
       "      <td>20</td>\n",
       "    </tr>\n",
       "    <tr>\n",
       "      <th>3</th>\n",
       "      <td>4/12/2020 18:10:25</td>\n",
       "      <td>2000-06-30</td>\n",
       "      <td>INFP</td>\n",
       "      <td>2000</td>\n",
       "      <td>6</td>\n",
       "      <td>30</td>\n",
       "    </tr>\n",
       "    <tr>\n",
       "      <th>4</th>\n",
       "      <td>4/12/2020 18:10:27</td>\n",
       "      <td>2000-06-30</td>\n",
       "      <td>INFP</td>\n",
       "      <td>2000</td>\n",
       "      <td>6</td>\n",
       "      <td>30</td>\n",
       "    </tr>\n",
       "  </tbody>\n",
       "</table>\n",
       "</div>"
      ],
      "text/plain": [
       "            Timestamp   Birthday  Type  year  month  day\n",
       "0  4/12/2020 17:39:37 1996-09-13  INFJ  1996      9   13\n",
       "1  4/12/2020 17:45:59 2000-03-08  ISTJ  2000      3    8\n",
       "2  4/12/2020 17:58:56 2000-08-20  INTP  2000      8   20\n",
       "3  4/12/2020 18:10:25 2000-06-30  INFP  2000      6   30\n",
       "4  4/12/2020 18:10:27 2000-06-30  INFP  2000      6   30"
      ]
     },
     "execution_count": 4,
     "metadata": {},
     "output_type": "execute_result"
    }
   ],
   "source": [
    "birthday_df.head()"
   ]
  },
  {
   "cell_type": "code",
   "execution_count": 5,
   "id": "6086854e-ef98-46f7-aad1-f67620f91bc6",
   "metadata": {},
   "outputs": [
    {
     "name": "stdout",
     "output_type": "stream",
     "text": [
      "['rgb(141,211,199)', 'rgb(255,255,179)', 'rgb(190,186,218)', 'rgb(251,128,114)', 'rgb(128,177,211)', 'rgb(253,180,98)', 'rgb(179,222,105)', 'rgb(252,205,229)', 'rgb(217,217,217)', 'rgb(188,128,189)', 'rgb(204,235,197)', 'rgb(255,237,111)', 'rgb(102,194,165)', 'rgb(252,141,98)', 'rgb(141,160,203)', 'rgb(231,138,195)', 'rgb(166,216,84)', 'rgb(255,217,47)', 'rgb(229,196,148)', 'rgb(179,179,179)']\n"
     ]
    }
   ],
   "source": [
    "print(px.colors.qualitative.Set3+px.colors.qualitative.Set2)"
   ]
  },
  {
   "cell_type": "code",
   "execution_count": 7,
   "id": "5a34f347-adfb-4839-9fc5-a1d177f4cbdf",
   "metadata": {},
   "outputs": [],
   "source": [
    "#Overall Histogram\n",
    "fig = px.histogram(birthday_df, x='month',color='Type',nbins=12,barnorm='percent',color_discrete_sequence=px.colors.qualitative.Set3+px.colors.qualitative.Set2)\n",
    "\n",
    "fig.update_layout(\n",
    "    width=500,\n",
    "    height=500,)\n",
    "\n",
    "fig.write_html(\"birthday_overall.html\")"
   ]
  },
  {
   "cell_type": "code",
   "execution_count": 8,
   "id": "8f2bc752-9870-4625-b6c6-fd0555fd512f",
   "metadata": {},
   "outputs": [],
   "source": [
    "#Donut charts for each month.\n",
    "type_list = ['INTJ','INTP','ENTJ','ENTP','INFJ','INFP','ENFJ','ENFP','ISTJ','ISFJ','ESTJ','ESFJ','ISTP','ISFP','ESTP','ESFP']\n",
    "for type in type_list:\n",
    "    df = text[text.Type==type]\n",
    "    fig = go.Figure(\n",
    "        data=[go.Pie(\n",
    "            labels=df['month'],\n",
    "            marker = dict(colors=px.colors.qualitative.Set3),\n",
    "            hole=.25,\n",
    "            sort=False)\n",
    "    ])\n",
    "    fig.update_layout(\n",
    "        width=500,\n",
    "        height=500,\n",
    "    )\n",
    "    name = \"birthday_\" + type + \".html\"\n",
    "    fig.write_html(name)"
   ]
  },
  {
   "cell_type": "code",
   "execution_count": null,
   "id": "a29fde95-8855-4c6d-9645-4a46a64524f7",
   "metadata": {},
   "outputs": [],
   "source": []
  }
 ],
 "metadata": {
  "kernelspec": {
   "display_name": "Python 3 (ipykernel)",
   "language": "python",
   "name": "python3"
  },
  "language_info": {
   "codemirror_mode": {
    "name": "ipython",
    "version": 3
   },
   "file_extension": ".py",
   "mimetype": "text/x-python",
   "name": "python",
   "nbconvert_exporter": "python",
   "pygments_lexer": "ipython3",
   "version": "3.8.12"
  },
  "toc": {
   "base_numbering": 1,
   "nav_menu": {},
   "number_sections": true,
   "sideBar": true,
   "skip_h1_title": false,
   "title_cell": "Table of Contents",
   "title_sidebar": "Contents",
   "toc_cell": false,
   "toc_position": {},
   "toc_section_display": true,
   "toc_window_display": false
  }
 },
 "nbformat": 4,
 "nbformat_minor": 5
}
